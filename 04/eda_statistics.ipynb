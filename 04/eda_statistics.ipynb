{
 "cells": [
  {
   "cell_type": "markdown",
   "metadata": {
    "toc-hr-collapsed": false
   },
   "source": [
    "# Basics of Exploratory data analysis and statistics\n",
    "In this lesson, we will look at the basic tools and procedures that are useful for analyzing a single variable. So we will not deal with the relationships and connections between several variables - this will be the subject of many other lessons. For this purpose, we will have a look at a simpler dataset. Visualizations which you have learned in previous lesson will help us here as well.\n",
    "In order to work effectively with the data, we will still have to transform and purify the data, so called data cleaning and we will have a look at a more complex procedure. This is (unfortunately) a common part of data analysis, because the source data is typically not completely organized and often contains errors. \n",
    "Let's also have a look at the basics of statistics. We will learn how to work with the terms mean, standard deviation, median, quantile or quartile. \n",
    "In this lesson you will learn:\n",
    "* read data from Excel files,\n",
    "* efficiently clean and transform data into \"ordered data\",\n",
    "* basic statistics of one variable, including the distribution function,\n"
   ]
  },
  {
   "cell_type": "markdown",
   "metadata": {},
   "source": [
    "## Load libraries\n",
    "We will of course use `pandas`, then [`matplotlib`](https://matplotlib.org/) and [`seaborn`](https://seaborn.pydata.org/) for visualization."
   ]
  },
  {
   "cell_type": "code",
   "execution_count": 2,
   "metadata": {},
   "outputs": [],
   "source": [
    "import pandas as pd\n",
    "import numpy as np"
   ]
  },
  {
   "cell_type": "code",
   "execution_count": 3,
   "metadata": {},
   "outputs": [],
   "source": [
    "import seaborn as sns\n",
    "import matplotlib.pyplot as plt"
   ]
  },
  {
   "cell_type": "markdown",
   "metadata": {},
   "source": [
    "## Data preparation"
   ]
  },
  {
   "cell_type": "markdown",
   "metadata": {},
   "source": [
    "### Load raw data - weather"
   ]
  },
  {
   "cell_type": "markdown",
   "metadata": {},
   "source": [
    "Our basic data set will be weather data, specifically in Prague - Ruzyně. The data are provided by the Czech Hydrometeorological Institute (CHMI) in the form of Excel files, available from http://portal.chmi.cz/historicka-data/pocasi/denni-data/data-ze-stanic-site-RBCN.\n",
    "Getting data is usually hard part of any analysis. Until recently a concept of open data was not completely recognized and in some countries it is a constant fight. Austria is not really good example in open access to information. \n",
    "\n",
    "If we have a closer look at sheets in Excel file, we can clearly see that data are awkwardly organized even for usage in Excel. Working with them without cleaning would be a challenge. "
   ]
  },
  {
   "cell_type": "markdown",
   "metadata": {},
   "source": [
    "Loading the file itself is relatively easy. We will use the `ExcelFile` class for this, because in addition to loading, it also provides the `sheet_names` property.\n",
    "Often it is enough (and easier) to use the [`read_excel`](https://pandas.pydata.org/pandas-docs/stable/reference/api/pandas.read_excel.html#pandas.read_excel) function. Notice the large number of arguments in the documentation that allow you to properly load all-formatted files and the values in them."
   ]
  },
  {
   "cell_type": "code",
   "execution_count": 6,
   "metadata": {},
   "outputs": [],
   "source": [
    "RUZYNE_DATA_FILENAME = \"P1PRUZ01.xlsx\""
   ]
  },
  {
   "cell_type": "code",
   "execution_count": 7,
   "metadata": {},
   "outputs": [],
   "source": [
    "# open Excel \n",
    "excel_data_ruzyne = pd.ExcelFile(RUZYNE_DATA_FILENAME)"
   ]
  },
  {
   "cell_type": "markdown",
   "metadata": {},
   "source": [
    "We will display a list of sheets in the file."
   ]
  },
  {
   "cell_type": "code",
   "execution_count": 8,
   "metadata": {},
   "outputs": [
    {
     "data": {
      "text/plain": [
       "['station geography',\n",
       " 'average temperature',\n",
       " 'max temperature',\n",
       " 'min temperature',\n",
       " 'wind speed',\n",
       " 'atmospheric pressure',\n",
       " 'humidity',\n",
       " 'precipitation',\n",
       " 'total snow depth',\n",
       " 'sunshine']"
      ]
     },
     "execution_count": 8,
     "metadata": {},
     "output_type": "execute_result"
    }
   ],
   "source": [
    "excel_data_ruzyne.sheet_names"
   ]
  },
  {
   "cell_type": "markdown",
   "metadata": {},
   "source": [
    "We haven't loaded any data yet (we don't have any `DataFrame` with data from the file). We will use method [`parse`](https://pandas.pydata.org/pandas-docs/stable/reference/api/pandas.ExcelFile.parse.html#pandas.ExcelFile.parse) in order to load data into dataframe from a single sheet."
   ]
  },
  {
   "cell_type": "code",
   "execution_count": 12,
   "metadata": {},
   "outputs": [
    {
     "data": {
      "text/html": [
       "<div>\n",
       "<style scoped>\n",
       "    .dataframe tbody tr th:only-of-type {\n",
       "        vertical-align: middle;\n",
       "    }\n",
       "\n",
       "    .dataframe tbody tr th {\n",
       "        vertical-align: top;\n",
       "    }\n",
       "\n",
       "    .dataframe thead th {\n",
       "        text-align: right;\n",
       "    }\n",
       "</style>\n",
       "<table border=\"1\" class=\"dataframe\">\n",
       "  <thead>\n",
       "    <tr style=\"text-align: right;\">\n",
       "      <th></th>\n",
       "      <th>Average daily temperature of air in °C</th>\n",
       "      <th>Unnamed: 1</th>\n",
       "      <th>Unnamed: 2</th>\n",
       "      <th>Unnamed: 3</th>\n",
       "      <th>Unnamed: 4</th>\n",
       "      <th>Unnamed: 5</th>\n",
       "      <th>Unnamed: 6</th>\n",
       "      <th>Unnamed: 7</th>\n",
       "      <th>Unnamed: 8</th>\n",
       "      <th>Unnamed: 9</th>\n",
       "      <th>...</th>\n",
       "      <th>Unnamed: 23</th>\n",
       "      <th>Unnamed: 24</th>\n",
       "      <th>Unnamed: 25</th>\n",
       "      <th>Unnamed: 26</th>\n",
       "      <th>Unnamed: 27</th>\n",
       "      <th>Unnamed: 28</th>\n",
       "      <th>Unnamed: 29</th>\n",
       "      <th>Unnamed: 30</th>\n",
       "      <th>Unnamed: 31</th>\n",
       "      <th>Unnamed: 32</th>\n",
       "    </tr>\n",
       "  </thead>\n",
       "  <tbody>\n",
       "    <tr>\n",
       "      <th>0</th>\n",
       "      <td>station: P1PRUZ01</td>\n",
       "      <td>NaN</td>\n",
       "      <td>NaN</td>\n",
       "      <td>NaN</td>\n",
       "      <td>NaN</td>\n",
       "      <td>NaN</td>\n",
       "      <td>NaN</td>\n",
       "      <td>NaN</td>\n",
       "      <td>NaN</td>\n",
       "      <td>NaN</td>\n",
       "      <td>...</td>\n",
       "      <td>NaN</td>\n",
       "      <td>NaN</td>\n",
       "      <td>NaN</td>\n",
       "      <td>NaN</td>\n",
       "      <td>NaN</td>\n",
       "      <td>NaN</td>\n",
       "      <td>NaN</td>\n",
       "      <td>NaN</td>\n",
       "      <td>NaN</td>\n",
       "      <td>NaN</td>\n",
       "    </tr>\n",
       "    <tr>\n",
       "      <th>1</th>\n",
       "      <td>NaN</td>\n",
       "      <td>NaN</td>\n",
       "      <td>NaN</td>\n",
       "      <td>NaN</td>\n",
       "      <td>NaN</td>\n",
       "      <td>NaN</td>\n",
       "      <td>NaN</td>\n",
       "      <td>NaN</td>\n",
       "      <td>NaN</td>\n",
       "      <td>NaN</td>\n",
       "      <td>...</td>\n",
       "      <td>NaN</td>\n",
       "      <td>NaN</td>\n",
       "      <td>NaN</td>\n",
       "      <td>NaN</td>\n",
       "      <td>NaN</td>\n",
       "      <td>NaN</td>\n",
       "      <td>NaN</td>\n",
       "      <td>NaN</td>\n",
       "      <td>NaN</td>\n",
       "      <td>NaN</td>\n",
       "    </tr>\n",
       "    <tr>\n",
       "      <th>2</th>\n",
       "      <td>year</td>\n",
       "      <td>month</td>\n",
       "      <td>1.0</td>\n",
       "      <td>2.0</td>\n",
       "      <td>3.0</td>\n",
       "      <td>4.0</td>\n",
       "      <td>5.0</td>\n",
       "      <td>6.0</td>\n",
       "      <td>7.0</td>\n",
       "      <td>8.0</td>\n",
       "      <td>...</td>\n",
       "      <td>22.0</td>\n",
       "      <td>23.0</td>\n",
       "      <td>24.0</td>\n",
       "      <td>25.0</td>\n",
       "      <td>26.0</td>\n",
       "      <td>27.0</td>\n",
       "      <td>28.0</td>\n",
       "      <td>29.0</td>\n",
       "      <td>30.0</td>\n",
       "      <td>31.0</td>\n",
       "    </tr>\n",
       "    <tr>\n",
       "      <th>3</th>\n",
       "      <td>1961</td>\n",
       "      <td>01</td>\n",
       "      <td>-2.0</td>\n",
       "      <td>-1.9</td>\n",
       "      <td>0.1</td>\n",
       "      <td>-0.3</td>\n",
       "      <td>0.4</td>\n",
       "      <td>-0.3</td>\n",
       "      <td>0.8</td>\n",
       "      <td>1.0</td>\n",
       "      <td>...</td>\n",
       "      <td>-2.4</td>\n",
       "      <td>-3.4</td>\n",
       "      <td>-3.9</td>\n",
       "      <td>-7.4</td>\n",
       "      <td>-9.8</td>\n",
       "      <td>-10.3</td>\n",
       "      <td>-9.0</td>\n",
       "      <td>0.7</td>\n",
       "      <td>4.7</td>\n",
       "      <td>4.7</td>\n",
       "    </tr>\n",
       "    <tr>\n",
       "      <th>4</th>\n",
       "      <td>1961</td>\n",
       "      <td>02</td>\n",
       "      <td>1.3</td>\n",
       "      <td>1.2</td>\n",
       "      <td>0.5</td>\n",
       "      <td>0.7</td>\n",
       "      <td>-3.3</td>\n",
       "      <td>0.6</td>\n",
       "      <td>3.1</td>\n",
       "      <td>2.3</td>\n",
       "      <td>...</td>\n",
       "      <td>2.8</td>\n",
       "      <td>3.0</td>\n",
       "      <td>3.4</td>\n",
       "      <td>0.9</td>\n",
       "      <td>2.6</td>\n",
       "      <td>4.4</td>\n",
       "      <td>5.8</td>\n",
       "      <td>NaN</td>\n",
       "      <td>NaN</td>\n",
       "      <td>NaN</td>\n",
       "    </tr>\n",
       "  </tbody>\n",
       "</table>\n",
       "<p>5 rows × 33 columns</p>\n",
       "</div>"
      ],
      "text/plain": [
       "  Average daily temperature of air in °C Unnamed: 1  Unnamed: 2  Unnamed: 3  \\\n",
       "0                      station: P1PRUZ01        NaN         NaN         NaN   \n",
       "1                                    NaN        NaN         NaN         NaN   \n",
       "2                                   year      month         1.0         2.0   \n",
       "3                                   1961         01        -2.0        -1.9   \n",
       "4                                   1961         02         1.3         1.2   \n",
       "\n",
       "   Unnamed: 4  Unnamed: 5  Unnamed: 6  Unnamed: 7  Unnamed: 8  Unnamed: 9  \\\n",
       "0         NaN         NaN         NaN         NaN         NaN         NaN   \n",
       "1         NaN         NaN         NaN         NaN         NaN         NaN   \n",
       "2         3.0         4.0         5.0         6.0         7.0         8.0   \n",
       "3         0.1        -0.3         0.4        -0.3         0.8         1.0   \n",
       "4         0.5         0.7        -3.3         0.6         3.1         2.3   \n",
       "\n",
       "   ...  Unnamed: 23  Unnamed: 24  Unnamed: 25  Unnamed: 26  Unnamed: 27  \\\n",
       "0  ...          NaN          NaN          NaN          NaN          NaN   \n",
       "1  ...          NaN          NaN          NaN          NaN          NaN   \n",
       "2  ...         22.0         23.0         24.0         25.0         26.0   \n",
       "3  ...         -2.4         -3.4         -3.9         -7.4         -9.8   \n",
       "4  ...          2.8          3.0          3.4          0.9          2.6   \n",
       "\n",
       "   Unnamed: 28  Unnamed: 29  Unnamed: 30  Unnamed: 31  Unnamed: 32  \n",
       "0          NaN          NaN          NaN          NaN          NaN  \n",
       "1          NaN          NaN          NaN          NaN          NaN  \n",
       "2         27.0         28.0         29.0         30.0         31.0  \n",
       "3        -10.3         -9.0          0.7          4.7          4.7  \n",
       "4          4.4          5.8          NaN          NaN          NaN  \n",
       "\n",
       "[5 rows x 33 columns]"
      ]
     },
     "execution_count": 12,
     "metadata": {},
     "output_type": "execute_result"
    }
   ],
   "source": [
    "# read data from one sheet and display the first 5 lines\n",
    "average_temperature = excel_data_ruzyne.parse(\"average temperature\")\n",
    "average_temperature.head(5)"
   ]
  },
  {
   "cell_type": "markdown",
   "metadata": {},
   "source": [
    "The result is not exactly what we want. Fortunately, the solution is simple - we just need to skip the first three lines. Just add `skiprows = 3`."
   ]
  },
  {
   "cell_type": "code",
   "execution_count": 13,
   "metadata": {},
   "outputs": [
    {
     "data": {
      "text/html": [
       "<div>\n",
       "<style scoped>\n",
       "    .dataframe tbody tr th:only-of-type {\n",
       "        vertical-align: middle;\n",
       "    }\n",
       "\n",
       "    .dataframe tbody tr th {\n",
       "        vertical-align: top;\n",
       "    }\n",
       "\n",
       "    .dataframe thead th {\n",
       "        text-align: right;\n",
       "    }\n",
       "</style>\n",
       "<table border=\"1\" class=\"dataframe\">\n",
       "  <thead>\n",
       "    <tr style=\"text-align: right;\">\n",
       "      <th></th>\n",
       "      <th>year</th>\n",
       "      <th>month</th>\n",
       "      <th>1.</th>\n",
       "      <th>2.</th>\n",
       "      <th>3.</th>\n",
       "      <th>4.</th>\n",
       "      <th>5.</th>\n",
       "      <th>6.</th>\n",
       "      <th>7.</th>\n",
       "      <th>8.</th>\n",
       "      <th>...</th>\n",
       "      <th>22.</th>\n",
       "      <th>23.</th>\n",
       "      <th>24.</th>\n",
       "      <th>25.</th>\n",
       "      <th>26.</th>\n",
       "      <th>27.</th>\n",
       "      <th>28.</th>\n",
       "      <th>29.</th>\n",
       "      <th>30.</th>\n",
       "      <th>31.</th>\n",
       "    </tr>\n",
       "  </thead>\n",
       "  <tbody>\n",
       "    <tr>\n",
       "      <th>0</th>\n",
       "      <td>1961</td>\n",
       "      <td>1</td>\n",
       "      <td>-2.0</td>\n",
       "      <td>-1.9</td>\n",
       "      <td>0.1</td>\n",
       "      <td>-0.3</td>\n",
       "      <td>0.4</td>\n",
       "      <td>-0.3</td>\n",
       "      <td>0.8</td>\n",
       "      <td>1.0</td>\n",
       "      <td>...</td>\n",
       "      <td>-2.4</td>\n",
       "      <td>-3.4</td>\n",
       "      <td>-3.9</td>\n",
       "      <td>-7.4</td>\n",
       "      <td>-9.8</td>\n",
       "      <td>-10.3</td>\n",
       "      <td>-9.0</td>\n",
       "      <td>0.7</td>\n",
       "      <td>4.7</td>\n",
       "      <td>4.7</td>\n",
       "    </tr>\n",
       "    <tr>\n",
       "      <th>1</th>\n",
       "      <td>1961</td>\n",
       "      <td>2</td>\n",
       "      <td>1.3</td>\n",
       "      <td>1.2</td>\n",
       "      <td>0.5</td>\n",
       "      <td>0.7</td>\n",
       "      <td>-3.3</td>\n",
       "      <td>0.6</td>\n",
       "      <td>3.1</td>\n",
       "      <td>2.3</td>\n",
       "      <td>...</td>\n",
       "      <td>2.8</td>\n",
       "      <td>3.0</td>\n",
       "      <td>3.4</td>\n",
       "      <td>0.9</td>\n",
       "      <td>2.6</td>\n",
       "      <td>4.4</td>\n",
       "      <td>5.8</td>\n",
       "      <td>NaN</td>\n",
       "      <td>NaN</td>\n",
       "      <td>NaN</td>\n",
       "    </tr>\n",
       "    <tr>\n",
       "      <th>2</th>\n",
       "      <td>1961</td>\n",
       "      <td>3</td>\n",
       "      <td>2.1</td>\n",
       "      <td>3.9</td>\n",
       "      <td>4.4</td>\n",
       "      <td>3.1</td>\n",
       "      <td>5.7</td>\n",
       "      <td>4.7</td>\n",
       "      <td>7.2</td>\n",
       "      <td>6.8</td>\n",
       "      <td>...</td>\n",
       "      <td>0.5</td>\n",
       "      <td>5.2</td>\n",
       "      <td>7.1</td>\n",
       "      <td>6.6</td>\n",
       "      <td>10.1</td>\n",
       "      <td>3.5</td>\n",
       "      <td>1.3</td>\n",
       "      <td>4.7</td>\n",
       "      <td>7.4</td>\n",
       "      <td>4.8</td>\n",
       "    </tr>\n",
       "    <tr>\n",
       "      <th>3</th>\n",
       "      <td>1961</td>\n",
       "      <td>4</td>\n",
       "      <td>8.1</td>\n",
       "      <td>8.4</td>\n",
       "      <td>7.8</td>\n",
       "      <td>10.0</td>\n",
       "      <td>13.5</td>\n",
       "      <td>16.2</td>\n",
       "      <td>17.0</td>\n",
       "      <td>10.6</td>\n",
       "      <td>...</td>\n",
       "      <td>13.5</td>\n",
       "      <td>10.9</td>\n",
       "      <td>11.7</td>\n",
       "      <td>11.0</td>\n",
       "      <td>12.4</td>\n",
       "      <td>10.9</td>\n",
       "      <td>11.4</td>\n",
       "      <td>11.4</td>\n",
       "      <td>12.5</td>\n",
       "      <td>NaN</td>\n",
       "    </tr>\n",
       "    <tr>\n",
       "      <th>4</th>\n",
       "      <td>1961</td>\n",
       "      <td>5</td>\n",
       "      <td>10.3</td>\n",
       "      <td>12.4</td>\n",
       "      <td>11.8</td>\n",
       "      <td>12.1</td>\n",
       "      <td>16.2</td>\n",
       "      <td>14.3</td>\n",
       "      <td>11.8</td>\n",
       "      <td>8.3</td>\n",
       "      <td>...</td>\n",
       "      <td>11.8</td>\n",
       "      <td>13.6</td>\n",
       "      <td>14.6</td>\n",
       "      <td>16.3</td>\n",
       "      <td>15.8</td>\n",
       "      <td>12.3</td>\n",
       "      <td>6.2</td>\n",
       "      <td>6.7</td>\n",
       "      <td>8.3</td>\n",
       "      <td>13.2</td>\n",
       "    </tr>\n",
       "  </tbody>\n",
       "</table>\n",
       "<p>5 rows × 33 columns</p>\n",
       "</div>"
      ],
      "text/plain": [
       "   year  month    1.    2.    3.    4.    5.    6.    7.    8.  ...   22.  \\\n",
       "0  1961      1  -2.0  -1.9   0.1  -0.3   0.4  -0.3   0.8   1.0  ...  -2.4   \n",
       "1  1961      2   1.3   1.2   0.5   0.7  -3.3   0.6   3.1   2.3  ...   2.8   \n",
       "2  1961      3   2.1   3.9   4.4   3.1   5.7   4.7   7.2   6.8  ...   0.5   \n",
       "3  1961      4   8.1   8.4   7.8  10.0  13.5  16.2  17.0  10.6  ...  13.5   \n",
       "4  1961      5  10.3  12.4  11.8  12.1  16.2  14.3  11.8   8.3  ...  11.8   \n",
       "\n",
       "    23.   24.   25.   26.   27.   28.   29.   30.   31.  \n",
       "0  -3.4  -3.9  -7.4  -9.8 -10.3  -9.0   0.7   4.7   4.7  \n",
       "1   3.0   3.4   0.9   2.6   4.4   5.8   NaN   NaN   NaN  \n",
       "2   5.2   7.1   6.6  10.1   3.5   1.3   4.7   7.4   4.8  \n",
       "3  10.9  11.7  11.0  12.4  10.9  11.4  11.4  12.5   NaN  \n",
       "4  13.6  14.6  16.3  15.8  12.3   6.2   6.7   8.3  13.2  \n",
       "\n",
       "[5 rows x 33 columns]"
      ]
     },
     "execution_count": 13,
     "metadata": {},
     "output_type": "execute_result"
    }
   ],
   "source": [
    "average_temperature = excel_data_ruzyne.parse(\"average temperature\", skiprows = 3)\n",
    "average_temperature.head(5)"
   ]
  },
  {
   "cell_type": "markdown",
   "metadata": {},
   "source": [
    "This looks a little better - the rows and columns are as intended. But the problem is that the every day is like a column. Just because not every month has 31 days. Therefore, there are undefined values or `NaN` (Not a Number) in the last three columns.\n",
    "\n",
    "Missing values may occur for reasons other than \"just\" improper data organization. E.g. the thermometer may have a fault, data has been corrupted, etc. Various abbreviations and symbols may be used for missing values, which is why there is a handy `na_values` argument.\n",
    "For many good reasons, which you will see in practice, our goal is to get the data in the form of so-called [**tidy data**](https://en.wikipedia.org/wiki/Tidy_data), where **lines correspond to individual observation (measurements), the column names correspond to the quantities.**\n",
    "\n",
    "Here comes the [`melt`](https://pandas.pydata.org/pandas-docs/stable/reference/api/pandas.DataFrame.melt.html#pandas.DataFrame.melt) method. This is used for cases where values are encoded as columns. This is how we explain `melt` that the columns `[\"year\", \"month\"]` are already correct as \"quantities\", that in the remaining columns there are values of the quantity `day` and that the values belong to the quantity `average temperature`, which will be used to create new column."
   ]
  },
  {
   "cell_type": "code",
   "execution_count": 14,
   "metadata": {},
   "outputs": [
    {
     "data": {
      "text/html": [
       "<div>\n",
       "<style scoped>\n",
       "    .dataframe tbody tr th:only-of-type {\n",
       "        vertical-align: middle;\n",
       "    }\n",
       "\n",
       "    .dataframe tbody tr th {\n",
       "        vertical-align: top;\n",
       "    }\n",
       "\n",
       "    .dataframe thead th {\n",
       "        text-align: right;\n",
       "    }\n",
       "</style>\n",
       "<table border=\"1\" class=\"dataframe\">\n",
       "  <thead>\n",
       "    <tr style=\"text-align: right;\">\n",
       "      <th></th>\n",
       "      <th>year</th>\n",
       "      <th>month</th>\n",
       "      <th>day</th>\n",
       "      <th>average temperature</th>\n",
       "    </tr>\n",
       "  </thead>\n",
       "  <tbody>\n",
       "    <tr>\n",
       "      <th>0</th>\n",
       "      <td>1961</td>\n",
       "      <td>1</td>\n",
       "      <td>1.</td>\n",
       "      <td>-2.0</td>\n",
       "    </tr>\n",
       "    <tr>\n",
       "      <th>1</th>\n",
       "      <td>1961</td>\n",
       "      <td>2</td>\n",
       "      <td>1.</td>\n",
       "      <td>1.3</td>\n",
       "    </tr>\n",
       "    <tr>\n",
       "      <th>2</th>\n",
       "      <td>1961</td>\n",
       "      <td>3</td>\n",
       "      <td>1.</td>\n",
       "      <td>2.1</td>\n",
       "    </tr>\n",
       "    <tr>\n",
       "      <th>3</th>\n",
       "      <td>1961</td>\n",
       "      <td>4</td>\n",
       "      <td>1.</td>\n",
       "      <td>8.1</td>\n",
       "    </tr>\n",
       "    <tr>\n",
       "      <th>4</th>\n",
       "      <td>1961</td>\n",
       "      <td>5</td>\n",
       "      <td>1.</td>\n",
       "      <td>10.3</td>\n",
       "    </tr>\n",
       "  </tbody>\n",
       "</table>\n",
       "</div>"
      ],
      "text/plain": [
       "   year  month day  average temperature\n",
       "0  1961      1  1.                 -2.0\n",
       "1  1961      2  1.                  1.3\n",
       "2  1961      3  1.                  2.1\n",
       "3  1961      4  1.                  8.1\n",
       "4  1961      5  1.                 10.3"
      ]
     },
     "execution_count": 14,
     "metadata": {},
     "output_type": "execute_result"
    }
   ],
   "source": [
    "average_tidy_temperature = average_temperature.melt(id_vars = [\"year\", \"month\"], var_name = \"day\", value_name = \"average temperature\")\n",
    "average_tidy_temperature.head(5)"
   ]
  },
  {
   "cell_type": "markdown",
   "metadata": {},
   "source": [
    "In this case, it was quite clear that the column names are actually values of some quantity. Sometimes it can be more hidden, eg. in the case of categorical variables. For example, we can get data from measuring the length of the legs in this format:"
   ]
  },
  {
   "cell_type": "code",
   "execution_count": 15,
   "metadata": {
    "scrolled": true
   },
   "outputs": [
    {
     "data": {
      "text/html": [
       "<div>\n",
       "<style scoped>\n",
       "    .dataframe tbody tr th:only-of-type {\n",
       "        vertical-align: middle;\n",
       "    }\n",
       "\n",
       "    .dataframe tbody tr th {\n",
       "        vertical-align: top;\n",
       "    }\n",
       "\n",
       "    .dataframe thead th {\n",
       "        text-align: right;\n",
       "    }\n",
       "</style>\n",
       "<table border=\"1\" class=\"dataframe\">\n",
       "  <thead>\n",
       "    <tr style=\"text-align: right;\">\n",
       "      <th></th>\n",
       "      <th>left</th>\n",
       "      <th>right</th>\n",
       "    </tr>\n",
       "  </thead>\n",
       "  <tbody>\n",
       "    <tr>\n",
       "      <th>0</th>\n",
       "      <td>81.0</td>\n",
       "      <td>78.2</td>\n",
       "    </tr>\n",
       "    <tr>\n",
       "      <th>1</th>\n",
       "      <td>81.4</td>\n",
       "      <td>78.0</td>\n",
       "    </tr>\n",
       "  </tbody>\n",
       "</table>\n",
       "</div>"
      ],
      "text/plain": [
       "   left  right\n",
       "0  81.0   78.2\n",
       "1  81.4   78.0"
      ]
     },
     "execution_count": 15,
     "metadata": {},
     "output_type": "execute_result"
    }
   ],
   "source": [
    "leg_length = pd.DataFrame({\"left\": [81, 81.4], \"right\": [78.2, 78]})\n",
    "leg_length"
   ]
  },
  {
   "cell_type": "markdown",
   "metadata": {},
   "source": [
    "**Task:**    \n",
    "Does `leg_length` look like tidy data? If not, can you organize this data correctly? \n",
    "\n",
    "Helpful question: Can the side of the leg be considered a (categorical) quantity?"
   ]
  },
  {
   "cell_type": "markdown",
   "metadata": {},
   "source": [
    "### Creating a \"correct\" (time) index\n",
    "We almost never want to work with separate columns \"year\", \"month\", etc. For working with time data and time series, there is already specialized class, especially [`Timestamp`](https://pandas.pydata.org/pandas-docs/stable/reference/api/pandas.Timestamp.html#pandas.Timestamp) and [`DatetimeIndex`](https://pandas.pydata.org/pandas-docs/stable/reference/api/pandas.DatetimeIndex.html), for differences between time data then [Timedelta](https://pandas.pydata.org/pandas-docs/stable/reference/api/pandas.Timedelta.html#pandas.Timedelta). For an overview, see the documentation: [Time series/date functionality](https://pandas.pydata.org/pandas-docs/stable/user_guide/timeseries.html). \n",
    "\n",
    "And believe me - it's not an easy problem. Time calculations contains working with decimal, sixty, twelve, twenty-four, seven, monthly, quarterly, annual, ... calculations. This includes time zones, leap years, daylight saving time, various calendars and who knows what else.\n",
    "So let's create the \"right\" time index for our time series. The [`to_datetime`](https://pandas.pydata.org/pandas-docs/stable/reference/api/pandas.to_datetime.html#pandas.to_datetime) function is often useful. This function can convert numeric or text data (individually or in batch) into the right Pandas type for working with time data.\n",
    "It is useful for us that we can work with dates, where there are years, months, days, etc. in separate columns. We will show it on a simple example."
   ]
  },
  {
   "cell_type": "code",
   "execution_count": 16,
   "metadata": {},
   "outputs": [
    {
     "data": {
      "text/html": [
       "<div>\n",
       "<style scoped>\n",
       "    .dataframe tbody tr th:only-of-type {\n",
       "        vertical-align: middle;\n",
       "    }\n",
       "\n",
       "    .dataframe tbody tr th {\n",
       "        vertical-align: top;\n",
       "    }\n",
       "\n",
       "    .dataframe thead th {\n",
       "        text-align: right;\n",
       "    }\n",
       "</style>\n",
       "<table border=\"1\" class=\"dataframe\">\n",
       "  <thead>\n",
       "    <tr style=\"text-align: right;\">\n",
       "      <th></th>\n",
       "      <th>year</th>\n",
       "      <th>month</th>\n",
       "      <th>day</th>\n",
       "    </tr>\n",
       "  </thead>\n",
       "  <tbody>\n",
       "    <tr>\n",
       "      <th>0</th>\n",
       "      <td>2015</td>\n",
       "      <td>2</td>\n",
       "      <td>4</td>\n",
       "    </tr>\n",
       "    <tr>\n",
       "      <th>1</th>\n",
       "      <td>2016</td>\n",
       "      <td>3</td>\n",
       "      <td>5</td>\n",
       "    </tr>\n",
       "  </tbody>\n",
       "</table>\n",
       "</div>"
      ],
      "text/plain": [
       "   year  month  day\n",
       "0  2015      2    4\n",
       "1  2016      3    5"
      ]
     },
     "execution_count": 16,
     "metadata": {},
     "output_type": "execute_result"
    }
   ],
   "source": [
    "# example of a series of dates in separate columns\n",
    "split_dates_example = pd.DataFrame(\n",
    "    {\"year\": [2015, 2016], \"month\": [2, 3], \"day\": [4, 5]}\n",
    ")\n",
    "split_dates_example"
   ]
  },
  {
   "cell_type": "markdown",
   "metadata": {},
   "source": [
    "The `to_datetime` function creates a series (`Series`) of the type `datetime64 [ns]` from the sample table. This (numpy) type supports many useful methods for working with time data, see. [Datetimes and Timedeltas](https://docs.scipy.org/doc/numpy/reference/arrays.datetime.html). `[Ns]` indicates (default) nanosecond accuracy."
   ]
  },
  {
   "cell_type": "code",
   "execution_count": 17,
   "metadata": {},
   "outputs": [
    {
     "data": {
      "text/plain": [
       "0   2015-02-04\n",
       "1   2016-03-05\n",
       "dtype: datetime64[ns]"
      ]
     },
     "execution_count": 17,
     "metadata": {},
     "output_type": "execute_result"
    }
   ],
   "source": [
    "pd.to_datetime(split_dates_example)"
   ]
  },
  {
   "cell_type": "markdown",
   "metadata": {},
   "source": [
    "if your columns have a different names, you can rename them using `rename` method. We store the result in the new variable `date`."
   ]
  },
  {
   "cell_type": "code",
   "execution_count": 19,
   "metadata": {},
   "outputs": [
    {
     "ename": "ValueError",
     "evalue": "cannot assemble the datetimes: day is out of range for month",
     "output_type": "error",
     "traceback": [
      "\u001b[1;31m---------------------------------------------------------------------------\u001b[0m",
      "\u001b[1;31mTypeError\u001b[0m                                 Traceback (most recent call last)",
      "File \u001b[1;32m~\\Desktop\\pyladies_vienna\\pyladies_vienna_data_course\\venv\\lib\\site-packages\\pandas\\core\\tools\\datetimes.py:510\u001b[0m, in \u001b[0;36m_to_datetime_with_format\u001b[1;34m(arg, orig_arg, name, tz, fmt, exact, errors, infer_datetime_format)\u001b[0m\n\u001b[0;32m    509\u001b[0m \u001b[38;5;28;01mtry\u001b[39;00m:\n\u001b[1;32m--> 510\u001b[0m     values, tz \u001b[38;5;241m=\u001b[39m \u001b[43mconversion\u001b[49m\u001b[38;5;241;43m.\u001b[39;49m\u001b[43mdatetime_to_datetime64\u001b[49m\u001b[43m(\u001b[49m\u001b[43marg\u001b[49m\u001b[43m)\u001b[49m\n\u001b[0;32m    511\u001b[0m     dta \u001b[38;5;241m=\u001b[39m DatetimeArray(values, dtype\u001b[38;5;241m=\u001b[39mtz_to_dtype(tz))\n",
      "File \u001b[1;32m~\\Desktop\\pyladies_vienna\\pyladies_vienna_data_course\\venv\\lib\\site-packages\\pandas\\_libs\\tslibs\\conversion.pyx:360\u001b[0m, in \u001b[0;36mpandas._libs.tslibs.conversion.datetime_to_datetime64\u001b[1;34m()\u001b[0m\n",
      "\u001b[1;31mTypeError\u001b[0m: Unrecognized value type: <class 'int'>",
      "\nDuring handling of the above exception, another exception occurred:\n",
      "\u001b[1;31mValueError\u001b[0m                                Traceback (most recent call last)",
      "File \u001b[1;32m~\\Desktop\\pyladies_vienna\\pyladies_vienna_data_course\\venv\\lib\\site-packages\\pandas\\core\\tools\\datetimes.py:1188\u001b[0m, in \u001b[0;36m_assemble_from_unit_mappings\u001b[1;34m(arg, errors, tz)\u001b[0m\n\u001b[0;32m   1187\u001b[0m \u001b[38;5;28;01mtry\u001b[39;00m:\n\u001b[1;32m-> 1188\u001b[0m     values \u001b[38;5;241m=\u001b[39m \u001b[43mto_datetime\u001b[49m\u001b[43m(\u001b[49m\u001b[43mvalues\u001b[49m\u001b[43m,\u001b[49m\u001b[43m \u001b[49m\u001b[38;5;28;43mformat\u001b[39;49m\u001b[38;5;241;43m=\u001b[39;49m\u001b[38;5;124;43m\"\u001b[39;49m\u001b[38;5;124;43m%\u001b[39;49m\u001b[38;5;124;43mY\u001b[39;49m\u001b[38;5;124;43m%\u001b[39;49m\u001b[38;5;124;43mm\u001b[39;49m\u001b[38;5;132;43;01m%d\u001b[39;49;00m\u001b[38;5;124;43m\"\u001b[39;49m\u001b[43m,\u001b[49m\u001b[43m \u001b[49m\u001b[43merrors\u001b[49m\u001b[38;5;241;43m=\u001b[39;49m\u001b[43merrors\u001b[49m\u001b[43m,\u001b[49m\u001b[43m \u001b[49m\u001b[43mutc\u001b[49m\u001b[38;5;241;43m=\u001b[39;49m\u001b[43mtz\u001b[49m\u001b[43m)\u001b[49m\n\u001b[0;32m   1189\u001b[0m \u001b[38;5;28;01mexcept\u001b[39;00m (\u001b[38;5;167;01mTypeError\u001b[39;00m, \u001b[38;5;167;01mValueError\u001b[39;00m) \u001b[38;5;28;01mas\u001b[39;00m err:\n",
      "File \u001b[1;32m~\\Desktop\\pyladies_vienna\\pyladies_vienna_data_course\\venv\\lib\\site-packages\\pandas\\core\\tools\\datetimes.py:1051\u001b[0m, in \u001b[0;36mto_datetime\u001b[1;34m(arg, errors, dayfirst, yearfirst, utc, format, exact, unit, infer_datetime_format, origin, cache)\u001b[0m\n\u001b[0;32m   1050\u001b[0m \u001b[38;5;28;01melse\u001b[39;00m:\n\u001b[1;32m-> 1051\u001b[0m     values \u001b[38;5;241m=\u001b[39m \u001b[43mconvert_listlike\u001b[49m\u001b[43m(\u001b[49m\u001b[43marg\u001b[49m\u001b[38;5;241;43m.\u001b[39;49m\u001b[43m_values\u001b[49m\u001b[43m,\u001b[49m\u001b[43m \u001b[49m\u001b[38;5;28;43mformat\u001b[39;49m\u001b[43m)\u001b[49m\n\u001b[0;32m   1052\u001b[0m     result \u001b[38;5;241m=\u001b[39m arg\u001b[38;5;241m.\u001b[39m_constructor(values, index\u001b[38;5;241m=\u001b[39marg\u001b[38;5;241m.\u001b[39mindex, name\u001b[38;5;241m=\u001b[39marg\u001b[38;5;241m.\u001b[39mname)\n",
      "File \u001b[1;32m~\\Desktop\\pyladies_vienna\\pyladies_vienna_data_course\\venv\\lib\\site-packages\\pandas\\core\\tools\\datetimes.py:394\u001b[0m, in \u001b[0;36m_convert_listlike_datetimes\u001b[1;34m(arg, format, name, tz, unit, errors, infer_datetime_format, dayfirst, yearfirst, exact)\u001b[0m\n\u001b[0;32m    393\u001b[0m \u001b[38;5;28;01mif\u001b[39;00m \u001b[38;5;28mformat\u001b[39m \u001b[38;5;129;01mis\u001b[39;00m \u001b[38;5;129;01mnot\u001b[39;00m \u001b[38;5;28;01mNone\u001b[39;00m:\n\u001b[1;32m--> 394\u001b[0m     res \u001b[38;5;241m=\u001b[39m \u001b[43m_to_datetime_with_format\u001b[49m\u001b[43m(\u001b[49m\n\u001b[0;32m    395\u001b[0m \u001b[43m        \u001b[49m\u001b[43marg\u001b[49m\u001b[43m,\u001b[49m\u001b[43m \u001b[49m\u001b[43morig_arg\u001b[49m\u001b[43m,\u001b[49m\u001b[43m \u001b[49m\u001b[43mname\u001b[49m\u001b[43m,\u001b[49m\u001b[43m \u001b[49m\u001b[43mtz\u001b[49m\u001b[43m,\u001b[49m\u001b[43m \u001b[49m\u001b[38;5;28;43mformat\u001b[39;49m\u001b[43m,\u001b[49m\u001b[43m \u001b[49m\u001b[43mexact\u001b[49m\u001b[43m,\u001b[49m\u001b[43m \u001b[49m\u001b[43merrors\u001b[49m\u001b[43m,\u001b[49m\u001b[43m \u001b[49m\u001b[43minfer_datetime_format\u001b[49m\n\u001b[0;32m    396\u001b[0m \u001b[43m    \u001b[49m\u001b[43m)\u001b[49m\n\u001b[0;32m    397\u001b[0m     \u001b[38;5;28;01mif\u001b[39;00m res \u001b[38;5;129;01mis\u001b[39;00m \u001b[38;5;129;01mnot\u001b[39;00m \u001b[38;5;28;01mNone\u001b[39;00m:\n",
      "File \u001b[1;32m~\\Desktop\\pyladies_vienna\\pyladies_vienna_data_course\\venv\\lib\\site-packages\\pandas\\core\\tools\\datetimes.py:514\u001b[0m, in \u001b[0;36m_to_datetime_with_format\u001b[1;34m(arg, orig_arg, name, tz, fmt, exact, errors, infer_datetime_format)\u001b[0m\n\u001b[0;32m    513\u001b[0m \u001b[38;5;28;01mexcept\u001b[39;00m (\u001b[38;5;167;01mValueError\u001b[39;00m, \u001b[38;5;167;01mTypeError\u001b[39;00m):\n\u001b[1;32m--> 514\u001b[0m     \u001b[38;5;28;01mraise\u001b[39;00m err\n",
      "File \u001b[1;32m~\\Desktop\\pyladies_vienna\\pyladies_vienna_data_course\\venv\\lib\\site-packages\\pandas\\core\\tools\\datetimes.py:501\u001b[0m, in \u001b[0;36m_to_datetime_with_format\u001b[1;34m(arg, orig_arg, name, tz, fmt, exact, errors, infer_datetime_format)\u001b[0m\n\u001b[0;32m    500\u001b[0m \u001b[38;5;66;03m# fallback\u001b[39;00m\n\u001b[1;32m--> 501\u001b[0m res \u001b[38;5;241m=\u001b[39m \u001b[43m_array_strptime_with_fallback\u001b[49m\u001b[43m(\u001b[49m\n\u001b[0;32m    502\u001b[0m \u001b[43m    \u001b[49m\u001b[43marg\u001b[49m\u001b[43m,\u001b[49m\u001b[43m \u001b[49m\u001b[43mname\u001b[49m\u001b[43m,\u001b[49m\u001b[43m \u001b[49m\u001b[43mtz\u001b[49m\u001b[43m,\u001b[49m\u001b[43m \u001b[49m\u001b[43mfmt\u001b[49m\u001b[43m,\u001b[49m\u001b[43m \u001b[49m\u001b[43mexact\u001b[49m\u001b[43m,\u001b[49m\u001b[43m \u001b[49m\u001b[43merrors\u001b[49m\u001b[43m,\u001b[49m\u001b[43m \u001b[49m\u001b[43minfer_datetime_format\u001b[49m\n\u001b[0;32m    503\u001b[0m \u001b[43m\u001b[49m\u001b[43m)\u001b[49m\n\u001b[0;32m    504\u001b[0m \u001b[38;5;28;01mreturn\u001b[39;00m res\n",
      "File \u001b[1;32m~\\Desktop\\pyladies_vienna\\pyladies_vienna_data_course\\venv\\lib\\site-packages\\pandas\\core\\tools\\datetimes.py:437\u001b[0m, in \u001b[0;36m_array_strptime_with_fallback\u001b[1;34m(arg, name, tz, fmt, exact, errors, infer_datetime_format)\u001b[0m\n\u001b[0;32m    436\u001b[0m \u001b[38;5;28;01mtry\u001b[39;00m:\n\u001b[1;32m--> 437\u001b[0m     result, timezones \u001b[38;5;241m=\u001b[39m \u001b[43marray_strptime\u001b[49m\u001b[43m(\u001b[49m\u001b[43marg\u001b[49m\u001b[43m,\u001b[49m\u001b[43m \u001b[49m\u001b[43mfmt\u001b[49m\u001b[43m,\u001b[49m\u001b[43m \u001b[49m\u001b[43mexact\u001b[49m\u001b[38;5;241;43m=\u001b[39;49m\u001b[43mexact\u001b[49m\u001b[43m,\u001b[49m\u001b[43m \u001b[49m\u001b[43merrors\u001b[49m\u001b[38;5;241;43m=\u001b[39;49m\u001b[43merrors\u001b[49m\u001b[43m)\u001b[49m\n\u001b[0;32m    438\u001b[0m     \u001b[38;5;28;01mif\u001b[39;00m \u001b[38;5;124m\"\u001b[39m\u001b[38;5;124m%\u001b[39m\u001b[38;5;124mZ\u001b[39m\u001b[38;5;124m\"\u001b[39m \u001b[38;5;129;01min\u001b[39;00m fmt \u001b[38;5;129;01mor\u001b[39;00m \u001b[38;5;124m\"\u001b[39m\u001b[38;5;124m%\u001b[39m\u001b[38;5;124mz\u001b[39m\u001b[38;5;124m\"\u001b[39m \u001b[38;5;129;01min\u001b[39;00m fmt:\n",
      "File \u001b[1;32m~\\Desktop\\pyladies_vienna\\pyladies_vienna_data_course\\venv\\lib\\site-packages\\pandas\\_libs\\tslibs\\strptime.pyx:324\u001b[0m, in \u001b[0;36mpandas._libs.tslibs.strptime.array_strptime\u001b[1;34m()\u001b[0m\n",
      "File \u001b[1;32m~\\Desktop\\pyladies_vienna\\pyladies_vienna_data_course\\venv\\lib\\site-packages\\pandas\\_libs\\tslibs\\strptime.pyx:310\u001b[0m, in \u001b[0;36mpandas._libs.tslibs.strptime.array_strptime\u001b[1;34m()\u001b[0m\n",
      "\u001b[1;31mValueError\u001b[0m: day is out of range for month",
      "\nThe above exception was the direct cause of the following exception:\n",
      "\u001b[1;31mValueError\u001b[0m                                Traceback (most recent call last)",
      "Input \u001b[1;32mIn [19]\u001b[0m, in \u001b[0;36m<cell line: 1>\u001b[1;34m()\u001b[0m\n\u001b[1;32m----> 1\u001b[0m datum \u001b[38;5;241m=\u001b[39m \u001b[43mpd\u001b[49m\u001b[38;5;241;43m.\u001b[39;49m\u001b[43mto_datetime\u001b[49m\u001b[43m(\u001b[49m\n\u001b[0;32m      2\u001b[0m \u001b[43m    \u001b[49m\u001b[43maverage_tidy_temperature\u001b[49m\u001b[43m[\u001b[49m\u001b[43m[\u001b[49m\u001b[38;5;124;43m\"\u001b[39;49m\u001b[38;5;124;43myear\u001b[39;49m\u001b[38;5;124;43m\"\u001b[39;49m\u001b[43m,\u001b[49m\u001b[43m \u001b[49m\u001b[38;5;124;43m\"\u001b[39;49m\u001b[38;5;124;43mmonth\u001b[39;49m\u001b[38;5;124;43m\"\u001b[39;49m\u001b[43m,\u001b[49m\u001b[43m \u001b[49m\u001b[38;5;124;43m\"\u001b[39;49m\u001b[38;5;124;43mday\u001b[39;49m\u001b[38;5;124;43m\"\u001b[39;49m\u001b[43m]\u001b[49m\u001b[43m]\u001b[49m\u001b[43m,\u001b[49m\n\u001b[0;32m      3\u001b[0m \u001b[43m)\u001b[49m\n",
      "File \u001b[1;32m~\\Desktop\\pyladies_vienna\\pyladies_vienna_data_course\\venv\\lib\\site-packages\\pandas\\core\\tools\\datetimes.py:1054\u001b[0m, in \u001b[0;36mto_datetime\u001b[1;34m(arg, errors, dayfirst, yearfirst, utc, format, exact, unit, infer_datetime_format, origin, cache)\u001b[0m\n\u001b[0;32m   1052\u001b[0m         result \u001b[38;5;241m=\u001b[39m arg\u001b[38;5;241m.\u001b[39m_constructor(values, index\u001b[38;5;241m=\u001b[39marg\u001b[38;5;241m.\u001b[39mindex, name\u001b[38;5;241m=\u001b[39marg\u001b[38;5;241m.\u001b[39mname)\n\u001b[0;32m   1053\u001b[0m \u001b[38;5;28;01melif\u001b[39;00m \u001b[38;5;28misinstance\u001b[39m(arg, (ABCDataFrame, abc\u001b[38;5;241m.\u001b[39mMutableMapping)):\n\u001b[1;32m-> 1054\u001b[0m     result \u001b[38;5;241m=\u001b[39m \u001b[43m_assemble_from_unit_mappings\u001b[49m\u001b[43m(\u001b[49m\u001b[43marg\u001b[49m\u001b[43m,\u001b[49m\u001b[43m \u001b[49m\u001b[43merrors\u001b[49m\u001b[43m,\u001b[49m\u001b[43m \u001b[49m\u001b[43mtz\u001b[49m\u001b[43m)\u001b[49m\n\u001b[0;32m   1055\u001b[0m \u001b[38;5;28;01melif\u001b[39;00m \u001b[38;5;28misinstance\u001b[39m(arg, Index):\n\u001b[0;32m   1056\u001b[0m     cache_array \u001b[38;5;241m=\u001b[39m _maybe_cache(arg, \u001b[38;5;28mformat\u001b[39m, cache, convert_listlike)\n",
      "File \u001b[1;32m~\\Desktop\\pyladies_vienna\\pyladies_vienna_data_course\\venv\\lib\\site-packages\\pandas\\core\\tools\\datetimes.py:1190\u001b[0m, in \u001b[0;36m_assemble_from_unit_mappings\u001b[1;34m(arg, errors, tz)\u001b[0m\n\u001b[0;32m   1188\u001b[0m     values \u001b[38;5;241m=\u001b[39m to_datetime(values, \u001b[38;5;28mformat\u001b[39m\u001b[38;5;241m=\u001b[39m\u001b[38;5;124m\"\u001b[39m\u001b[38;5;124m%\u001b[39m\u001b[38;5;124mY\u001b[39m\u001b[38;5;124m%\u001b[39m\u001b[38;5;124mm\u001b[39m\u001b[38;5;132;01m%d\u001b[39;00m\u001b[38;5;124m\"\u001b[39m, errors\u001b[38;5;241m=\u001b[39merrors, utc\u001b[38;5;241m=\u001b[39mtz)\n\u001b[0;32m   1189\u001b[0m \u001b[38;5;28;01mexcept\u001b[39;00m (\u001b[38;5;167;01mTypeError\u001b[39;00m, \u001b[38;5;167;01mValueError\u001b[39;00m) \u001b[38;5;28;01mas\u001b[39;00m err:\n\u001b[1;32m-> 1190\u001b[0m     \u001b[38;5;28;01mraise\u001b[39;00m \u001b[38;5;167;01mValueError\u001b[39;00m(\u001b[38;5;124mf\u001b[39m\u001b[38;5;124m\"\u001b[39m\u001b[38;5;124mcannot assemble the datetimes: \u001b[39m\u001b[38;5;132;01m{\u001b[39;00merr\u001b[38;5;132;01m}\u001b[39;00m\u001b[38;5;124m\"\u001b[39m) \u001b[38;5;28;01mfrom\u001b[39;00m \u001b[38;5;21;01merr\u001b[39;00m\n\u001b[0;32m   1192\u001b[0m \u001b[38;5;28;01mfor\u001b[39;00m u \u001b[38;5;129;01min\u001b[39;00m [\u001b[38;5;124m\"\u001b[39m\u001b[38;5;124mh\u001b[39m\u001b[38;5;124m\"\u001b[39m, \u001b[38;5;124m\"\u001b[39m\u001b[38;5;124mm\u001b[39m\u001b[38;5;124m\"\u001b[39m, \u001b[38;5;124m\"\u001b[39m\u001b[38;5;124ms\u001b[39m\u001b[38;5;124m\"\u001b[39m, \u001b[38;5;124m\"\u001b[39m\u001b[38;5;124mms\u001b[39m\u001b[38;5;124m\"\u001b[39m, \u001b[38;5;124m\"\u001b[39m\u001b[38;5;124mus\u001b[39m\u001b[38;5;124m\"\u001b[39m, \u001b[38;5;124m\"\u001b[39m\u001b[38;5;124mns\u001b[39m\u001b[38;5;124m\"\u001b[39m]:\n\u001b[0;32m   1193\u001b[0m     value \u001b[38;5;241m=\u001b[39m unit_rev\u001b[38;5;241m.\u001b[39mget(u)\n",
      "\u001b[1;31mValueError\u001b[0m: cannot assemble the datetimes: day is out of range for month"
     ]
    }
   ],
   "source": [
    "datum = pd.to_datetime(\n",
    "    average_tidy_temperature[[\"year\", \"month\", \"day\"]],\n",
    ")\n",
    "    "
   ]
  },
  {
   "cell_type": "markdown",
   "metadata": {},
   "source": [
    "Almost - it ended with a rather logical error (exception) `ValueError: cannot assemble the datetimes: day is out of range for month`. (Fortunately) failed to convince the pandas that all months have 31 days :)\n",
    "But we can use `errors =\"coerce\"` in order to ensure that all correct data be converted and that the incorrect data be marked as `NaN`, resp. in this case `NaT` - Not a Time."
   ]
  },
  {
   "cell_type": "code",
   "execution_count": 20,
   "metadata": {},
   "outputs": [],
   "source": [
    "datum = pd.to_datetime(\n",
    "average_tidy_temperature[[\"year\", \"month\", \"day\"]],\n",
    "    errors=\"coerce\",\n",
    ")"
   ]
  },
  {
   "cell_type": "code",
   "execution_count": 21,
   "metadata": {},
   "outputs": [
    {
     "data": {
      "text/plain": [
       "0       1961-01-01\n",
       "1       1961-02-01\n",
       "2       1961-03-01\n",
       "3       1961-04-01\n",
       "4       1961-05-01\n",
       "           ...    \n",
       "21571   2018-08-31\n",
       "21572          NaT\n",
       "21573   2018-10-31\n",
       "21574          NaT\n",
       "21575   2018-12-31\n",
       "Length: 21576, dtype: datetime64[ns]"
      ]
     },
     "execution_count": 21,
     "metadata": {},
     "output_type": "execute_result"
    }
   ],
   "source": [
    "datum"
   ]
  },
  {
   "cell_type": "markdown",
   "metadata": {},
   "source": [
    "For complete time information, we should add time zone information. This will allow us to compare times correctly, or to capture summer and winter time, which is often a rather difficult problem. In our case of daily data, this is not absolutely essential, but in some cases it can manifest itself.\n",
    "For time data that does not contain a time zone, we can use [`.dt.tz_localize`](https://pandas.pydata.org/pandas-docs/stable/reference/api/pandas.Series.tz_localize.html#pandas.Series.tz_localize).\n",
    "\n",
    "[`.dt.tz_convert`](https://pandas.pydata.org/pandas-docs/stable/reference/api/pandas.DataFrame.tz_convert.html#pandas.DataFrame.tz_convert) is used for time zone conversion.\n",
    "[`.dt`](https://pandas.pydata.org/pandas-docs/stable/reference/api/pandas.Series.dt.html#pandas.Series.dt) is a so-called *accessor object* for work with time properties of data."
   ]
  },
  {
   "cell_type": "code",
   "execution_count": 23,
   "metadata": {},
   "outputs": [
    {
     "data": {
      "text/plain": [
       "0       1961-01-01 00:00:00+01:00\n",
       "1       1961-02-01 00:00:00+01:00\n",
       "2       1961-03-01 00:00:00+01:00\n",
       "3       1961-04-01 00:00:00+01:00\n",
       "4       1961-05-01 00:00:00+01:00\n",
       "                   ...           \n",
       "21571   2018-08-31 00:00:00+02:00\n",
       "21572                         NaT\n",
       "21573   2018-10-31 00:00:00+01:00\n",
       "21574                         NaT\n",
       "21575   2018-12-31 00:00:00+01:00\n",
       "Length: 21576, dtype: datetime64[ns, Europe/Prague]"
      ]
     },
     "execution_count": 23,
     "metadata": {},
     "output_type": "execute_result"
    }
   ],
   "source": [
    "datum_localized = datum.dt.tz_localize(\"Europe/Prague\")\n",
    "datum_localized"
   ]
  },
  {
   "cell_type": "markdown",
   "metadata": {},
   "source": [
    "Surely you have noticed that the time and, of course, the time zone and thus the offset from [UTC] have been added. `+01: 00` means +1 hour from UTC. For dates, the concept of the time zone is not entirely natural, which is why Pandas added time (`00: 00: 00`). However, since the importance of daily data is often a summary for a specific 24 hours (and sometimes for 23 hours and sometimes for 25 hours due to the alternation of summer and winter time), it is better to work at a specific time (beginning of the day). And this is also our case."
   ]
  },
  {
   "cell_type": "markdown",
   "metadata": {},
   "source": [
    "Now we just use `assign` to add the \"date\" column. You can verify that the subsequent analysis will work with the localized time in `datum_localized`."
   ]
  },
  {
   "cell_type": "code",
   "execution_count": 25,
   "metadata": {},
   "outputs": [
    {
     "data": {
      "text/html": [
       "<div>\n",
       "<style scoped>\n",
       "    .dataframe tbody tr th:only-of-type {\n",
       "        vertical-align: middle;\n",
       "    }\n",
       "\n",
       "    .dataframe tbody tr th {\n",
       "        vertical-align: top;\n",
       "    }\n",
       "\n",
       "    .dataframe thead th {\n",
       "        text-align: right;\n",
       "    }\n",
       "</style>\n",
       "<table border=\"1\" class=\"dataframe\">\n",
       "  <thead>\n",
       "    <tr style=\"text-align: right;\">\n",
       "      <th></th>\n",
       "      <th>year</th>\n",
       "      <th>month</th>\n",
       "      <th>day</th>\n",
       "      <th>average temperature</th>\n",
       "      <th>date</th>\n",
       "    </tr>\n",
       "  </thead>\n",
       "  <tbody>\n",
       "    <tr>\n",
       "      <th>0</th>\n",
       "      <td>1961</td>\n",
       "      <td>1</td>\n",
       "      <td>1.</td>\n",
       "      <td>-2.0</td>\n",
       "      <td>1961-01-01</td>\n",
       "    </tr>\n",
       "    <tr>\n",
       "      <th>1</th>\n",
       "      <td>1961</td>\n",
       "      <td>2</td>\n",
       "      <td>1.</td>\n",
       "      <td>1.3</td>\n",
       "      <td>1961-02-01</td>\n",
       "    </tr>\n",
       "    <tr>\n",
       "      <th>2</th>\n",
       "      <td>1961</td>\n",
       "      <td>3</td>\n",
       "      <td>1.</td>\n",
       "      <td>2.1</td>\n",
       "      <td>1961-03-01</td>\n",
       "    </tr>\n",
       "    <tr>\n",
       "      <th>3</th>\n",
       "      <td>1961</td>\n",
       "      <td>4</td>\n",
       "      <td>1.</td>\n",
       "      <td>8.1</td>\n",
       "      <td>1961-04-01</td>\n",
       "    </tr>\n",
       "    <tr>\n",
       "      <th>4</th>\n",
       "      <td>1961</td>\n",
       "      <td>5</td>\n",
       "      <td>1.</td>\n",
       "      <td>10.3</td>\n",
       "      <td>1961-05-01</td>\n",
       "    </tr>\n",
       "    <tr>\n",
       "      <th>...</th>\n",
       "      <td>...</td>\n",
       "      <td>...</td>\n",
       "      <td>...</td>\n",
       "      <td>...</td>\n",
       "      <td>...</td>\n",
       "    </tr>\n",
       "    <tr>\n",
       "      <th>21571</th>\n",
       "      <td>2018</td>\n",
       "      <td>8</td>\n",
       "      <td>31.</td>\n",
       "      <td>15.7</td>\n",
       "      <td>2018-08-31</td>\n",
       "    </tr>\n",
       "    <tr>\n",
       "      <th>21572</th>\n",
       "      <td>2018</td>\n",
       "      <td>9</td>\n",
       "      <td>31.</td>\n",
       "      <td>NaN</td>\n",
       "      <td>NaT</td>\n",
       "    </tr>\n",
       "    <tr>\n",
       "      <th>21573</th>\n",
       "      <td>2018</td>\n",
       "      <td>10</td>\n",
       "      <td>31.</td>\n",
       "      <td>7.8</td>\n",
       "      <td>2018-10-31</td>\n",
       "    </tr>\n",
       "    <tr>\n",
       "      <th>21574</th>\n",
       "      <td>2018</td>\n",
       "      <td>11</td>\n",
       "      <td>31.</td>\n",
       "      <td>NaN</td>\n",
       "      <td>NaT</td>\n",
       "    </tr>\n",
       "    <tr>\n",
       "      <th>21575</th>\n",
       "      <td>2018</td>\n",
       "      <td>12</td>\n",
       "      <td>31.</td>\n",
       "      <td>3.7</td>\n",
       "      <td>2018-12-31</td>\n",
       "    </tr>\n",
       "  </tbody>\n",
       "</table>\n",
       "<p>21576 rows × 5 columns</p>\n",
       "</div>"
      ],
      "text/plain": [
       "       year  month  day  average temperature       date\n",
       "0      1961      1   1.                 -2.0 1961-01-01\n",
       "1      1961      2   1.                  1.3 1961-02-01\n",
       "2      1961      3   1.                  2.1 1961-03-01\n",
       "3      1961      4   1.                  8.1 1961-04-01\n",
       "4      1961      5   1.                 10.3 1961-05-01\n",
       "...     ...    ...  ...                  ...        ...\n",
       "21571  2018      8  31.                 15.7 2018-08-31\n",
       "21572  2018      9  31.                  NaN        NaT\n",
       "21573  2018     10  31.                  7.8 2018-10-31\n",
       "21574  2018     11  31.                  NaN        NaT\n",
       "21575  2018     12  31.                  3.7 2018-12-31\n",
       "\n",
       "[21576 rows x 5 columns]"
      ]
     },
     "execution_count": 25,
     "metadata": {},
     "output_type": "execute_result"
    }
   ],
   "source": [
    "average_tidy_temperature = average_tidy_temperature.assign(date = datum)\n",
    "average_tidy_temperature"
   ]
  },
  {
   "cell_type": "markdown",
   "metadata": {},
   "source": [
    "**Homework:**     \n",
    "`to_datetime` can also work with strings, which is often useful. Convert `pyladies_times` to the appropriate type for time data, assign our time zone and then use `tz_convert` to convert to UTC. You may have to explain to the pandas that the dates in the Austria are at first position, unlike in America. Fortunately, one simple argument for `to_datetime` is enough."
   ]
  },
  {
   "cell_type": "code",
   "execution_count": 26,
   "metadata": {},
   "outputs": [],
   "source": [
    "pyladies_times = [\"21.4.2020 18:00\", \"28.4.2020 18:00\", \"5.5.2020 18:00\"]"
   ]
  },
  {
   "cell_type": "code",
   "execution_count": null,
   "metadata": {},
   "outputs": [],
   "source": [
    "pandas_times = pd.to_datetime(___).___.___"
   ]
  },
  {
   "cell_type": "markdown",
   "metadata": {},
   "source": [
    "### Data cleaning"
   ]
  },
  {
   "cell_type": "markdown",
   "metadata": {},
   "source": [
    "What happened to undefined values? They stayed there. Let's see how to find out and what can be done about it.\n",
    "In general, we have three basic options.\n",
    "1. Do nothing, ie leave the missing data missing. This is perhaps surprisingly often a good choice, as many features handle the missing data correctly. This is in contrast to `numpy`, where functions typically don't like ` NaN`s. Often there are variants of functions (eg `numpy.mean` -&gt;` numpy.nanmean`) that take `NaN`s as missing data.\n",
    "2. Skip observations (ie rows because we have tidy data) with missing records. The [`dropna`](https://pandas.pydata.org/pandas-docs/stable/reference/api/pandas.DataFrame.dropna.html#pandas.DataFrame.dropna)  method is used for this.\n",
    "3. Replace the missing data with some suitable value. What values are appropriate depends on the nature of the data and what we do next with the data. Sometimes it is useful to replace missing values with a \"typical\" value, such as an average. For time series, it is usually more logical to replace the value from the environment (previous or next). You can read about imputation by https://scikit-learn.org/stable/modules/impute.html and check previous lesson. The [`fillna`](https://pandas.pydata.org/pandas-docs/stable/reference/api/pandas.DataFrame.fillna.html#pandas.DataFrame.fillna)  method is used to replace values from the environment.\n",
    "For our purposes, it will be most useful to omit missing records that were created by the unsightly layout of the Excel file."
   ]
  },
  {
   "cell_type": "markdown",
   "metadata": {},
   "source": [
    "But first we should find out exactly where the missing values are. The [`isna`](https://pandas.pydata.org/pandas-docs/stable/reference/api/pandas.DataFrame.isna.html#pandas.DataFrame.isna)  method can \"find\" undefined values:"
   ]
  },
  {
   "cell_type": "code",
   "execution_count": 27,
   "metadata": {},
   "outputs": [
    {
     "data": {
      "text/html": [
       "<div>\n",
       "<style scoped>\n",
       "    .dataframe tbody tr th:only-of-type {\n",
       "        vertical-align: middle;\n",
       "    }\n",
       "\n",
       "    .dataframe tbody tr th {\n",
       "        vertical-align: top;\n",
       "    }\n",
       "\n",
       "    .dataframe thead th {\n",
       "        text-align: right;\n",
       "    }\n",
       "</style>\n",
       "<table border=\"1\" class=\"dataframe\">\n",
       "  <thead>\n",
       "    <tr style=\"text-align: right;\">\n",
       "      <th></th>\n",
       "      <th>year</th>\n",
       "      <th>month</th>\n",
       "      <th>day</th>\n",
       "      <th>average temperature</th>\n",
       "      <th>date</th>\n",
       "    </tr>\n",
       "  </thead>\n",
       "  <tbody>\n",
       "    <tr>\n",
       "      <th>0</th>\n",
       "      <td>False</td>\n",
       "      <td>False</td>\n",
       "      <td>False</td>\n",
       "      <td>False</td>\n",
       "      <td>False</td>\n",
       "    </tr>\n",
       "    <tr>\n",
       "      <th>1</th>\n",
       "      <td>False</td>\n",
       "      <td>False</td>\n",
       "      <td>False</td>\n",
       "      <td>False</td>\n",
       "      <td>False</td>\n",
       "    </tr>\n",
       "    <tr>\n",
       "      <th>2</th>\n",
       "      <td>False</td>\n",
       "      <td>False</td>\n",
       "      <td>False</td>\n",
       "      <td>False</td>\n",
       "      <td>False</td>\n",
       "    </tr>\n",
       "    <tr>\n",
       "      <th>3</th>\n",
       "      <td>False</td>\n",
       "      <td>False</td>\n",
       "      <td>False</td>\n",
       "      <td>False</td>\n",
       "      <td>False</td>\n",
       "    </tr>\n",
       "    <tr>\n",
       "      <th>4</th>\n",
       "      <td>False</td>\n",
       "      <td>False</td>\n",
       "      <td>False</td>\n",
       "      <td>False</td>\n",
       "      <td>False</td>\n",
       "    </tr>\n",
       "    <tr>\n",
       "      <th>...</th>\n",
       "      <td>...</td>\n",
       "      <td>...</td>\n",
       "      <td>...</td>\n",
       "      <td>...</td>\n",
       "      <td>...</td>\n",
       "    </tr>\n",
       "    <tr>\n",
       "      <th>21571</th>\n",
       "      <td>False</td>\n",
       "      <td>False</td>\n",
       "      <td>False</td>\n",
       "      <td>False</td>\n",
       "      <td>False</td>\n",
       "    </tr>\n",
       "    <tr>\n",
       "      <th>21572</th>\n",
       "      <td>False</td>\n",
       "      <td>False</td>\n",
       "      <td>False</td>\n",
       "      <td>True</td>\n",
       "      <td>True</td>\n",
       "    </tr>\n",
       "    <tr>\n",
       "      <th>21573</th>\n",
       "      <td>False</td>\n",
       "      <td>False</td>\n",
       "      <td>False</td>\n",
       "      <td>False</td>\n",
       "      <td>False</td>\n",
       "    </tr>\n",
       "    <tr>\n",
       "      <th>21574</th>\n",
       "      <td>False</td>\n",
       "      <td>False</td>\n",
       "      <td>False</td>\n",
       "      <td>True</td>\n",
       "      <td>True</td>\n",
       "    </tr>\n",
       "    <tr>\n",
       "      <th>21575</th>\n",
       "      <td>False</td>\n",
       "      <td>False</td>\n",
       "      <td>False</td>\n",
       "      <td>False</td>\n",
       "      <td>False</td>\n",
       "    </tr>\n",
       "  </tbody>\n",
       "</table>\n",
       "<p>21576 rows × 5 columns</p>\n",
       "</div>"
      ],
      "text/plain": [
       "        year  month    day  average temperature   date\n",
       "0      False  False  False                False  False\n",
       "1      False  False  False                False  False\n",
       "2      False  False  False                False  False\n",
       "3      False  False  False                False  False\n",
       "4      False  False  False                False  False\n",
       "...      ...    ...    ...                  ...    ...\n",
       "21571  False  False  False                False  False\n",
       "21572  False  False  False                 True   True\n",
       "21573  False  False  False                False  False\n",
       "21574  False  False  False                 True   True\n",
       "21575  False  False  False                False  False\n",
       "\n",
       "[21576 rows x 5 columns]"
      ]
     },
     "execution_count": 27,
     "metadata": {},
     "output_type": "execute_result"
    }
   ],
   "source": [
    "average_tidy_temperature.isna()"
   ]
  },
  {
   "cell_type": "markdown",
   "metadata": {},
   "source": [
    "Using `sum` on `True` and `False` is a useful trick, `True` counts as 1, `False` as 0."
   ]
  },
  {
   "cell_type": "code",
   "execution_count": 29,
   "metadata": {},
   "outputs": [
    {
     "data": {
      "text/plain": [
       "year                     0\n",
       "month                    0\n",
       "day                      0\n",
       "average temperature    392\n",
       "date                   392\n",
       "dtype: int64"
      ]
     },
     "execution_count": 29,
     "metadata": {},
     "output_type": "execute_result"
    }
   ],
   "source": [
    "average_tidy_temperature.isna().sum()"
   ]
  },
  {
   "cell_type": "markdown",
   "metadata": {},
   "source": [
    "So we see that there are 392 undefined values in the temperature and date columns."
   ]
  },
  {
   "cell_type": "markdown",
   "metadata": {},
   "source": [
    "We can also display a selection of lines where there is at least some `NaN`. Surely you remember that you can index using a series of type `bool`. The small problem is that we have more of those rows - one for each column. But we can use `.any(axis = 1)` to select lines where there is at least some `NaN`:"
   ]
  },
  {
   "cell_type": "code",
   "execution_count": 30,
   "metadata": {},
   "outputs": [
    {
     "data": {
      "text/html": [
       "<div>\n",
       "<style scoped>\n",
       "    .dataframe tbody tr th:only-of-type {\n",
       "        vertical-align: middle;\n",
       "    }\n",
       "\n",
       "    .dataframe tbody tr th {\n",
       "        vertical-align: top;\n",
       "    }\n",
       "\n",
       "    .dataframe thead th {\n",
       "        text-align: right;\n",
       "    }\n",
       "</style>\n",
       "<table border=\"1\" class=\"dataframe\">\n",
       "  <thead>\n",
       "    <tr style=\"text-align: right;\">\n",
       "      <th></th>\n",
       "      <th>year</th>\n",
       "      <th>month</th>\n",
       "      <th>day</th>\n",
       "      <th>average temperature</th>\n",
       "      <th>date</th>\n",
       "    </tr>\n",
       "  </thead>\n",
       "  <tbody>\n",
       "    <tr>\n",
       "      <th>21200</th>\n",
       "      <td>1987</td>\n",
       "      <td>9</td>\n",
       "      <td>31.</td>\n",
       "      <td>NaN</td>\n",
       "      <td>NaT</td>\n",
       "    </tr>\n",
       "    <tr>\n",
       "      <th>21507</th>\n",
       "      <td>2013</td>\n",
       "      <td>4</td>\n",
       "      <td>31.</td>\n",
       "      <td>NaN</td>\n",
       "      <td>NaT</td>\n",
       "    </tr>\n",
       "    <tr>\n",
       "      <th>21164</th>\n",
       "      <td>1984</td>\n",
       "      <td>9</td>\n",
       "      <td>31.</td>\n",
       "      <td>NaN</td>\n",
       "      <td>NaT</td>\n",
       "    </tr>\n",
       "    <tr>\n",
       "      <th>21171</th>\n",
       "      <td>1985</td>\n",
       "      <td>4</td>\n",
       "      <td>31.</td>\n",
       "      <td>NaN</td>\n",
       "      <td>NaT</td>\n",
       "    </tr>\n",
       "    <tr>\n",
       "      <th>21128</th>\n",
       "      <td>1981</td>\n",
       "      <td>9</td>\n",
       "      <td>31.</td>\n",
       "      <td>NaN</td>\n",
       "      <td>NaT</td>\n",
       "    </tr>\n",
       "  </tbody>\n",
       "</table>\n",
       "</div>"
      ],
      "text/plain": [
       "       year  month  day  average temperature date\n",
       "21200  1987      9  31.                  NaN  NaT\n",
       "21507  2013      4  31.                  NaN  NaT\n",
       "21164  1984      9  31.                  NaN  NaT\n",
       "21171  1985      4  31.                  NaN  NaT\n",
       "21128  1981      9  31.                  NaN  NaT"
      ]
     },
     "execution_count": 30,
     "metadata": {},
     "output_type": "execute_result"
    }
   ],
   "source": [
    "average_tidy_temperature.loc[average_tidy_temperature.isna().any(axis = 1)].sample(5)"
   ]
  },
  {
   "cell_type": "markdown",
   "metadata": {},
   "source": [
    "On the other hand, the `count` method is a way to get the number of missing (valid) values"
   ]
  },
  {
   "cell_type": "code",
   "execution_count": 31,
   "metadata": {},
   "outputs": [
    {
     "data": {
      "text/plain": [
       "year                   21576\n",
       "month                  21576\n",
       "day                    21576\n",
       "average temperature    21184\n",
       "date                   21184\n",
       "dtype: int64"
      ]
     },
     "execution_count": 31,
     "metadata": {},
     "output_type": "execute_result"
    }
   ],
   "source": [
    "average_tidy_temperature.count()"
   ]
  },
  {
   "cell_type": "markdown",
   "metadata": {},
   "source": [
    "**Question:**      \n",
    "What does `average_tidy.isna().Count()` return?"
   ]
  },
  {
   "cell_type": "markdown",
   "metadata": {},
   "source": [
    "But now we want to delete the missing data. Let's look at a simple example of how [`dropna`](https://pandas.pydata.org/pandas-docs/stable/reference/api/pandas.DataFrame.dropna.html#pandas.DataFrame.dropna) works."
   ]
  },
  {
   "cell_type": "code",
   "execution_count": 32,
   "metadata": {},
   "outputs": [
    {
     "data": {
      "text/html": [
       "<div>\n",
       "<style scoped>\n",
       "    .dataframe tbody tr th:only-of-type {\n",
       "        vertical-align: middle;\n",
       "    }\n",
       "\n",
       "    .dataframe tbody tr th {\n",
       "        vertical-align: top;\n",
       "    }\n",
       "\n",
       "    .dataframe thead th {\n",
       "        text-align: right;\n",
       "    }\n",
       "</style>\n",
       "<table border=\"1\" class=\"dataframe\">\n",
       "  <thead>\n",
       "    <tr style=\"text-align: right;\">\n",
       "      <th></th>\n",
       "      <th>A</th>\n",
       "      <th>B</th>\n",
       "    </tr>\n",
       "  </thead>\n",
       "  <tbody>\n",
       "    <tr>\n",
       "      <th>0</th>\n",
       "      <td>1.0</td>\n",
       "      <td>1.0</td>\n",
       "    </tr>\n",
       "    <tr>\n",
       "      <th>1</th>\n",
       "      <td>2.0</td>\n",
       "      <td>2.0</td>\n",
       "    </tr>\n",
       "    <tr>\n",
       "      <th>2</th>\n",
       "      <td>NaN</td>\n",
       "      <td>3.0</td>\n",
       "    </tr>\n",
       "    <tr>\n",
       "      <th>3</th>\n",
       "      <td>4.0</td>\n",
       "      <td>NaN</td>\n",
       "    </tr>\n",
       "    <tr>\n",
       "      <th>4</th>\n",
       "      <td>5.0</td>\n",
       "      <td>5.0</td>\n",
       "    </tr>\n",
       "  </tbody>\n",
       "</table>\n",
       "</div>"
      ],
      "text/plain": [
       "     A    B\n",
       "0  1.0  1.0\n",
       "1  2.0  2.0\n",
       "2  NaN  3.0\n",
       "3  4.0  NaN\n",
       "4  5.0  5.0"
      ]
     },
     "execution_count": 32,
     "metadata": {},
     "output_type": "execute_result"
    }
   ],
   "source": [
    "# example of data with missing values\n",
    "example_with_nan = pd.DataFrame ({\"A\": [1, 2, np.nan, 4, 5], \"B\": [1, 2, 3, np.nan, 5]})\n",
    "example_with_nan"
   ]
  },
  {
   "cell_type": "markdown",
   "metadata": {},
   "source": [
    "After `dropna` there will be only rows without missing values."
   ]
  },
  {
   "cell_type": "code",
   "execution_count": 33,
   "metadata": {},
   "outputs": [
    {
     "data": {
      "text/html": [
       "<div>\n",
       "<style scoped>\n",
       "    .dataframe tbody tr th:only-of-type {\n",
       "        vertical-align: middle;\n",
       "    }\n",
       "\n",
       "    .dataframe tbody tr th {\n",
       "        vertical-align: top;\n",
       "    }\n",
       "\n",
       "    .dataframe thead th {\n",
       "        text-align: right;\n",
       "    }\n",
       "</style>\n",
       "<table border=\"1\" class=\"dataframe\">\n",
       "  <thead>\n",
       "    <tr style=\"text-align: right;\">\n",
       "      <th></th>\n",
       "      <th>A</th>\n",
       "      <th>B</th>\n",
       "    </tr>\n",
       "  </thead>\n",
       "  <tbody>\n",
       "    <tr>\n",
       "      <th>0</th>\n",
       "      <td>1.0</td>\n",
       "      <td>1.0</td>\n",
       "    </tr>\n",
       "    <tr>\n",
       "      <th>1</th>\n",
       "      <td>2.0</td>\n",
       "      <td>2.0</td>\n",
       "    </tr>\n",
       "    <tr>\n",
       "      <th>4</th>\n",
       "      <td>5.0</td>\n",
       "      <td>5.0</td>\n",
       "    </tr>\n",
       "  </tbody>\n",
       "</table>\n",
       "</div>"
      ],
      "text/plain": [
       "     A    B\n",
       "0  1.0  1.0\n",
       "1  2.0  2.0\n",
       "4  5.0  5.0"
      ]
     },
     "execution_count": 33,
     "metadata": {},
     "output_type": "execute_result"
    }
   ],
   "source": [
    "example_with_nan.dropna()"
   ]
  },
  {
   "cell_type": "markdown",
   "metadata": {},
   "source": [
    "This is exactly what we need for our data, which we will now clear from undefined values:"
   ]
  },
  {
   "cell_type": "code",
   "execution_count": 34,
   "metadata": {},
   "outputs": [],
   "source": [
    "average_tidy_clean = average_tidy_temperature.dropna()"
   ]
  },
  {
   "cell_type": "markdown",
   "metadata": {},
   "source": [
    "**Task:**     \n",
    "Take advantage of the fact that the temperature is not defined on non-existent days. Use `dropna` appropriately in constructing dates so that we don't have to use `errors = \"coerce\"`for `to_datetime`."
   ]
  },
  {
   "cell_type": "code",
   "execution_count": null,
   "metadata": {
    "tags": []
   },
   "outputs": [],
   "source": [
    "# add a drop\n",
    "pd.to_datetime(\n",
    "average_tidy_temperature[[\"year\", \"month\", \"day\"]],\n",
    ")"
   ]
  },
  {
   "cell_type": "markdown",
   "metadata": {},
   "source": [
    "**Task**:    \n",
    "From the variable `average_tidy_clean`, create `average_tidy_clean_indexed` with the `date` column as the index and without the `year`, `month` and `day` columns. You can use the `drop` method or index with column names."
   ]
  },
  {
   "cell_type": "code",
   "execution_count": null,
   "metadata": {},
   "outputs": [],
   "source": [
    "average_tidy_temperature_clean_indexed = ___"
   ]
  },
  {
   "cell_type": "markdown",
   "metadata": {},
   "source": [
    "### All together\n",
    "We are now done with parsing the whole file, ie loading it and converting it to the required Pandas `DataFrame` form. For future us we will define a function for this. As part of this function, we also throw out the year, month, and day columns, use the date column as an index, and sort data by date. We have added the sheet name as an input parameter, which will be useful immediately for loading all sheets into one `DataFrame`."
   ]
  },
  {
   "cell_type": "code",
   "execution_count": 4,
   "metadata": {},
   "outputs": [],
   "source": [
    "def extract_and_clean_temp_excel_sheet(excel_data, sheet_name):\n",
    "    \"\"\"Parse historical meteo excel data\"\"\"\n",
    "    # load sheet from excel file and convert to tidy data format    \n",
    "    data_tidy = (\n",
    "        excel_data.parse(sheet_name, skiprows=3).melt(id_vars = [\"year\", \"month\"], var_name = \"day\", value_name = sheet_name).dropna())\n",
    "    # create a time series of dates    \n",
    "    date = pd.to_datetime(\n",
    "    data_tidy[[\"year\", \"month\", \"day\"]],\n",
    "        )\n",
    "    # add a date column as an index and remove the day, month, year and return a sorted result    \n",
    "    return (\n",
    "    data_tidy.assign(date = date).set_index(\"date\").drop(columns = [\"year\", \"month\", \"day\"]).sort_index()\n",
    "              )"
   ]
  },
  {
   "cell_type": "markdown",
   "metadata": {},
   "source": [
    "And now we can load all the data from Ruzyně as they will be useful for analysis."
   ]
  },
  {
   "cell_type": "code",
   "execution_count": 6,
   "metadata": {},
   "outputs": [],
   "source": [
    "# open the Excel file\n",
    "excel_data_ruzyne = pd.ExcelFile(\"P1PRUZ01.xlsx\")\n",
    "# load all sheets except the first\n",
    "extracted_sheets = (\n",
    "    extract_and_clean_temp_excel_sheet(excel_data_ruzyne, sheet_name)\n",
    "    for sheet_name in excel_data_ruzyne.sheet_names[1:]\n",
    ")\n",
    "# merge all sheets into one DataFrame\n",
    "ruzyne_tidy = pd.concat(extracted_sheets, axis=1)"
   ]
  },
  {
   "cell_type": "markdown",
   "metadata": {},
   "source": [
    "When using `concat`, it is important that all data have the same index. `axis = 1` says columns should be stacked side by side. The default `axis = 0` would merge the data under each other and it would not turn out quite well (you can try :). We will talk in more detail about joining the tables next time.\n",
    "Let's look at the resulting table `ruzyne_tidy`."
   ]
  },
  {
   "cell_type": "code",
   "execution_count": 7,
   "metadata": {},
   "outputs": [
    {
     "data": {
      "text/html": [
       "<div>\n",
       "<style scoped>\n",
       "    .dataframe tbody tr th:only-of-type {\n",
       "        vertical-align: middle;\n",
       "    }\n",
       "\n",
       "    .dataframe tbody tr th {\n",
       "        vertical-align: top;\n",
       "    }\n",
       "\n",
       "    .dataframe thead th {\n",
       "        text-align: right;\n",
       "    }\n",
       "</style>\n",
       "<table border=\"1\" class=\"dataframe\">\n",
       "  <thead>\n",
       "    <tr style=\"text-align: right;\">\n",
       "      <th></th>\n",
       "      <th>average temperature</th>\n",
       "      <th>max temperature</th>\n",
       "      <th>min temperature</th>\n",
       "      <th>wind speed</th>\n",
       "      <th>atmospheric pressure</th>\n",
       "      <th>humidity</th>\n",
       "      <th>precipitation</th>\n",
       "      <th>total snow depth</th>\n",
       "      <th>sunshine</th>\n",
       "    </tr>\n",
       "    <tr>\n",
       "      <th>date</th>\n",
       "      <th></th>\n",
       "      <th></th>\n",
       "      <th></th>\n",
       "      <th></th>\n",
       "      <th></th>\n",
       "      <th></th>\n",
       "      <th></th>\n",
       "      <th></th>\n",
       "      <th></th>\n",
       "    </tr>\n",
       "  </thead>\n",
       "  <tbody>\n",
       "    <tr>\n",
       "      <th>1961-01-01</th>\n",
       "      <td>-2.0</td>\n",
       "      <td>1.0</td>\n",
       "      <td>-3.4</td>\n",
       "      <td>1.7</td>\n",
       "      <td>969.9</td>\n",
       "      <td>87.0</td>\n",
       "      <td>0.0</td>\n",
       "      <td>6.0</td>\n",
       "      <td>0.4</td>\n",
       "    </tr>\n",
       "    <tr>\n",
       "      <th>1961-01-02</th>\n",
       "      <td>-1.9</td>\n",
       "      <td>-1.2</td>\n",
       "      <td>-2.4</td>\n",
       "      <td>3.0</td>\n",
       "      <td>965.2</td>\n",
       "      <td>89.0</td>\n",
       "      <td>0.0</td>\n",
       "      <td>4.0</td>\n",
       "      <td>0.0</td>\n",
       "    </tr>\n",
       "    <tr>\n",
       "      <th>1961-01-03</th>\n",
       "      <td>0.1</td>\n",
       "      <td>1.0</td>\n",
       "      <td>-2.6</td>\n",
       "      <td>2.7</td>\n",
       "      <td>952.3</td>\n",
       "      <td>80.0</td>\n",
       "      <td>0.0</td>\n",
       "      <td>3.0</td>\n",
       "      <td>0.0</td>\n",
       "    </tr>\n",
       "    <tr>\n",
       "      <th>1961-01-04</th>\n",
       "      <td>-0.3</td>\n",
       "      <td>2.1</td>\n",
       "      <td>-2.0</td>\n",
       "      <td>3.3</td>\n",
       "      <td>953.6</td>\n",
       "      <td>87.0</td>\n",
       "      <td>0.0</td>\n",
       "      <td>3.0</td>\n",
       "      <td>1.0</td>\n",
       "    </tr>\n",
       "    <tr>\n",
       "      <th>1961-01-05</th>\n",
       "      <td>0.4</td>\n",
       "      <td>2.8</td>\n",
       "      <td>-4.3</td>\n",
       "      <td>6.3</td>\n",
       "      <td>963.9</td>\n",
       "      <td>81.0</td>\n",
       "      <td>0.0</td>\n",
       "      <td>2.0</td>\n",
       "      <td>2.2</td>\n",
       "    </tr>\n",
       "    <tr>\n",
       "      <th>...</th>\n",
       "      <td>...</td>\n",
       "      <td>...</td>\n",
       "      <td>...</td>\n",
       "      <td>...</td>\n",
       "      <td>...</td>\n",
       "      <td>...</td>\n",
       "      <td>...</td>\n",
       "      <td>...</td>\n",
       "      <td>...</td>\n",
       "    </tr>\n",
       "    <tr>\n",
       "      <th>2018-12-27</th>\n",
       "      <td>4.0</td>\n",
       "      <td>6.5</td>\n",
       "      <td>2.7</td>\n",
       "      <td>5.4</td>\n",
       "      <td>981.4</td>\n",
       "      <td>88.0</td>\n",
       "      <td>0.0</td>\n",
       "      <td>0.0</td>\n",
       "      <td>0.5</td>\n",
       "    </tr>\n",
       "    <tr>\n",
       "      <th>2018-12-28</th>\n",
       "      <td>3.9</td>\n",
       "      <td>6.2</td>\n",
       "      <td>0.3</td>\n",
       "      <td>3.9</td>\n",
       "      <td>981.5</td>\n",
       "      <td>82.0</td>\n",
       "      <td>0.0</td>\n",
       "      <td>0.0</td>\n",
       "      <td>3.9</td>\n",
       "    </tr>\n",
       "    <tr>\n",
       "      <th>2018-12-29</th>\n",
       "      <td>2.2</td>\n",
       "      <td>4.8</td>\n",
       "      <td>1.3</td>\n",
       "      <td>5.8</td>\n",
       "      <td>983.8</td>\n",
       "      <td>87.0</td>\n",
       "      <td>0.8</td>\n",
       "      <td>0.0</td>\n",
       "      <td>0.5</td>\n",
       "    </tr>\n",
       "    <tr>\n",
       "      <th>2018-12-30</th>\n",
       "      <td>4.1</td>\n",
       "      <td>5.8</td>\n",
       "      <td>1.0</td>\n",
       "      <td>7.9</td>\n",
       "      <td>980.0</td>\n",
       "      <td>82.0</td>\n",
       "      <td>0.5</td>\n",
       "      <td>0.0</td>\n",
       "      <td>0.5</td>\n",
       "    </tr>\n",
       "    <tr>\n",
       "      <th>2018-12-31</th>\n",
       "      <td>3.7</td>\n",
       "      <td>5.4</td>\n",
       "      <td>1.2</td>\n",
       "      <td>3.2</td>\n",
       "      <td>986.2</td>\n",
       "      <td>85.0</td>\n",
       "      <td>0.0</td>\n",
       "      <td>0.0</td>\n",
       "      <td>0.0</td>\n",
       "    </tr>\n",
       "  </tbody>\n",
       "</table>\n",
       "<p>21184 rows × 9 columns</p>\n",
       "</div>"
      ],
      "text/plain": [
       "            average temperature  max temperature  min temperature  wind speed  \\\n",
       "date                                                                            \n",
       "1961-01-01                 -2.0              1.0             -3.4         1.7   \n",
       "1961-01-02                 -1.9             -1.2             -2.4         3.0   \n",
       "1961-01-03                  0.1              1.0             -2.6         2.7   \n",
       "1961-01-04                 -0.3              2.1             -2.0         3.3   \n",
       "1961-01-05                  0.4              2.8             -4.3         6.3   \n",
       "...                         ...              ...              ...         ...   \n",
       "2018-12-27                  4.0              6.5              2.7         5.4   \n",
       "2018-12-28                  3.9              6.2              0.3         3.9   \n",
       "2018-12-29                  2.2              4.8              1.3         5.8   \n",
       "2018-12-30                  4.1              5.8              1.0         7.9   \n",
       "2018-12-31                  3.7              5.4              1.2         3.2   \n",
       "\n",
       "            atmospheric pressure  humidity  precipitation  total snow depth  \\\n",
       "date                                                                          \n",
       "1961-01-01                 969.9      87.0            0.0               6.0   \n",
       "1961-01-02                 965.2      89.0            0.0               4.0   \n",
       "1961-01-03                 952.3      80.0            0.0               3.0   \n",
       "1961-01-04                 953.6      87.0            0.0               3.0   \n",
       "1961-01-05                 963.9      81.0            0.0               2.0   \n",
       "...                          ...       ...            ...               ...   \n",
       "2018-12-27                 981.4      88.0            0.0               0.0   \n",
       "2018-12-28                 981.5      82.0            0.0               0.0   \n",
       "2018-12-29                 983.8      87.0            0.8               0.0   \n",
       "2018-12-30                 980.0      82.0            0.5               0.0   \n",
       "2018-12-31                 986.2      85.0            0.0               0.0   \n",
       "\n",
       "            sunshine  \n",
       "date                  \n",
       "1961-01-01       0.4  \n",
       "1961-01-02       0.0  \n",
       "1961-01-03       0.0  \n",
       "1961-01-04       1.0  \n",
       "1961-01-05       2.2  \n",
       "...              ...  \n",
       "2018-12-27       0.5  \n",
       "2018-12-28       3.9  \n",
       "2018-12-29       0.5  \n",
       "2018-12-30       0.5  \n",
       "2018-12-31       0.0  \n",
       "\n",
       "[21184 rows x 9 columns]"
      ]
     },
     "execution_count": 7,
     "metadata": {},
     "output_type": "execute_result"
    }
   ],
   "source": [
    "ruzyne_tidy"
   ]
  },
  {
   "cell_type": "markdown",
   "metadata": {},
   "source": [
    "## Indexing and interval selection\n",
    "The data we have read and cleaned up actually consists of several time series in the individual columns of the `ruzyne_tidy` table. Granularity (or frequency or time resolution) is one day.\n",
    "Using `to_period()` we could also convert the index data type to `period[D]`. This can speed up some operations, but it is not necessary for our use."
   ]
  },
  {
   "cell_type": "code",
   "execution_count": 44,
   "metadata": {},
   "outputs": [
    {
     "data": {
      "text/plain": [
       "PeriodIndex(['1961-01-01', '1961-01-02', '1961-01-03', '1961-01-04',\n",
       "             '1961-01-05', '1961-01-06', '1961-01-07', '1961-01-08',\n",
       "             '1961-01-09', '1961-01-10',\n",
       "             ...\n",
       "             '2018-12-22', '2018-12-23', '2018-12-24', '2018-12-25',\n",
       "             '2018-12-26', '2018-12-27', '2018-12-28', '2018-12-29',\n",
       "             '2018-12-30', '2018-12-31'],\n",
       "            dtype='period[D]', name='date', length=21184)"
      ]
     },
     "execution_count": 44,
     "metadata": {},
     "output_type": "execute_result"
    }
   ],
   "source": [
    "ruzyne_tidy.index.to_period()"
   ]
  },
  {
   "cell_type": "markdown",
   "metadata": {},
   "source": [
    "We have already shown indexing (interval selection) using `.loc`. Of course, it also works for time series. Note that `.loc` returns data *including* upper bound, *unlike* indexing `lists` or numpy fields.\n",
    "We can select a specific period as follows:"
   ]
  },
  {
   "cell_type": "code",
   "execution_count": 45,
   "metadata": {},
   "outputs": [
    {
     "data": {
      "text/html": [
       "<div>\n",
       "<style scoped>\n",
       "    .dataframe tbody tr th:only-of-type {\n",
       "        vertical-align: middle;\n",
       "    }\n",
       "\n",
       "    .dataframe tbody tr th {\n",
       "        vertical-align: top;\n",
       "    }\n",
       "\n",
       "    .dataframe thead th {\n",
       "        text-align: right;\n",
       "    }\n",
       "</style>\n",
       "<table border=\"1\" class=\"dataframe\">\n",
       "  <thead>\n",
       "    <tr style=\"text-align: right;\">\n",
       "      <th></th>\n",
       "      <th>average temperature</th>\n",
       "      <th>max temperature</th>\n",
       "      <th>min temperature</th>\n",
       "      <th>wind speed</th>\n",
       "      <th>atmospheric pressure</th>\n",
       "      <th>humidity</th>\n",
       "      <th>precipitation</th>\n",
       "      <th>total snow depth</th>\n",
       "      <th>sunshine</th>\n",
       "    </tr>\n",
       "    <tr>\n",
       "      <th>date</th>\n",
       "      <th></th>\n",
       "      <th></th>\n",
       "      <th></th>\n",
       "      <th></th>\n",
       "      <th></th>\n",
       "      <th></th>\n",
       "      <th></th>\n",
       "      <th></th>\n",
       "      <th></th>\n",
       "    </tr>\n",
       "  </thead>\n",
       "  <tbody>\n",
       "    <tr>\n",
       "      <th>2017-12-24</th>\n",
       "      <td>6.1</td>\n",
       "      <td>7.0</td>\n",
       "      <td>5.5</td>\n",
       "      <td>7.7</td>\n",
       "      <td>979.5</td>\n",
       "      <td>82.0</td>\n",
       "      <td>0.0</td>\n",
       "      <td>0.0</td>\n",
       "      <td>0.3</td>\n",
       "    </tr>\n",
       "    <tr>\n",
       "      <th>2017-12-25</th>\n",
       "      <td>1.7</td>\n",
       "      <td>5.7</td>\n",
       "      <td>-0.6</td>\n",
       "      <td>4.0</td>\n",
       "      <td>975.4</td>\n",
       "      <td>88.0</td>\n",
       "      <td>0.0</td>\n",
       "      <td>0.0</td>\n",
       "      <td>0.0</td>\n",
       "    </tr>\n",
       "    <tr>\n",
       "      <th>2017-12-26</th>\n",
       "      <td>1.2</td>\n",
       "      <td>4.5</td>\n",
       "      <td>-4.5</td>\n",
       "      <td>3.7</td>\n",
       "      <td>964.1</td>\n",
       "      <td>85.0</td>\n",
       "      <td>0.0</td>\n",
       "      <td>0.0</td>\n",
       "      <td>1.6</td>\n",
       "    </tr>\n",
       "    <tr>\n",
       "      <th>2017-12-27</th>\n",
       "      <td>-0.7</td>\n",
       "      <td>3.4</td>\n",
       "      <td>-3.5</td>\n",
       "      <td>2.7</td>\n",
       "      <td>949.1</td>\n",
       "      <td>91.0</td>\n",
       "      <td>2.2</td>\n",
       "      <td>0.0</td>\n",
       "      <td>0.8</td>\n",
       "    </tr>\n",
       "    <tr>\n",
       "      <th>2017-12-28</th>\n",
       "      <td>1.0</td>\n",
       "      <td>1.5</td>\n",
       "      <td>-0.8</td>\n",
       "      <td>5.7</td>\n",
       "      <td>951.8</td>\n",
       "      <td>87.0</td>\n",
       "      <td>7.0</td>\n",
       "      <td>0.0</td>\n",
       "      <td>0.0</td>\n",
       "    </tr>\n",
       "    <tr>\n",
       "      <th>2017-12-29</th>\n",
       "      <td>-1.7</td>\n",
       "      <td>1.2</td>\n",
       "      <td>-3.8</td>\n",
       "      <td>6.3</td>\n",
       "      <td>965.0</td>\n",
       "      <td>79.0</td>\n",
       "      <td>0.1</td>\n",
       "      <td>1.0</td>\n",
       "      <td>1.9</td>\n",
       "    </tr>\n",
       "    <tr>\n",
       "      <th>2017-12-30</th>\n",
       "      <td>2.5</td>\n",
       "      <td>4.8</td>\n",
       "      <td>-3.8</td>\n",
       "      <td>5.7</td>\n",
       "      <td>962.7</td>\n",
       "      <td>86.0</td>\n",
       "      <td>1.8</td>\n",
       "      <td>1.0</td>\n",
       "      <td>0.2</td>\n",
       "    </tr>\n",
       "    <tr>\n",
       "      <th>2017-12-31</th>\n",
       "      <td>9.1</td>\n",
       "      <td>11.5</td>\n",
       "      <td>4.5</td>\n",
       "      <td>6.7</td>\n",
       "      <td>964.6</td>\n",
       "      <td>81.0</td>\n",
       "      <td>0.5</td>\n",
       "      <td>0.0</td>\n",
       "      <td>1.2</td>\n",
       "    </tr>\n",
       "    <tr>\n",
       "      <th>2018-01-01</th>\n",
       "      <td>4.1</td>\n",
       "      <td>9.1</td>\n",
       "      <td>0.4</td>\n",
       "      <td>4.7</td>\n",
       "      <td>962.9</td>\n",
       "      <td>77.0</td>\n",
       "      <td>0.0</td>\n",
       "      <td>0.0</td>\n",
       "      <td>0.4</td>\n",
       "    </tr>\n",
       "  </tbody>\n",
       "</table>\n",
       "</div>"
      ],
      "text/plain": [
       "            average temperature  max temperature  min temperature  wind speed  \\\n",
       "date                                                                            \n",
       "2017-12-24                  6.1              7.0              5.5         7.7   \n",
       "2017-12-25                  1.7              5.7             -0.6         4.0   \n",
       "2017-12-26                  1.2              4.5             -4.5         3.7   \n",
       "2017-12-27                 -0.7              3.4             -3.5         2.7   \n",
       "2017-12-28                  1.0              1.5             -0.8         5.7   \n",
       "2017-12-29                 -1.7              1.2             -3.8         6.3   \n",
       "2017-12-30                  2.5              4.8             -3.8         5.7   \n",
       "2017-12-31                  9.1             11.5              4.5         6.7   \n",
       "2018-01-01                  4.1              9.1              0.4         4.7   \n",
       "\n",
       "            atmospheric pressure  humidity  precipitation  total snow depth  \\\n",
       "date                                                                          \n",
       "2017-12-24                 979.5      82.0            0.0               0.0   \n",
       "2017-12-25                 975.4      88.0            0.0               0.0   \n",
       "2017-12-26                 964.1      85.0            0.0               0.0   \n",
       "2017-12-27                 949.1      91.0            2.2               0.0   \n",
       "2017-12-28                 951.8      87.0            7.0               0.0   \n",
       "2017-12-29                 965.0      79.0            0.1               1.0   \n",
       "2017-12-30                 962.7      86.0            1.8               1.0   \n",
       "2017-12-31                 964.6      81.0            0.5               0.0   \n",
       "2018-01-01                 962.9      77.0            0.0               0.0   \n",
       "\n",
       "            sunshine  \n",
       "date                  \n",
       "2017-12-24       0.3  \n",
       "2017-12-25       0.0  \n",
       "2017-12-26       1.6  \n",
       "2017-12-27       0.8  \n",
       "2017-12-28       0.0  \n",
       "2017-12-29       1.9  \n",
       "2017-12-30       0.2  \n",
       "2017-12-31       1.2  \n",
       "2018-01-01       0.4  "
      ]
     },
     "execution_count": 45,
     "metadata": {},
     "output_type": "execute_result"
    }
   ],
   "source": [
    "ruzyne_tidy.loc[pd.Timestamp(2017, 12, 24):pd.Timestamp(2018, 1, 1)]"
   ]
  },
  {
   "cell_type": "markdown",
   "metadata": {},
   "source": [
    "### Time Variable Attributes\n",
    "Time variables of type [`DatetimeIndex`](https://pandas.pydata.org/pandas-docs/stable/reference/api/pandas.DatetimeIndex.html) provide a very useful set of attributes returning *parts of the time data, eg `.year` returns only the year, `.month` the month, etc.*, relative information, eg `.weekday` or` .weekofyear`* calendar properties like `is_quarter_start` or` is_year_end`, which would be quite difficult to find out numerically.\n",
    "If it is a column, you need to insert the [`.dt`](https://pandas.pydata.org/pandas-docs/stable/reference/api/pandas.Series.dt.html) accessor before the attribute."
   ]
  },
  {
   "cell_type": "code",
   "execution_count": 46,
   "metadata": {},
   "outputs": [
    {
     "data": {
      "text/plain": [
       "Int64Index([1961, 1961, 1961, 1961, 1961, 1961, 1961, 1961, 1961, 1961,\n",
       "            ...\n",
       "            2018, 2018, 2018, 2018, 2018, 2018, 2018, 2018, 2018, 2018],\n",
       "           dtype='int64', name='date', length=21184)"
      ]
     },
     "execution_count": 46,
     "metadata": {},
     "output_type": "execute_result"
    }
   ],
   "source": [
    "ruzyne_tidy.index.year"
   ]
  },
  {
   "cell_type": "markdown",
   "metadata": {},
   "source": [
    "We can choose one whole year, for example, as follows:"
   ]
  },
  {
   "cell_type": "code",
   "execution_count": 47,
   "metadata": {},
   "outputs": [
    {
     "data": {
      "text/html": [
       "<div>\n",
       "<style scoped>\n",
       "    .dataframe tbody tr th:only-of-type {\n",
       "        vertical-align: middle;\n",
       "    }\n",
       "\n",
       "    .dataframe tbody tr th {\n",
       "        vertical-align: top;\n",
       "    }\n",
       "\n",
       "    .dataframe thead th {\n",
       "        text-align: right;\n",
       "    }\n",
       "</style>\n",
       "<table border=\"1\" class=\"dataframe\">\n",
       "  <thead>\n",
       "    <tr style=\"text-align: right;\">\n",
       "      <th></th>\n",
       "      <th>average temperature</th>\n",
       "      <th>max temperature</th>\n",
       "      <th>min temperature</th>\n",
       "      <th>wind speed</th>\n",
       "      <th>atmospheric pressure</th>\n",
       "      <th>humidity</th>\n",
       "      <th>precipitation</th>\n",
       "      <th>total snow depth</th>\n",
       "      <th>sunshine</th>\n",
       "    </tr>\n",
       "    <tr>\n",
       "      <th>date</th>\n",
       "      <th></th>\n",
       "      <th></th>\n",
       "      <th></th>\n",
       "      <th></th>\n",
       "      <th></th>\n",
       "      <th></th>\n",
       "      <th></th>\n",
       "      <th></th>\n",
       "      <th></th>\n",
       "    </tr>\n",
       "  </thead>\n",
       "  <tbody>\n",
       "    <tr>\n",
       "      <th>2018-01-01</th>\n",
       "      <td>4.1</td>\n",
       "      <td>9.1</td>\n",
       "      <td>0.4</td>\n",
       "      <td>4.7</td>\n",
       "      <td>962.9</td>\n",
       "      <td>77.0</td>\n",
       "      <td>0.0</td>\n",
       "      <td>0.0</td>\n",
       "      <td>0.4</td>\n",
       "    </tr>\n",
       "    <tr>\n",
       "      <th>2018-01-02</th>\n",
       "      <td>3.9</td>\n",
       "      <td>5.7</td>\n",
       "      <td>0.5</td>\n",
       "      <td>6.9</td>\n",
       "      <td>965.8</td>\n",
       "      <td>81.0</td>\n",
       "      <td>1.0</td>\n",
       "      <td>0.0</td>\n",
       "      <td>0.5</td>\n",
       "    </tr>\n",
       "    <tr>\n",
       "      <th>2018-01-03</th>\n",
       "      <td>4.6</td>\n",
       "      <td>7.6</td>\n",
       "      <td>0.5</td>\n",
       "      <td>9.3</td>\n",
       "      <td>952.9</td>\n",
       "      <td>81.0</td>\n",
       "      <td>7.9</td>\n",
       "      <td>0.0</td>\n",
       "      <td>0.8</td>\n",
       "    </tr>\n",
       "    <tr>\n",
       "      <th>2018-01-04</th>\n",
       "      <td>4.5</td>\n",
       "      <td>5.7</td>\n",
       "      <td>3.9</td>\n",
       "      <td>5.9</td>\n",
       "      <td>955.9</td>\n",
       "      <td>82.0</td>\n",
       "      <td>0.9</td>\n",
       "      <td>0.0</td>\n",
       "      <td>0.5</td>\n",
       "    </tr>\n",
       "    <tr>\n",
       "      <th>2018-01-05</th>\n",
       "      <td>7.3</td>\n",
       "      <td>9.0</td>\n",
       "      <td>4.1</td>\n",
       "      <td>5.6</td>\n",
       "      <td>958.5</td>\n",
       "      <td>80.0</td>\n",
       "      <td>0.3</td>\n",
       "      <td>0.0</td>\n",
       "      <td>0.0</td>\n",
       "    </tr>\n",
       "    <tr>\n",
       "      <th>...</th>\n",
       "      <td>...</td>\n",
       "      <td>...</td>\n",
       "      <td>...</td>\n",
       "      <td>...</td>\n",
       "      <td>...</td>\n",
       "      <td>...</td>\n",
       "      <td>...</td>\n",
       "      <td>...</td>\n",
       "      <td>...</td>\n",
       "    </tr>\n",
       "    <tr>\n",
       "      <th>2018-12-27</th>\n",
       "      <td>4.0</td>\n",
       "      <td>6.5</td>\n",
       "      <td>2.7</td>\n",
       "      <td>5.4</td>\n",
       "      <td>981.4</td>\n",
       "      <td>88.0</td>\n",
       "      <td>0.0</td>\n",
       "      <td>0.0</td>\n",
       "      <td>0.5</td>\n",
       "    </tr>\n",
       "    <tr>\n",
       "      <th>2018-12-28</th>\n",
       "      <td>3.9</td>\n",
       "      <td>6.2</td>\n",
       "      <td>0.3</td>\n",
       "      <td>3.9</td>\n",
       "      <td>981.5</td>\n",
       "      <td>82.0</td>\n",
       "      <td>0.0</td>\n",
       "      <td>0.0</td>\n",
       "      <td>3.9</td>\n",
       "    </tr>\n",
       "    <tr>\n",
       "      <th>2018-12-29</th>\n",
       "      <td>2.2</td>\n",
       "      <td>4.8</td>\n",
       "      <td>1.3</td>\n",
       "      <td>5.8</td>\n",
       "      <td>983.8</td>\n",
       "      <td>87.0</td>\n",
       "      <td>0.8</td>\n",
       "      <td>0.0</td>\n",
       "      <td>0.5</td>\n",
       "    </tr>\n",
       "    <tr>\n",
       "      <th>2018-12-30</th>\n",
       "      <td>4.1</td>\n",
       "      <td>5.8</td>\n",
       "      <td>1.0</td>\n",
       "      <td>7.9</td>\n",
       "      <td>980.0</td>\n",
       "      <td>82.0</td>\n",
       "      <td>0.5</td>\n",
       "      <td>0.0</td>\n",
       "      <td>0.5</td>\n",
       "    </tr>\n",
       "    <tr>\n",
       "      <th>2018-12-31</th>\n",
       "      <td>3.7</td>\n",
       "      <td>5.4</td>\n",
       "      <td>1.2</td>\n",
       "      <td>3.2</td>\n",
       "      <td>986.2</td>\n",
       "      <td>85.0</td>\n",
       "      <td>0.0</td>\n",
       "      <td>0.0</td>\n",
       "      <td>0.0</td>\n",
       "    </tr>\n",
       "  </tbody>\n",
       "</table>\n",
       "<p>365 rows × 9 columns</p>\n",
       "</div>"
      ],
      "text/plain": [
       "            average temperature  max temperature  min temperature  wind speed  \\\n",
       "date                                                                            \n",
       "2018-01-01                  4.1              9.1              0.4         4.7   \n",
       "2018-01-02                  3.9              5.7              0.5         6.9   \n",
       "2018-01-03                  4.6              7.6              0.5         9.3   \n",
       "2018-01-04                  4.5              5.7              3.9         5.9   \n",
       "2018-01-05                  7.3              9.0              4.1         5.6   \n",
       "...                         ...              ...              ...         ...   \n",
       "2018-12-27                  4.0              6.5              2.7         5.4   \n",
       "2018-12-28                  3.9              6.2              0.3         3.9   \n",
       "2018-12-29                  2.2              4.8              1.3         5.8   \n",
       "2018-12-30                  4.1              5.8              1.0         7.9   \n",
       "2018-12-31                  3.7              5.4              1.2         3.2   \n",
       "\n",
       "            atmospheric pressure  humidity  precipitation  total snow depth  \\\n",
       "date                                                                          \n",
       "2018-01-01                 962.9      77.0            0.0               0.0   \n",
       "2018-01-02                 965.8      81.0            1.0               0.0   \n",
       "2018-01-03                 952.9      81.0            7.9               0.0   \n",
       "2018-01-04                 955.9      82.0            0.9               0.0   \n",
       "2018-01-05                 958.5      80.0            0.3               0.0   \n",
       "...                          ...       ...            ...               ...   \n",
       "2018-12-27                 981.4      88.0            0.0               0.0   \n",
       "2018-12-28                 981.5      82.0            0.0               0.0   \n",
       "2018-12-29                 983.8      87.0            0.8               0.0   \n",
       "2018-12-30                 980.0      82.0            0.5               0.0   \n",
       "2018-12-31                 986.2      85.0            0.0               0.0   \n",
       "\n",
       "            sunshine  \n",
       "date                  \n",
       "2018-01-01       0.4  \n",
       "2018-01-02       0.5  \n",
       "2018-01-03       0.8  \n",
       "2018-01-04       0.5  \n",
       "2018-01-05       0.0  \n",
       "...              ...  \n",
       "2018-12-27       0.5  \n",
       "2018-12-28       3.9  \n",
       "2018-12-29       0.5  \n",
       "2018-12-30       0.5  \n",
       "2018-12-31       0.0  \n",
       "\n",
       "[365 rows x 9 columns]"
      ]
     },
     "execution_count": 47,
     "metadata": {},
     "output_type": "execute_result"
    }
   ],
   "source": [
    "ruzyne_tidy.loc[ruzyne_tidy.index.year == 2018]"
   ]
  },
  {
   "cell_type": "markdown",
   "metadata": {},
   "source": [
    "Or we can get data for all the days before 1989, which are the beginnings of quarters and at the same time it's Mondays."
   ]
  },
  {
   "cell_type": "code",
   "execution_count": 48,
   "metadata": {},
   "outputs": [
    {
     "data": {
      "text/html": [
       "<div>\n",
       "<style scoped>\n",
       "    .dataframe tbody tr th:only-of-type {\n",
       "        vertical-align: middle;\n",
       "    }\n",
       "\n",
       "    .dataframe tbody tr th {\n",
       "        vertical-align: top;\n",
       "    }\n",
       "\n",
       "    .dataframe thead th {\n",
       "        text-align: right;\n",
       "    }\n",
       "</style>\n",
       "<table border=\"1\" class=\"dataframe\">\n",
       "  <thead>\n",
       "    <tr style=\"text-align: right;\">\n",
       "      <th></th>\n",
       "      <th>average temperature</th>\n",
       "      <th>max temperature</th>\n",
       "      <th>min temperature</th>\n",
       "      <th>wind speed</th>\n",
       "      <th>atmospheric pressure</th>\n",
       "      <th>humidity</th>\n",
       "      <th>precipitation</th>\n",
       "      <th>total snow depth</th>\n",
       "      <th>sunshine</th>\n",
       "    </tr>\n",
       "    <tr>\n",
       "      <th>date</th>\n",
       "      <th></th>\n",
       "      <th></th>\n",
       "      <th></th>\n",
       "      <th></th>\n",
       "      <th></th>\n",
       "      <th></th>\n",
       "      <th></th>\n",
       "      <th></th>\n",
       "      <th></th>\n",
       "    </tr>\n",
       "  </thead>\n",
       "  <tbody>\n",
       "    <tr>\n",
       "      <th>1962-01-01</th>\n",
       "      <td>0.2</td>\n",
       "      <td>2.4</td>\n",
       "      <td>-4.0</td>\n",
       "      <td>4.3</td>\n",
       "      <td>966.5</td>\n",
       "      <td>75.0</td>\n",
       "      <td>0.0</td>\n",
       "      <td>1.0</td>\n",
       "      <td>0.0</td>\n",
       "    </tr>\n",
       "    <tr>\n",
       "      <th>1962-10-01</th>\n",
       "      <td>15.6</td>\n",
       "      <td>22.4</td>\n",
       "      <td>8.3</td>\n",
       "      <td>1.7</td>\n",
       "      <td>976.6</td>\n",
       "      <td>73.0</td>\n",
       "      <td>0.0</td>\n",
       "      <td>0.0</td>\n",
       "      <td>8.8</td>\n",
       "    </tr>\n",
       "    <tr>\n",
       "      <th>1963-04-01</th>\n",
       "      <td>1.0</td>\n",
       "      <td>2.9</td>\n",
       "      <td>0.6</td>\n",
       "      <td>2.7</td>\n",
       "      <td>971.9</td>\n",
       "      <td>96.0</td>\n",
       "      <td>1.3</td>\n",
       "      <td>0.0</td>\n",
       "      <td>0.0</td>\n",
       "    </tr>\n",
       "    <tr>\n",
       "      <th>1963-07-01</th>\n",
       "      <td>17.3</td>\n",
       "      <td>21.2</td>\n",
       "      <td>15.4</td>\n",
       "      <td>2.0</td>\n",
       "      <td>972.1</td>\n",
       "      <td>79.0</td>\n",
       "      <td>0.0</td>\n",
       "      <td>0.0</td>\n",
       "      <td>1.0</td>\n",
       "    </tr>\n",
       "    <tr>\n",
       "      <th>1968-01-01</th>\n",
       "      <td>-4.1</td>\n",
       "      <td>0.4</td>\n",
       "      <td>-6.5</td>\n",
       "      <td>4.0</td>\n",
       "      <td>958.0</td>\n",
       "      <td>82.0</td>\n",
       "      <td>0.4</td>\n",
       "      <td>1.0</td>\n",
       "      <td>0.0</td>\n",
       "    </tr>\n",
       "    <tr>\n",
       "      <th>1968-04-01</th>\n",
       "      <td>8.5</td>\n",
       "      <td>17.6</td>\n",
       "      <td>0.2</td>\n",
       "      <td>4.3</td>\n",
       "      <td>973.0</td>\n",
       "      <td>55.0</td>\n",
       "      <td>0.0</td>\n",
       "      <td>0.0</td>\n",
       "      <td>11.8</td>\n",
       "    </tr>\n",
       "    <tr>\n",
       "      <th>1968-07-01</th>\n",
       "      <td>20.9</td>\n",
       "      <td>25.9</td>\n",
       "      <td>11.3</td>\n",
       "      <td>3.7</td>\n",
       "      <td>980.8</td>\n",
       "      <td>62.0</td>\n",
       "      <td>0.0</td>\n",
       "      <td>0.0</td>\n",
       "      <td>14.3</td>\n",
       "    </tr>\n",
       "    <tr>\n",
       "      <th>1973-01-01</th>\n",
       "      <td>-2.1</td>\n",
       "      <td>3.8</td>\n",
       "      <td>-9.2</td>\n",
       "      <td>3.3</td>\n",
       "      <td>983.5</td>\n",
       "      <td>57.0</td>\n",
       "      <td>0.0</td>\n",
       "      <td>0.0</td>\n",
       "      <td>6.3</td>\n",
       "    </tr>\n",
       "    <tr>\n",
       "      <th>1973-10-01</th>\n",
       "      <td>9.7</td>\n",
       "      <td>12.8</td>\n",
       "      <td>6.2</td>\n",
       "      <td>1.3</td>\n",
       "      <td>977.7</td>\n",
       "      <td>74.0</td>\n",
       "      <td>0.0</td>\n",
       "      <td>0.0</td>\n",
       "      <td>0.0</td>\n",
       "    </tr>\n",
       "    <tr>\n",
       "      <th>1974-04-01</th>\n",
       "      <td>10.3</td>\n",
       "      <td>15.5</td>\n",
       "      <td>5.4</td>\n",
       "      <td>2.7</td>\n",
       "      <td>970.2</td>\n",
       "      <td>64.0</td>\n",
       "      <td>0.0</td>\n",
       "      <td>0.0</td>\n",
       "      <td>1.9</td>\n",
       "    </tr>\n",
       "    <tr>\n",
       "      <th>1974-07-01</th>\n",
       "      <td>15.7</td>\n",
       "      <td>19.2</td>\n",
       "      <td>13.4</td>\n",
       "      <td>9.0</td>\n",
       "      <td>967.4</td>\n",
       "      <td>83.0</td>\n",
       "      <td>1.2</td>\n",
       "      <td>0.0</td>\n",
       "      <td>0.8</td>\n",
       "    </tr>\n",
       "    <tr>\n",
       "      <th>1979-01-01</th>\n",
       "      <td>-16.8</td>\n",
       "      <td>-11.8</td>\n",
       "      <td>-19.5</td>\n",
       "      <td>3.3</td>\n",
       "      <td>960.4</td>\n",
       "      <td>76.0</td>\n",
       "      <td>0.2</td>\n",
       "      <td>9.0</td>\n",
       "      <td>0.0</td>\n",
       "    </tr>\n",
       "    <tr>\n",
       "      <th>1979-10-01</th>\n",
       "      <td>7.8</td>\n",
       "      <td>14.2</td>\n",
       "      <td>0.9</td>\n",
       "      <td>4.3</td>\n",
       "      <td>978.8</td>\n",
       "      <td>77.0</td>\n",
       "      <td>0.0</td>\n",
       "      <td>0.0</td>\n",
       "      <td>8.3</td>\n",
       "    </tr>\n",
       "    <tr>\n",
       "      <th>1984-10-01</th>\n",
       "      <td>11.3</td>\n",
       "      <td>16.0</td>\n",
       "      <td>9.9</td>\n",
       "      <td>2.0</td>\n",
       "      <td>964.4</td>\n",
       "      <td>94.0</td>\n",
       "      <td>0.1</td>\n",
       "      <td>0.0</td>\n",
       "      <td>0.5</td>\n",
       "    </tr>\n",
       "    <tr>\n",
       "      <th>1985-04-01</th>\n",
       "      <td>8.8</td>\n",
       "      <td>13.5</td>\n",
       "      <td>4.7</td>\n",
       "      <td>6.0</td>\n",
       "      <td>973.4</td>\n",
       "      <td>87.0</td>\n",
       "      <td>0.9</td>\n",
       "      <td>0.0</td>\n",
       "      <td>2.7</td>\n",
       "    </tr>\n",
       "    <tr>\n",
       "      <th>1985-07-01</th>\n",
       "      <td>14.8</td>\n",
       "      <td>21.9</td>\n",
       "      <td>12.0</td>\n",
       "      <td>3.0</td>\n",
       "      <td>970.7</td>\n",
       "      <td>83.0</td>\n",
       "      <td>7.6</td>\n",
       "      <td>0.0</td>\n",
       "      <td>3.7</td>\n",
       "    </tr>\n",
       "  </tbody>\n",
       "</table>\n",
       "</div>"
      ],
      "text/plain": [
       "            average temperature  max temperature  min temperature  wind speed  \\\n",
       "date                                                                            \n",
       "1962-01-01                  0.2              2.4             -4.0         4.3   \n",
       "1962-10-01                 15.6             22.4              8.3         1.7   \n",
       "1963-04-01                  1.0              2.9              0.6         2.7   \n",
       "1963-07-01                 17.3             21.2             15.4         2.0   \n",
       "1968-01-01                 -4.1              0.4             -6.5         4.0   \n",
       "1968-04-01                  8.5             17.6              0.2         4.3   \n",
       "1968-07-01                 20.9             25.9             11.3         3.7   \n",
       "1973-01-01                 -2.1              3.8             -9.2         3.3   \n",
       "1973-10-01                  9.7             12.8              6.2         1.3   \n",
       "1974-04-01                 10.3             15.5              5.4         2.7   \n",
       "1974-07-01                 15.7             19.2             13.4         9.0   \n",
       "1979-01-01                -16.8            -11.8            -19.5         3.3   \n",
       "1979-10-01                  7.8             14.2              0.9         4.3   \n",
       "1984-10-01                 11.3             16.0              9.9         2.0   \n",
       "1985-04-01                  8.8             13.5              4.7         6.0   \n",
       "1985-07-01                 14.8             21.9             12.0         3.0   \n",
       "\n",
       "            atmospheric pressure  humidity  precipitation  total snow depth  \\\n",
       "date                                                                          \n",
       "1962-01-01                 966.5      75.0            0.0               1.0   \n",
       "1962-10-01                 976.6      73.0            0.0               0.0   \n",
       "1963-04-01                 971.9      96.0            1.3               0.0   \n",
       "1963-07-01                 972.1      79.0            0.0               0.0   \n",
       "1968-01-01                 958.0      82.0            0.4               1.0   \n",
       "1968-04-01                 973.0      55.0            0.0               0.0   \n",
       "1968-07-01                 980.8      62.0            0.0               0.0   \n",
       "1973-01-01                 983.5      57.0            0.0               0.0   \n",
       "1973-10-01                 977.7      74.0            0.0               0.0   \n",
       "1974-04-01                 970.2      64.0            0.0               0.0   \n",
       "1974-07-01                 967.4      83.0            1.2               0.0   \n",
       "1979-01-01                 960.4      76.0            0.2               9.0   \n",
       "1979-10-01                 978.8      77.0            0.0               0.0   \n",
       "1984-10-01                 964.4      94.0            0.1               0.0   \n",
       "1985-04-01                 973.4      87.0            0.9               0.0   \n",
       "1985-07-01                 970.7      83.0            7.6               0.0   \n",
       "\n",
       "            sunshine  \n",
       "date                  \n",
       "1962-01-01       0.0  \n",
       "1962-10-01       8.8  \n",
       "1963-04-01       0.0  \n",
       "1963-07-01       1.0  \n",
       "1968-01-01       0.0  \n",
       "1968-04-01      11.8  \n",
       "1968-07-01      14.3  \n",
       "1973-01-01       6.3  \n",
       "1973-10-01       0.0  \n",
       "1974-04-01       1.9  \n",
       "1974-07-01       0.8  \n",
       "1979-01-01       0.0  \n",
       "1979-10-01       8.3  \n",
       "1984-10-01       0.5  \n",
       "1985-04-01       2.7  \n",
       "1985-07-01       3.7  "
      ]
     },
     "execution_count": 48,
     "metadata": {},
     "output_type": "execute_result"
    }
   ],
   "source": [
    "ruzyne_tidy.loc[\n",
    "    ruzyne_tidy.index.is_quarter_start\n",
    "    & (ruzyne_tidy.index.weekday == 0)\n",
    "    & (ruzyne_tidy.index.year < 1989)\n",
    "]"
   ]
  },
  {
   "cell_type": "markdown",
   "metadata": {},
   "source": [
    "**Task:**        \n",
    "The oldest Pandas tag at https://github.com/pandas-dev/pandas is version 0.3.0 from February 20, 2011. What was the weather like that day in Prague - Ruzyně?"
   ]
  },
  {
   "cell_type": "markdown",
   "metadata": {},
   "source": [
    "**Task:**     \n",
    "What was the average temperature on the first (and only) Sunday in 2010, which was also the beginning of the month? If you have the solution and the time, try to come up with an alternative way(s)."
   ]
  },
  {
   "cell_type": "code",
   "execution_count": null,
   "metadata": {},
   "outputs": [],
   "source": [
    "ruzyne_tidy.loc[\n",
    "    ___\n",
    "    & (___)\n",
    "    & (___),\n",
    "\"average temperature\",]"
   ]
  },
  {
   "cell_type": "markdown",
   "metadata": {},
   "source": [
    "## Basic visualization\n",
    "We will draw our data in the simplest possible ways that pandas offer us. Let's try `.plot()` right away"
   ]
  },
  {
   "cell_type": "code",
   "execution_count": 49,
   "metadata": {},
   "outputs": [
    {
     "data": {
      "image/png": "[encoded data removed]",
      "text/plain": [
       "<Figure size 432x288 with 1 Axes>"
      ]
     },
     "metadata": {
      "needs_background": "light"
     },
     "output_type": "display_data"
    }
   ],
   "source": [
    "ruzyne_tidy.plot()"
   ]
  },
  {
   "cell_type": "markdown",
   "metadata": {},
   "source": [
    "There's not much to see there. One of the problems is the different range of quantities. And we could also enlarge the graph a bit."
   ]
  },
  {
   "cell_type": "code",
   "execution_count": 50,
   "metadata": {},
   "outputs": [
    {
     "data": {
      "image/png": "[encoded data removed]",
      "text/plain": [
       "<Figure size 864x648 with 9 Axes>"
      ]
     },
     "metadata": {
      "needs_background": "light"
     },
     "output_type": "display_data"
    }
   ],
   "source": [
    "ruzyne_tidy.plot(subplots=True, figsize=(12, 9))"
   ]
  },
  {
   "cell_type": "markdown",
   "metadata": {},
   "source": [
    "This is a not really useful either, there is too little to see on the chart. The default `line` chart is usually suitable for time series.\n",
    "Using the `layout` argument, we can arrange subgraphs into multiple columns. In addition, if we choose a shorter time period, we get a completely understandable result."
   ]
  },
  {
   "cell_type": "code",
   "execution_count": 51,
   "metadata": {},
   "outputs": [
    {
     "data": {
      "image/png": "[encoded data removed]",
      "text/plain": [
       "<Figure size 864x648 with 9 Axes>"
      ]
     },
     "metadata": {
      "needs_background": "light"
     },
     "output_type": "display_data"
    }
   ],
   "source": [
    "ruzyne_tidy[ruzyne_tidy.index.year == 2018].plot(\n",
    "    subplots=True, layout=(3, 3), figsize=(12, 9)\n",
    ");"
   ]
  },
  {
   "cell_type": "markdown",
   "metadata": {},
   "source": [
    "But even there is quite a lot of data and we see a lot of variance in the graphs - the values jump up / down quickly. In that case, it's time to take the statistics to help!"
   ]
  },
  {
   "cell_type": "markdown",
   "metadata": {},
   "source": [
    "## A little statistic - really just basic\n",
    "It is not the aim of this course (nor in its capabilities) to teach statistics in detail and rigorously. We will certainly master the simple basics, and we will make sure that they are also useful.\n",
    "If you want to know more, take a look at https://www.poritz.net/jonathan/share/ldlos.pdf, or at http://greenteapress.com/thinkstats2/thinkstats2.pdf or at Bayesian Statistics http://www.greenteapress.com/thinkbayes/thinkbayes.pdf."
   ]
  },
  {
   "cell_type": "markdown",
   "metadata": {},
   "source": [
    "The [`DataFrame.describe`](https://pandas.pydata.org/pandas-docs/stable/reference/api/pandas.DataFrame.describe.html#pandas.DataFrame.describe) method is an easy choice for obtaining basic statistics of whole tables."
   ]
  },
  {
   "cell_type": "code",
   "execution_count": 54,
   "metadata": {},
   "outputs": [
    {
     "data": {
      "text/html": [
       "<div>\n",
       "<style scoped>\n",
       "    .dataframe tbody tr th:only-of-type {\n",
       "        vertical-align: middle;\n",
       "    }\n",
       "\n",
       "    .dataframe tbody tr th {\n",
       "        vertical-align: top;\n",
       "    }\n",
       "\n",
       "    .dataframe thead th {\n",
       "        text-align: right;\n",
       "    }\n",
       "</style>\n",
       "<table border=\"1\" class=\"dataframe\">\n",
       "  <thead>\n",
       "    <tr style=\"text-align: right;\">\n",
       "      <th></th>\n",
       "      <th>average temperature</th>\n",
       "      <th>max temperature</th>\n",
       "      <th>min temperature</th>\n",
       "      <th>wind speed</th>\n",
       "      <th>atmospheric pressure</th>\n",
       "      <th>humidity</th>\n",
       "      <th>precipitation</th>\n",
       "      <th>total snow depth</th>\n",
       "      <th>sunshine</th>\n",
       "    </tr>\n",
       "  </thead>\n",
       "  <tbody>\n",
       "    <tr>\n",
       "      <th>count</th>\n",
       "      <td>21184.000000</td>\n",
       "      <td>21184.000000</td>\n",
       "      <td>21184.000000</td>\n",
       "      <td>21184.000000</td>\n",
       "      <td>21184.000000</td>\n",
       "      <td>21184.000000</td>\n",
       "      <td>21184.000000</td>\n",
       "      <td>21184.000000</td>\n",
       "      <td>21184.000000</td>\n",
       "    </tr>\n",
       "    <tr>\n",
       "      <th>mean</th>\n",
       "      <td>8.417896</td>\n",
       "      <td>12.970143</td>\n",
       "      <td>4.078795</td>\n",
       "      <td>4.179343</td>\n",
       "      <td>972.431085</td>\n",
       "      <td>76.577747</td>\n",
       "      <td>1.399901</td>\n",
       "      <td>1.052020</td>\n",
       "      <td>4.728998</td>\n",
       "    </tr>\n",
       "    <tr>\n",
       "      <th>std</th>\n",
       "      <td>8.184324</td>\n",
       "      <td>9.472715</td>\n",
       "      <td>7.223863</td>\n",
       "      <td>2.234592</td>\n",
       "      <td>8.062309</td>\n",
       "      <td>12.406828</td>\n",
       "      <td>3.832025</td>\n",
       "      <td>3.746289</td>\n",
       "      <td>4.271356</td>\n",
       "    </tr>\n",
       "    <tr>\n",
       "      <th>min</th>\n",
       "      <td>-22.600000</td>\n",
       "      <td>-18.300000</td>\n",
       "      <td>-25.500000</td>\n",
       "      <td>0.000000</td>\n",
       "      <td>928.700000</td>\n",
       "      <td>29.000000</td>\n",
       "      <td>0.000000</td>\n",
       "      <td>0.000000</td>\n",
       "      <td>0.000000</td>\n",
       "    </tr>\n",
       "    <tr>\n",
       "      <th>25%</th>\n",
       "      <td>2.100000</td>\n",
       "      <td>5.200000</td>\n",
       "      <td>-0.700000</td>\n",
       "      <td>2.700000</td>\n",
       "      <td>967.600000</td>\n",
       "      <td>68.000000</td>\n",
       "      <td>0.000000</td>\n",
       "      <td>0.000000</td>\n",
       "      <td>0.500000</td>\n",
       "    </tr>\n",
       "    <tr>\n",
       "      <th>50%</th>\n",
       "      <td>8.700000</td>\n",
       "      <td>13.300000</td>\n",
       "      <td>4.400000</td>\n",
       "      <td>3.700000</td>\n",
       "      <td>972.800000</td>\n",
       "      <td>78.000000</td>\n",
       "      <td>0.000000</td>\n",
       "      <td>0.000000</td>\n",
       "      <td>3.900000</td>\n",
       "    </tr>\n",
       "    <tr>\n",
       "      <th>75%</th>\n",
       "      <td>14.900000</td>\n",
       "      <td>20.500000</td>\n",
       "      <td>9.900000</td>\n",
       "      <td>5.300000</td>\n",
       "      <td>977.600000</td>\n",
       "      <td>86.000000</td>\n",
       "      <td>1.000000</td>\n",
       "      <td>0.000000</td>\n",
       "      <td>8.100000</td>\n",
       "    </tr>\n",
       "    <tr>\n",
       "      <th>max</th>\n",
       "      <td>29.500000</td>\n",
       "      <td>37.400000</td>\n",
       "      <td>20.700000</td>\n",
       "      <td>20.300000</td>\n",
       "      <td>998.700000</td>\n",
       "      <td>100.000000</td>\n",
       "      <td>93.300000</td>\n",
       "      <td>57.000000</td>\n",
       "      <td>15.700000</td>\n",
       "    </tr>\n",
       "  </tbody>\n",
       "</table>\n",
       "</div>"
      ],
      "text/plain": [
       "       average temperature  max temperature  min temperature    wind speed  \\\n",
       "count         21184.000000     21184.000000     21184.000000  21184.000000   \n",
       "mean              8.417896        12.970143         4.078795      4.179343   \n",
       "std               8.184324         9.472715         7.223863      2.234592   \n",
       "min             -22.600000       -18.300000       -25.500000      0.000000   \n",
       "25%               2.100000         5.200000        -0.700000      2.700000   \n",
       "50%               8.700000        13.300000         4.400000      3.700000   \n",
       "75%              14.900000        20.500000         9.900000      5.300000   \n",
       "max              29.500000        37.400000        20.700000     20.300000   \n",
       "\n",
       "       atmospheric pressure      humidity  precipitation  total snow depth  \\\n",
       "count          21184.000000  21184.000000   21184.000000      21184.000000   \n",
       "mean             972.431085     76.577747       1.399901          1.052020   \n",
       "std                8.062309     12.406828       3.832025          3.746289   \n",
       "min              928.700000     29.000000       0.000000          0.000000   \n",
       "25%              967.600000     68.000000       0.000000          0.000000   \n",
       "50%              972.800000     78.000000       0.000000          0.000000   \n",
       "75%              977.600000     86.000000       1.000000          0.000000   \n",
       "max              998.700000    100.000000      93.300000         57.000000   \n",
       "\n",
       "           sunshine  \n",
       "count  21184.000000  \n",
       "mean       4.728998  \n",
       "std        4.271356  \n",
       "min        0.000000  \n",
       "25%        0.500000  \n",
       "50%        3.900000  \n",
       "75%        8.100000  \n",
       "max       15.700000  "
      ]
     },
     "execution_count": 54,
     "metadata": {},
     "output_type": "execute_result"
    }
   ],
   "source": [
    "ruzyne_tidy.describe()"
   ]
  },
  {
   "cell_type": "markdown",
   "metadata": {},
   "source": [
    "For each column we see several summary (statistical data).\n",
    "* `count` indicates the number of values.\n",
    "* `mean` is the mean, calculated as the arithmetic mean.\n",
    "* `std` is the standard deviation that shows the variance of the data - how much we can expect the data in the file to differ from the mean.\n",
    "* `min` and` max` are the smallest and largest values in the column.\n",
    "* Percentages denote quantiles, `25 %` and` 75 %` being the value of the first and third \"quartiles\". If we sort the column by size, a quarter of the data will be smaller than the value of the first quartile, and a quarter of the data will be larger than the value of the third quartile. Specifically, a quarter of all days in our data had a minimum temperature of less than -0.7 ° C and a quarter of days had a maximum temperature of more than 20.5 ° C.\n",
    "* `50 %` is called the median - half of the data is smaller than the median (and the other half is obviously larger than the median).\n",
    "In a moment we will show you how these values are related to the distribution function and everything will be clearer to you right away :)"
   ]
  },
  {
   "cell_type": "markdown",
   "metadata": {},
   "source": [
    "Of course, we can also use `describe` on some subset of data. This is how the weather statistics in Ruzyne in January look like."
   ]
  },
  {
   "cell_type": "code",
   "execution_count": 42,
   "metadata": {},
   "outputs": [
    {
     "data": {
      "text/html": [
       "<div>\n",
       "<style scoped>\n",
       "    .dataframe tbody tr th:only-of-type {\n",
       "        vertical-align: middle;\n",
       "    }\n",
       "\n",
       "    .dataframe tbody tr th {\n",
       "        vertical-align: top;\n",
       "    }\n",
       "\n",
       "    .dataframe thead th {\n",
       "        text-align: right;\n",
       "    }\n",
       "</style>\n",
       "<table border=\"1\" class=\"dataframe\">\n",
       "  <thead>\n",
       "    <tr style=\"text-align: right;\">\n",
       "      <th></th>\n",
       "      <th>teplota průměrná</th>\n",
       "      <th>teplota maximální</th>\n",
       "      <th>teplota minimální</th>\n",
       "      <th>rychlost větru</th>\n",
       "      <th>tlak vzduchu</th>\n",
       "      <th>vlhkost vzduchu</th>\n",
       "      <th>úhrn srážek</th>\n",
       "      <th>celková výška sněhu</th>\n",
       "      <th>sluneční svit</th>\n",
       "    </tr>\n",
       "  </thead>\n",
       "  <tbody>\n",
       "    <tr>\n",
       "      <th>count</th>\n",
       "      <td>1798.000000</td>\n",
       "      <td>1798.000000</td>\n",
       "      <td>1798.000000</td>\n",
       "      <td>1798.000000</td>\n",
       "      <td>1798.000000</td>\n",
       "      <td>1798.000000</td>\n",
       "      <td>1798.000000</td>\n",
       "      <td>1798.000000</td>\n",
       "      <td>1798.000000</td>\n",
       "    </tr>\n",
       "    <tr>\n",
       "      <th>mean</th>\n",
       "      <td>-1.608231</td>\n",
       "      <td>1.089989</td>\n",
       "      <td>-4.499722</td>\n",
       "      <td>4.703059</td>\n",
       "      <td>973.081869</td>\n",
       "      <td>85.147386</td>\n",
       "      <td>0.728754</td>\n",
       "      <td>4.538932</td>\n",
       "      <td>1.714405</td>\n",
       "    </tr>\n",
       "    <tr>\n",
       "      <th>std</th>\n",
       "      <td>5.204560</td>\n",
       "      <td>5.042629</td>\n",
       "      <td>5.737259</td>\n",
       "      <td>2.977468</td>\n",
       "      <td>10.237599</td>\n",
       "      <td>7.383823</td>\n",
       "      <td>1.546440</td>\n",
       "      <td>6.269001</td>\n",
       "      <td>2.247083</td>\n",
       "    </tr>\n",
       "    <tr>\n",
       "      <th>min</th>\n",
       "      <td>-22.600000</td>\n",
       "      <td>-18.300000</td>\n",
       "      <td>-25.500000</td>\n",
       "      <td>0.000000</td>\n",
       "      <td>933.900000</td>\n",
       "      <td>54.000000</td>\n",
       "      <td>0.000000</td>\n",
       "      <td>0.000000</td>\n",
       "      <td>0.000000</td>\n",
       "    </tr>\n",
       "    <tr>\n",
       "      <th>25%</th>\n",
       "      <td>-4.675000</td>\n",
       "      <td>-2.000000</td>\n",
       "      <td>-8.000000</td>\n",
       "      <td>2.300000</td>\n",
       "      <td>965.925000</td>\n",
       "      <td>80.000000</td>\n",
       "      <td>0.000000</td>\n",
       "      <td>0.000000</td>\n",
       "      <td>0.000000</td>\n",
       "    </tr>\n",
       "    <tr>\n",
       "      <th>50%</th>\n",
       "      <td>-1.000000</td>\n",
       "      <td>1.200000</td>\n",
       "      <td>-3.450000</td>\n",
       "      <td>4.000000</td>\n",
       "      <td>973.300000</td>\n",
       "      <td>86.000000</td>\n",
       "      <td>0.000000</td>\n",
       "      <td>1.000000</td>\n",
       "      <td>0.500000</td>\n",
       "    </tr>\n",
       "    <tr>\n",
       "      <th>75%</th>\n",
       "      <td>1.900000</td>\n",
       "      <td>4.400000</td>\n",
       "      <td>-0.300000</td>\n",
       "      <td>6.700000</td>\n",
       "      <td>980.475000</td>\n",
       "      <td>91.000000</td>\n",
       "      <td>0.700000</td>\n",
       "      <td>7.000000</td>\n",
       "      <td>3.000000</td>\n",
       "    </tr>\n",
       "    <tr>\n",
       "      <th>max</th>\n",
       "      <td>12.500000</td>\n",
       "      <td>15.800000</td>\n",
       "      <td>8.500000</td>\n",
       "      <td>19.700000</td>\n",
       "      <td>997.700000</td>\n",
       "      <td>100.000000</td>\n",
       "      <td>14.700000</td>\n",
       "      <td>30.000000</td>\n",
       "      <td>8.400000</td>\n",
       "    </tr>\n",
       "  </tbody>\n",
       "</table>\n",
       "</div>"
      ],
      "text/plain": [
       "       teplota průměrná  teplota maximální  teplota minimální  rychlost větru  \\\n",
       "count       1798.000000        1798.000000        1798.000000     1798.000000   \n",
       "mean          -1.608231           1.089989          -4.499722        4.703059   \n",
       "std            5.204560           5.042629           5.737259        2.977468   \n",
       "min          -22.600000         -18.300000         -25.500000        0.000000   \n",
       "25%           -4.675000          -2.000000          -8.000000        2.300000   \n",
       "50%           -1.000000           1.200000          -3.450000        4.000000   \n",
       "75%            1.900000           4.400000          -0.300000        6.700000   \n",
       "max           12.500000          15.800000           8.500000       19.700000   \n",
       "\n",
       "       tlak vzduchu  vlhkost vzduchu  úhrn srážek  celková výška sněhu  \\\n",
       "count   1798.000000      1798.000000  1798.000000          1798.000000   \n",
       "mean     973.081869        85.147386     0.728754             4.538932   \n",
       "std       10.237599         7.383823     1.546440             6.269001   \n",
       "min      933.900000        54.000000     0.000000             0.000000   \n",
       "25%      965.925000        80.000000     0.000000             0.000000   \n",
       "50%      973.300000        86.000000     0.000000             1.000000   \n",
       "75%      980.475000        91.000000     0.700000             7.000000   \n",
       "max      997.700000       100.000000    14.700000            30.000000   \n",
       "\n",
       "       sluneční svit  \n",
       "count    1798.000000  \n",
       "mean        1.714405  \n",
       "std         2.247083  \n",
       "min         0.000000  \n",
       "25%         0.000000  \n",
       "50%         0.500000  \n",
       "75%         3.000000  \n",
       "max         8.400000  "
      ]
     },
     "execution_count": 42,
     "metadata": {},
     "output_type": "execute_result"
    }
   ],
   "source": [
    "ruzyne_tidy[ruzyne_tidy.index.month == 1].describe()"
   ]
  },
  {
   "cell_type": "markdown",
   "metadata": {},
   "source": [
    "### Statistical distribution\n",
    "Let's try terms around probability, such as distribution functions or probability densities, whose formal definitions and properties can be found in books (eg those listed above) or on [wikipedia](https://en.wikipedia.org/wiki/Distribu%C4%8Dn%C3%AD_function).\n",
    "One of the basic and extremely useful tools for visualizing a data set is the [histogram](https://en.wikipedia.org/wiki/Histogram). Simply put, the histogram creates kennels according to the size of the data - each kennel has data in some interval from - to. The number of values that fall from a given data set into a given bin determines the size (height) of the bin.\n",
    "Use the `.plot.hist()` to display the histogram"
   ]
  },
  {
   "cell_type": "code",
   "execution_count": 55,
   "metadata": {},
   "outputs": [
    {
     "data": {
      "text/plain": [
       "<AxesSubplot:ylabel='Frequency'>"
      ]
     },
     "execution_count": 55,
     "metadata": {},
     "output_type": "execute_result"
    },
    {
     "data": {
      "image/png": "[encoded data removed]",
      "text/plain": [
       "<Figure size 432x288 with 1 Axes>"
      ]
     },
     "metadata": {
      "needs_background": "light"
     },
     "output_type": "display_data"
    }
   ],
   "source": [
    "ruzyne_tidy[\"atmospheric pressure\"].plot.hist(edgecolor = \"black\")"
   ]
  },
  {
   "cell_type": "markdown",
   "metadata": {},
   "source": [
    "The histogram tells us that somewhere in the range 971 - 978 are the most values (almost 8000). The surrounding kennels have a slightly smaller size, 964 - 971 about 5000, 978 - 985 about 4000. At the edges are only low kennels, a kind of tails.\n",
    "Think - if we choose one day at random.\n",
    "1. From which (one) of the kennels in the graph will the pressure most often lie?\n",
    "2. What 5 kennels would you choose to have a really big chance that the pressure on the chosen day will be in one of these kennels?\n",
    "If you can answer the questions, you already know that the histogram indicates *the probability density* and that this density can be added, giving a *cumulative probability*, or *distribution function*.\n",
    "\n",
    "The definition is actually quite simple (source [wikipedia](https://en.wikipedia.org/wiki/Distribu%C4%8Dn%C3%AD_funkce)):\n",
    "&gt; The distribution function, the distribution function (probability) or (rather folk) (from the left) the cumulative distribution function (CDF) is a function that indicates the probability that the value of a random variable is less than the specified value.\n",
    "Probability density expresses how much \"probability\" will increase in a given interval, or how much the distribution function will change. Mathematically, the probability density is the derivative of the distribution function."
   ]
  },
  {
   "cell_type": "markdown",
   "metadata": {},
   "source": [
    "A relatively important parameter in the histogram is the number of bins. When there are few of them, important information can disappear, and the power of the histogram can be lost.\n",
    "For our data, a histogram with thirty bins looks quite reasonable."
   ]
  },
  {
   "cell_type": "code",
   "execution_count": 56,
   "metadata": {},
   "outputs": [
    {
     "data": {
      "image/png": "[encoded data removed]",
      "text/plain": [
       "<Figure size 864x432 with 1 Axes>"
      ]
     },
     "metadata": {
      "needs_background": "light"
     },
     "output_type": "display_data"
    }
   ],
   "source": [
    "ruzyne_tidy[\"atmospheric pressure\"].plot.hist(bins=30, figsize=(12, 6), edgecolor=\"black\");"
   ]
  },
  {
   "cell_type": "markdown",
   "metadata": {},
   "source": [
    "The argument `cumulative = True` then shows us a sequential (cumulative) sum of the size of the bins. We will also use `density = True` to display the distribution function. Thus the graph tells us what is the probability (value on the vertical axis) that the pressure will be less than the given value (on the horizontal axis).\n",
    "Vertical lines for mean (black), median (red) and 25% and 75% quantiles (dashed red) are also added to the graph."
   ]
  },
  {
   "cell_type": "code",
   "execution_count": 57,
   "metadata": {},
   "outputs": [
    {
     "data": {
      "text/plain": [
       "<matplotlib.lines.Line2D at 0x1c169a5d810>"
      ]
     },
     "execution_count": 57,
     "metadata": {},
     "output_type": "execute_result"
    },
    {
     "data": {
      "image/png": "[encoded data removed]",
      "text/plain": [
       "<Figure size 864x432 with 1 Axes>"
      ]
     },
     "metadata": {
      "needs_background": "light"
     },
     "output_type": "display_data"
    }
   ],
   "source": [
    "ax = ruzyne_tidy[\"atmospheric pressure\"].plot.hist(bins=30, figsize=(12, 6), cumulative=True, density=True, grid=True\n",
    ")\n",
    "ax.set_yticks(np.arange(0, 1.1, 0.25))\n",
    "ax.axvline(ruzyne_tidy[\"atmospheric pressure\"].mean(), color=\"k\")\n",
    "ax.axvline(ruzyne_tidy[\"atmospheric pressure\"].median(), color=\"r\")\n",
    "ax.axvline(ruzyne_tidy[\"atmospheric pressure\"].quantile(0.25), color=\"r\", ls=\"--\")\n",
    "ax.axvline(ruzyne_tidy[\"atmospheric pressure\"].quantile(0.75), color=\"r\", ls=\"--\")"
   ]
  },
  {
   "cell_type": "markdown",
   "metadata": {},
   "source": [
    "Let's see what the histograms of all nine features look like."
   ]
  },
  {
   "cell_type": "code",
   "execution_count": 58,
   "metadata": {},
   "outputs": [
    {
     "data": {
      "text/plain": [
       "array([[<AxesSubplot:title={'center':'average temperature'}>,\n",
       "        <AxesSubplot:title={'center':'max temperature'}>,\n",
       "        <AxesSubplot:title={'center':'min temperature'}>],\n",
       "       [<AxesSubplot:title={'center':'wind speed'}>,\n",
       "        <AxesSubplot:title={'center':'atmospheric pressure'}>,\n",
       "        <AxesSubplot:title={'center':'humidity'}>],\n",
       "       [<AxesSubplot:title={'center':'precipitation'}>,\n",
       "        <AxesSubplot:title={'center':'total snow depth'}>,\n",
       "        <AxesSubplot:title={'center':'sunshine'}>]], dtype=object)"
      ]
     },
     "execution_count": 58,
     "metadata": {},
     "output_type": "execute_result"
    },
    {
     "data": {
      "image/png": "[encoded data removed]",
      "text/plain": [
       "<Figure size 864x648 with 9 Axes>"
      ]
     },
     "metadata": {
      "needs_background": "light"
     },
     "output_type": "display_data"
    }
   ],
   "source": [
    "ruzyne_tidy.hist(figsize=(12, 9), bins=30)"
   ]
  },
  {
   "cell_type": "code",
   "execution_count": 8,
   "metadata": {},
   "outputs": [
    {
     "data": {
      "image/png": "[encoded data removed]",
      "text/plain": [
       "<Figure size 864x648 with 9 Axes>"
      ]
     },
     "metadata": {
      "needs_background": "light"
     },
     "output_type": "display_data"
    }
   ],
   "source": [
    "ruzyne_tidy.hist(figsize=(12, 9), bins=30, cumulative=True, density=True);"
   ]
  },
  {
   "cell_type": "markdown",
   "metadata": {},
   "source": [
    "It is quite interesting and convenient that we get a relatively nice variety of different types of distribution functions. The air pressure is approximately **[normal (Gaussian) distribution](https://cs.wikipedia.org/wiki/Norm%C3%A1ln%C3%AD_rozd%C4%9Blen%C3%AD)**. You may have heard of it because it occurs and is used quite often (sometimes too often).\n",
    "\n",
    "It is interesting that the temperature has a so-called **bi-modal distribution** - there are two maxima on the histogram. For other quantities, we can wonder which of [many known distributions](https://en.wikipedia.org/wiki/Log-normal_distribution) would be more or less suitable for their description. Logarithmic-normal to wind speed? Any exponential (or generally gamma) distribution of snow depth, total precipitation and possibly sunshine? Let's leave this to a more detailed course in statistics, meteorology or climatology :)"
   ]
  },
  {
   "cell_type": "markdown",
   "metadata": {},
   "source": [
    "However, diverse distribution functions allow us to show some properties of the mean and median. These are (together with modes, ie probability density maxima) indicators of the tendency in the dataset. The median and mean value do not usually differ much and in \"nice\" (symmetric) distributions, such as the normal distribution, are identical. They will differ especially when the distribution is skewed or if there are outliers in the data - [outliers](https://en.wikipedia.org/wiki/Outlier).\n",
    "\n",
    "We'll wrap the histogram plot function along with the mean and quantiles we used earlier. Then we use the very useful library [seaborn](https://seaborn.pydata.org) to plot histograms for individual quantities."
   ]
  },
  {
   "cell_type": "code",
   "execution_count": 10,
   "metadata": {},
   "outputs": [],
   "source": [
    "def hist_plot_with_extras(data, bins=30, cumulative=False, density=False, **kwargs):\n",
    "    \"\"\"Plot histogram with mean and quantiles\"\"\"\n",
    "    ax = kwargs.pop (\"ax\", plt.gca())    \n",
    "    ax.hist(data, bins=bins, cumulative=cumulative, density=density, **kwargs)\n",
    "    ax.grid(True)\n",
    "    if density:\n",
    "        ax.set_yticks(np.arange(0, 1.1, 0.25))\n",
    "    ax.axvline(data.mean(), color=\"k\")\n",
    "    ax.axvline(data.median(), color=\"r\")\n",
    "    ax.axvline(data.quantile(0.25), color=\"r\", ls=\"--\")\n",
    "    ax.axvline(data.quantile(0.75), color=\"r\", ls=\"--\")\n",
    "    return ax"
   ]
  },
  {
   "cell_type": "markdown",
   "metadata": {},
   "source": [
    "Note the use of `.melt ()` - seaborn expects data in one column, individual graphs are then formed base on the value of another column. We actually created a categorical variable \"value\".\n",
    "Now we can use [`FacetGrid`](https://seaborn.pydata.org/generated/seaborn.FacetGrid.html), which creates a set of graphs, divided into a grid according to some data property (category)."
   ]
  },
  {
   "cell_type": "code",
   "execution_count": 11,
   "metadata": {},
   "outputs": [
    {
     "data": {
      "image/png": "[encoded data removed]",
      "text/plain": [
       "<Figure size 864x1080 with 9 Axes>"
      ]
     },
     "metadata": {
      "needs_background": "light"
     },
     "output_type": "display_data"
    }
   ],
   "source": [
    "grid = sns.FacetGrid(ruzyne_tidy.melt(),\n",
    "    col=\"variable\",\n",
    "    col_wrap=2,\n",
    "    sharey=False,\n",
    "sharex = False,    aspect=2,\n",
    ")\n",
    "grid.map(hist_plot_with_extras, \"value\");"
   ]
  },
  {
   "cell_type": "markdown",
   "metadata": {},
   "source": [
    "In addition to the histogram, it is very often used to display the distribution of the so-called [boxplot](https://en.wikipedia.org/wiki/Boxplot). The \"box\" (rectangle) in the middle defines the area between the first and third quartiles (Q1 and Q3), the dividing line corresponds to the median, and the \"beard\" (whiskers) indicates the range of data. By default, this is the last point that is less than/greater than 1.5 times the \"inter-quartile range\" IQR, `IQR = Q3 - Q1`. This range is usually considered to be the limit for outliers, which are then marked in the box as symbols (diamonds in our case)."
   ]
  },
  {
   "cell_type": "code",
   "execution_count": 12,
   "metadata": {},
   "outputs": [
    {
     "name": "stderr",
     "output_type": "stream",
     "text": [
      "C:\\Users\\krike\\Desktop\\pyladies_vienna\\pyladies_vienna_data_course\\venv\\lib\\site-packages\\seaborn\\axisgrid.py:670: UserWarning: Using the boxplot function without specifying `order` is likely to produce an incorrect plot.\n",
      "  warnings.warn(warning)\n"
     ]
    },
    {
     "data": {
      "image/png": "[encoded data removed]",
      "text/plain": [
       "<Figure size 864x1080 with 9 Axes>"
      ]
     },
     "metadata": {
      "needs_background": "light"
     },
     "output_type": "display_data"
    }
   ],
   "source": [
    "grid = sns.FacetGrid(ruzyne_tidy.melt(),\n",
    "    col=\"variable\",\n",
    "    col_wrap=2,\n",
    "    sharey=False,\n",
    "sharex = False,    aspect=2,\n",
    ")\n",
    "grid.map(sns.boxplot, \"value\");"
   ]
  },
  {
   "cell_type": "markdown",
   "metadata": {},
   "source": [
    "Seaborn can often be used very easily if we display one quantity, and sometimes even \"wide-format\" data. For our data, we can compare the average, minimum and maximum temperature. To help, we take [`catplot`](https://seaborn.pydata.org/generated/seaborn.catplot.html), which creates a graph (or a set of graphs) of various types (boxplot or violinplot) from data containing one or more categorical variables."
   ]
  },
  {
   "cell_type": "code",
   "execution_count": 14,
   "metadata": {},
   "outputs": [
    {
     "data": {
      "image/png": "[encoded data removed]",
      "text/plain": [
       "<Figure size 720x360 with 1 Axes>"
      ]
     },
     "metadata": {
      "needs_background": "light"
     },
     "output_type": "display_data"
    }
   ],
   "source": [
    "sns.catplot(data = ruzyne_tidy [[\"average temperature\", \"max temperature\", \"min temperature\"]], kind=\"box\",\n",
    "    aspect=2,\n",
    ");"
   ]
  },
  {
   "cell_type": "markdown",
   "metadata": {},
   "source": [
    "**Homework**:\n",
    "\n",
    "Fill in the auxiliary columns `season` and` significant_precipitation` (surely you can guess what pandas type they will be :). \n",
    "The first defines the season (simply by calendar months), the second indicates the days when the precipitation was higher than in **90%** of all days in our data (you can try another limit).\n",
    "1. Compare numerically the basic statistics of the whole dataset and the subset when it rained or snowed significantly. Do precipitation increase on average temperature? And what about maximum or minimum? And what about the standard deviation?\n",
    "2. Use `sns.catplot` to visually compare the distribution functions for each season and low/high day."
   ]
  },
  {
   "cell_type": "code",
   "execution_count": null,
   "metadata": {},
   "outputs": [],
   "source": [
    "season = ruzyne_tidy.index.___.map({\n",
    "1: \"winter\",2: \"winter\",3: \"year\",    ...\n",
    " })\n",
    "\n",
    "significant_precipitation = ruzyne_tidy [\"total precipitation\"]&gt; ruzyne_tidy [___] .quantile (___)"
   ]
  },
  {
   "cell_type": "code",
   "execution_count": null,
   "metadata": {},
   "outputs": [],
   "source": [
    "# task - simple comparison of statistics using difference(ruzyne_tidy.loc[___]\n",
    " .describe()\n",
    ") - \\\n",
    "ruzyne_tidy.___()"
   ]
  },
  {
   "cell_type": "code",
   "execution_count": null,
   "metadata": {},
   "outputs": [],
   "source": [
    "# task - visual comparison of statisticssns.catplot(    data=ruzyne_tidy.assign(\n",
    "        significant_precipitation=___, \n",
    "        season=___,\n",
    "    ),\n",
    "    kind=\"box\",\n",
    "    aspect=2,\n",
    "    hue=___,\n",
    "y=___,    x=___,\n",
    ");"
   ]
  }
 ],
 "metadata": {
  "kernelspec": {
   "display_name": "Python 3 (ipykernel)",
   "language": "python",
   "name": "python3"
  },
  "language_info": {
   "codemirror_mode": {
    "name": "ipython",
    "version": 3
   },
   "file_extension": ".py",
   "mimetype": "text/x-python",
   "name": "python",
   "nbconvert_exporter": "python",
   "pygments_lexer": "ipython3",
   "version": "3.10.4"
  }
 },
 "nbformat": 4,
 "nbformat_minor": 4
}
