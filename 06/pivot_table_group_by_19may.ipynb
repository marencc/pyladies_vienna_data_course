{
 "cells": [
  {
   "cell_type": "markdown",
   "metadata": {
    "id": "HjwQRHn0knlY"
   },
   "source": [
    "# Advanced handling and aggregation\n",
    "\n",
    "Further reading for long evenings:\n",
    "* https://github.com/alanderex/pydata-pandas-workshop/tree/master/notebooks\n",
    "* https://github.com/TomAugspurger/pandas-head-to-tail/blob/master/notebooks/03-Iterators-Groupby.ipynb\n",
    "* https://realpython.com/pandas-groupby/"
   ]
  },
  {
   "cell_type": "code",
   "execution_count": 1,
   "metadata": {
    "id": "6EuXQCW2knlb"
   },
   "outputs": [],
   "source": [
    "import pandas as pd\n",
    "%matplotlib inline"
   ]
  },
  {
   "cell_type": "markdown",
   "metadata": {
    "id": "FR_Vy9Reknld"
   },
   "source": [
    "## Group data analysis\n",
    "One of the basic procedures in data analysis is to divide the data into *groups*, apply some operation to individual groups and finally combine the results into a suitable dataset. In English, you can commonly find it as *split-apply-combine*. Groups are often, though not necessarily, defined by some (categorical) variable, eg. it could be color, gender or continent. However, groups can also be created by derivation, eg. using a range or time series properties. We've actually seen both in previous EDA lessons, creating groups for rainy days or individual years."
   ]
  },
  {
   "cell_type": "markdown",
   "metadata": {
    "id": "kc8UNTgIknle"
   },
   "source": [
    "Let's explain it practically. We will use a nice dataset with data from the US Congress, which contains a list of all the men and women who have ever sat in one of its chambers (House or Senate)."
   ]
  },
  {
   "cell_type": "code",
   "execution_count": 2,
   "metadata": {
    "id": "jXBlzWs7knle"
   },
   "outputs": [],
   "source": [
    "# link directly to the csv file on the internet (magic :) )\n",
    "LEGISLATORS_HISTORICAL_URL_CSV = (\n",
    "    \"https://theunitedstates.io/congress-legislators/legislators-historical.csv\"\n",
    ")"
   ]
  },
  {
   "cell_type": "code",
   "execution_count": 3,
   "metadata": {
    "id": "rQ2HISxRknlf"
   },
   "outputs": [],
   "source": [
    "legislators_historical = pd.read_csv(\n",
    "    LEGISLATORS_HISTORICAL_URL_CSV,\n",
    "    usecols=[\"gender\", \"type\", \"state\", \"party\", \"birthday\", \"first_name\", \"last_name\"],\n",
    "    parse_dates=[\"birthday\"],\n",
    ")"
   ]
  },
  {
   "cell_type": "code",
   "execution_count": 4,
   "metadata": {
    "id": "cW2iUFXmknlg",
    "outputId": "c41d9cb9-db0b-44e8-b722-01eeb7e0dacb"
   },
   "outputs": [
    {
     "data": {
      "text/html": [
       "<div>\n",
       "<style scoped>\n",
       "    .dataframe tbody tr th:only-of-type {\n",
       "        vertical-align: middle;\n",
       "    }\n",
       "\n",
       "    .dataframe tbody tr th {\n",
       "        vertical-align: top;\n",
       "    }\n",
       "\n",
       "    .dataframe thead th {\n",
       "        text-align: right;\n",
       "    }\n",
       "</style>\n",
       "<table border=\"1\" class=\"dataframe\">\n",
       "  <thead>\n",
       "    <tr style=\"text-align: right;\">\n",
       "      <th></th>\n",
       "      <th>last_name</th>\n",
       "      <th>first_name</th>\n",
       "      <th>birthday</th>\n",
       "      <th>gender</th>\n",
       "      <th>type</th>\n",
       "      <th>state</th>\n",
       "      <th>party</th>\n",
       "    </tr>\n",
       "  </thead>\n",
       "  <tbody>\n",
       "    <tr>\n",
       "      <th>0</th>\n",
       "      <td>Bassett</td>\n",
       "      <td>Richard</td>\n",
       "      <td>1745-04-02</td>\n",
       "      <td>M</td>\n",
       "      <td>sen</td>\n",
       "      <td>DE</td>\n",
       "      <td>Anti-Administration</td>\n",
       "    </tr>\n",
       "    <tr>\n",
       "      <th>1</th>\n",
       "      <td>Bland</td>\n",
       "      <td>Theodorick</td>\n",
       "      <td>1742-03-21</td>\n",
       "      <td>M</td>\n",
       "      <td>rep</td>\n",
       "      <td>VA</td>\n",
       "      <td>NaN</td>\n",
       "    </tr>\n",
       "    <tr>\n",
       "      <th>2</th>\n",
       "      <td>Burke</td>\n",
       "      <td>Aedanus</td>\n",
       "      <td>1743-06-16</td>\n",
       "      <td>M</td>\n",
       "      <td>rep</td>\n",
       "      <td>SC</td>\n",
       "      <td>NaN</td>\n",
       "    </tr>\n",
       "    <tr>\n",
       "      <th>3</th>\n",
       "      <td>Carroll</td>\n",
       "      <td>Daniel</td>\n",
       "      <td>1730-07-22</td>\n",
       "      <td>M</td>\n",
       "      <td>rep</td>\n",
       "      <td>MD</td>\n",
       "      <td>NaN</td>\n",
       "    </tr>\n",
       "    <tr>\n",
       "      <th>4</th>\n",
       "      <td>Clymer</td>\n",
       "      <td>George</td>\n",
       "      <td>1739-03-16</td>\n",
       "      <td>M</td>\n",
       "      <td>rep</td>\n",
       "      <td>PA</td>\n",
       "      <td>NaN</td>\n",
       "    </tr>\n",
       "    <tr>\n",
       "      <th>...</th>\n",
       "      <td>...</td>\n",
       "      <td>...</td>\n",
       "      <td>...</td>\n",
       "      <td>...</td>\n",
       "      <td>...</td>\n",
       "      <td>...</td>\n",
       "      <td>...</td>\n",
       "    </tr>\n",
       "    <tr>\n",
       "      <th>12050</th>\n",
       "      <td>Hagedorn</td>\n",
       "      <td>Jim</td>\n",
       "      <td>1962-08-04</td>\n",
       "      <td>M</td>\n",
       "      <td>rep</td>\n",
       "      <td>MN</td>\n",
       "      <td>Republican</td>\n",
       "    </tr>\n",
       "    <tr>\n",
       "      <th>12051</th>\n",
       "      <td>Young</td>\n",
       "      <td>Don</td>\n",
       "      <td>1933-06-09</td>\n",
       "      <td>M</td>\n",
       "      <td>rep</td>\n",
       "      <td>AK</td>\n",
       "      <td>Republican</td>\n",
       "    </tr>\n",
       "    <tr>\n",
       "      <th>12052</th>\n",
       "      <td>Fortenberry</td>\n",
       "      <td>Jeff</td>\n",
       "      <td>1960-12-27</td>\n",
       "      <td>M</td>\n",
       "      <td>rep</td>\n",
       "      <td>NE</td>\n",
       "      <td>Republican</td>\n",
       "    </tr>\n",
       "    <tr>\n",
       "      <th>12053</th>\n",
       "      <td>Vela</td>\n",
       "      <td>Filemon</td>\n",
       "      <td>1963-02-13</td>\n",
       "      <td>M</td>\n",
       "      <td>rep</td>\n",
       "      <td>TX</td>\n",
       "      <td>Democrat</td>\n",
       "    </tr>\n",
       "    <tr>\n",
       "      <th>12054</th>\n",
       "      <td>Reed</td>\n",
       "      <td>Tom</td>\n",
       "      <td>1971-11-18</td>\n",
       "      <td>M</td>\n",
       "      <td>rep</td>\n",
       "      <td>NY</td>\n",
       "      <td>Republican</td>\n",
       "    </tr>\n",
       "  </tbody>\n",
       "</table>\n",
       "<p>12055 rows × 7 columns</p>\n",
       "</div>"
      ],
      "text/plain": [
       "         last_name  first_name   birthday gender type state  \\\n",
       "0          Bassett     Richard 1745-04-02      M  sen    DE   \n",
       "1            Bland  Theodorick 1742-03-21      M  rep    VA   \n",
       "2            Burke     Aedanus 1743-06-16      M  rep    SC   \n",
       "3          Carroll      Daniel 1730-07-22      M  rep    MD   \n",
       "4           Clymer      George 1739-03-16      M  rep    PA   \n",
       "...            ...         ...        ...    ...  ...   ...   \n",
       "12050     Hagedorn         Jim 1962-08-04      M  rep    MN   \n",
       "12051        Young         Don 1933-06-09      M  rep    AK   \n",
       "12052  Fortenberry        Jeff 1960-12-27      M  rep    NE   \n",
       "12053         Vela     Filemon 1963-02-13      M  rep    TX   \n",
       "12054         Reed         Tom 1971-11-18      M  rep    NY   \n",
       "\n",
       "                     party  \n",
       "0      Anti-Administration  \n",
       "1                      NaN  \n",
       "2                      NaN  \n",
       "3                      NaN  \n",
       "4                      NaN  \n",
       "...                    ...  \n",
       "12050           Republican  \n",
       "12051           Republican  \n",
       "12052           Republican  \n",
       "12053             Democrat  \n",
       "12054           Republican  \n",
       "\n",
       "[12055 rows x 7 columns]"
      ]
     },
     "execution_count": 4,
     "metadata": {},
     "output_type": "execute_result"
    }
   ],
   "source": [
    "legislators_historical"
   ]
  },
  {
   "cell_type": "markdown",
   "metadata": {
    "id": "q3r7xwk8knli"
   },
   "source": [
    "### Step 1: Split\n",
    "The [`groupby`](https://pandas.pydata.org/pandas-docs/stable/reference/api/pandas.DataFrame.groupby.html?highlight=groupby#pandas.DataFrame.groupby ) method is used to divide data into groups. The simplest and perhaps also the most common usage is to group by an existing column in a table. According to `type`, ie. in our dataset according to the chamber (type): ` rep` is the House of Representatives, `sen` is the Senate."
   ]
  },
  {
   "cell_type": "code",
   "execution_count": 9,
   "metadata": {
    "id": "2nZCLC34knli",
    "outputId": "e5955122-e818-4ef4-90ad-b7ee815f5095"
   },
   "outputs": [
    {
     "data": {
      "text/plain": [
       "<pandas.core.groupby.generic.DataFrameGroupBy object at 0x7efe4c776050>"
      ]
     },
     "execution_count": 9,
     "metadata": {},
     "output_type": "execute_result"
    }
   ],
   "source": [
    "legislators_historical_by_party = legislators_historical.groupby(\"party\")\n",
    "legislators_historical_by_party"
   ]
  },
  {
   "cell_type": "markdown",
   "metadata": {
    "id": "rY39DLpuknlj"
   },
   "source": [
    "We received an object of type [`GroupBy`](https://pandas.pydata.org/pandas-docs/stable/reference/groupby.html). If it reminds you of `DatetimeIndexResampler` from previous lesson, it is a very good association. This operation only divided the data into groups, but we have not yet said what we want to do with those groups."
   ]
  },
  {
   "cell_type": "markdown",
   "metadata": {
    "id": "ktLEagiXknlk"
   },
   "source": [
    "### Step 2 + 3: Apply + Combine\n",
    "We can now apply an operation to the groups we created with `groupby`. This is the *apply* step. It is not worth it for us to separate this step from the third step *combine*, because if we already apply an operation, we would like to compile the result into the resulting dataset. Moreover, Pandas itself does not separate these steps in any way.\n",
    "\n",
    "* Note: Apply and combine will become more separate in large data processing tools, which no longer fit comfortably in the computer's operating memory and pandas are no longer enough for them. Apply then takes place in parts, even if distributed on separate servers, and the resulting combine is done by collecting partial results.\n",
    "\n",
    "We will now use the simple aggregation method `count`, which returns the number of values (in groups, of course)."
   ]
  },
  {
   "cell_type": "code",
   "execution_count": 6,
   "metadata": {
    "id": "4xTc3wixknlk",
    "outputId": "dba52cde-aa8e-4320-94f0-3d77fd252452"
   },
   "outputs": [
    {
     "data": {
      "text/html": [
       "<div>\n",
       "<style scoped>\n",
       "    .dataframe tbody tr th:only-of-type {\n",
       "        vertical-align: middle;\n",
       "    }\n",
       "\n",
       "    .dataframe tbody tr th {\n",
       "        vertical-align: top;\n",
       "    }\n",
       "\n",
       "    .dataframe thead th {\n",
       "        text-align: right;\n",
       "    }\n",
       "</style>\n",
       "<table border=\"1\" class=\"dataframe\">\n",
       "  <thead>\n",
       "    <tr style=\"text-align: right;\">\n",
       "      <th></th>\n",
       "      <th>last_name</th>\n",
       "      <th>first_name</th>\n",
       "      <th>birthday</th>\n",
       "      <th>gender</th>\n",
       "      <th>state</th>\n",
       "      <th>party</th>\n",
       "    </tr>\n",
       "    <tr>\n",
       "      <th>type</th>\n",
       "      <th></th>\n",
       "      <th></th>\n",
       "      <th></th>\n",
       "      <th></th>\n",
       "      <th></th>\n",
       "      <th></th>\n",
       "    </tr>\n",
       "  </thead>\n",
       "  <tbody>\n",
       "    <tr>\n",
       "      <th>rep</th>\n",
       "      <td>10215</td>\n",
       "      <td>10215</td>\n",
       "      <td>9725</td>\n",
       "      <td>10215</td>\n",
       "      <td>10215</td>\n",
       "      <td>9991</td>\n",
       "    </tr>\n",
       "    <tr>\n",
       "      <th>sen</th>\n",
       "      <td>1840</td>\n",
       "      <td>1840</td>\n",
       "      <td>1780</td>\n",
       "      <td>1840</td>\n",
       "      <td>1840</td>\n",
       "      <td>1832</td>\n",
       "    </tr>\n",
       "  </tbody>\n",
       "</table>\n",
       "</div>"
      ],
      "text/plain": [
       "      last_name  first_name  birthday  gender  state  party\n",
       "type                                                       \n",
       "rep       10215       10215      9725   10215  10215   9991\n",
       "sen        1840        1840      1780    1840   1840   1832"
      ]
     },
     "execution_count": 6,
     "metadata": {},
     "output_type": "execute_result"
    }
   ],
   "source": [
    "legislators_historical_by_type.count()"
   ]
  },
  {
   "cell_type": "markdown",
   "metadata": {
    "id": "cYeG6Xjaknll"
   },
   "source": [
    "We see that 1830 senators and 10151 congressmen are recorded in the data. On the left side of the index, we see the groups according to which the dataset was aggregated and all columns to which our aggregation function could be applied (in this case to all the remaining ones).\n",
    "From the numbers, you may notice that some values from date of birth and party is missing.\n",
    "Before applying the *apply* step, we can choose which of the columns to do so, making the output a little clearer. If we choose only one column, we get Series instead of DataFrame."
   ]
  },
  {
   "cell_type": "code",
   "execution_count": 7,
   "metadata": {
    "id": "CmJTAoCTknlm",
    "outputId": "aa611d25-a80c-481b-a462-31aa70bb3bd3"
   },
   "outputs": [
    {
     "data": {
      "text/plain": [
       "type\n",
       "rep    9991\n",
       "sen    1832\n",
       "Name: party, dtype: int64"
      ]
     },
     "execution_count": 7,
     "metadata": {},
     "output_type": "execute_result"
    }
   ],
   "source": [
    "legislators_historical_by_type['party'].count()"
   ]
  },
  {
   "cell_type": "markdown",
   "metadata": {
    "id": "mZc2oiN9knln"
   },
   "source": [
    "We can simplify this step a bit - rather than using the `count` above one column within the aggregation, we can use the *size* of each of the groups."
   ]
  },
  {
   "cell_type": "code",
   "execution_count": 8,
   "metadata": {
    "id": "86akLPp4knlo",
    "outputId": "7e469558-ebdf-440d-a4ab-cd9e6fcc5102"
   },
   "outputs": [
    {
     "data": {
      "text/plain": [
       "type\n",
       "rep    10215\n",
       "sen     1840\n",
       "dtype: int64"
      ]
     },
     "execution_count": 8,
     "metadata": {},
     "output_type": "execute_result"
    }
   ],
   "source": [
    "legislators_historical_by_type.size()"
   ]
  },
  {
   "cell_type": "markdown",
   "metadata": {
    "id": "obQs5LUIknlp"
   },
   "source": [
    "**Task:** \n",
    "\n",
    "Divide the data by party (`party`) and list the number of records in each group. Can you sort the result by group size?"
   ]
  },
  {
   "cell_type": "code",
   "execution_count": 9,
   "metadata": {
    "id": "2nZCLC34knli",
    "outputId": "e5955122-e818-4ef4-90ad-b7ee815f5095"
   },
   "outputs": [
    {
     "data": {
      "text/plain": [
       "<pandas.core.groupby.generic.DataFrameGroupBy object at 0x7efe4c776050>"
      ]
     },
     "execution_count": 9,
     "metadata": {},
     "output_type": "execute_result"
    }
   ],
   "source": [
    "legislators_historical_by_party = legislators_historical.groupby(\"party\")\n",
    "legislators_historical_by_party"
   ]
  },
  {
   "cell_type": "code",
   "execution_count": 14,
   "metadata": {},
   "outputs": [
    {
     "data": {
      "text/plain": [
       "party\n",
       "Democrat                      5037\n",
       "Republican                    4922\n",
       "Whig                           564\n",
       "Federalist                     343\n",
       "Jackson                        338\n",
       "Adams                          100\n",
       "Ind. Republican-Democrat        70\n",
       "American                        44\n",
       "Unionist                        42\n",
       "Populist                        42\n",
       "Anti Jacksonian                 31\n",
       "Anti Masonic                    27\n",
       "Ind. Democrat                   23\n",
       "Independent                     22\n",
       "National Greenbacker            18\n",
       "Unconditional Unionist          16\n",
       "Anti-Jacksonian                 14\n",
       "Farmer-Labor                    13\n",
       "Ind. Republican                 13\n",
       "Progressive                     12\n",
       "Pro-Administration              12\n",
       "Liberal Republican              12\n",
       "Anti-Administration              9\n",
       "Conservative                     9\n",
       "Nullifier                        9\n",
       "Jacksonian                       9\n",
       "Free Soil                        7\n",
       "Anti-Lecompton Democrat          7\n",
       "Silver Republican                6\n",
       "Popular Democrat                 5\n",
       "Democratic Republican            4\n",
       "Readjuster                       4\n",
       "Crawford Republican              3\n",
       "Law and Order                    2\n",
       "American Labor                   2\n",
       "Unknown                          2\n",
       "Union                            2\n",
       "Coalitionist                     2\n",
       "Socialist                        2\n",
       "Conservative Republican          2\n",
       "Jackson Republican               2\n",
       "New Progressive                  2\n",
       "Free Silver                      1\n",
       "Nonpartisan                      1\n",
       "Liberty                          1\n",
       "Anti Jackson                     1\n",
       "Union Labor                      1\n",
       "Union Democrat                   1\n",
       "Democrat-Liberal                 1\n",
       "States Rights                    1\n",
       "Democratic and Union Labor       1\n",
       "Constitutional Unionist          1\n",
       "Republican-Conservative          1\n",
       "Ind. Whig                        1\n",
       "Readjuster Democrat              1\n",
       "Libertarian                      1\n",
       "Prohibitionist                   1\n",
       "Progressive Republican           1\n",
       "Adams Democrat                   1\n",
       "Independent Democrat             1\n",
       "dtype: int64"
      ]
     },
     "execution_count": 14,
     "metadata": {},
     "output_type": "execute_result"
    }
   ],
   "source": [
    "legislators_historical.groupby(\"party\").size().sort_values(ascending=False)"
   ]
  },
  {
   "cell_type": "markdown",
   "metadata": {
    "id": "2rsiu9Ggknlq"
   },
   "source": [
    "You may have noticed the index of the result. If not, it doesn't matter, you will notice now :) . We will try to create groups not from one column, but from two. Let\"s divide the legislators by state, and each group for one state still by gender."
   ]
  },
  {
   "cell_type": "code",
   "execution_count": 15,
   "metadata": {
    "id": "PKN_aQQ3knlr",
    "outputId": "6fc449c7-1eaa-4080-8bf7-d249d11cd4ed",
    "solution": "hidden"
   },
   "outputs": [
    {
     "data": {
      "text/html": [
       "<div>\n",
       "<style scoped>\n",
       "    .dataframe tbody tr th:only-of-type {\n",
       "        vertical-align: middle;\n",
       "    }\n",
       "\n",
       "    .dataframe tbody tr th {\n",
       "        vertical-align: top;\n",
       "    }\n",
       "\n",
       "    .dataframe thead th {\n",
       "        text-align: right;\n",
       "    }\n",
       "</style>\n",
       "<table border=\"1\" class=\"dataframe\">\n",
       "  <thead>\n",
       "    <tr style=\"text-align: right;\">\n",
       "      <th></th>\n",
       "      <th></th>\n",
       "      <th>last_name</th>\n",
       "      <th>first_name</th>\n",
       "      <th>birthday</th>\n",
       "      <th>type</th>\n",
       "      <th>party</th>\n",
       "    </tr>\n",
       "    <tr>\n",
       "      <th>state</th>\n",
       "      <th>gender</th>\n",
       "      <th></th>\n",
       "      <th></th>\n",
       "      <th></th>\n",
       "      <th></th>\n",
       "      <th></th>\n",
       "    </tr>\n",
       "  </thead>\n",
       "  <tbody>\n",
       "    <tr>\n",
       "      <th>AK</th>\n",
       "      <th>M</th>\n",
       "      <td>17</td>\n",
       "      <td>17</td>\n",
       "      <td>17</td>\n",
       "      <td>17</td>\n",
       "      <td>15</td>\n",
       "    </tr>\n",
       "    <tr>\n",
       "      <th rowspan=\"2\" valign=\"top\">AL</th>\n",
       "      <th>F</th>\n",
       "      <td>4</td>\n",
       "      <td>4</td>\n",
       "      <td>4</td>\n",
       "      <td>4</td>\n",
       "      <td>4</td>\n",
       "    </tr>\n",
       "    <tr>\n",
       "      <th>M</th>\n",
       "      <td>205</td>\n",
       "      <td>205</td>\n",
       "      <td>196</td>\n",
       "      <td>205</td>\n",
       "      <td>205</td>\n",
       "    </tr>\n",
       "    <tr>\n",
       "      <th rowspan=\"2\" valign=\"top\">AR</th>\n",
       "      <th>F</th>\n",
       "      <td>5</td>\n",
       "      <td>5</td>\n",
       "      <td>5</td>\n",
       "      <td>5</td>\n",
       "      <td>5</td>\n",
       "    </tr>\n",
       "    <tr>\n",
       "      <th>M</th>\n",
       "      <td>112</td>\n",
       "      <td>112</td>\n",
       "      <td>109</td>\n",
       "      <td>112</td>\n",
       "      <td>110</td>\n",
       "    </tr>\n",
       "    <tr>\n",
       "      <th>...</th>\n",
       "      <th>...</th>\n",
       "      <td>...</td>\n",
       "      <td>...</td>\n",
       "      <td>...</td>\n",
       "      <td>...</td>\n",
       "      <td>...</td>\n",
       "    </tr>\n",
       "    <tr>\n",
       "      <th>WI</th>\n",
       "      <th>M</th>\n",
       "      <td>198</td>\n",
       "      <td>198</td>\n",
       "      <td>198</td>\n",
       "      <td>198</td>\n",
       "      <td>198</td>\n",
       "    </tr>\n",
       "    <tr>\n",
       "      <th rowspan=\"2\" valign=\"top\">WV</th>\n",
       "      <th>F</th>\n",
       "      <td>1</td>\n",
       "      <td>1</td>\n",
       "      <td>1</td>\n",
       "      <td>1</td>\n",
       "      <td>1</td>\n",
       "    </tr>\n",
       "    <tr>\n",
       "      <th>M</th>\n",
       "      <td>119</td>\n",
       "      <td>119</td>\n",
       "      <td>117</td>\n",
       "      <td>119</td>\n",
       "      <td>119</td>\n",
       "    </tr>\n",
       "    <tr>\n",
       "      <th rowspan=\"2\" valign=\"top\">WY</th>\n",
       "      <th>F</th>\n",
       "      <td>1</td>\n",
       "      <td>1</td>\n",
       "      <td>1</td>\n",
       "      <td>1</td>\n",
       "      <td>1</td>\n",
       "    </tr>\n",
       "    <tr>\n",
       "      <th>M</th>\n",
       "      <td>39</td>\n",
       "      <td>39</td>\n",
       "      <td>39</td>\n",
       "      <td>39</td>\n",
       "      <td>39</td>\n",
       "    </tr>\n",
       "  </tbody>\n",
       "</table>\n",
       "<p>105 rows × 5 columns</p>\n",
       "</div>"
      ],
      "text/plain": [
       "              last_name  first_name  birthday  type  party\n",
       "state gender                                              \n",
       "AK    M              17          17        17    17     15\n",
       "AL    F               4           4         4     4      4\n",
       "      M             205         205       196   205    205\n",
       "AR    F               5           5         5     5      5\n",
       "      M             112         112       109   112    110\n",
       "...                 ...         ...       ...   ...    ...\n",
       "WI    M             198         198       198   198    198\n",
       "WV    F               1           1         1     1      1\n",
       "      M             119         119       117   119    119\n",
       "WY    F               1           1         1     1      1\n",
       "      M              39          39        39    39     39\n",
       "\n",
       "[105 rows x 5 columns]"
      ]
     },
     "execution_count": 15,
     "metadata": {},
     "output_type": "execute_result"
    }
   ],
   "source": [
    "legislators_by_state_gender_counts = legislators_historical.groupby([\"state\", \"gender\"]).count()\n",
    "legislators_by_state_gender_counts"
   ]
  },
  {
   "cell_type": "markdown",
   "metadata": {
    "id": "wLqcdtIZknls"
   },
   "source": [
    "So we have groups that are defined by a pair of state and gender values (`state`,` gender`). And that's exactly why in Pandas [`MultiIndex`](https://pandas.pydata.org/pandas-docs/stable/reference/api/pandas.MultiIndex.html) exists."
   ]
  },
  {
   "cell_type": "markdown",
   "metadata": {
    "id": "wAC_D7_Mknls"
   },
   "source": [
    "### Working with MultiIndex\n",
    "The properties of a MultiIndex, actually such a multilevel or multidimensional index, can be explored (apart from a simple display) using several useful attributes."
   ]
  },
  {
   "cell_type": "code",
   "execution_count": 16,
   "metadata": {
    "id": "XS5-luNaknlt",
    "outputId": "ede45fce-cd40-4fb2-c487-845092613a05"
   },
   "outputs": [
    {
     "data": {
      "text/plain": [
       "2"
      ]
     },
     "execution_count": 16,
     "metadata": {},
     "output_type": "execute_result"
    }
   ],
   "source": [
    "# number of levels\n",
    "legislators_by_state_gender_counts.index.nlevels"
   ]
  },
  {
   "cell_type": "code",
   "execution_count": 18,
   "metadata": {
    "id": "FMee9HA2knlt",
    "outputId": "da7be4d7-725e-462d-940a-128dde4ae078"
   },
   "outputs": [
    {
     "data": {
      "text/plain": [
       "'gender'"
      ]
     },
     "execution_count": 18,
     "metadata": {},
     "output_type": "execute_result"
    }
   ],
   "source": [
    "# level names ##IT BEHAVES LIKE TUPLE\n",
    "legislators_by_state_gender_counts.index.names\n",
    "legislators_by_state_gender_counts.index.names[0]\n",
    "legislators_by_state_gender_counts.index.names[1]\n"
   ]
  },
  {
   "cell_type": "code",
   "execution_count": 19,
   "metadata": {
    "id": "YEhSdQKLknlu",
    "outputId": "2ce5b654-c036-4bac-cb5b-327351554a6d"
   },
   "outputs": [
    {
     "data": {
      "text/plain": [
       "(58, 2)"
      ]
     },
     "execution_count": 19,
     "metadata": {},
     "output_type": "execute_result"
    }
   ],
   "source": [
    "# power (number of values) of individual levels\n",
    "legislators_by_state_gender_counts.index.levshape"
   ]
  },
  {
   "cell_type": "code",
   "execution_count": 20,
   "metadata": {
    "id": "ZNnG7QEfknlu",
    "outputId": "06acb8fd-1445-4c46-8ed7-c052f089c0bb"
   },
   "outputs": [
    {
     "data": {
      "text/plain": [
       "FrozenList([['AK', 'AL', 'AR', 'AS', 'AZ', 'CA', 'CO', 'CT', 'DC', 'DE', 'DK', 'FL', 'GA', 'GU', 'HI', 'IA', 'ID', 'IL', 'IN', 'KS', 'KY', 'LA', 'MA', 'MD', 'ME', 'MI', 'MN', 'MO', 'MS', 'MT', 'NC', 'ND', 'NE', 'NH', 'NJ', 'NM', 'NV', 'NY', 'OH', 'OK', 'OL', 'OR', 'PA', 'PI', 'PR', 'RI', 'SC', 'SD', 'TN', 'TX', 'UT', 'VA', 'VI', 'VT', 'WA', 'WI', 'WV', 'WY'], ['F', 'M']])"
      ]
     },
     "execution_count": 20,
     "metadata": {},
     "output_type": "execute_result"
    }
   ],
   "source": [
    "# values in each level\n",
    "legislators_by_state_gender_counts.index.levels"
   ]
  },
  {
   "cell_type": "markdown",
   "metadata": {
    "id": "35OCRcP4knlv"
   },
   "source": [
    "So we know that our (multi)index has two levels. In order to get a specific line, we must enter two values. We will use `tuple` for this (attention, it must really be` tuple` and not `list`, ie we must use round brackets and not square brackets)."
   ]
  },
  {
   "cell_type": "code",
   "execution_count": 23,
   "metadata": {
    "id": "I-llLPOXknlw",
    "outputId": "d095ecb9-a6c3-4549-9040-3061c3ca07fc"
   },
   "outputs": [
    {
     "data": {
      "text/plain": [
       "last_name     1\n",
       "first_name    1\n",
       "birthday      1\n",
       "type          1\n",
       "party         1\n",
       "Name: (WY, F), dtype: int64"
      ]
     },
     "execution_count": 23,
     "metadata": {},
     "output_type": "execute_result"
    }
   ],
   "source": [
    "legislators_by_state_gender_counts.loc[(\"WY\", \"F\")]"
   ]
  },
  {
   "cell_type": "markdown",
   "metadata": {
    "id": "V-06hgsHknlw"
   },
   "source": [
    "What if we entered only half of the index? We get the whole group, in our case the whole state."
   ]
  },
  {
   "cell_type": "code",
   "execution_count": 24,
   "metadata": {
    "id": "ee2g3uToknlw",
    "outputId": "4f8b12e0-23e6-4a59-e64d-c97271b7c177"
   },
   "outputs": [
    {
     "data": {
      "text/html": [
       "<div>\n",
       "<style scoped>\n",
       "    .dataframe tbody tr th:only-of-type {\n",
       "        vertical-align: middle;\n",
       "    }\n",
       "\n",
       "    .dataframe tbody tr th {\n",
       "        vertical-align: top;\n",
       "    }\n",
       "\n",
       "    .dataframe thead th {\n",
       "        text-align: right;\n",
       "    }\n",
       "</style>\n",
       "<table border=\"1\" class=\"dataframe\">\n",
       "  <thead>\n",
       "    <tr style=\"text-align: right;\">\n",
       "      <th></th>\n",
       "      <th>last_name</th>\n",
       "      <th>first_name</th>\n",
       "      <th>birthday</th>\n",
       "      <th>type</th>\n",
       "      <th>party</th>\n",
       "    </tr>\n",
       "    <tr>\n",
       "      <th>gender</th>\n",
       "      <th></th>\n",
       "      <th></th>\n",
       "      <th></th>\n",
       "      <th></th>\n",
       "      <th></th>\n",
       "    </tr>\n",
       "  </thead>\n",
       "  <tbody>\n",
       "    <tr>\n",
       "      <th>F</th>\n",
       "      <td>1</td>\n",
       "      <td>1</td>\n",
       "      <td>1</td>\n",
       "      <td>1</td>\n",
       "      <td>1</td>\n",
       "    </tr>\n",
       "    <tr>\n",
       "      <th>M</th>\n",
       "      <td>39</td>\n",
       "      <td>39</td>\n",
       "      <td>39</td>\n",
       "      <td>39</td>\n",
       "      <td>39</td>\n",
       "    </tr>\n",
       "  </tbody>\n",
       "</table>\n",
       "</div>"
      ],
      "text/plain": [
       "        last_name  first_name  birthday  type  party\n",
       "gender                                              \n",
       "F               1           1         1     1      1\n",
       "M              39          39        39    39     39"
      ]
     },
     "execution_count": 24,
     "metadata": {},
     "output_type": "execute_result"
    }
   ],
   "source": [
    "legislators_by_state_gender_counts.loc[\"WY\"]"
   ]
  },
  {
   "cell_type": "markdown",
   "metadata": {
    "id": "44h9cj46knlx"
   },
   "source": [
    "**Question:** What is the index of the resulting table?"
   ]
  },
  {
   "cell_type": "markdown",
   "metadata": {
    "id": "DQwYRgSgknlx"
   },
   "source": [
    "If we want one gender, we can change the index order."
   ]
  },
  {
   "cell_type": "code",
   "execution_count": 27,
   "metadata": {
    "id": "WA57Tu4qknlx",
    "outputId": "2f3b5037-affd-4551-8c09-d0d6808065b2"
   },
   "outputs": [
    {
     "data": {
      "text/html": [
       "<div>\n",
       "<style scoped>\n",
       "    .dataframe tbody tr th:only-of-type {\n",
       "        vertical-align: middle;\n",
       "    }\n",
       "\n",
       "    .dataframe tbody tr th {\n",
       "        vertical-align: top;\n",
       "    }\n",
       "\n",
       "    .dataframe thead th {\n",
       "        text-align: right;\n",
       "    }\n",
       "</style>\n",
       "<table border=\"1\" class=\"dataframe\">\n",
       "  <thead>\n",
       "    <tr style=\"text-align: right;\">\n",
       "      <th></th>\n",
       "      <th></th>\n",
       "      <th>last_name</th>\n",
       "      <th>first_name</th>\n",
       "      <th>birthday</th>\n",
       "      <th>type</th>\n",
       "      <th>party</th>\n",
       "    </tr>\n",
       "    <tr>\n",
       "      <th>gender</th>\n",
       "      <th>state</th>\n",
       "      <th></th>\n",
       "      <th></th>\n",
       "      <th></th>\n",
       "      <th></th>\n",
       "      <th></th>\n",
       "    </tr>\n",
       "  </thead>\n",
       "  <tbody>\n",
       "    <tr>\n",
       "      <th>M</th>\n",
       "      <th>AK</th>\n",
       "      <td>17</td>\n",
       "      <td>17</td>\n",
       "      <td>17</td>\n",
       "      <td>17</td>\n",
       "      <td>15</td>\n",
       "    </tr>\n",
       "    <tr>\n",
       "      <th>F</th>\n",
       "      <th>AL</th>\n",
       "      <td>4</td>\n",
       "      <td>4</td>\n",
       "      <td>4</td>\n",
       "      <td>4</td>\n",
       "      <td>4</td>\n",
       "    </tr>\n",
       "    <tr>\n",
       "      <th>M</th>\n",
       "      <th>AL</th>\n",
       "      <td>205</td>\n",
       "      <td>205</td>\n",
       "      <td>196</td>\n",
       "      <td>205</td>\n",
       "      <td>205</td>\n",
       "    </tr>\n",
       "    <tr>\n",
       "      <th>F</th>\n",
       "      <th>AR</th>\n",
       "      <td>5</td>\n",
       "      <td>5</td>\n",
       "      <td>5</td>\n",
       "      <td>5</td>\n",
       "      <td>5</td>\n",
       "    </tr>\n",
       "    <tr>\n",
       "      <th rowspan=\"3\" valign=\"top\">M</th>\n",
       "      <th>AR</th>\n",
       "      <td>112</td>\n",
       "      <td>112</td>\n",
       "      <td>109</td>\n",
       "      <td>112</td>\n",
       "      <td>110</td>\n",
       "    </tr>\n",
       "    <tr>\n",
       "      <th>...</th>\n",
       "      <td>...</td>\n",
       "      <td>...</td>\n",
       "      <td>...</td>\n",
       "      <td>...</td>\n",
       "      <td>...</td>\n",
       "    </tr>\n",
       "    <tr>\n",
       "      <th>WI</th>\n",
       "      <td>198</td>\n",
       "      <td>198</td>\n",
       "      <td>198</td>\n",
       "      <td>198</td>\n",
       "      <td>198</td>\n",
       "    </tr>\n",
       "    <tr>\n",
       "      <th>F</th>\n",
       "      <th>WV</th>\n",
       "      <td>1</td>\n",
       "      <td>1</td>\n",
       "      <td>1</td>\n",
       "      <td>1</td>\n",
       "      <td>1</td>\n",
       "    </tr>\n",
       "    <tr>\n",
       "      <th>M</th>\n",
       "      <th>WV</th>\n",
       "      <td>119</td>\n",
       "      <td>119</td>\n",
       "      <td>117</td>\n",
       "      <td>119</td>\n",
       "      <td>119</td>\n",
       "    </tr>\n",
       "    <tr>\n",
       "      <th>F</th>\n",
       "      <th>WY</th>\n",
       "      <td>1</td>\n",
       "      <td>1</td>\n",
       "      <td>1</td>\n",
       "      <td>1</td>\n",
       "      <td>1</td>\n",
       "    </tr>\n",
       "    <tr>\n",
       "      <th>M</th>\n",
       "      <th>WY</th>\n",
       "      <td>39</td>\n",
       "      <td>39</td>\n",
       "      <td>39</td>\n",
       "      <td>39</td>\n",
       "      <td>39</td>\n",
       "    </tr>\n",
       "  </tbody>\n",
       "</table>\n",
       "<p>105 rows × 5 columns</p>\n",
       "</div>"
      ],
      "text/plain": [
       "              last_name  first_name  birthday  type  party\n",
       "gender state                                              \n",
       "M      AK            17          17        17    17     15\n",
       "F      AL             4           4         4     4      4\n",
       "M      AL           205         205       196   205    205\n",
       "F      AR             5           5         5     5      5\n",
       "M      AR           112         112       109   112    110\n",
       "...                 ...         ...       ...   ...    ...\n",
       "       WI           198         198       198   198    198\n",
       "F      WV             1           1         1     1      1\n",
       "M      WV           119         119       117   119    119\n",
       "F      WY             1           1         1     1      1\n",
       "M      WY            39          39        39    39     39\n",
       "\n",
       "[105 rows x 5 columns]"
      ]
     },
     "execution_count": 27,
     "metadata": {},
     "output_type": "execute_result"
    }
   ],
   "source": [
    "swapped_index = legislators_by_state_gender_counts.index.swaplevel(0, 1)\n",
    "#print(swapped_index)\n",
    "legislators_by_gender_state_counts = legislators_by_state_gender_counts.set_index(swapped_index)\n",
    "legislators_by_gender_state_counts"
   ]
  },
  {
   "cell_type": "code",
   "execution_count": 28,
   "metadata": {
    "id": "m_FJ7-5Eknly",
    "outputId": "38e2efe3-e1b1-4440-8b53-ffa0541cfdd3"
   },
   "outputs": [
    {
     "data": {
      "text/html": [
       "<div>\n",
       "<style scoped>\n",
       "    .dataframe tbody tr th:only-of-type {\n",
       "        vertical-align: middle;\n",
       "    }\n",
       "\n",
       "    .dataframe tbody tr th {\n",
       "        vertical-align: top;\n",
       "    }\n",
       "\n",
       "    .dataframe thead th {\n",
       "        text-align: right;\n",
       "    }\n",
       "</style>\n",
       "<table border=\"1\" class=\"dataframe\">\n",
       "  <thead>\n",
       "    <tr style=\"text-align: right;\">\n",
       "      <th></th>\n",
       "      <th>last_name</th>\n",
       "      <th>first_name</th>\n",
       "      <th>birthday</th>\n",
       "      <th>type</th>\n",
       "      <th>party</th>\n",
       "    </tr>\n",
       "    <tr>\n",
       "      <th>state</th>\n",
       "      <th></th>\n",
       "      <th></th>\n",
       "      <th></th>\n",
       "      <th></th>\n",
       "      <th></th>\n",
       "    </tr>\n",
       "  </thead>\n",
       "  <tbody>\n",
       "    <tr>\n",
       "      <th>AL</th>\n",
       "      <td>4</td>\n",
       "      <td>4</td>\n",
       "      <td>4</td>\n",
       "      <td>4</td>\n",
       "      <td>4</td>\n",
       "    </tr>\n",
       "    <tr>\n",
       "      <th>AR</th>\n",
       "      <td>5</td>\n",
       "      <td>5</td>\n",
       "      <td>5</td>\n",
       "      <td>5</td>\n",
       "      <td>5</td>\n",
       "    </tr>\n",
       "    <tr>\n",
       "      <th>AZ</th>\n",
       "      <td>4</td>\n",
       "      <td>4</td>\n",
       "      <td>4</td>\n",
       "      <td>4</td>\n",
       "      <td>4</td>\n",
       "    </tr>\n",
       "    <tr>\n",
       "      <th>CA</th>\n",
       "      <td>26</td>\n",
       "      <td>26</td>\n",
       "      <td>26</td>\n",
       "      <td>26</td>\n",
       "      <td>26</td>\n",
       "    </tr>\n",
       "    <tr>\n",
       "      <th>CO</th>\n",
       "      <td>3</td>\n",
       "      <td>3</td>\n",
       "      <td>3</td>\n",
       "      <td>3</td>\n",
       "      <td>3</td>\n",
       "    </tr>\n",
       "  </tbody>\n",
       "</table>\n",
       "</div>"
      ],
      "text/plain": [
       "       last_name  first_name  birthday  type  party\n",
       "state                                              \n",
       "AL             4           4         4     4      4\n",
       "AR             5           5         5     5      5\n",
       "AZ             4           4         4     4      4\n",
       "CA            26          26        26    26     26\n",
       "CO             3           3         3     3      3"
      ]
     },
     "execution_count": 28,
     "metadata": {},
     "output_type": "execute_result"
    }
   ],
   "source": [
    "legislators_by_gender_state_counts.loc[\"F\"].head()"
   ]
  },
  {
   "cell_type": "markdown",
   "metadata": {
    "id": "cm-FfEGIknly"
   },
   "source": [
    "You can find more about (advanced) working with indexes and multi-indexes in the [documentation](https://pandas.pydata.org/pandas-docs/stable/user_guide/advanced.html).\n",
    "If we want to \"get rid of\" the multiindex, we can do it with `.reset_index()` function"
   ]
  },
  {
   "cell_type": "code",
   "execution_count": 29,
   "metadata": {
    "id": "skz7-4smknlz",
    "outputId": "6ae0a45a-9ee5-4098-8fc1-2a54803d609e"
   },
   "outputs": [
    {
     "data": {
      "text/html": [
       "<div>\n",
       "<style scoped>\n",
       "    .dataframe tbody tr th:only-of-type {\n",
       "        vertical-align: middle;\n",
       "    }\n",
       "\n",
       "    .dataframe tbody tr th {\n",
       "        vertical-align: top;\n",
       "    }\n",
       "\n",
       "    .dataframe thead th {\n",
       "        text-align: right;\n",
       "    }\n",
       "</style>\n",
       "<table border=\"1\" class=\"dataframe\">\n",
       "  <thead>\n",
       "    <tr style=\"text-align: right;\">\n",
       "      <th></th>\n",
       "      <th>state</th>\n",
       "      <th>gender</th>\n",
       "      <th>last_name</th>\n",
       "      <th>first_name</th>\n",
       "      <th>birthday</th>\n",
       "      <th>type</th>\n",
       "      <th>party</th>\n",
       "    </tr>\n",
       "  </thead>\n",
       "  <tbody>\n",
       "    <tr>\n",
       "      <th>0</th>\n",
       "      <td>AK</td>\n",
       "      <td>M</td>\n",
       "      <td>17</td>\n",
       "      <td>17</td>\n",
       "      <td>17</td>\n",
       "      <td>17</td>\n",
       "      <td>15</td>\n",
       "    </tr>\n",
       "    <tr>\n",
       "      <th>1</th>\n",
       "      <td>AL</td>\n",
       "      <td>F</td>\n",
       "      <td>4</td>\n",
       "      <td>4</td>\n",
       "      <td>4</td>\n",
       "      <td>4</td>\n",
       "      <td>4</td>\n",
       "    </tr>\n",
       "    <tr>\n",
       "      <th>2</th>\n",
       "      <td>AL</td>\n",
       "      <td>M</td>\n",
       "      <td>205</td>\n",
       "      <td>205</td>\n",
       "      <td>196</td>\n",
       "      <td>205</td>\n",
       "      <td>205</td>\n",
       "    </tr>\n",
       "    <tr>\n",
       "      <th>3</th>\n",
       "      <td>AR</td>\n",
       "      <td>F</td>\n",
       "      <td>5</td>\n",
       "      <td>5</td>\n",
       "      <td>5</td>\n",
       "      <td>5</td>\n",
       "      <td>5</td>\n",
       "    </tr>\n",
       "    <tr>\n",
       "      <th>4</th>\n",
       "      <td>AR</td>\n",
       "      <td>M</td>\n",
       "      <td>112</td>\n",
       "      <td>112</td>\n",
       "      <td>109</td>\n",
       "      <td>112</td>\n",
       "      <td>110</td>\n",
       "    </tr>\n",
       "  </tbody>\n",
       "</table>\n",
       "</div>"
      ],
      "text/plain": [
       "  state gender  last_name  first_name  birthday  type  party\n",
       "0    AK      M         17          17        17    17     15\n",
       "1    AL      F          4           4         4     4      4\n",
       "2    AL      M        205         205       196   205    205\n",
       "3    AR      F          5           5         5     5      5\n",
       "4    AR      M        112         112       109   112    110"
      ]
     },
     "execution_count": 29,
     "metadata": {},
     "output_type": "execute_result"
    }
   ],
   "source": [
    "legislators_by_state_gender_counts.reset_index().head(5)"
   ]
  },
  {
   "cell_type": "markdown",
   "metadata": {
    "id": "xrApdXVWknlz"
   },
   "source": [
    "Or use `groupby` with `as_index = False` directly."
   ]
  },
  {
   "cell_type": "code",
   "execution_count": 30,
   "metadata": {
    "id": "qqIkMcH4knlz",
    "outputId": "3ef3acf5-8bf8-45ae-90f0-af553d533ed4",
    "solution": "shown"
   },
   "outputs": [
    {
     "data": {
      "text/html": [
       "<div>\n",
       "<style scoped>\n",
       "    .dataframe tbody tr th:only-of-type {\n",
       "        vertical-align: middle;\n",
       "    }\n",
       "\n",
       "    .dataframe tbody tr th {\n",
       "        vertical-align: top;\n",
       "    }\n",
       "\n",
       "    .dataframe thead th {\n",
       "        text-align: right;\n",
       "    }\n",
       "</style>\n",
       "<table border=\"1\" class=\"dataframe\">\n",
       "  <thead>\n",
       "    <tr style=\"text-align: right;\">\n",
       "      <th></th>\n",
       "      <th>state</th>\n",
       "      <th>gender</th>\n",
       "      <th>last_name</th>\n",
       "      <th>first_name</th>\n",
       "      <th>birthday</th>\n",
       "      <th>type</th>\n",
       "      <th>party</th>\n",
       "    </tr>\n",
       "  </thead>\n",
       "  <tbody>\n",
       "    <tr>\n",
       "      <th>0</th>\n",
       "      <td>AK</td>\n",
       "      <td>M</td>\n",
       "      <td>17</td>\n",
       "      <td>17</td>\n",
       "      <td>17</td>\n",
       "      <td>17</td>\n",
       "      <td>15</td>\n",
       "    </tr>\n",
       "    <tr>\n",
       "      <th>1</th>\n",
       "      <td>AL</td>\n",
       "      <td>F</td>\n",
       "      <td>4</td>\n",
       "      <td>4</td>\n",
       "      <td>4</td>\n",
       "      <td>4</td>\n",
       "      <td>4</td>\n",
       "    </tr>\n",
       "    <tr>\n",
       "      <th>2</th>\n",
       "      <td>AL</td>\n",
       "      <td>M</td>\n",
       "      <td>205</td>\n",
       "      <td>205</td>\n",
       "      <td>196</td>\n",
       "      <td>205</td>\n",
       "      <td>205</td>\n",
       "    </tr>\n",
       "    <tr>\n",
       "      <th>3</th>\n",
       "      <td>AR</td>\n",
       "      <td>F</td>\n",
       "      <td>5</td>\n",
       "      <td>5</td>\n",
       "      <td>5</td>\n",
       "      <td>5</td>\n",
       "      <td>5</td>\n",
       "    </tr>\n",
       "    <tr>\n",
       "      <th>4</th>\n",
       "      <td>AR</td>\n",
       "      <td>M</td>\n",
       "      <td>112</td>\n",
       "      <td>112</td>\n",
       "      <td>109</td>\n",
       "      <td>112</td>\n",
       "      <td>110</td>\n",
       "    </tr>\n",
       "  </tbody>\n",
       "</table>\n",
       "</div>"
      ],
      "text/plain": [
       "  state gender  last_name  first_name  birthday  type  party\n",
       "0    AK      M         17          17        17    17     15\n",
       "1    AL      F          4           4         4     4      4\n",
       "2    AL      M        205         205       196   205    205\n",
       "3    AR      F          5           5         5     5      5\n",
       "4    AR      M        112         112       109   112    110"
      ]
     },
     "execution_count": 30,
     "metadata": {},
     "output_type": "execute_result"
    }
   ],
   "source": [
    "legislators_historical.groupby([\"state\", \"gender\"], as_index=False).count().head(5)"
   ]
  },
  {
   "cell_type": "markdown",
   "metadata": {
    "id": "sw6K34eIknl0"
   },
   "source": [
    "## What is the `DataFrameGroupBy` object?\n",
    "At the beginning we did a basic aggregation without applying functions and we got some kind of object. Is it possible to do something with it without aggregating? It turns out that yes.\n",
    "\n",
    "Before we get to that, let's try one **task**: \n",
    "Divide our dataframe by party - ie. create a dataframe for each party and save it to a separate file. E.g. `Democrat` will go to Democrat.csv etc."
   ]
  },
  {
   "cell_type": "code",
   "execution_count": 31,
   "metadata": {
    "id": "wzUmKOwQknl0",
    "outputId": "1555915d-8198-4b0a-ae62-1a54a552b9de"
   },
   "outputs": [
    {
     "data": {
      "text/plain": [
       "<pandas.core.groupby.generic.DataFrameGroupBy object at 0x7efe491f67d0>"
      ]
     },
     "execution_count": 31,
     "metadata": {},
     "output_type": "execute_result"
    }
   ],
   "source": [
    "legislators_historical.groupby('party')"
   ]
  },
  {
   "cell_type": "markdown",
   "metadata": {
    "id": "JMlSS0Tvknl0"
   },
   "source": [
    "One key function that this object offers us is iteration."
   ]
  },
  {
   "cell_type": "code",
   "execution_count": 32,
   "metadata": {
    "id": "asObKtUPknl1",
    "outputId": "415210f9-ef12-473d-db08-af0f2f403d65"
   },
   "outputs": [
    {
     "data": {
      "text/plain": [
       "('Adams',\n",
       "       last_name first_name   birthday gender type state  party\n",
       " 994       Mills     Elijah 1776-12-01      M  sen    MA  Adams\n",
       " 1079      Lloyd      James        NaT      M  sen    MA  Adams\n",
       " 1122  McIlvaine     Joseph 1769-10-02      M  sen    NJ  Adams\n",
       " 1145     Thomas      Jesse        NaT      M  sen    IL  Adams\n",
       " 1152   Van Dyke   Nicholas 1770-12-20      M  sen    DE  Adams\n",
       " ...         ...        ...        ...    ...  ...   ...    ...\n",
       " 1398     Holmes       John 1773-03-14      M  sen    ME  Adams\n",
       " 1429    Silsbee  Nathaniel 1773-01-14      M  sen    MA  Adams\n",
       " 1472   Chambers    Ezekiel 1788-02-28      M  sen    MD  Adams\n",
       " 1501  Hendricks    William 1782-11-12      M  sen    IN  Adams\n",
       " 2033   Harrison    William 1773-02-09      M  sen    OH  Adams\n",
       " \n",
       " [100 rows x 7 columns])"
      ]
     },
     "execution_count": 32,
     "metadata": {},
     "output_type": "execute_result"
    }
   ],
   "source": [
    "groups = legislators_historical.groupby('party')\n",
    "\n",
    "next(iter(groups)) # this will get the first element during the iteration (for loop)"
   ]
  },
  {
   "cell_type": "code",
   "execution_count": 37,
   "metadata": {},
   "outputs": [
    {
     "data": {
      "text/html": [
       "<div>\n",
       "<style scoped>\n",
       "    .dataframe tbody tr th:only-of-type {\n",
       "        vertical-align: middle;\n",
       "    }\n",
       "\n",
       "    .dataframe tbody tr th {\n",
       "        vertical-align: top;\n",
       "    }\n",
       "\n",
       "    .dataframe thead th {\n",
       "        text-align: right;\n",
       "    }\n",
       "</style>\n",
       "<table border=\"1\" class=\"dataframe\">\n",
       "  <thead>\n",
       "    <tr style=\"text-align: right;\">\n",
       "      <th></th>\n",
       "      <th>last_name</th>\n",
       "      <th>first_name</th>\n",
       "      <th>birthday</th>\n",
       "      <th>gender</th>\n",
       "      <th>type</th>\n",
       "      <th>state</th>\n",
       "      <th>party</th>\n",
       "    </tr>\n",
       "  </thead>\n",
       "  <tbody>\n",
       "    <tr>\n",
       "      <th>994</th>\n",
       "      <td>Mills</td>\n",
       "      <td>Elijah</td>\n",
       "      <td>1776-12-01</td>\n",
       "      <td>M</td>\n",
       "      <td>sen</td>\n",
       "      <td>MA</td>\n",
       "      <td>Adams</td>\n",
       "    </tr>\n",
       "    <tr>\n",
       "      <th>1079</th>\n",
       "      <td>Lloyd</td>\n",
       "      <td>James</td>\n",
       "      <td>NaT</td>\n",
       "      <td>M</td>\n",
       "      <td>sen</td>\n",
       "      <td>MA</td>\n",
       "      <td>Adams</td>\n",
       "    </tr>\n",
       "    <tr>\n",
       "      <th>1122</th>\n",
       "      <td>McIlvaine</td>\n",
       "      <td>Joseph</td>\n",
       "      <td>1769-10-02</td>\n",
       "      <td>M</td>\n",
       "      <td>sen</td>\n",
       "      <td>NJ</td>\n",
       "      <td>Adams</td>\n",
       "    </tr>\n",
       "    <tr>\n",
       "      <th>1145</th>\n",
       "      <td>Thomas</td>\n",
       "      <td>Jesse</td>\n",
       "      <td>NaT</td>\n",
       "      <td>M</td>\n",
       "      <td>sen</td>\n",
       "      <td>IL</td>\n",
       "      <td>Adams</td>\n",
       "    </tr>\n",
       "    <tr>\n",
       "      <th>1152</th>\n",
       "      <td>Van Dyke</td>\n",
       "      <td>Nicholas</td>\n",
       "      <td>1770-12-20</td>\n",
       "      <td>M</td>\n",
       "      <td>sen</td>\n",
       "      <td>DE</td>\n",
       "      <td>Adams</td>\n",
       "    </tr>\n",
       "    <tr>\n",
       "      <th>...</th>\n",
       "      <td>...</td>\n",
       "      <td>...</td>\n",
       "      <td>...</td>\n",
       "      <td>...</td>\n",
       "      <td>...</td>\n",
       "      <td>...</td>\n",
       "      <td>...</td>\n",
       "    </tr>\n",
       "    <tr>\n",
       "      <th>1398</th>\n",
       "      <td>Holmes</td>\n",
       "      <td>John</td>\n",
       "      <td>1773-03-14</td>\n",
       "      <td>M</td>\n",
       "      <td>sen</td>\n",
       "      <td>ME</td>\n",
       "      <td>Adams</td>\n",
       "    </tr>\n",
       "    <tr>\n",
       "      <th>1429</th>\n",
       "      <td>Silsbee</td>\n",
       "      <td>Nathaniel</td>\n",
       "      <td>1773-01-14</td>\n",
       "      <td>M</td>\n",
       "      <td>sen</td>\n",
       "      <td>MA</td>\n",
       "      <td>Adams</td>\n",
       "    </tr>\n",
       "    <tr>\n",
       "      <th>1472</th>\n",
       "      <td>Chambers</td>\n",
       "      <td>Ezekiel</td>\n",
       "      <td>1788-02-28</td>\n",
       "      <td>M</td>\n",
       "      <td>sen</td>\n",
       "      <td>MD</td>\n",
       "      <td>Adams</td>\n",
       "    </tr>\n",
       "    <tr>\n",
       "      <th>1501</th>\n",
       "      <td>Hendricks</td>\n",
       "      <td>William</td>\n",
       "      <td>1782-11-12</td>\n",
       "      <td>M</td>\n",
       "      <td>sen</td>\n",
       "      <td>IN</td>\n",
       "      <td>Adams</td>\n",
       "    </tr>\n",
       "    <tr>\n",
       "      <th>2033</th>\n",
       "      <td>Harrison</td>\n",
       "      <td>William</td>\n",
       "      <td>1773-02-09</td>\n",
       "      <td>M</td>\n",
       "      <td>sen</td>\n",
       "      <td>OH</td>\n",
       "      <td>Adams</td>\n",
       "    </tr>\n",
       "  </tbody>\n",
       "</table>\n",
       "<p>100 rows × 7 columns</p>\n",
       "</div>"
      ],
      "text/plain": [
       "      last_name first_name   birthday gender type state  party\n",
       "994       Mills     Elijah 1776-12-01      M  sen    MA  Adams\n",
       "1079      Lloyd      James        NaT      M  sen    MA  Adams\n",
       "1122  McIlvaine     Joseph 1769-10-02      M  sen    NJ  Adams\n",
       "1145     Thomas      Jesse        NaT      M  sen    IL  Adams\n",
       "1152   Van Dyke   Nicholas 1770-12-20      M  sen    DE  Adams\n",
       "...         ...        ...        ...    ...  ...   ...    ...\n",
       "1398     Holmes       John 1773-03-14      M  sen    ME  Adams\n",
       "1429    Silsbee  Nathaniel 1773-01-14      M  sen    MA  Adams\n",
       "1472   Chambers    Ezekiel 1788-02-28      M  sen    MD  Adams\n",
       "1501  Hendricks    William 1782-11-12      M  sen    IN  Adams\n",
       "2033   Harrison    William 1773-02-09      M  sen    OH  Adams\n",
       "\n",
       "[100 rows x 7 columns]"
      ]
     },
     "execution_count": 37,
     "metadata": {},
     "output_type": "execute_result"
    }
   ],
   "source": [
    "groups.get_group(\"Adams\")"
   ]
  },
  {
   "cell_type": "code",
   "execution_count": 38,
   "metadata": {
    "tags": []
   },
   "outputs": [
    {
     "data": {
      "text/plain": [
       "(('AK', 'M'),\n",
       "         last_name first_name   birthday gender type state        party\n",
       " 6617       Waskey      Frank 1875-04-20      M  rep    AK     Democrat\n",
       " 6645         Cale     Thomas 1848-09-17      M  rep    AK  Independent\n",
       " 7440      Grigsby     George 1874-12-02      M  rep    AK          NaN\n",
       " 7499       Sulzer    Charles 1879-02-24      M  rep    AK          NaN\n",
       " 8037   Sutherland     Daniel 1869-04-17      M  rep    AK   Republican\n",
       " 8234   Wickersham      James 1857-08-24      M  rep    AK   Republican\n",
       " 8875       Dimond    Anthony 1881-11-30      M  rep    AK     Democrat\n",
       " 9817     Gruening     Ernest 1887-02-06      M  sen    AK     Democrat\n",
       " 9949       Rivers      Ralph 1903-05-23      M  rep    AK     Democrat\n",
       " 9983     Bartlett     Edward 1904-04-20      M  sen    AK     Democrat\n",
       " 10080     Pollock     Howard 1920-04-11      M  rep    AK   Republican\n",
       " 10106      Begich   Nicholas 1932-04-06      M  rep    AK     Democrat\n",
       " 10323      Gravel    Maurice 1930-05-13      M  sen    AK     Democrat\n",
       " 11259   Murkowski      Frank 1933-03-28      M  sen    AK   Republican\n",
       " 11383     Stevens        Ted 1923-11-18      M  sen    AK   Republican\n",
       " 11731      Begich       Mark 1962-03-30      M  sen    AK     Democrat\n",
       " 12051       Young        Don 1933-06-09      M  rep    AK   Republican)"
      ]
     },
     "execution_count": 38,
     "metadata": {},
     "output_type": "execute_result"
    }
   ],
   "source": [
    "next( iter(legislators_historical.groupby([\"state\", \"gender\"])))"
   ]
  },
  {
   "cell_type": "code",
   "execution_count": 39,
   "metadata": {
    "tags": []
   },
   "outputs": [
    {
     "data": {
      "text/plain": [
       "pandas.core.groupby.generic.DataFrameGroupBy"
      ]
     },
     "execution_count": 39,
     "metadata": {},
     "output_type": "execute_result"
    }
   ],
   "source": [
    "type(groups)"
   ]
  },
  {
   "cell_type": "markdown",
   "metadata": {
    "id": "6PhEpXzZknl1"
   },
   "source": [
    "What can it be for us? When aggregating, data is drastically simplified and we are not always sure that our aggregations are written correctly. Using iteration over groups, we can display all data before next steps of aggregation."
   ]
  },
  {
   "cell_type": "code",
   "execution_count": 40,
   "metadata": {
    "id": "21jZx6ktknl2"
   },
   "outputs": [],
   "source": [
    "for party, df in legislators_historical.groupby('party'):\n",
    "    df.to_csv(party + '.csv')\n",
    "###You can always add a if clause in the middle... "
   ]
  },
  {
   "cell_type": "markdown",
   "metadata": {
    "id": "HAzMrStWknl3"
   },
   "source": [
    "You probably won't appreciate this functionality as much when it's just one column, here `party`, so the alternative is not that complicated. But once you start aggregating over multiple columns, iterations become more and more useful."
   ]
  },
  {
   "cell_type": "markdown",
   "metadata": {
    "id": "uZoKvyVzknl3"
   },
   "source": [
    "## Other aggregation functions\n",
    "So far we have only aggregated using `.size` or `.count`, but there are many other aggregation methods, especially numeric ones.\n",
    "To make it easier to work with aggregations, we will use the `.agg` method, which accepts a dictionary. This dictionary specifies *what* we want to aggregate (key) and *how* we want to aggregate (value). With the fact that the aggregation methods for one column can be multiple at once. We'll see this in a moment."
   ]
  },
  {
   "cell_type": "code",
   "execution_count": 41,
   "metadata": {
    "id": "6UlYbgU8knl3",
    "outputId": "3dd6eadc-e788-462f-e17c-0dca494e4fd4"
   },
   "outputs": [
    {
     "data": {
      "text/html": [
       "<div>\n",
       "<style scoped>\n",
       "    .dataframe tbody tr th:only-of-type {\n",
       "        vertical-align: middle;\n",
       "    }\n",
       "\n",
       "    .dataframe tbody tr th {\n",
       "        vertical-align: top;\n",
       "    }\n",
       "\n",
       "    .dataframe thead th {\n",
       "        text-align: right;\n",
       "    }\n",
       "</style>\n",
       "<table border=\"1\" class=\"dataframe\">\n",
       "  <thead>\n",
       "    <tr style=\"text-align: right;\">\n",
       "      <th></th>\n",
       "      <th>birthday</th>\n",
       "    </tr>\n",
       "    <tr>\n",
       "      <th>state</th>\n",
       "      <th></th>\n",
       "    </tr>\n",
       "  </thead>\n",
       "  <tbody>\n",
       "    <tr>\n",
       "      <th>AK</th>\n",
       "      <td>1962-03-30</td>\n",
       "    </tr>\n",
       "    <tr>\n",
       "      <th>AL</th>\n",
       "      <td>1976-07-27</td>\n",
       "    </tr>\n",
       "    <tr>\n",
       "      <th>AR</th>\n",
       "      <td>1968-08-21</td>\n",
       "    </tr>\n",
       "    <tr>\n",
       "      <th>AS</th>\n",
       "      <td>1943-08-15</td>\n",
       "    </tr>\n",
       "    <tr>\n",
       "      <th>AZ</th>\n",
       "      <td>1976-11-03</td>\n",
       "    </tr>\n",
       "  </tbody>\n",
       "</table>\n",
       "</div>"
      ],
      "text/plain": [
       "        birthday\n",
       "state           \n",
       "AK    1962-03-30\n",
       "AL    1976-07-27\n",
       "AR    1968-08-21\n",
       "AS    1943-08-15\n",
       "AZ    1976-11-03"
      ]
     },
     "execution_count": 41,
     "metadata": {},
     "output_type": "execute_result"
    }
   ],
   "source": [
    "legislators_historical.groupby('state').agg({'birthday': 'max'}).head()"
   ]
  },
  {
   "cell_type": "code",
   "execution_count": 42,
   "metadata": {},
   "outputs": [
    {
     "data": {
      "text/html": [
       "<div>\n",
       "<style scoped>\n",
       "    .dataframe tbody tr th:only-of-type {\n",
       "        vertical-align: middle;\n",
       "    }\n",
       "\n",
       "    .dataframe tbody tr th {\n",
       "        vertical-align: top;\n",
       "    }\n",
       "\n",
       "    .dataframe thead th {\n",
       "        text-align: right;\n",
       "    }\n",
       "</style>\n",
       "<table border=\"1\" class=\"dataframe\">\n",
       "  <thead>\n",
       "    <tr style=\"text-align: right;\">\n",
       "      <th></th>\n",
       "      <th>birthday</th>\n",
       "    </tr>\n",
       "    <tr>\n",
       "      <th>state</th>\n",
       "      <th></th>\n",
       "    </tr>\n",
       "  </thead>\n",
       "  <tbody>\n",
       "    <tr>\n",
       "      <th>AK</th>\n",
       "      <td>1848-09-17</td>\n",
       "    </tr>\n",
       "    <tr>\n",
       "      <th>AL</th>\n",
       "      <td>1780-01-30</td>\n",
       "    </tr>\n",
       "    <tr>\n",
       "      <th>AR</th>\n",
       "      <td>1788-08-25</td>\n",
       "    </tr>\n",
       "    <tr>\n",
       "      <th>AS</th>\n",
       "      <td>1937-03-13</td>\n",
       "    </tr>\n",
       "    <tr>\n",
       "      <th>AZ</th>\n",
       "      <td>1816-01-24</td>\n",
       "    </tr>\n",
       "  </tbody>\n",
       "</table>\n",
       "</div>"
      ],
      "text/plain": [
       "        birthday\n",
       "state           \n",
       "AK    1848-09-17\n",
       "AL    1780-01-30\n",
       "AR    1788-08-25\n",
       "AS    1937-03-13\n",
       "AZ    1816-01-24"
      ]
     },
     "execution_count": 42,
     "metadata": {},
     "output_type": "execute_result"
    }
   ],
   "source": [
    "legislators_historical.groupby('state').agg({'birthday': 'min'}).head()"
   ]
  },
  {
   "cell_type": "code",
   "execution_count": 43,
   "metadata": {
    "id": "BkzDWEQmknl4",
    "outputId": "8018ce92-97eb-44cb-80fa-f2304440d75f"
   },
   "outputs": [
    {
     "data": {
      "text/html": [
       "<div>\n",
       "<style scoped>\n",
       "    .dataframe tbody tr th:only-of-type {\n",
       "        vertical-align: middle;\n",
       "    }\n",
       "\n",
       "    .dataframe tbody tr th {\n",
       "        vertical-align: top;\n",
       "    }\n",
       "\n",
       "    .dataframe thead tr th {\n",
       "        text-align: left;\n",
       "    }\n",
       "\n",
       "    .dataframe thead tr:last-of-type th {\n",
       "        text-align: right;\n",
       "    }\n",
       "</style>\n",
       "<table border=\"1\" class=\"dataframe\">\n",
       "  <thead>\n",
       "    <tr>\n",
       "      <th></th>\n",
       "      <th colspan=\"2\" halign=\"left\">birthday</th>\n",
       "      <th>party</th>\n",
       "    </tr>\n",
       "    <tr>\n",
       "      <th></th>\n",
       "      <th>min</th>\n",
       "      <th>max</th>\n",
       "      <th>nunique</th>\n",
       "    </tr>\n",
       "    <tr>\n",
       "      <th>state</th>\n",
       "      <th></th>\n",
       "      <th></th>\n",
       "      <th></th>\n",
       "    </tr>\n",
       "  </thead>\n",
       "  <tbody>\n",
       "    <tr>\n",
       "      <th>AK</th>\n",
       "      <td>1848-09-17</td>\n",
       "      <td>1962-03-30</td>\n",
       "      <td>3</td>\n",
       "    </tr>\n",
       "    <tr>\n",
       "      <th>AL</th>\n",
       "      <td>1780-01-30</td>\n",
       "      <td>1976-07-27</td>\n",
       "      <td>8</td>\n",
       "    </tr>\n",
       "    <tr>\n",
       "      <th>AR</th>\n",
       "      <td>1788-08-25</td>\n",
       "      <td>1968-08-21</td>\n",
       "      <td>5</td>\n",
       "    </tr>\n",
       "    <tr>\n",
       "      <th>AS</th>\n",
       "      <td>1937-03-13</td>\n",
       "      <td>1943-08-15</td>\n",
       "      <td>1</td>\n",
       "    </tr>\n",
       "    <tr>\n",
       "      <th>AZ</th>\n",
       "      <td>1816-01-24</td>\n",
       "      <td>1976-11-03</td>\n",
       "      <td>3</td>\n",
       "    </tr>\n",
       "  </tbody>\n",
       "</table>\n",
       "</div>"
      ],
      "text/plain": [
       "        birthday              party\n",
       "             min        max nunique\n",
       "state                              \n",
       "AK    1848-09-17 1962-03-30       3\n",
       "AL    1780-01-30 1976-07-27       8\n",
       "AR    1788-08-25 1968-08-21       5\n",
       "AS    1937-03-13 1943-08-15       1\n",
       "AZ    1816-01-24 1976-11-03       3"
      ]
     },
     "execution_count": 43,
     "metadata": {},
     "output_type": "execute_result"
    }
   ],
   "source": [
    "legislators_historical.groupby('state').agg({\n",
    "    'birthday': ['min', 'max'],\n",
    "    'party': 'nunique'}\n",
    ").head()"
   ]
  },
  {
   "cell_type": "code",
   "execution_count": 49,
   "metadata": {},
   "outputs": [
    {
     "data": {
      "text/plain": [
       "60"
      ]
     },
     "execution_count": 49,
     "metadata": {},
     "output_type": "execute_result"
    }
   ],
   "source": [
    "legislators_historical['party'].nunique()"
   ]
  },
  {
   "cell_type": "markdown",
   "metadata": {
    "id": "oPi6G5n2knl4"
   },
   "source": [
    "## Column transformation\n",
    "Most ofnuniquee time we worked with the data we read from the file and apart from some basic cleaning we did not change it in any way. Now we will show how to do some basic transformations."
   ]
  },
  {
   "cell_type": "markdown",
   "metadata": {
    "id": "opyMdiYuknl5"
   },
   "source": [
    "For example, we may be interested in what values we have or do not have in a given column. To obtain such information, use the `.isnull` and `.notnull` methods, which are inverse to each other."
   ]
  },
  {
   "cell_type": "code",
   "execution_count": 50,
   "metadata": {
    "id": "V_Il6ZKsknl6",
    "outputId": "54dc050d-55cc-4d6b-d94d-25f920e82af2"
   },
   "outputs": [
    {
     "data": {
      "text/plain": [
       "0        False\n",
       "1         True\n",
       "2         True\n",
       "3         True\n",
       "4         True\n",
       "         ...  \n",
       "12050    False\n",
       "12051    False\n",
       "12052    False\n",
       "12053    False\n",
       "12054    False\n",
       "Name: party, Length: 12055, dtype: bool"
      ]
     },
     "execution_count": 50,
     "metadata": {},
     "output_type": "execute_result"
    }
   ],
   "source": [
    "legislators_historical['party'].isnull()"
   ]
  },
  {
   "cell_type": "markdown",
   "metadata": {
    "id": "zOrY72Lcknl7"
   },
   "source": [
    "Series has a `isnull` method that returns True / False values depending on whether the value is missing or not (NULL in SQL). For easier understanding, it is possible to use the inverse `notnull` method."
   ]
  },
  {
   "cell_type": "markdown",
   "metadata": {
    "id": "ZctUVBR7knl7"
   },
   "source": [
    "Ours may also be interested in whether the rows take on any of the selected values."
   ]
  },
  {
   "cell_type": "code",
   "execution_count": 51,
   "metadata": {
    "id": "ljr0mY4_knl7",
    "outputId": "18de9556-8851-4ba7-fab1-0ca53cb6b14f"
   },
   "outputs": [
    {
     "data": {
      "text/plain": [
       "0         True\n",
       "1        False\n",
       "2        False\n",
       "3        False\n",
       "4        False\n",
       "         ...  \n",
       "12050    False\n",
       "12051    False\n",
       "12052    False\n",
       "12053    False\n",
       "12054    False\n",
       "Name: first_name, Length: 12055, dtype: bool"
      ]
     },
     "execution_count": 51,
     "metadata": {},
     "output_type": "execute_result"
    }
   ],
   "source": [
    "legislators_historical['first_name'].isin(['Richard', 'John'])"
   ]
  },
  {
   "cell_type": "markdown",
   "metadata": {
    "id": "IWeaJ8Zlknl8"
   },
   "source": [
    "... or how the values differ between the rows (only makes sense for numeric data or for columns containing a date)"
   ]
  },
  {
   "cell_type": "code",
   "execution_count": 55,
   "metadata": {},
   "outputs": [
    {
     "data": {
      "text/html": [
       "<div>\n",
       "<style scoped>\n",
       "    .dataframe tbody tr th:only-of-type {\n",
       "        vertical-align: middle;\n",
       "    }\n",
       "\n",
       "    .dataframe tbody tr th {\n",
       "        vertical-align: top;\n",
       "    }\n",
       "\n",
       "    .dataframe thead th {\n",
       "        text-align: right;\n",
       "    }\n",
       "</style>\n",
       "<table border=\"1\" class=\"dataframe\">\n",
       "  <thead>\n",
       "    <tr style=\"text-align: right;\">\n",
       "      <th></th>\n",
       "      <th>last_name</th>\n",
       "      <th>first_name</th>\n",
       "      <th>birthday</th>\n",
       "      <th>gender</th>\n",
       "      <th>type</th>\n",
       "      <th>state</th>\n",
       "      <th>party</th>\n",
       "    </tr>\n",
       "  </thead>\n",
       "  <tbody>\n",
       "    <tr>\n",
       "      <th>0</th>\n",
       "      <td>Bassett</td>\n",
       "      <td>Richard</td>\n",
       "      <td>1745-04-02</td>\n",
       "      <td>M</td>\n",
       "      <td>sen</td>\n",
       "      <td>DE</td>\n",
       "      <td>Anti-Administration</td>\n",
       "    </tr>\n",
       "    <tr>\n",
       "      <th>1</th>\n",
       "      <td>Bland</td>\n",
       "      <td>Theodorick</td>\n",
       "      <td>1742-03-21</td>\n",
       "      <td>M</td>\n",
       "      <td>rep</td>\n",
       "      <td>VA</td>\n",
       "      <td>NaN</td>\n",
       "    </tr>\n",
       "    <tr>\n",
       "      <th>2</th>\n",
       "      <td>Burke</td>\n",
       "      <td>Aedanus</td>\n",
       "      <td>1743-06-16</td>\n",
       "      <td>M</td>\n",
       "      <td>rep</td>\n",
       "      <td>SC</td>\n",
       "      <td>NaN</td>\n",
       "    </tr>\n",
       "    <tr>\n",
       "      <th>3</th>\n",
       "      <td>Carroll</td>\n",
       "      <td>Daniel</td>\n",
       "      <td>1730-07-22</td>\n",
       "      <td>M</td>\n",
       "      <td>rep</td>\n",
       "      <td>MD</td>\n",
       "      <td>NaN</td>\n",
       "    </tr>\n",
       "    <tr>\n",
       "      <th>4</th>\n",
       "      <td>Clymer</td>\n",
       "      <td>George</td>\n",
       "      <td>1739-03-16</td>\n",
       "      <td>M</td>\n",
       "      <td>rep</td>\n",
       "      <td>PA</td>\n",
       "      <td>NaN</td>\n",
       "    </tr>\n",
       "    <tr>\n",
       "      <th>...</th>\n",
       "      <td>...</td>\n",
       "      <td>...</td>\n",
       "      <td>...</td>\n",
       "      <td>...</td>\n",
       "      <td>...</td>\n",
       "      <td>...</td>\n",
       "      <td>...</td>\n",
       "    </tr>\n",
       "    <tr>\n",
       "      <th>12050</th>\n",
       "      <td>Hagedorn</td>\n",
       "      <td>Jim</td>\n",
       "      <td>1962-08-04</td>\n",
       "      <td>M</td>\n",
       "      <td>rep</td>\n",
       "      <td>MN</td>\n",
       "      <td>Republican</td>\n",
       "    </tr>\n",
       "    <tr>\n",
       "      <th>12051</th>\n",
       "      <td>Young</td>\n",
       "      <td>Don</td>\n",
       "      <td>1933-06-09</td>\n",
       "      <td>M</td>\n",
       "      <td>rep</td>\n",
       "      <td>AK</td>\n",
       "      <td>Republican</td>\n",
       "    </tr>\n",
       "    <tr>\n",
       "      <th>12052</th>\n",
       "      <td>Fortenberry</td>\n",
       "      <td>Jeff</td>\n",
       "      <td>1960-12-27</td>\n",
       "      <td>M</td>\n",
       "      <td>rep</td>\n",
       "      <td>NE</td>\n",
       "      <td>Republican</td>\n",
       "    </tr>\n",
       "    <tr>\n",
       "      <th>12053</th>\n",
       "      <td>Vela</td>\n",
       "      <td>Filemon</td>\n",
       "      <td>1963-02-13</td>\n",
       "      <td>M</td>\n",
       "      <td>rep</td>\n",
       "      <td>TX</td>\n",
       "      <td>Democrat</td>\n",
       "    </tr>\n",
       "    <tr>\n",
       "      <th>12054</th>\n",
       "      <td>Reed</td>\n",
       "      <td>Tom</td>\n",
       "      <td>1971-11-18</td>\n",
       "      <td>M</td>\n",
       "      <td>rep</td>\n",
       "      <td>NY</td>\n",
       "      <td>Republican</td>\n",
       "    </tr>\n",
       "  </tbody>\n",
       "</table>\n",
       "<p>12055 rows × 7 columns</p>\n",
       "</div>"
      ],
      "text/plain": [
       "         last_name  first_name   birthday gender type state  \\\n",
       "0          Bassett     Richard 1745-04-02      M  sen    DE   \n",
       "1            Bland  Theodorick 1742-03-21      M  rep    VA   \n",
       "2            Burke     Aedanus 1743-06-16      M  rep    SC   \n",
       "3          Carroll      Daniel 1730-07-22      M  rep    MD   \n",
       "4           Clymer      George 1739-03-16      M  rep    PA   \n",
       "...            ...         ...        ...    ...  ...   ...   \n",
       "12050     Hagedorn         Jim 1962-08-04      M  rep    MN   \n",
       "12051        Young         Don 1933-06-09      M  rep    AK   \n",
       "12052  Fortenberry        Jeff 1960-12-27      M  rep    NE   \n",
       "12053         Vela     Filemon 1963-02-13      M  rep    TX   \n",
       "12054         Reed         Tom 1971-11-18      M  rep    NY   \n",
       "\n",
       "                     party  \n",
       "0      Anti-Administration  \n",
       "1                      NaN  \n",
       "2                      NaN  \n",
       "3                      NaN  \n",
       "4                      NaN  \n",
       "...                    ...  \n",
       "12050           Republican  \n",
       "12051           Republican  \n",
       "12052           Republican  \n",
       "12053             Democrat  \n",
       "12054           Republican  \n",
       "\n",
       "[12055 rows x 7 columns]"
      ]
     },
     "execution_count": 55,
     "metadata": {},
     "output_type": "execute_result"
    }
   ],
   "source": [
    "legislators_historical"
   ]
  },
  {
   "cell_type": "code",
   "execution_count": 56,
   "metadata": {
    "id": "rBiRuEfYknl8",
    "outputId": "ee4d03a8-8203-4374-e0a6-0faa92736b2b"
   },
   "outputs": [
    {
     "data": {
      "text/plain": [
       "0               NaT\n",
       "1        -1108 days\n",
       "2          452 days\n",
       "3        -4712 days\n",
       "4         3159 days\n",
       "            ...    \n",
       "12050    -4076 days\n",
       "12051   -10648 days\n",
       "12052    10063 days\n",
       "12053      778 days\n",
       "12054     3200 days\n",
       "Name: birthday, Length: 12055, dtype: timedelta64[ns]"
      ]
     },
     "execution_count": 56,
     "metadata": {},
     "output_type": "execute_result"
    }
   ],
   "source": [
    "legislators_historical['birthday'].diff()"
   ]
  },
  {
   "cell_type": "code",
   "execution_count": 57,
   "metadata": {},
   "outputs": [
    {
     "data": {
      "text/plain": [
       "45            NaT\n",
       "64      1763 days\n",
       "38       114 days\n",
       "16       485 days\n",
       "96        50 days\n",
       "           ...   \n",
       "6423          NaT\n",
       "6574          NaT\n",
       "9187          NaT\n",
       "9797          NaT\n",
       "10504         NaT\n",
       "Name: birthday, Length: 12055, dtype: timedelta64[ns]"
      ]
     },
     "execution_count": 57,
     "metadata": {},
     "output_type": "execute_result"
    }
   ],
   "source": [
    "legislators_historical['birthday'].sort_values().diff()"
   ]
  },
  {
   "cell_type": "markdown",
   "metadata": {
    "id": "G4h_2wFrknl8"
   },
   "source": [
    "### .str and .dt methods\n",
    "We can also test different properties of strings and dates. It is used for [.str](https://pandas.pydata.org/pandas-docs/stable/user_guide/text.html#string-methods) and [.dt](https://pandas.pydata.org/pandas-docs/stable/reference/api/pandas.Series.dt.html)."
   ]
  },
  {
   "cell_type": "code",
   "execution_count": 58,
   "metadata": {
    "id": "t29S9ma3knl9",
    "outputId": "2b0d4d25-29f6-4531-873e-6b20e9fdfcd7"
   },
   "outputs": [
    {
     "data": {
      "text/plain": [
       "0         7\n",
       "1        10\n",
       "2         7\n",
       "3         6\n",
       "4         6\n",
       "         ..\n",
       "12050     3\n",
       "12051     3\n",
       "12052     4\n",
       "12053     7\n",
       "12054     3\n",
       "Name: first_name, Length: 12055, dtype: int64"
      ]
     },
     "execution_count": 58,
     "metadata": {},
     "output_type": "execute_result"
    }
   ],
   "source": [
    "legislators_historical['first_name'].str.len()"
   ]
  },
  {
   "cell_type": "markdown",
   "metadata": {
    "id": "sVtZQPdtknl9"
   },
   "source": [
    "Commonly used methods within `.str` are` contains` or `.lower / upper`"
   ]
  },
  {
   "cell_type": "code",
   "execution_count": 59,
   "metadata": {
    "id": "J7umIP6Jknl9",
    "outputId": "3a39d221-eead-46ed-c091-a437890457a8"
   },
   "outputs": [
    {
     "data": {
      "text/plain": [
       "0    False\n",
       "1     True\n",
       "2     True\n",
       "3    False\n",
       "4    False\n",
       "dtype: bool"
      ]
     },
     "execution_count": 59,
     "metadata": {},
     "output_type": "execute_result"
    }
   ],
   "source": [
    "names = pd.Series(['JOHN', 'Jean-Luc', 'Mary-Jane', 'Kate', 'John'])\n",
    "names.str.contains('-')"
   ]
  },
  {
   "cell_type": "code",
   "execution_count": 60,
   "metadata": {
    "id": "0J-GnoVRknl-",
    "outputId": "ddf7d06a-c62a-4239-877b-8fcb1d9a3c0a"
   },
   "outputs": [
    {
     "data": {
      "text/plain": [
       "1     Jean-Luc\n",
       "2    Mary-Jane\n",
       "dtype: object"
      ]
     },
     "execution_count": 60,
     "metadata": {},
     "output_type": "execute_result"
    }
   ],
   "source": [
    "names[names.str.contains('-')]"
   ]
  },
  {
   "cell_type": "markdown",
   "metadata": {
    "id": "Dfs_9r5Lknl-"
   },
   "source": [
    "While `.str.contains` is usually used for filtering, `.lower` is used, for example, to unify data, which is then better aggregated (and deduplicated)."
   ]
  },
  {
   "cell_type": "code",
   "execution_count": 61,
   "metadata": {
    "id": "5EJNJxj1knl-",
    "outputId": "a9d0fce7-0e21-4b7b-ab7a-496efcf626e9"
   },
   "outputs": [
    {
     "data": {
      "text/plain": [
       "JOHN         1\n",
       "Jean-Luc     1\n",
       "Mary-Jane    1\n",
       "Kate         1\n",
       "John         1\n",
       "dtype: int64"
      ]
     },
     "execution_count": 61,
     "metadata": {},
     "output_type": "execute_result"
    }
   ],
   "source": [
    "names.value_counts()"
   ]
  },
  {
   "cell_type": "code",
   "execution_count": 62,
   "metadata": {
    "id": "GymUo5Ylknl_",
    "outputId": "71256c93-4d2a-4a47-ab20-2cd4d81884c8"
   },
   "outputs": [
    {
     "data": {
      "text/plain": [
       "john         2\n",
       "jean-luc     1\n",
       "mary-jane    1\n",
       "kate         1\n",
       "dtype: int64"
      ]
     },
     "execution_count": 62,
     "metadata": {},
     "output_type": "execute_result"
    }
   ],
   "source": [
    "names.str.lower().value_counts()"
   ]
  },
  {
   "cell_type": "markdown",
   "metadata": {
    "id": "xFipzdw5knl_"
   },
   "source": [
    "From `.dt` we will show how to extract the year from the date."
   ]
  },
  {
   "cell_type": "code",
   "execution_count": 65,
   "metadata": {
    "id": "yBa1uIl2knl_",
    "outputId": "1f289c1c-f765-4074-ac0d-3dc127348c8a"
   },
   "outputs": [
    {
     "data": {
      "text/plain": [
       "0        1745.0\n",
       "1        1742.0\n",
       "2        1743.0\n",
       "3        1730.0\n",
       "4        1739.0\n",
       "          ...  \n",
       "12050    1962.0\n",
       "12051    1933.0\n",
       "12052    1960.0\n",
       "12053    1963.0\n",
       "12054    1971.0\n",
       "Name: birthday, Length: 12055, dtype: float64"
      ]
     },
     "execution_count": 65,
     "metadata": {},
     "output_type": "execute_result"
    }
   ],
   "source": [
    "birth_years = legislators_historical['birthday'].dt.year\n",
    "\n",
    "birth_years#.value_counts()"
   ]
  },
  {
   "cell_type": "markdown",
   "metadata": {
    "id": "LKCdmKJuknmA"
   },
   "source": [
    "**Task:** Filter out politicians born in 1980 or later."
   ]
  },
  {
   "cell_type": "code",
   "execution_count": 71,
   "metadata": {
    "id": "WydLF9czknmA"
   },
   "outputs": [
    {
     "data": {
      "text/plain": [
       "11795      Aaron\n",
       "12031       Abby\n",
       "12037        Joe\n",
       "11970      Katie\n",
       "12034        Max\n",
       "11847    Patrick\n",
       "12011      Tulsi\n",
       "12033    Xochitl\n",
       "Name: first_name, dtype: object"
      ]
     },
     "execution_count": 71,
     "metadata": {},
     "output_type": "execute_result"
    }
   ],
   "source": [
    "legislators_historical[legislators_historical['birthday'].dt.year > 1980]['first_name'].sort_values()"
   ]
  },
  {
   "cell_type": "markdown",
   "metadata": {
    "id": "xetVNEy_knmA"
   },
   "source": [
    "## Aggregation over non-columns\n",
    "So far, we have always aggregated over something we had in DataFrame. But it is possible to aggregate over data that we do not have there at all, at least not explicitly. The transformations we have just shown will serve this purpose.\n",
    "In addition to the column name, we can insert a Series (!) in `groupby`, which has the same shape as our columns, and pandas will be able to aggregate accordingly. What kind of Series is offered? Best to transform some existing column."
   ]
  },
  {
   "cell_type": "markdown",
   "metadata": {
    "id": "-VfxhLsOknmA"
   },
   "source": [
    "We can aggregate data based on the _month_ when the person was born. And without adding this column to the dataframe. This method will help us make creative aggregations without having to change our data. And without creating mess."
   ]
  },
  {
   "cell_type": "code",
   "execution_count": 73,
   "metadata": {
    "id": "v4Dg7YWhknmB",
    "outputId": "14d0ba6d-b728-40a5-9eb2-6fa2446db72a"
   },
   "outputs": [
    {
     "data": {
      "text/plain": [
       "birthday\n",
       "1.0     1048\n",
       "2.0      984\n",
       "3.0     1033\n",
       "4.0      902\n",
       "5.0      893\n",
       "6.0      859\n",
       "7.0      869\n",
       "8.0      976\n",
       "9.0      998\n",
       "10.0    1023\n",
       "11.0     940\n",
       "12.0     980\n",
       "dtype: int64"
      ]
     },
     "execution_count": 73,
     "metadata": {},
     "output_type": "execute_result"
    }
   ],
   "source": [
    "legislators_historical.groupby([\n",
    "    legislators_historical['birthday'].dt.month,\n",
    "]).size()"
   ]
  },
  {
   "cell_type": "markdown",
   "metadata": {
    "id": "30c6_E34knmB"
   },
   "source": [
    "We can, of course, add more and more (non)columns."
   ]
  },
  {
   "cell_type": "code",
   "execution_count": 74,
   "metadata": {
    "id": "uxdEN3k1knmB",
    "outputId": "4e116cba-6212-4b33-c151-dad374e89598"
   },
   "outputs": [
    {
     "data": {
      "text/plain": [
       "type  birthday\n",
       "rep   1.0         881\n",
       "      2.0         834\n",
       "      3.0         887\n",
       "      4.0         772\n",
       "      5.0         753\n",
       "      6.0         747\n",
       "      7.0         738\n",
       "      8.0         824\n",
       "      9.0         833\n",
       "      10.0        865\n",
       "      11.0        783\n",
       "      12.0        808\n",
       "sen   1.0         167\n",
       "      2.0         150\n",
       "      3.0         146\n",
       "      4.0         130\n",
       "      5.0         140\n",
       "      6.0         112\n",
       "      7.0         131\n",
       "      8.0         152\n",
       "      9.0         165\n",
       "      10.0        158\n",
       "      11.0        157\n",
       "      12.0        172\n",
       "dtype: int64"
      ]
     },
     "execution_count": 74,
     "metadata": {},
     "output_type": "execute_result"
    }
   ],
   "source": [
    "legislators_historical.groupby([\n",
    "    legislators_historical['type'],\n",
    "    legislators_historical['birthday'].dt.month,\n",
    "]).size()"
   ]
  },
  {
   "cell_type": "code",
   "execution_count": 75,
   "metadata": {},
   "outputs": [
    {
     "data": {
      "text/plain": [
       "type  birthday\n",
       "rep   1726.0      2\n",
       "      1727.0      1\n",
       "      1728.0      2\n",
       "      1729.0      2\n",
       "      1730.0      1\n",
       "                 ..\n",
       "sen   1966.0      1\n",
       "      1968.0      1\n",
       "      1969.0      2\n",
       "      1970.0      1\n",
       "      1974.0      2\n",
       "Length: 496, dtype: int64"
      ]
     },
     "execution_count": 75,
     "metadata": {},
     "output_type": "execute_result"
    }
   ],
   "source": [
    "legislators_historical.groupby([\n",
    "    legislators_historical['type'],\n",
    "    legislators_historical['birthday'].dt.year,\n",
    "]).size()"
   ]
  },
  {
   "cell_type": "markdown",
   "metadata": {
    "id": "8oklJ8KHknmC"
   },
   "source": [
    "The months are fine, there are only 12, but what if we want to aggregate over the years of birth?"
   ]
  },
  {
   "cell_type": "code",
   "execution_count": 76,
   "metadata": {
    "id": "xFdxfxE2knmC",
    "outputId": "676d4888-1aac-407b-d43c-d5bc9a59b6cd"
   },
   "outputs": [
    {
     "data": {
      "text/plain": [
       "496"
      ]
     },
     "execution_count": 76,
     "metadata": {},
     "output_type": "execute_result"
    }
   ],
   "source": [
    "legislators_historical.groupby([\n",
    "    legislators_historical['type'],\n",
    "    legislators_historical['birthday'].dt.year,\n",
    "]).size().count()"
   ]
  },
  {
   "cell_type": "markdown",
   "metadata": {
    "id": "7aQ2mB3MknmC"
   },
   "source": [
    "We get a rather large dataset that doesn\"t tell us much. The next chapter will help us with that."
   ]
  },
  {
   "cell_type": "markdown",
   "metadata": {
    "id": "OYLhKKrJknmD"
   },
   "source": [
    "### Binning\n",
    "\n",
    "Although we have taken out the individual years of birth, there are still a lot of them and it doesn't tell us much, it certainly can't be well aggregated according to them."
   ]
  },
  {
   "cell_type": "code",
   "execution_count": 77,
   "metadata": {
    "id": "PF9o9TaPknmD"
   },
   "outputs": [],
   "source": [
    "birth_years = legislators_historical['birthday'].dt.year.astype('Int16')\n",
    "legislators_historical = legislators_historical.assign(birth_year=birth_years)"
   ]
  },
  {
   "cell_type": "code",
   "execution_count": 78,
   "metadata": {},
   "outputs": [
    {
     "data": {
      "text/html": [
       "<div>\n",
       "<style scoped>\n",
       "    .dataframe tbody tr th:only-of-type {\n",
       "        vertical-align: middle;\n",
       "    }\n",
       "\n",
       "    .dataframe tbody tr th {\n",
       "        vertical-align: top;\n",
       "    }\n",
       "\n",
       "    .dataframe thead th {\n",
       "        text-align: right;\n",
       "    }\n",
       "</style>\n",
       "<table border=\"1\" class=\"dataframe\">\n",
       "  <thead>\n",
       "    <tr style=\"text-align: right;\">\n",
       "      <th></th>\n",
       "      <th>last_name</th>\n",
       "      <th>first_name</th>\n",
       "      <th>birthday</th>\n",
       "      <th>gender</th>\n",
       "      <th>type</th>\n",
       "      <th>state</th>\n",
       "      <th>party</th>\n",
       "      <th>birth_year</th>\n",
       "    </tr>\n",
       "  </thead>\n",
       "  <tbody>\n",
       "    <tr>\n",
       "      <th>0</th>\n",
       "      <td>Bassett</td>\n",
       "      <td>Richard</td>\n",
       "      <td>1745-04-02</td>\n",
       "      <td>M</td>\n",
       "      <td>sen</td>\n",
       "      <td>DE</td>\n",
       "      <td>Anti-Administration</td>\n",
       "      <td>1745</td>\n",
       "    </tr>\n",
       "    <tr>\n",
       "      <th>1</th>\n",
       "      <td>Bland</td>\n",
       "      <td>Theodorick</td>\n",
       "      <td>1742-03-21</td>\n",
       "      <td>M</td>\n",
       "      <td>rep</td>\n",
       "      <td>VA</td>\n",
       "      <td>NaN</td>\n",
       "      <td>1742</td>\n",
       "    </tr>\n",
       "    <tr>\n",
       "      <th>2</th>\n",
       "      <td>Burke</td>\n",
       "      <td>Aedanus</td>\n",
       "      <td>1743-06-16</td>\n",
       "      <td>M</td>\n",
       "      <td>rep</td>\n",
       "      <td>SC</td>\n",
       "      <td>NaN</td>\n",
       "      <td>1743</td>\n",
       "    </tr>\n",
       "    <tr>\n",
       "      <th>3</th>\n",
       "      <td>Carroll</td>\n",
       "      <td>Daniel</td>\n",
       "      <td>1730-07-22</td>\n",
       "      <td>M</td>\n",
       "      <td>rep</td>\n",
       "      <td>MD</td>\n",
       "      <td>NaN</td>\n",
       "      <td>1730</td>\n",
       "    </tr>\n",
       "    <tr>\n",
       "      <th>4</th>\n",
       "      <td>Clymer</td>\n",
       "      <td>George</td>\n",
       "      <td>1739-03-16</td>\n",
       "      <td>M</td>\n",
       "      <td>rep</td>\n",
       "      <td>PA</td>\n",
       "      <td>NaN</td>\n",
       "      <td>1739</td>\n",
       "    </tr>\n",
       "    <tr>\n",
       "      <th>...</th>\n",
       "      <td>...</td>\n",
       "      <td>...</td>\n",
       "      <td>...</td>\n",
       "      <td>...</td>\n",
       "      <td>...</td>\n",
       "      <td>...</td>\n",
       "      <td>...</td>\n",
       "      <td>...</td>\n",
       "    </tr>\n",
       "    <tr>\n",
       "      <th>12050</th>\n",
       "      <td>Hagedorn</td>\n",
       "      <td>Jim</td>\n",
       "      <td>1962-08-04</td>\n",
       "      <td>M</td>\n",
       "      <td>rep</td>\n",
       "      <td>MN</td>\n",
       "      <td>Republican</td>\n",
       "      <td>1962</td>\n",
       "    </tr>\n",
       "    <tr>\n",
       "      <th>12051</th>\n",
       "      <td>Young</td>\n",
       "      <td>Don</td>\n",
       "      <td>1933-06-09</td>\n",
       "      <td>M</td>\n",
       "      <td>rep</td>\n",
       "      <td>AK</td>\n",
       "      <td>Republican</td>\n",
       "      <td>1933</td>\n",
       "    </tr>\n",
       "    <tr>\n",
       "      <th>12052</th>\n",
       "      <td>Fortenberry</td>\n",
       "      <td>Jeff</td>\n",
       "      <td>1960-12-27</td>\n",
       "      <td>M</td>\n",
       "      <td>rep</td>\n",
       "      <td>NE</td>\n",
       "      <td>Republican</td>\n",
       "      <td>1960</td>\n",
       "    </tr>\n",
       "    <tr>\n",
       "      <th>12053</th>\n",
       "      <td>Vela</td>\n",
       "      <td>Filemon</td>\n",
       "      <td>1963-02-13</td>\n",
       "      <td>M</td>\n",
       "      <td>rep</td>\n",
       "      <td>TX</td>\n",
       "      <td>Democrat</td>\n",
       "      <td>1963</td>\n",
       "    </tr>\n",
       "    <tr>\n",
       "      <th>12054</th>\n",
       "      <td>Reed</td>\n",
       "      <td>Tom</td>\n",
       "      <td>1971-11-18</td>\n",
       "      <td>M</td>\n",
       "      <td>rep</td>\n",
       "      <td>NY</td>\n",
       "      <td>Republican</td>\n",
       "      <td>1971</td>\n",
       "    </tr>\n",
       "  </tbody>\n",
       "</table>\n",
       "<p>12055 rows × 8 columns</p>\n",
       "</div>"
      ],
      "text/plain": [
       "         last_name  first_name   birthday gender type state  \\\n",
       "0          Bassett     Richard 1745-04-02      M  sen    DE   \n",
       "1            Bland  Theodorick 1742-03-21      M  rep    VA   \n",
       "2            Burke     Aedanus 1743-06-16      M  rep    SC   \n",
       "3          Carroll      Daniel 1730-07-22      M  rep    MD   \n",
       "4           Clymer      George 1739-03-16      M  rep    PA   \n",
       "...            ...         ...        ...    ...  ...   ...   \n",
       "12050     Hagedorn         Jim 1962-08-04      M  rep    MN   \n",
       "12051        Young         Don 1933-06-09      M  rep    AK   \n",
       "12052  Fortenberry        Jeff 1960-12-27      M  rep    NE   \n",
       "12053         Vela     Filemon 1963-02-13      M  rep    TX   \n",
       "12054         Reed         Tom 1971-11-18      M  rep    NY   \n",
       "\n",
       "                     party  birth_year  \n",
       "0      Anti-Administration        1745  \n",
       "1                      NaN        1742  \n",
       "2                      NaN        1743  \n",
       "3                      NaN        1730  \n",
       "4                      NaN        1739  \n",
       "...                    ...         ...  \n",
       "12050           Republican        1962  \n",
       "12051           Republican        1933  \n",
       "12052           Republican        1960  \n",
       "12053             Democrat        1963  \n",
       "12054           Republican        1971  \n",
       "\n",
       "[12055 rows x 8 columns]"
      ]
     },
     "execution_count": 78,
     "metadata": {},
     "output_type": "execute_result"
    }
   ],
   "source": [
    "legislators_historical"
   ]
  },
  {
   "cell_type": "code",
   "execution_count": 79,
   "metadata": {
    "id": "TTOHJrccknmD",
    "outputId": "bf1d5a07-baef-4a54-f96a-5e3c5699d114"
   },
   "outputs": [
    {
     "data": {
      "text/plain": [
       "<AxesSubplot:>"
      ]
     },
     "execution_count": 79,
     "metadata": {},
     "output_type": "execute_result"
    },
    {
     "data": {
      "image/png": "[encoded data removed]",
      "text/plain": [
       "<Figure size 432x288 with 1 Axes>"
      ]
     },
     "metadata": {
      "needs_background": "light"
     },
     "output_type": "display_data"
    }
   ],
   "source": [
    "legislators_historical['birth_year'].hist(bins=25)"
   ]
  },
  {
   "cell_type": "code",
   "execution_count": 80,
   "metadata": {
    "id": "2aAEfvfOknmD",
    "outputId": "910aa500-7e10-458b-af3a-9f8bf8c72ca6"
   },
   "outputs": [
    {
     "data": {
      "text/plain": [
       "1840    94\n",
       "1824    94\n",
       "1870    93\n",
       "1828    92\n",
       "1812    91\n",
       "        ..\n",
       "1987     1\n",
       "1979     1\n",
       "1730     1\n",
       "1721     1\n",
       "1982     1\n",
       "Name: birth_year, Length: 262, dtype: Int64"
      ]
     },
     "execution_count": 80,
     "metadata": {},
     "output_type": "execute_result"
    }
   ],
   "source": [
    "legislators_historical['birth_year'].value_counts()"
   ]
  },
  {
   "cell_type": "markdown",
   "metadata": {
    "id": "JHwvw2KAknmE"
   },
   "source": [
    "Neither the histogram nor `value_counts` gave us any valuable information. We're going to have to group the data a bit. There are several options for this in pandas.\n",
    "The first of these is the already known `.value_counts`, to which we can give the argument `bins`, which means that we do not want the frequencies of individual values, but that we want to group the data into several intervals."
   ]
  },
  {
   "cell_type": "code",
   "execution_count": 81,
   "metadata": {
    "id": "ppL9t4sQknmE",
    "outputId": "5044ca48-8f61-4f6d-9469-d0fe1454c20c"
   },
   "outputs": [
    {
     "data": {
      "text/plain": [
       "(1827.8, 1854.5]      2077\n",
       "(1801.1, 1827.8]      1999\n",
       "(1854.5, 1881.2]      1884\n",
       "(1774.4, 1801.1]      1305\n",
       "(1881.2, 1907.9]      1300\n",
       "(1907.9, 1934.6]      1055\n",
       "(1934.6, 1961.3]       962\n",
       "(1747.7, 1774.4]       648\n",
       "(1961.3, 1988.0]       162\n",
       "(1720.732, 1747.7]     113\n",
       "Name: birth_year, dtype: int64"
      ]
     },
     "execution_count": 81,
     "metadata": {},
     "output_type": "execute_result"
    }
   ],
   "source": [
    "legislators_historical['birth_year'].value_counts(bins=10)"
   ]
  },
  {
   "cell_type": "markdown",
   "metadata": {
    "id": "uOgY-2MlknmE"
   },
   "source": [
    "What if such self-division is not enough for us? There is `pandas.cut`, resp. `pd.cut`. It has a lot of options, we recommend [go through the documentation](https://pandas.pydata.org/pandas-docs/stable/reference/api/pandas.cut.html)."
   ]
  },
  {
   "cell_type": "code",
   "execution_count": 82,
   "metadata": {
    "id": "5pPK8Y6eknmF",
    "outputId": "52c36223-cf60-492d-aeeb-0051f1438e52"
   },
   "outputs": [
    {
     "data": {
      "text/plain": [
       "0        (1700.0, 1750.0]\n",
       "1        (1700.0, 1750.0]\n",
       "2        (1700.0, 1750.0]\n",
       "3        (1700.0, 1750.0]\n",
       "4        (1700.0, 1750.0]\n",
       "               ...       \n",
       "12050                 NaN\n",
       "12051    (1900.0, 1950.0]\n",
       "12052                 NaN\n",
       "12053                 NaN\n",
       "12054                 NaN\n",
       "Name: birth_year, Length: 12055, dtype: category\n",
       "Categories (5, interval[int64, right]): [(1700, 1750] < (1750, 1800] < (1800, 1850] < (1850, 1900] < (1900, 1950]]"
      ]
     },
     "execution_count": 82,
     "metadata": {},
     "output_type": "execute_result"
    }
   ],
   "source": [
    "bins = [1700, 1750, 1800, 1850, 1900, 1950]\n",
    "pd.cut(legislators_historical['birth_year'], bins)"
   ]
  },
  {
   "cell_type": "code",
   "execution_count": 83,
   "metadata": {
    "id": "0JpJAKEvknmF",
    "outputId": "a034c226-cf93-4094-b6d4-8e144e773bd7"
   },
   "outputs": [
    {
     "data": {
      "text/plain": [
       "(1800, 1850]    3839\n",
       "(1850, 1900]    3159\n",
       "(1900, 1950]    2022\n",
       "(1750, 1800]    1857\n",
       "(1700, 1750]     149\n",
       "Name: birth_year, dtype: int64"
      ]
     },
     "execution_count": 83,
     "metadata": {},
     "output_type": "execute_result"
    }
   ],
   "source": [
    "pd.cut(legislators_historical['birth_year'], bins).value_counts()"
   ]
  },
  {
   "cell_type": "markdown",
   "metadata": {
    "id": "LhRenfxFknmF"
   },
   "source": [
    "The disadvantage of `pd.cut` is that the intervals are user-defined and may take some time to debug. More automatic way is to specify intervals using a statistical distribution of data using `pd.qcut`. This function takes quantiles instead of interval boundaries."
   ]
  },
  {
   "cell_type": "code",
   "execution_count": 84,
   "metadata": {
    "id": "6M-dz9YBknmF",
    "outputId": "306a85e0-8278-4f1b-8ba0-554360b1f982"
   },
   "outputs": [
    {
     "data": {
      "text/plain": [
       "(1784.0, 1849.0]      4616\n",
       "(1849.0, 1934.0]      4609\n",
       "(1720.999, 1784.0]    1156\n",
       "(1934.0, 1988.0]      1124\n",
       "Name: birth_year, dtype: int64"
      ]
     },
     "execution_count": 84,
     "metadata": {},
     "output_type": "execute_result"
    }
   ],
   "source": [
    "pd.qcut(legislators_historical['birth_year'], [0, .1, .5, .9, 1]).value_counts()"
   ]
  },
  {
   "cell_type": "markdown",
   "metadata": {
    "id": "pklaLdMbknmG"
   },
   "source": [
    "Obviously we can use these transformed columns for aggregation again.  "
   ]
  },
  {
   "cell_type": "markdown",
   "metadata": {
    "id": "nd8o1MPKknmG"
   },
   "source": [
    "**Task**: How many representatives there were and how many senators there were, divided according to the century in which they were born. (For example, between 1900 and 2000, 200 senators and 800 deputies were born, etc.)"
   ]
  },
  {
   "cell_type": "code",
   "execution_count": 93,
   "metadata": {
    "id": "3uB52y55knmG"
   },
   "outputs": [
    {
     "data": {
      "text/html": [
       "<div>\n",
       "<style scoped>\n",
       "    .dataframe tbody tr th:only-of-type {\n",
       "        vertical-align: middle;\n",
       "    }\n",
       "\n",
       "    .dataframe tbody tr th {\n",
       "        vertical-align: top;\n",
       "    }\n",
       "\n",
       "    .dataframe thead th {\n",
       "        text-align: right;\n",
       "    }\n",
       "</style>\n",
       "<table border=\"1\" class=\"dataframe\">\n",
       "  <thead>\n",
       "    <tr style=\"text-align: right;\">\n",
       "      <th></th>\n",
       "      <th>last_name</th>\n",
       "      <th>first_name</th>\n",
       "      <th>birthday</th>\n",
       "      <th>gender</th>\n",
       "      <th>type</th>\n",
       "      <th>state</th>\n",
       "      <th>party</th>\n",
       "      <th>birth_year</th>\n",
       "    </tr>\n",
       "  </thead>\n",
       "  <tbody>\n",
       "    <tr>\n",
       "      <th>0</th>\n",
       "      <td>Bassett</td>\n",
       "      <td>Richard</td>\n",
       "      <td>1745-04-02</td>\n",
       "      <td>M</td>\n",
       "      <td>sen</td>\n",
       "      <td>DE</td>\n",
       "      <td>Anti-Administration</td>\n",
       "      <td>1745</td>\n",
       "    </tr>\n",
       "    <tr>\n",
       "      <th>1</th>\n",
       "      <td>Bland</td>\n",
       "      <td>Theodorick</td>\n",
       "      <td>1742-03-21</td>\n",
       "      <td>M</td>\n",
       "      <td>rep</td>\n",
       "      <td>VA</td>\n",
       "      <td>NaN</td>\n",
       "      <td>1742</td>\n",
       "    </tr>\n",
       "    <tr>\n",
       "      <th>2</th>\n",
       "      <td>Burke</td>\n",
       "      <td>Aedanus</td>\n",
       "      <td>1743-06-16</td>\n",
       "      <td>M</td>\n",
       "      <td>rep</td>\n",
       "      <td>SC</td>\n",
       "      <td>NaN</td>\n",
       "      <td>1743</td>\n",
       "    </tr>\n",
       "    <tr>\n",
       "      <th>3</th>\n",
       "      <td>Carroll</td>\n",
       "      <td>Daniel</td>\n",
       "      <td>1730-07-22</td>\n",
       "      <td>M</td>\n",
       "      <td>rep</td>\n",
       "      <td>MD</td>\n",
       "      <td>NaN</td>\n",
       "      <td>1730</td>\n",
       "    </tr>\n",
       "    <tr>\n",
       "      <th>4</th>\n",
       "      <td>Clymer</td>\n",
       "      <td>George</td>\n",
       "      <td>1739-03-16</td>\n",
       "      <td>M</td>\n",
       "      <td>rep</td>\n",
       "      <td>PA</td>\n",
       "      <td>NaN</td>\n",
       "      <td>1739</td>\n",
       "    </tr>\n",
       "    <tr>\n",
       "      <th>5</th>\n",
       "      <td>Contee</td>\n",
       "      <td>Benjamin</td>\n",
       "      <td>NaT</td>\n",
       "      <td>M</td>\n",
       "      <td>rep</td>\n",
       "      <td>MD</td>\n",
       "      <td>NaN</td>\n",
       "      <td>&lt;NA&gt;</td>\n",
       "    </tr>\n",
       "    <tr>\n",
       "      <th>6</th>\n",
       "      <td>Dalton</td>\n",
       "      <td>Tristram</td>\n",
       "      <td>1738-05-28</td>\n",
       "      <td>M</td>\n",
       "      <td>sen</td>\n",
       "      <td>MA</td>\n",
       "      <td>Pro-Administration</td>\n",
       "      <td>1738</td>\n",
       "    </tr>\n",
       "    <tr>\n",
       "      <th>7</th>\n",
       "      <td>Elmer</td>\n",
       "      <td>Jonathan</td>\n",
       "      <td>1745-11-29</td>\n",
       "      <td>M</td>\n",
       "      <td>sen</td>\n",
       "      <td>NJ</td>\n",
       "      <td>Pro-Administration</td>\n",
       "      <td>1745</td>\n",
       "    </tr>\n",
       "    <tr>\n",
       "      <th>8</th>\n",
       "      <td>Few</td>\n",
       "      <td>William</td>\n",
       "      <td>1748-06-08</td>\n",
       "      <td>M</td>\n",
       "      <td>sen</td>\n",
       "      <td>GA</td>\n",
       "      <td>Anti-Administration</td>\n",
       "      <td>1748</td>\n",
       "    </tr>\n",
       "    <tr>\n",
       "      <th>11</th>\n",
       "      <td>Grayson</td>\n",
       "      <td>William</td>\n",
       "      <td>NaT</td>\n",
       "      <td>M</td>\n",
       "      <td>sen</td>\n",
       "      <td>VA</td>\n",
       "      <td>Anti-Administration</td>\n",
       "      <td>&lt;NA&gt;</td>\n",
       "    </tr>\n",
       "  </tbody>\n",
       "</table>\n",
       "</div>"
      ],
      "text/plain": [
       "   last_name  first_name   birthday gender type state                party  \\\n",
       "0    Bassett     Richard 1745-04-02      M  sen    DE  Anti-Administration   \n",
       "1      Bland  Theodorick 1742-03-21      M  rep    VA                  NaN   \n",
       "2      Burke     Aedanus 1743-06-16      M  rep    SC                  NaN   \n",
       "3    Carroll      Daniel 1730-07-22      M  rep    MD                  NaN   \n",
       "4     Clymer      George 1739-03-16      M  rep    PA                  NaN   \n",
       "5     Contee    Benjamin        NaT      M  rep    MD                  NaN   \n",
       "6     Dalton    Tristram 1738-05-28      M  sen    MA   Pro-Administration   \n",
       "7      Elmer    Jonathan 1745-11-29      M  sen    NJ   Pro-Administration   \n",
       "8        Few     William 1748-06-08      M  sen    GA  Anti-Administration   \n",
       "11   Grayson     William        NaT      M  sen    VA  Anti-Administration   \n",
       "\n",
       "    birth_year  \n",
       "0         1745  \n",
       "1         1742  \n",
       "2         1743  \n",
       "3         1730  \n",
       "4         1739  \n",
       "5         <NA>  \n",
       "6         1738  \n",
       "7         1745  \n",
       "8         1748  \n",
       "11        <NA>  "
      ]
     },
     "execution_count": 93,
     "metadata": {},
     "output_type": "execute_result"
    }
   ],
   "source": [
    "bins = [1700, 1800, 1900, 2000]\n",
    "legislators_historical_grouped = legislators_historical.groupby('type')\n",
    "#pd.cut(legislators_historical_grouped['birth_year'], bins).value_counts()\n",
    "legislators_historical_grouped.head()"
   ]
  },
  {
   "cell_type": "code",
   "execution_count": 99,
   "metadata": {},
   "outputs": [
    {
     "data": {
      "text/plain": [
       "<pandas.core.groupby.generic.DataFrameGroupBy object at 0x7efe438f9350>"
      ]
     },
     "execution_count": 99,
     "metadata": {},
     "output_type": "execute_result"
    }
   ],
   "source": [
    "legislators_historical.groupby('type')"
   ]
  },
  {
   "cell_type": "code",
   "execution_count": 106,
   "metadata": {},
   "outputs": [
    {
     "data": {
      "text/html": [
       "<div>\n",
       "<style scoped>\n",
       "    .dataframe tbody tr th:only-of-type {\n",
       "        vertical-align: middle;\n",
       "    }\n",
       "\n",
       "    .dataframe tbody tr th {\n",
       "        vertical-align: top;\n",
       "    }\n",
       "\n",
       "    .dataframe thead th {\n",
       "        text-align: right;\n",
       "    }\n",
       "</style>\n",
       "<table border=\"1\" class=\"dataframe\">\n",
       "  <thead>\n",
       "    <tr style=\"text-align: right;\">\n",
       "      <th></th>\n",
       "      <th>last_name</th>\n",
       "      <th>first_name</th>\n",
       "      <th>birthday</th>\n",
       "      <th>gender</th>\n",
       "      <th>type</th>\n",
       "      <th>state</th>\n",
       "      <th>party</th>\n",
       "      <th>birth_year</th>\n",
       "      <th>centuries</th>\n",
       "    </tr>\n",
       "  </thead>\n",
       "  <tbody>\n",
       "    <tr>\n",
       "      <th>0</th>\n",
       "      <td>Bassett</td>\n",
       "      <td>Richard</td>\n",
       "      <td>1745-04-02</td>\n",
       "      <td>M</td>\n",
       "      <td>sen</td>\n",
       "      <td>DE</td>\n",
       "      <td>Anti-Administration</td>\n",
       "      <td>1745</td>\n",
       "      <td>(1700, 1800]</td>\n",
       "    </tr>\n",
       "    <tr>\n",
       "      <th>1</th>\n",
       "      <td>Bland</td>\n",
       "      <td>Theodorick</td>\n",
       "      <td>1742-03-21</td>\n",
       "      <td>M</td>\n",
       "      <td>rep</td>\n",
       "      <td>VA</td>\n",
       "      <td>NaN</td>\n",
       "      <td>1742</td>\n",
       "      <td>(1700, 1800]</td>\n",
       "    </tr>\n",
       "    <tr>\n",
       "      <th>2</th>\n",
       "      <td>Burke</td>\n",
       "      <td>Aedanus</td>\n",
       "      <td>1743-06-16</td>\n",
       "      <td>M</td>\n",
       "      <td>rep</td>\n",
       "      <td>SC</td>\n",
       "      <td>NaN</td>\n",
       "      <td>1743</td>\n",
       "      <td>(1700, 1800]</td>\n",
       "    </tr>\n",
       "    <tr>\n",
       "      <th>3</th>\n",
       "      <td>Carroll</td>\n",
       "      <td>Daniel</td>\n",
       "      <td>1730-07-22</td>\n",
       "      <td>M</td>\n",
       "      <td>rep</td>\n",
       "      <td>MD</td>\n",
       "      <td>NaN</td>\n",
       "      <td>1730</td>\n",
       "      <td>(1700, 1800]</td>\n",
       "    </tr>\n",
       "    <tr>\n",
       "      <th>4</th>\n",
       "      <td>Clymer</td>\n",
       "      <td>George</td>\n",
       "      <td>1739-03-16</td>\n",
       "      <td>M</td>\n",
       "      <td>rep</td>\n",
       "      <td>PA</td>\n",
       "      <td>NaN</td>\n",
       "      <td>1739</td>\n",
       "      <td>(1700, 1800]</td>\n",
       "    </tr>\n",
       "  </tbody>\n",
       "</table>\n",
       "</div>"
      ],
      "text/plain": [
       "  last_name  first_name   birthday gender type state                party  \\\n",
       "0   Bassett     Richard 1745-04-02      M  sen    DE  Anti-Administration   \n",
       "1     Bland  Theodorick 1742-03-21      M  rep    VA                  NaN   \n",
       "2     Burke     Aedanus 1743-06-16      M  rep    SC                  NaN   \n",
       "3   Carroll      Daniel 1730-07-22      M  rep    MD                  NaN   \n",
       "4    Clymer      George 1739-03-16      M  rep    PA                  NaN   \n",
       "\n",
       "   birth_year     centuries  \n",
       "0        1745  (1700, 1800]  \n",
       "1        1742  (1700, 1800]  \n",
       "2        1743  (1700, 1800]  \n",
       "3        1730  (1700, 1800]  \n",
       "4        1739  (1700, 1800]  "
      ]
     },
     "execution_count": 106,
     "metadata": {},
     "output_type": "execute_result"
    }
   ],
   "source": [
    "legislators_historical['centuries'] = pd.cut(legislators_historical['birth_year'], bins)\n",
    "legislators_historical.head()"
   ]
  },
  {
   "cell_type": "code",
   "execution_count": 107,
   "metadata": {},
   "outputs": [
    {
     "data": {
      "text/plain": [
       "(1800, 1900]    6998\n",
       "(1900, 2000]    2501\n",
       "(1700, 1800]    2006\n",
       "Name: centuries, dtype: int64"
      ]
     },
     "execution_count": 107,
     "metadata": {},
     "output_type": "execute_result"
    }
   ],
   "source": [
    "legislators_historical.centuries.value_counts()"
   ]
  },
  {
   "cell_type": "markdown",
   "metadata": {
    "id": "bX0O2L2FknmG"
   },
   "source": [
    "### PivotTables\n",
    "If we aggregate over several columns, it can happen that DataFrame becomes one long **noodle**. It is hard to find any meaning in it anymore.  If you have ever worked with such data in Excel, you may be familiar with the function of contingency tables, usually reffered as _pivot tables_.\n",
    "Before we start pivoting, let's create a small dataset - it will be a simple aggregation based on the type of engagement from chamber and gender."
   ]
  },
  {
   "cell_type": "code",
   "execution_count": 108,
   "metadata": {
    "id": "POINHju1knmH",
    "outputId": "d33e92ef-84f4-4249-92c7-9b60e8b0ed50"
   },
   "outputs": [
    {
     "data": {
      "text/html": [
       "<div>\n",
       "<style scoped>\n",
       "    .dataframe tbody tr th:only-of-type {\n",
       "        vertical-align: middle;\n",
       "    }\n",
       "\n",
       "    .dataframe tbody tr th {\n",
       "        vertical-align: top;\n",
       "    }\n",
       "\n",
       "    .dataframe thead th {\n",
       "        text-align: right;\n",
       "    }\n",
       "</style>\n",
       "<table border=\"1\" class=\"dataframe\">\n",
       "  <thead>\n",
       "    <tr style=\"text-align: right;\">\n",
       "      <th></th>\n",
       "      <th>type</th>\n",
       "      <th>gender</th>\n",
       "      <th>count</th>\n",
       "    </tr>\n",
       "  </thead>\n",
       "  <tbody>\n",
       "    <tr>\n",
       "      <th>0</th>\n",
       "      <td>rep</td>\n",
       "      <td>F</td>\n",
       "      <td>214</td>\n",
       "    </tr>\n",
       "    <tr>\n",
       "      <th>1</th>\n",
       "      <td>rep</td>\n",
       "      <td>M</td>\n",
       "      <td>10001</td>\n",
       "    </tr>\n",
       "    <tr>\n",
       "      <th>2</th>\n",
       "      <td>sen</td>\n",
       "      <td>F</td>\n",
       "      <td>34</td>\n",
       "    </tr>\n",
       "    <tr>\n",
       "      <th>3</th>\n",
       "      <td>sen</td>\n",
       "      <td>M</td>\n",
       "      <td>1806</td>\n",
       "    </tr>\n",
       "  </tbody>\n",
       "</table>\n",
       "</div>"
      ],
      "text/plain": [
       "  type gender  count\n",
       "0  rep      F    214\n",
       "1  rep      M  10001\n",
       "2  sen      F     34\n",
       "3  sen      M   1806"
      ]
     },
     "execution_count": 108,
     "metadata": {},
     "output_type": "execute_result"
    }
   ],
   "source": [
    "summary = legislators_historical.groupby(['type', 'gender'], as_index=False)[['last_name']].count()\n",
    "summary = summary.rename(columns={'last_name': 'count'})\n",
    "summary"
   ]
  },
  {
   "cell_type": "markdown",
   "metadata": {
    "id": "sVgb6YeBknmH"
   },
   "source": [
    "Each `pivot` includes three factors - specifications,\n",
    "1. which columns we want in the index\n",
    "2. which will be in the columns\n",
    "3. which column is assigned to the values in the DataFrame\n",
    "It's nice to see [in this diagram](https://pandas.pydata.org/pandas-docs/stable/user_guide/reshaping.html)."
   ]
  },
  {
   "cell_type": "code",
   "execution_count": 109,
   "metadata": {
    "id": "jfC3mr3jknmI",
    "outputId": "9377011e-5c6b-41a4-e35d-735c6d3f8e81"
   },
   "outputs": [
    {
     "data": {
      "text/html": [
       "<div>\n",
       "<style scoped>\n",
       "    .dataframe tbody tr th:only-of-type {\n",
       "        vertical-align: middle;\n",
       "    }\n",
       "\n",
       "    .dataframe tbody tr th {\n",
       "        vertical-align: top;\n",
       "    }\n",
       "\n",
       "    .dataframe thead th {\n",
       "        text-align: right;\n",
       "    }\n",
       "</style>\n",
       "<table border=\"1\" class=\"dataframe\">\n",
       "  <thead>\n",
       "    <tr style=\"text-align: right;\">\n",
       "      <th>type</th>\n",
       "      <th>rep</th>\n",
       "      <th>sen</th>\n",
       "    </tr>\n",
       "    <tr>\n",
       "      <th>gender</th>\n",
       "      <th></th>\n",
       "      <th></th>\n",
       "    </tr>\n",
       "  </thead>\n",
       "  <tbody>\n",
       "    <tr>\n",
       "      <th>F</th>\n",
       "      <td>214</td>\n",
       "      <td>34</td>\n",
       "    </tr>\n",
       "    <tr>\n",
       "      <th>M</th>\n",
       "      <td>10001</td>\n",
       "      <td>1806</td>\n",
       "    </tr>\n",
       "  </tbody>\n",
       "</table>\n",
       "</div>"
      ],
      "text/plain": [
       "type      rep   sen\n",
       "gender             \n",
       "F         214    34\n",
       "M       10001  1806"
      ]
     },
     "execution_count": 109,
     "metadata": {},
     "output_type": "execute_result"
    }
   ],
   "source": [
    "summary.pivot(index='gender', columns='type', values='count')"
   ]
  },
  {
   "cell_type": "markdown",
   "metadata": {
    "id": "pb9t9_jBknmI"
   },
   "source": [
    "A limitation of the `pivot` method is that it can only rotate a DataFrame, but if one of the fields matches multiple values, it throws you an error because it doesn't know how to aggregate them. The pivot is really just a turning around the data.\n",
    "For more complex aggregations, there is a similarly named `pivot_table`."
   ]
  },
  {
   "cell_type": "code",
   "execution_count": 110,
   "metadata": {
    "id": "n6TQzOBxknmJ",
    "outputId": "49161c2e-e563-4d90-e771-b2f5d2e66a4b"
   },
   "outputs": [
    {
     "data": {
      "text/html": [
       "<div>\n",
       "<style scoped>\n",
       "    .dataframe tbody tr th:only-of-type {\n",
       "        vertical-align: middle;\n",
       "    }\n",
       "\n",
       "    .dataframe tbody tr th {\n",
       "        vertical-align: top;\n",
       "    }\n",
       "\n",
       "    .dataframe thead th {\n",
       "        text-align: right;\n",
       "    }\n",
       "</style>\n",
       "<table border=\"1\" class=\"dataframe\">\n",
       "  <thead>\n",
       "    <tr style=\"text-align: right;\">\n",
       "      <th></th>\n",
       "      <th>type</th>\n",
       "      <th>state</th>\n",
       "      <th>gender</th>\n",
       "      <th>count</th>\n",
       "    </tr>\n",
       "  </thead>\n",
       "  <tbody>\n",
       "    <tr>\n",
       "      <th>0</th>\n",
       "      <td>rep</td>\n",
       "      <td>AK</td>\n",
       "      <td>M</td>\n",
       "      <td>11</td>\n",
       "    </tr>\n",
       "    <tr>\n",
       "      <th>1</th>\n",
       "      <td>rep</td>\n",
       "      <td>AL</td>\n",
       "      <td>F</td>\n",
       "      <td>2</td>\n",
       "    </tr>\n",
       "    <tr>\n",
       "      <th>2</th>\n",
       "      <td>rep</td>\n",
       "      <td>AL</td>\n",
       "      <td>M</td>\n",
       "      <td>167</td>\n",
       "    </tr>\n",
       "    <tr>\n",
       "      <th>3</th>\n",
       "      <td>rep</td>\n",
       "      <td>AR</td>\n",
       "      <td>F</td>\n",
       "      <td>3</td>\n",
       "    </tr>\n",
       "    <tr>\n",
       "      <th>4</th>\n",
       "      <td>rep</td>\n",
       "      <td>AR</td>\n",
       "      <td>M</td>\n",
       "      <td>81</td>\n",
       "    </tr>\n",
       "    <tr>\n",
       "      <th>...</th>\n",
       "      <td>...</td>\n",
       "      <td>...</td>\n",
       "      <td>...</td>\n",
       "      <td>...</td>\n",
       "    </tr>\n",
       "    <tr>\n",
       "      <th>169</th>\n",
       "      <td>sen</td>\n",
       "      <td>VT</td>\n",
       "      <td>M</td>\n",
       "      <td>36</td>\n",
       "    </tr>\n",
       "    <tr>\n",
       "      <th>170</th>\n",
       "      <td>sen</td>\n",
       "      <td>WA</td>\n",
       "      <td>M</td>\n",
       "      <td>20</td>\n",
       "    </tr>\n",
       "    <tr>\n",
       "      <th>171</th>\n",
       "      <td>sen</td>\n",
       "      <td>WI</td>\n",
       "      <td>M</td>\n",
       "      <td>26</td>\n",
       "    </tr>\n",
       "    <tr>\n",
       "      <th>172</th>\n",
       "      <td>sen</td>\n",
       "      <td>WV</td>\n",
       "      <td>M</td>\n",
       "      <td>31</td>\n",
       "    </tr>\n",
       "    <tr>\n",
       "      <th>173</th>\n",
       "      <td>sen</td>\n",
       "      <td>WY</td>\n",
       "      <td>M</td>\n",
       "      <td>20</td>\n",
       "    </tr>\n",
       "  </tbody>\n",
       "</table>\n",
       "<p>174 rows × 4 columns</p>\n",
       "</div>"
      ],
      "text/plain": [
       "    type state gender  count\n",
       "0    rep    AK      M     11\n",
       "1    rep    AL      F      2\n",
       "2    rep    AL      M    167\n",
       "3    rep    AR      F      3\n",
       "4    rep    AR      M     81\n",
       "..   ...   ...    ...    ...\n",
       "169  sen    VT      M     36\n",
       "170  sen    WA      M     20\n",
       "171  sen    WI      M     26\n",
       "172  sen    WV      M     31\n",
       "173  sen    WY      M     20\n",
       "\n",
       "[174 rows x 4 columns]"
      ]
     },
     "execution_count": 110,
     "metadata": {},
     "output_type": "execute_result"
    }
   ],
   "source": [
    "summary = legislators_historical.groupby(['type', 'state', 'gender'], as_index=False)[['last_name']].count()\n",
    "summary = summary.rename(columns={'last_name': 'count'})\n",
    "summary"
   ]
  },
  {
   "cell_type": "markdown",
   "metadata": {
    "id": "WcI1_8XoknmJ"
   },
   "source": [
    "`pivot_table` offers the ability to assign multiple columns to one of the dimensions (index or columns), and then create a multi-level index. It is also possible to specify which function is applied if there are multiple values per cell (as in Excel).\n",
    "See [documentation](https://pandas.pydata.org/pandas-docs/stable/reference/api/pandas.pivot_table.html) for more details."
   ]
  },
  {
   "cell_type": "code",
   "execution_count": 111,
   "metadata": {
    "id": "wvJiTOYnknmJ",
    "outputId": "6c51d81a-df90-4db9-8920-418807e33619"
   },
   "outputs": [
    {
     "data": {
      "text/html": [
       "<div>\n",
       "<style scoped>\n",
       "    .dataframe tbody tr th:only-of-type {\n",
       "        vertical-align: middle;\n",
       "    }\n",
       "\n",
       "    .dataframe tbody tr th {\n",
       "        vertical-align: top;\n",
       "    }\n",
       "\n",
       "    .dataframe thead tr th {\n",
       "        text-align: left;\n",
       "    }\n",
       "\n",
       "    .dataframe thead tr:last-of-type th {\n",
       "        text-align: right;\n",
       "    }\n",
       "</style>\n",
       "<table border=\"1\" class=\"dataframe\">\n",
       "  <thead>\n",
       "    <tr>\n",
       "      <th>type</th>\n",
       "      <th colspan=\"2\" halign=\"left\">rep</th>\n",
       "      <th colspan=\"2\" halign=\"left\">sen</th>\n",
       "    </tr>\n",
       "    <tr>\n",
       "      <th>gender</th>\n",
       "      <th>F</th>\n",
       "      <th>M</th>\n",
       "      <th>F</th>\n",
       "      <th>M</th>\n",
       "    </tr>\n",
       "    <tr>\n",
       "      <th>state</th>\n",
       "      <th></th>\n",
       "      <th></th>\n",
       "      <th></th>\n",
       "      <th></th>\n",
       "    </tr>\n",
       "  </thead>\n",
       "  <tbody>\n",
       "    <tr>\n",
       "      <th>AK</th>\n",
       "      <td></td>\n",
       "      <td>11.0</td>\n",
       "      <td></td>\n",
       "      <td>6.0</td>\n",
       "    </tr>\n",
       "    <tr>\n",
       "      <th>AL</th>\n",
       "      <td>2.0</td>\n",
       "      <td>167.0</td>\n",
       "      <td>2.0</td>\n",
       "      <td>38.0</td>\n",
       "    </tr>\n",
       "    <tr>\n",
       "      <th>AR</th>\n",
       "      <td>3.0</td>\n",
       "      <td>81.0</td>\n",
       "      <td>2.0</td>\n",
       "      <td>31.0</td>\n",
       "    </tr>\n",
       "    <tr>\n",
       "      <th>AS</th>\n",
       "      <td></td>\n",
       "      <td>2.0</td>\n",
       "      <td></td>\n",
       "      <td></td>\n",
       "    </tr>\n",
       "    <tr>\n",
       "      <th>AZ</th>\n",
       "      <td>3.0</td>\n",
       "      <td>34.0</td>\n",
       "      <td>1.0</td>\n",
       "      <td>11.0</td>\n",
       "    </tr>\n",
       "    <tr>\n",
       "      <th>CA</th>\n",
       "      <td>24.0</td>\n",
       "      <td>301.0</td>\n",
       "      <td>2.0</td>\n",
       "      <td>41.0</td>\n",
       "    </tr>\n",
       "    <tr>\n",
       "      <th>CO</th>\n",
       "      <td>3.0</td>\n",
       "      <td>54.0</td>\n",
       "      <td></td>\n",
       "      <td>35.0</td>\n",
       "    </tr>\n",
       "    <tr>\n",
       "      <th>CT</th>\n",
       "      <td>6.0</td>\n",
       "      <td>183.0</td>\n",
       "      <td></td>\n",
       "      <td>51.0</td>\n",
       "    </tr>\n",
       "    <tr>\n",
       "      <th>DC</th>\n",
       "      <td></td>\n",
       "      <td>2.0</td>\n",
       "      <td></td>\n",
       "      <td></td>\n",
       "    </tr>\n",
       "    <tr>\n",
       "      <th>DE</th>\n",
       "      <td></td>\n",
       "      <td>48.0</td>\n",
       "      <td></td>\n",
       "      <td>49.0</td>\n",
       "    </tr>\n",
       "  </tbody>\n",
       "</table>\n",
       "</div>"
      ],
      "text/plain": [
       "type     rep         sen      \n",
       "gender     F      M    F     M\n",
       "state                         \n",
       "AK             11.0        6.0\n",
       "AL       2.0  167.0  2.0  38.0\n",
       "AR       3.0   81.0  2.0  31.0\n",
       "AS              2.0           \n",
       "AZ       3.0   34.0  1.0  11.0\n",
       "CA      24.0  301.0  2.0  41.0\n",
       "CO       3.0   54.0       35.0\n",
       "CT       6.0  183.0       51.0\n",
       "DC              2.0           \n",
       "DE             48.0       49.0"
      ]
     },
     "execution_count": 111,
     "metadata": {},
     "output_type": "execute_result"
    }
   ],
   "source": [
    "wide = summary.pivot_table(index='state', columns=['type', 'gender'], values='count', fill_value='')\n",
    "\n",
    "wide.head(10)"
   ]
  },
  {
   "cell_type": "markdown",
   "metadata": {
    "id": "noKxoK0LknmK"
   },
   "source": [
    "If you find it confusing that there are two similar functions on the pivot tables, we will confuse you even more, because there is still `pd.crosstab`. We will not go into details here, we recommend [documentation](https://pandas.pydata.org/pandas-docs/stable/reference/api/pandas.crosstab.html)."
   ]
  },
  {
   "cell_type": "markdown",
   "metadata": {
    "id": "niI7SIuEknmK"
   },
   "source": [
    "### Inverse Context Tables\n",
    "While many have come across contingency tables, their inverse functionality is quite unknown and interesting. It works exactly as we write - it takes a wide table in which one of the dimensions is in the columns, and narrows and lengthens by converting those column names into the column itself. The example will make it clearer.\n",
    "\n",
    "In pandas, the `melt` method is used for this inverse operation. Its longer list of arguments is traditionally [in the documentation](https://pandas.pydata.org/pandas-docs/stable/reference/api/pandas.melt.html).\n",
    "\n",
    "Let's have a dataset where performance is measured in different regions of a fictitious country. The downside is that we can't look at time series completely, because the years to which the data applies are in columns, not rows. Such wide tables are quite popular, for example, for weather data ( ;) )"
   ]
  },
  {
   "cell_type": "code",
   "execution_count": 112,
   "metadata": {
    "id": "iPoiLk6-knmL",
    "outputId": "36f1a61a-da4f-404a-e75c-da5563b0c41b"
   },
   "outputs": [
    {
     "data": {
      "text/html": [
       "<div>\n",
       "<style scoped>\n",
       "    .dataframe tbody tr th:only-of-type {\n",
       "        vertical-align: middle;\n",
       "    }\n",
       "\n",
       "    .dataframe tbody tr th {\n",
       "        vertical-align: top;\n",
       "    }\n",
       "\n",
       "    .dataframe thead th {\n",
       "        text-align: right;\n",
       "    }\n",
       "</style>\n",
       "<table border=\"1\" class=\"dataframe\">\n",
       "  <thead>\n",
       "    <tr style=\"text-align: right;\">\n",
       "      <th></th>\n",
       "      <th>region</th>\n",
       "      <th>2000</th>\n",
       "      <th>2005</th>\n",
       "      <th>2010</th>\n",
       "      <th>2015</th>\n",
       "      <th>2020</th>\n",
       "    </tr>\n",
       "  </thead>\n",
       "  <tbody>\n",
       "    <tr>\n",
       "      <th>0</th>\n",
       "      <td>North</td>\n",
       "      <td>200</td>\n",
       "      <td>450</td>\n",
       "      <td>10</td>\n",
       "      <td>550</td>\n",
       "      <td>1</td>\n",
       "    </tr>\n",
       "    <tr>\n",
       "      <th>1</th>\n",
       "      <td>South</td>\n",
       "      <td>100</td>\n",
       "      <td>10</td>\n",
       "      <td>500</td>\n",
       "      <td>20</td>\n",
       "      <td>1</td>\n",
       "    </tr>\n",
       "    <tr>\n",
       "      <th>2</th>\n",
       "      <td>East</td>\n",
       "      <td>50</td>\n",
       "      <td>510</td>\n",
       "      <td>950</td>\n",
       "      <td>50</td>\n",
       "      <td>5</td>\n",
       "    </tr>\n",
       "    <tr>\n",
       "      <th>3</th>\n",
       "      <td>West</td>\n",
       "      <td>1000</td>\n",
       "      <td>1040</td>\n",
       "      <td>500</td>\n",
       "      <td>10</td>\n",
       "      <td>10</td>\n",
       "    </tr>\n",
       "  </tbody>\n",
       "</table>\n",
       "</div>"
      ],
      "text/plain": [
       "  region  2000  2005  2010  2015  2020\n",
       "0  North   200   450    10   550     1\n",
       "1  South   100    10   500    20     1\n",
       "2   East    50   510   950    50     5\n",
       "3   West  1000  1040   500    10    10"
      ]
     },
     "execution_count": 112,
     "metadata": {},
     "output_type": "execute_result"
    }
   ],
   "source": [
    "df = pd.DataFrame({\n",
    "    'region': ['North', 'South', 'East', 'West'],\n",
    "    '2000': [200, 100, 50, 1000],\n",
    "    '2005': [450, 10, 510, 1040],\n",
    "    '2010': [10, 500, 950, 500],\n",
    "    '2015': [550, 20, 50, 10],\n",
    "    '2020': [1, 1, 5, 10],\n",
    "})\n",
    "df"
   ]
  },
  {
   "cell_type": "markdown",
   "metadata": {
    "id": "E439pt6PknmM"
   },
   "source": [
    "`pd.melt` is interested in which of the columns somehow identifies the given rows (`id_vars`) and which columns contain values (`value_vars`). The other two arguments are only used to rename columns (`var_name`,` value_name`)."
   ]
  },
  {
   "cell_type": "code",
   "execution_count": 113,
   "metadata": {
    "id": "efX36gOyknmN",
    "outputId": "95585d93-7412-4ad0-fcd4-31b0bc1b23eb"
   },
   "outputs": [
    {
     "data": {
      "text/html": [
       "<div>\n",
       "<style scoped>\n",
       "    .dataframe tbody tr th:only-of-type {\n",
       "        vertical-align: middle;\n",
       "    }\n",
       "\n",
       "    .dataframe tbody tr th {\n",
       "        vertical-align: top;\n",
       "    }\n",
       "\n",
       "    .dataframe thead th {\n",
       "        text-align: right;\n",
       "    }\n",
       "</style>\n",
       "<table border=\"1\" class=\"dataframe\">\n",
       "  <thead>\n",
       "    <tr style=\"text-align: right;\">\n",
       "      <th></th>\n",
       "      <th>region</th>\n",
       "      <th>year</th>\n",
       "      <th>output</th>\n",
       "    </tr>\n",
       "  </thead>\n",
       "  <tbody>\n",
       "    <tr>\n",
       "      <th>0</th>\n",
       "      <td>North</td>\n",
       "      <td>2000</td>\n",
       "      <td>200</td>\n",
       "    </tr>\n",
       "    <tr>\n",
       "      <th>1</th>\n",
       "      <td>South</td>\n",
       "      <td>2000</td>\n",
       "      <td>100</td>\n",
       "    </tr>\n",
       "    <tr>\n",
       "      <th>2</th>\n",
       "      <td>East</td>\n",
       "      <td>2000</td>\n",
       "      <td>50</td>\n",
       "    </tr>\n",
       "    <tr>\n",
       "      <th>3</th>\n",
       "      <td>West</td>\n",
       "      <td>2000</td>\n",
       "      <td>1000</td>\n",
       "    </tr>\n",
       "    <tr>\n",
       "      <th>4</th>\n",
       "      <td>North</td>\n",
       "      <td>2005</td>\n",
       "      <td>450</td>\n",
       "    </tr>\n",
       "    <tr>\n",
       "      <th>5</th>\n",
       "      <td>South</td>\n",
       "      <td>2005</td>\n",
       "      <td>10</td>\n",
       "    </tr>\n",
       "    <tr>\n",
       "      <th>6</th>\n",
       "      <td>East</td>\n",
       "      <td>2005</td>\n",
       "      <td>510</td>\n",
       "    </tr>\n",
       "    <tr>\n",
       "      <th>7</th>\n",
       "      <td>West</td>\n",
       "      <td>2005</td>\n",
       "      <td>1040</td>\n",
       "    </tr>\n",
       "    <tr>\n",
       "      <th>8</th>\n",
       "      <td>North</td>\n",
       "      <td>2010</td>\n",
       "      <td>10</td>\n",
       "    </tr>\n",
       "    <tr>\n",
       "      <th>9</th>\n",
       "      <td>South</td>\n",
       "      <td>2010</td>\n",
       "      <td>500</td>\n",
       "    </tr>\n",
       "    <tr>\n",
       "      <th>10</th>\n",
       "      <td>East</td>\n",
       "      <td>2010</td>\n",
       "      <td>950</td>\n",
       "    </tr>\n",
       "    <tr>\n",
       "      <th>11</th>\n",
       "      <td>West</td>\n",
       "      <td>2010</td>\n",
       "      <td>500</td>\n",
       "    </tr>\n",
       "    <tr>\n",
       "      <th>12</th>\n",
       "      <td>North</td>\n",
       "      <td>2015</td>\n",
       "      <td>550</td>\n",
       "    </tr>\n",
       "    <tr>\n",
       "      <th>13</th>\n",
       "      <td>South</td>\n",
       "      <td>2015</td>\n",
       "      <td>20</td>\n",
       "    </tr>\n",
       "    <tr>\n",
       "      <th>14</th>\n",
       "      <td>East</td>\n",
       "      <td>2015</td>\n",
       "      <td>50</td>\n",
       "    </tr>\n",
       "    <tr>\n",
       "      <th>15</th>\n",
       "      <td>West</td>\n",
       "      <td>2015</td>\n",
       "      <td>10</td>\n",
       "    </tr>\n",
       "    <tr>\n",
       "      <th>16</th>\n",
       "      <td>North</td>\n",
       "      <td>2020</td>\n",
       "      <td>1</td>\n",
       "    </tr>\n",
       "    <tr>\n",
       "      <th>17</th>\n",
       "      <td>South</td>\n",
       "      <td>2020</td>\n",
       "      <td>1</td>\n",
       "    </tr>\n",
       "    <tr>\n",
       "      <th>18</th>\n",
       "      <td>East</td>\n",
       "      <td>2020</td>\n",
       "      <td>5</td>\n",
       "    </tr>\n",
       "    <tr>\n",
       "      <th>19</th>\n",
       "      <td>West</td>\n",
       "      <td>2020</td>\n",
       "      <td>10</td>\n",
       "    </tr>\n",
       "  </tbody>\n",
       "</table>\n",
       "</div>"
      ],
      "text/plain": [
       "   region  year  output\n",
       "0   North  2000     200\n",
       "1   South  2000     100\n",
       "2    East  2000      50\n",
       "3    West  2000    1000\n",
       "4   North  2005     450\n",
       "5   South  2005      10\n",
       "6    East  2005     510\n",
       "7    West  2005    1040\n",
       "8   North  2010      10\n",
       "9   South  2010     500\n",
       "10   East  2010     950\n",
       "11   West  2010     500\n",
       "12  North  2015     550\n",
       "13  South  2015      20\n",
       "14   East  2015      50\n",
       "15   West  2015      10\n",
       "16  North  2020       1\n",
       "17  South  2020       1\n",
       "18   East  2020       5\n",
       "19   West  2020      10"
      ]
     },
     "execution_count": 113,
     "metadata": {},
     "output_type": "execute_result"
    }
   ],
   "source": [
    "long = df.melt(id_vars = [\"region\"], value_vars = [\"2000\", \"2005\", \"2010\", \"2015\", \"2020\"],var_name='year', value_name='output')\n",
    "\n",
    "long"
   ]
  },
  {
   "cell_type": "markdown",
   "metadata": {
    "id": "iGfz-_P8knmN"
   },
   "source": [
    "**Task:** \n",
    "take this long dataset and make it into the original, wide one. (You don't have to deal with indexes apearing where there were none before)."
   ]
  },
  {
   "cell_type": "code",
   "execution_count": null,
   "metadata": {
    "id": "PWzJloJbknmO"
   },
   "outputs": [],
   "source": []
  }
 ],
 "metadata": {
  "colab": {
   "collapsed_sections": [
    "wAC_D7_Mknls",
    "G4h_2wFrknl8",
    "OYLhKKrJknmD"
   ],
   "name": "pivot_table_group_by.ipynb",
   "provenance": []
  },
  "kernelspec": {
   "display_name": "Python 3 (ipykernel)",
   "language": "python",
   "name": "python3"
  },
  "language_info": {
   "codemirror_mode": {
    "name": "ipython",
    "version": 3
   },
   "file_extension": ".py",
   "mimetype": "text/x-python",
   "name": "python",
   "nbconvert_exporter": "python",
   "pygments_lexer": "ipython3",
   "version": "3.7.12"
  }
 },
 "nbformat": 4,
 "nbformat_minor": 4
}
