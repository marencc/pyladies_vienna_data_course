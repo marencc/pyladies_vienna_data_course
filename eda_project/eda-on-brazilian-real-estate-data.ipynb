{
 "cells": [
  {
   "cell_type": "markdown",
   "id": "c4c10337",
   "metadata": {
    "papermill": {
     "duration": 0.05142,
     "end_time": "2021-11-08T15:41:58.002598",
     "exception": false,
     "start_time": "2021-11-08T15:41:57.951178",
     "status": "completed"
    },
    "tags": []
   },
   "source": [
    "## Introduction\n",
    "\n",
    "In this notebook we'll develop an exploratory data analysis with real estate data from a brazilian city named Belo Horizonte. The extraction of the data was made with Scrapy and Selenium, and performed by November 2021."
   ]
  },
  {
   "cell_type": "code",
   "execution_count": 1,
   "id": "dd9bd925",
   "metadata": {
    "execution": {
     "iopub.execute_input": "2021-11-08T15:41:58.109564Z",
     "iopub.status.busy": "2021-11-08T15:41:58.108208Z",
     "iopub.status.idle": "2021-11-08T15:41:59.690134Z",
     "shell.execute_reply": "2021-11-08T15:41:59.688467Z",
     "shell.execute_reply.started": "2021-11-08T15:41:05.913330Z"
    },
    "papermill": {
     "duration": 1.63683,
     "end_time": "2021-11-08T15:41:59.690434",
     "exception": false,
     "start_time": "2021-11-08T15:41:58.053604",
     "status": "completed"
    },
    "tags": []
   },
   "outputs": [],
   "source": [
    "import pandas as pd\n",
    "import numpy as np\n",
    "import seaborn as sns\n",
    "import folium\n",
    "import matplotlib.pyplot as plt"
   ]
  },
  {
   "cell_type": "code",
   "execution_count": 2,
   "id": "b9759102",
   "metadata": {
    "execution": {
     "iopub.execute_input": "2021-11-08T15:41:59.801665Z",
     "iopub.status.busy": "2021-11-08T15:41:59.800913Z",
     "iopub.status.idle": "2021-11-08T15:41:59.851356Z",
     "shell.execute_reply": "2021-11-08T15:41:59.851957Z",
     "shell.execute_reply.started": "2021-11-08T15:41:05.921058Z"
    },
    "papermill": {
     "duration": 0.1074,
     "end_time": "2021-11-08T15:41:59.852176",
     "exception": false,
     "start_time": "2021-11-08T15:41:59.744776",
     "status": "completed"
    },
    "tags": []
   },
   "outputs": [],
   "source": [
    "df = pd.read_csv(\"../input/house-pricing-in-belo-horizonte/data.csv\")"
   ]
  },
  {
   "cell_type": "markdown",
   "id": "b46b1945",
   "metadata": {
    "papermill": {
     "duration": 0.04886,
     "end_time": "2021-11-08T15:41:59.949161",
     "exception": false,
     "start_time": "2021-11-08T15:41:59.900301",
     "status": "completed"
    },
    "tags": []
   },
   "source": [
    "---\n",
    "\n",
    "## Basic Explorations and Data Cleaning"
   ]
  },
  {
   "cell_type": "markdown",
   "id": "d6747013",
   "metadata": {
    "papermill": {
     "duration": 0.051929,
     "end_time": "2021-11-08T15:42:00.049405",
     "exception": false,
     "start_time": "2021-11-08T15:41:59.997476",
     "status": "completed"
    },
    "tags": []
   },
   "source": [
    "#### What is the percentage of null values per column?"
   ]
  },
  {
   "cell_type": "code",
   "execution_count": 3,
   "id": "062a41ef",
   "metadata": {
    "execution": {
     "iopub.execute_input": "2021-11-08T15:42:00.220457Z",
     "iopub.status.busy": "2021-11-08T15:42:00.219734Z",
     "iopub.status.idle": "2021-11-08T15:42:00.239212Z",
     "shell.execute_reply": "2021-11-08T15:42:00.239833Z",
     "shell.execute_reply.started": "2021-11-08T15:41:05.962214Z"
    },
    "papermill": {
     "duration": 0.141348,
     "end_time": "2021-11-08T15:42:00.240048",
     "exception": false,
     "start_time": "2021-11-08T15:42:00.098700",
     "status": "completed"
    },
    "tags": []
   },
   "outputs": [
    {
     "data": {
      "text/plain": [
       "address           0.00\n",
       "adm-fees         33.51\n",
       "garage-places     0.00\n",
       "price             0.50\n",
       "rooms             0.00\n",
       "square-foot       0.00\n",
       "neighborhood      0.40\n",
       "city              0.00\n",
       "latitude          0.00\n",
       "longitude         0.00\n",
       "dtype: float64"
      ]
     },
     "execution_count": 3,
     "metadata": {},
     "output_type": "execute_result"
    }
   ],
   "source": [
    "np.round((df.isna().sum() / df.shape[0]) * 100, 2)"
   ]
  },
  {
   "cell_type": "markdown",
   "id": "6b49b848",
   "metadata": {
    "papermill": {
     "duration": 0.052236,
     "end_time": "2021-11-08T15:42:00.342631",
     "exception": false,
     "start_time": "2021-11-08T15:42:00.290395",
     "status": "completed"
    },
    "tags": []
   },
   "source": [
    "As we saw, only one column has a significant amount of null values. This column regards costs that usually are related to condominiums. In that case, the absence of cost represents no cost at all and, hence, there's no information loss.\n",
    "\n",
    "The remaining two fields with null values, on the other hand, might be problematic. For the purpose of this analysis, I decided to simply discard every item without an aggregated `price`. However, records with missing `neighborhoods` will be kept."
   ]
  },
  {
   "cell_type": "code",
   "execution_count": 4,
   "id": "c7a803cf",
   "metadata": {
    "execution": {
     "iopub.execute_input": "2021-11-08T15:42:00.451491Z",
     "iopub.status.busy": "2021-11-08T15:42:00.450636Z",
     "iopub.status.idle": "2021-11-08T15:42:00.466130Z",
     "shell.execute_reply": "2021-11-08T15:42:00.466691Z",
     "shell.execute_reply.started": "2021-11-08T15:41:05.978094Z"
    },
    "papermill": {
     "duration": 0.071742,
     "end_time": "2021-11-08T15:42:00.466923",
     "exception": false,
     "start_time": "2021-11-08T15:42:00.395181",
     "status": "completed"
    },
    "tags": []
   },
   "outputs": [],
   "source": [
    "df.dropna(subset=[\"price\"], inplace=True)"
   ]
  },
  {
   "cell_type": "markdown",
   "id": "5300d315",
   "metadata": {
    "papermill": {
     "duration": 0.050132,
     "end_time": "2021-11-08T15:42:00.567301",
     "exception": false,
     "start_time": "2021-11-08T15:42:00.517169",
     "status": "completed"
    },
    "tags": []
   },
   "source": [
    "### How does the price distribution looks like?"
   ]
  },
  {
   "cell_type": "code",
   "execution_count": 5,
   "id": "51a4db73",
   "metadata": {
    "execution": {
     "iopub.execute_input": "2021-11-08T15:42:00.672051Z",
     "iopub.status.busy": "2021-11-08T15:42:00.671286Z",
     "iopub.status.idle": "2021-11-08T15:42:00.683739Z",
     "shell.execute_reply": "2021-11-08T15:42:00.684461Z",
     "shell.execute_reply.started": "2021-11-08T15:41:05.988307Z"
    },
    "papermill": {
     "duration": 0.068081,
     "end_time": "2021-11-08T15:42:00.684672",
     "exception": false,
     "start_time": "2021-11-08T15:42:00.616591",
     "status": "completed"
    },
    "tags": []
   },
   "outputs": [
    {
     "data": {
      "text/plain": [
       "count    5.951000e+03\n",
       "mean     1.075036e+06\n",
       "std      2.127474e+06\n",
       "min      4.500000e+02\n",
       "25%      3.900000e+05\n",
       "50%      6.800000e+05\n",
       "75%      1.210000e+06\n",
       "max      1.300000e+08\n",
       "Name: price, dtype: float64"
      ]
     },
     "execution_count": 5,
     "metadata": {},
     "output_type": "execute_result"
    }
   ],
   "source": [
    "df.price.describe()"
   ]
  },
  {
   "cell_type": "markdown",
   "id": "f5da5ae5",
   "metadata": {
    "papermill": {
     "duration": 0.05024,
     "end_time": "2021-11-08T15:42:00.785958",
     "exception": false,
     "start_time": "2021-11-08T15:42:00.735718",
     "status": "completed"
    },
    "tags": []
   },
   "source": [
    "Apparently, and not surprisingly, there are some pretty extreme outliers in the data. For the purpose of this analysis, lets consider only data points bellow the 95-th percentile."
   ]
  },
  {
   "cell_type": "code",
   "execution_count": 6,
   "id": "ff85dfe6",
   "metadata": {
    "execution": {
     "iopub.execute_input": "2021-11-08T15:42:00.893919Z",
     "iopub.status.busy": "2021-11-08T15:42:00.893077Z",
     "iopub.status.idle": "2021-11-08T15:42:00.902424Z",
     "shell.execute_reply": "2021-11-08T15:42:00.901385Z",
     "shell.execute_reply.started": "2021-11-08T15:41:06.003916Z"
    },
    "papermill": {
     "duration": 0.065112,
     "end_time": "2021-11-08T15:42:00.902682",
     "exception": false,
     "start_time": "2021-11-08T15:42:00.837570",
     "status": "completed"
    },
    "tags": []
   },
   "outputs": [
    {
     "name": "stdout",
     "output_type": "stream",
     "text": [
      "The most expensive house worths R$ 130000000.0\n"
     ]
    }
   ],
   "source": [
    "print(f\"The most expensive house worths R$ {df.price.max()}\")"
   ]
  },
  {
   "cell_type": "code",
   "execution_count": 7,
   "id": "3925fdfc",
   "metadata": {
    "execution": {
     "iopub.execute_input": "2021-11-08T15:42:01.012441Z",
     "iopub.status.busy": "2021-11-08T15:42:01.011673Z",
     "iopub.status.idle": "2021-11-08T15:42:01.020152Z",
     "shell.execute_reply": "2021-11-08T15:42:01.020754Z",
     "shell.execute_reply.started": "2021-11-08T15:41:06.010358Z"
    },
    "papermill": {
     "duration": 0.066367,
     "end_time": "2021-11-08T15:42:01.020978",
     "exception": false,
     "start_time": "2021-11-08T15:42:00.954611",
     "status": "completed"
    },
    "tags": []
   },
   "outputs": [],
   "source": [
    "df_wo_outliers = df[df.price < df.price.quantile(0.95)]"
   ]
  },
  {
   "cell_type": "markdown",
   "id": "fb8edae9",
   "metadata": {
    "papermill": {
     "duration": 0.05163,
     "end_time": "2021-11-08T15:42:01.124584",
     "exception": false,
     "start_time": "2021-11-08T15:42:01.072954",
     "status": "completed"
    },
    "tags": []
   },
   "source": [
    "There are also strangely small values that wouldn't be enough to buy some dogs' houses, what quite probably are errors. Hence, let's establish a pertinent minimum value to filter on the dataframe (for example, 100k)."
   ]
  },
  {
   "cell_type": "code",
   "execution_count": 8,
   "id": "6bd0be10",
   "metadata": {
    "execution": {
     "iopub.execute_input": "2021-11-08T15:42:01.234931Z",
     "iopub.status.busy": "2021-11-08T15:42:01.234136Z",
     "iopub.status.idle": "2021-11-08T15:42:01.239204Z",
     "shell.execute_reply": "2021-11-08T15:42:01.239900Z",
     "shell.execute_reply.started": "2021-11-08T15:41:06.024679Z"
    },
    "papermill": {
     "duration": 0.061017,
     "end_time": "2021-11-08T15:42:01.240120",
     "exception": false,
     "start_time": "2021-11-08T15:42:01.179103",
     "status": "completed"
    },
    "scrolled": true,
    "tags": []
   },
   "outputs": [
    {
     "name": "stdout",
     "output_type": "stream",
     "text": [
      "The cheapest property worths R$ 450.0\n"
     ]
    }
   ],
   "source": [
    "print(f\"The cheapest property worths R$ {df.price.min()}\")"
   ]
  },
  {
   "cell_type": "code",
   "execution_count": 9,
   "id": "c210a7d2",
   "metadata": {
    "execution": {
     "iopub.execute_input": "2021-11-08T15:42:01.349483Z",
     "iopub.status.busy": "2021-11-08T15:42:01.348624Z",
     "iopub.status.idle": "2021-11-08T15:42:01.354784Z",
     "shell.execute_reply": "2021-11-08T15:42:01.355400Z",
     "shell.execute_reply.started": "2021-11-08T15:41:06.036764Z"
    },
    "papermill": {
     "duration": 0.062712,
     "end_time": "2021-11-08T15:42:01.355609",
     "exception": false,
     "start_time": "2021-11-08T15:42:01.292897",
     "status": "completed"
    },
    "tags": []
   },
   "outputs": [],
   "source": [
    "df_wo_outliers = df_wo_outliers[df_wo_outliers.price >= 1e5]"
   ]
  },
  {
   "cell_type": "code",
   "execution_count": 10,
   "id": "2bed548a",
   "metadata": {
    "execution": {
     "iopub.execute_input": "2021-11-08T15:42:01.481126Z",
     "iopub.status.busy": "2021-11-08T15:42:01.479996Z",
     "iopub.status.idle": "2021-11-08T15:42:01.986033Z",
     "shell.execute_reply": "2021-11-08T15:42:01.985297Z",
     "shell.execute_reply.started": "2021-11-08T15:41:06.050225Z"
    },
    "papermill": {
     "duration": 0.578772,
     "end_time": "2021-11-08T15:42:01.986193",
     "exception": false,
     "start_time": "2021-11-08T15:42:01.407421",
     "status": "completed"
    },
    "tags": []
   },
   "outputs": [
    {
     "data": {
      "image/png": "[encoded data removed]",
      "text/plain": [
       "<Figure size 360x360 with 1 Axes>"
      ]
     },
     "metadata": {
      "needs_background": "light"
     },
     "output_type": "display_data"
    }
   ],
   "source": [
    "sns.displot(df_wo_outliers.price/1e6)\n",
    "plt.title(\"Price distribution\")\n",
    "plt.xlabel(\"Price (per million)\")\n",
    "\n",
    "plt.show()"
   ]
  },
  {
   "cell_type": "markdown",
   "id": "3c7bf545",
   "metadata": {
    "papermill": {
     "duration": 0.050822,
     "end_time": "2021-11-08T15:42:02.087930",
     "exception": false,
     "start_time": "2021-11-08T15:42:02.037108",
     "status": "completed"
    },
    "tags": []
   },
   "source": [
    "After this quick filtering, how many points there left in the data?"
   ]
  },
  {
   "cell_type": "code",
   "execution_count": 11,
   "id": "cc9c4b4f",
   "metadata": {
    "execution": {
     "iopub.execute_input": "2021-11-08T15:42:02.198604Z",
     "iopub.status.busy": "2021-11-08T15:42:02.197724Z",
     "iopub.status.idle": "2021-11-08T15:42:02.200980Z",
     "shell.execute_reply": "2021-11-08T15:42:02.201546Z",
     "shell.execute_reply.started": "2021-11-08T15:41:06.449715Z"
    },
    "papermill": {
     "duration": 0.061803,
     "end_time": "2021-11-08T15:42:02.201890",
     "exception": false,
     "start_time": "2021-11-08T15:42:02.140087",
     "status": "completed"
    },
    "tags": []
   },
   "outputs": [
    {
     "name": "stdout",
     "output_type": "stream",
     "text": [
      "There's still 5536 properties\n"
     ]
    }
   ],
   "source": [
    "print(f\"There's still {df_wo_outliers.shape[0]} properties\")"
   ]
  },
  {
   "cell_type": "markdown",
   "id": "2ea5fc38",
   "metadata": {
    "papermill": {
     "duration": 0.053871,
     "end_time": "2021-11-08T15:42:02.309089",
     "exception": false,
     "start_time": "2021-11-08T15:42:02.255218",
     "status": "completed"
    },
    "tags": []
   },
   "source": [
    "### How does the distribution of rooms look like?"
   ]
  },
  {
   "cell_type": "code",
   "execution_count": 12,
   "id": "86a0bcf8",
   "metadata": {
    "execution": {
     "iopub.execute_input": "2021-11-08T15:42:02.421508Z",
     "iopub.status.busy": "2021-11-08T15:42:02.420683Z",
     "iopub.status.idle": "2021-11-08T15:42:02.430376Z",
     "shell.execute_reply": "2021-11-08T15:42:02.431083Z",
     "shell.execute_reply.started": "2021-11-08T15:41:06.457541Z"
    },
    "papermill": {
     "duration": 0.069247,
     "end_time": "2021-11-08T15:42:02.431283",
     "exception": false,
     "start_time": "2021-11-08T15:42:02.362036",
     "status": "completed"
    },
    "tags": []
   },
   "outputs": [
    {
     "data": {
      "text/plain": [
       "--      388\n",
       "1       201\n",
       "1-2       2\n",
       "10        1\n",
       "12        1\n",
       "15        1\n",
       "18        1\n",
       "2      1224\n",
       "2-3      12\n",
       "3      2136\n",
       "3-4       2\n",
       "4      1402\n",
       "4-5       1\n",
       "5       123\n",
       "6        26\n",
       "7         7\n",
       "8         5\n",
       "9         3\n",
       "Name: rooms, dtype: int64"
      ]
     },
     "execution_count": 12,
     "metadata": {},
     "output_type": "execute_result"
    }
   ],
   "source": [
    "df_wo_outliers.rooms.value_counts().sort_index()"
   ]
  },
  {
   "cell_type": "markdown",
   "id": "e44c525e",
   "metadata": {
    "papermill": {
     "duration": 0.054148,
     "end_time": "2021-11-08T15:42:02.538612",
     "exception": false,
     "start_time": "2021-11-08T15:42:02.484464",
     "status": "completed"
    },
    "tags": []
   },
   "source": [
    "As we can see, there are records where the number of rooms is not informed, whereas others inform more than one value. Since both cases can be source of uncertainty, lets just remove these items and see what we get."
   ]
  },
  {
   "cell_type": "code",
   "execution_count": 13,
   "id": "6e99e189",
   "metadata": {
    "execution": {
     "iopub.execute_input": "2021-11-08T15:42:02.654560Z",
     "iopub.status.busy": "2021-11-08T15:42:02.653741Z",
     "iopub.status.idle": "2021-11-08T15:42:02.664510Z",
     "shell.execute_reply": "2021-11-08T15:42:02.665137Z",
     "shell.execute_reply.started": "2021-11-08T15:41:06.472802Z"
    },
    "papermill": {
     "duration": 0.071452,
     "end_time": "2021-11-08T15:42:02.665346",
     "exception": false,
     "start_time": "2021-11-08T15:42:02.593894",
     "status": "completed"
    },
    "tags": []
   },
   "outputs": [],
   "source": [
    "df_wo_outliers = df_wo_outliers[~df_wo_outliers.rooms.str.contains('-')]"
   ]
  },
  {
   "cell_type": "code",
   "execution_count": 14,
   "id": "a0af5f72",
   "metadata": {
    "execution": {
     "iopub.execute_input": "2021-11-08T15:42:02.778448Z",
     "iopub.status.busy": "2021-11-08T15:42:02.777744Z",
     "iopub.status.idle": "2021-11-08T15:42:02.784444Z",
     "shell.execute_reply": "2021-11-08T15:42:02.785081Z",
     "shell.execute_reply.started": "2021-11-08T15:41:06.487270Z"
    },
    "papermill": {
     "duration": 0.066002,
     "end_time": "2021-11-08T15:42:02.785287",
     "exception": false,
     "start_time": "2021-11-08T15:42:02.719285",
     "status": "completed"
    },
    "tags": []
   },
   "outputs": [],
   "source": [
    "df_wo_outliers[\"rooms\"] = df_wo_outliers[\"rooms\"].astype(int)"
   ]
  },
  {
   "cell_type": "code",
   "execution_count": 15,
   "id": "e428b019",
   "metadata": {
    "execution": {
     "iopub.execute_input": "2021-11-08T15:42:02.894202Z",
     "iopub.status.busy": "2021-11-08T15:42:02.893342Z",
     "iopub.status.idle": "2021-11-08T15:42:03.210835Z",
     "shell.execute_reply": "2021-11-08T15:42:03.210233Z",
     "shell.execute_reply.started": "2021-11-08T15:41:06.498368Z"
    },
    "papermill": {
     "duration": 0.373785,
     "end_time": "2021-11-08T15:42:03.211022",
     "exception": false,
     "start_time": "2021-11-08T15:42:02.837237",
     "status": "completed"
    },
    "tags": []
   },
   "outputs": [
    {
     "data": {
      "image/png": "[encoded data removed]",
      "text/plain": [
       "<Figure size 432x288 with 1 Axes>"
      ]
     },
     "metadata": {
      "needs_background": "light"
     },
     "output_type": "display_data"
    }
   ],
   "source": [
    "rooms_count = df_wo_outliers.rooms.value_counts().sort_index()\n",
    "\n",
    "plt.bar([str(value) for value in rooms_count.index], rooms_count.values/df_wo_outliers.shape[0])\n",
    "plt.title(\"Distribution of the Number of Rooms\")\n",
    "plt.xlabel(\"Number of Rooms\")\n",
    "plt.ylabel(\"Percentage\")\n",
    "plt.show()"
   ]
  },
  {
   "cell_type": "markdown",
   "id": "06de021a",
   "metadata": {
    "papermill": {
     "duration": 0.054962,
     "end_time": "2021-11-08T15:42:03.320071",
     "exception": false,
     "start_time": "2021-11-08T15:42:03.265109",
     "status": "completed"
    },
    "tags": []
   },
   "source": [
    "How many data points there's left in the dataset?"
   ]
  },
  {
   "cell_type": "code",
   "execution_count": 16,
   "id": "6094bf3a",
   "metadata": {
    "execution": {
     "iopub.execute_input": "2021-11-08T15:42:03.435698Z",
     "iopub.status.busy": "2021-11-08T15:42:03.433654Z",
     "iopub.status.idle": "2021-11-08T15:42:03.438830Z",
     "shell.execute_reply": "2021-11-08T15:42:03.439702Z",
     "shell.execute_reply.started": "2021-11-08T15:41:06.806503Z"
    },
    "papermill": {
     "duration": 0.06512,
     "end_time": "2021-11-08T15:42:03.439996",
     "exception": false,
     "start_time": "2021-11-08T15:42:03.374876",
     "status": "completed"
    },
    "tags": []
   },
   "outputs": [
    {
     "name": "stdout",
     "output_type": "stream",
     "text": [
      "There's still 5131 properties\n"
     ]
    }
   ],
   "source": [
    "print(f\"There's still {df_wo_outliers.shape[0]} properties\")"
   ]
  },
  {
   "cell_type": "markdown",
   "id": "adfd9411",
   "metadata": {
    "papermill": {
     "duration": 0.055331,
     "end_time": "2021-11-08T15:42:03.550962",
     "exception": false,
     "start_time": "2021-11-08T15:42:03.495631",
     "status": "completed"
    },
    "tags": []
   },
   "source": [
    "### How is the distribution of `Garage Places` and `Square Footage`?"
   ]
  },
  {
   "cell_type": "code",
   "execution_count": 17,
   "id": "f6ca00f3",
   "metadata": {
    "execution": {
     "iopub.execute_input": "2021-11-08T15:42:03.665100Z",
     "iopub.status.busy": "2021-11-08T15:42:03.664305Z",
     "iopub.status.idle": "2021-11-08T15:42:03.686691Z",
     "shell.execute_reply": "2021-11-08T15:42:03.687341Z",
     "shell.execute_reply.started": "2021-11-08T15:41:06.814888Z"
    },
    "papermill": {
     "duration": 0.08146,
     "end_time": "2021-11-08T15:42:03.687622",
     "exception": false,
     "start_time": "2021-11-08T15:42:03.606162",
     "status": "completed"
    },
    "tags": []
   },
   "outputs": [],
   "source": [
    "df_wo_outliers = df_wo_outliers[\n",
    "    (~df_wo_outliers[\"square-foot\"].str.contains('-'))\n",
    "    & (~df_wo_outliers[\"garage-places\"].str.contains('-'))\n",
    "]\n",
    "\n",
    "df_wo_outliers.loc[:, [\"garage-places\", \"square-foot\"]] = (\n",
    "    df_wo_outliers[[\"garage-places\", \"square-foot\"]].astype(int)\n",
    ")"
   ]
  },
  {
   "cell_type": "code",
   "execution_count": 18,
   "id": "6aa6e86d",
   "metadata": {
    "execution": {
     "iopub.execute_input": "2021-11-08T15:42:03.803454Z",
     "iopub.status.busy": "2021-11-08T15:42:03.802650Z",
     "iopub.status.idle": "2021-11-08T15:42:04.162441Z",
     "shell.execute_reply": "2021-11-08T15:42:04.163077Z",
     "shell.execute_reply.started": "2021-11-08T15:41:06.844228Z"
    },
    "papermill": {
     "duration": 0.419869,
     "end_time": "2021-11-08T15:42:04.163282",
     "exception": false,
     "start_time": "2021-11-08T15:42:03.743413",
     "status": "completed"
    },
    "tags": []
   },
   "outputs": [
    {
     "data": {
      "image/png": "[encoded data removed]",
      "text/plain": [
       "<Figure size 432x288 with 1 Axes>"
      ]
     },
     "metadata": {
      "needs_background": "light"
     },
     "output_type": "display_data"
    }
   ],
   "source": [
    "plt.hist(df_wo_outliers[\"square-foot\"], bins=50)\n",
    "plt.title(\"Square Footage Distribution\")\n",
    "plt.show()"
   ]
  },
  {
   "cell_type": "code",
   "execution_count": 19,
   "id": "17b41266",
   "metadata": {
    "execution": {
     "iopub.execute_input": "2021-11-08T15:42:04.282351Z",
     "iopub.status.busy": "2021-11-08T15:42:04.281557Z",
     "iopub.status.idle": "2021-11-08T15:42:04.563940Z",
     "shell.execute_reply": "2021-11-08T15:42:04.564547Z",
     "shell.execute_reply.started": "2021-11-08T15:41:07.172466Z"
    },
    "papermill": {
     "duration": 0.345114,
     "end_time": "2021-11-08T15:42:04.564775",
     "exception": false,
     "start_time": "2021-11-08T15:42:04.219661",
     "status": "completed"
    },
    "tags": []
   },
   "outputs": [
    {
     "data": {
      "image/png": "[encoded data removed]",
      "text/plain": [
       "<Figure size 432x288 with 1 Axes>"
      ]
     },
     "metadata": {
      "needs_background": "light"
     },
     "output_type": "display_data"
    }
   ],
   "source": [
    "garage_counts = df_wo_outliers[\"garage-places\"].value_counts().sort_index()\n",
    "\n",
    "plt.bar([str(label) for label in garage_counts.index], garage_counts.values)\n",
    "plt.title(\"Garage Places Distribution\")\n",
    "plt.show()"
   ]
  },
  {
   "cell_type": "code",
   "execution_count": 20,
   "id": "eaff60d8",
   "metadata": {
    "execution": {
     "iopub.execute_input": "2021-11-08T15:42:04.685201Z",
     "iopub.status.busy": "2021-11-08T15:42:04.684384Z",
     "iopub.status.idle": "2021-11-08T15:42:04.688511Z",
     "shell.execute_reply": "2021-11-08T15:42:04.687719Z",
     "shell.execute_reply.started": "2021-11-08T15:41:07.411500Z"
    },
    "papermill": {
     "duration": 0.065002,
     "end_time": "2021-11-08T15:42:04.688692",
     "exception": false,
     "start_time": "2021-11-08T15:42:04.623690",
     "status": "completed"
    },
    "tags": []
   },
   "outputs": [
    {
     "name": "stdout",
     "output_type": "stream",
     "text": [
      "There's still 4869 properties\n"
     ]
    }
   ],
   "source": [
    "print(f\"There's still {df_wo_outliers.shape[0]} properties\")"
   ]
  },
  {
   "cell_type": "markdown",
   "id": "d6b06840",
   "metadata": {
    "papermill": {
     "duration": 0.056201,
     "end_time": "2021-11-08T15:42:04.800908",
     "exception": false,
     "start_time": "2021-11-08T15:42:04.744707",
     "status": "completed"
    },
    "tags": []
   },
   "source": [
    "---\n",
    "\n",
    "## More Advanced Analysis\n",
    "\n",
    "In this slightly more complex analysis, we'll dive a little bit into the statistics from each neighrborhood, and cost-benefit investigations. Initially, lets just remove every record without the neighborhood specification."
   ]
  },
  {
   "cell_type": "code",
   "execution_count": 21,
   "id": "b284a995",
   "metadata": {
    "execution": {
     "iopub.execute_input": "2021-11-08T15:42:04.923792Z",
     "iopub.status.busy": "2021-11-08T15:42:04.923053Z",
     "iopub.status.idle": "2021-11-08T15:42:04.933081Z",
     "shell.execute_reply": "2021-11-08T15:42:04.932191Z",
     "shell.execute_reply.started": "2021-11-08T15:41:07.418281Z"
    },
    "papermill": {
     "duration": 0.074356,
     "end_time": "2021-11-08T15:42:04.933261",
     "exception": false,
     "start_time": "2021-11-08T15:42:04.858905",
     "status": "completed"
    },
    "tags": []
   },
   "outputs": [
    {
     "name": "stdout",
     "output_type": "stream",
     "text": [
      "There's still 4851 properties\n"
     ]
    }
   ],
   "source": [
    "df_wo_outliers.dropna(subset=[\"neighborhood\"], inplace=True)\n",
    "df_wo_outliers[\"adm-fees\"] = df_wo_outliers[\"adm-fees\"].fillna(0)\n",
    "\n",
    "print(f\"There's still {df_wo_outliers.shape[0]} properties\")"
   ]
  },
  {
   "cell_type": "code",
   "execution_count": 22,
   "id": "2847d953",
   "metadata": {
    "execution": {
     "iopub.execute_input": "2021-11-08T15:42:05.052166Z",
     "iopub.status.busy": "2021-11-08T15:42:05.049032Z",
     "iopub.status.idle": "2021-11-08T15:42:05.056320Z",
     "shell.execute_reply": "2021-11-08T15:42:05.055674Z",
     "shell.execute_reply.started": "2021-11-08T15:41:07.437117Z"
    },
    "papermill": {
     "duration": 0.066659,
     "end_time": "2021-11-08T15:42:05.056488",
     "exception": false,
     "start_time": "2021-11-08T15:42:04.989829",
     "status": "completed"
    },
    "tags": []
   },
   "outputs": [
    {
     "name": "stdout",
     "output_type": "stream",
     "text": [
      "There are 201 different neighborhood\n"
     ]
    }
   ],
   "source": [
    "print(f\"There are {df_wo_outliers.neighborhood.nunique()} different neighborhood\")"
   ]
  },
  {
   "cell_type": "markdown",
   "id": "b9836b17",
   "metadata": {
    "papermill": {
     "duration": 0.055861,
     "end_time": "2021-11-08T15:42:05.169102",
     "exception": false,
     "start_time": "2021-11-08T15:42:05.113241",
     "status": "completed"
    },
    "tags": []
   },
   "source": [
    "Now we are ready to go. As we can see, there is still a considerable amount of properties in our dataframe.\n",
    "\n",
    "### What is the top 5 least expensive neighborhoods?"
   ]
  },
  {
   "cell_type": "code",
   "execution_count": 23,
   "id": "7de69584",
   "metadata": {
    "execution": {
     "iopub.execute_input": "2021-11-08T15:42:05.287016Z",
     "iopub.status.busy": "2021-11-08T15:42:05.286257Z",
     "iopub.status.idle": "2021-11-08T15:42:05.289340Z",
     "shell.execute_reply": "2021-11-08T15:42:05.288603Z",
     "shell.execute_reply.started": "2021-11-08T15:41:07.450234Z"
    },
    "papermill": {
     "duration": 0.064067,
     "end_time": "2021-11-08T15:42:05.289515",
     "exception": false,
     "start_time": "2021-11-08T15:42:05.225448",
     "status": "completed"
    },
    "tags": []
   },
   "outputs": [],
   "source": [
    "def mode(s):\n",
    "    return s.value_counts().index[0]"
   ]
  },
  {
   "cell_type": "code",
   "execution_count": 24,
   "id": "9d48765b",
   "metadata": {
    "execution": {
     "iopub.execute_input": "2021-11-08T15:42:05.411476Z",
     "iopub.status.busy": "2021-11-08T15:42:05.410707Z",
     "iopub.status.idle": "2021-11-08T15:42:05.562803Z",
     "shell.execute_reply": "2021-11-08T15:42:05.563437Z",
     "shell.execute_reply.started": "2021-11-08T15:41:07.458552Z"
    },
    "papermill": {
     "duration": 0.217781,
     "end_time": "2021-11-08T15:42:05.563684",
     "exception": false,
     "start_time": "2021-11-08T15:42:05.345903",
     "status": "completed"
    },
    "tags": []
   },
   "outputs": [],
   "source": [
    "grouped_by_neighborhood = (\n",
    "    df_wo_outliers.groupby(\"neighborhood\")\n",
    "    .agg(\n",
    "        {\n",
    "            \"price\": \"median\",\n",
    "            \"garage-places\": mode,\n",
    "            \"rooms\": mode,\n",
    "            \"square-foot\": \"median\",\n",
    "            \"adm-fees\": \"median\"\n",
    "        }\n",
    "    )\n",
    ")"
   ]
  },
  {
   "cell_type": "code",
   "execution_count": 25,
   "id": "b2fce60a",
   "metadata": {
    "execution": {
     "iopub.execute_input": "2021-11-08T15:42:05.707260Z",
     "iopub.status.busy": "2021-11-08T15:42:05.706057Z",
     "iopub.status.idle": "2021-11-08T15:42:05.721644Z",
     "shell.execute_reply": "2021-11-08T15:42:05.722263Z",
     "shell.execute_reply.started": "2021-11-08T15:41:07.585662Z"
    },
    "papermill": {
     "duration": 0.091764,
     "end_time": "2021-11-08T15:42:05.722478",
     "exception": false,
     "start_time": "2021-11-08T15:42:05.630714",
     "status": "completed"
    },
    "tags": []
   },
   "outputs": [],
   "source": [
    "cols = [\"price\", \"square-foot\", \"rooms\", \"garage-places\", \"adm-fees\"]\n",
    "\n",
    "grouped_by_neighborhood = grouped_by_neighborhood.sort_values(\n",
    "    by=cols,\n",
    "    ascending=[\n",
    "        True,\n",
    "        False,\n",
    "        False,\n",
    "        False,\n",
    "        True\n",
    "    ]\n",
    ")"
   ]
  },
  {
   "cell_type": "code",
   "execution_count": 26,
   "id": "5a027e0e",
   "metadata": {
    "execution": {
     "iopub.execute_input": "2021-11-08T15:42:05.845251Z",
     "iopub.status.busy": "2021-11-08T15:42:05.844389Z",
     "iopub.status.idle": "2021-11-08T15:42:06.664580Z",
     "shell.execute_reply": "2021-11-08T15:42:06.665186Z",
     "shell.execute_reply.started": "2021-11-08T15:41:07.598011Z"
    },
    "papermill": {
     "duration": 0.882977,
     "end_time": "2021-11-08T15:42:06.665390",
     "exception": false,
     "start_time": "2021-11-08T15:42:05.782413",
     "status": "completed"
    },
    "tags": []
   },
   "outputs": [
    {
     "data": {
      "image/png": "[encoded data removed]",
      "text/plain": [
       "<Figure size 864x504 with 5 Axes>"
      ]
     },
     "metadata": {
      "needs_background": "light"
     },
     "output_type": "display_data"
    }
   ],
   "source": [
    "figure, axs = plt.subplots(5, 1, sharex=True, figsize=(12,7))\n",
    "\n",
    "top10 = grouped_by_neighborhood.iloc[:10]\n",
    "for i, col in enumerate(cols):\n",
    "    axs[i].bar(top10.index, top10[col].values)\n",
    "    axs[i].set_ylabel(col)\n",
    "\n",
    "plt.xticks(rotation=90)\n",
    "figure.suptitle(\"Caracteristics per Neighborhood - 10 Least Expensive\")\n",
    "plt.show()"
   ]
  },
  {
   "cell_type": "markdown",
   "id": "be8a1a7d",
   "metadata": {
    "papermill": {
     "duration": 0.056441,
     "end_time": "2021-11-08T15:42:06.780641",
     "exception": false,
     "start_time": "2021-11-08T15:42:06.724200",
     "status": "completed"
    },
    "tags": []
   },
   "source": [
    "The previous plots suggests that most of the properties in cheaper neighborhood are similar in their characteristics. We can derive an important information with the visualization of `adm-fees` column. Since 6 out of 10 neighborhoods have a median value equal to zero, we mgith expect such places to have bigger numbers of apartments instead of houses (or condominium houses) in sale. Considering only condominium properties to have administrative costs."
   ]
  },
  {
   "cell_type": "markdown",
   "id": "d150e49e",
   "metadata": {
    "papermill": {
     "duration": 0.05964,
     "end_time": "2021-11-08T15:42:06.898213",
     "exception": false,
     "start_time": "2021-11-08T15:42:06.838573",
     "status": "completed"
    },
    "tags": []
   },
   "source": [
    "### What is the top 5 most expensive neighborhoods?"
   ]
  },
  {
   "cell_type": "code",
   "execution_count": 27,
   "id": "236e04b5",
   "metadata": {
    "execution": {
     "iopub.execute_input": "2021-11-08T15:42:07.023167Z",
     "iopub.status.busy": "2021-11-08T15:42:07.022401Z",
     "iopub.status.idle": "2021-11-08T15:42:07.819985Z",
     "shell.execute_reply": "2021-11-08T15:42:07.819307Z",
     "shell.execute_reply.started": "2021-11-08T15:41:08.292698Z"
    },
    "papermill": {
     "duration": 0.861623,
     "end_time": "2021-11-08T15:42:07.820150",
     "exception": false,
     "start_time": "2021-11-08T15:42:06.958527",
     "status": "completed"
    },
    "tags": []
   },
   "outputs": [
    {
     "data": {
      "image/png": "[encoded data removed]",
      "text/plain": [
       "<Figure size 864x504 with 5 Axes>"
      ]
     },
     "metadata": {
      "needs_background": "light"
     },
     "output_type": "display_data"
    }
   ],
   "source": [
    "figure, axs = plt.subplots(5, 1, sharex=True, figsize=(12,7))\n",
    "\n",
    "top10 = grouped_by_neighborhood.iloc[-10:]\n",
    "for i, col in enumerate(cols):\n",
    "    axs[i].bar(top10.index, top10[col].values)\n",
    "    axs[i].set_ylabel(col)\n",
    "\n",
    "plt.xticks(rotation=90)\n",
    "figure.suptitle(\"Caracteristics per Neighborhood - 10 Least Expensive\")\n",
    "plt.show()"
   ]
  },
  {
   "cell_type": "markdown",
   "id": "a6424a56",
   "metadata": {
    "papermill": {
     "duration": 0.060022,
     "end_time": "2021-11-08T15:42:07.943776",
     "exception": false,
     "start_time": "2021-11-08T15:42:07.883754",
     "status": "completed"
    },
    "tags": []
   },
   "source": [
    "In the most expensive places, on the other hand, we have a bit more differentiation. Differently, from the least expensive neighborhoods, here we have a predominance of houses instead of apartments, and no property with only one garage place.\n",
    "\n",
    "### What is the least expensive square meter?"
   ]
  },
  {
   "cell_type": "code",
   "execution_count": 28,
   "id": "bfe02784",
   "metadata": {
    "execution": {
     "iopub.execute_input": "2021-11-08T15:42:08.068404Z",
     "iopub.status.busy": "2021-11-08T15:42:08.067136Z",
     "iopub.status.idle": "2021-11-08T15:42:08.080301Z",
     "shell.execute_reply": "2021-11-08T15:42:08.080825Z",
     "shell.execute_reply.started": "2021-11-08T15:41:08.961678Z"
    },
    "papermill": {
     "duration": 0.077677,
     "end_time": "2021-11-08T15:42:08.081050",
     "exception": false,
     "start_time": "2021-11-08T15:42:08.003373",
     "status": "completed"
    },
    "tags": []
   },
   "outputs": [],
   "source": [
    "df_wo_outliers[\"price-m2\"] = df_wo_outliers[\"price\"] / df_wo_outliers[\"square-foot\"]\n",
    "grouped_m2_price = df_wo_outliers.groupby(\"neighborhood\").agg({\"price-m2\": \"mean\"}).sort_values(by=\"price-m2\")"
   ]
  },
  {
   "cell_type": "code",
   "execution_count": 29,
   "id": "540ca5cf",
   "metadata": {
    "execution": {
     "iopub.execute_input": "2021-11-08T15:42:08.215977Z",
     "iopub.status.busy": "2021-11-08T15:42:08.214879Z",
     "iopub.status.idle": "2021-11-08T15:42:08.858038Z",
     "shell.execute_reply": "2021-11-08T15:42:08.857427Z",
     "shell.execute_reply.started": "2021-11-08T15:41:08.972859Z"
    },
    "papermill": {
     "duration": 0.715415,
     "end_time": "2021-11-08T15:42:08.858225",
     "exception": false,
     "start_time": "2021-11-08T15:42:08.142810",
     "status": "completed"
    },
    "tags": []
   },
   "outputs": [
    {
     "data": {
      "image/png": "[encoded data removed]",
      "text/plain": [
       "<Figure size 432x288 with 1 Axes>"
      ]
     },
     "metadata": {
      "needs_background": "light"
     },
     "output_type": "display_data"
    }
   ],
   "source": [
    "plt.barh(grouped_m2_price[:10].index, grouped_m2_price[:10].values.reshape(-1))\n",
    "plt.title(\"Least Expensive Square Meter - Belo Horizonte\")\n",
    "plt.xlabel(\"Price - $m^2$\")\n",
    "plt.ylabel(\"Neighborhood\")\n",
    "plt.show()"
   ]
  },
  {
   "cell_type": "markdown",
   "id": "eaad1c96",
   "metadata": {
    "papermill": {
     "duration": 0.061493,
     "end_time": "2021-11-08T15:42:08.980910",
     "exception": false,
     "start_time": "2021-11-08T15:42:08.919417",
     "status": "completed"
    },
    "tags": []
   },
   "source": [
    "### What is the most expensive square meter?"
   ]
  },
  {
   "cell_type": "code",
   "execution_count": 30,
   "id": "f07a41c6",
   "metadata": {
    "execution": {
     "iopub.execute_input": "2021-11-08T15:42:09.126515Z",
     "iopub.status.busy": "2021-11-08T15:42:09.125741Z",
     "iopub.status.idle": "2021-11-08T15:42:09.392737Z",
     "shell.execute_reply": "2021-11-08T15:42:09.391989Z",
     "shell.execute_reply.started": "2021-11-08T15:41:09.215764Z"
    },
    "papermill": {
     "duration": 0.351713,
     "end_time": "2021-11-08T15:42:09.392978",
     "exception": false,
     "start_time": "2021-11-08T15:42:09.041265",
     "status": "completed"
    },
    "tags": []
   },
   "outputs": [
    {
     "data": {
      "image/png": "[encoded data removed]",
      "text/plain": [
       "<Figure size 432x288 with 1 Axes>"
      ]
     },
     "metadata": {
      "needs_background": "light"
     },
     "output_type": "display_data"
    }
   ],
   "source": [
    "plt.barh(grouped_m2_price[-10:].index, grouped_m2_price[-10:].values.reshape(-1))\n",
    "plt.title(\"Most Expensive Square Meter - Belo Horizonte\")\n",
    "plt.xlabel(\"Price - $m^2$\")\n",
    "plt.ylabel(\"Neighborhood\")\n",
    "plt.show()"
   ]
  },
  {
   "cell_type": "markdown",
   "id": "9faf0c4c",
   "metadata": {
    "papermill": {
     "duration": 0.059123,
     "end_time": "2021-11-08T15:42:09.513764",
     "exception": false,
     "start_time": "2021-11-08T15:42:09.454641",
     "status": "completed"
    },
    "tags": []
   },
   "source": [
    "### What is the average price per property type (House or Apartment)?"
   ]
  },
  {
   "cell_type": "code",
   "execution_count": 31,
   "id": "3e6f638f",
   "metadata": {
    "execution": {
     "iopub.execute_input": "2021-11-08T15:42:09.645043Z",
     "iopub.status.busy": "2021-11-08T15:42:09.644285Z",
     "iopub.status.idle": "2021-11-08T15:42:09.648638Z",
     "shell.execute_reply": "2021-11-08T15:42:09.649294Z",
     "shell.execute_reply.started": "2021-11-08T15:41:09.466856Z"
    },
    "papermill": {
     "duration": 0.0717,
     "end_time": "2021-11-08T15:42:09.649511",
     "exception": false,
     "start_time": "2021-11-08T15:42:09.577811",
     "status": "completed"
    },
    "tags": []
   },
   "outputs": [],
   "source": [
    "df_wo_outliers[\"property-type\"] = \"Apartment\"\n",
    "df_wo_outliers.loc[df_wo_outliers[\"adm-fees\"] == 0, \"property-type\"] = \"House\""
   ]
  },
  {
   "cell_type": "code",
   "execution_count": 32,
   "id": "6d4ec23f",
   "metadata": {
    "execution": {
     "iopub.execute_input": "2021-11-08T15:42:09.779158Z",
     "iopub.status.busy": "2021-11-08T15:42:09.778098Z",
     "iopub.status.idle": "2021-11-08T15:42:09.784124Z",
     "shell.execute_reply": "2021-11-08T15:42:09.784725Z",
     "shell.execute_reply.started": "2021-11-08T15:41:09.475113Z"
    },
    "papermill": {
     "duration": 0.074103,
     "end_time": "2021-11-08T15:42:09.784988",
     "exception": false,
     "start_time": "2021-11-08T15:42:09.710885",
     "status": "completed"
    },
    "tags": []
   },
   "outputs": [
    {
     "data": {
      "text/plain": [
       "property-type\n",
       "Apartment    6906.140700\n",
       "House        6712.421233\n",
       "Name: price-m2, dtype: float64"
      ]
     },
     "execution_count": 32,
     "metadata": {},
     "output_type": "execute_result"
    }
   ],
   "source": [
    "df_wo_outliers.groupby(\"property-type\")[\"price-m2\"].mean()"
   ]
  },
  {
   "cell_type": "markdown",
   "id": "153256dc",
   "metadata": {
    "papermill": {
     "duration": 0.063555,
     "end_time": "2021-11-08T15:42:09.910737",
     "exception": false,
     "start_time": "2021-11-08T15:42:09.847182",
     "status": "completed"
    },
    "tags": []
   },
   "source": [
    "Interestingly, it seems that the square meter price for apartments is more expensive than for houses."
   ]
  },
  {
   "cell_type": "code",
   "execution_count": 33,
   "id": "4ff15581",
   "metadata": {
    "execution": {
     "iopub.execute_input": "2021-11-08T15:42:10.042419Z",
     "iopub.status.busy": "2021-11-08T15:42:10.041288Z",
     "iopub.status.idle": "2021-11-08T15:42:10.050708Z",
     "shell.execute_reply": "2021-11-08T15:42:10.049596Z",
     "shell.execute_reply.started": "2021-11-08T15:41:09.491085Z"
    },
    "papermill": {
     "duration": 0.078793,
     "end_time": "2021-11-08T15:42:10.050906",
     "exception": false,
     "start_time": "2021-11-08T15:42:09.972113",
     "status": "completed"
    },
    "tags": []
   },
   "outputs": [
    {
     "data": {
      "text/plain": [
       "property-type\n",
       "Apartment    843576.577117\n",
       "House        972567.045914\n",
       "Name: price, dtype: float64"
      ]
     },
     "execution_count": 33,
     "metadata": {},
     "output_type": "execute_result"
    }
   ],
   "source": [
    "df_wo_outliers.groupby(\"property-type\")[\"price\"].mean()"
   ]
  },
  {
   "cell_type": "markdown",
   "id": "5968f83a",
   "metadata": {
    "papermill": {
     "duration": 0.060038,
     "end_time": "2021-11-08T15:42:10.173020",
     "exception": false,
     "start_time": "2021-11-08T15:42:10.112982",
     "status": "completed"
    },
    "tags": []
   },
   "source": [
    "Nonetheless, the average price for house properties is bigger."
   ]
  },
  {
   "cell_type": "markdown",
   "id": "cebac9db",
   "metadata": {
    "papermill": {
     "duration": 0.066323,
     "end_time": "2021-11-08T15:42:10.301055",
     "exception": false,
     "start_time": "2021-11-08T15:42:10.234732",
     "status": "completed"
    },
    "tags": []
   },
   "source": [
    "### Directed Analysis\n",
    "\n",
    "Now lets just take a quick look at the records and see what is the greatest properties according to some specific characteristics"
   ]
  },
  {
   "cell_type": "code",
   "execution_count": 34,
   "id": "466ad91d",
   "metadata": {
    "execution": {
     "iopub.execute_input": "2021-11-08T15:42:10.434202Z",
     "iopub.status.busy": "2021-11-08T15:42:10.433444Z",
     "iopub.status.idle": "2021-11-08T15:42:10.435554Z",
     "shell.execute_reply": "2021-11-08T15:42:10.436251Z",
     "shell.execute_reply.started": "2021-11-08T15:41:09.503705Z"
    },
    "papermill": {
     "duration": 0.073537,
     "end_time": "2021-11-08T15:42:10.436439",
     "exception": false,
     "start_time": "2021-11-08T15:42:10.362902",
     "status": "completed"
    },
    "tags": []
   },
   "outputs": [],
   "source": [
    "n_rooms = 3\n",
    "n_garage_places = 2"
   ]
  },
  {
   "cell_type": "code",
   "execution_count": 35,
   "id": "1965d112",
   "metadata": {
    "execution": {
     "iopub.execute_input": "2021-11-08T15:42:10.563280Z",
     "iopub.status.busy": "2021-11-08T15:42:10.562161Z",
     "iopub.status.idle": "2021-11-08T15:42:10.570182Z",
     "shell.execute_reply": "2021-11-08T15:42:10.569570Z",
     "shell.execute_reply.started": "2021-11-08T15:41:09.511571Z"
    },
    "papermill": {
     "duration": 0.071785,
     "end_time": "2021-11-08T15:42:10.570346",
     "exception": false,
     "start_time": "2021-11-08T15:42:10.498561",
     "status": "completed"
    },
    "tags": []
   },
   "outputs": [],
   "source": [
    "df_wo_outliers = df_wo_outliers[\n",
    "    (df_wo_outliers[\"rooms\"] >= n_rooms)\n",
    "    & (df_wo_outliers[\"garage-places\"] >= n_garage_places)\n",
    "]"
   ]
  },
  {
   "cell_type": "code",
   "execution_count": 36,
   "id": "850db40f",
   "metadata": {
    "execution": {
     "iopub.execute_input": "2021-11-08T15:42:10.701796Z",
     "iopub.status.busy": "2021-11-08T15:42:10.700772Z",
     "iopub.status.idle": "2021-11-08T15:42:10.706244Z",
     "shell.execute_reply": "2021-11-08T15:42:10.705596Z",
     "shell.execute_reply.started": "2021-11-08T15:41:09.526131Z"
    },
    "papermill": {
     "duration": 0.076833,
     "end_time": "2021-11-08T15:42:10.706419",
     "exception": false,
     "start_time": "2021-11-08T15:42:10.629586",
     "status": "completed"
    },
    "tags": []
   },
   "outputs": [],
   "source": [
    "min_price = 250000\n",
    "max_price = 420000\n",
    "\n",
    "df_ap = df_wo_outliers[\n",
    "    (df_wo_outliers[\"property-type\"] == \"Apartment\")\n",
    "    & (df_wo_outliers[\"price\"].between(min_price, max_price))\n",
    "]\n",
    "df_ap = df_ap.sort_values(by=[\"square-foot\", \"price\"], ascending=[False, True]).iloc[:10]"
   ]
  },
  {
   "cell_type": "markdown",
   "id": "aa646aa3",
   "metadata": {
    "papermill": {
     "duration": 0.061312,
     "end_time": "2021-11-08T15:42:10.830524",
     "exception": false,
     "start_time": "2021-11-08T15:42:10.769212",
     "status": "completed"
    },
    "tags": []
   },
   "source": [
    "A geographic visualization of the top 10 greatest apartments in terms of square footage and price\n",
    "\n",
    "**NOTE: by clicking on the pins we are able to see more informations about the property beeing analyzed**"
   ]
  },
  {
   "cell_type": "code",
   "execution_count": 37,
   "id": "c63c360f",
   "metadata": {
    "execution": {
     "iopub.execute_input": "2021-11-08T15:42:10.962072Z",
     "iopub.status.busy": "2021-11-08T15:42:10.961258Z",
     "iopub.status.idle": "2021-11-08T15:42:11.007298Z",
     "shell.execute_reply": "2021-11-08T15:42:11.007904Z",
     "shell.execute_reply.started": "2021-11-08T15:41:09.539658Z"
    },
    "papermill": {
     "duration": 0.114831,
     "end_time": "2021-11-08T15:42:11.008097",
     "exception": false,
     "start_time": "2021-11-08T15:42:10.893266",
     "status": "completed"
    },
    "tags": []
   },
   "outputs": [
    {
     "data": {
      "text/html": [
       "<div style=\"width:100%;\"><div style=\"position:relative;width:100%;height:0;padding-bottom:60%;\"><span style=\"color:#565656\">Make this Notebook Trusted to load map: File -> Trust Notebook</span><iframe src=\"about:blank\" style=\"position:absolute;width:100%;height:100%;left:0;top:0;border:none !important;\" data-html=%3C%21DOCTYPE%20html%3E%0A%3Chead%3E%20%20%20%20%0A%20%20%20%20%3Cmeta%20http-equiv%3D%22content-type%22%20content%3D%22text/html%3B%20charset%3DUTF-8%22%20/%3E%0A%20%20%20%20%0A%20%20%20%20%20%20%20%20%3Cscript%3E%0A%20%20%20%20%20%20%20%20%20%20%20%20L_NO_TOUCH%20%3D%20false%3B%0A%20%20%20%20%20%20%20%20%20%20%20%20L_DISABLE_3D%20%3D%20false%3B%0A%20%20%20%20%20%20%20%20%3C/script%3E%0A%20%20%20%20%0A%20%20%20%20%3Cstyle%3Ehtml%2C%20body%20%7Bwidth%3A%20100%25%3Bheight%3A%20100%25%3Bmargin%3A%200%3Bpadding%3A%200%3B%7D%3C/style%3E%0A%20%20%20%20%3Cstyle%3E%23map%20%7Bposition%3Aabsolute%3Btop%3A0%3Bbottom%3A0%3Bright%3A0%3Bleft%3A0%3B%7D%3C/style%3E%0A%20%20%20%20%3Cscript%20src%3D%22https%3A//cdn.jsdelivr.net/npm/leaflet%401.6.0/dist/leaflet.js%22%3E%3C/script%3E%0A%20%20%20%20%3Cscript%20src%3D%22https%3A//code.jquery.com/jquery-1.12.4.min.js%22%3E%3C/script%3E%0A%20%20%20%20%3Cscript%20src%3D%22https%3A//maxcdn.bootstrapcdn.com/bootstrap/3.2.0/js/bootstrap.min.js%22%3E%3C/script%3E%0A%20%20%20%20%3Cscript%20src%3D%22https%3A//cdnjs.cloudflare.com/ajax/libs/Leaflet.awesome-markers/2.0.2/leaflet.awesome-markers.js%22%3E%3C/script%3E%0A%20%20%20%20%3Clink%20rel%3D%22stylesheet%22%20href%3D%22https%3A//cdn.jsdelivr.net/npm/leaflet%401.6.0/dist/leaflet.css%22/%3E%0A%20%20%20%20%3Clink%20rel%3D%22stylesheet%22%20href%3D%22https%3A//maxcdn.bootstrapcdn.com/bootstrap/3.2.0/css/bootstrap.min.css%22/%3E%0A%20%20%20%20%3Clink%20rel%3D%22stylesheet%22%20href%3D%22https%3A//maxcdn.bootstrapcdn.com/bootstrap/3.2.0/css/bootstrap-theme.min.css%22/%3E%0A%20%20%20%20%3Clink%20rel%3D%22stylesheet%22%20href%3D%22https%3A//maxcdn.bootstrapcdn.com/font-awesome/4.6.3/css/font-awesome.min.css%22/%3E%0A%20%20%20%20%3Clink%20rel%3D%22stylesheet%22%20href%3D%22https%3A//cdnjs.cloudflare.com/ajax/libs/Leaflet.awesome-markers/2.0.2/leaflet.awesome-markers.css%22/%3E%0A%20%20%20%20%3Clink%20rel%3D%22stylesheet%22%20href%3D%22https%3A//cdn.jsdelivr.net/gh/python-visualization/folium/folium/templates/leaflet.awesome.rotate.min.css%22/%3E%0A%20%20%20%20%0A%20%20%20%20%20%20%20%20%20%20%20%20%3Cmeta%20name%3D%22viewport%22%20content%3D%22width%3Ddevice-width%2C%0A%20%20%20%20%20%20%20%20%20%20%20%20%20%20%20%20initial-scale%3D1.0%2C%20maximum-scale%3D1.0%2C%20user-scalable%3Dno%22%20/%3E%0A%20%20%20%20%20%20%20%20%20%20%20%20%3Cstyle%3E%0A%20%20%20%20%20%20%20%20%20%20%20%20%20%20%20%20%23map_2e7fdc8b3bf74297b0c2e57f64d0436e%20%7B%0A%20%20%20%20%20%20%20%20%20%20%20%20%20%20%20%20%20%20%20%20position%3A%20relative%3B%0A%20%20%20%20%20%20%20%20%20%20%20%20%20%20%20%20%20%20%20%20width%3A%20100.0%25%3B%0A%20%20%20%20%20%20%20%20%20%20%20%20%20%20%20%20%20%20%20%20height%3A%20100.0%25%3B%0A%20%20%20%20%20%20%20%20%20%20%20%20%20%20%20%20%20%20%20%20left%3A%200.0%25%3B%0A%20%20%20%20%20%20%20%20%20%20%20%20%20%20%20%20%20%20%20%20top%3A%200.0%25%3B%0A%20%20%20%20%20%20%20%20%20%20%20%20%20%20%20%20%7D%0A%20%20%20%20%20%20%20%20%20%20%20%20%3C/style%3E%0A%20%20%20%20%20%20%20%20%0A%3C/head%3E%0A%3Cbody%3E%20%20%20%20%0A%20%20%20%20%0A%20%20%20%20%20%20%20%20%20%20%20%20%3Cdiv%20class%3D%22folium-map%22%20id%3D%22map_2e7fdc8b3bf74297b0c2e57f64d0436e%22%20%3E%3C/div%3E%0A%20%20%20%20%20%20%20%20%0A%3C/body%3E%0A%3Cscript%3E%20%20%20%20%0A%20%20%20%20%0A%20%20%20%20%20%20%20%20%20%20%20%20var%20map_2e7fdc8b3bf74297b0c2e57f64d0436e%20%3D%20L.map%28%0A%20%20%20%20%20%20%20%20%20%20%20%20%20%20%20%20%22map_2e7fdc8b3bf74297b0c2e57f64d0436e%22%2C%0A%20%20%20%20%20%20%20%20%20%20%20%20%20%20%20%20%7B%0A%20%20%20%20%20%20%20%20%20%20%20%20%20%20%20%20%20%20%20%20center%3A%20%5B-19.913948065929585%2C%20-43.951483374892256%5D%2C%0A%20%20%20%20%20%20%20%20%20%20%20%20%20%20%20%20%20%20%20%20crs%3A%20L.CRS.EPSG3857%2C%0A%20%20%20%20%20%20%20%20%20%20%20%20%20%20%20%20%20%20%20%20zoom%3A%2011%2C%0A%20%20%20%20%20%20%20%20%20%20%20%20%20%20%20%20%20%20%20%20zoomControl%3A%20true%2C%0A%20%20%20%20%20%20%20%20%20%20%20%20%20%20%20%20%20%20%20%20preferCanvas%3A%20false%2C%0A%20%20%20%20%20%20%20%20%20%20%20%20%20%20%20%20%7D%0A%20%20%20%20%20%20%20%20%20%20%20%20%29%3B%0A%0A%20%20%20%20%20%20%20%20%20%20%20%20%0A%0A%20%20%20%20%20%20%20%20%0A%20%20%20%20%0A%20%20%20%20%20%20%20%20%20%20%20%20var%20tile_layer_95bc9d74cb4f489cbdc0e7aea589a4d8%20%3D%20L.tileLayer%28%0A%20%20%20%20%20%20%20%20%20%20%20%20%20%20%20%20%22https%3A//%7Bs%7D.tile.openstreetmap.org/%7Bz%7D/%7Bx%7D/%7By%7D.png%22%2C%0A%20%20%20%20%20%20%20%20%20%20%20%20%20%20%20%20%7B%22attribution%22%3A%20%22Data%20by%20%5Cu0026copy%3B%20%5Cu003ca%20href%3D%5C%22http%3A//openstreetmap.org%5C%22%5Cu003eOpenStreetMap%5Cu003c/a%5Cu003e%2C%20under%20%5Cu003ca%20href%3D%5C%22http%3A//www.openstreetmap.org/copyright%5C%22%5Cu003eODbL%5Cu003c/a%5Cu003e.%22%2C%20%22detectRetina%22%3A%20false%2C%20%22maxNativeZoom%22%3A%2018%2C%20%22maxZoom%22%3A%2018%2C%20%22minZoom%22%3A%200%2C%20%22noWrap%22%3A%20false%2C%20%22opacity%22%3A%201%2C%20%22subdomains%22%3A%20%22abc%22%2C%20%22tms%22%3A%20false%7D%0A%20%20%20%20%20%20%20%20%20%20%20%20%29.addTo%28map_2e7fdc8b3bf74297b0c2e57f64d0436e%29%3B%0A%20%20%20%20%20%20%20%20%0A%20%20%20%20%0A%20%20%20%20%20%20%20%20%20%20%20%20var%20marker_1a48d67a083e43c59ef945fe6c56f521%20%3D%20L.marker%28%0A%20%20%20%20%20%20%20%20%20%20%20%20%20%20%20%20%5B-19.8175291%2C%20-43.9740618%5D%2C%0A%20%20%20%20%20%20%20%20%20%20%20%20%20%20%20%20%7B%7D%0A%20%20%20%20%20%20%20%20%20%20%20%20%29.addTo%28map_2e7fdc8b3bf74297b0c2e57f64d0436e%29%3B%0A%20%20%20%20%20%20%20%20%0A%20%20%20%20%0A%20%20%20%20%20%20%20%20var%20popup_333472c93ccd46d881bc9fef7b4d8a49%20%3D%20L.popup%28%7B%22maxWidth%22%3A%20%22100%25%22%7D%29%3B%0A%0A%20%20%20%20%20%20%20%20%0A%20%20%20%20%20%20%20%20%20%20%20%20var%20html_d0ca4015bff54680a28f32cedca815bc%20%3D%20%24%28%60%3Cdiv%20id%3D%22html_d0ca4015bff54680a28f32cedca815bc%22%20style%3D%22width%3A%20100.0%25%3B%20height%3A%20100.0%25%3B%22%3E%20n_rooms%3A%203%20%20price%3A%20315000.0%20%20neighborhood%3A%20%20Santa%20M%C3%B4nica%3C/div%3E%60%29%5B0%5D%3B%0A%20%20%20%20%20%20%20%20%20%20%20%20popup_333472c93ccd46d881bc9fef7b4d8a49.setContent%28html_d0ca4015bff54680a28f32cedca815bc%29%3B%0A%20%20%20%20%20%20%20%20%0A%0A%20%20%20%20%20%20%20%20marker_1a48d67a083e43c59ef945fe6c56f521.bindPopup%28popup_333472c93ccd46d881bc9fef7b4d8a49%29%0A%20%20%20%20%20%20%20%20%3B%0A%0A%20%20%20%20%20%20%20%20%0A%20%20%20%20%0A%20%20%20%20%0A%20%20%20%20%20%20%20%20%20%20%20%20var%20marker_381706b879fb460ab0c97db5d6c135ed%20%3D%20L.marker%28%0A%20%20%20%20%20%20%20%20%20%20%20%20%20%20%20%20%5B-19.9671697%2C%20-43.9701124%5D%2C%0A%20%20%20%20%20%20%20%20%20%20%20%20%20%20%20%20%7B%7D%0A%20%20%20%20%20%20%20%20%20%20%20%20%29.addTo%28map_2e7fdc8b3bf74297b0c2e57f64d0436e%29%3B%0A%20%20%20%20%20%20%20%20%0A%20%20%20%20%0A%20%20%20%20%20%20%20%20var%20popup_65f97279d24e45878a892dfbc3b321af%20%3D%20L.popup%28%7B%22maxWidth%22%3A%20%22100%25%22%7D%29%3B%0A%0A%20%20%20%20%20%20%20%20%0A%20%20%20%20%20%20%20%20%20%20%20%20var%20html_2ac08fa39dff4935b3ca50532a7f1e19%20%3D%20%24%28%60%3Cdiv%20id%3D%22html_2ac08fa39dff4935b3ca50532a7f1e19%22%20style%3D%22width%3A%20100.0%25%3B%20height%3A%20100.0%25%3B%22%3E%20n_rooms%3A%203%20%20price%3A%20420000.0%20%20neighborhood%3A%20%20Buritis%3C/div%3E%60%29%5B0%5D%3B%0A%20%20%20%20%20%20%20%20%20%20%20%20popup_65f97279d24e45878a892dfbc3b321af.setContent%28html_2ac08fa39dff4935b3ca50532a7f1e19%29%3B%0A%20%20%20%20%20%20%20%20%0A%0A%20%20%20%20%20%20%20%20marker_381706b879fb460ab0c97db5d6c135ed.bindPopup%28popup_65f97279d24e45878a892dfbc3b321af%29%0A%20%20%20%20%20%20%20%20%3B%0A%0A%20%20%20%20%20%20%20%20%0A%20%20%20%20%0A%20%20%20%20%0A%20%20%20%20%20%20%20%20%20%20%20%20var%20marker_e617a1845064441299322211b5ff137b%20%3D%20L.marker%28%0A%20%20%20%20%20%20%20%20%20%20%20%20%20%20%20%20%5B-19.9300689%2C%20-43.9139527%5D%2C%0A%20%20%20%20%20%20%20%20%20%20%20%20%20%20%20%20%7B%7D%0A%20%20%20%20%20%20%20%20%20%20%20%20%29.addTo%28map_2e7fdc8b3bf74297b0c2e57f64d0436e%29%3B%0A%20%20%20%20%20%20%20%20%0A%20%20%20%20%0A%20%20%20%20%20%20%20%20var%20popup_13cf53e4540b43808f75de3829b292dd%20%3D%20L.popup%28%7B%22maxWidth%22%3A%20%22100%25%22%7D%29%3B%0A%0A%20%20%20%20%20%20%20%20%0A%20%20%20%20%20%20%20%20%20%20%20%20var%20html_8f2f008d19fd42cb822859a77b789adf%20%3D%20%24%28%60%3Cdiv%20id%3D%22html_8f2f008d19fd42cb822859a77b789adf%22%20style%3D%22width%3A%20100.0%25%3B%20height%3A%20100.0%25%3B%22%3E%20n_rooms%3A%203%20%20price%3A%20420000.0%20%20neighborhood%3A%20%20S%C3%A3o%20Lucas%3C/div%3E%60%29%5B0%5D%3B%0A%20%20%20%20%20%20%20%20%20%20%20%20popup_13cf53e4540b43808f75de3829b292dd.setContent%28html_8f2f008d19fd42cb822859a77b789adf%29%3B%0A%20%20%20%20%20%20%20%20%0A%0A%20%20%20%20%20%20%20%20marker_e617a1845064441299322211b5ff137b.bindPopup%28popup_13cf53e4540b43808f75de3829b292dd%29%0A%20%20%20%20%20%20%20%20%3B%0A%0A%20%20%20%20%20%20%20%20%0A%20%20%20%20%0A%20%20%20%20%0A%20%20%20%20%20%20%20%20%20%20%20%20var%20marker_c55faffb25654bb58c9d00ef6b6fd613%20%3D%20L.marker%28%0A%20%20%20%20%20%20%20%20%20%20%20%20%20%20%20%20%5B-19.8480305%2C%20-43.9821722%5D%2C%0A%20%20%20%20%20%20%20%20%20%20%20%20%20%20%20%20%7B%7D%0A%20%20%20%20%20%20%20%20%20%20%20%20%29.addTo%28map_2e7fdc8b3bf74297b0c2e57f64d0436e%29%3B%0A%20%20%20%20%20%20%20%20%0A%20%20%20%20%0A%20%20%20%20%20%20%20%20var%20popup_cbde79f0ffe64d14a136fbc843139f2a%20%3D%20L.popup%28%7B%22maxWidth%22%3A%20%22100%25%22%7D%29%3B%0A%0A%20%20%20%20%20%20%20%20%0A%20%20%20%20%20%20%20%20%20%20%20%20var%20html_e66c173af16f4a17a2808fa35a5df425%20%3D%20%24%28%60%3Cdiv%20id%3D%22html_e66c173af16f4a17a2808fa35a5df425%22%20style%3D%22width%3A%20100.0%25%3B%20height%3A%20100.0%25%3B%22%3E%20n_rooms%3A%203%20%20price%3A%20350000.0%20%20neighborhood%3A%20%20Santa%20Am%C3%A9lia%3C/div%3E%60%29%5B0%5D%3B%0A%20%20%20%20%20%20%20%20%20%20%20%20popup_cbde79f0ffe64d14a136fbc843139f2a.setContent%28html_e66c173af16f4a17a2808fa35a5df425%29%3B%0A%20%20%20%20%20%20%20%20%0A%0A%20%20%20%20%20%20%20%20marker_c55faffb25654bb58c9d00ef6b6fd613.bindPopup%28popup_cbde79f0ffe64d14a136fbc843139f2a%29%0A%20%20%20%20%20%20%20%20%3B%0A%0A%20%20%20%20%20%20%20%20%0A%20%20%20%20%0A%20%20%20%20%0A%20%20%20%20%20%20%20%20%20%20%20%20var%20marker_577bebd418214e43817a09fd257cf0fd%20%3D%20L.marker%28%0A%20%20%20%20%20%20%20%20%20%20%20%20%20%20%20%20%5B-19.8018933%2C%20-43.993773%5D%2C%0A%20%20%20%20%20%20%20%20%20%20%20%20%20%20%20%20%7B%7D%0A%20%20%20%20%20%20%20%20%20%20%20%20%29.addTo%28map_2e7fdc8b3bf74297b0c2e57f64d0436e%29%3B%0A%20%20%20%20%20%20%20%20%0A%20%20%20%20%0A%20%20%20%20%20%20%20%20var%20popup_06e04ecb24b94772a6925f89d913bf4c%20%3D%20L.popup%28%7B%22maxWidth%22%3A%20%22100%25%22%7D%29%3B%0A%0A%20%20%20%20%20%20%20%20%0A%20%20%20%20%20%20%20%20%20%20%20%20var%20html_dabba96d85da47a7a56bf167d8873f63%20%3D%20%24%28%60%3Cdiv%20id%3D%22html_dabba96d85da47a7a56bf167d8873f63%22%20style%3D%22width%3A%20100.0%25%3B%20height%3A%20100.0%25%3B%22%3E%20n_rooms%3A%203%20%20price%3A%20380000.0%20%20neighborhood%3A%20%20Maria%20Helena%3C/div%3E%60%29%5B0%5D%3B%0A%20%20%20%20%20%20%20%20%20%20%20%20popup_06e04ecb24b94772a6925f89d913bf4c.setContent%28html_dabba96d85da47a7a56bf167d8873f63%29%3B%0A%20%20%20%20%20%20%20%20%0A%0A%20%20%20%20%20%20%20%20marker_577bebd418214e43817a09fd257cf0fd.bindPopup%28popup_06e04ecb24b94772a6925f89d913bf4c%29%0A%20%20%20%20%20%20%20%20%3B%0A%0A%20%20%20%20%20%20%20%20%0A%20%20%20%20%0A%20%20%20%20%0A%20%20%20%20%20%20%20%20%20%20%20%20var%20marker_012617565cd54777b31403508e3098c8%20%3D%20L.marker%28%0A%20%20%20%20%20%20%20%20%20%20%20%20%20%20%20%20%5B-19.9625737%2C%20-43.9514043%5D%2C%0A%20%20%20%20%20%20%20%20%20%20%20%20%20%20%20%20%7B%7D%0A%20%20%20%20%20%20%20%20%20%20%20%20%29.addTo%28map_2e7fdc8b3bf74297b0c2e57f64d0436e%29%3B%0A%20%20%20%20%20%20%20%20%0A%20%20%20%20%0A%20%20%20%20%20%20%20%20var%20popup_06a9ff9cdf0a4c45a1fefdf650a2c3eb%20%3D%20L.popup%28%7B%22maxWidth%22%3A%20%22100%25%22%7D%29%3B%0A%0A%20%20%20%20%20%20%20%20%0A%20%20%20%20%20%20%20%20%20%20%20%20var%20html_8647ca4c963941ff90af2828aa3dfdf0%20%3D%20%24%28%60%3Cdiv%20id%3D%22html_8647ca4c963941ff90af2828aa3dfdf0%22%20style%3D%22width%3A%20100.0%25%3B%20height%3A%20100.0%25%3B%22%3E%20n_rooms%3A%203%20%20price%3A%20400000.0%20%20neighborhood%3A%20%20Copacabana%3C/div%3E%60%29%5B0%5D%3B%0A%20%20%20%20%20%20%20%20%20%20%20%20popup_06a9ff9cdf0a4c45a1fefdf650a2c3eb.setContent%28html_8647ca4c963941ff90af2828aa3dfdf0%29%3B%0A%20%20%20%20%20%20%20%20%0A%0A%20%20%20%20%20%20%20%20marker_012617565cd54777b31403508e3098c8.bindPopup%28popup_06a9ff9cdf0a4c45a1fefdf650a2c3eb%29%0A%20%20%20%20%20%20%20%20%3B%0A%0A%20%20%20%20%20%20%20%20%0A%20%20%20%20%0A%20%20%20%20%0A%20%20%20%20%20%20%20%20%20%20%20%20var%20marker_4711ca58d475449a89e34290a76500f7%20%3D%20L.marker%28%0A%20%20%20%20%20%20%20%20%20%20%20%20%20%20%20%20%5B-19.9701337%2C%20-43.972571%5D%2C%0A%20%20%20%20%20%20%20%20%20%20%20%20%20%20%20%20%7B%7D%0A%20%20%20%20%20%20%20%20%20%20%20%20%29.addTo%28map_2e7fdc8b3bf74297b0c2e57f64d0436e%29%3B%0A%20%20%20%20%20%20%20%20%0A%20%20%20%20%0A%20%20%20%20%20%20%20%20var%20popup_176ece4cd4854fe1a103dbe4c0151258%20%3D%20L.popup%28%7B%22maxWidth%22%3A%20%22100%25%22%7D%29%3B%0A%0A%20%20%20%20%20%20%20%20%0A%20%20%20%20%20%20%20%20%20%20%20%20var%20html_1cea7c59bee246f7813fa229e91be739%20%3D%20%24%28%60%3Cdiv%20id%3D%22html_1cea7c59bee246f7813fa229e91be739%22%20style%3D%22width%3A%20100.0%25%3B%20height%3A%20100.0%25%3B%22%3E%20n_rooms%3A%204%20%20price%3A%20400000.0%20%20neighborhood%3A%20%20Buritis%3C/div%3E%60%29%5B0%5D%3B%0A%20%20%20%20%20%20%20%20%20%20%20%20popup_176ece4cd4854fe1a103dbe4c0151258.setContent%28html_1cea7c59bee246f7813fa229e91be739%29%3B%0A%20%20%20%20%20%20%20%20%0A%0A%20%20%20%20%20%20%20%20marker_4711ca58d475449a89e34290a76500f7.bindPopup%28popup_176ece4cd4854fe1a103dbe4c0151258%29%0A%20%20%20%20%20%20%20%20%3B%0A%0A%20%20%20%20%20%20%20%20%0A%20%20%20%20%0A%20%20%20%20%0A%20%20%20%20%20%20%20%20%20%20%20%20var%20marker_452edf77813047e5b46cb4938c550016%20%3D%20L.marker%28%0A%20%20%20%20%20%20%20%20%20%20%20%20%20%20%20%20%5B-19.889068%2C%20-44.0008325%5D%2C%0A%20%20%20%20%20%20%20%20%20%20%20%20%20%20%20%20%7B%7D%0A%20%20%20%20%20%20%20%20%20%20%20%20%29.addTo%28map_2e7fdc8b3bf74297b0c2e57f64d0436e%29%3B%0A%20%20%20%20%20%20%20%20%0A%20%20%20%20%0A%20%20%20%20%20%20%20%20var%20popup_e1b3e6f1f4214965bfc79cec81ff2432%20%3D%20L.popup%28%7B%22maxWidth%22%3A%20%22100%25%22%7D%29%3B%0A%0A%20%20%20%20%20%20%20%20%0A%20%20%20%20%20%20%20%20%20%20%20%20var%20html_ad09d480ad564bf19872d28fa8c7cb40%20%3D%20%24%28%60%3Cdiv%20id%3D%22html_ad09d480ad564bf19872d28fa8c7cb40%22%20style%3D%22width%3A%20100.0%25%3B%20height%3A%20100.0%25%3B%22%3E%20n_rooms%3A%203%20%20price%3A%20365000.0%20%20neighborhood%3A%20%20Castelo%3C/div%3E%60%29%5B0%5D%3B%0A%20%20%20%20%20%20%20%20%20%20%20%20popup_e1b3e6f1f4214965bfc79cec81ff2432.setContent%28html_ad09d480ad564bf19872d28fa8c7cb40%29%3B%0A%20%20%20%20%20%20%20%20%0A%0A%20%20%20%20%20%20%20%20marker_452edf77813047e5b46cb4938c550016.bindPopup%28popup_e1b3e6f1f4214965bfc79cec81ff2432%29%0A%20%20%20%20%20%20%20%20%3B%0A%0A%20%20%20%20%20%20%20%20%0A%20%20%20%20%0A%20%20%20%20%0A%20%20%20%20%20%20%20%20%20%20%20%20var%20marker_0a264189390e4408a16487920610c27d%20%3D%20L.marker%28%0A%20%20%20%20%20%20%20%20%20%20%20%20%20%20%20%20%5B-19.8050214%2C%20-43.975971%5D%2C%0A%20%20%20%20%20%20%20%20%20%20%20%20%20%20%20%20%7B%7D%0A%20%20%20%20%20%20%20%20%20%20%20%20%29.addTo%28map_2e7fdc8b3bf74297b0c2e57f64d0436e%29%3B%0A%20%20%20%20%20%20%20%20%0A%20%20%20%20%0A%20%20%20%20%20%20%20%20var%20popup_f711fb9d89304af9b789e53b112a3b85%20%3D%20L.popup%28%7B%22maxWidth%22%3A%20%22100%25%22%7D%29%3B%0A%0A%20%20%20%20%20%20%20%20%0A%20%20%20%20%20%20%20%20%20%20%20%20var%20html_825a96b893f140ebb9cb6ec15550d72b%20%3D%20%24%28%60%3Cdiv%20id%3D%22html_825a96b893f140ebb9cb6ec15550d72b%22%20style%3D%22width%3A%20100.0%25%3B%20height%3A%20100.0%25%3B%22%3E%20n_rooms%3A%203%20%20price%3A%20380000.0%20%20neighborhood%3A%20%20Let%C3%ADcia%3C/div%3E%60%29%5B0%5D%3B%0A%20%20%20%20%20%20%20%20%20%20%20%20popup_f711fb9d89304af9b789e53b112a3b85.setContent%28html_825a96b893f140ebb9cb6ec15550d72b%29%3B%0A%20%20%20%20%20%20%20%20%0A%0A%20%20%20%20%20%20%20%20marker_0a264189390e4408a16487920610c27d.bindPopup%28popup_f711fb9d89304af9b789e53b112a3b85%29%0A%20%20%20%20%20%20%20%20%3B%0A%0A%20%20%20%20%20%20%20%20%0A%20%20%20%20%0A%20%20%20%20%0A%20%20%20%20%20%20%20%20%20%20%20%20var%20marker_ee5de59d2ee54af4b8fadcdc4b431f08%20%3D%20L.marker%28%0A%20%20%20%20%20%20%20%20%20%20%20%20%20%20%20%20%5B-19.9739157%2C%20-43.9678046%5D%2C%0A%20%20%20%20%20%20%20%20%20%20%20%20%20%20%20%20%7B%7D%0A%20%20%20%20%20%20%20%20%20%20%20%20%29.addTo%28map_2e7fdc8b3bf74297b0c2e57f64d0436e%29%3B%0A%20%20%20%20%20%20%20%20%0A%20%20%20%20%0A%20%20%20%20%20%20%20%20var%20popup_b1b1eba9891d49eca050146db0573b63%20%3D%20L.popup%28%7B%22maxWidth%22%3A%20%22100%25%22%7D%29%3B%0A%0A%20%20%20%20%20%20%20%20%0A%20%20%20%20%20%20%20%20%20%20%20%20var%20html_c924cd1d07994de7a981dab796e7a495%20%3D%20%24%28%60%3Cdiv%20id%3D%22html_c924cd1d07994de7a981dab796e7a495%22%20style%3D%22width%3A%20100.0%25%3B%20height%3A%20100.0%25%3B%22%3E%20n_rooms%3A%203%20%20price%3A%20420000.0%20%20neighborhood%3A%20%20Buritis%3C/div%3E%60%29%5B0%5D%3B%0A%20%20%20%20%20%20%20%20%20%20%20%20popup_b1b1eba9891d49eca050146db0573b63.setContent%28html_c924cd1d07994de7a981dab796e7a495%29%3B%0A%20%20%20%20%20%20%20%20%0A%0A%20%20%20%20%20%20%20%20marker_ee5de59d2ee54af4b8fadcdc4b431f08.bindPopup%28popup_b1b1eba9891d49eca050146db0573b63%29%0A%20%20%20%20%20%20%20%20%3B%0A%0A%20%20%20%20%20%20%20%20%0A%20%20%20%20%0A%3C/script%3E onload=\"this.contentDocument.open();this.contentDocument.write(    decodeURIComponent(this.getAttribute('data-html')));this.contentDocument.close();\" allowfullscreen webkitallowfullscreen mozallowfullscreen></iframe></div></div>"
      ],
      "text/plain": [
       "<folium.folium.Map at 0x7f3e5dada450>"
      ]
     },
     "execution_count": 37,
     "metadata": {},
     "output_type": "execute_result"
    }
   ],
   "source": [
    "ap_map = folium.Map(location=[-19.913948065929585, -43.951483374892256], zoom_start=11)\n",
    "\n",
    "for _, row in df_ap.iterrows():\n",
    "    folium.Marker(\n",
    "        location=[\n",
    "            row.latitude,\n",
    "            row.longitude],\n",
    "        popup=f\" n_rooms: {row.rooms}\\n price: {row.price}\\n neighborhood: {row.neighborhood}\"\n",
    "    ).add_to(ap_map)\n",
    "\n",
    "ap_map"
   ]
  },
  {
   "cell_type": "code",
   "execution_count": 38,
   "id": "a15d99d7",
   "metadata": {
    "execution": {
     "iopub.execute_input": "2021-11-08T15:42:11.142456Z",
     "iopub.status.busy": "2021-11-08T15:42:11.141279Z",
     "iopub.status.idle": "2021-11-08T15:42:11.151148Z",
     "shell.execute_reply": "2021-11-08T15:42:11.151708Z",
     "shell.execute_reply.started": "2021-11-08T15:41:09.580146Z"
    },
    "papermill": {
     "duration": 0.07867,
     "end_time": "2021-11-08T15:42:11.151950",
     "exception": false,
     "start_time": "2021-11-08T15:42:11.073280",
     "status": "completed"
    },
    "tags": []
   },
   "outputs": [],
   "source": [
    "min_price = 350000\n",
    "max_price = 500000\n",
    "\n",
    "df_house = df_wo_outliers[\n",
    "    (df_wo_outliers[\"property-type\"] == \"House\")\n",
    "    & (df_wo_outliers[\"price\"].between(min_price, max_price))\n",
    "]\n",
    "df_house = df_house.sort_values(by=[\"square-foot\", \"price\"], ascending=[False, True]).iloc[:10]"
   ]
  },
  {
   "cell_type": "markdown",
   "id": "cbaf8c21",
   "metadata": {
    "papermill": {
     "duration": 0.061651,
     "end_time": "2021-11-08T15:42:11.278650",
     "exception": false,
     "start_time": "2021-11-08T15:42:11.216999",
     "status": "completed"
    },
    "tags": []
   },
   "source": [
    "A geographic visualization of the top 10 greatest houses in terms of square footage and price"
   ]
  },
  {
   "cell_type": "code",
   "execution_count": 39,
   "id": "c8cffd85",
   "metadata": {
    "execution": {
     "iopub.execute_input": "2021-11-08T15:42:11.413369Z",
     "iopub.status.busy": "2021-11-08T15:42:11.412588Z",
     "iopub.status.idle": "2021-11-08T15:42:11.444826Z",
     "shell.execute_reply": "2021-11-08T15:42:11.444209Z",
     "shell.execute_reply.started": "2021-11-08T15:41:09.593687Z"
    },
    "papermill": {
     "duration": 0.103253,
     "end_time": "2021-11-08T15:42:11.445000",
     "exception": false,
     "start_time": "2021-11-08T15:42:11.341747",
     "status": "completed"
    },
    "tags": []
   },
   "outputs": [
    {
     "data": {
      "text/html": [
       "<div style=\"width:100%;\"><div style=\"position:relative;width:100%;height:0;padding-bottom:60%;\"><span style=\"color:#565656\">Make this Notebook Trusted to load map: File -> Trust Notebook</span><iframe src=\"about:blank\" style=\"position:absolute;width:100%;height:100%;left:0;top:0;border:none !important;\" data-html=%3C%21DOCTYPE%20html%3E%0A%3Chead%3E%20%20%20%20%0A%20%20%20%20%3Cmeta%20http-equiv%3D%22content-type%22%20content%3D%22text/html%3B%20charset%3DUTF-8%22%20/%3E%0A%20%20%20%20%0A%20%20%20%20%20%20%20%20%3Cscript%3E%0A%20%20%20%20%20%20%20%20%20%20%20%20L_NO_TOUCH%20%3D%20false%3B%0A%20%20%20%20%20%20%20%20%20%20%20%20L_DISABLE_3D%20%3D%20false%3B%0A%20%20%20%20%20%20%20%20%3C/script%3E%0A%20%20%20%20%0A%20%20%20%20%3Cstyle%3Ehtml%2C%20body%20%7Bwidth%3A%20100%25%3Bheight%3A%20100%25%3Bmargin%3A%200%3Bpadding%3A%200%3B%7D%3C/style%3E%0A%20%20%20%20%3Cstyle%3E%23map%20%7Bposition%3Aabsolute%3Btop%3A0%3Bbottom%3A0%3Bright%3A0%3Bleft%3A0%3B%7D%3C/style%3E%0A%20%20%20%20%3Cscript%20src%3D%22https%3A//cdn.jsdelivr.net/npm/leaflet%401.6.0/dist/leaflet.js%22%3E%3C/script%3E%0A%20%20%20%20%3Cscript%20src%3D%22https%3A//code.jquery.com/jquery-1.12.4.min.js%22%3E%3C/script%3E%0A%20%20%20%20%3Cscript%20src%3D%22https%3A//maxcdn.bootstrapcdn.com/bootstrap/3.2.0/js/bootstrap.min.js%22%3E%3C/script%3E%0A%20%20%20%20%3Cscript%20src%3D%22https%3A//cdnjs.cloudflare.com/ajax/libs/Leaflet.awesome-markers/2.0.2/leaflet.awesome-markers.js%22%3E%3C/script%3E%0A%20%20%20%20%3Clink%20rel%3D%22stylesheet%22%20href%3D%22https%3A//cdn.jsdelivr.net/npm/leaflet%401.6.0/dist/leaflet.css%22/%3E%0A%20%20%20%20%3Clink%20rel%3D%22stylesheet%22%20href%3D%22https%3A//maxcdn.bootstrapcdn.com/bootstrap/3.2.0/css/bootstrap.min.css%22/%3E%0A%20%20%20%20%3Clink%20rel%3D%22stylesheet%22%20href%3D%22https%3A//maxcdn.bootstrapcdn.com/bootstrap/3.2.0/css/bootstrap-theme.min.css%22/%3E%0A%20%20%20%20%3Clink%20rel%3D%22stylesheet%22%20href%3D%22https%3A//maxcdn.bootstrapcdn.com/font-awesome/4.6.3/css/font-awesome.min.css%22/%3E%0A%20%20%20%20%3Clink%20rel%3D%22stylesheet%22%20href%3D%22https%3A//cdnjs.cloudflare.com/ajax/libs/Leaflet.awesome-markers/2.0.2/leaflet.awesome-markers.css%22/%3E%0A%20%20%20%20%3Clink%20rel%3D%22stylesheet%22%20href%3D%22https%3A//cdn.jsdelivr.net/gh/python-visualization/folium/folium/templates/leaflet.awesome.rotate.min.css%22/%3E%0A%20%20%20%20%0A%20%20%20%20%20%20%20%20%20%20%20%20%3Cmeta%20name%3D%22viewport%22%20content%3D%22width%3Ddevice-width%2C%0A%20%20%20%20%20%20%20%20%20%20%20%20%20%20%20%20initial-scale%3D1.0%2C%20maximum-scale%3D1.0%2C%20user-scalable%3Dno%22%20/%3E%0A%20%20%20%20%20%20%20%20%20%20%20%20%3Cstyle%3E%0A%20%20%20%20%20%20%20%20%20%20%20%20%20%20%20%20%23map_7548ef2fb71b45d596ce55115b10d40c%20%7B%0A%20%20%20%20%20%20%20%20%20%20%20%20%20%20%20%20%20%20%20%20position%3A%20relative%3B%0A%20%20%20%20%20%20%20%20%20%20%20%20%20%20%20%20%20%20%20%20width%3A%20100.0%25%3B%0A%20%20%20%20%20%20%20%20%20%20%20%20%20%20%20%20%20%20%20%20height%3A%20100.0%25%3B%0A%20%20%20%20%20%20%20%20%20%20%20%20%20%20%20%20%20%20%20%20left%3A%200.0%25%3B%0A%20%20%20%20%20%20%20%20%20%20%20%20%20%20%20%20%20%20%20%20top%3A%200.0%25%3B%0A%20%20%20%20%20%20%20%20%20%20%20%20%20%20%20%20%7D%0A%20%20%20%20%20%20%20%20%20%20%20%20%3C/style%3E%0A%20%20%20%20%20%20%20%20%0A%3C/head%3E%0A%3Cbody%3E%20%20%20%20%0A%20%20%20%20%0A%20%20%20%20%20%20%20%20%20%20%20%20%3Cdiv%20class%3D%22folium-map%22%20id%3D%22map_7548ef2fb71b45d596ce55115b10d40c%22%20%3E%3C/div%3E%0A%20%20%20%20%20%20%20%20%0A%3C/body%3E%0A%3Cscript%3E%20%20%20%20%0A%20%20%20%20%0A%20%20%20%20%20%20%20%20%20%20%20%20var%20map_7548ef2fb71b45d596ce55115b10d40c%20%3D%20L.map%28%0A%20%20%20%20%20%20%20%20%20%20%20%20%20%20%20%20%22map_7548ef2fb71b45d596ce55115b10d40c%22%2C%0A%20%20%20%20%20%20%20%20%20%20%20%20%20%20%20%20%7B%0A%20%20%20%20%20%20%20%20%20%20%20%20%20%20%20%20%20%20%20%20center%3A%20%5B-19.913948065929585%2C%20-43.951483374892256%5D%2C%0A%20%20%20%20%20%20%20%20%20%20%20%20%20%20%20%20%20%20%20%20crs%3A%20L.CRS.EPSG3857%2C%0A%20%20%20%20%20%20%20%20%20%20%20%20%20%20%20%20%20%20%20%20zoom%3A%2011%2C%0A%20%20%20%20%20%20%20%20%20%20%20%20%20%20%20%20%20%20%20%20zoomControl%3A%20true%2C%0A%20%20%20%20%20%20%20%20%20%20%20%20%20%20%20%20%20%20%20%20preferCanvas%3A%20false%2C%0A%20%20%20%20%20%20%20%20%20%20%20%20%20%20%20%20%7D%0A%20%20%20%20%20%20%20%20%20%20%20%20%29%3B%0A%0A%20%20%20%20%20%20%20%20%20%20%20%20%0A%0A%20%20%20%20%20%20%20%20%0A%20%20%20%20%0A%20%20%20%20%20%20%20%20%20%20%20%20var%20tile_layer_0eb3ff69d3014a9791440d6eaf9d479d%20%3D%20L.tileLayer%28%0A%20%20%20%20%20%20%20%20%20%20%20%20%20%20%20%20%22https%3A//%7Bs%7D.tile.openstreetmap.org/%7Bz%7D/%7Bx%7D/%7By%7D.png%22%2C%0A%20%20%20%20%20%20%20%20%20%20%20%20%20%20%20%20%7B%22attribution%22%3A%20%22Data%20by%20%5Cu0026copy%3B%20%5Cu003ca%20href%3D%5C%22http%3A//openstreetmap.org%5C%22%5Cu003eOpenStreetMap%5Cu003c/a%5Cu003e%2C%20under%20%5Cu003ca%20href%3D%5C%22http%3A//www.openstreetmap.org/copyright%5C%22%5Cu003eODbL%5Cu003c/a%5Cu003e.%22%2C%20%22detectRetina%22%3A%20false%2C%20%22maxNativeZoom%22%3A%2018%2C%20%22maxZoom%22%3A%2018%2C%20%22minZoom%22%3A%200%2C%20%22noWrap%22%3A%20false%2C%20%22opacity%22%3A%201%2C%20%22subdomains%22%3A%20%22abc%22%2C%20%22tms%22%3A%20false%7D%0A%20%20%20%20%20%20%20%20%20%20%20%20%29.addTo%28map_7548ef2fb71b45d596ce55115b10d40c%29%3B%0A%20%20%20%20%20%20%20%20%0A%20%20%20%20%0A%20%20%20%20%20%20%20%20%20%20%20%20var%20marker_a89966e3500f49dbb55c2d4abddec3fa%20%3D%20L.marker%28%0A%20%20%20%20%20%20%20%20%20%20%20%20%20%20%20%20%5B-19.790109%2C%20-43.9896725%5D%2C%0A%20%20%20%20%20%20%20%20%20%20%20%20%20%20%20%20%7B%7D%0A%20%20%20%20%20%20%20%20%20%20%20%20%29.addTo%28map_7548ef2fb71b45d596ce55115b10d40c%29%3B%0A%20%20%20%20%20%20%20%20%0A%20%20%20%20%0A%20%20%20%20%20%20%20%20var%20popup_4a72423971944ca29a6a43b9e8956871%20%3D%20L.popup%28%7B%22maxWidth%22%3A%20%22100%25%22%7D%29%3B%0A%0A%20%20%20%20%20%20%20%20%0A%20%20%20%20%20%20%20%20%20%20%20%20var%20html_d7f6d4a793f044bfaeb27df117053bbf%20%3D%20%24%28%60%3Cdiv%20id%3D%22html_d7f6d4a793f044bfaeb27df117053bbf%22%20style%3D%22width%3A%20100.0%25%3B%20height%3A%20100.0%25%3B%22%3E%20n_rooms%3A%204%20%20price%3A%20440000.0%20%20neighborhood%3A%20%20Maria%20Helena%3C/div%3E%60%29%5B0%5D%3B%0A%20%20%20%20%20%20%20%20%20%20%20%20popup_4a72423971944ca29a6a43b9e8956871.setContent%28html_d7f6d4a793f044bfaeb27df117053bbf%29%3B%0A%20%20%20%20%20%20%20%20%0A%0A%20%20%20%20%20%20%20%20marker_a89966e3500f49dbb55c2d4abddec3fa.bindPopup%28popup_4a72423971944ca29a6a43b9e8956871%29%0A%20%20%20%20%20%20%20%20%3B%0A%0A%20%20%20%20%20%20%20%20%0A%20%20%20%20%0A%20%20%20%20%0A%20%20%20%20%20%20%20%20%20%20%20%20var%20marker_2ef72c63a3d64f2882adb08bc6a8374a%20%3D%20L.marker%28%0A%20%20%20%20%20%20%20%20%20%20%20%20%20%20%20%20%5B-19.898123%2C%20-43.9681346%5D%2C%0A%20%20%20%20%20%20%20%20%20%20%20%20%20%20%20%20%7B%7D%0A%20%20%20%20%20%20%20%20%20%20%20%20%29.addTo%28map_7548ef2fb71b45d596ce55115b10d40c%29%3B%0A%20%20%20%20%20%20%20%20%0A%20%20%20%20%0A%20%20%20%20%20%20%20%20var%20popup_fc06cf7a12694be9839bf83383794bea%20%3D%20L.popup%28%7B%22maxWidth%22%3A%20%22100%25%22%7D%29%3B%0A%0A%20%20%20%20%20%20%20%20%0A%20%20%20%20%20%20%20%20%20%20%20%20var%20html_8d8bff875ba048158e92ac3081dd020a%20%3D%20%24%28%60%3Cdiv%20id%3D%22html_8d8bff875ba048158e92ac3081dd020a%22%20style%3D%22width%3A%20100.0%25%3B%20height%3A%20100.0%25%3B%22%3E%20n_rooms%3A%203%20%20price%3A%20399000.0%20%20neighborhood%3A%20%20Cai%C3%A7aras%3C/div%3E%60%29%5B0%5D%3B%0A%20%20%20%20%20%20%20%20%20%20%20%20popup_fc06cf7a12694be9839bf83383794bea.setContent%28html_8d8bff875ba048158e92ac3081dd020a%29%3B%0A%20%20%20%20%20%20%20%20%0A%0A%20%20%20%20%20%20%20%20marker_2ef72c63a3d64f2882adb08bc6a8374a.bindPopup%28popup_fc06cf7a12694be9839bf83383794bea%29%0A%20%20%20%20%20%20%20%20%3B%0A%0A%20%20%20%20%20%20%20%20%0A%20%20%20%20%0A%20%20%20%20%0A%20%20%20%20%20%20%20%20%20%20%20%20var%20marker_2aa48fd65fa74fdab35540723c1d1a0a%20%3D%20L.marker%28%0A%20%20%20%20%20%20%20%20%20%20%20%20%20%20%20%20%5B-19.9044609%2C%20-43.9586707%5D%2C%0A%20%20%20%20%20%20%20%20%20%20%20%20%20%20%20%20%7B%7D%0A%20%20%20%20%20%20%20%20%20%20%20%20%29.addTo%28map_7548ef2fb71b45d596ce55115b10d40c%29%3B%0A%20%20%20%20%20%20%20%20%0A%20%20%20%20%0A%20%20%20%20%20%20%20%20var%20popup_0f60726c17674c1db89d4fb455d263bd%20%3D%20L.popup%28%7B%22maxWidth%22%3A%20%22100%25%22%7D%29%3B%0A%0A%20%20%20%20%20%20%20%20%0A%20%20%20%20%20%20%20%20%20%20%20%20var%20html_6fcd5ff2f348450f926544b2804f1860%20%3D%20%24%28%60%3Cdiv%20id%3D%22html_6fcd5ff2f348450f926544b2804f1860%22%20style%3D%22width%3A%20100.0%25%3B%20height%3A%20100.0%25%3B%22%3E%20n_rooms%3A%203%20%20price%3A%20489000.0%20%20neighborhood%3A%20%20Cai%C3%A7aras%3C/div%3E%60%29%5B0%5D%3B%0A%20%20%20%20%20%20%20%20%20%20%20%20popup_0f60726c17674c1db89d4fb455d263bd.setContent%28html_6fcd5ff2f348450f926544b2804f1860%29%3B%0A%20%20%20%20%20%20%20%20%0A%0A%20%20%20%20%20%20%20%20marker_2aa48fd65fa74fdab35540723c1d1a0a.bindPopup%28popup_0f60726c17674c1db89d4fb455d263bd%29%0A%20%20%20%20%20%20%20%20%3B%0A%0A%20%20%20%20%20%20%20%20%0A%20%20%20%20%0A%20%20%20%20%0A%20%20%20%20%20%20%20%20%20%20%20%20var%20marker_9fb5526344e6425a8574eb9695bcd4a8%20%3D%20L.marker%28%0A%20%20%20%20%20%20%20%20%20%20%20%20%20%20%20%20%5B-20.0032752%2C%20-44.0041288%5D%2C%0A%20%20%20%20%20%20%20%20%20%20%20%20%20%20%20%20%7B%7D%0A%20%20%20%20%20%20%20%20%20%20%20%20%29.addTo%28map_7548ef2fb71b45d596ce55115b10d40c%29%3B%0A%20%20%20%20%20%20%20%20%0A%20%20%20%20%0A%20%20%20%20%20%20%20%20var%20popup_5df7562f3c2848b3aff2eca0e0c7b286%20%3D%20L.popup%28%7B%22maxWidth%22%3A%20%22100%25%22%7D%29%3B%0A%0A%20%20%20%20%20%20%20%20%0A%20%20%20%20%20%20%20%20%20%20%20%20var%20html_2525066050d64a9796def10943d0af2d%20%3D%20%24%28%60%3Cdiv%20id%3D%22html_2525066050d64a9796def10943d0af2d%22%20style%3D%22width%3A%20100.0%25%3B%20height%3A%20100.0%25%3B%22%3E%20n_rooms%3A%206%20%20price%3A%20495000.0%20%20neighborhood%3A%20%20Barreiro%3C/div%3E%60%29%5B0%5D%3B%0A%20%20%20%20%20%20%20%20%20%20%20%20popup_5df7562f3c2848b3aff2eca0e0c7b286.setContent%28html_2525066050d64a9796def10943d0af2d%29%3B%0A%20%20%20%20%20%20%20%20%0A%0A%20%20%20%20%20%20%20%20marker_9fb5526344e6425a8574eb9695bcd4a8.bindPopup%28popup_5df7562f3c2848b3aff2eca0e0c7b286%29%0A%20%20%20%20%20%20%20%20%3B%0A%0A%20%20%20%20%20%20%20%20%0A%20%20%20%20%0A%20%20%20%20%0A%20%20%20%20%20%20%20%20%20%20%20%20var%20marker_0da899bae99741ceac661e48326d1d22%20%3D%20L.marker%28%0A%20%20%20%20%20%20%20%20%20%20%20%20%20%20%20%20%5B-19.8942677%2C%20-43.891655%5D%2C%0A%20%20%20%20%20%20%20%20%20%20%20%20%20%20%20%20%7B%7D%0A%20%20%20%20%20%20%20%20%20%20%20%20%29.addTo%28map_7548ef2fb71b45d596ce55115b10d40c%29%3B%0A%20%20%20%20%20%20%20%20%0A%20%20%20%20%0A%20%20%20%20%20%20%20%20var%20popup_eb5bbbbd1ea144a5afa6c8fd183e6100%20%3D%20L.popup%28%7B%22maxWidth%22%3A%20%22100%25%22%7D%29%3B%0A%0A%20%20%20%20%20%20%20%20%0A%20%20%20%20%20%20%20%20%20%20%20%20var%20html_85915914e026486685892d0dc16ae218%20%3D%20%24%28%60%3Cdiv%20id%3D%22html_85915914e026486685892d0dc16ae218%22%20style%3D%22width%3A%20100.0%25%3B%20height%3A%20100.0%25%3B%22%3E%20n_rooms%3A%204%20%20price%3A%20350000.0%20%20neighborhood%3A%20%20Boa%20Vista%3C/div%3E%60%29%5B0%5D%3B%0A%20%20%20%20%20%20%20%20%20%20%20%20popup_eb5bbbbd1ea144a5afa6c8fd183e6100.setContent%28html_85915914e026486685892d0dc16ae218%29%3B%0A%20%20%20%20%20%20%20%20%0A%0A%20%20%20%20%20%20%20%20marker_0da899bae99741ceac661e48326d1d22.bindPopup%28popup_eb5bbbbd1ea144a5afa6c8fd183e6100%29%0A%20%20%20%20%20%20%20%20%3B%0A%0A%20%20%20%20%20%20%20%20%0A%20%20%20%20%0A%20%20%20%20%0A%20%20%20%20%20%20%20%20%20%20%20%20var%20marker_17f8c4dc2d584e8195722c55d3e4ef03%20%3D%20L.marker%28%0A%20%20%20%20%20%20%20%20%20%20%20%20%20%20%20%20%5B-19.8618303%2C%20-43.8875317%5D%2C%0A%20%20%20%20%20%20%20%20%20%20%20%20%20%20%20%20%7B%7D%0A%20%20%20%20%20%20%20%20%20%20%20%20%29.addTo%28map_7548ef2fb71b45d596ce55115b10d40c%29%3B%0A%20%20%20%20%20%20%20%20%0A%20%20%20%20%0A%20%20%20%20%20%20%20%20var%20popup_e9bcdf7a5ce3492ab8c1107d8d32ed1a%20%3D%20L.popup%28%7B%22maxWidth%22%3A%20%22100%25%22%7D%29%3B%0A%0A%20%20%20%20%20%20%20%20%0A%20%20%20%20%20%20%20%20%20%20%20%20var%20html_da47052ecdb7428c9ac99b2b4d8be67c%20%3D%20%24%28%60%3Cdiv%20id%3D%22html_da47052ecdb7428c9ac99b2b4d8be67c%22%20style%3D%22width%3A%20100.0%25%3B%20height%3A%20100.0%25%3B%22%3E%20n_rooms%3A%204%20%20price%3A%20390000.0%20%20neighborhood%3A%20%20Vit%C3%B3ria%3C/div%3E%60%29%5B0%5D%3B%0A%20%20%20%20%20%20%20%20%20%20%20%20popup_e9bcdf7a5ce3492ab8c1107d8d32ed1a.setContent%28html_da47052ecdb7428c9ac99b2b4d8be67c%29%3B%0A%20%20%20%20%20%20%20%20%0A%0A%20%20%20%20%20%20%20%20marker_17f8c4dc2d584e8195722c55d3e4ef03.bindPopup%28popup_e9bcdf7a5ce3492ab8c1107d8d32ed1a%29%0A%20%20%20%20%20%20%20%20%3B%0A%0A%20%20%20%20%20%20%20%20%0A%20%20%20%20%0A%20%20%20%20%0A%20%20%20%20%20%20%20%20%20%20%20%20var%20marker_219867ee78e547e9a8930ac6cdeb7a87%20%3D%20L.marker%28%0A%20%20%20%20%20%20%20%20%20%20%20%20%20%20%20%20%5B-19.8982331%2C%20-44.0232172%5D%2C%0A%20%20%20%20%20%20%20%20%20%20%20%20%20%20%20%20%7B%7D%0A%20%20%20%20%20%20%20%20%20%20%20%20%29.addTo%28map_7548ef2fb71b45d596ce55115b10d40c%29%3B%0A%20%20%20%20%20%20%20%20%0A%20%20%20%20%0A%20%20%20%20%20%20%20%20var%20popup_fdfb28a2b0d2411884d46724a9046a82%20%3D%20L.popup%28%7B%22maxWidth%22%3A%20%22100%25%22%7D%29%3B%0A%0A%20%20%20%20%20%20%20%20%0A%20%20%20%20%20%20%20%20%20%20%20%20var%20html_3d0658f7de3641138c2fed8df8fbfc28%20%3D%20%24%28%60%3Cdiv%20id%3D%22html_3d0658f7de3641138c2fed8df8fbfc28%22%20style%3D%22width%3A%20100.0%25%3B%20height%3A%20100.0%25%3B%22%3E%20n_rooms%3A%203%20%20price%3A%20379000.0%20%20neighborhood%3A%20%20Coqueiros%3C/div%3E%60%29%5B0%5D%3B%0A%20%20%20%20%20%20%20%20%20%20%20%20popup_fdfb28a2b0d2411884d46724a9046a82.setContent%28html_3d0658f7de3641138c2fed8df8fbfc28%29%3B%0A%20%20%20%20%20%20%20%20%0A%0A%20%20%20%20%20%20%20%20marker_219867ee78e547e9a8930ac6cdeb7a87.bindPopup%28popup_fdfb28a2b0d2411884d46724a9046a82%29%0A%20%20%20%20%20%20%20%20%3B%0A%0A%20%20%20%20%20%20%20%20%0A%20%20%20%20%0A%20%20%20%20%0A%20%20%20%20%20%20%20%20%20%20%20%20var%20marker_ae06973b3c514e6b9843d277d98727fa%20%3D%20L.marker%28%0A%20%20%20%20%20%20%20%20%20%20%20%20%20%20%20%20%5B-19.895047%2C%20-44.0001242%5D%2C%0A%20%20%20%20%20%20%20%20%20%20%20%20%20%20%20%20%7B%7D%0A%20%20%20%20%20%20%20%20%20%20%20%20%29.addTo%28map_7548ef2fb71b45d596ce55115b10d40c%29%3B%0A%20%20%20%20%20%20%20%20%0A%20%20%20%20%0A%20%20%20%20%20%20%20%20var%20popup_8f26e0680580409b82ee8fdd4124ad71%20%3D%20L.popup%28%7B%22maxWidth%22%3A%20%22100%25%22%7D%29%3B%0A%0A%20%20%20%20%20%20%20%20%0A%20%20%20%20%20%20%20%20%20%20%20%20var%20html_ee8e67f995df43d78a484055f4de793c%20%3D%20%24%28%60%3Cdiv%20id%3D%22html_ee8e67f995df43d78a484055f4de793c%22%20style%3D%22width%3A%20100.0%25%3B%20height%3A%20100.0%25%3B%22%3E%20n_rooms%3A%204%20%20price%3A%20450000.0%20%20neighborhood%3A%20%20Al%C3%ADpio%20de%20Melo%3C/div%3E%60%29%5B0%5D%3B%0A%20%20%20%20%20%20%20%20%20%20%20%20popup_8f26e0680580409b82ee8fdd4124ad71.setContent%28html_ee8e67f995df43d78a484055f4de793c%29%3B%0A%20%20%20%20%20%20%20%20%0A%0A%20%20%20%20%20%20%20%20marker_ae06973b3c514e6b9843d277d98727fa.bindPopup%28popup_8f26e0680580409b82ee8fdd4124ad71%29%0A%20%20%20%20%20%20%20%20%3B%0A%0A%20%20%20%20%20%20%20%20%0A%20%20%20%20%0A%20%20%20%20%0A%20%20%20%20%20%20%20%20%20%20%20%20var%20marker_4cca7ea9733a4daa8e2049188dca04d9%20%3D%20L.marker%28%0A%20%20%20%20%20%20%20%20%20%20%20%20%20%20%20%20%5B-19.8087385%2C%20-43.953141%5D%2C%0A%20%20%20%20%20%20%20%20%20%20%20%20%20%20%20%20%7B%7D%0A%20%20%20%20%20%20%20%20%20%20%20%20%29.addTo%28map_7548ef2fb71b45d596ce55115b10d40c%29%3B%0A%20%20%20%20%20%20%20%20%0A%20%20%20%20%0A%20%20%20%20%20%20%20%20var%20popup_5ffd02f9c8434334b35e02b6700d61f4%20%3D%20L.popup%28%7B%22maxWidth%22%3A%20%22100%25%22%7D%29%3B%0A%0A%20%20%20%20%20%20%20%20%0A%20%20%20%20%20%20%20%20%20%20%20%20var%20html_d87c45f2ea67439c86879767e8abb1d9%20%3D%20%24%28%60%3Cdiv%20id%3D%22html_d87c45f2ea67439c86879767e8abb1d9%22%20style%3D%22width%3A%20100.0%25%3B%20height%3A%20100.0%25%3B%22%3E%20n_rooms%3A%203%20%20price%3A%20420000.0%20%20neighborhood%3A%20%20Minascaixa%3C/div%3E%60%29%5B0%5D%3B%0A%20%20%20%20%20%20%20%20%20%20%20%20popup_5ffd02f9c8434334b35e02b6700d61f4.setContent%28html_d87c45f2ea67439c86879767e8abb1d9%29%3B%0A%20%20%20%20%20%20%20%20%0A%0A%20%20%20%20%20%20%20%20marker_4cca7ea9733a4daa8e2049188dca04d9.bindPopup%28popup_5ffd02f9c8434334b35e02b6700d61f4%29%0A%20%20%20%20%20%20%20%20%3B%0A%0A%20%20%20%20%20%20%20%20%0A%20%20%20%20%0A%20%20%20%20%0A%20%20%20%20%20%20%20%20%20%20%20%20var%20marker_fdf30f313bb94c1f8298d5aee9804cc6%20%3D%20L.marker%28%0A%20%20%20%20%20%20%20%20%20%20%20%20%20%20%20%20%5B-19.8506859%2C%20-43.9132817%5D%2C%0A%20%20%20%20%20%20%20%20%20%20%20%20%20%20%20%20%7B%7D%0A%20%20%20%20%20%20%20%20%20%20%20%20%29.addTo%28map_7548ef2fb71b45d596ce55115b10d40c%29%3B%0A%20%20%20%20%20%20%20%20%0A%20%20%20%20%0A%20%20%20%20%20%20%20%20var%20popup_9b2836f03c014c23a0352aa521caeb14%20%3D%20L.popup%28%7B%22maxWidth%22%3A%20%22100%25%22%7D%29%3B%0A%0A%20%20%20%20%20%20%20%20%0A%20%20%20%20%20%20%20%20%20%20%20%20var%20html_f0ce81f8f1cd47338ebaf1dbca60f846%20%3D%20%24%28%60%3Cdiv%20id%3D%22html_f0ce81f8f1cd47338ebaf1dbca60f846%22%20style%3D%22width%3A%20100.0%25%3B%20height%3A%20100.0%25%3B%22%3E%20n_rooms%3A%204%20%20price%3A%20490000.0%20%20neighborhood%3A%20%20S%C3%A3o%20Gabriel%3C/div%3E%60%29%5B0%5D%3B%0A%20%20%20%20%20%20%20%20%20%20%20%20popup_9b2836f03c014c23a0352aa521caeb14.setContent%28html_f0ce81f8f1cd47338ebaf1dbca60f846%29%3B%0A%20%20%20%20%20%20%20%20%0A%0A%20%20%20%20%20%20%20%20marker_fdf30f313bb94c1f8298d5aee9804cc6.bindPopup%28popup_9b2836f03c014c23a0352aa521caeb14%29%0A%20%20%20%20%20%20%20%20%3B%0A%0A%20%20%20%20%20%20%20%20%0A%20%20%20%20%0A%3C/script%3E onload=\"this.contentDocument.open();this.contentDocument.write(    decodeURIComponent(this.getAttribute('data-html')));this.contentDocument.close();\" allowfullscreen webkitallowfullscreen mozallowfullscreen></iframe></div></div>"
      ],
      "text/plain": [
       "<folium.folium.Map at 0x7f3e5db012d0>"
      ]
     },
     "execution_count": 39,
     "metadata": {},
     "output_type": "execute_result"
    }
   ],
   "source": [
    "house_map = folium.Map(location=[-19.913948065929585, -43.951483374892256], zoom_start=11)\n",
    "\n",
    "for _, row in df_house.iterrows():\n",
    "    folium.Marker(\n",
    "        location=[\n",
    "            row.latitude,\n",
    "            row.longitude],\n",
    "        popup=f\" n_rooms: {row.rooms}\\n price: {row.price}\\n neighborhood: {row.neighborhood}\"\n",
    "    ).add_to(house_map)\n",
    "\n",
    "house_map"
   ]
  },
  {
   "cell_type": "markdown",
   "id": "d0b3530f",
   "metadata": {
    "papermill": {
     "duration": 0.063486,
     "end_time": "2021-11-08T15:42:11.571628",
     "exception": false,
     "start_time": "2021-11-08T15:42:11.508142",
     "status": "completed"
    },
    "tags": []
   },
   "source": [
    "---\n",
    "## Conclusion\n",
    "\n",
    "So, that's it. Here we went through some exploratory data analysis over the dataset I've scrapped on a real estate site with Belo Horizonte's properties. We saw some very interesting characteristics such as bigger structural differences on more expensive properties, as well as a tendency to have more houses than apartments in the more expensive neighborhoods.\n",
    "\n",
    "I also intend to perform further improvements in the dataset (aggregating external sources) so we become able to perform deeper analysis with regard to life quality, and criminality of the neighborhoods.\n",
    "\n",
    "\n",
    "Thanks for the reading. Any feedback is more than welcome. If you enjoyed, please give a thumbs up."
   ]
  },
  {
   "cell_type": "code",
   "execution_count": null,
   "id": "f210ea07",
   "metadata": {
    "papermill": {
     "duration": 0.06286,
     "end_time": "2021-11-08T15:42:11.698547",
     "exception": false,
     "start_time": "2021-11-08T15:42:11.635687",
     "status": "completed"
    },
    "tags": []
   },
   "outputs": [],
   "source": []
  }
 ],
 "metadata": {
  "kernelspec": {
   "display_name": "Python 3",
   "language": "python",
   "name": "python3"
  },
  "language_info": {
   "codemirror_mode": {
    "name": "ipython",
    "version": 3
   },
   "file_extension": ".py",
   "mimetype": "text/x-python",
   "name": "python",
   "nbconvert_exporter": "python",
   "pygments_lexer": "ipython3",
   "version": "3.7.10"
  },
  "papermill": {
   "default_parameters": {},
   "duration": 26.176195,
   "end_time": "2021-11-08T15:42:12.573543",
   "environment_variables": {},
   "exception": null,
   "input_path": "__notebook__.ipynb",
   "output_path": "__notebook__.ipynb",
   "parameters": {},
   "start_time": "2021-11-08T15:41:46.397348",
   "version": "2.3.3"
  }
 },
 "nbformat": 4,
 "nbformat_minor": 5
}
