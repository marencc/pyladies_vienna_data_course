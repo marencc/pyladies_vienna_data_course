{
 "cells": [
  {
   "cell_type": "markdown",
   "id": "df5bba51-c077-4fb1-ab94-415ad5c16ccc",
   "metadata": {},
   "source": [
    "# EDA Project\n",
    "\n",
    "In this notebook, you should perform EDA (Exploratory data analysis) on given dataset: real_estate_dataset.csv\n",
    "\n",
    "We do not want to give you precise steps to follow, but based on previous lessons, you should have an idea what steps are needed and which should not be skipped. In order to guide you just a bit, here are some ideas:\n",
    "\n",
    "* it is always good to check how many data are missing - and how can we solve missing data in this dataset?\n",
    "* what data types have different columns?\n",
    "* what could be set as index? And does it make sense here?\n",
    "* price column can be for sure better formated\n",
    "* can we spot some outliers? What method to see outliers can be used?\n",
    "* Total area can be in metres (we are in Austria) and numeric, loft size as well\n",
    "* who is the most active broker?\n",
    "* what is most sold object type?\n",
    "* can you do nice visualisation of the data?\n",
    "* is there a correlation between price and size? Can we see it?\n",
    "* is there any other patterns to discribe?"
   ]
  },
  {
   "cell_type": "markdown",
   "id": "29960c47-b878-4b7e-89e7-30413fd5bab8",
   "metadata": {},
   "source": [
    "## What we want to be submitted:\n",
    "* send us your notebook on github as link and we will give you feedback\n",
    "* comment everything - explain your thoughts, why you think this column should be dropped, why you did this visualisation, everything.\n",
    "* you do not have to follow all ideas above, but your analysis should be going from start to end with logical steps\n",
    "* try to summarize with at least 3 sentences a conclusion on what we can tell about dataset."
   ]
  },
  {
   "cell_type": "code",
   "execution_count": null,
   "id": "5c0be9a5-073b-4e77-8a6c-0c89d1b2010b",
   "metadata": {},
   "outputs": [],
   "source": []
  },
  {
   "cell_type": "code",
   "execution_count": null,
   "id": "428e493a-ffe5-4d4b-8017-94187f183922",
   "metadata": {},
   "outputs": [],
   "source": []
  },
  {
   "cell_type": "code",
   "execution_count": null,
   "id": "7124e639-2a27-4c24-80c0-947a01953052",
   "metadata": {},
   "outputs": [],
   "source": []
  },
  {
   "cell_type": "code",
   "execution_count": null,
   "id": "95d960ff-4186-4daf-ab8a-b4762f44e27c",
   "metadata": {},
   "outputs": [],
   "source": []
  }
 ],
 "metadata": {
  "kernelspec": {
   "display_name": "Python 3 (ipykernel)",
   "language": "python",
   "name": "python3"
  },
  "language_info": {
   "codemirror_mode": {
    "name": "ipython",
    "version": 3
   },
   "file_extension": ".py",
   "mimetype": "text/x-python",
   "name": "python",
   "nbconvert_exporter": "python",
   "pygments_lexer": "ipython3",
   "version": "3.10.4"
  }
 },
 "nbformat": 4,
 "nbformat_minor": 5
}
