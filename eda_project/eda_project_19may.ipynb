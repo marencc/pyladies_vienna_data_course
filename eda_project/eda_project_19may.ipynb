{
 "cells": [
  {
   "cell_type": "markdown",
   "id": "df5bba51-c077-4fb1-ab94-415ad5c16ccc",
   "metadata": {},
   "source": [
    "# EDA Project\n",
    "\n",
    "In this notebook, you should perform EDA (Exploratory data analysis) on given dataset: real_estate_dataset.csv\n",
    "\n",
    "We do not want to give you precise steps to follow, but based on previous lessons, you should have an idea what steps are needed and which should not be skipped. In order to guide you just a bit, here are some ideas:\n",
    "\n",
    "* it is always good to check how many data are missing - and how can we solve missing data in this dataset?\n",
    "* what data types have different columns?\n",
    "* what could be set as index? And does it make sense here?\n",
    "* price column can be for sure better formated\n",
    "* can we spot some outliers? What method to see outliers can be used?\n",
    "* Total area can be in metres (we are in Austria) and numeric, loft size as well\n",
    "* who is the most active broker?\n",
    "* what is most sold object type?\n",
    "* can you do nice visualisation of the data?\n",
    "* is there a correlation between price and size? Can we see it?\n",
    "* is there any other patterns to discribe?"
   ]
  },
  {
   "cell_type": "markdown",
   "id": "29960c47-b878-4b7e-89e7-30413fd5bab8",
   "metadata": {},
   "source": [
    "## What we want to be submitted:\n",
    "* send us your notebook on github as link and we will give you feedback\n",
    "* comment everything - explain your thoughts, why you think this column should be dropped, why you did this visualisation, everything.\n",
    "* you do not have to follow all ideas above, but your analysis should be going from start to end with logical steps\n",
    "* try to summarize with at least 3 sentences a conclusion on what we can tell about dataset."
   ]
  },
  {
   "cell_type": "code",
   "execution_count": 11,
   "id": "5c0be9a5-073b-4e77-8a6c-0c89d1b2010b",
   "metadata": {},
   "outputs": [],
   "source": [
    "# Import modules\n",
    "import pandas as pd\n",
    "import matplotlib.pyplot as plt\n",
    "import seaborn as sns\n",
    "import numpy as np\n",
    "%matplotlib inline  \n",
    "#the output of plotting commands is displayed inline, directly below the code cell that produced it."
   ]
  },
  {
   "cell_type": "code",
   "execution_count": 2,
   "id": "428e493a-ffe5-4d4b-8017-94187f183922",
   "metadata": {},
   "outputs": [],
   "source": [
    "#Load dataset\n",
    "realstate = pd.read_csv(\"real_estate_dataset.csv\")"
   ]
  },
  {
   "cell_type": "code",
   "execution_count": 8,
   "id": "7124e639-2a27-4c24-80c0-947a01953052",
   "metadata": {},
   "outputs": [
    {
     "data": {
      "text/plain": [
       "<bound method NDFrame.head of                                                     url  \\\n",
       "0     http://www.loopnet.com/Listing/20157634/6060-E...   \n",
       "1     http://www.loopnet.com/Listing/18499430/1901-A...   \n",
       "2     http://www.loopnet.com/Listing/20000996/4510-O...   \n",
       "3     http://www.loopnet.com/Listing/19729524/7645-W...   \n",
       "4     http://www.loopnet.com/Listing/19535739/171-Mu...   \n",
       "...                                                 ...   \n",
       "9071  http://www.loopnet.com/Listing/19833597/316-Br...   \n",
       "9072  http://www.loopnet.com/Listing/19875908/3005-3...   \n",
       "9073  http://www.loopnet.com/Listing/19627936/12-Lar...   \n",
       "9074  http://www.loopnet.com/Listing/20080133/2688-A...   \n",
       "9075  http://www.loopnet.com/Listing/20003807/1775-G...   \n",
       "\n",
       "                      Address  \\\n",
       "0       Anchorage, AK 99518 ·   \n",
       "1       Fairbanks, AK 99701 ·   \n",
       "2       Anchorage, AK 99502 ·   \n",
       "3         Wasilla, AK 99654 ·   \n",
       "4       Anchorage, AK 99504 ·   \n",
       "...                       ...   \n",
       "9071  Thermopolis, WY 82443 ·   \n",
       "9072     Cheyenne, WY 82001 ·   \n",
       "9073      Boulder, WY 82923 ·   \n",
       "9074     Sheridan, WY 82801 ·   \n",
       "9075     Sheridan, WY 82801 ·   \n",
       "\n",
       "                                                   City  \\\n",
       "0               6060 Electron Dr., Anchorage, AK, 99518   \n",
       "1                1901 Airport Way, Fairbanks, AK, 99701   \n",
       "2     4510 Old International Airport Rd 99502, Ancho...   \n",
       "3            7645 W. Marigold Drive, Wasilla, AK, 99654   \n",
       "4                  171 Muldoon Rd, Anchorage, AK, 99504   \n",
       "...                                                 ...   \n",
       "9071               316 Broadway, Thermopolis, WY, 82443   \n",
       "9072         3005 & 3007 Nationway, Cheyenne, WY, 82001   \n",
       "9073           12 Larry Lozier Road, Boulder, WY, 82923   \n",
       "9074           2688 Aviation Drive, Sheridan, WY, 82801   \n",
       "9075             1775 Gabrielle Ct, Sheridan, WY, 82801   \n",
       "\n",
       "                    Owner Name  \\\n",
       "0       ODEX INVESTMENTS V LLC   \n",
       "1       SEATTLE SC PLAZA 2 LLC   \n",
       "2                          NaN   \n",
       "3     BAKE TECHNOLOGY PARK LLC   \n",
       "4                          NaN   \n",
       "...                        ...   \n",
       "9071                       NaN   \n",
       "9072                       NaN   \n",
       "9073                       NaN   \n",
       "9074                       NaN   \n",
       "9075                       NaN   \n",
       "\n",
       "                                        Mailing Address        Price  \\\n",
       "0              1001 4TH AVE STE 4500, SEATTLE, WA 98154  $10,239,431   \n",
       "1     1331 N CALIFORNIA BLVD STE 170, WALNUT CREEK, ...   $4,050,000   \n",
       "2                                                   NaN   $3,500,000   \n",
       "3        550 NEWPORT CENTER DR, NEWPORT BEACH, CA 92660   $3,267,000   \n",
       "4                                                   NaN   $5,000,000   \n",
       "...                                                 ...          ...   \n",
       "9071                                                NaN     $495,000   \n",
       "9072                                                NaN     $650,000   \n",
       "9073                                                NaN   $1,400,000   \n",
       "9074                                                NaN     $381,000   \n",
       "9075                                                NaN     $205,975   \n",
       "\n",
       "     Number of Units Total area Number Of Stories    Lot Size        Type  \\\n",
       "0                                                  680,276 SF        Land   \n",
       "1                     10,000 SF                 1     3.26 AC      Office   \n",
       "2                     28,521 SF                       1.09 AC      Office   \n",
       "3                                                       25 AC        Land   \n",
       "4                                               1   81,893 SF      Retail   \n",
       "...              ...        ...               ...         ...         ...   \n",
       "9071                   7,205 SF                 1   12,600 SF      Office   \n",
       "9072                   6,684 SF                       1.49 AC  Industrial   \n",
       "9073                   4,750 SF                       4.12 AC      Retail   \n",
       "9074                   5,000 SF                                Industrial   \n",
       "9075                                                  1.35 SF  Industrial   \n",
       "\n",
       "     Year Built                                         Other Info  \\\n",
       "0                Hard to find large I-2 site located near the c...   \n",
       "1          2006  Assessor's Parcel Number 0394921 *Sale include...   \n",
       "2                Three Story Office Building, Lot size 47,265 s...   \n",
       "3                Approximately 25 acres with 1,200+ ft frontage...   \n",
       "4          1978  SELLER MOTIVATED! PRICE REDUCED TO 5.0M! 6.62%...   \n",
       "...         ...                                                ...   \n",
       "9071       1961  6337 sq. ft. main level with 868 sq. ft. in ba...   \n",
       "9072             Price is for 3007 Nationway. 2184 sf DT's Car ...   \n",
       "9073             The Crossroad Store, or C-Store, is a rare com...   \n",
       "9074       2006  Shop space located at Sheridan County Airport ...   \n",
       "9075             Commercial/Industrial lot with gas, 3-Phase el...   \n",
       "\n",
       "                                                 Images              broker  \\\n",
       "0     http://x.lnimg.com/photo/poster_1920/cf0cb4964...        Greg Johnson   \n",
       "1     http://x.lnimg.com/photo/poster_1920/881647c1b...       Pamela Throop   \n",
       "2     http://x.lnimg.com/photo/poster_1920/dc70de703...        Vern Flowers   \n",
       "3     http://x.lnimg.com/photo/poster_1920/afd0e7ef8...  Carl D. Kuhn, CCIM   \n",
       "4     http://x.lnimg.com/photo/poster_1920/1f6d47208...          Doosan Bak   \n",
       "...                                                 ...                 ...   \n",
       "9071  http://x.lnimg.com/photo/poster_1920/e27fd3388...  Christine Johnston   \n",
       "9072  http://x.lnimg.com/photo/poster_1920/86f41d739...    Larry Sutherland   \n",
       "9073  http://x.lnimg.com/photo/poster_1920/bacb01205...    JHREA Commercial   \n",
       "9074  http://x.lnimg.com/photo/poster_1920/f289ef3e6...        Bruce Garber   \n",
       "9075  http://x.lnimg.com/photo/poster_1920/e19c932bc...        Bruce Garber   \n",
       "\n",
       "                 phone                       EMAIL secondary broker phone, 2  \\\n",
       "0     tel:+19075635500  gregory.c.johnson@noaa.gov              NaN      NaN   \n",
       "1     tel:+19074566008     realty@realtyalaska.com              NaN      NaN   \n",
       "2     tel:+19073494761       vernonflowers@shaw.ca              NaN      NaN   \n",
       "3     tel:+19077625887                 cdk@gci.net              NaN      NaN   \n",
       "4     tel:+13105288949         ceo@sicilypizza.com              NaN      NaN   \n",
       "...                ...                         ...              ...      ...   \n",
       "9071  tel:+13078642192                         NaN              NaN      NaN   \n",
       "9072  tel:+13077738455                         NaN              NaN      NaN   \n",
       "9073  tel:+13076900204                         NaN              NaN      NaN   \n",
       "9074  tel:+13076725838                         NaN              NaN      NaN   \n",
       "9075  tel:+13076725838                         NaN              NaN      NaN   \n",
       "\n",
       "     Email  \n",
       "0      NaN  \n",
       "1      NaN  \n",
       "2      NaN  \n",
       "3      NaN  \n",
       "4      NaN  \n",
       "...    ...  \n",
       "9071   NaN  \n",
       "9072   NaN  \n",
       "9073   NaN  \n",
       "9074   NaN  \n",
       "9075   NaN  \n",
       "\n",
       "[9076 rows x 20 columns]>"
      ]
     },
     "execution_count": 8,
     "metadata": {},
     "output_type": "execute_result"
    }
   ],
   "source": [
    "#Peek into the data. I can see the data is troublesome, as there is a lot of information per column\n",
    "realstate.head "
   ]
  },
  {
   "cell_type": "markdown",
   "id": "bd7a4e4e-1cf6-4f86-8d05-799817d27f48",
   "metadata": {},
   "source": [
    "### Surely, I shoudl tidy up the dataset to convey any message about it. From a \"first glance\" point of view I can see there are many missing values and data inside each column is not uniformly reported, but there are few attributes to organize..."
   ]
  },
  {
   "cell_type": "code",
   "execution_count": 9,
   "id": "c32dd1f1-4379-420c-a4af-83df5e2816a5",
   "metadata": {
    "tags": []
   },
   "outputs": [
    {
     "data": {
      "text/plain": [
       "Index(['url', 'Address', 'City', 'Owner Name', 'Mailing Address', 'Price',\n",
       "       'Number of Units', 'Total area', 'Number Of Stories', 'Lot Size',\n",
       "       'Type', 'Year Built', 'Other Info', 'Images', 'broker', 'phone',\n",
       "       'EMAIL', 'secondary broker', 'phone, 2', 'Email'],\n",
       "      dtype='object')"
      ]
     },
     "execution_count": 9,
     "metadata": {},
     "output_type": "execute_result"
    }
   ],
   "source": [
    "realstate.columns"
   ]
  },
  {
   "cell_type": "code",
   "execution_count": 12,
   "id": "acf92c04-2348-4906-9f0c-2d8d8b4bbefc",
   "metadata": {},
   "outputs": [
    {
     "data": {
      "text/plain": [
       "(9076, 20)"
      ]
     },
     "execution_count": 12,
     "metadata": {},
     "output_type": "execute_result"
    }
   ],
   "source": [
    "realstate.shape"
   ]
  },
  {
   "cell_type": "markdown",
   "id": "97711e70-5d08-4f49-b8f8-731d4c927e46",
   "metadata": {},
   "source": [
    "What is the percentage of null values per column?"
   ]
  },
  {
   "cell_type": "code",
   "execution_count": 13,
   "id": "a678f400-4db5-4814-ba55-3d4ed892b59e",
   "metadata": {},
   "outputs": [
    {
     "data": {
      "text/plain": [
       "url                   0.00\n",
       "Address               0.00\n",
       "City                  0.00\n",
       "Owner Name           99.97\n",
       "Mailing Address      99.97\n",
       "Price                 0.00\n",
       "Number of Units       0.00\n",
       "Total area            0.00\n",
       "Number Of Stories     0.00\n",
       "Lot Size              0.00\n",
       "Type                  0.00\n",
       "Year Built            0.00\n",
       "Other Info            1.67\n",
       "Images                0.00\n",
       "broker                1.67\n",
       "phone                 1.67\n",
       "EMAIL                88.84\n",
       "secondary broker     70.38\n",
       "phone, 2             70.38\n",
       "Email                97.49\n",
       "dtype: float64"
      ]
     },
     "execution_count": 13,
     "metadata": {},
     "output_type": "execute_result"
    }
   ],
   "source": [
    "np.round((realstate.isna().sum() / realstate.shape[0]) * 100, 2)"
   ]
  },
  {
   "cell_type": "markdown",
   "id": "2efec5f0-b7a8-463f-bd0a-4c8850f94dd8",
   "metadata": {
    "tags": []
   },
   "source": [
    "Columns: Owner Name, mailing Address, email, secondary broker, phone, 2 and email (from the second broker) have a significant amount of null values. I presume that the absence of information doesn't not imply an information loss, as these may be casual. The important information here is the propierties of the pontential property to buy, the broker and the price... \n",
    "\n",
    "The other fields that contain a small percentage of missing values, might not be specially problematic. I have not decide if I will discard the items that don't have info."
   ]
  },
  {
   "cell_type": "code",
   "execution_count": 15,
   "id": "eb59d48f-d826-424d-9ba3-da137de42f45",
   "metadata": {},
   "outputs": [
    {
     "name": "stdout",
     "output_type": "stream",
     "text": [
      "<class 'pandas.core.frame.DataFrame'>\n",
      "RangeIndex: 9076 entries, 0 to 9075\n",
      "Data columns (total 20 columns):\n",
      " #   Column             Non-Null Count  Dtype \n",
      "---  ------             --------------  ----- \n",
      " 0   url                9076 non-null   object\n",
      " 1   Address            9076 non-null   object\n",
      " 2   City               9076 non-null   object\n",
      " 3   Owner Name         3 non-null      object\n",
      " 4   Mailing Address    3 non-null      object\n",
      " 5   Price              9076 non-null   object\n",
      " 6   Number of Units    9076 non-null   object\n",
      " 7   Total area         9076 non-null   object\n",
      " 8   Number Of Stories  9076 non-null   object\n",
      " 9   Lot Size           9076 non-null   object\n",
      " 10  Type               9076 non-null   object\n",
      " 11  Year Built         9076 non-null   object\n",
      " 12  Other Info         8924 non-null   object\n",
      " 13  Images             9076 non-null   object\n",
      " 14  broker             8924 non-null   object\n",
      " 15  phone              8924 non-null   object\n",
      " 16  EMAIL              1013 non-null   object\n",
      " 17  secondary broker   2688 non-null   object\n",
      " 18  phone, 2           2688 non-null   object\n",
      " 19  Email              228 non-null    object\n",
      "dtypes: object(20)\n",
      "memory usage: 1.4+ MB\n"
     ]
    }
   ],
   "source": [
    "realstate.info()\n",
    "#realstate.describe().apply(lambda s: s.apply('{0:.2f}'.format))"
   ]
  },
  {
   "cell_type": "code",
   "execution_count": null,
   "id": "77967e30-7ecc-44d9-a343-a14b4cd9c028",
   "metadata": {},
   "outputs": [],
   "source": [
    "realstate['price'] = realstate['price'].astype(int)\n",
    "realstate['price'].describe().apply(lambda x: format(x, 'f'))\n",
    "realstate['size(sqft)'] = realstate['size(sqft)'].astype(int)\n",
    "realstate['size(sqft)'].describe().apply(lambda x: format(x, 'f'))\n",
    "realstate['longitude'] = realstate['longitude'].astype(float)\n",
    "realstate['latitude'] = realstate['latitude'].astype(float)\n",
    "realstate['last_update'] = pd.to_datetime(realstate['last_update'], format='%Y-%m-%dT%H:%M:%SZ', errors='coerce')"
   ]
  },
  {
   "cell_type": "code",
   "execution_count": 16,
   "id": "112a50b3-3956-4788-9b47-1d20e8e4fa48",
   "metadata": {},
   "outputs": [
    {
     "data": {
      "text/html": [
       "<div>\n",
       "<style scoped>\n",
       "    .dataframe tbody tr th:only-of-type {\n",
       "        vertical-align: middle;\n",
       "    }\n",
       "\n",
       "    .dataframe tbody tr th {\n",
       "        vertical-align: top;\n",
       "    }\n",
       "\n",
       "    .dataframe thead th {\n",
       "        text-align: right;\n",
       "    }\n",
       "</style>\n",
       "<table border=\"1\" class=\"dataframe\">\n",
       "  <thead>\n",
       "    <tr style=\"text-align: right;\">\n",
       "      <th></th>\n",
       "      <th>url</th>\n",
       "      <th>Address</th>\n",
       "      <th>City</th>\n",
       "      <th>Owner Name</th>\n",
       "      <th>Mailing Address</th>\n",
       "      <th>Price</th>\n",
       "      <th>Number of Units</th>\n",
       "      <th>Total area</th>\n",
       "      <th>Number Of Stories</th>\n",
       "      <th>Lot Size</th>\n",
       "      <th>Type</th>\n",
       "      <th>Year Built</th>\n",
       "      <th>Other Info</th>\n",
       "      <th>Images</th>\n",
       "      <th>broker</th>\n",
       "      <th>phone</th>\n",
       "      <th>EMAIL</th>\n",
       "      <th>secondary broker</th>\n",
       "      <th>phone, 2</th>\n",
       "      <th>Email</th>\n",
       "    </tr>\n",
       "  </thead>\n",
       "  <tbody>\n",
       "    <tr>\n",
       "      <th>count</th>\n",
       "      <td>9076</td>\n",
       "      <td>9076</td>\n",
       "      <td>9076</td>\n",
       "      <td>3</td>\n",
       "      <td>3</td>\n",
       "      <td>9076</td>\n",
       "      <td>9076</td>\n",
       "      <td>9076</td>\n",
       "      <td>9076</td>\n",
       "      <td>9076</td>\n",
       "      <td>9076</td>\n",
       "      <td>9076</td>\n",
       "      <td>8924</td>\n",
       "      <td>9076</td>\n",
       "      <td>8924</td>\n",
       "      <td>8924</td>\n",
       "      <td>1013</td>\n",
       "      <td>2688</td>\n",
       "      <td>2688</td>\n",
       "      <td>228</td>\n",
       "    </tr>\n",
       "    <tr>\n",
       "      <th>unique</th>\n",
       "      <td>9076</td>\n",
       "      <td>5031</td>\n",
       "      <td>8812</td>\n",
       "      <td>3</td>\n",
       "      <td>3</td>\n",
       "      <td>3544</td>\n",
       "      <td>155</td>\n",
       "      <td>3491</td>\n",
       "      <td>23</td>\n",
       "      <td>4601</td>\n",
       "      <td>13</td>\n",
       "      <td>137</td>\n",
       "      <td>8703</td>\n",
       "      <td>8873</td>\n",
       "      <td>5370</td>\n",
       "      <td>5034</td>\n",
       "      <td>742</td>\n",
       "      <td>1794</td>\n",
       "      <td>1645</td>\n",
       "      <td>185</td>\n",
       "    </tr>\n",
       "    <tr>\n",
       "      <th>top</th>\n",
       "      <td>http://www.loopnet.com/Listing/20157634/6060-E...</td>\n",
       "      <td></td>\n",
       "      <td>Access Denied\\nAccess Denied\\nYou are in breac...</td>\n",
       "      <td>ODEX INVESTMENTS V LLC</td>\n",
       "      <td>1001 4TH AVE STE 4500, SEATTLE, WA 98154</td>\n",
       "      <td>$3,500,000</td>\n",
       "      <td></td>\n",
       "      <td></td>\n",
       "      <td></td>\n",
       "      <td></td>\n",
       "      <td>Land</td>\n",
       "      <td></td>\n",
       "      <td>\"</td>\n",
       "      <td></td>\n",
       "      <td>Glen Kunofsky</td>\n",
       "      <td>tel:+12124305115</td>\n",
       "      <td>alvin@themansourgroup.com</td>\n",
       "      <td>Kevin Mansour</td>\n",
       "      <td>tel:+18583733187</td>\n",
       "      <td>kevin@themansourgroup.com</td>\n",
       "    </tr>\n",
       "    <tr>\n",
       "      <th>freq</th>\n",
       "      <td>1</td>\n",
       "      <td>152</td>\n",
       "      <td>152</td>\n",
       "      <td>1</td>\n",
       "      <td>1</td>\n",
       "      <td>290</td>\n",
       "      <td>8527</td>\n",
       "      <td>4315</td>\n",
       "      <td>6181</td>\n",
       "      <td>1026</td>\n",
       "      <td>3232</td>\n",
       "      <td>5831</td>\n",
       "      <td>44</td>\n",
       "      <td>191</td>\n",
       "      <td>67</td>\n",
       "      <td>67</td>\n",
       "      <td>11</td>\n",
       "      <td>33</td>\n",
       "      <td>33</td>\n",
       "      <td>9</td>\n",
       "    </tr>\n",
       "  </tbody>\n",
       "</table>\n",
       "</div>"
      ],
      "text/plain": [
       "                                                      url Address  \\\n",
       "count                                                9076    9076   \n",
       "unique                                               9076    5031   \n",
       "top     http://www.loopnet.com/Listing/20157634/6060-E...           \n",
       "freq                                                    1     152   \n",
       "\n",
       "                                                     City  \\\n",
       "count                                                9076   \n",
       "unique                                               8812   \n",
       "top     Access Denied\\nAccess Denied\\nYou are in breac...   \n",
       "freq                                                  152   \n",
       "\n",
       "                    Owner Name                           Mailing Address  \\\n",
       "count                        3                                         3   \n",
       "unique                       3                                         3   \n",
       "top     ODEX INVESTMENTS V LLC  1001 4TH AVE STE 4500, SEATTLE, WA 98154   \n",
       "freq                         1                                         1   \n",
       "\n",
       "             Price Number of Units Total area Number Of Stories Lot Size  \\\n",
       "count         9076            9076       9076              9076     9076   \n",
       "unique        3544             155       3491                23     4601   \n",
       "top     $3,500,000                                                         \n",
       "freq           290            8527       4315              6181     1026   \n",
       "\n",
       "        Type Year Built Other Info Images         broker             phone  \\\n",
       "count   9076       9076       8924   9076           8924              8924   \n",
       "unique    13        137       8703   8873           5370              5034   \n",
       "top     Land                     \"         Glen Kunofsky  tel:+12124305115   \n",
       "freq    3232       5831         44    191             67                67   \n",
       "\n",
       "                            EMAIL secondary broker          phone, 2  \\\n",
       "count                        1013             2688              2688   \n",
       "unique                        742             1794              1645   \n",
       "top     alvin@themansourgroup.com    Kevin Mansour  tel:+18583733187   \n",
       "freq                           11               33                33   \n",
       "\n",
       "                            Email  \n",
       "count                         228  \n",
       "unique                        185  \n",
       "top     kevin@themansourgroup.com  \n",
       "freq                            9  "
      ]
     },
     "execution_count": 16,
     "metadata": {},
     "output_type": "execute_result"
    }
   ],
   "source": [
    "realstate.describe()"
   ]
  },
  {
   "cell_type": "markdown",
   "id": "c651a828-0228-4e3e-be85-0b1518a71da9",
   "metadata": {
    "tags": []
   },
   "source": [
    "### Images and URL lead to a web page. \n",
    "I've been researching about it and I could apply an easy and fast way to see if the webpage is available,\n",
    "with the package webbrowswer\n"
   ]
  },
  {
   "cell_type": "code",
   "execution_count": null,
   "id": "c47017bd-958e-4752-b75d-f9ff98bcb25b",
   "metadata": {},
   "outputs": [],
   "source": [
    "## import webbrowser\n",
    "## url_1 = realstate.url[0]\n",
    "## webbrowser.open_new_tab(url_1)\n",
    "##\n",
    "##"
   ]
  },
  {
   "cell_type": "markdown",
   "id": "c3be9010-b308-4af9-b86b-118c841fab97",
   "metadata": {
    "tags": []
   },
   "source": [
    "### Type, broker, place seem like correct attributes to organize the data around. Statistics about those should be interesting, the intersection between them and Price, Are, Year built are key info"
   ]
  },
  {
   "cell_type": "code",
   "execution_count": null,
   "id": "8987a606-a697-4595-8b3b-1f74401b4141",
   "metadata": {},
   "outputs": [],
   "source": []
  },
  {
   "cell_type": "code",
   "execution_count": null,
   "id": "28002784-3a9e-4ca5-9089-1ad9707176a2",
   "metadata": {},
   "outputs": [],
   "source": []
  },
  {
   "cell_type": "code",
   "execution_count": null,
   "id": "56c1f73e-0844-420f-ab62-fcb31111b0cb",
   "metadata": {},
   "outputs": [],
   "source": []
  }
 ],
 "metadata": {
  "kernelspec": {
   "display_name": "Python 3 (ipykernel)",
   "language": "python",
   "name": "python3"
  },
  "language_info": {
   "codemirror_mode": {
    "name": "ipython",
    "version": 3
   },
   "file_extension": ".py",
   "mimetype": "text/x-python",
   "name": "python",
   "nbconvert_exporter": "python",
   "pygments_lexer": "ipython3",
   "version": "3.7.12"
  }
 },
 "nbformat": 4,
 "nbformat_minor": 5
}
