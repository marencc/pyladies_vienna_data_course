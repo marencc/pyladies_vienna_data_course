{
 "cells": [
  {
   "cell_type": "markdown",
   "id": "df5bba51-c077-4fb1-ab94-415ad5c16ccc",
   "metadata": {},
   "source": [
    "# EDA Project\n",
    "\n",
    "In this notebook, you should perform EDA (Exploratory data analysis) on given dataset: real_estate_dataset.csv\n",
    "\n",
    "We do not want to give you precise steps to follow, but based on previous lessons, you should have an idea what steps are needed and which should not be skipped. In order to guide you just a bit, here are some ideas:\n",
    "\n",
    "* it is always good to check how many data are missing - and how can we solve missing data in this dataset?\n",
    "* what data types have different columns?\n",
    "* what could be set as index? And does it make sense here?\n",
    "* price column can be for sure better formated\n",
    "* can we spot some outliers? What method to see outliers can be used?\n",
    "* Total area can be in metres (we are in Austria) and numeric, loft size as well\n",
    "* who is the most active broker?\n",
    "* what is most sold object type?\n",
    "* can you do nice visualisation of the data?\n",
    "* is there a correlation between price and size? Can we see it?\n",
    "* is there any other patterns to discribe?"
   ]
  },
  {
   "cell_type": "markdown",
   "id": "29960c47-b878-4b7e-89e7-30413fd5bab8",
   "metadata": {
    "tags": []
   },
   "source": [
    "## What we want to be submitted:\n",
    "* send us your notebook on github as link and we will give you feedback\n",
    "* comment everything - explain your thoughts, why you think this column should be dropped, why you did this visualisation, everything.\n",
    "* you do not have to follow all ideas above, but your analysis should be going from start to end with logical steps\n",
    "* try to summarize with at least 3 sentences a conclusion on what we can tell about dataset."
   ]
  },
  {
   "cell_type": "markdown",
   "id": "8081c0d3-ecb1-425e-98d3-bfedd9e156a9",
   "metadata": {
    "tags": []
   },
   "source": [
    "https://towardsdatascience.com/how-to-change-semi-structured-text-into-a-pandas-dataframe-ef531d6baab4\n",
    "https://medium.com/analytics-vidhya/apartment-market-web-scrapping-and-eda-using-python-a9eacf6d64e2\n",
    "https://github.com/hw355/eda_realtor/blob/main/EDA_Realtor.ipynb\n",
    "https://medium.com/web-mining-is688-spring-2021/assignment-1-71368059c638\n",
    "https://stackoverflow.com/questions/56770982/how-to-split-text-in-one-column-of-pandas-data-frame-to-required-formatthree-co"
   ]
  },
  {
   "cell_type": "code",
   "execution_count": null,
   "id": "5c0be9a5-073b-4e77-8a6c-0c89d1b2010b",
   "metadata": {},
   "outputs": [],
   "source": [
    "# Import modules\n",
    "import pandas as pd\n",
    "import matplotlib.pyplot as plt\n",
    "import seaborn as sns\n",
    "import numpy as np\n",
    "import missingno as msno\n",
    "%matplotlib inline  \n",
    "#the output of plotting commands is displayed inline, directly below the code cell that produced it."
   ]
  },
  {
   "cell_type": "code",
   "execution_count": null,
   "id": "428e493a-ffe5-4d4b-8017-94187f183922",
   "metadata": {},
   "outputs": [],
   "source": [
    "#Load dataset\n",
    "realstate = pd.read_csv(\"real_estate_dataset.csv\")"
   ]
  },
  {
   "cell_type": "code",
   "execution_count": null,
   "id": "7124e639-2a27-4c24-80c0-947a01953052",
   "metadata": {},
   "outputs": [],
   "source": [
    "#Peek into the data. I can see the data is troublesome, as there is a lot of information per column\n",
    "print(\"Contents of the 'head' of Dataframe : \")\n",
    "realstate.head"
   ]
  },
  {
   "cell_type": "code",
   "execution_count": null,
   "id": "c32dd1f1-4379-420c-a4af-83df5e2816a5",
   "metadata": {
    "tags": []
   },
   "outputs": [],
   "source": [
    "realstate.columns"
   ]
  },
  {
   "cell_type": "code",
   "execution_count": null,
   "id": "acf92c04-2348-4906-9f0c-2d8d8b4bbefc",
   "metadata": {
    "tags": []
   },
   "outputs": [],
   "source": [
    "realstate.shape"
   ]
  },
  {
   "cell_type": "markdown",
   "id": "c9963e72-03ba-442d-81ac-e05311cca92f",
   "metadata": {},
   "source": [
    "## DataTypes Right now it is not useful, I need to change the types ¿manually? "
   ]
  },
  {
   "cell_type": "code",
   "execution_count": null,
   "id": "f357fd2e-d098-4518-bc70-ecea1f1861a0",
   "metadata": {},
   "outputs": [],
   "source": [
    "dataTypeDf = pd.DataFrame(realstate.dtypes.value_counts()).reset_index().rename(columns={\"index\":\"variableType\",0:\"count\"})\n",
    "fig,ax = plt.subplots()\n",
    "fig.set_size_inches(20,5)\n",
    "sns.barplot(data=dataTypeDf,x=\"variableType\",y=\"count\",ax=ax,color=\"#34495e\")\n",
    "ax.set(xlabel='Variable Type', ylabel='Count',title=\"Variables Count Across Datatype\")"
   ]
  },
  {
   "cell_type": "markdown",
   "id": "1f722775-a976-4ce9-8d2c-669b6f782da8",
   "metadata": {
    "tags": []
   },
   "source": [
    "## Missing Values... \n",
    "Surely, I should tidy up the dataset to convey any message about it. From a \"first glance\" point of view I can see there are many missing values and data inside each column is not uniformly reported, but there are few attributes to organize...\n",
    "\n",
    "What is the percentage of null values per column? In order to do this, I must fill with NaN everywhere there's a missing value. "
   ]
  },
  {
   "cell_type": "code",
   "execution_count": null,
   "id": "63733764-5b8a-44e3-8ed2-55e651a4ee17",
   "metadata": {
    "tags": []
   },
   "outputs": [],
   "source": [
    "#realstatefilled = realstate.fillna(value=np.nan) #https://stackoverflow.com/questions/23743460/replace-none-with-nan-in-pandas-dataframe\n",
    "realstatefilled = realstate.replace(r'^\\s+$', np.nan, regex=True) #https://stackoverflow.com/questions/13445241/replacing-blank-values-white-space-with-nan-in-pandas"
   ]
  },
  {
   "cell_type": "code",
   "execution_count": null,
   "id": "f96a2944-66b5-4dc9-90b5-e5c08e497328",
   "metadata": {},
   "outputs": [],
   "source": [
    "realstatefilled.head"
   ]
  },
  {
   "cell_type": "markdown",
   "id": "313db2ab-7a98-4357-9323-91f7e72cc9ce",
   "metadata": {
    "tags": []
   },
   "source": [
    "I found about this library that sum up for the NaN values in a visual way, I'll make use of the basic graphs. "
   ]
  },
  {
   "cell_type": "code",
   "execution_count": null,
   "id": "79d6171e-6ca1-4a30-b1f9-7f9fd98cb55c",
   "metadata": {},
   "outputs": [],
   "source": [
    "np.round((realstatefilled.isna().sum() / realstatefilled.shape[0]) * 100, 2)"
   ]
  },
  {
   "cell_type": "code",
   "execution_count": null,
   "id": "d6709c0a-348a-4c15-8982-4ce74e2e19a0",
   "metadata": {
    "tags": []
   },
   "outputs": [],
   "source": [
    "missingValueColumns = realstatefilled.columns[realstatefilled.isnull().any()].tolist()\n",
    "#msno.bar(realstatefilled[missingValueColumns],\n",
    "#         figsize=(16,6),\n",
    "#         color=\"#028A0F\",\n",
    "#         fontsize=8,\n",
    "#         labels=True)\n",
    "msno.bar(realstatefilled,\n",
    "         figsize=(16,6),\n",
    "         color=\"#028A0F\",\n",
    "         fontsize=8,\n",
    "         labels=True)"
   ]
  },
  {
   "cell_type": "code",
   "execution_count": null,
   "id": "0cfb859c-69d6-49ee-b097-b78a3e3dd09f",
   "metadata": {},
   "outputs": [],
   "source": [
    "msno.matrix(realstatefilled[missingValueColumns],\n",
    "            width_ratios=(10,1),\\\n",
    "            figsize=(16,6),\n",
    "            color=(0,0, 0),\n",
    "            fontsize=8,\n",
    "            sparkline=True,\n",
    "            labels=True)"
   ]
  },
  {
   "cell_type": "code",
   "execution_count": null,
   "id": "b937a13f-64ba-424c-b14f-06d68f8cfb8d",
   "metadata": {},
   "outputs": [],
   "source": [
    " msno.heatmap(realstatefilled,figsize=(16,16))"
   ]
  },
  {
   "cell_type": "code",
   "execution_count": null,
   "id": "b8c35ae5-6677-4605-971d-fc693f8677a7",
   "metadata": {
    "tags": []
   },
   "outputs": [],
   "source": [
    "np.round((realstatefilled.isna().sum() / realstatefilled.shape[0]) * 100, 2)\n",
    "#np.round((realstate.isna().sum() / realstate.shape[0]) * 100, 2)"
   ]
  },
  {
   "cell_type": "markdown",
   "id": "2efec5f0-b7a8-463f-bd0a-4c8850f94dd8",
   "metadata": {
    "tags": []
   },
   "source": [
    "Columns: Owner Name, mailing Address, email, secondary broker, phone, 2 and email (from the second broker, I presume) have a significant amount of null values. I presume that the absence of information doesn't not imply an information loss, as these may be casual. The important information here is the propierties of the pontential property to buy, the broker and the price... \n",
    "\n",
    "The other fields that contain a small percentage of missing values, might not be specially problematic. I have not decide if I will discard the items that don't have info."
   ]
  },
  {
   "cell_type": "code",
   "execution_count": null,
   "id": "c532c6c1-8c6e-42cf-84a9-9b98a2f4885e",
   "metadata": {},
   "outputs": [],
   "source": [
    "# Delete columns containing either 70% or more than that NaN Values\n",
    "perc = 70.0\n",
    "min_count =  int(((100-perc)/100)*realstatefilled.shape[0] + 1)\n",
    "mod_df = realstatefilled.dropna( axis=1, \n",
    "                thresh=min_count)\n",
    "print(\"Modified Dataframe : \")\n",
    "print(mod_df)"
   ]
  },
  {
   "cell_type": "code",
   "execution_count": null,
   "id": "f9f18ff0-9ae2-4d15-b778-f0d67576f30e",
   "metadata": {},
   "outputs": [],
   "source": [
    "np.round((mod_df.isna().sum() / mod_df.shape[0]) * 100, 2)"
   ]
  },
  {
   "cell_type": "markdown",
   "id": "8e7202f7-8a2b-4cda-ac09-073ae30e328c",
   "metadata": {},
   "source": [
    "### I still have an important amount of columns that have NA values. For instance, Total area, number of stories and year built. If the dataset will serve to predict "
   ]
  },
  {
   "cell_type": "code",
   "execution_count": null,
   "id": "112a50b3-3956-4788-9b47-1d20e8e4fa48",
   "metadata": {
    "tags": []
   },
   "outputs": [],
   "source": [
    "#realstate.describe()\n",
    "mod_df.describe()"
   ]
  },
  {
   "cell_type": "code",
   "execution_count": null,
   "id": "a678f400-4db5-4814-ba55-3d4ed892b59e",
   "metadata": {},
   "outputs": [],
   "source": []
  },
  {
   "cell_type": "code",
   "execution_count": null,
   "id": "6e6c5dfa-2fc2-4863-a24a-7a9bd82709f4",
   "metadata": {},
   "outputs": [],
   "source": [
    "#print(realstate.iloc[32:42, 1:11 ])\n",
    "print(mod_df.iloc[32:42, 1:11 ])"
   ]
  },
  {
   "cell_type": "code",
   "execution_count": null,
   "id": "77967e30-7ecc-44d9-a343-a14b4cd9c028",
   "metadata": {},
   "outputs": [],
   "source": [
    "#realstate[realstate.columns[6]] = realstate[realstate.columns[6]].replace('[\\$,]', '', regex=True)\n",
    "realstate['Price'] = pd.to_numeric(realstate['Price'].replace('[^0-9\\.-]','', regex = True))\n",
    "#realstate['Price'].describe()\n",
    "#realstate['Price'].describe().apply(lambda x: format(x, 'f'))"
   ]
  },
  {
   "cell_type": "code",
   "execution_count": null,
   "id": "7f8240d7-e1c9-4fee-b314-d891fabd6ef2",
   "metadata": {},
   "outputs": [],
   "source": [
    "#https://www.w3resource.com/python-exercises/python-basic-exercise-61.php\n",
    "d_ft = int(input(\"Input distance in feet: \"))\n",
    "d_inches = d_ft * 12\n",
    "d_yards = d_ft / 3.0\n",
    "d_miles = d_ft / 5280.0\n",
    "\n",
    "\n",
    "df.loc[df.Weight == \"155\", \"Name\"] = \"John\"\n",
    "\n",
    "###https://www.geeksforgeeks.org/python-pandas-series-str-find/\n",
    "##https://www.shanelynn.ie/pandas-iloc-loc-select-rows-and-columns-dataframe/\n",
    "  \n",
    "# dropping null value columns to avoid errors\n",
    "data.dropna(inplace = True)\n",
    " \n",
    "# substring to be searched\n",
    "sub ='a'\n",
    " \n",
    "# creating and passing series to new column\n",
    "data[\"Indexes\"]= data[\"Name\"].str.find(sub)\n",
    " \n",
    "# display\n",
    "data"
   ]
  },
  {
   "cell_type": "code",
   "execution_count": null,
   "id": "afeec668-e855-491c-87cb-b83a5dfb23d4",
   "metadata": {},
   "outputs": [],
   "source": [
    "realstate['size(sqft)'] = realstate['size(sqft)'].astype(int)\n",
    "realstate['size(sqft)'].describe().apply(lambda x: format(x, 'f'))\n",
    "realstate['longitude'] = realstate['longitude'].astype(float)\n",
    "realstate['latitude'] = realstate['latitude'].astype(float)\n",
    "realstate['last_update'] = pd.to_datetime(realstate['last_update'], format='%Y-%m-%dT%H:%M:%SZ', errors='coerce')"
   ]
  },
  {
   "cell_type": "code",
   "execution_count": null,
   "id": "eb59d48f-d826-424d-9ba3-da137de42f45",
   "metadata": {},
   "outputs": [],
   "source": [
    "realstate.info()\n",
    "#realstate.describe().apply(lambda s: s.apply('{0:.2f}'.format))"
   ]
  },
  {
   "cell_type": "code",
   "execution_count": null,
   "id": "190c8632-9051-4e21-919f-fa72bfd5e906",
   "metadata": {},
   "outputs": [],
   "source": [
    "#https://stackoverflow.com/questions/56770982/how-to-split-text-in-one-column-of-pandas-data-frame-to-required-formatthree-co"
   ]
  },
  {
   "cell_type": "markdown",
   "id": "c651a828-0228-4e3e-be85-0b1518a71da9",
   "metadata": {
    "tags": []
   },
   "source": [
    "https://stackoverflow.com/questions/56770982/how-to-split-text-in-one-column-of-pandas-data-frame-to-required-formatthree-co### Images and URL lead to a web page. \n",
    "I've been researching about it and I could apply an easy and fast way to see if the webpage is available,\n",
    "with the package webbrowswer\n"
   ]
  },
  {
   "cell_type": "code",
   "execution_count": null,
   "id": "c47017bd-958e-4752-b75d-f9ff98bcb25b",
   "metadata": {},
   "outputs": [],
   "source": [
    "## import webbrowser\n",
    "## url_1 = realstate.url[0]\n",
    "## webbrowser.open_new_tab(url_1)\n",
    "##\n",
    "##"
   ]
  },
  {
   "cell_type": "code",
   "execution_count": null,
   "id": "66b0c0a9-789f-4f2a-8603-0b7cc6b9ea99",
   "metadata": {},
   "outputs": [],
   "source": [
    "import pandas as pd\n",
    "\n",
    "ages = ['Age 96 - 97', 'Age greater than 99', '65-74 years old', '75+ years old']\n",
    "df = pd.DataFrame({'age': ages})\n",
    "\n",
    "df[['age_low', 'age_high']] = df['age'].str.extract(r'(\\d+)(?:\\D+(\\d+))?')\n",
    "print(df)\n",
    "\n",
    "#### Try r'(\\d+)(?:[\\s-]*(\\d+))?' or r'(\\d+)[\\s-]*(\\d*)' – \n"
   ]
  },
  {
   "cell_type": "code",
   "execution_count": null,
   "id": "6519f6ac-a63b-49f9-b4c3-e34fed48f723",
   "metadata": {},
   "outputs": [],
   "source": [
    "from datetime import datetime\n",
    "# Pongo bien la fecha\n",
    "data['x'] = [datetime.utcfromtimestamp(x).strftime('%Y-%m-%d %H:%M:%S') for x in data['x']]\n",
    "data['x'] = pd.to_datetime(data['x'])\n",
    "\n",
    "data.head()\n"
   ]
  },
  {
   "cell_type": "code",
   "execution_count": null,
   "id": "475f93d7-0be9-4285-98e3-20434241927f",
   "metadata": {},
   "outputs": [],
   "source": []
  },
  {
   "cell_type": "code",
   "execution_count": null,
   "id": "7f988490-0d7d-4b4a-a7b3-2107e82e736a",
   "metadata": {},
   "outputs": [],
   "source": []
  },
  {
   "cell_type": "code",
   "execution_count": null,
   "id": "0a242f54-d584-4837-9f37-268b6dd45dcc",
   "metadata": {},
   "outputs": [],
   "source": []
  },
  {
   "cell_type": "markdown",
   "id": "c3be9010-b308-4af9-b86b-118c841fab97",
   "metadata": {
    "tags": []
   },
   "source": [
    "### Type, broker, place seem like correct attributes to organize the data around. Statistics about those should be interesting, the intersection between them and Price, Are, Year built are key info"
   ]
  },
  {
   "cell_type": "code",
   "execution_count": null,
   "id": "8987a606-a697-4595-8b3b-1f74401b4141",
   "metadata": {},
   "outputs": [],
   "source": []
  },
  {
   "cell_type": "code",
   "execution_count": null,
   "id": "28002784-3a9e-4ca5-9089-1ad9707176a2",
   "metadata": {},
   "outputs": [],
   "source": []
  },
  {
   "cell_type": "code",
   "execution_count": null,
   "id": "56c1f73e-0844-420f-ab62-fcb31111b0cb",
   "metadata": {},
   "outputs": [],
   "source": []
  }
 ],
 "metadata": {
  "kernelspec": {
   "display_name": "Python 3 (ipykernel)",
   "language": "python",
   "name": "python3"
  },
  "language_info": {
   "codemirror_mode": {
    "name": "ipython",
    "version": 3
   },
   "file_extension": ".py",
   "mimetype": "text/x-python",
   "name": "python",
   "nbconvert_exporter": "python",
   "pygments_lexer": "ipython3",
   "version": "3.7.12"
  }
 },
 "nbformat": 4,
 "nbformat_minor": 5
}
