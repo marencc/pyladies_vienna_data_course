{
 "cells": [
  {
   "cell_type": "markdown",
   "id": "df5bba51-c077-4fb1-ab94-415ad5c16ccc",
   "metadata": {
    "tags": []
   },
   "source": [
    "# EDA Project\n",
    "\n",
    "In this notebook, you should perform EDA (Exploratory data analysis) on given dataset: real_estate_dataset.csv\n",
    "\n",
    "We do not want to give you precise steps to follow, but based on previous lessons, you should have an idea what steps are needed and which should not be skipped. In order to guide you just a bit, here are some ideas:\n",
    "\n",
    "* it is always good to check how many data are missing - and how can we solve missing data in this dataset?\n",
    "* what data types have different columns?\n",
    "* what could be set as index? And does it make sense here?\n",
    "* price column can be for sure better formated\n",
    "* can we spot some outliers? What method to see outliers can be used?\n",
    "* Total area can be in metres (we are in Austria) and numeric, loft size as well\n",
    "* who is the most active broker?\n",
    "* what is most sold object type?\n",
    "* can you do nice visualisation of the data?\n",
    "* is there a correlation between price and size? Can we see it?\n",
    "* is there any other patterns to discribe?"
   ]
  },
  {
   "cell_type": "markdown",
   "id": "29960c47-b878-4b7e-89e7-30413fd5bab8",
   "metadata": {
    "tags": []
   },
   "source": [
    "## What we want to be submitted:\n",
    "* send us your notebook on github as link and we will give you feedback\n",
    "* comment everything - explain your thoughts, why you think this column should be dropped, why you did this visualisation, everything.\n",
    "* you do not have to follow all ideas above, but your analysis should be going from start to end with logical steps\n",
    "* try to summarize with at least 3 sentences a conclusion on what we can tell about dataset."
   ]
  },
  {
   "cell_type": "markdown",
   "id": "8081c0d3-ecb1-425e-98d3-bfedd9e156a9",
   "metadata": {
    "tags": []
   },
   "source": [
    "https://towardsdatascience.com/how-to-change-semi-structured-text-into-a-pandas-dataframe-ef531d6baab4\n",
    "https://medium.com/analytics-vidhya/apartment-market-web-scrapping-and-eda-using-python-a9eacf6d64e2\n",
    "https://github.com/hw355/eda_realtor/blob/main/EDA_Realtor.ipynb\n",
    "https://medium.com/web-mining-is688-spring-2021/assignment-1-71368059c638\n",
    "https://stackoverflow.com/questions/56770982/how-to-split-text-in-one-column-of-pandas-data-frame-to-required-formatthree-co"
   ]
  },
  {
   "cell_type": "code",
   "execution_count": 20,
   "id": "5c0be9a5-073b-4e77-8a6c-0c89d1b2010b",
   "metadata": {},
   "outputs": [],
   "source": [
    "# Import modules\n",
    "import pandas as pd\n",
    "import matplotlib.pyplot as plt\n",
    "import matplotlib.patches as mpatches\n",
    "import seaborn as sns\n",
    "import numpy as np\n",
    "import missingno as msno\n",
    "%matplotlib inline  \n",
    "#the output of plotting commands is displayed inline, directly below the code cell that produced it."
   ]
  },
  {
   "cell_type": "code",
   "execution_count": 2,
   "id": "428e493a-ffe5-4d4b-8017-94187f183922",
   "metadata": {},
   "outputs": [],
   "source": [
    "#Load dataset\n",
    "realstate = pd.read_csv(\"real_estate_dataset.csv\")"
   ]
  },
  {
   "cell_type": "code",
   "execution_count": 6,
   "id": "7124e639-2a27-4c24-80c0-947a01953052",
   "metadata": {},
   "outputs": [
    {
     "name": "stdout",
     "output_type": "stream",
     "text": [
      "Contents of the 'head' of Dataframe : \n"
     ]
    },
    {
     "data": {
      "text/html": [
       "<div>\n",
       "<style scoped>\n",
       "    .dataframe tbody tr th:only-of-type {\n",
       "        vertical-align: middle;\n",
       "    }\n",
       "\n",
       "    .dataframe tbody tr th {\n",
       "        vertical-align: top;\n",
       "    }\n",
       "\n",
       "    .dataframe thead th {\n",
       "        text-align: right;\n",
       "    }\n",
       "</style>\n",
       "<table border=\"1\" class=\"dataframe\">\n",
       "  <thead>\n",
       "    <tr style=\"text-align: right;\">\n",
       "      <th></th>\n",
       "      <th>url</th>\n",
       "      <th>Address</th>\n",
       "      <th>City</th>\n",
       "      <th>Owner Name</th>\n",
       "      <th>Mailing Address</th>\n",
       "      <th>Price</th>\n",
       "      <th>Number of Units</th>\n",
       "      <th>Total area</th>\n",
       "      <th>Number Of Stories</th>\n",
       "      <th>Lot Size</th>\n",
       "      <th>Type</th>\n",
       "      <th>Year Built</th>\n",
       "      <th>Other Info</th>\n",
       "      <th>Images</th>\n",
       "      <th>broker</th>\n",
       "      <th>phone</th>\n",
       "      <th>EMAIL</th>\n",
       "      <th>secondary broker</th>\n",
       "      <th>phone, 2</th>\n",
       "      <th>Email</th>\n",
       "    </tr>\n",
       "  </thead>\n",
       "  <tbody>\n",
       "    <tr>\n",
       "      <th>0</th>\n",
       "      <td>http://www.loopnet.com/Listing/20157634/6060-E...</td>\n",
       "      <td>Anchorage, AK 99518 ·</td>\n",
       "      <td>6060 Electron Dr., Anchorage, AK, 99518</td>\n",
       "      <td>ODEX INVESTMENTS V LLC</td>\n",
       "      <td>1001 4TH AVE STE 4500, SEATTLE, WA 98154</td>\n",
       "      <td>$10,239,431</td>\n",
       "      <td></td>\n",
       "      <td></td>\n",
       "      <td></td>\n",
       "      <td>680,276 SF</td>\n",
       "      <td>Land</td>\n",
       "      <td></td>\n",
       "      <td>Hard to find large I-2 site located near the c...</td>\n",
       "      <td>http://x.lnimg.com/photo/poster_1920/cf0cb4964...</td>\n",
       "      <td>Greg Johnson</td>\n",
       "      <td>tel:+19075635500</td>\n",
       "      <td>gregory.c.johnson@noaa.gov</td>\n",
       "      <td>NaN</td>\n",
       "      <td>NaN</td>\n",
       "      <td>NaN</td>\n",
       "    </tr>\n",
       "    <tr>\n",
       "      <th>1</th>\n",
       "      <td>http://www.loopnet.com/Listing/18499430/1901-A...</td>\n",
       "      <td>Fairbanks, AK 99701 ·</td>\n",
       "      <td>1901 Airport Way, Fairbanks, AK, 99701</td>\n",
       "      <td>SEATTLE SC PLAZA 2 LLC</td>\n",
       "      <td>1331 N CALIFORNIA BLVD STE 170, WALNUT CREEK, ...</td>\n",
       "      <td>$4,050,000</td>\n",
       "      <td></td>\n",
       "      <td>10,000 SF</td>\n",
       "      <td>1</td>\n",
       "      <td>3.26 AC</td>\n",
       "      <td>Office</td>\n",
       "      <td>2006</td>\n",
       "      <td>Assessor's Parcel Number 0394921 *Sale include...</td>\n",
       "      <td>http://x.lnimg.com/photo/poster_1920/881647c1b...</td>\n",
       "      <td>Pamela Throop</td>\n",
       "      <td>tel:+19074566008</td>\n",
       "      <td>realty@realtyalaska.com</td>\n",
       "      <td>NaN</td>\n",
       "      <td>NaN</td>\n",
       "      <td>NaN</td>\n",
       "    </tr>\n",
       "    <tr>\n",
       "      <th>2</th>\n",
       "      <td>http://www.loopnet.com/Listing/20000996/4510-O...</td>\n",
       "      <td>Anchorage, AK 99502 ·</td>\n",
       "      <td>4510 Old International Airport Rd 99502, Ancho...</td>\n",
       "      <td>NaN</td>\n",
       "      <td>NaN</td>\n",
       "      <td>$3,500,000</td>\n",
       "      <td></td>\n",
       "      <td>28,521 SF</td>\n",
       "      <td></td>\n",
       "      <td>1.09 AC</td>\n",
       "      <td>Office</td>\n",
       "      <td></td>\n",
       "      <td>Three Story Office Building, Lot size 47,265 s...</td>\n",
       "      <td>http://x.lnimg.com/photo/poster_1920/dc70de703...</td>\n",
       "      <td>Vern Flowers</td>\n",
       "      <td>tel:+19073494761</td>\n",
       "      <td>vernonflowers@shaw.ca</td>\n",
       "      <td>NaN</td>\n",
       "      <td>NaN</td>\n",
       "      <td>NaN</td>\n",
       "    </tr>\n",
       "    <tr>\n",
       "      <th>3</th>\n",
       "      <td>http://www.loopnet.com/Listing/19729524/7645-W...</td>\n",
       "      <td>Wasilla, AK 99654 ·</td>\n",
       "      <td>7645 W. Marigold Drive, Wasilla, AK, 99654</td>\n",
       "      <td>BAKE TECHNOLOGY PARK LLC</td>\n",
       "      <td>550 NEWPORT CENTER DR, NEWPORT BEACH, CA 92660</td>\n",
       "      <td>$3,267,000</td>\n",
       "      <td></td>\n",
       "      <td></td>\n",
       "      <td></td>\n",
       "      <td>25 AC</td>\n",
       "      <td>Land</td>\n",
       "      <td></td>\n",
       "      <td>Approximately 25 acres with 1,200+ ft frontage...</td>\n",
       "      <td>http://x.lnimg.com/photo/poster_1920/afd0e7ef8...</td>\n",
       "      <td>Carl D. Kuhn, CCIM</td>\n",
       "      <td>tel:+19077625887</td>\n",
       "      <td>cdk@gci.net</td>\n",
       "      <td>NaN</td>\n",
       "      <td>NaN</td>\n",
       "      <td>NaN</td>\n",
       "    </tr>\n",
       "    <tr>\n",
       "      <th>4</th>\n",
       "      <td>http://www.loopnet.com/Listing/19535739/171-Mu...</td>\n",
       "      <td>Anchorage, AK 99504 ·</td>\n",
       "      <td>171 Muldoon Rd, Anchorage, AK, 99504</td>\n",
       "      <td>NaN</td>\n",
       "      <td>NaN</td>\n",
       "      <td>$5,000,000</td>\n",
       "      <td></td>\n",
       "      <td></td>\n",
       "      <td>1</td>\n",
       "      <td>81,893 SF</td>\n",
       "      <td>Retail</td>\n",
       "      <td>1978</td>\n",
       "      <td>SELLER MOTIVATED! PRICE REDUCED TO 5.0M! 6.62%...</td>\n",
       "      <td>http://x.lnimg.com/photo/poster_1920/1f6d47208...</td>\n",
       "      <td>Doosan Bak</td>\n",
       "      <td>tel:+13105288949</td>\n",
       "      <td>ceo@sicilypizza.com</td>\n",
       "      <td>NaN</td>\n",
       "      <td>NaN</td>\n",
       "      <td>NaN</td>\n",
       "    </tr>\n",
       "  </tbody>\n",
       "</table>\n",
       "</div>"
      ],
      "text/plain": [
       "                                                 url                Address  \\\n",
       "0  http://www.loopnet.com/Listing/20157634/6060-E...  Anchorage, AK 99518 ·   \n",
       "1  http://www.loopnet.com/Listing/18499430/1901-A...  Fairbanks, AK 99701 ·   \n",
       "2  http://www.loopnet.com/Listing/20000996/4510-O...  Anchorage, AK 99502 ·   \n",
       "3  http://www.loopnet.com/Listing/19729524/7645-W...    Wasilla, AK 99654 ·   \n",
       "4  http://www.loopnet.com/Listing/19535739/171-Mu...  Anchorage, AK 99504 ·   \n",
       "\n",
       "                                                City  \\\n",
       "0            6060 Electron Dr., Anchorage, AK, 99518   \n",
       "1             1901 Airport Way, Fairbanks, AK, 99701   \n",
       "2  4510 Old International Airport Rd 99502, Ancho...   \n",
       "3         7645 W. Marigold Drive, Wasilla, AK, 99654   \n",
       "4               171 Muldoon Rd, Anchorage, AK, 99504   \n",
       "\n",
       "                 Owner Name  \\\n",
       "0    ODEX INVESTMENTS V LLC   \n",
       "1    SEATTLE SC PLAZA 2 LLC   \n",
       "2                       NaN   \n",
       "3  BAKE TECHNOLOGY PARK LLC   \n",
       "4                       NaN   \n",
       "\n",
       "                                     Mailing Address        Price  \\\n",
       "0           1001 4TH AVE STE 4500, SEATTLE, WA 98154  $10,239,431   \n",
       "1  1331 N CALIFORNIA BLVD STE 170, WALNUT CREEK, ...   $4,050,000   \n",
       "2                                                NaN   $3,500,000   \n",
       "3     550 NEWPORT CENTER DR, NEWPORT BEACH, CA 92660   $3,267,000   \n",
       "4                                                NaN   $5,000,000   \n",
       "\n",
       "  Number of Units Total area Number Of Stories    Lot Size    Type Year Built  \\\n",
       "0                                               680,276 SF    Land              \n",
       "1                  10,000 SF                 1     3.26 AC  Office       2006   \n",
       "2                  28,521 SF                       1.09 AC  Office              \n",
       "3                                                    25 AC    Land              \n",
       "4                                            1   81,893 SF  Retail       1978   \n",
       "\n",
       "                                          Other Info  \\\n",
       "0  Hard to find large I-2 site located near the c...   \n",
       "1  Assessor's Parcel Number 0394921 *Sale include...   \n",
       "2  Three Story Office Building, Lot size 47,265 s...   \n",
       "3  Approximately 25 acres with 1,200+ ft frontage...   \n",
       "4  SELLER MOTIVATED! PRICE REDUCED TO 5.0M! 6.62%...   \n",
       "\n",
       "                                              Images              broker  \\\n",
       "0  http://x.lnimg.com/photo/poster_1920/cf0cb4964...        Greg Johnson   \n",
       "1  http://x.lnimg.com/photo/poster_1920/881647c1b...       Pamela Throop   \n",
       "2  http://x.lnimg.com/photo/poster_1920/dc70de703...        Vern Flowers   \n",
       "3  http://x.lnimg.com/photo/poster_1920/afd0e7ef8...  Carl D. Kuhn, CCIM   \n",
       "4  http://x.lnimg.com/photo/poster_1920/1f6d47208...          Doosan Bak   \n",
       "\n",
       "              phone                       EMAIL secondary broker phone, 2  \\\n",
       "0  tel:+19075635500  gregory.c.johnson@noaa.gov              NaN      NaN   \n",
       "1  tel:+19074566008     realty@realtyalaska.com              NaN      NaN   \n",
       "2  tel:+19073494761       vernonflowers@shaw.ca              NaN      NaN   \n",
       "3  tel:+19077625887                 cdk@gci.net              NaN      NaN   \n",
       "4  tel:+13105288949         ceo@sicilypizza.com              NaN      NaN   \n",
       "\n",
       "  Email  \n",
       "0   NaN  \n",
       "1   NaN  \n",
       "2   NaN  \n",
       "3   NaN  \n",
       "4   NaN  "
      ]
     },
     "execution_count": 6,
     "metadata": {},
     "output_type": "execute_result"
    }
   ],
   "source": [
    "#Peek into the data. \n",
    "print(\"Contents of the 'head' of Dataframe : \")\n",
    "realstate.head(5)"
   ]
  },
  {
   "cell_type": "markdown",
   "id": "afbb9151-2e9f-4abc-bab3-c5fabfac9dcb",
   "metadata": {},
   "source": [
    "### I can see the data are troublesome. There a lot of missing information per column in some columns and in others, there is enough information to build new columns tidying up the data. I'll check the names of the columns and the dimension of the data set, to grasp and idea of how much info do I have. "
   ]
  },
  {
   "cell_type": "code",
   "execution_count": 7,
   "id": "c32dd1f1-4379-420c-a4af-83df5e2816a5",
   "metadata": {
    "tags": []
   },
   "outputs": [
    {
     "data": {
      "text/plain": [
       "Index(['url', 'Address', 'City', 'Owner Name', 'Mailing Address', 'Price',\n",
       "       'Number of Units', 'Total area', 'Number Of Stories', 'Lot Size',\n",
       "       'Type', 'Year Built', 'Other Info', 'Images', 'broker', 'phone',\n",
       "       'EMAIL', 'secondary broker', 'phone, 2', 'Email'],\n",
       "      dtype='object')"
      ]
     },
     "execution_count": 7,
     "metadata": {},
     "output_type": "execute_result"
    }
   ],
   "source": [
    "realstate.columns"
   ]
  },
  {
   "cell_type": "markdown",
   "id": "002b7930-fecf-43db-96f4-0a640b296eae",
   "metadata": {},
   "source": [
    "### This dataset is a real state listing. Being as it is, it would be nice to easily extract the information regarding Pricing, location, size, stories, area... I'll see how I can mutate the dataset to sucessfully communicate this information. "
   ]
  },
  {
   "cell_type": "code",
   "execution_count": 8,
   "id": "acf92c04-2348-4906-9f0c-2d8d8b4bbefc",
   "metadata": {
    "tags": []
   },
   "outputs": [
    {
     "data": {
      "text/plain": [
       "(9076, 20)"
      ]
     },
     "execution_count": 8,
     "metadata": {},
     "output_type": "execute_result"
    }
   ],
   "source": [
    "realstate.shape"
   ]
  },
  {
   "cell_type": "code",
   "execution_count": 9,
   "id": "03fdc014-546f-49d8-8600-5cac1afd1c10",
   "metadata": {},
   "outputs": [
    {
     "name": "stdout",
     "output_type": "stream",
     "text": [
      "<class 'pandas.core.frame.DataFrame'>\n",
      "RangeIndex: 9076 entries, 0 to 9075\n",
      "Data columns (total 20 columns):\n",
      " #   Column             Non-Null Count  Dtype \n",
      "---  ------             --------------  ----- \n",
      " 0   url                9076 non-null   object\n",
      " 1   Address            9076 non-null   object\n",
      " 2   City               9076 non-null   object\n",
      " 3   Owner Name         3 non-null      object\n",
      " 4   Mailing Address    3 non-null      object\n",
      " 5   Price              9076 non-null   object\n",
      " 6   Number of Units    9076 non-null   object\n",
      " 7   Total area         9076 non-null   object\n",
      " 8   Number Of Stories  9076 non-null   object\n",
      " 9   Lot Size           9076 non-null   object\n",
      " 10  Type               9076 non-null   object\n",
      " 11  Year Built         9076 non-null   object\n",
      " 12  Other Info         8924 non-null   object\n",
      " 13  Images             9076 non-null   object\n",
      " 14  broker             8924 non-null   object\n",
      " 15  phone              8924 non-null   object\n",
      " 16  EMAIL              1013 non-null   object\n",
      " 17  secondary broker   2688 non-null   object\n",
      " 18  phone, 2           2688 non-null   object\n",
      " 19  Email              228 non-null    object\n",
      "dtypes: object(20)\n",
      "memory usage: 1.4+ MB\n"
     ]
    }
   ],
   "source": [
    "realstate.info()"
   ]
  },
  {
   "cell_type": "code",
   "execution_count": 10,
   "id": "e6991813-eaf0-47d5-aaf7-b29679ea605e",
   "metadata": {},
   "outputs": [
    {
     "data": {
      "text/plain": [
       "pandas.core.frame.DataFrame"
      ]
     },
     "execution_count": 10,
     "metadata": {},
     "output_type": "execute_result"
    }
   ],
   "source": [
    "type(realstate)"
   ]
  },
  {
   "cell_type": "markdown",
   "id": "c9963e72-03ba-442d-81ac-e05311cca92f",
   "metadata": {},
   "source": [
    "### dtypes right now it is not useful as everything is an object as I demostrate now, I need to change the types: manually? "
   ]
  },
  {
   "cell_type": "code",
   "execution_count": 11,
   "id": "f357fd2e-d098-4518-bc70-ecea1f1861a0",
   "metadata": {},
   "outputs": [
    {
     "data": {
      "text/plain": [
       "[Text(0.5, 0, 'Variable Type'),\n",
       " Text(0, 0.5, 'Count'),\n",
       " Text(0.5, 1.0, 'Variables Count Across Datatype')]"
      ]
     },
     "execution_count": 11,
     "metadata": {},
     "output_type": "execute_result"
    },
    {
     "data": {
      "image/png": "[encoded data removed]",
      "text/plain": [
       "<Figure size 1440x360 with 1 Axes>"
      ]
     },
     "metadata": {
      "needs_background": "light"
     },
     "output_type": "display_data"
    }
   ],
   "source": [
    "dataTypeDf = pd.DataFrame(realstate.dtypes.value_counts()).reset_index().rename(columns={\"index\":\"variableType\",0:\"count\"})\n",
    "fig,ax = plt.subplots()\n",
    "fig.set_size_inches(20,5)\n",
    "sns.barplot(data=dataTypeDf,x=\"variableType\",y=\"count\",ax=ax,color=\"#34495e\")\n",
    "ax.set(xlabel='Variable Type', ylabel='Count',title=\"Variables Count Across Datatype\")"
   ]
  },
  {
   "cell_type": "markdown",
   "id": "8a6e9cd7-e01b-40ad-8318-6a4924b32de2",
   "metadata": {},
   "source": [
    "### I think it is more useful to work out the missing values in the first place and then change as necesary. "
   ]
  },
  {
   "cell_type": "markdown",
   "id": "1f722775-a976-4ce9-8d2c-669b6f782da8",
   "metadata": {
    "tags": []
   },
   "source": [
    "## Missing Values... \n",
    "### From a \"first glance\" point of view I already saw there are many missing values and data inside each column is not uniformly reported. If I'd like to know What is the percentage of null values per column, i'll need to populate all cells to be able to capture present NaN/Null/Missing values\n",
    "\n",
    "### In order to do this, I'll fill with NaN everywhere there's a missing value. "
   ]
  },
  {
   "cell_type": "code",
   "execution_count": 12,
   "id": "63733764-5b8a-44e3-8ed2-55e651a4ee17",
   "metadata": {
    "tags": []
   },
   "outputs": [],
   "source": [
    "#realstatefilled = realstate.fillna(value=np.nan) #https://stackoverflow.com/questions/23743460/replace-none-with-nan-in-pandas-dataframe\n",
    "realstatefilled = realstate.replace(r'^\\s+$', np.nan, regex=True) #https://stackoverflow.com/questions/13445241/replacing-blank-values-white-space-with-nan-in-pandas"
   ]
  },
  {
   "cell_type": "code",
   "execution_count": 13,
   "id": "f96a2944-66b5-4dc9-90b5-e5c08e497328",
   "metadata": {},
   "outputs": [
    {
     "name": "stdout",
     "output_type": "stream",
     "text": [
      "Contents of the 'head' of Dataframe with missing values as NaN: \n"
     ]
    },
    {
     "data": {
      "text/html": [
       "<div>\n",
       "<style scoped>\n",
       "    .dataframe tbody tr th:only-of-type {\n",
       "        vertical-align: middle;\n",
       "    }\n",
       "\n",
       "    .dataframe tbody tr th {\n",
       "        vertical-align: top;\n",
       "    }\n",
       "\n",
       "    .dataframe thead th {\n",
       "        text-align: right;\n",
       "    }\n",
       "</style>\n",
       "<table border=\"1\" class=\"dataframe\">\n",
       "  <thead>\n",
       "    <tr style=\"text-align: right;\">\n",
       "      <th></th>\n",
       "      <th>url</th>\n",
       "      <th>Address</th>\n",
       "      <th>City</th>\n",
       "      <th>Owner Name</th>\n",
       "      <th>Mailing Address</th>\n",
       "      <th>Price</th>\n",
       "      <th>Number of Units</th>\n",
       "      <th>Total area</th>\n",
       "      <th>Number Of Stories</th>\n",
       "      <th>Lot Size</th>\n",
       "      <th>Type</th>\n",
       "      <th>Year Built</th>\n",
       "      <th>Other Info</th>\n",
       "      <th>Images</th>\n",
       "      <th>broker</th>\n",
       "      <th>phone</th>\n",
       "      <th>EMAIL</th>\n",
       "      <th>secondary broker</th>\n",
       "      <th>phone, 2</th>\n",
       "      <th>Email</th>\n",
       "    </tr>\n",
       "  </thead>\n",
       "  <tbody>\n",
       "    <tr>\n",
       "      <th>0</th>\n",
       "      <td>http://www.loopnet.com/Listing/20157634/6060-E...</td>\n",
       "      <td>Anchorage, AK 99518 ·</td>\n",
       "      <td>6060 Electron Dr., Anchorage, AK, 99518</td>\n",
       "      <td>ODEX INVESTMENTS V LLC</td>\n",
       "      <td>1001 4TH AVE STE 4500, SEATTLE, WA 98154</td>\n",
       "      <td>$10,239,431</td>\n",
       "      <td>NaN</td>\n",
       "      <td>NaN</td>\n",
       "      <td>NaN</td>\n",
       "      <td>680,276 SF</td>\n",
       "      <td>Land</td>\n",
       "      <td>NaN</td>\n",
       "      <td>Hard to find large I-2 site located near the c...</td>\n",
       "      <td>http://x.lnimg.com/photo/poster_1920/cf0cb4964...</td>\n",
       "      <td>Greg Johnson</td>\n",
       "      <td>tel:+19075635500</td>\n",
       "      <td>gregory.c.johnson@noaa.gov</td>\n",
       "      <td>NaN</td>\n",
       "      <td>NaN</td>\n",
       "      <td>NaN</td>\n",
       "    </tr>\n",
       "    <tr>\n",
       "      <th>1</th>\n",
       "      <td>http://www.loopnet.com/Listing/18499430/1901-A...</td>\n",
       "      <td>Fairbanks, AK 99701 ·</td>\n",
       "      <td>1901 Airport Way, Fairbanks, AK, 99701</td>\n",
       "      <td>SEATTLE SC PLAZA 2 LLC</td>\n",
       "      <td>1331 N CALIFORNIA BLVD STE 170, WALNUT CREEK, ...</td>\n",
       "      <td>$4,050,000</td>\n",
       "      <td>NaN</td>\n",
       "      <td>10,000 SF</td>\n",
       "      <td>1</td>\n",
       "      <td>3.26 AC</td>\n",
       "      <td>Office</td>\n",
       "      <td>2006</td>\n",
       "      <td>Assessor's Parcel Number 0394921 *Sale include...</td>\n",
       "      <td>http://x.lnimg.com/photo/poster_1920/881647c1b...</td>\n",
       "      <td>Pamela Throop</td>\n",
       "      <td>tel:+19074566008</td>\n",
       "      <td>realty@realtyalaska.com</td>\n",
       "      <td>NaN</td>\n",
       "      <td>NaN</td>\n",
       "      <td>NaN</td>\n",
       "    </tr>\n",
       "    <tr>\n",
       "      <th>2</th>\n",
       "      <td>http://www.loopnet.com/Listing/20000996/4510-O...</td>\n",
       "      <td>Anchorage, AK 99502 ·</td>\n",
       "      <td>4510 Old International Airport Rd 99502, Ancho...</td>\n",
       "      <td>NaN</td>\n",
       "      <td>NaN</td>\n",
       "      <td>$3,500,000</td>\n",
       "      <td>NaN</td>\n",
       "      <td>28,521 SF</td>\n",
       "      <td>NaN</td>\n",
       "      <td>1.09 AC</td>\n",
       "      <td>Office</td>\n",
       "      <td>NaN</td>\n",
       "      <td>Three Story Office Building, Lot size 47,265 s...</td>\n",
       "      <td>http://x.lnimg.com/photo/poster_1920/dc70de703...</td>\n",
       "      <td>Vern Flowers</td>\n",
       "      <td>tel:+19073494761</td>\n",
       "      <td>vernonflowers@shaw.ca</td>\n",
       "      <td>NaN</td>\n",
       "      <td>NaN</td>\n",
       "      <td>NaN</td>\n",
       "    </tr>\n",
       "    <tr>\n",
       "      <th>3</th>\n",
       "      <td>http://www.loopnet.com/Listing/19729524/7645-W...</td>\n",
       "      <td>Wasilla, AK 99654 ·</td>\n",
       "      <td>7645 W. Marigold Drive, Wasilla, AK, 99654</td>\n",
       "      <td>BAKE TECHNOLOGY PARK LLC</td>\n",
       "      <td>550 NEWPORT CENTER DR, NEWPORT BEACH, CA 92660</td>\n",
       "      <td>$3,267,000</td>\n",
       "      <td>NaN</td>\n",
       "      <td>NaN</td>\n",
       "      <td>NaN</td>\n",
       "      <td>25 AC</td>\n",
       "      <td>Land</td>\n",
       "      <td>NaN</td>\n",
       "      <td>Approximately 25 acres with 1,200+ ft frontage...</td>\n",
       "      <td>http://x.lnimg.com/photo/poster_1920/afd0e7ef8...</td>\n",
       "      <td>Carl D. Kuhn, CCIM</td>\n",
       "      <td>tel:+19077625887</td>\n",
       "      <td>cdk@gci.net</td>\n",
       "      <td>NaN</td>\n",
       "      <td>NaN</td>\n",
       "      <td>NaN</td>\n",
       "    </tr>\n",
       "    <tr>\n",
       "      <th>4</th>\n",
       "      <td>http://www.loopnet.com/Listing/19535739/171-Mu...</td>\n",
       "      <td>Anchorage, AK 99504 ·</td>\n",
       "      <td>171 Muldoon Rd, Anchorage, AK, 99504</td>\n",
       "      <td>NaN</td>\n",
       "      <td>NaN</td>\n",
       "      <td>$5,000,000</td>\n",
       "      <td>NaN</td>\n",
       "      <td>NaN</td>\n",
       "      <td>1</td>\n",
       "      <td>81,893 SF</td>\n",
       "      <td>Retail</td>\n",
       "      <td>1978</td>\n",
       "      <td>SELLER MOTIVATED! PRICE REDUCED TO 5.0M! 6.62%...</td>\n",
       "      <td>http://x.lnimg.com/photo/poster_1920/1f6d47208...</td>\n",
       "      <td>Doosan Bak</td>\n",
       "      <td>tel:+13105288949</td>\n",
       "      <td>ceo@sicilypizza.com</td>\n",
       "      <td>NaN</td>\n",
       "      <td>NaN</td>\n",
       "      <td>NaN</td>\n",
       "    </tr>\n",
       "  </tbody>\n",
       "</table>\n",
       "</div>"
      ],
      "text/plain": [
       "                                                 url                Address  \\\n",
       "0  http://www.loopnet.com/Listing/20157634/6060-E...  Anchorage, AK 99518 ·   \n",
       "1  http://www.loopnet.com/Listing/18499430/1901-A...  Fairbanks, AK 99701 ·   \n",
       "2  http://www.loopnet.com/Listing/20000996/4510-O...  Anchorage, AK 99502 ·   \n",
       "3  http://www.loopnet.com/Listing/19729524/7645-W...    Wasilla, AK 99654 ·   \n",
       "4  http://www.loopnet.com/Listing/19535739/171-Mu...  Anchorage, AK 99504 ·   \n",
       "\n",
       "                                                City  \\\n",
       "0            6060 Electron Dr., Anchorage, AK, 99518   \n",
       "1             1901 Airport Way, Fairbanks, AK, 99701   \n",
       "2  4510 Old International Airport Rd 99502, Ancho...   \n",
       "3         7645 W. Marigold Drive, Wasilla, AK, 99654   \n",
       "4               171 Muldoon Rd, Anchorage, AK, 99504   \n",
       "\n",
       "                 Owner Name  \\\n",
       "0    ODEX INVESTMENTS V LLC   \n",
       "1    SEATTLE SC PLAZA 2 LLC   \n",
       "2                       NaN   \n",
       "3  BAKE TECHNOLOGY PARK LLC   \n",
       "4                       NaN   \n",
       "\n",
       "                                     Mailing Address        Price  \\\n",
       "0           1001 4TH AVE STE 4500, SEATTLE, WA 98154  $10,239,431   \n",
       "1  1331 N CALIFORNIA BLVD STE 170, WALNUT CREEK, ...   $4,050,000   \n",
       "2                                                NaN   $3,500,000   \n",
       "3     550 NEWPORT CENTER DR, NEWPORT BEACH, CA 92660   $3,267,000   \n",
       "4                                                NaN   $5,000,000   \n",
       "\n",
       "  Number of Units Total area Number Of Stories    Lot Size    Type Year Built  \\\n",
       "0             NaN        NaN               NaN  680,276 SF    Land        NaN   \n",
       "1             NaN  10,000 SF                 1     3.26 AC  Office       2006   \n",
       "2             NaN  28,521 SF               NaN     1.09 AC  Office        NaN   \n",
       "3             NaN        NaN               NaN       25 AC    Land        NaN   \n",
       "4             NaN        NaN                 1   81,893 SF  Retail       1978   \n",
       "\n",
       "                                          Other Info  \\\n",
       "0  Hard to find large I-2 site located near the c...   \n",
       "1  Assessor's Parcel Number 0394921 *Sale include...   \n",
       "2  Three Story Office Building, Lot size 47,265 s...   \n",
       "3  Approximately 25 acres with 1,200+ ft frontage...   \n",
       "4  SELLER MOTIVATED! PRICE REDUCED TO 5.0M! 6.62%...   \n",
       "\n",
       "                                              Images              broker  \\\n",
       "0  http://x.lnimg.com/photo/poster_1920/cf0cb4964...        Greg Johnson   \n",
       "1  http://x.lnimg.com/photo/poster_1920/881647c1b...       Pamela Throop   \n",
       "2  http://x.lnimg.com/photo/poster_1920/dc70de703...        Vern Flowers   \n",
       "3  http://x.lnimg.com/photo/poster_1920/afd0e7ef8...  Carl D. Kuhn, CCIM   \n",
       "4  http://x.lnimg.com/photo/poster_1920/1f6d47208...          Doosan Bak   \n",
       "\n",
       "              phone                       EMAIL secondary broker phone, 2  \\\n",
       "0  tel:+19075635500  gregory.c.johnson@noaa.gov              NaN      NaN   \n",
       "1  tel:+19074566008     realty@realtyalaska.com              NaN      NaN   \n",
       "2  tel:+19073494761       vernonflowers@shaw.ca              NaN      NaN   \n",
       "3  tel:+19077625887                 cdk@gci.net              NaN      NaN   \n",
       "4  tel:+13105288949         ceo@sicilypizza.com              NaN      NaN   \n",
       "\n",
       "  Email  \n",
       "0   NaN  \n",
       "1   NaN  \n",
       "2   NaN  \n",
       "3   NaN  \n",
       "4   NaN  "
      ]
     },
     "execution_count": 13,
     "metadata": {},
     "output_type": "execute_result"
    }
   ],
   "source": [
    "print(\"Contents of the 'head' of Dataframe with missing values as NaN: \")\n",
    "realstatefilled.head(5)"
   ]
  },
  {
   "cell_type": "markdown",
   "id": "3d891e32-175c-4a86-a28b-d6ed82d52073",
   "metadata": {},
   "source": [
    "### Great! I'll now proceed to see the percentage of na's on each column"
   ]
  },
  {
   "cell_type": "code",
   "execution_count": 14,
   "id": "79d6171e-6ca1-4a30-b1f9-7f9fd98cb55c",
   "metadata": {},
   "outputs": [
    {
     "data": {
      "text/plain": [
       "url                   0.00\n",
       "Address               1.67\n",
       "City                  0.00\n",
       "Owner Name           99.97\n",
       "Mailing Address      99.97\n",
       "Price                 1.67\n",
       "Number of Units      93.95\n",
       "Total area           47.54\n",
       "Number Of Stories    68.10\n",
       "Lot Size             11.30\n",
       "Type                  1.67\n",
       "Year Built           64.25\n",
       "Other Info            1.67\n",
       "Images                2.10\n",
       "broker                1.67\n",
       "phone                 1.67\n",
       "EMAIL                88.84\n",
       "secondary broker     70.38\n",
       "phone, 2             70.38\n",
       "Email                97.50\n",
       "dtype: float64"
      ]
     },
     "execution_count": 14,
     "metadata": {},
     "output_type": "execute_result"
    }
   ],
   "source": [
    "np.round((realstatefilled.isna().sum() / realstatefilled.shape[0]) * 100, 2)"
   ]
  },
  {
   "cell_type": "markdown",
   "id": "2efec5f0-b7a8-463f-bd0a-4c8850f94dd8",
   "metadata": {
    "tags": []
   },
   "source": [
    "### Columns: Owner Name, mailing Address, email, secondary broker, phone, 2 and email (from the second broker, I presume) have a significant amount of null values. I presume that the absence of information doesn't not imply an information loss, as these may be casual. The important information here is the propierties of the pontential property to buy, the broker and the price... \n",
    "\n",
    "### The other fields that contain a small percentage of missing values, might not be specially problematic. I have not decide if I will discard the items that don't have info."
   ]
  },
  {
   "cell_type": "markdown",
   "id": "313db2ab-7a98-4357-9323-91f7e72cc9ce",
   "metadata": {
    "tags": []
   },
   "source": [
    "### I found about this library that sum up for the NaN values in a visual way, I'll make use of the basic graphs. "
   ]
  },
  {
   "cell_type": "code",
   "execution_count": 22,
   "id": "d6709c0a-348a-4c15-8982-4ce74e2e19a0",
   "metadata": {
    "tags": []
   },
   "outputs": [
    {
     "data": {
      "image/png": "[encoded data removed]",
      "text/plain": [
       "<Figure size 720x576 with 3 Axes>"
      ]
     },
     "metadata": {
      "needs_background": "light"
     },
     "output_type": "display_data"
    }
   ],
   "source": [
    "missingValueColumns = realstatefilled.columns[realstatefilled.isnull().any()].tolist() #slicing to plot only the columns that have missing values, \n",
    "msno.bar(realstatefilled[missingValueColumns],\n",
    "         figsize=(10,8),\n",
    "         color=\"#028A0F\",\n",
    "         fontsize=8,\n",
    "         labels=True)\n",
    "green_patch = mpatches.Patch(color=\"#028A0F\", label='Scaled Missing Values')\n",
    "plt.legend(handles=[green_patch],loc='center left', bbox_to_anchor=(1, 0.5))\n",
    "plt.show()\n",
    "#msno.bar(realstatefilled,\n",
    "#         figsize=(16,6),\n",
    "#         color=\"#028A0F\",\n",
    "#         fontsize=8,\n",
    "#         labels=True)"
   ]
  },
  {
   "cell_type": "code",
   "execution_count": 23,
   "id": "0cfb859c-69d6-49ee-b097-b78a3e3dd09f",
   "metadata": {},
   "outputs": [],
   "source": [
    "#msno.matrix(realstatefilled[missingValueColumns],\n",
    "#            width_ratios=(10,1),\n",
    "#            figsize=(16,6),\n",
    "#            fontsize=8,\n",
    "#            labels=True)"
   ]
  },
  {
   "cell_type": "markdown",
   "id": "abef32a5-3793-4f60-8a28-c55229b31ebf",
   "metadata": {
    "tags": []
   },
   "source": [
    "### The following plot should help to interpret nulity: the heatmap measures nullity correlation: how strongly the presence or absence of one variable affects the presence of another:\n",
    "\n",
    "### Nullity correlation ranges from -1 (if one variable appears the other definitely does not) to 0 (variables appearing or not appearing have no effect on one another) to 1 (if one variable appears the other definitely also does).\n",
    "\n",
    "### Variables that are always full or always empty have no meaningful correlation, and so are silently removed from the visualization—in this case for instance the datetime and injury number columns, which are completely filled, are not included."
   ]
  },
  {
   "cell_type": "code",
   "execution_count": 24,
   "id": "b937a13f-64ba-424c-b14f-06d68f8cfb8d",
   "metadata": {},
   "outputs": [
    {
     "data": {
      "text/plain": [
       "<AxesSubplot:>"
      ]
     },
     "execution_count": 24,
     "metadata": {},
     "output_type": "execute_result"
    },
    {
     "data": {
      "image/png": "[encoded data removed]",
      "text/plain": [
       "<Figure size 720x576 with 2 Axes>"
      ]
     },
     "metadata": {
      "needs_background": "light"
     },
     "output_type": "display_data"
    }
   ],
   "source": [
    "msno.heatmap(realstatefilled,\n",
    "             figsize=(10,8),\n",
    "             cmap = 'BuPu')"
   ]
  },
  {
   "cell_type": "markdown",
   "id": "234917d9-f382-4f1b-8de2-35c718445718",
   "metadata": {
    "tags": []
   },
   "source": [
    "### Let's take Type of property, basically, it's completness is closely related to complete data regarding Address and Price.On the contrary, when the attribute Lot Size is missing, then in some cases Number of Units and Total Area is present. "
   ]
  },
  {
   "cell_type": "code",
   "execution_count": 25,
   "id": "4e1330fd-4c68-49c9-b26e-3fc7ca083cd8",
   "metadata": {},
   "outputs": [],
   "source": [
    "#np.round((realstatefilled.isna().sum() / realstatefilled.shape[0]) * 100, 2)\n",
    "#np.round((realstate.isna().sum() / realstate.shape[0]) * 100, 2)"
   ]
  },
  {
   "cell_type": "markdown",
   "id": "4a6272b8-9b5e-4c04-b15d-3768a3e53170",
   "metadata": {},
   "source": [
    "### I think that it would be correct to delete the columns that contain more than half of the missing values. I'll proceed to this"
   ]
  },
  {
   "cell_type": "code",
   "execution_count": 32,
   "id": "c532c6c1-8c6e-42cf-84a9-9b98a2f4885e",
   "metadata": {},
   "outputs": [
    {
     "name": "stdout",
     "output_type": "stream",
     "text": [
      "The shape of data frame: (9076, 13)\n",
      "Modified Dataframe : \n"
     ]
    },
    {
     "data": {
      "text/html": [
       "<div>\n",
       "<style scoped>\n",
       "    .dataframe tbody tr th:only-of-type {\n",
       "        vertical-align: middle;\n",
       "    }\n",
       "\n",
       "    .dataframe tbody tr th {\n",
       "        vertical-align: top;\n",
       "    }\n",
       "\n",
       "    .dataframe thead th {\n",
       "        text-align: right;\n",
       "    }\n",
       "</style>\n",
       "<table border=\"1\" class=\"dataframe\">\n",
       "  <thead>\n",
       "    <tr style=\"text-align: right;\">\n",
       "      <th></th>\n",
       "      <th>url</th>\n",
       "      <th>Address</th>\n",
       "      <th>City</th>\n",
       "      <th>Price</th>\n",
       "      <th>Total area</th>\n",
       "      <th>Number Of Stories</th>\n",
       "      <th>Lot Size</th>\n",
       "      <th>Type</th>\n",
       "      <th>Year Built</th>\n",
       "      <th>Other Info</th>\n",
       "      <th>Images</th>\n",
       "      <th>broker</th>\n",
       "      <th>phone</th>\n",
       "    </tr>\n",
       "  </thead>\n",
       "  <tbody>\n",
       "    <tr>\n",
       "      <th>0</th>\n",
       "      <td>http://www.loopnet.com/Listing/20157634/6060-E...</td>\n",
       "      <td>Anchorage, AK 99518 ·</td>\n",
       "      <td>6060 Electron Dr., Anchorage, AK, 99518</td>\n",
       "      <td>$10,239,431</td>\n",
       "      <td>NaN</td>\n",
       "      <td>NaN</td>\n",
       "      <td>680,276 SF</td>\n",
       "      <td>Land</td>\n",
       "      <td>NaN</td>\n",
       "      <td>Hard to find large I-2 site located near the c...</td>\n",
       "      <td>http://x.lnimg.com/photo/poster_1920/cf0cb4964...</td>\n",
       "      <td>Greg Johnson</td>\n",
       "      <td>tel:+19075635500</td>\n",
       "    </tr>\n",
       "    <tr>\n",
       "      <th>1</th>\n",
       "      <td>http://www.loopnet.com/Listing/18499430/1901-A...</td>\n",
       "      <td>Fairbanks, AK 99701 ·</td>\n",
       "      <td>1901 Airport Way, Fairbanks, AK, 99701</td>\n",
       "      <td>$4,050,000</td>\n",
       "      <td>10,000 SF</td>\n",
       "      <td>1</td>\n",
       "      <td>3.26 AC</td>\n",
       "      <td>Office</td>\n",
       "      <td>2006</td>\n",
       "      <td>Assessor's Parcel Number 0394921 *Sale include...</td>\n",
       "      <td>http://x.lnimg.com/photo/poster_1920/881647c1b...</td>\n",
       "      <td>Pamela Throop</td>\n",
       "      <td>tel:+19074566008</td>\n",
       "    </tr>\n",
       "    <tr>\n",
       "      <th>2</th>\n",
       "      <td>http://www.loopnet.com/Listing/20000996/4510-O...</td>\n",
       "      <td>Anchorage, AK 99502 ·</td>\n",
       "      <td>4510 Old International Airport Rd 99502, Ancho...</td>\n",
       "      <td>$3,500,000</td>\n",
       "      <td>28,521 SF</td>\n",
       "      <td>NaN</td>\n",
       "      <td>1.09 AC</td>\n",
       "      <td>Office</td>\n",
       "      <td>NaN</td>\n",
       "      <td>Three Story Office Building, Lot size 47,265 s...</td>\n",
       "      <td>http://x.lnimg.com/photo/poster_1920/dc70de703...</td>\n",
       "      <td>Vern Flowers</td>\n",
       "      <td>tel:+19073494761</td>\n",
       "    </tr>\n",
       "    <tr>\n",
       "      <th>3</th>\n",
       "      <td>http://www.loopnet.com/Listing/19729524/7645-W...</td>\n",
       "      <td>Wasilla, AK 99654 ·</td>\n",
       "      <td>7645 W. Marigold Drive, Wasilla, AK, 99654</td>\n",
       "      <td>$3,267,000</td>\n",
       "      <td>NaN</td>\n",
       "      <td>NaN</td>\n",
       "      <td>25 AC</td>\n",
       "      <td>Land</td>\n",
       "      <td>NaN</td>\n",
       "      <td>Approximately 25 acres with 1,200+ ft frontage...</td>\n",
       "      <td>http://x.lnimg.com/photo/poster_1920/afd0e7ef8...</td>\n",
       "      <td>Carl D. Kuhn, CCIM</td>\n",
       "      <td>tel:+19077625887</td>\n",
       "    </tr>\n",
       "  </tbody>\n",
       "</table>\n",
       "</div>"
      ],
      "text/plain": [
       "                                                 url                Address  \\\n",
       "0  http://www.loopnet.com/Listing/20157634/6060-E...  Anchorage, AK 99518 ·   \n",
       "1  http://www.loopnet.com/Listing/18499430/1901-A...  Fairbanks, AK 99701 ·   \n",
       "2  http://www.loopnet.com/Listing/20000996/4510-O...  Anchorage, AK 99502 ·   \n",
       "3  http://www.loopnet.com/Listing/19729524/7645-W...    Wasilla, AK 99654 ·   \n",
       "\n",
       "                                                City        Price Total area  \\\n",
       "0            6060 Electron Dr., Anchorage, AK, 99518  $10,239,431        NaN   \n",
       "1             1901 Airport Way, Fairbanks, AK, 99701   $4,050,000  10,000 SF   \n",
       "2  4510 Old International Airport Rd 99502, Ancho...   $3,500,000  28,521 SF   \n",
       "3         7645 W. Marigold Drive, Wasilla, AK, 99654   $3,267,000        NaN   \n",
       "\n",
       "  Number Of Stories    Lot Size    Type Year Built  \\\n",
       "0               NaN  680,276 SF    Land        NaN   \n",
       "1                 1     3.26 AC  Office       2006   \n",
       "2               NaN     1.09 AC  Office        NaN   \n",
       "3               NaN       25 AC    Land        NaN   \n",
       "\n",
       "                                          Other Info  \\\n",
       "0  Hard to find large I-2 site located near the c...   \n",
       "1  Assessor's Parcel Number 0394921 *Sale include...   \n",
       "2  Three Story Office Building, Lot size 47,265 s...   \n",
       "3  Approximately 25 acres with 1,200+ ft frontage...   \n",
       "\n",
       "                                              Images              broker  \\\n",
       "0  http://x.lnimg.com/photo/poster_1920/cf0cb4964...        Greg Johnson   \n",
       "1  http://x.lnimg.com/photo/poster_1920/881647c1b...       Pamela Throop   \n",
       "2  http://x.lnimg.com/photo/poster_1920/dc70de703...        Vern Flowers   \n",
       "3  http://x.lnimg.com/photo/poster_1920/afd0e7ef8...  Carl D. Kuhn, CCIM   \n",
       "\n",
       "              phone  \n",
       "0  tel:+19075635500  \n",
       "1  tel:+19074566008  \n",
       "2  tel:+19073494761  \n",
       "3  tel:+19077625887  "
      ]
     },
     "execution_count": 32,
     "metadata": {},
     "output_type": "execute_result"
    }
   ],
   "source": [
    "# Delete columns containing either 70% or more than that NaN Values  ##IT IS ALSO POSSIBLE TO DROP COLUMNS, THE WAY YOU TEACHED US.\n",
    "perc = 70.0\n",
    "min_count =  int(((100-perc)/100)*realstatefilled.shape[0] + 1)\n",
    "mod_df = realstatefilled.dropna( axis=1, \n",
    "                thresh=min_count)\n",
    "mod_df_shape = str(mod_df.shape)\n",
    "print(\"The shape of data frame: %s\" %(mod_df_shape))\n",
    "print(\"Modified Dataframe : \")\n",
    "mod_df.head(4)"
   ]
  },
  {
   "cell_type": "markdown",
   "id": "d57c950e-f2ec-4536-8961-f097ab3cddc3",
   "metadata": {},
   "source": [
    "### I've deleted 7 columns. \n",
    "### JUST REALIZED THAT the .head attribute yields different outcomes depending on if its the last object to print or is it between print statements --> see the snippet after deleting 50% of NaNs...  WHY?"
   ]
  },
  {
   "cell_type": "code",
   "execution_count": 34,
   "id": "f9f18ff0-9ae2-4d15-b778-f0d67576f30e",
   "metadata": {
    "tags": []
   },
   "outputs": [
    {
     "data": {
      "text/plain": [
       "url                   0.00\n",
       "Address               1.67\n",
       "City                  0.00\n",
       "Price                 1.67\n",
       "Total area           47.54\n",
       "Number Of Stories    68.10\n",
       "Lot Size             11.30\n",
       "Type                  1.67\n",
       "Year Built           64.25\n",
       "Other Info            1.67\n",
       "Images                2.10\n",
       "broker                1.67\n",
       "phone                 1.67\n",
       "dtype: float64"
      ]
     },
     "execution_count": 34,
     "metadata": {},
     "output_type": "execute_result"
    }
   ],
   "source": [
    "np.round((mod_df.isna().sum() / mod_df.shape[0]) * 100, 2)"
   ]
  },
  {
   "cell_type": "markdown",
   "id": "8e7202f7-8a2b-4cda-ac09-073ae30e328c",
   "metadata": {},
   "source": [
    "### I still have an important amount of columns that have NA values. For instance, Total area, number of stories and year built. If the dataset will serve to predict prices, i'll need to decide whether to keep those and engieener them or drop the information. I presume it's wise to drop the ones that have more than 50% of missing values. "
   ]
  },
  {
   "cell_type": "code",
   "execution_count": 36,
   "id": "14e5941a-b2f1-47a8-8ed0-086396cc0cd0",
   "metadata": {},
   "outputs": [
    {
     "name": "stdout",
     "output_type": "stream",
     "text": [
      "Modified Dataframe : \n",
      "                                                 url                Address  \\\n",
      "0  http://www.loopnet.com/Listing/20157634/6060-E...  Anchorage, AK 99518 ·   \n",
      "1  http://www.loopnet.com/Listing/18499430/1901-A...  Fairbanks, AK 99701 ·   \n",
      "2  http://www.loopnet.com/Listing/20000996/4510-O...  Anchorage, AK 99502 ·   \n",
      "3  http://www.loopnet.com/Listing/19729524/7645-W...    Wasilla, AK 99654 ·   \n",
      "4  http://www.loopnet.com/Listing/19535739/171-Mu...  Anchorage, AK 99504 ·   \n",
      "\n",
      "                                                City        Price Total area  \\\n",
      "0            6060 Electron Dr., Anchorage, AK, 99518  $10,239,431        NaN   \n",
      "1             1901 Airport Way, Fairbanks, AK, 99701   $4,050,000  10,000 SF   \n",
      "2  4510 Old International Airport Rd 99502, Ancho...   $3,500,000  28,521 SF   \n",
      "3         7645 W. Marigold Drive, Wasilla, AK, 99654   $3,267,000        NaN   \n",
      "4               171 Muldoon Rd, Anchorage, AK, 99504   $5,000,000        NaN   \n",
      "\n",
      "     Lot Size    Type                                         Other Info  \\\n",
      "0  680,276 SF    Land  Hard to find large I-2 site located near the c...   \n",
      "1     3.26 AC  Office  Assessor's Parcel Number 0394921 *Sale include...   \n",
      "2     1.09 AC  Office  Three Story Office Building, Lot size 47,265 s...   \n",
      "3       25 AC    Land  Approximately 25 acres with 1,200+ ft frontage...   \n",
      "4   81,893 SF  Retail  SELLER MOTIVATED! PRICE REDUCED TO 5.0M! 6.62%...   \n",
      "\n",
      "                                              Images              broker  \\\n",
      "0  http://x.lnimg.com/photo/poster_1920/cf0cb4964...        Greg Johnson   \n",
      "1  http://x.lnimg.com/photo/poster_1920/881647c1b...       Pamela Throop   \n",
      "2  http://x.lnimg.com/photo/poster_1920/dc70de703...        Vern Flowers   \n",
      "3  http://x.lnimg.com/photo/poster_1920/afd0e7ef8...  Carl D. Kuhn, CCIM   \n",
      "4  http://x.lnimg.com/photo/poster_1920/1f6d47208...          Doosan Bak   \n",
      "\n",
      "              phone  \n",
      "0  tel:+19075635500  \n",
      "1  tel:+19074566008  \n",
      "2  tel:+19073494761  \n",
      "3  tel:+19077625887  \n",
      "4  tel:+13105288949  \n",
      "The shape of data frame (9076, 11):\n"
     ]
    }
   ],
   "source": [
    "perc = 50.0\n",
    "min_count =  int(((100-perc)/100)*mod_df.shape[0] + 1)\n",
    "mod_df = mod_df.dropna( axis=1, \n",
    "                thresh=min_count)\n",
    "print(\"Modified Dataframe : \")\n",
    "print(mod_df.head(5))  ###If I don't write print, it won't print, apart from the fact that its a \"funny\" printing. \n",
    "mod_df_shape = str(mod_df.shape)\n",
    "print(\"The shape of data frame %s:\" %(mod_df_shape))"
   ]
  },
  {
   "cell_type": "code",
   "execution_count": 37,
   "id": "e7dc4ae4-682b-4cc3-9e71-14cf5cedd425",
   "metadata": {},
   "outputs": [
    {
     "data": {
      "text/plain": [
       "url            0.00\n",
       "Address        1.67\n",
       "City           0.00\n",
       "Price          1.67\n",
       "Total area    47.54\n",
       "Lot Size      11.30\n",
       "Type           1.67\n",
       "Other Info     1.67\n",
       "Images         2.10\n",
       "broker         1.67\n",
       "phone          1.67\n",
       "dtype: float64"
      ]
     },
     "execution_count": 37,
     "metadata": {},
     "output_type": "execute_result"
    }
   ],
   "source": [
    "np.round((mod_df.isna().sum() / mod_df.shape[0]) * 100, 2)"
   ]
  },
  {
   "cell_type": "markdown",
   "id": "813dc3ad-feae-4361-9e62-52740c73090e",
   "metadata": {},
   "source": [
    "### I've deleted 2 further columns. "
   ]
  },
  {
   "cell_type": "code",
   "execution_count": 38,
   "id": "112a50b3-3956-4788-9b47-1d20e8e4fa48",
   "metadata": {
    "tags": []
   },
   "outputs": [
    {
     "data": {
      "text/html": [
       "<div>\n",
       "<style scoped>\n",
       "    .dataframe tbody tr th:only-of-type {\n",
       "        vertical-align: middle;\n",
       "    }\n",
       "\n",
       "    .dataframe tbody tr th {\n",
       "        vertical-align: top;\n",
       "    }\n",
       "\n",
       "    .dataframe thead th {\n",
       "        text-align: right;\n",
       "    }\n",
       "</style>\n",
       "<table border=\"1\" class=\"dataframe\">\n",
       "  <thead>\n",
       "    <tr style=\"text-align: right;\">\n",
       "      <th></th>\n",
       "      <th>url</th>\n",
       "      <th>Address</th>\n",
       "      <th>City</th>\n",
       "      <th>Price</th>\n",
       "      <th>Total area</th>\n",
       "      <th>Lot Size</th>\n",
       "      <th>Type</th>\n",
       "      <th>Other Info</th>\n",
       "      <th>Images</th>\n",
       "      <th>broker</th>\n",
       "      <th>phone</th>\n",
       "    </tr>\n",
       "  </thead>\n",
       "  <tbody>\n",
       "    <tr>\n",
       "      <th>count</th>\n",
       "      <td>9076</td>\n",
       "      <td>8924</td>\n",
       "      <td>9076</td>\n",
       "      <td>8924</td>\n",
       "      <td>4761</td>\n",
       "      <td>8050</td>\n",
       "      <td>8924</td>\n",
       "      <td>8924</td>\n",
       "      <td>8885</td>\n",
       "      <td>8924</td>\n",
       "      <td>8924</td>\n",
       "    </tr>\n",
       "    <tr>\n",
       "      <th>unique</th>\n",
       "      <td>9076</td>\n",
       "      <td>5030</td>\n",
       "      <td>8812</td>\n",
       "      <td>3543</td>\n",
       "      <td>3490</td>\n",
       "      <td>4600</td>\n",
       "      <td>12</td>\n",
       "      <td>8703</td>\n",
       "      <td>8872</td>\n",
       "      <td>5370</td>\n",
       "      <td>5034</td>\n",
       "    </tr>\n",
       "    <tr>\n",
       "      <th>top</th>\n",
       "      <td>http://www.loopnet.com/Listing/20157634/6060-E...</td>\n",
       "      <td>Cheyenne, WY 82001 ·</td>\n",
       "      <td>Access Denied\\nAccess Denied\\nYou are in breac...</td>\n",
       "      <td>$3,500,000</td>\n",
       "      <td>30,000 SF</td>\n",
       "      <td>5 AC</td>\n",
       "      <td>Land</td>\n",
       "      <td>\"</td>\n",
       "      <td>http://x.lnimg.com/photo/thumb_288/f5002b58e50...</td>\n",
       "      <td>Glen Kunofsky</td>\n",
       "      <td>tel:+12124305115</td>\n",
       "    </tr>\n",
       "    <tr>\n",
       "      <th>freq</th>\n",
       "      <td>1</td>\n",
       "      <td>21</td>\n",
       "      <td>152</td>\n",
       "      <td>290</td>\n",
       "      <td>42</td>\n",
       "      <td>50</td>\n",
       "      <td>3232</td>\n",
       "      <td>44</td>\n",
       "      <td>4</td>\n",
       "      <td>67</td>\n",
       "      <td>67</td>\n",
       "    </tr>\n",
       "  </tbody>\n",
       "</table>\n",
       "</div>"
      ],
      "text/plain": [
       "                                                      url  \\\n",
       "count                                                9076   \n",
       "unique                                               9076   \n",
       "top     http://www.loopnet.com/Listing/20157634/6060-E...   \n",
       "freq                                                    1   \n",
       "\n",
       "                     Address  \\\n",
       "count                   8924   \n",
       "unique                  5030   \n",
       "top     Cheyenne, WY 82001 ·   \n",
       "freq                      21   \n",
       "\n",
       "                                                     City       Price  \\\n",
       "count                                                9076        8924   \n",
       "unique                                               8812        3543   \n",
       "top     Access Denied\\nAccess Denied\\nYou are in breac...  $3,500,000   \n",
       "freq                                                  152         290   \n",
       "\n",
       "       Total area Lot Size  Type Other Info  \\\n",
       "count        4761     8050  8924       8924   \n",
       "unique       3490     4600    12       8703   \n",
       "top     30,000 SF     5 AC  Land          \"   \n",
       "freq           42       50  3232         44   \n",
       "\n",
       "                                                   Images         broker  \\\n",
       "count                                                8885           8924   \n",
       "unique                                               8872           5370   \n",
       "top     http://x.lnimg.com/photo/thumb_288/f5002b58e50...  Glen Kunofsky   \n",
       "freq                                                    4             67   \n",
       "\n",
       "                   phone  \n",
       "count               8924  \n",
       "unique              5034  \n",
       "top     tel:+12124305115  \n",
       "freq                  67  "
      ]
     },
     "execution_count": 38,
     "metadata": {},
     "output_type": "execute_result"
    }
   ],
   "source": [
    "#realstate.describe()\n",
    "mod_df.describe()"
   ]
  },
  {
   "cell_type": "markdown",
   "id": "bb764d4e-a155-414b-a95f-9d1d25336f13",
   "metadata": {},
   "source": [
    "### I just catched that in the city column, the top most frequent string is \"Access Denied\", I supposed this is due to the web scrapping in place to get the information from a webpage, which is repeated 152 times. Other curiosities: The top broker has 67 propierties on sale. I am already thinking that the indexes could be the names of the sellers or, to partition the information into Postal Codes, Cities... \n",
    "### The funny part is that the method describe() only works for numeric values... and its throwing outcomes in non numeric colums"
   ]
  },
  {
   "cell_type": "markdown",
   "id": "59b01a14-1cba-4407-9c03-ee2cf19d34c1",
   "metadata": {
    "tags": []
   },
   "source": [
    "### Continue dealing with missing data from the Price column"
   ]
  },
  {
   "cell_type": "code",
   "execution_count": 41,
   "id": "6e6c5dfa-2fc2-4863-a24a-7a9bd82709f4",
   "metadata": {},
   "outputs": [
    {
     "data": {
      "text/html": [
       "<div>\n",
       "<style scoped>\n",
       "    .dataframe tbody tr th:only-of-type {\n",
       "        vertical-align: middle;\n",
       "    }\n",
       "\n",
       "    .dataframe tbody tr th {\n",
       "        vertical-align: top;\n",
       "    }\n",
       "\n",
       "    .dataframe thead th {\n",
       "        text-align: right;\n",
       "    }\n",
       "</style>\n",
       "<table border=\"1\" class=\"dataframe\">\n",
       "  <thead>\n",
       "    <tr style=\"text-align: right;\">\n",
       "      <th></th>\n",
       "      <th>Address</th>\n",
       "      <th>City</th>\n",
       "      <th>Price</th>\n",
       "      <th>Total area</th>\n",
       "      <th>Lot Size</th>\n",
       "      <th>Type</th>\n",
       "      <th>Other Info</th>\n",
       "      <th>Images</th>\n",
       "      <th>broker</th>\n",
       "      <th>phone</th>\n",
       "    </tr>\n",
       "  </thead>\n",
       "  <tbody>\n",
       "    <tr>\n",
       "      <th>32</th>\n",
       "      <td>Montgomery, AL 36108 ·</td>\n",
       "      <td>US Hwy 80 West, Montgomery, AL, 36108</td>\n",
       "      <td>$8,750,000</td>\n",
       "      <td>NaN</td>\n",
       "      <td>350 AC</td>\n",
       "      <td>Land</td>\n",
       "      <td>350 Acres in International Trade Zone. Sewer a...</td>\n",
       "      <td>http://x.lnimg.com/photo/poster_1920/58df968e4...</td>\n",
       "      <td>Frank Potts</td>\n",
       "      <td>tel:+13342771000</td>\n",
       "    </tr>\n",
       "    <tr>\n",
       "      <th>33</th>\n",
       "      <td>Mobile, AL 36617 ·</td>\n",
       "      <td>2306 St Stephens Rd, Mobile, AL, 36617</td>\n",
       "      <td>$3,800,000</td>\n",
       "      <td>NaN</td>\n",
       "      <td>4.81 AC</td>\n",
       "      <td>Retail</td>\n",
       "      <td>As exclusive broker, Cushman &amp; Wakefield is pl...</td>\n",
       "      <td>http://x.lnimg.com/photo/poster_1920/aca0f5b1e...</td>\n",
       "      <td>Drew Fleming</td>\n",
       "      <td>tel:+14048535393</td>\n",
       "    </tr>\n",
       "    <tr>\n",
       "      <th>34</th>\n",
       "      <td>Tanner, AL 35671 ·</td>\n",
       "      <td>5271 Endeavor Way, Tanner, AL, 35671</td>\n",
       "      <td>$15,514,000</td>\n",
       "      <td>327,600 SF</td>\n",
       "      <td>1,132,560 SF</td>\n",
       "      <td>Industrial</td>\n",
       "      <td>Prime Warehouse/Manufacturing building conveni...</td>\n",
       "      <td>http://x.lnimg.com/photo/poster_1920/edc010616...</td>\n",
       "      <td>Lauren Hollingsworth</td>\n",
       "      <td>tel:+18654573600</td>\n",
       "    </tr>\n",
       "    <tr>\n",
       "      <th>35</th>\n",
       "      <td>Mobile, AL 36606 ·</td>\n",
       "      <td>I-65 Service Road at Airport Boulevard, Mobile...</td>\n",
       "      <td>$4,965,840</td>\n",
       "      <td>NaN</td>\n",
       "      <td>9.50 AC</td>\n",
       "      <td>Land</td>\n",
       "      <td>9.5 acres of prime property (600 approx. feet ...</td>\n",
       "      <td>http://x.lnimg.com/photo/poster_1920/0dc6c8b09...</td>\n",
       "      <td>Delaney Land and Realty, LLC</td>\n",
       "      <td>tel:+12514600910</td>\n",
       "    </tr>\n",
       "    <tr>\n",
       "      <th>36</th>\n",
       "      <td>Homewood, AL 35209 ·</td>\n",
       "      <td>209, 225, 234, 237 &amp; 240 Oxmoor Circle, Homewo...</td>\n",
       "      <td>$7,400,000</td>\n",
       "      <td>142,040 SF</td>\n",
       "      <td>8.43 AC</td>\n",
       "      <td>Industrial</td>\n",
       "      <td>Oxmoor Commons, which consists of five office/...</td>\n",
       "      <td>http://x.lnimg.com/photo/poster_1920/af9073646...</td>\n",
       "      <td>Tony Swann</td>\n",
       "      <td>tel:+1404545920</td>\n",
       "    </tr>\n",
       "    <tr>\n",
       "      <th>37</th>\n",
       "      <td>Mobile, AL 36606 ·</td>\n",
       "      <td>100 Springdale Blvd., Mobile, AL, 36606</td>\n",
       "      <td>$3,267,000</td>\n",
       "      <td>NaN</td>\n",
       "      <td>5 AC</td>\n",
       "      <td>Land</td>\n",
       "      <td>Five acres of prime retail land- can be subdiv...</td>\n",
       "      <td>http://x.lnimg.com/photo/poster_1920/931524b67...</td>\n",
       "      <td>Delaney Land and Realty, LLC</td>\n",
       "      <td>tel:+12514600910</td>\n",
       "    </tr>\n",
       "    <tr>\n",
       "      <th>38</th>\n",
       "      <td>Huntsville, AL 35671 ·</td>\n",
       "      <td>5323 Endeavor Way, Huntsville, AL, 35671</td>\n",
       "      <td>$11,934,700</td>\n",
       "      <td>252,000 SF</td>\n",
       "      <td>19.15 AC</td>\n",
       "      <td>Industrial</td>\n",
       "      <td>Size: 252,000 SF, 19.167AC, Pad Ready Site Str...</td>\n",
       "      <td>http://x.lnimg.com/photo/poster_1920/cd1659c75...</td>\n",
       "      <td>Joe A. Hollingsworth, Jr.</td>\n",
       "      <td>tel:+18654573601</td>\n",
       "    </tr>\n",
       "    <tr>\n",
       "      <th>39</th>\n",
       "      <td>Pike Road, AL 36064 ·</td>\n",
       "      <td>9916 Troy Hwy, Pike Road, AL, 36064</td>\n",
       "      <td>$613,200 - $8,500,000</td>\n",
       "      <td>NaN</td>\n",
       "      <td>73 - 1,395 AC</td>\n",
       "      <td>Land</td>\n",
       "      <td>Continuous parcel of 1,394 Acres along Hwy 231...</td>\n",
       "      <td>http://x.lnimg.com/photo/thumb_288/f421796b588...</td>\n",
       "      <td>Michael Blackmon</td>\n",
       "      <td>tel:+14029817337</td>\n",
       "    </tr>\n",
       "    <tr>\n",
       "      <th>40</th>\n",
       "      <td>Saraland, AL 36571 ·</td>\n",
       "      <td>1130 Joaneen Dr, Saraland, AL, 36571</td>\n",
       "      <td>$3,990,000</td>\n",
       "      <td>30,000 SF</td>\n",
       "      <td>60,750 SF</td>\n",
       "      <td>Hotel &amp; Motel</td>\n",
       "      <td>Bank owned, three story, 62 room hotel.</td>\n",
       "      <td>http://x.lnimg.com/photo/poster_1920/edc01061f...</td>\n",
       "      <td>Craig Barrett</td>\n",
       "      <td>tel:+18502430007</td>\n",
       "    </tr>\n",
       "    <tr>\n",
       "      <th>41</th>\n",
       "      <td>Comer, AL 36053 ·</td>\n",
       "      <td>Bishop Hill Plantation, Comer, AL, 36053</td>\n",
       "      <td>$5,172,000</td>\n",
       "      <td>NaN</td>\n",
       "      <td>1,730 AC</td>\n",
       "      <td>Land</td>\n",
       "      <td>Bishop Hill is a very unique property. It is o...</td>\n",
       "      <td>http://x.lnimg.com/photo/poster_1920/812382ff7...</td>\n",
       "      <td>Tim Speaks</td>\n",
       "      <td>tel:+1334738606</td>\n",
       "    </tr>\n",
       "  </tbody>\n",
       "</table>\n",
       "</div>"
      ],
      "text/plain": [
       "                   Address                                               City  \\\n",
       "32  Montgomery, AL 36108 ·              US Hwy 80 West, Montgomery, AL, 36108   \n",
       "33      Mobile, AL 36617 ·             2306 St Stephens Rd, Mobile, AL, 36617   \n",
       "34      Tanner, AL 35671 ·               5271 Endeavor Way, Tanner, AL, 35671   \n",
       "35      Mobile, AL 36606 ·  I-65 Service Road at Airport Boulevard, Mobile...   \n",
       "36    Homewood, AL 35209 ·  209, 225, 234, 237 & 240 Oxmoor Circle, Homewo...   \n",
       "37      Mobile, AL 36606 ·            100 Springdale Blvd., Mobile, AL, 36606   \n",
       "38  Huntsville, AL 35671 ·           5323 Endeavor Way, Huntsville, AL, 35671   \n",
       "39   Pike Road, AL 36064 ·                9916 Troy Hwy, Pike Road, AL, 36064   \n",
       "40    Saraland, AL 36571 ·               1130 Joaneen Dr, Saraland, AL, 36571   \n",
       "41       Comer, AL 36053 ·           Bishop Hill Plantation, Comer, AL, 36053   \n",
       "\n",
       "                    Price  Total area       Lot Size           Type  \\\n",
       "32             $8,750,000         NaN         350 AC           Land   \n",
       "33             $3,800,000         NaN        4.81 AC         Retail   \n",
       "34            $15,514,000  327,600 SF   1,132,560 SF     Industrial   \n",
       "35             $4,965,840         NaN        9.50 AC           Land   \n",
       "36             $7,400,000  142,040 SF        8.43 AC     Industrial   \n",
       "37             $3,267,000         NaN           5 AC           Land   \n",
       "38            $11,934,700  252,000 SF       19.15 AC     Industrial   \n",
       "39  $613,200 - $8,500,000         NaN  73 - 1,395 AC           Land   \n",
       "40             $3,990,000   30,000 SF      60,750 SF  Hotel & Motel   \n",
       "41             $5,172,000         NaN       1,730 AC           Land   \n",
       "\n",
       "                                           Other Info  \\\n",
       "32  350 Acres in International Trade Zone. Sewer a...   \n",
       "33  As exclusive broker, Cushman & Wakefield is pl...   \n",
       "34  Prime Warehouse/Manufacturing building conveni...   \n",
       "35  9.5 acres of prime property (600 approx. feet ...   \n",
       "36  Oxmoor Commons, which consists of five office/...   \n",
       "37  Five acres of prime retail land- can be subdiv...   \n",
       "38  Size: 252,000 SF, 19.167AC, Pad Ready Site Str...   \n",
       "39  Continuous parcel of 1,394 Acres along Hwy 231...   \n",
       "40            Bank owned, three story, 62 room hotel.   \n",
       "41  Bishop Hill is a very unique property. It is o...   \n",
       "\n",
       "                                               Images  \\\n",
       "32  http://x.lnimg.com/photo/poster_1920/58df968e4...   \n",
       "33  http://x.lnimg.com/photo/poster_1920/aca0f5b1e...   \n",
       "34  http://x.lnimg.com/photo/poster_1920/edc010616...   \n",
       "35  http://x.lnimg.com/photo/poster_1920/0dc6c8b09...   \n",
       "36  http://x.lnimg.com/photo/poster_1920/af9073646...   \n",
       "37  http://x.lnimg.com/photo/poster_1920/931524b67...   \n",
       "38  http://x.lnimg.com/photo/poster_1920/cd1659c75...   \n",
       "39  http://x.lnimg.com/photo/thumb_288/f421796b588...   \n",
       "40  http://x.lnimg.com/photo/poster_1920/edc01061f...   \n",
       "41  http://x.lnimg.com/photo/poster_1920/812382ff7...   \n",
       "\n",
       "                          broker             phone  \n",
       "32                   Frank Potts  tel:+13342771000  \n",
       "33                  Drew Fleming  tel:+14048535393  \n",
       "34          Lauren Hollingsworth  tel:+18654573600  \n",
       "35  Delaney Land and Realty, LLC  tel:+12514600910  \n",
       "36                    Tony Swann   tel:+1404545920  \n",
       "37  Delaney Land and Realty, LLC  tel:+12514600910  \n",
       "38     Joe A. Hollingsworth, Jr.  tel:+18654573601  \n",
       "39              Michael Blackmon  tel:+14029817337  \n",
       "40                 Craig Barrett  tel:+18502430007  \n",
       "41                    Tim Speaks   tel:+1334738606  "
      ]
     },
     "execution_count": 41,
     "metadata": {},
     "output_type": "execute_result"
    }
   ],
   "source": [
    "#print(realstate.iloc[32:42, 1:11 ])\n",
    "mod_df.iloc[32:42, 1:11]"
   ]
  },
  {
   "cell_type": "markdown",
   "id": "5d165eeb-720a-482f-9880-98537ffe64be",
   "metadata": {},
   "source": [
    "### My understanding is that print would print in the STOUT ,however I am confused by the ipython interface (the one that is behind jupyter notebook, rigth? Because if I: \n",
    "### print(realstate.iloc[32:42, 1:11 ]) \n",
    "### it's different to just write: \n",
    "### mod_df.iloc[32:42, 1:11]"
   ]
  },
  {
   "cell_type": "markdown",
   "id": "9c3c825f-3d00-444f-ba38-3d5289ca2af6",
   "metadata": {},
   "source": [
    "## THIS IS HOW I FOUND I HAVE RANGES, THAT IS WHY I KEEP IT\n",
    "### I was trying to change to numeric the price column."
   ]
  },
  {
   "cell_type": "code",
   "execution_count": 42,
   "id": "77967e30-7ecc-44d9-a343-a14b4cd9c028",
   "metadata": {},
   "outputs": [
    {
     "ename": "ValueError",
     "evalue": "Unable to parse string \"613200-8500000\" at position 39",
     "output_type": "error",
     "traceback": [
      "\u001b[0;31m---------------------------------------------------------------------------\u001b[0m",
      "\u001b[0;31mValueError\u001b[0m                                Traceback (most recent call last)",
      "\u001b[0;32m/mnt/Files/pyladies_vienna_data_course/pyladiesenv/lib/python3.7/site-packages/pandas/_libs/lib.pyx\u001b[0m in \u001b[0;36mpandas._libs.lib.maybe_convert_numeric\u001b[0;34m()\u001b[0m\n",
      "\u001b[0;31mValueError\u001b[0m: Unable to parse string \"613200-8500000\"",
      "\nDuring handling of the above exception, another exception occurred:\n",
      "\u001b[0;31mValueError\u001b[0m                                Traceback (most recent call last)",
      "\u001b[0;32m/tmp/ipykernel_24776/1303027422.py\u001b[0m in \u001b[0;36m<module>\u001b[0;34m\u001b[0m\n\u001b[1;32m      1\u001b[0m \u001b[0;31m#realstate[realstate.columns[6]] = realstate[realstate.columns[6]].replace('[\\$,]', '', regex=True)\u001b[0m\u001b[0;34m\u001b[0m\u001b[0;34m\u001b[0m\u001b[0;34m\u001b[0m\u001b[0m\n\u001b[0;32m----> 2\u001b[0;31m \u001b[0mmod_df\u001b[0m\u001b[0;34m[\u001b[0m\u001b[0;34m'Price'\u001b[0m\u001b[0;34m]\u001b[0m \u001b[0;34m=\u001b[0m \u001b[0mpd\u001b[0m\u001b[0;34m.\u001b[0m\u001b[0mto_numeric\u001b[0m\u001b[0;34m(\u001b[0m\u001b[0mmod_df\u001b[0m\u001b[0;34m[\u001b[0m\u001b[0;34m'Price'\u001b[0m\u001b[0;34m]\u001b[0m\u001b[0;34m.\u001b[0m\u001b[0mreplace\u001b[0m\u001b[0;34m(\u001b[0m\u001b[0;34m'[^0-9\\.-]'\u001b[0m\u001b[0;34m,\u001b[0m\u001b[0;34m''\u001b[0m\u001b[0;34m,\u001b[0m \u001b[0mregex\u001b[0m \u001b[0;34m=\u001b[0m \u001b[0;32mTrue\u001b[0m\u001b[0;34m)\u001b[0m\u001b[0;34m)\u001b[0m\u001b[0;34m\u001b[0m\u001b[0;34m\u001b[0m\u001b[0m\n\u001b[0m\u001b[1;32m      3\u001b[0m \u001b[0;31m#realstate['Price'].describe()\u001b[0m\u001b[0;34m\u001b[0m\u001b[0;34m\u001b[0m\u001b[0;34m\u001b[0m\u001b[0m\n\u001b[1;32m      4\u001b[0m \u001b[0;31m#realstate['Price'].describe().apply(lambda x: format(x, 'f'))\u001b[0m\u001b[0;34m\u001b[0m\u001b[0;34m\u001b[0m\u001b[0;34m\u001b[0m\u001b[0m\n",
      "\u001b[0;32m/mnt/Files/pyladies_vienna_data_course/pyladiesenv/lib/python3.7/site-packages/pandas/core/tools/numeric.py\u001b[0m in \u001b[0;36mto_numeric\u001b[0;34m(arg, errors, downcast)\u001b[0m\n\u001b[1;32m    182\u001b[0m         \u001b[0;32mtry\u001b[0m\u001b[0;34m:\u001b[0m\u001b[0;34m\u001b[0m\u001b[0;34m\u001b[0m\u001b[0m\n\u001b[1;32m    183\u001b[0m             values, _ = lib.maybe_convert_numeric(\n\u001b[0;32m--> 184\u001b[0;31m                 \u001b[0mvalues\u001b[0m\u001b[0;34m,\u001b[0m \u001b[0mset\u001b[0m\u001b[0;34m(\u001b[0m\u001b[0;34m)\u001b[0m\u001b[0;34m,\u001b[0m \u001b[0mcoerce_numeric\u001b[0m\u001b[0;34m=\u001b[0m\u001b[0mcoerce_numeric\u001b[0m\u001b[0;34m\u001b[0m\u001b[0;34m\u001b[0m\u001b[0m\n\u001b[0m\u001b[1;32m    185\u001b[0m             )\n\u001b[1;32m    186\u001b[0m         \u001b[0;32mexcept\u001b[0m \u001b[0;34m(\u001b[0m\u001b[0mValueError\u001b[0m\u001b[0;34m,\u001b[0m \u001b[0mTypeError\u001b[0m\u001b[0;34m)\u001b[0m\u001b[0;34m:\u001b[0m\u001b[0;34m\u001b[0m\u001b[0;34m\u001b[0m\u001b[0m\n",
      "\u001b[0;32m/mnt/Files/pyladies_vienna_data_course/pyladiesenv/lib/python3.7/site-packages/pandas/_libs/lib.pyx\u001b[0m in \u001b[0;36mpandas._libs.lib.maybe_convert_numeric\u001b[0;34m()\u001b[0m\n",
      "\u001b[0;31mValueError\u001b[0m: Unable to parse string \"613200-8500000\" at position 39"
     ]
    }
   ],
   "source": [
    "#realstate[realstate.columns[6]] = realstate[realstate.columns[6]].replace('[\\$,]', '', regex=True)\n",
    "mod_df['Price'] = pd.to_numeric(mod_df['Price'].replace('[^0-9\\.-]','', regex = True)) \n",
    "#realstate['Price'].describe()\n",
    "#realstate['Price'].describe().apply(lambda x: format(x, 'f'))"
   ]
  },
  {
   "cell_type": "code",
   "execution_count": 43,
   "id": "93a79fed-3b2e-4eac-b6e2-b37f76d95d4e",
   "metadata": {},
   "outputs": [],
   "source": [
    "#I tried this, but was not sucesfull\n",
    "\n",
    "#mod_df['Price_norange'] = pd.to_numeric(mod_df['Price'].replace('[^0-9\\.-]','', regex = True))\n",
    "#https://stackoverflow.com/questions/69613848/choosing-values-from-pandas-column-with-the-lowest-valuea\n",
    "#mod_df['Prices_norange'] = (mod_df['Price'].str.extractall('(\\d+\\.\\d+|\\d+)')[0]\n",
    "#o                            .astype(float)\n",
    "#o                            .groupby(level=0)\n",
    "#o                            .min())\n",
    "#print(mod_df.iloc[32:42, 1:12 ])\n",
    "#mod_df['Price'].str.findall(r'(?:\\d+,)*\\d+,\\d+').to_frame()\n",
    "#mod_df['Pricejustnumber'] = mod_df['Price'].str.findall(r'(?:\\d+,)*\\d+,\\d+')\n",
    "#mod_df['Pricenoranges'] = mod_df['Price'].str.split('-')\n",
    "#mod_df.head()"
   ]
  },
  {
   "cell_type": "code",
   "execution_count": 44,
   "id": "02a16a8a-dba1-4f4a-a40c-baf3daf3e6f6",
   "metadata": {},
   "outputs": [
    {
     "name": "stdout",
     "output_type": "stream",
     "text": [
      "The shape of data frame (8736, 11):\n"
     ]
    }
   ],
   "source": [
    "mod_df = mod_df[~mod_df.Price.str.contains(\" - \", na=False)]\n",
    "mod_df_shape = str(mod_df.shape)\n",
    "print(\"The shape of data frame %s:\" %(mod_df_shape))"
   ]
  },
  {
   "cell_type": "code",
   "execution_count": 45,
   "id": "94fc4dac-41a8-4e5d-bd5b-a663fc641fea",
   "metadata": {
    "tags": []
   },
   "outputs": [
    {
     "data": {
      "text/html": [
       "<div>\n",
       "<style scoped>\n",
       "    .dataframe tbody tr th:only-of-type {\n",
       "        vertical-align: middle;\n",
       "    }\n",
       "\n",
       "    .dataframe tbody tr th {\n",
       "        vertical-align: top;\n",
       "    }\n",
       "\n",
       "    .dataframe thead th {\n",
       "        text-align: right;\n",
       "    }\n",
       "</style>\n",
       "<table border=\"1\" class=\"dataframe\">\n",
       "  <thead>\n",
       "    <tr style=\"text-align: right;\">\n",
       "      <th></th>\n",
       "      <th>Price</th>\n",
       "      <th>Total area</th>\n",
       "      <th>Lot Size</th>\n",
       "      <th>Type</th>\n",
       "      <th>Other Info</th>\n",
       "      <th>Images</th>\n",
       "      <th>broker</th>\n",
       "      <th>phone</th>\n",
       "    </tr>\n",
       "  </thead>\n",
       "  <tbody>\n",
       "    <tr>\n",
       "      <th>32</th>\n",
       "      <td>$8,750,000</td>\n",
       "      <td>NaN</td>\n",
       "      <td>350 AC</td>\n",
       "      <td>Land</td>\n",
       "      <td>350 Acres in International Trade Zone. Sewer a...</td>\n",
       "      <td>http://x.lnimg.com/photo/poster_1920/58df968e4...</td>\n",
       "      <td>Frank Potts</td>\n",
       "      <td>tel:+13342771000</td>\n",
       "    </tr>\n",
       "    <tr>\n",
       "      <th>33</th>\n",
       "      <td>$3,800,000</td>\n",
       "      <td>NaN</td>\n",
       "      <td>4.81 AC</td>\n",
       "      <td>Retail</td>\n",
       "      <td>As exclusive broker, Cushman &amp; Wakefield is pl...</td>\n",
       "      <td>http://x.lnimg.com/photo/poster_1920/aca0f5b1e...</td>\n",
       "      <td>Drew Fleming</td>\n",
       "      <td>tel:+14048535393</td>\n",
       "    </tr>\n",
       "    <tr>\n",
       "      <th>34</th>\n",
       "      <td>$15,514,000</td>\n",
       "      <td>327,600 SF</td>\n",
       "      <td>1,132,560 SF</td>\n",
       "      <td>Industrial</td>\n",
       "      <td>Prime Warehouse/Manufacturing building conveni...</td>\n",
       "      <td>http://x.lnimg.com/photo/poster_1920/edc010616...</td>\n",
       "      <td>Lauren Hollingsworth</td>\n",
       "      <td>tel:+18654573600</td>\n",
       "    </tr>\n",
       "    <tr>\n",
       "      <th>35</th>\n",
       "      <td>$4,965,840</td>\n",
       "      <td>NaN</td>\n",
       "      <td>9.50 AC</td>\n",
       "      <td>Land</td>\n",
       "      <td>9.5 acres of prime property (600 approx. feet ...</td>\n",
       "      <td>http://x.lnimg.com/photo/poster_1920/0dc6c8b09...</td>\n",
       "      <td>Delaney Land and Realty, LLC</td>\n",
       "      <td>tel:+12514600910</td>\n",
       "    </tr>\n",
       "    <tr>\n",
       "      <th>36</th>\n",
       "      <td>$7,400,000</td>\n",
       "      <td>142,040 SF</td>\n",
       "      <td>8.43 AC</td>\n",
       "      <td>Industrial</td>\n",
       "      <td>Oxmoor Commons, which consists of five office/...</td>\n",
       "      <td>http://x.lnimg.com/photo/poster_1920/af9073646...</td>\n",
       "      <td>Tony Swann</td>\n",
       "      <td>tel:+1404545920</td>\n",
       "    </tr>\n",
       "    <tr>\n",
       "      <th>37</th>\n",
       "      <td>$3,267,000</td>\n",
       "      <td>NaN</td>\n",
       "      <td>5 AC</td>\n",
       "      <td>Land</td>\n",
       "      <td>Five acres of prime retail land- can be subdiv...</td>\n",
       "      <td>http://x.lnimg.com/photo/poster_1920/931524b67...</td>\n",
       "      <td>Delaney Land and Realty, LLC</td>\n",
       "      <td>tel:+12514600910</td>\n",
       "    </tr>\n",
       "    <tr>\n",
       "      <th>38</th>\n",
       "      <td>$11,934,700</td>\n",
       "      <td>252,000 SF</td>\n",
       "      <td>19.15 AC</td>\n",
       "      <td>Industrial</td>\n",
       "      <td>Size: 252,000 SF, 19.167AC, Pad Ready Site Str...</td>\n",
       "      <td>http://x.lnimg.com/photo/poster_1920/cd1659c75...</td>\n",
       "      <td>Joe A. Hollingsworth, Jr.</td>\n",
       "      <td>tel:+18654573601</td>\n",
       "    </tr>\n",
       "    <tr>\n",
       "      <th>40</th>\n",
       "      <td>$3,990,000</td>\n",
       "      <td>30,000 SF</td>\n",
       "      <td>60,750 SF</td>\n",
       "      <td>Hotel &amp; Motel</td>\n",
       "      <td>Bank owned, three story, 62 room hotel.</td>\n",
       "      <td>http://x.lnimg.com/photo/poster_1920/edc01061f...</td>\n",
       "      <td>Craig Barrett</td>\n",
       "      <td>tel:+18502430007</td>\n",
       "    </tr>\n",
       "    <tr>\n",
       "      <th>41</th>\n",
       "      <td>$5,172,000</td>\n",
       "      <td>NaN</td>\n",
       "      <td>1,730 AC</td>\n",
       "      <td>Land</td>\n",
       "      <td>Bishop Hill is a very unique property. It is o...</td>\n",
       "      <td>http://x.lnimg.com/photo/poster_1920/812382ff7...</td>\n",
       "      <td>Tim Speaks</td>\n",
       "      <td>tel:+1334738606</td>\n",
       "    </tr>\n",
       "    <tr>\n",
       "      <th>42</th>\n",
       "      <td>$6,550,376</td>\n",
       "      <td>47,287 SF</td>\n",
       "      <td>7.84 AC</td>\n",
       "      <td>Retail</td>\n",
       "      <td>Stan Johnson Company is pleased to offer for s...</td>\n",
       "      <td>http://x.lnimg.com/photo/poster_1920/994235651...</td>\n",
       "      <td>Andrew Ragsdale</td>\n",
       "      <td>tel:+19184942690</td>\n",
       "    </tr>\n",
       "  </tbody>\n",
       "</table>\n",
       "</div>"
      ],
      "text/plain": [
       "          Price  Total area      Lot Size           Type  \\\n",
       "32   $8,750,000         NaN        350 AC           Land   \n",
       "33   $3,800,000         NaN       4.81 AC         Retail   \n",
       "34  $15,514,000  327,600 SF  1,132,560 SF     Industrial   \n",
       "35   $4,965,840         NaN       9.50 AC           Land   \n",
       "36   $7,400,000  142,040 SF       8.43 AC     Industrial   \n",
       "37   $3,267,000         NaN          5 AC           Land   \n",
       "38  $11,934,700  252,000 SF      19.15 AC     Industrial   \n",
       "40   $3,990,000   30,000 SF     60,750 SF  Hotel & Motel   \n",
       "41   $5,172,000         NaN      1,730 AC           Land   \n",
       "42   $6,550,376   47,287 SF       7.84 AC         Retail   \n",
       "\n",
       "                                           Other Info  \\\n",
       "32  350 Acres in International Trade Zone. Sewer a...   \n",
       "33  As exclusive broker, Cushman & Wakefield is pl...   \n",
       "34  Prime Warehouse/Manufacturing building conveni...   \n",
       "35  9.5 acres of prime property (600 approx. feet ...   \n",
       "36  Oxmoor Commons, which consists of five office/...   \n",
       "37  Five acres of prime retail land- can be subdiv...   \n",
       "38  Size: 252,000 SF, 19.167AC, Pad Ready Site Str...   \n",
       "40            Bank owned, three story, 62 room hotel.   \n",
       "41  Bishop Hill is a very unique property. It is o...   \n",
       "42  Stan Johnson Company is pleased to offer for s...   \n",
       "\n",
       "                                               Images  \\\n",
       "32  http://x.lnimg.com/photo/poster_1920/58df968e4...   \n",
       "33  http://x.lnimg.com/photo/poster_1920/aca0f5b1e...   \n",
       "34  http://x.lnimg.com/photo/poster_1920/edc010616...   \n",
       "35  http://x.lnimg.com/photo/poster_1920/0dc6c8b09...   \n",
       "36  http://x.lnimg.com/photo/poster_1920/af9073646...   \n",
       "37  http://x.lnimg.com/photo/poster_1920/931524b67...   \n",
       "38  http://x.lnimg.com/photo/poster_1920/cd1659c75...   \n",
       "40  http://x.lnimg.com/photo/poster_1920/edc01061f...   \n",
       "41  http://x.lnimg.com/photo/poster_1920/812382ff7...   \n",
       "42  http://x.lnimg.com/photo/poster_1920/994235651...   \n",
       "\n",
       "                          broker             phone  \n",
       "32                   Frank Potts  tel:+13342771000  \n",
       "33                  Drew Fleming  tel:+14048535393  \n",
       "34          Lauren Hollingsworth  tel:+18654573600  \n",
       "35  Delaney Land and Realty, LLC  tel:+12514600910  \n",
       "36                    Tony Swann   tel:+1404545920  \n",
       "37  Delaney Land and Realty, LLC  tel:+12514600910  \n",
       "38     Joe A. Hollingsworth, Jr.  tel:+18654573601  \n",
       "40                 Craig Barrett  tel:+18502430007  \n",
       "41                    Tim Speaks   tel:+1334738606  \n",
       "42               Andrew Ragsdale  tel:+19184942690  "
      ]
     },
     "execution_count": 45,
     "metadata": {},
     "output_type": "execute_result"
    }
   ],
   "source": [
    "mod_df.iloc[32:42, 3:13 ]"
   ]
  },
  {
   "cell_type": "code",
   "execution_count": 46,
   "id": "dcf2c1bd-c60c-4094-b80c-70c0aff0c862",
   "metadata": {},
   "outputs": [
    {
     "name": "stdout",
     "output_type": "stream",
     "text": [
      "<class 'pandas.core.frame.DataFrame'>\n",
      "Int64Index: 8736 entries, 0 to 9075\n",
      "Data columns (total 11 columns):\n",
      " #   Column      Non-Null Count  Dtype \n",
      "---  ------      --------------  ----- \n",
      " 0   url         8736 non-null   object\n",
      " 1   Address     8584 non-null   object\n",
      " 2   City        8736 non-null   object\n",
      " 3   Price       8584 non-null   object\n",
      " 4   Total area  4739 non-null   object\n",
      " 5   Lot Size    7721 non-null   object\n",
      " 6   Type        8584 non-null   object\n",
      " 7   Other Info  8584 non-null   object\n",
      " 8   Images      8545 non-null   object\n",
      " 9   broker      8584 non-null   object\n",
      " 10  phone       8584 non-null   object\n",
      "dtypes: object(11)\n",
      "memory usage: 819.0+ KB\n"
     ]
    }
   ],
   "source": [
    "mod_df.info()"
   ]
  },
  {
   "cell_type": "code",
   "execution_count": 47,
   "id": "6ed9447c-d336-4f82-abb5-cdd48ca7979d",
   "metadata": {},
   "outputs": [],
   "source": [
    "mod_df['Mod_Price'] = pd.to_numeric(mod_df['Price'].replace('[^0-9\\.-]','', regex = True))"
   ]
  },
  {
   "cell_type": "markdown",
   "id": "b88f601d-d9bd-458f-b0f8-daaf5d5feb22",
   "metadata": {},
   "source": [
    " ### I don't understand the warning that is throwing. The error stopped when I modified for mod_df['Mod_Price']. I think the problem is to try to change in place the column. "
   ]
  },
  {
   "cell_type": "code",
   "execution_count": 48,
   "id": "3eb30a57-bc3e-47b2-bf24-6d4214e036a8",
   "metadata": {},
   "outputs": [
    {
     "data": {
      "text/plain": [
       "count    8.560000e+03\n",
       "mean     5.925520e+06\n",
       "std      5.663657e+06\n",
       "min      1.220000e+03\n",
       "25%      3.413655e+06\n",
       "50%      4.500000e+06\n",
       "75%      6.570888e+06\n",
       "max      9.116890e+07\n",
       "Name: Mod_Price, dtype: float64"
      ]
     },
     "execution_count": 48,
     "metadata": {},
     "output_type": "execute_result"
    }
   ],
   "source": [
    "mod_df['Mod_Price'].describe()"
   ]
  },
  {
   "cell_type": "code",
   "execution_count": 49,
   "id": "f8aed765-68e4-4638-b610-2b84595c8870",
   "metadata": {},
   "outputs": [
    {
     "name": "stdout",
     "output_type": "stream",
     "text": [
      "<class 'pandas.core.frame.DataFrame'>\n",
      "Int64Index: 8736 entries, 0 to 9075\n",
      "Data columns (total 12 columns):\n",
      " #   Column      Non-Null Count  Dtype  \n",
      "---  ------      --------------  -----  \n",
      " 0   url         8736 non-null   object \n",
      " 1   Address     8584 non-null   object \n",
      " 2   City        8736 non-null   object \n",
      " 3   Price       8584 non-null   object \n",
      " 4   Total area  4739 non-null   object \n",
      " 5   Lot Size    7721 non-null   object \n",
      " 6   Type        8584 non-null   object \n",
      " 7   Other Info  8584 non-null   object \n",
      " 8   Images      8545 non-null   object \n",
      " 9   broker      8584 non-null   object \n",
      " 10  phone       8584 non-null   object \n",
      " 11  Mod_Price   8560 non-null   float64\n",
      "dtypes: float64(1), object(11)\n",
      "memory usage: 887.2+ KB\n"
     ]
    }
   ],
   "source": [
    "mod_df.info()"
   ]
  },
  {
   "cell_type": "code",
   "execution_count": 50,
   "id": "14f54111-4968-4553-80f0-c51a83225d55",
   "metadata": {},
   "outputs": [
    {
     "name": "stdout",
     "output_type": "stream",
     "text": [
      "Int64Index([   0,    1,    2,    3,    4,    5,    6,    7,    8,    9,\n",
      "            ...\n",
      "            9066, 9067, 9068, 9069, 9070, 9071, 9072, 9073, 9074, 9075],\n",
      "           dtype='int64', length=8736)\n"
     ]
    }
   ],
   "source": [
    "print(mod_df.index)"
   ]
  },
  {
   "cell_type": "code",
   "execution_count": 55,
   "id": "df81ba63-cc5e-498c-8521-87d8a40deb9a",
   "metadata": {},
   "outputs": [
    {
     "name": "stdout",
     "output_type": "stream",
     "text": [
      "RangeIndex(start=0, stop=8736, step=1)\n",
      "<class 'pandas.core.frame.DataFrame'>\n",
      "RangeIndex: 8736 entries, 0 to 8735\n",
      "Data columns (total 12 columns):\n",
      " #   Column      Non-Null Count  Dtype  \n",
      "---  ------      --------------  -----  \n",
      " 0   url         8736 non-null   object \n",
      " 1   Address     8584 non-null   object \n",
      " 2   City        8736 non-null   object \n",
      " 3   Price       8584 non-null   object \n",
      " 4   Total area  4739 non-null   object \n",
      " 5   Lot Size    7721 non-null   object \n",
      " 6   Type        8584 non-null   object \n",
      " 7   Other Info  8584 non-null   object \n",
      " 8   Images      8545 non-null   object \n",
      " 9   broker      8584 non-null   object \n",
      " 10  phone       8584 non-null   object \n",
      " 11  Mod_Price   8560 non-null   float64\n",
      "dtypes: float64(1), object(11)\n",
      "memory usage: 819.1+ KB\n",
      "None\n"
     ]
    }
   ],
   "source": [
    "mod_df.reset_index(drop=True, inplace=True) \n",
    "print(mod_df.index)\n",
    "print(mod_df.info())"
   ]
  },
  {
   "cell_type": "code",
   "execution_count": 56,
   "id": "322ac565-88cc-4ebf-af8f-d64b9a879dc3",
   "metadata": {},
   "outputs": [
    {
     "data": {
      "text/plain": [
       "(8736, 12)"
      ]
     },
     "execution_count": 56,
     "metadata": {},
     "output_type": "execute_result"
    }
   ],
   "source": [
    "mod_df.shape"
   ]
  },
  {
   "cell_type": "code",
   "execution_count": 57,
   "id": "40aff847-d9b8-4649-9fd3-9d7820e89e32",
   "metadata": {},
   "outputs": [
    {
     "data": {
      "text/html": [
       "<div>\n",
       "<style scoped>\n",
       "    .dataframe tbody tr th:only-of-type {\n",
       "        vertical-align: middle;\n",
       "    }\n",
       "\n",
       "    .dataframe tbody tr th {\n",
       "        vertical-align: top;\n",
       "    }\n",
       "\n",
       "    .dataframe thead th {\n",
       "        text-align: right;\n",
       "    }\n",
       "</style>\n",
       "<table border=\"1\" class=\"dataframe\">\n",
       "  <thead>\n",
       "    <tr style=\"text-align: right;\">\n",
       "      <th></th>\n",
       "      <th>url</th>\n",
       "      <th>Address</th>\n",
       "      <th>City</th>\n",
       "      <th>Price</th>\n",
       "      <th>Total area</th>\n",
       "      <th>Lot Size</th>\n",
       "      <th>Type</th>\n",
       "      <th>Other Info</th>\n",
       "      <th>Images</th>\n",
       "      <th>broker</th>\n",
       "      <th>phone</th>\n",
       "      <th>Mod_Price</th>\n",
       "    </tr>\n",
       "  </thead>\n",
       "  <tbody>\n",
       "    <tr>\n",
       "      <th>0</th>\n",
       "      <td>http://www.loopnet.com/Listing/20157634/6060-E...</td>\n",
       "      <td>Anchorage, AK 99518 ·</td>\n",
       "      <td>6060 Electron Dr., Anchorage, AK, 99518</td>\n",
       "      <td>$10,239,431</td>\n",
       "      <td>NaN</td>\n",
       "      <td>680,276 SF</td>\n",
       "      <td>Land</td>\n",
       "      <td>Hard to find large I-2 site located near the c...</td>\n",
       "      <td>http://x.lnimg.com/photo/poster_1920/cf0cb4964...</td>\n",
       "      <td>Greg Johnson</td>\n",
       "      <td>tel:+19075635500</td>\n",
       "      <td>10239431.0</td>\n",
       "    </tr>\n",
       "    <tr>\n",
       "      <th>1</th>\n",
       "      <td>http://www.loopnet.com/Listing/18499430/1901-A...</td>\n",
       "      <td>Fairbanks, AK 99701 ·</td>\n",
       "      <td>1901 Airport Way, Fairbanks, AK, 99701</td>\n",
       "      <td>$4,050,000</td>\n",
       "      <td>10,000 SF</td>\n",
       "      <td>3.26 AC</td>\n",
       "      <td>Office</td>\n",
       "      <td>Assessor's Parcel Number 0394921 *Sale include...</td>\n",
       "      <td>http://x.lnimg.com/photo/poster_1920/881647c1b...</td>\n",
       "      <td>Pamela Throop</td>\n",
       "      <td>tel:+19074566008</td>\n",
       "      <td>4050000.0</td>\n",
       "    </tr>\n",
       "    <tr>\n",
       "      <th>2</th>\n",
       "      <td>http://www.loopnet.com/Listing/20000996/4510-O...</td>\n",
       "      <td>Anchorage, AK 99502 ·</td>\n",
       "      <td>4510 Old International Airport Rd 99502, Ancho...</td>\n",
       "      <td>$3,500,000</td>\n",
       "      <td>28,521 SF</td>\n",
       "      <td>1.09 AC</td>\n",
       "      <td>Office</td>\n",
       "      <td>Three Story Office Building, Lot size 47,265 s...</td>\n",
       "      <td>http://x.lnimg.com/photo/poster_1920/dc70de703...</td>\n",
       "      <td>Vern Flowers</td>\n",
       "      <td>tel:+19073494761</td>\n",
       "      <td>3500000.0</td>\n",
       "    </tr>\n",
       "    <tr>\n",
       "      <th>3</th>\n",
       "      <td>http://www.loopnet.com/Listing/19729524/7645-W...</td>\n",
       "      <td>Wasilla, AK 99654 ·</td>\n",
       "      <td>7645 W. Marigold Drive, Wasilla, AK, 99654</td>\n",
       "      <td>$3,267,000</td>\n",
       "      <td>NaN</td>\n",
       "      <td>25 AC</td>\n",
       "      <td>Land</td>\n",
       "      <td>Approximately 25 acres with 1,200+ ft frontage...</td>\n",
       "      <td>http://x.lnimg.com/photo/poster_1920/afd0e7ef8...</td>\n",
       "      <td>Carl D. Kuhn, CCIM</td>\n",
       "      <td>tel:+19077625887</td>\n",
       "      <td>3267000.0</td>\n",
       "    </tr>\n",
       "    <tr>\n",
       "      <th>4</th>\n",
       "      <td>http://www.loopnet.com/Listing/19535739/171-Mu...</td>\n",
       "      <td>Anchorage, AK 99504 ·</td>\n",
       "      <td>171 Muldoon Rd, Anchorage, AK, 99504</td>\n",
       "      <td>$5,000,000</td>\n",
       "      <td>NaN</td>\n",
       "      <td>81,893 SF</td>\n",
       "      <td>Retail</td>\n",
       "      <td>SELLER MOTIVATED! PRICE REDUCED TO 5.0M! 6.62%...</td>\n",
       "      <td>http://x.lnimg.com/photo/poster_1920/1f6d47208...</td>\n",
       "      <td>Doosan Bak</td>\n",
       "      <td>tel:+13105288949</td>\n",
       "      <td>5000000.0</td>\n",
       "    </tr>\n",
       "  </tbody>\n",
       "</table>\n",
       "</div>"
      ],
      "text/plain": [
       "                                                 url                Address  \\\n",
       "0  http://www.loopnet.com/Listing/20157634/6060-E...  Anchorage, AK 99518 ·   \n",
       "1  http://www.loopnet.com/Listing/18499430/1901-A...  Fairbanks, AK 99701 ·   \n",
       "2  http://www.loopnet.com/Listing/20000996/4510-O...  Anchorage, AK 99502 ·   \n",
       "3  http://www.loopnet.com/Listing/19729524/7645-W...    Wasilla, AK 99654 ·   \n",
       "4  http://www.loopnet.com/Listing/19535739/171-Mu...  Anchorage, AK 99504 ·   \n",
       "\n",
       "                                                City        Price Total area  \\\n",
       "0            6060 Electron Dr., Anchorage, AK, 99518  $10,239,431        NaN   \n",
       "1             1901 Airport Way, Fairbanks, AK, 99701   $4,050,000  10,000 SF   \n",
       "2  4510 Old International Airport Rd 99502, Ancho...   $3,500,000  28,521 SF   \n",
       "3         7645 W. Marigold Drive, Wasilla, AK, 99654   $3,267,000        NaN   \n",
       "4               171 Muldoon Rd, Anchorage, AK, 99504   $5,000,000        NaN   \n",
       "\n",
       "     Lot Size    Type                                         Other Info  \\\n",
       "0  680,276 SF    Land  Hard to find large I-2 site located near the c...   \n",
       "1     3.26 AC  Office  Assessor's Parcel Number 0394921 *Sale include...   \n",
       "2     1.09 AC  Office  Three Story Office Building, Lot size 47,265 s...   \n",
       "3       25 AC    Land  Approximately 25 acres with 1,200+ ft frontage...   \n",
       "4   81,893 SF  Retail  SELLER MOTIVATED! PRICE REDUCED TO 5.0M! 6.62%...   \n",
       "\n",
       "                                              Images              broker  \\\n",
       "0  http://x.lnimg.com/photo/poster_1920/cf0cb4964...        Greg Johnson   \n",
       "1  http://x.lnimg.com/photo/poster_1920/881647c1b...       Pamela Throop   \n",
       "2  http://x.lnimg.com/photo/poster_1920/dc70de703...        Vern Flowers   \n",
       "3  http://x.lnimg.com/photo/poster_1920/afd0e7ef8...  Carl D. Kuhn, CCIM   \n",
       "4  http://x.lnimg.com/photo/poster_1920/1f6d47208...          Doosan Bak   \n",
       "\n",
       "              phone   Mod_Price  \n",
       "0  tel:+19075635500  10239431.0  \n",
       "1  tel:+19074566008   4050000.0  \n",
       "2  tel:+19073494761   3500000.0  \n",
       "3  tel:+19077625887   3267000.0  \n",
       "4  tel:+13105288949   5000000.0  "
      ]
     },
     "execution_count": 57,
     "metadata": {},
     "output_type": "execute_result"
    }
   ],
   "source": [
    "mod_df.head()"
   ]
  },
  {
   "cell_type": "markdown",
   "id": "33a96d9c-85bd-48e9-9c09-ed17ee246856",
   "metadata": {},
   "source": [
    "### There are several ways to change the type of column. I don't know which would be the most \"pythonic\" way of doing it... For areas, I'll try the following.\n",
    "\n",
    "### I am begining with TOTAL AREA since it has 47% of NA values. I'll just try to change to numeric type. I found it works, because the types remain float, that means I only had Square Feet values... I'll deal with the changing of the units with lot Size and I'll do arrangements for Total area, but Still, I need to consider almost half of the information is missing"
   ]
  },
  {
   "cell_type": "code",
   "execution_count": 60,
   "id": "c87bc770-9724-44d5-80d3-ec8856dd272a",
   "metadata": {
    "tags": []
   },
   "outputs": [
    {
     "name": "stdout",
     "output_type": "stream",
     "text": [
      "0        NaN\n",
      "1    10000.0\n",
      "2    28521.0\n",
      "3        NaN\n",
      "4        NaN\n",
      "5    35962.0\n",
      "6    91191.0\n",
      "Name: Mod_Total area, dtype: float64\n",
      "count    4.739000e+03\n",
      "mean     5.528019e+04\n",
      "std      1.070187e+05\n",
      "min      0.000000e+00\n",
      "25%      1.070000e+04\n",
      "50%      2.784800e+04\n",
      "75%      6.000000e+04\n",
      "max      3.495000e+06\n",
      "Name: Mod_Total area, dtype: float64\n"
     ]
    }
   ],
   "source": [
    "#One way... haven't tried.\n",
    "#mod_df_2['Lot Size'] = mod_df_2['Lot size'].astype(int)\n",
    "#mod_df_2['Lot Size'].describe().apply(lambda x: format(x, 'f'))\n",
    "\n",
    "#mod_df_2['Total area'] = mod_df_2['Total area'].str.replace(' SF', '').apply(pd.to_numeric) ###Throws errors because of \".\"\n",
    "#mod_df_2['Total area'] = mod_df_2['Total area'].str.replace(',', '.')\n",
    "mod_df['Mod_Total area'] = mod_df['Total area'].str.replace(' SF', '')\n",
    "mod_df['Mod_Total area'] = mod_df['Mod_Total area'].str.replace(',', '').astype(float)\n",
    "print(mod_df['Mod_Total area'].head(7))\n",
    "print(mod_df['Mod_Total area'].describe())"
   ]
  },
  {
   "cell_type": "markdown",
   "id": "6c3fa5cf-ac3c-4d5a-92b0-46c3e9451f7a",
   "metadata": {
    "tags": []
   },
   "source": [
    "### Following the link, I found useful to use a dictionary to map what to do, depending on the type of unit used. Also, for some reason, in this way, it works by finding an average if there is a range... so I didnt have to get rid of ranges, as in the last part. \n",
    "https://stackoverflow.com/questions/71582835/convert-different-units-of-a-column-in-pandas"
   ]
  },
  {
   "cell_type": "code",
   "execution_count": 61,
   "id": "4f0595c2-9307-4dc3-9e1b-fa7f68213dd0",
   "metadata": {},
   "outputs": [
    {
     "data": {
      "text/html": [
       "<div>\n",
       "<style scoped>\n",
       "    .dataframe tbody tr th:only-of-type {\n",
       "        vertical-align: middle;\n",
       "    }\n",
       "\n",
       "    .dataframe tbody tr th {\n",
       "        vertical-align: top;\n",
       "    }\n",
       "\n",
       "    .dataframe thead th {\n",
       "        text-align: right;\n",
       "    }\n",
       "</style>\n",
       "<table border=\"1\" class=\"dataframe\">\n",
       "  <thead>\n",
       "    <tr style=\"text-align: right;\">\n",
       "      <th></th>\n",
       "      <th>url</th>\n",
       "      <th>Address</th>\n",
       "      <th>City</th>\n",
       "      <th>Price</th>\n",
       "      <th>Total area</th>\n",
       "      <th>Lot Size</th>\n",
       "      <th>Type</th>\n",
       "      <th>Other Info</th>\n",
       "      <th>Images</th>\n",
       "      <th>broker</th>\n",
       "      <th>phone</th>\n",
       "      <th>Mod_Price</th>\n",
       "      <th>Mod_Total area</th>\n",
       "      <th>avg_LotSize</th>\n",
       "      <th>unit_LotSize</th>\n",
       "      <th>map</th>\n",
       "      <th>total_LotSize_m2</th>\n",
       "    </tr>\n",
       "  </thead>\n",
       "  <tbody>\n",
       "    <tr>\n",
       "      <th>0</th>\n",
       "      <td>http://www.loopnet.com/Listing/20157634/6060-E...</td>\n",
       "      <td>Anchorage, AK 99518 ·</td>\n",
       "      <td>6060 Electron Dr., Anchorage, AK, 99518</td>\n",
       "      <td>$10,239,431</td>\n",
       "      <td>NaN</td>\n",
       "      <td>680,276 SF</td>\n",
       "      <td>Land</td>\n",
       "      <td>Hard to find large I-2 site located near the c...</td>\n",
       "      <td>http://x.lnimg.com/photo/poster_1920/cf0cb4964...</td>\n",
       "      <td>Greg Johnson</td>\n",
       "      <td>tel:+19075635500</td>\n",
       "      <td>10239431.0</td>\n",
       "      <td>NaN</td>\n",
       "      <td>478.00</td>\n",
       "      <td>SF</td>\n",
       "      <td>0.9305</td>\n",
       "      <td>444.7790</td>\n",
       "    </tr>\n",
       "    <tr>\n",
       "      <th>1</th>\n",
       "      <td>http://www.loopnet.com/Listing/18499430/1901-A...</td>\n",
       "      <td>Fairbanks, AK 99701 ·</td>\n",
       "      <td>1901 Airport Way, Fairbanks, AK, 99701</td>\n",
       "      <td>$4,050,000</td>\n",
       "      <td>10,000 SF</td>\n",
       "      <td>3.26 AC</td>\n",
       "      <td>Office</td>\n",
       "      <td>Assessor's Parcel Number 0394921 *Sale include...</td>\n",
       "      <td>http://x.lnimg.com/photo/poster_1920/881647c1b...</td>\n",
       "      <td>Pamela Throop</td>\n",
       "      <td>tel:+19074566008</td>\n",
       "      <td>4050000.0</td>\n",
       "      <td>10000.0</td>\n",
       "      <td>3.26</td>\n",
       "      <td>AC</td>\n",
       "      <td>4047.0000</td>\n",
       "      <td>13193.2200</td>\n",
       "    </tr>\n",
       "    <tr>\n",
       "      <th>2</th>\n",
       "      <td>http://www.loopnet.com/Listing/20000996/4510-O...</td>\n",
       "      <td>Anchorage, AK 99502 ·</td>\n",
       "      <td>4510 Old International Airport Rd 99502, Ancho...</td>\n",
       "      <td>$3,500,000</td>\n",
       "      <td>28,521 SF</td>\n",
       "      <td>1.09 AC</td>\n",
       "      <td>Office</td>\n",
       "      <td>Three Story Office Building, Lot size 47,265 s...</td>\n",
       "      <td>http://x.lnimg.com/photo/poster_1920/dc70de703...</td>\n",
       "      <td>Vern Flowers</td>\n",
       "      <td>tel:+19073494761</td>\n",
       "      <td>3500000.0</td>\n",
       "      <td>28521.0</td>\n",
       "      <td>1.09</td>\n",
       "      <td>AC</td>\n",
       "      <td>4047.0000</td>\n",
       "      <td>4411.2300</td>\n",
       "    </tr>\n",
       "    <tr>\n",
       "      <th>3</th>\n",
       "      <td>http://www.loopnet.com/Listing/19729524/7645-W...</td>\n",
       "      <td>Wasilla, AK 99654 ·</td>\n",
       "      <td>7645 W. Marigold Drive, Wasilla, AK, 99654</td>\n",
       "      <td>$3,267,000</td>\n",
       "      <td>NaN</td>\n",
       "      <td>25 AC</td>\n",
       "      <td>Land</td>\n",
       "      <td>Approximately 25 acres with 1,200+ ft frontage...</td>\n",
       "      <td>http://x.lnimg.com/photo/poster_1920/afd0e7ef8...</td>\n",
       "      <td>Carl D. Kuhn, CCIM</td>\n",
       "      <td>tel:+19077625887</td>\n",
       "      <td>3267000.0</td>\n",
       "      <td>NaN</td>\n",
       "      <td>25.00</td>\n",
       "      <td>AC</td>\n",
       "      <td>4047.0000</td>\n",
       "      <td>101175.0000</td>\n",
       "    </tr>\n",
       "    <tr>\n",
       "      <th>4</th>\n",
       "      <td>http://www.loopnet.com/Listing/19535739/171-Mu...</td>\n",
       "      <td>Anchorage, AK 99504 ·</td>\n",
       "      <td>171 Muldoon Rd, Anchorage, AK, 99504</td>\n",
       "      <td>$5,000,000</td>\n",
       "      <td>NaN</td>\n",
       "      <td>81,893 SF</td>\n",
       "      <td>Retail</td>\n",
       "      <td>SELLER MOTIVATED! PRICE REDUCED TO 5.0M! 6.62%...</td>\n",
       "      <td>http://x.lnimg.com/photo/poster_1920/1f6d47208...</td>\n",
       "      <td>Doosan Bak</td>\n",
       "      <td>tel:+13105288949</td>\n",
       "      <td>5000000.0</td>\n",
       "      <td>NaN</td>\n",
       "      <td>487.00</td>\n",
       "      <td>SF</td>\n",
       "      <td>0.9305</td>\n",
       "      <td>453.1535</td>\n",
       "    </tr>\n",
       "  </tbody>\n",
       "</table>\n",
       "</div>"
      ],
      "text/plain": [
       "                                                 url                Address  \\\n",
       "0  http://www.loopnet.com/Listing/20157634/6060-E...  Anchorage, AK 99518 ·   \n",
       "1  http://www.loopnet.com/Listing/18499430/1901-A...  Fairbanks, AK 99701 ·   \n",
       "2  http://www.loopnet.com/Listing/20000996/4510-O...  Anchorage, AK 99502 ·   \n",
       "3  http://www.loopnet.com/Listing/19729524/7645-W...    Wasilla, AK 99654 ·   \n",
       "4  http://www.loopnet.com/Listing/19535739/171-Mu...  Anchorage, AK 99504 ·   \n",
       "\n",
       "                                                City        Price Total area  \\\n",
       "0            6060 Electron Dr., Anchorage, AK, 99518  $10,239,431        NaN   \n",
       "1             1901 Airport Way, Fairbanks, AK, 99701   $4,050,000  10,000 SF   \n",
       "2  4510 Old International Airport Rd 99502, Ancho...   $3,500,000  28,521 SF   \n",
       "3         7645 W. Marigold Drive, Wasilla, AK, 99654   $3,267,000        NaN   \n",
       "4               171 Muldoon Rd, Anchorage, AK, 99504   $5,000,000        NaN   \n",
       "\n",
       "     Lot Size    Type                                         Other Info  \\\n",
       "0  680,276 SF    Land  Hard to find large I-2 site located near the c...   \n",
       "1     3.26 AC  Office  Assessor's Parcel Number 0394921 *Sale include...   \n",
       "2     1.09 AC  Office  Three Story Office Building, Lot size 47,265 s...   \n",
       "3       25 AC    Land  Approximately 25 acres with 1,200+ ft frontage...   \n",
       "4   81,893 SF  Retail  SELLER MOTIVATED! PRICE REDUCED TO 5.0M! 6.62%...   \n",
       "\n",
       "                                              Images              broker  \\\n",
       "0  http://x.lnimg.com/photo/poster_1920/cf0cb4964...        Greg Johnson   \n",
       "1  http://x.lnimg.com/photo/poster_1920/881647c1b...       Pamela Throop   \n",
       "2  http://x.lnimg.com/photo/poster_1920/dc70de703...        Vern Flowers   \n",
       "3  http://x.lnimg.com/photo/poster_1920/afd0e7ef8...  Carl D. Kuhn, CCIM   \n",
       "4  http://x.lnimg.com/photo/poster_1920/1f6d47208...          Doosan Bak   \n",
       "\n",
       "              phone   Mod_Price  Mod_Total area  avg_LotSize unit_LotSize  \\\n",
       "0  tel:+19075635500  10239431.0             NaN       478.00           SF   \n",
       "1  tel:+19074566008   4050000.0         10000.0         3.26           AC   \n",
       "2  tel:+19073494761   3500000.0         28521.0         1.09           AC   \n",
       "3  tel:+19077625887   3267000.0             NaN        25.00           AC   \n",
       "4  tel:+13105288949   5000000.0             NaN       487.00           SF   \n",
       "\n",
       "         map  total_LotSize_m2  \n",
       "0     0.9305          444.7790  \n",
       "1  4047.0000        13193.2200  \n",
       "2  4047.0000         4411.2300  \n",
       "3  4047.0000       101175.0000  \n",
       "4     0.9305          453.1535  "
      ]
     },
     "execution_count": 61,
     "metadata": {},
     "output_type": "execute_result"
    }
   ],
   "source": [
    "d = {'SF': 0.9305, 'AC':4047}\n",
    "\n",
    "mod_df['avg_LotSize'] = (mod_df['Lot Size'].str.extractall(r'(\\d+\\.*\\d*)')\n",
    "                             .astype(float)\n",
    "                             .groupby(level=0)\n",
    "                             .mean())\n",
    "\n",
    "mod_df['unit_LotSize'] = mod_df['Lot Size'].str.extract(f'({\"|\".join(d)})', expand=False)\n",
    "\n",
    "mod_df['map'] = mod_df['unit_LotSize'].map(d).fillna(1)\n",
    "\n",
    "mod_df['total_LotSize_m2'] = mod_df['avg_LotSize'].mul(mod_df['map'])\n",
    "mod_df.head()"
   ]
  },
  {
   "cell_type": "code",
   "execution_count": 36,
   "id": "9ac76d6e-ccb9-4cbb-bd80-1f96a400e9cd",
   "metadata": {},
   "outputs": [],
   "source": [
    "### NOT USEFUL: https://stackoverflow.com/questions/6116978/how-to-replace-multiple-substrings-of-a-string\n",
    "#def replace_all(text, dic):\n",
    "#    for i, j in dic.iteritems():\n",
    "#        text = text.replace(i, j)\n",
    "#    return text\n",
    "#d = { 'cat': '', 'AC': ''}\n",
    "#my_sentence = \"This is my cat and this is my dog.\"\n",
    "#replace_all(my_sentence, d)\n",
    "#print(my_sentence)\n",
    "\n",
    "##https://stackoverflow.com/questions/46342492/use-dictionary-to-replace-a-string-within-a-string-in-pandas-columns\n",
    "###This works really nice, but it's not useful since I'll need to change the unit values... \n",
    "#ids = {'AREA':['SF','AC'],\n",
    "#      'AREA2':['','']}\n",
    "#ids = dict(zip(ids['AREA'], ids['AREA2']))\n",
    "#print (ids)\n",
    "#mod_df_2['Lot Size'] = mod_df_2['Lot Size'].replace(ids, regex=True)\n",
    "#mod_df_2['Lot Size'] = mod_df_2['Lot Size'].str.replace(',', '').astype(float)\n",
    "#print(mod_df_2['Lot Size'].describe)"
   ]
  },
  {
   "cell_type": "code",
   "execution_count": 62,
   "id": "da0bee94-e8a2-4213-b077-4e7ace9e0a8f",
   "metadata": {},
   "outputs": [
    {
     "name": "stdout",
     "output_type": "stream",
     "text": [
      "<class 'pandas.core.frame.DataFrame'>\n",
      "RangeIndex: 8736 entries, 0 to 8735\n",
      "Data columns (total 17 columns):\n",
      " #   Column            Non-Null Count  Dtype  \n",
      "---  ------            --------------  -----  \n",
      " 0   url               8736 non-null   object \n",
      " 1   Address           8584 non-null   object \n",
      " 2   City              8736 non-null   object \n",
      " 3   Price             8584 non-null   object \n",
      " 4   Total area        4739 non-null   object \n",
      " 5   Lot Size          7721 non-null   object \n",
      " 6   Type              8584 non-null   object \n",
      " 7   Other Info        8584 non-null   object \n",
      " 8   Images            8545 non-null   object \n",
      " 9   broker            8584 non-null   object \n",
      " 10  phone             8584 non-null   object \n",
      " 11  Mod_Price         8560 non-null   float64\n",
      " 12  Mod_Total area    4739 non-null   float64\n",
      " 13  avg_LotSize       7720 non-null   float64\n",
      " 14  unit_LotSize      7720 non-null   object \n",
      " 15  map               8736 non-null   float64\n",
      " 16  total_LotSize_m2  7720 non-null   float64\n",
      "dtypes: float64(5), object(12)\n",
      "memory usage: 1.1+ MB\n"
     ]
    }
   ],
   "source": [
    "mod_df.info()"
   ]
  },
  {
   "cell_type": "code",
   "execution_count": 63,
   "id": "76284450-30e6-4df8-b5ed-f032fca24b22",
   "metadata": {},
   "outputs": [
    {
     "name": "stdout",
     "output_type": "stream",
     "text": [
      "                                                 url                Address  \\\n",
      "0  http://www.loopnet.com/Listing/20157634/6060-E...  Anchorage, AK 99518 ·   \n",
      "1  http://www.loopnet.com/Listing/18499430/1901-A...  Fairbanks, AK 99701 ·   \n",
      "2  http://www.loopnet.com/Listing/20000996/4510-O...  Anchorage, AK 99502 ·   \n",
      "3  http://www.loopnet.com/Listing/19729524/7645-W...    Wasilla, AK 99654 ·   \n",
      "4  http://www.loopnet.com/Listing/19535739/171-Mu...  Anchorage, AK 99504 ·   \n",
      "\n",
      "                                                City        Price Total area  \\\n",
      "0            6060 Electron Dr., Anchorage, AK, 99518  $10,239,431        NaN   \n",
      "1             1901 Airport Way, Fairbanks, AK, 99701   $4,050,000  10,000 SF   \n",
      "2  4510 Old International Airport Rd 99502, Ancho...   $3,500,000  28,521 SF   \n",
      "3         7645 W. Marigold Drive, Wasilla, AK, 99654   $3,267,000        NaN   \n",
      "4               171 Muldoon Rd, Anchorage, AK, 99504   $5,000,000        NaN   \n",
      "\n",
      "     Lot Size    Type                                         Other Info  \\\n",
      "0  680,276 SF    Land  Hard to find large I-2 site located near the c...   \n",
      "1     3.26 AC  Office  Assessor's Parcel Number 0394921 *Sale include...   \n",
      "2     1.09 AC  Office  Three Story Office Building, Lot size 47,265 s...   \n",
      "3       25 AC    Land  Approximately 25 acres with 1,200+ ft frontage...   \n",
      "4   81,893 SF  Retail  SELLER MOTIVATED! PRICE REDUCED TO 5.0M! 6.62%...   \n",
      "\n",
      "                                              Images              broker  ...  \\\n",
      "0  http://x.lnimg.com/photo/poster_1920/cf0cb4964...        Greg Johnson  ...   \n",
      "1  http://x.lnimg.com/photo/poster_1920/881647c1b...       Pamela Throop  ...   \n",
      "2  http://x.lnimg.com/photo/poster_1920/dc70de703...        Vern Flowers  ...   \n",
      "3  http://x.lnimg.com/photo/poster_1920/afd0e7ef8...  Carl D. Kuhn, CCIM  ...   \n",
      "4  http://x.lnimg.com/photo/poster_1920/1f6d47208...          Doosan Bak  ...   \n",
      "\n",
      "    Mod_Price  Mod_Total area  avg_LotSize  unit_LotSize        map  \\\n",
      "0  10239431.0             NaN       478.00            SF     0.9305   \n",
      "1   4050000.0         10000.0         3.26            AC  4047.0000   \n",
      "2   3500000.0         28521.0         1.09            AC  4047.0000   \n",
      "3   3267000.0             NaN        25.00            AC  4047.0000   \n",
      "4   5000000.0             NaN       487.00            SF     0.9305   \n",
      "\n",
      "   total_LotSize_m2  avg_Totalarea  unit_Totalarea map_area  total_area_m2  \n",
      "0          444.7790            NaN             NaN   1.0000            NaN  \n",
      "1        13193.2200            5.0              SF   0.9305        4.65250  \n",
      "2         4411.2300          274.5              SF   0.9305      255.42225  \n",
      "3       101175.0000            NaN             NaN   1.0000            NaN  \n",
      "4          453.1535            NaN             NaN   1.0000            NaN  \n",
      "\n",
      "[5 rows x 21 columns]\n"
     ]
    }
   ],
   "source": [
    "d = {'SF': 0.9305}\n",
    "\n",
    "mod_df['avg_Totalarea'] = (mod_df['Total area'].str.extractall(r'(\\d+\\.*\\d*)')\n",
    "                             .astype(float)\n",
    "                             .groupby(level=0)\n",
    "                             .mean())\n",
    "\n",
    "mod_df['unit_Totalarea'] = mod_df['Total area'].str.extract(f'({\"|\".join(d)})', expand=False)\n",
    "\n",
    "mod_df['map_area'] = mod_df['unit_Totalarea'].map(d).fillna(1)\n",
    "\n",
    "mod_df['total_area_m2'] = mod_df['avg_Totalarea'].mul(mod_df['map_area'])\n",
    "print (mod_df.head())"
   ]
  },
  {
   "cell_type": "markdown",
   "id": "5c6ab242-04c0-49c2-bf79-99bcd26bae9d",
   "metadata": {},
   "source": [
    "#mod_df_2['size(sqft)'] = mod_df_2['size(sqft)'].astype(int)\n",
    "#mod_df_2['size(sqft)'].describe().apply(lambda x: format(x, 'f'))\n",
    "#mod_df_2['longitude'] = mod_df_2['longitude'].astype(float)\n",
    "#mod_df_2['latitude'] = mod_df_2['latitude'].astype(float)\n",
    "#mod_df_2['last_update'] = pd.to_datetime(mod_df_2['last_update'], format='%Y-%m-%dT%H:%M:%SZ', errors='coerce')\n",
    "\n",
    "##https://datacarpentry.org/python-ecology-lesson/03-index-slice-subset/index.html"
   ]
  },
  {
   "cell_type": "markdown",
   "id": "0a4be736-4e42-4eb3-a603-b6a81fe014ac",
   "metadata": {},
   "source": [
    "mod_df.describe().apply(lambda s: s.apply('{0:.2f}'.format))"
   ]
  },
  {
   "cell_type": "code",
   "execution_count": null,
   "id": "3a2e366a-9ff2-4b95-ba47-871151492a4b",
   "metadata": {},
   "outputs": [
    {
     "data": {
      "text/html": [
       "<div>\n",
       "<style scoped>\n",
       "    .dataframe tbody tr th:only-of-type {\n",
       "        vertical-align: middle;\n",
       "    }\n",
       "\n",
       "    .dataframe tbody tr th {\n",
       "        vertical-align: top;\n",
       "    }\n",
       "\n",
       "    .dataframe thead th {\n",
       "        text-align: right;\n",
       "    }\n",
       "</style>\n",
       "<table border=\"1\" class=\"dataframe\">\n",
       "  <thead>\n",
       "    <tr style=\"text-align: right;\">\n",
       "      <th></th>\n",
       "      <th>Mod_Price</th>\n",
       "      <th>Mod_Total area</th>\n",
       "      <th>avg_LotSize</th>\n",
       "      <th>map</th>\n",
       "      <th>total_LotSize_m2</th>\n",
       "      <th>avg_Totalarea</th>\n",
       "      <th>map_area</th>\n",
       "      <th>total_area_m2</th>\n",
       "    </tr>\n",
       "  </thead>\n",
       "  <tbody>\n",
       "    <tr>\n",
       "      <th>count</th>\n",
       "      <td>8.560000e+03</td>\n",
       "      <td>4.739000e+03</td>\n",
       "      <td>7720.000000</td>\n",
       "      <td>8736.000000</td>\n",
       "      <td>7.720000e+03</td>\n",
       "      <td>4739.000000</td>\n",
       "      <td>8736.000000</td>\n",
       "      <td>4739.000000</td>\n",
       "    </tr>\n",
       "    <tr>\n",
       "      <th>mean</th>\n",
       "      <td>5.925520e+06</td>\n",
       "      <td>5.528019e+04</td>\n",
       "      <td>90.277981</td>\n",
       "      <td>2701.560292</td>\n",
       "      <td>1.426908e+05</td>\n",
       "      <td>226.924597</td>\n",
       "      <td>0.962298</td>\n",
       "      <td>211.153338</td>\n",
       "    </tr>\n",
       "    <tr>\n",
       "      <th>std</th>\n",
       "      <td>5.663657e+06</td>\n",
       "      <td>1.070187e+05</td>\n",
       "      <td>150.606048</td>\n",
       "      <td>1906.283774</td>\n",
       "      <td>3.844542e+05</td>\n",
       "      <td>164.184950</td>\n",
       "      <td>0.034626</td>\n",
       "      <td>152.774096</td>\n",
       "    </tr>\n",
       "    <tr>\n",
       "      <th>min</th>\n",
       "      <td>1.220000e+03</td>\n",
       "      <td>0.000000e+00</td>\n",
       "      <td>0.010000</td>\n",
       "      <td>0.930500</td>\n",
       "      <td>1.581850e-01</td>\n",
       "      <td>0.000000</td>\n",
       "      <td>0.930500</td>\n",
       "      <td>0.000000</td>\n",
       "    </tr>\n",
       "    <tr>\n",
       "      <th>25%</th>\n",
       "      <td>3.413655e+06</td>\n",
       "      <td>1.070000e+04</td>\n",
       "      <td>3.757500</td>\n",
       "      <td>1.000000</td>\n",
       "      <td>8.476955e+02</td>\n",
       "      <td>73.250000</td>\n",
       "      <td>0.930500</td>\n",
       "      <td>68.159125</td>\n",
       "    </tr>\n",
       "    <tr>\n",
       "      <th>50%</th>\n",
       "      <td>4.500000e+06</td>\n",
       "      <td>2.784800e+04</td>\n",
       "      <td>15.000000</td>\n",
       "      <td>4047.000000</td>\n",
       "      <td>1.821150e+04</td>\n",
       "      <td>218.000000</td>\n",
       "      <td>0.930500</td>\n",
       "      <td>202.849000</td>\n",
       "    </tr>\n",
       "    <tr>\n",
       "      <th>75%</th>\n",
       "      <td>6.570888e+06</td>\n",
       "      <td>6.000000e+04</td>\n",
       "      <td>101.557500</td>\n",
       "      <td>4047.000000</td>\n",
       "      <td>8.498700e+04</td>\n",
       "      <td>360.250000</td>\n",
       "      <td>1.000000</td>\n",
       "      <td>335.212625</td>\n",
       "    </tr>\n",
       "    <tr>\n",
       "      <th>max</th>\n",
       "      <td>9.116890e+07</td>\n",
       "      <td>3.495000e+06</td>\n",
       "      <td>998.000000</td>\n",
       "      <td>4047.000000</td>\n",
       "      <td>4.038906e+06</td>\n",
       "      <td>999.000000</td>\n",
       "      <td>1.000000</td>\n",
       "      <td>929.569500</td>\n",
       "    </tr>\n",
       "  </tbody>\n",
       "</table>\n",
       "</div>"
      ],
      "text/plain": [
       "          Mod_Price  Mod_Total area  avg_LotSize          map  \\\n",
       "count  8.560000e+03    4.739000e+03  7720.000000  8736.000000   \n",
       "mean   5.925520e+06    5.528019e+04    90.277981  2701.560292   \n",
       "std    5.663657e+06    1.070187e+05   150.606048  1906.283774   \n",
       "min    1.220000e+03    0.000000e+00     0.010000     0.930500   \n",
       "25%    3.413655e+06    1.070000e+04     3.757500     1.000000   \n",
       "50%    4.500000e+06    2.784800e+04    15.000000  4047.000000   \n",
       "75%    6.570888e+06    6.000000e+04   101.557500  4047.000000   \n",
       "max    9.116890e+07    3.495000e+06   998.000000  4047.000000   \n",
       "\n",
       "       total_LotSize_m2  avg_Totalarea     map_area  total_area_m2  \n",
       "count      7.720000e+03    4739.000000  8736.000000    4739.000000  \n",
       "mean       1.426908e+05     226.924597     0.962298     211.153338  \n",
       "std        3.844542e+05     164.184950     0.034626     152.774096  \n",
       "min        1.581850e-01       0.000000     0.930500       0.000000  \n",
       "25%        8.476955e+02      73.250000     0.930500      68.159125  \n",
       "50%        1.821150e+04     218.000000     0.930500     202.849000  \n",
       "75%        8.498700e+04     360.250000     1.000000     335.212625  \n",
       "max        4.038906e+06     999.000000     1.000000     929.569500  "
      ]
     },
     "execution_count": 64,
     "metadata": {},
     "output_type": "execute_result"
    }
   ],
   "source": [
    "mod_df.describe()"
   ]
  },
  {
   "cell_type": "code",
   "execution_count": 71,
   "id": "014254b2-3f20-48df-9fb6-75dec13d7d5d",
   "metadata": {},
   "outputs": [
    {
     "name": "stdout",
     "output_type": "stream",
     "text": [
      "Index(['Mod_Price', 'Mod_Total area', 'avg_LotSize', 'map', 'total_LotSize_m2',\n",
      "       'avg_Totalarea', 'map_area', 'total_area_m2'],\n",
      "      dtype='object')\n"
     ]
    }
   ],
   "source": [
    "#describe_num_df = mod_df.describe(include=['float64'])\n",
    "describe_num_df = mod_df.describe()\n",
    "describe_num_df.reset_index(inplace=True)\n",
    "num_col = mod_df._get_numeric_data().columns\n",
    "print(num_col)\n",
    "type(num_col)\n",
    "num_col.drop(['Mod_Total area', 'avg_LotSize', 'map','avg_Totalarea', 'map_area'])\n",
    "\n",
    "# To remove any variable from plot\n",
    "describe_num_df = describe_num_df[describe_num_df['index'] != 'count']\n",
    "#for i in num_col:  \n",
    "#    if i in ['index']:    \n",
    "#        continue  \n",
    "#    sns.factorplot(x='index', y=i, data=describe_num_df)  \n",
    "#    plt.show()"
   ]
  },
  {
   "cell_type": "code",
   "execution_count": 93,
   "id": "957c5f3e-01f6-4866-9913-2ff38b8eefad",
   "metadata": {},
   "outputs": [
    {
     "name": "stdout",
     "output_type": "stream",
     "text": [
      "Index(['Mod_Price', 'Mod_Total area', 'avg_LotSize', 'map', 'total_LotSize_m2',\n",
      "       'avg_Totalarea', 'map_area', 'total_area_m2'],\n",
      "      dtype='object')\n",
      "Index(['Mod_Price', 'Mod_Total area', 'avg_LotSize', 'map', 'total_LotSize_m2',\n",
      "       'avg_Totalarea', 'map_area', 'total_area_m2'],\n",
      "      dtype='object')\n"
     ]
    },
    {
     "data": {
      "image/png": "[encoded data removed]",
      "text/plain": [
       "<Figure size 432x288 with 1 Axes>"
      ]
     },
     "metadata": {
      "needs_background": "light"
     },
     "output_type": "display_data"
    }
   ],
   "source": [
    "#for i in num_col:  \n",
    "#    if i in ['index']:    \n",
    "#        continue  \n",
    "#    sns.boxplot(y=i,  data=describe_num_df)  \n",
    "#    plt.show()\n",
    "\n",
    "print(num_col)\n",
    "num_col.drop(['Mod_Price'])\n",
    "num_col.drop\n",
    "print(num_col)\n",
    "toplot_mod_df = mod_df.loc[:,num_col]\n",
    "toplot_mod_df.head()\n",
    "sns.boxplot(x=\"variable\", y=\"value\", data=pd.melt(toplot_mod_df))\n",
    "plt.show()\n",
    "\n",
    "\n",
    "#for i in num_col:  \n",
    "#    if i in ['index']:    \n",
    "#        continue  \n",
    "#    sns.boxplot(y=i,  data=describe_num_df)  \n",
    "#    plt.show()\n",
    "\n",
    "#describe_num_df.dtypes\n",
    "#sns.boxplot(x=\"variable\", y=\"value\", data=pd.melt(describe_num_df))\n",
    "#plt.show()"
   ]
  },
  {
   "cell_type": "code",
   "execution_count": null,
   "id": "190c8632-9051-4e21-919f-fa72bfd5e906",
   "metadata": {},
   "outputs": [],
   "source": [
    "#https://stackoverflow.com/questions/56770982/how-to-split-text-in-one-column-of-pandas-data-frame-to-required-formatthree-co"
   ]
  },
  {
   "cell_type": "code",
   "execution_count": null,
   "id": "ec8fb767-c1f9-4b6f-8956-742bb79bbcb1",
   "metadata": {},
   "outputs": [],
   "source": [
    "#https://pandas.pydata.org/docs/user_guide/groupby.html\n",
    "####https://pandas.pydata.org/docs/user_guide/groupby.html ## Split, apply, combine"
   ]
  },
  {
   "cell_type": "markdown",
   "id": "c651a828-0228-4e3e-be85-0b1518a71da9",
   "metadata": {
    "tags": []
   },
   "source": [
    "https://stackoverflow.com/questions/56770982/how-to-split-text-in-one-column-of-pandas-data-frame-to-required-formatthree-co### Images and URL lead to a web page. \n",
    "I've been researching about it and I could apply an easy and fast way to see if the webpage is available,\n",
    "with the package webbrowswer\n"
   ]
  },
  {
   "cell_type": "code",
   "execution_count": null,
   "id": "c47017bd-958e-4752-b75d-f9ff98bcb25b",
   "metadata": {},
   "outputs": [],
   "source": [
    "## import webbrowser\n",
    "## url_1 = realstate.url[0]\n",
    "## webbrowser.open_new_tab(url_1)"
   ]
  },
  {
   "cell_type": "markdown",
   "id": "633ea7c1-eda7-4245-ab94-14be46e20611",
   "metadata": {},
   "source": [
    "ages = ['Age 96 - 97', 'Age greater than 99', '65-74 years old', '75+ years old']\n",
    "df = pd.DataFrame({'age': ages})\n",
    "\n",
    "df[['age_low', 'age_high']] = df['age'].str.extract(r'(\\d+)(?:\\D+(\\d+))?')\n",
    "print(df)\n",
    "\n",
    "#### Try r'(\\d+)(?:[\\s-]*(\\d+))?' or r'(\\d+)[\\s-]*(\\d*)' – "
   ]
  },
  {
   "cell_type": "code",
   "execution_count": null,
   "id": "6519f6ac-a63b-49f9-b4c3-e34fed48f723",
   "metadata": {},
   "outputs": [],
   "source": [
    "from datetime import datetime\n",
    "# Pongo bien la fecha\n",
    "data['x'] = [datetime.utcfromtimestamp(x).strftime('%Y-%m-%d %H:%M:%S') for x in data['x']]\n",
    "data['x'] = pd.to_datetime(data['x'])\n",
    "\n",
    "data.head()"
   ]
  },
  {
   "cell_type": "code",
   "execution_count": 45,
   "id": "475f93d7-0be9-4285-98e3-20434241927f",
   "metadata": {},
   "outputs": [
    {
     "name": "stdout",
     "output_type": "stream",
     "text": [
      "<class 'pandas.core.frame.DataFrame'>\n",
      "Int64Index: 8736 entries, 0 to 9075\n",
      "Data columns (total 21 columns):\n",
      " #   Column            Non-Null Count  Dtype  \n",
      "---  ------            --------------  -----  \n",
      " 0   url               8736 non-null   object \n",
      " 1   Address           8584 non-null   object \n",
      " 2   City              8736 non-null   object \n",
      " 3   Price             8584 non-null   object \n",
      " 4   Total area        4739 non-null   object \n",
      " 5   Lot Size          7721 non-null   object \n",
      " 6   Type              8584 non-null   object \n",
      " 7   Other Info        8584 non-null   object \n",
      " 8   Images            8545 non-null   object \n",
      " 9   broker            8584 non-null   object \n",
      " 10  phone             8584 non-null   object \n",
      " 11  Mod_Price         8560 non-null   float64\n",
      " 12  Mod_Total area    4739 non-null   float64\n",
      " 13  avg_LotSize       7720 non-null   float64\n",
      " 14  unit_LotSize      7720 non-null   object \n",
      " 15  map               8736 non-null   float64\n",
      " 16  total_LotSize_m2  7720 non-null   float64\n",
      " 17  avg_Totalarea     4739 non-null   float64\n",
      " 18  unit_Totalarea    4739 non-null   object \n",
      " 19  map_area          8736 non-null   float64\n",
      " 20  total_area_m2     4739 non-null   float64\n",
      "dtypes: float64(8), object(13)\n",
      "memory usage: 1.5+ MB\n"
     ]
    }
   ],
   "source": [
    "mod_df.info()"
   ]
  },
  {
   "cell_type": "code",
   "execution_count": 43,
   "id": "66c7075b-3c8f-42b8-aa09-8165bc7f75f6",
   "metadata": {},
   "outputs": [
    {
     "data": {
      "text/plain": [
       "<AxesSubplot:xlabel='Mod_Price'>"
      ]
     },
     "execution_count": 43,
     "metadata": {},
     "output_type": "execute_result"
    },
    {
     "data": {
      "image/png": "[encoded data removed]",
      "text/plain": [
       "<Figure size 432x288 with 1 Axes>"
      ]
     },
     "metadata": {
      "needs_background": "light"
     },
     "output_type": "display_data"
    }
   ],
   "source": [
    "#Boxplot - price\n",
    "sns.boxplot(x = mod_df['Mod_Price']) #There are a lot of outliers"
   ]
  },
  {
   "cell_type": "code",
   "execution_count": 39,
   "id": "546394b6-2790-40c5-8a49-f3d6817415ad",
   "metadata": {
    "tags": []
   },
   "outputs": [
    {
     "data": {
      "text/plain": [
       "5238"
      ]
     },
     "execution_count": 39,
     "metadata": {},
     "output_type": "execute_result"
    }
   ],
   "source": [
    "mod_df['broker'].nunique()"
   ]
  },
  {
   "cell_type": "code",
   "execution_count": null,
   "id": "7f988490-0d7d-4b4a-a7b3-2107e82e736a",
   "metadata": {
    "tags": []
   },
   "outputs": [],
   "source": [
    "mod_df.groupby(['City','total_LotSize_m2','Pclass']).size()"
   ]
  },
  {
   "cell_type": "code",
   "execution_count": null,
   "id": "0a242f54-d584-4837-9f37-268b6dd45dcc",
   "metadata": {},
   "outputs": [],
   "source": []
  },
  {
   "cell_type": "markdown",
   "id": "c3be9010-b308-4af9-b86b-118c841fab97",
   "metadata": {
    "tags": []
   },
   "source": [
    "### Type, broker, place seem like correct attributes to organize the data around. Statistics about those should be interesting, the intersection between them and Price, Are, Year built are key info"
   ]
  },
  {
   "cell_type": "code",
   "execution_count": null,
   "id": "8987a606-a697-4595-8b3b-1f74401b4141",
   "metadata": {},
   "outputs": [],
   "source": []
  },
  {
   "cell_type": "code",
   "execution_count": null,
   "id": "28002784-3a9e-4ca5-9089-1ad9707176a2",
   "metadata": {},
   "outputs": [],
   "source": []
  },
  {
   "cell_type": "code",
   "execution_count": null,
   "id": "56c1f73e-0844-420f-ab62-fcb31111b0cb",
   "metadata": {},
   "outputs": [],
   "source": []
  },
  {
   "cell_type": "code",
   "execution_count": null,
   "id": "7f8240d7-e1c9-4fee-b314-d891fabd6ef2",
   "metadata": {},
   "outputs": [],
   "source": [
    "#https://www.w3resource.com/python-exercises/python-basic-exercise-61.php\n",
    "d_ft = int(input(\"Input distance in feet: \"))\n",
    "d_inches = d_ft * 12\n",
    "d_yards = d_ft / 3.0\n",
    "d_miles = d_ft / 5280.0\n",
    "\n",
    "\n",
    "df.loc[df.Weight == \"155\", \"Name\"] = \"John\"\n",
    "\n",
    "###https://www.geeksforgeeks.org/python-pandas-series-str-find/\n",
    "##https://www.shanelynn.ie/pandas-iloc-loc-select-rows-and-columns-dataframe/\n",
    "  \n",
    "# dropping null value columns to avoid errors\n",
    "data.dropna(inplace = True)\n",
    " \n",
    "# substring to be searched\n",
    "sub ='a'\n",
    " \n",
    "# creating and passing series to new column\n",
    "data[\"Indexes\"]= data[\"Name\"].str.find(sub)\n",
    " \n",
    "# display\n",
    "data"
   ]
  }
 ],
 "metadata": {
  "kernelspec": {
   "display_name": "Python 3 (ipykernel)",
   "language": "python",
   "name": "python3"
  },
  "language_info": {
   "codemirror_mode": {
    "name": "ipython",
    "version": 3
   },
   "file_extension": ".py",
   "mimetype": "text/x-python",
   "name": "python",
   "nbconvert_exporter": "python",
   "pygments_lexer": "ipython3",
   "version": "3.7.12"
  }
 },
 "nbformat": 4,
 "nbformat_minor": 5
}
