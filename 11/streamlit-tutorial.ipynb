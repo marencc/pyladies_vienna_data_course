{
 "cells": [
  {
   "cell_type": "markdown",
   "id": "cdb12c09-9fb2-4153-bf49-2fa76c700cd2",
   "metadata": {},
   "source": [
    "# STREAMLIT APP"
   ]
  },
  {
   "cell_type": "markdown",
   "id": "d6d02723-ff72-48fb-a55a-909730270ab8",
   "metadata": {},
   "source": [
    "In this lesson we will build a streamlit app and follow this tutorial: https://docs.streamlit.io/library/get-started/create-an-app\n",
    "\n",
    "### Key steps:\n",
    "\n",
    "1. **install Visual Studio Code or other IDE to write our script:** \n",
    "    \n",
    "https://code.visualstudio.com/download\n",
    "\n",
    "2. **create a new folder - \"streamlit_app\"**\n",
    "\n",
    "3. **create and activate virtual environment in terminal:**\n",
    "\n",
    "`python3 -m venv streamlit_ven`\n",
    "\n",
    "`source streamlit_venv/bin/activate`\n",
    "\n",
    "4. **install dependencies (streamlit, pandas, numpy...) in the activated virtual environment**\n",
    "\n",
    "`pip3 install streamlit`\n",
    "\n",
    "5. **follow streamlit tutorial:**\n",
    "\n",
    "first: https://docs.streamlit.io/library/get-started/main-concepts\n",
    "\n",
    "second: https://docs.streamlit.io/library/get-started/create-an-app\n",
    "\n",
    "### HOMEWORK - FINAL PROJECT\n",
    "\n",
    "6. **build your own streamlit app with the data/problem of your choice**\n",
    "\n",
    "inspiration projects gallery & source code: https://streamlit.io/gallery\n",
    "\n",
    "7. **publish your app with the help of streamlit cloud**\n",
    "\n",
    "https://docs.streamlit.io/streamlit-cloud\n",
    "\n"
   ]
  },
  {
   "cell_type": "code",
   "execution_count": null,
   "id": "1d30b854-6bd7-4e7b-ac42-4f46afaa199b",
   "metadata": {},
   "outputs": [],
   "source": []
  }
 ],
 "metadata": {
  "kernelspec": {
   "display_name": "Python 3 (ipykernel)",
   "language": "python",
   "name": "python3"
  },
  "language_info": {
   "codemirror_mode": {
    "name": "ipython",
    "version": 3
   },
   "file_extension": ".py",
   "mimetype": "text/x-python",
   "name": "python",
   "nbconvert_exporter": "python",
   "pygments_lexer": "ipython3",
   "version": "3.10.5"
  }
 },
 "nbformat": 4,
 "nbformat_minor": 5
}
