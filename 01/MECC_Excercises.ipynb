{
 "cells": [
  {
   "cell_type": "markdown",
   "id": "034c669a-1be4-4c3b-a8ec-5d0a4b0a4f80",
   "metadata": {
    "tags": []
   },
   "source": []
  },
  {
   "cell_type": "markdown",
   "id": "3d60a2d0-bb61-4b70-a7cc-8625005d4f50",
   "metadata": {},
   "source": [
    "## Exercises\n",
    "\n",
    "The local zoo is considering investing in a new pavilion dedicated to Pokemons. \n",
    "But the zoo's director, Mr. Felix, is not sure if this investment would pay off and what it would all mean for the zoo. Someone advised him to invite you to help (we are not to blame, we swear - authors of the course). The director has compiled a list of questions he would like to know the answer to.\n",
    "\n",
    "0. (reload data from `pokemon.csv` file)\n",
    "1. For how many new animals would the zoo need food? The director would like one male and one female of each species (name).\n",
    "2. The marketing department is going to create new leaflets about Pokemons for zoo visitors. All Pokemons would need information about their height, weight, length, color and type. Is all the information available?\n",
    "3. The zoo considers it ideal for Pokemon to be delivered gradually, in groups of eight, as listed in the `pokemon.csv` table. Which Pokemon would be in the first, second, and last group?\n",
    "4. The operation of the zoo also drew attention to the special conditions necessary for the 3 highest Pokemons. In the table `pokemon.csv` they are in positions 207, 320 and 796, but no one remembers which Pokemons it was. What are their names?\n",
    "5. The director loves Onix. He would like to build a special enclosure for him - for the Rock Pokemons at speeds above 50. Would Onix like it there?\n",
    "6. The Director would also like to create a section for all Pokemons starting with \"i\". But dark Pokemon cannot be with normal, fiery with water or grass, and electric with psychic. Will it be possible to create this section? (tip: to display all Pokemons on \"i\" you will need to have the index sorted alphabetically)"
   ]
  },
  {
   "cell_type": "code",
   "execution_count": null,
   "id": "3bd761f2-d929-463a-9461-320e975f034b",
   "metadata": {
    "tags": []
   },
   "outputs": [],
   "source": []
  },
  {
   "cell_type": "code",
   "execution_count": 2,
   "id": "ada1836e-8daa-4168-aebd-f14d06c586a9",
   "metadata": {
    "scrolled": true,
    "tags": []
   },
   "outputs": [],
   "source": [
    "import pandas as pd # We will access pandas using the alias pd"
   ]
  },
  {
   "cell_type": "code",
   "execution_count": 3,
   "id": "ddf141b8-5949-4dd3-91cd-e27bce070e20",
   "metadata": {
    "tags": []
   },
   "outputs": [],
   "source": [
    "pokemon_table = pd.read_csv(\"pokemon.csv\")"
   ]
  },
  {
   "cell_type": "code",
   "execution_count": 4,
   "id": "c73cb828-2a2c-4104-812c-eea5b93c22c7",
   "metadata": {},
   "outputs": [
    {
     "data": {
      "text/html": [
       "<div>\n",
       "<style scoped>\n",
       "    .dataframe tbody tr th:only-of-type {\n",
       "        vertical-align: middle;\n",
       "    }\n",
       "\n",
       "    .dataframe tbody tr th {\n",
       "        vertical-align: top;\n",
       "    }\n",
       "\n",
       "    .dataframe thead th {\n",
       "        text-align: right;\n",
       "    }\n",
       "</style>\n",
       "<table border=\"1\" class=\"dataframe\">\n",
       "  <thead>\n",
       "    <tr style=\"text-align: right;\">\n",
       "      <th></th>\n",
       "      <th>id</th>\n",
       "      <th>name</th>\n",
       "      <th>height</th>\n",
       "      <th>weight</th>\n",
       "      <th>color</th>\n",
       "      <th>shape</th>\n",
       "      <th>is baby</th>\n",
       "      <th>type 1</th>\n",
       "      <th>type 2</th>\n",
       "      <th>hp</th>\n",
       "      <th>attack</th>\n",
       "      <th>defense</th>\n",
       "      <th>speed</th>\n",
       "    </tr>\n",
       "  </thead>\n",
       "  <tbody>\n",
       "    <tr>\n",
       "      <th>0</th>\n",
       "      <td>1</td>\n",
       "      <td>bulbasaur</td>\n",
       "      <td>0.7</td>\n",
       "      <td>6.9</td>\n",
       "      <td>green</td>\n",
       "      <td>quadruped</td>\n",
       "      <td>False</td>\n",
       "      <td>Grass</td>\n",
       "      <td>Poison</td>\n",
       "      <td>45</td>\n",
       "      <td>49</td>\n",
       "      <td>49</td>\n",
       "      <td>45</td>\n",
       "    </tr>\n",
       "    <tr>\n",
       "      <th>1</th>\n",
       "      <td>2</td>\n",
       "      <td>ivysaur</td>\n",
       "      <td>1.0</td>\n",
       "      <td>13.0</td>\n",
       "      <td>green</td>\n",
       "      <td>quadruped</td>\n",
       "      <td>False</td>\n",
       "      <td>Grass</td>\n",
       "      <td>Poison</td>\n",
       "      <td>60</td>\n",
       "      <td>62</td>\n",
       "      <td>63</td>\n",
       "      <td>60</td>\n",
       "    </tr>\n",
       "    <tr>\n",
       "      <th>2</th>\n",
       "      <td>3</td>\n",
       "      <td>venusaur</td>\n",
       "      <td>2.0</td>\n",
       "      <td>100.0</td>\n",
       "      <td>green</td>\n",
       "      <td>quadruped</td>\n",
       "      <td>False</td>\n",
       "      <td>Grass</td>\n",
       "      <td>Poison</td>\n",
       "      <td>80</td>\n",
       "      <td>82</td>\n",
       "      <td>83</td>\n",
       "      <td>80</td>\n",
       "    </tr>\n",
       "    <tr>\n",
       "      <th>3</th>\n",
       "      <td>4</td>\n",
       "      <td>charmander</td>\n",
       "      <td>0.6</td>\n",
       "      <td>8.5</td>\n",
       "      <td>red</td>\n",
       "      <td>upright</td>\n",
       "      <td>False</td>\n",
       "      <td>Fire</td>\n",
       "      <td>NaN</td>\n",
       "      <td>39</td>\n",
       "      <td>52</td>\n",
       "      <td>43</td>\n",
       "      <td>65</td>\n",
       "    </tr>\n",
       "    <tr>\n",
       "      <th>4</th>\n",
       "      <td>5</td>\n",
       "      <td>charmeleon</td>\n",
       "      <td>1.1</td>\n",
       "      <td>19.0</td>\n",
       "      <td>red</td>\n",
       "      <td>upright</td>\n",
       "      <td>False</td>\n",
       "      <td>Fire</td>\n",
       "      <td>NaN</td>\n",
       "      <td>58</td>\n",
       "      <td>64</td>\n",
       "      <td>58</td>\n",
       "      <td>80</td>\n",
       "    </tr>\n",
       "  </tbody>\n",
       "</table>\n",
       "</div>"
      ],
      "text/plain": [
       "   id        name  height  weight  color      shape  is baby type 1  type 2  \\\n",
       "0   1   bulbasaur     0.7     6.9  green  quadruped    False  Grass  Poison   \n",
       "1   2     ivysaur     1.0    13.0  green  quadruped    False  Grass  Poison   \n",
       "2   3    venusaur     2.0   100.0  green  quadruped    False  Grass  Poison   \n",
       "3   4  charmander     0.6     8.5    red    upright    False   Fire     NaN   \n",
       "4   5  charmeleon     1.1    19.0    red    upright    False   Fire     NaN   \n",
       "\n",
       "   hp  attack  defense  speed  \n",
       "0  45      49       49     45  \n",
       "1  60      62       63     60  \n",
       "2  80      82       83     80  \n",
       "3  39      52       43     65  \n",
       "4  58      64       58     80  "
      ]
     },
     "execution_count": 4,
     "metadata": {},
     "output_type": "execute_result"
    }
   ],
   "source": [
    "pokemon_table.head()"
   ]
  },
  {
   "cell_type": "code",
   "execution_count": 39,
   "id": "78496135-5de2-4c19-9dd2-f53ad277fcfb",
   "metadata": {},
   "outputs": [
    {
     "data": {
      "text/plain": [
       "name\n",
       "abomasnow    2.2\n",
       "abra         0.9\n",
       "absol        1.2\n",
       "accelgor     0.8\n",
       "aegislash    1.7\n",
       "            ... \n",
       "zoroark      1.6\n",
       "zorua        0.7\n",
       "zubat        0.8\n",
       "zweilous     1.4\n",
       "zygarde      5.0\n",
       "Name: height, Length: 807, dtype: float64"
      ]
     },
     "execution_count": 39,
     "metadata": {},
     "output_type": "execute_result"
    }
   ],
   "source": [
    "pokemons."
   ]
  },
  {
   "cell_type": "code",
   "execution_count": null,
   "id": "52f05693-e2b1-46af-b84b-c18a75832fcf",
   "metadata": {},
   "outputs": [],
   "source": []
  },
  {
   "cell_type": "code",
   "execution_count": null,
   "id": "151c3402-6746-462d-b265-6d08f5c5b74c",
   "metadata": {},
   "outputs": [],
   "source": []
  },
  {
   "cell_type": "code",
   "execution_count": null,
   "id": "3183d217-9b18-4465-8d30-e7d8b0357549",
   "metadata": {},
   "outputs": [],
   "source": []
  },
  {
   "cell_type": "code",
   "execution_count": null,
   "id": "e6ba6647-2036-4cb4-ade3-b5e7cdfebdbf",
   "metadata": {},
   "outputs": [],
   "source": []
  },
  {
   "cell_type": "code",
   "execution_count": null,
   "id": "d3875228-2cff-4c8b-8665-dd66f0b3e577",
   "metadata": {},
   "outputs": [],
   "source": []
  }
 ],
 "metadata": {
  "kernelspec": {
   "display_name": "Python 3 (ipykernel)",
   "language": "python",
   "name": "python3"
  },
  "language_info": {
   "codemirror_mode": {
    "name": "ipython",
    "version": 3
   },
   "file_extension": ".py",
   "mimetype": "text/x-python",
   "name": "python",
   "nbconvert_exporter": "python",
   "pygments_lexer": "ipython3",
   "version": "3.7.12"
  }
 },
 "nbformat": 4,
 "nbformat_minor": 5
}
