{
 "cells": [
  {
   "cell_type": "markdown",
   "metadata": {},
   "source": [
    "# Pandas library and basic table data manipulation"
   ]
  },
  {
   "cell_type": "markdown",
   "metadata": {},
   "source": [
    "Before any complex analysis, it is necessary to learn the basics of working with processed data. Data can be of various natures - one-dimensional, two-dimensional, structured, unstructured, visual, audio ... In the lessons of exploratory data analysis, we will work mostly with **tabular** data - such as those you certainly know from your favorite (or unpopular) tabular processor (\"spreadsheet\"). Usually every **row** of such a table corresponds to some thing, an example of something, or some observation. In the individual **columns** there are individual properties, measured quantities or characteristic for these things.\n",
    "In the Python world, the **pandas** library is most commonly used to process tabular data. It allows you to read data from many formats (including XLS(x) workbooks), edit them in various ways, calculate columns very efficiently, directly examine some statistical indicators and last but not least, nicely visualize the results. This lesson will introduce you to the basic concepts and teach you how to access individual columns, rows and cells.\n",
    "You can find more about the pandas library on its homepage: https://pandas.pydata.org/"
   ]
  },
  {
   "cell_type": "markdown",
   "metadata": {},
   "source": [
    "## Import the `pandas` library"
   ]
  },
  {
   "cell_type": "code",
   "execution_count": 1,
   "metadata": {
    "scrolled": true
   },
   "outputs": [],
   "source": [
    "import pandas as pd # We will access pandas using the alias pd"
   ]
  },
  {
   "cell_type": "markdown",
   "metadata": {},
   "source": [
    "💡 Although this command imports the `pandas` module (or library), it will not be available under its usual name, but under the **alias** `pd`. Conversely, the name `pandas` will no longer be defined. In normal programming, we try to avoid aliases because they reduce the readability of the code for other programmers. It's different with data analytics, because using one alias, which is also very common, saves us a lot of typing. And programmers are lazy."
   ]
  },
  {
   "cell_type": "code",
   "execution_count": 2,
   "metadata": {},
   "outputs": [],
   "source": [
    "# pandas -> Raises NameError"
   ]
  },
  {
   "cell_type": "markdown",
   "metadata": {},
   "source": [
    "## Load the data table"
   ]
  },
  {
   "cell_type": "markdown",
   "metadata": {},
   "source": [
    "We will jump straight into the `pandas` and show a typical example of data that we will process with this library.\n",
    "To read data, Pandas has a number of `read_ *` functions that allows you to handle many different formats. The CSV (\"comma-separated values\" - [wiki](https://en.wikipedia.org/wiki/CSV)) is relatively common, in which each record corresponds to one line, the individual properties of the record are then separated by commas (or another character).\n",
    "To work with this notebook, first download the data file from `pokemon.csv` from repository into your working folder. Experimental data are generated from [Comprehensive Pokedex at Github](https://github.com/veekun/pokedex)."
   ]
  },
  {
   "cell_type": "code",
   "execution_count": 3,
   "metadata": {},
   "outputs": [],
   "source": [
    "pokemon_table = pd.read_csv(\"pokemon.csv\")"
   ]
  },
  {
   "cell_type": "markdown",
   "metadata": {},
   "source": [
    "The data (whatever it is) is now read into memory, referenced by the `pokemon_table` variable. Let&#39;s see what is hidden in them."
   ]
  },
  {
   "cell_type": "code",
   "execution_count": 4,
   "metadata": {},
   "outputs": [
    {
     "data": {
      "text/html": [
       "<div>\n",
       "<style scoped>\n",
       "    .dataframe tbody tr th:only-of-type {\n",
       "        vertical-align: middle;\n",
       "    }\n",
       "\n",
       "    .dataframe tbody tr th {\n",
       "        vertical-align: top;\n",
       "    }\n",
       "\n",
       "    .dataframe thead th {\n",
       "        text-align: right;\n",
       "    }\n",
       "</style>\n",
       "<table border=\"1\" class=\"dataframe\">\n",
       "  <thead>\n",
       "    <tr style=\"text-align: right;\">\n",
       "      <th></th>\n",
       "      <th>id</th>\n",
       "      <th>name</th>\n",
       "      <th>height</th>\n",
       "      <th>weight</th>\n",
       "      <th>color</th>\n",
       "      <th>shape</th>\n",
       "      <th>is baby</th>\n",
       "      <th>type 1</th>\n",
       "      <th>type 2</th>\n",
       "      <th>hp</th>\n",
       "      <th>attack</th>\n",
       "      <th>defense</th>\n",
       "      <th>speed</th>\n",
       "    </tr>\n",
       "  </thead>\n",
       "  <tbody>\n",
       "    <tr>\n",
       "      <th>0</th>\n",
       "      <td>1</td>\n",
       "      <td>bulbasaur</td>\n",
       "      <td>0.7</td>\n",
       "      <td>6.9</td>\n",
       "      <td>green</td>\n",
       "      <td>quadruped</td>\n",
       "      <td>False</td>\n",
       "      <td>Grass</td>\n",
       "      <td>Poison</td>\n",
       "      <td>45</td>\n",
       "      <td>49</td>\n",
       "      <td>49</td>\n",
       "      <td>45</td>\n",
       "    </tr>\n",
       "    <tr>\n",
       "      <th>1</th>\n",
       "      <td>2</td>\n",
       "      <td>ivysaur</td>\n",
       "      <td>1.0</td>\n",
       "      <td>13.0</td>\n",
       "      <td>green</td>\n",
       "      <td>quadruped</td>\n",
       "      <td>False</td>\n",
       "      <td>Grass</td>\n",
       "      <td>Poison</td>\n",
       "      <td>60</td>\n",
       "      <td>62</td>\n",
       "      <td>63</td>\n",
       "      <td>60</td>\n",
       "    </tr>\n",
       "    <tr>\n",
       "      <th>2</th>\n",
       "      <td>3</td>\n",
       "      <td>venusaur</td>\n",
       "      <td>2.0</td>\n",
       "      <td>100.0</td>\n",
       "      <td>green</td>\n",
       "      <td>quadruped</td>\n",
       "      <td>False</td>\n",
       "      <td>Grass</td>\n",
       "      <td>Poison</td>\n",
       "      <td>80</td>\n",
       "      <td>82</td>\n",
       "      <td>83</td>\n",
       "      <td>80</td>\n",
       "    </tr>\n",
       "    <tr>\n",
       "      <th>3</th>\n",
       "      <td>4</td>\n",
       "      <td>charmander</td>\n",
       "      <td>0.6</td>\n",
       "      <td>8.5</td>\n",
       "      <td>red</td>\n",
       "      <td>upright</td>\n",
       "      <td>False</td>\n",
       "      <td>Fire</td>\n",
       "      <td>NaN</td>\n",
       "      <td>39</td>\n",
       "      <td>52</td>\n",
       "      <td>43</td>\n",
       "      <td>65</td>\n",
       "    </tr>\n",
       "    <tr>\n",
       "      <th>4</th>\n",
       "      <td>5</td>\n",
       "      <td>charmeleon</td>\n",
       "      <td>1.1</td>\n",
       "      <td>19.0</td>\n",
       "      <td>red</td>\n",
       "      <td>upright</td>\n",
       "      <td>False</td>\n",
       "      <td>Fire</td>\n",
       "      <td>NaN</td>\n",
       "      <td>58</td>\n",
       "      <td>64</td>\n",
       "      <td>58</td>\n",
       "      <td>80</td>\n",
       "    </tr>\n",
       "    <tr>\n",
       "      <th>...</th>\n",
       "      <td>...</td>\n",
       "      <td>...</td>\n",
       "      <td>...</td>\n",
       "      <td>...</td>\n",
       "      <td>...</td>\n",
       "      <td>...</td>\n",
       "      <td>...</td>\n",
       "      <td>...</td>\n",
       "      <td>...</td>\n",
       "      <td>...</td>\n",
       "      <td>...</td>\n",
       "      <td>...</td>\n",
       "      <td>...</td>\n",
       "    </tr>\n",
       "    <tr>\n",
       "      <th>802</th>\n",
       "      <td>803</td>\n",
       "      <td>poipole</td>\n",
       "      <td>0.6</td>\n",
       "      <td>1.8</td>\n",
       "      <td>purple</td>\n",
       "      <td>upright</td>\n",
       "      <td>False</td>\n",
       "      <td>Poison</td>\n",
       "      <td>NaN</td>\n",
       "      <td>67</td>\n",
       "      <td>73</td>\n",
       "      <td>67</td>\n",
       "      <td>73</td>\n",
       "    </tr>\n",
       "    <tr>\n",
       "      <th>803</th>\n",
       "      <td>804</td>\n",
       "      <td>naganadel</td>\n",
       "      <td>3.6</td>\n",
       "      <td>150.0</td>\n",
       "      <td>purple</td>\n",
       "      <td>wings</td>\n",
       "      <td>False</td>\n",
       "      <td>Poison</td>\n",
       "      <td>Dragon</td>\n",
       "      <td>73</td>\n",
       "      <td>73</td>\n",
       "      <td>73</td>\n",
       "      <td>121</td>\n",
       "    </tr>\n",
       "    <tr>\n",
       "      <th>804</th>\n",
       "      <td>805</td>\n",
       "      <td>stakataka</td>\n",
       "      <td>5.5</td>\n",
       "      <td>820.0</td>\n",
       "      <td>gray</td>\n",
       "      <td>quadruped</td>\n",
       "      <td>False</td>\n",
       "      <td>Rock</td>\n",
       "      <td>Steel</td>\n",
       "      <td>61</td>\n",
       "      <td>131</td>\n",
       "      <td>211</td>\n",
       "      <td>13</td>\n",
       "    </tr>\n",
       "    <tr>\n",
       "      <th>805</th>\n",
       "      <td>806</td>\n",
       "      <td>blacephalon</td>\n",
       "      <td>1.8</td>\n",
       "      <td>13.0</td>\n",
       "      <td>white</td>\n",
       "      <td>humanoid</td>\n",
       "      <td>False</td>\n",
       "      <td>Fire</td>\n",
       "      <td>Ghost</td>\n",
       "      <td>53</td>\n",
       "      <td>127</td>\n",
       "      <td>53</td>\n",
       "      <td>107</td>\n",
       "    </tr>\n",
       "    <tr>\n",
       "      <th>806</th>\n",
       "      <td>807</td>\n",
       "      <td>zeraora</td>\n",
       "      <td>1.5</td>\n",
       "      <td>44.5</td>\n",
       "      <td>yellow</td>\n",
       "      <td>humanoid</td>\n",
       "      <td>False</td>\n",
       "      <td>Electric</td>\n",
       "      <td>NaN</td>\n",
       "      <td>88</td>\n",
       "      <td>112</td>\n",
       "      <td>75</td>\n",
       "      <td>143</td>\n",
       "    </tr>\n",
       "  </tbody>\n",
       "</table>\n",
       "<p>807 rows × 13 columns</p>\n",
       "</div>"
      ],
      "text/plain": [
       "      id         name  height  weight   color      shape  is baby    type 1  \\\n",
       "0      1    bulbasaur     0.7     6.9   green  quadruped    False     Grass   \n",
       "1      2      ivysaur     1.0    13.0   green  quadruped    False     Grass   \n",
       "2      3     venusaur     2.0   100.0   green  quadruped    False     Grass   \n",
       "3      4   charmander     0.6     8.5     red    upright    False      Fire   \n",
       "4      5   charmeleon     1.1    19.0     red    upright    False      Fire   \n",
       "..   ...          ...     ...     ...     ...        ...      ...       ...   \n",
       "802  803      poipole     0.6     1.8  purple    upright    False    Poison   \n",
       "803  804    naganadel     3.6   150.0  purple      wings    False    Poison   \n",
       "804  805    stakataka     5.5   820.0    gray  quadruped    False      Rock   \n",
       "805  806  blacephalon     1.8    13.0   white   humanoid    False      Fire   \n",
       "806  807      zeraora     1.5    44.5  yellow   humanoid    False  Electric   \n",
       "\n",
       "     type 2  hp  attack  defense  speed  \n",
       "0    Poison  45      49       49     45  \n",
       "1    Poison  60      62       63     60  \n",
       "2    Poison  80      82       83     80  \n",
       "3       NaN  39      52       43     65  \n",
       "4       NaN  58      64       58     80  \n",
       "..      ...  ..     ...      ...    ...  \n",
       "802     NaN  67      73       67     73  \n",
       "803  Dragon  73      73       73    121  \n",
       "804   Steel  61     131      211     13  \n",
       "805   Ghost  53     127       53    107  \n",
       "806     NaN  88     112       75    143  \n",
       "\n",
       "[807 rows x 13 columns]"
      ]
     },
     "execution_count": 4,
     "metadata": {},
     "output_type": "execute_result"
    }
   ],
   "source": [
    "pokemon_table"
   ]
  },
  {
   "cell_type": "markdown",
   "metadata": {},
   "source": [
    "If everything worked as it should, you should have a relatively nicely formatted table in front of you. The basic display in the notebook will show you the first five and last five rows (who would risk thousands of rows flooding the browser window?) of the table, along with information about the total number of rows and columns. In this case, the table contains a total of 13 properties (named `columns`) for 807 different Pokemons (numbered `rows`).\n",
    "⚠️ **Warning:** In this simple case, the table was loaded correctly on the first try, without any specific parameters, all columns seem to contain usable values. This is (especially in the CSV format) actually quite some luck. There are usually problems with the input data - for example, they do not have named columns (or they have them described strangely), they use special record delimiters or decimal comma/dot confusion, many rows have missing values (or are misspelled), ... \n",
    "\n",
    "**Data cleaning** is somethign we will dedicate some time to in the future.            \n",
    "What exactly is the object stored in the `pokemon_table` variable? What is the class like?"
   ]
  },
  {
   "cell_type": "markdown",
   "metadata": {},
   "source": [
    "## Base classes in `pandas` - DataFrame, Series, Index"
   ]
  },
  {
   "cell_type": "code",
   "execution_count": 5,
   "metadata": {},
   "outputs": [
    {
     "data": {
      "text/plain": [
       "pandas.core.frame.DataFrame"
      ]
     },
     "execution_count": 5,
     "metadata": {},
     "output_type": "execute_result"
    }
   ],
   "source": [
    "type(pokemon_table)"
   ]
  },
  {
   "cell_type": "markdown",
   "metadata": {},
   "source": [
    "The answer is `DataFrame`. This term (also used in other popular statistical languages, such as [R](https://www.r-project.org/)) can be in common speech replaced by word table, so it can happen to us from time to time as well. Now let's try to subset our first DataFrame.              \n",
    "⚠️ **Warning:** You will soon notice that the `DataFrame` has very similar functions to a spreadsheet workbook, but you need to know where this parallel ends. Unlike Excel or LibreOffice Calc workbooks, the DataFrame contains \"only\" dry data, does not store any formatting, and does not offer an \"editor\". A nice visual representation is just a matter of interacting `pandas` with a Jupyter notebook, or you can write your own code for it."
   ]
  },
  {
   "cell_type": "code",
   "execution_count": 6,
   "metadata": {},
   "outputs": [
    {
     "data": {
      "text/plain": [
       "0      0.7\n",
       "1      1.0\n",
       "2      2.0\n",
       "3      0.6\n",
       "4      1.1\n",
       "      ... \n",
       "802    0.6\n",
       "803    3.6\n",
       "804    5.5\n",
       "805    1.8\n",
       "806    1.5\n",
       "Name: height, Length: 807, dtype: float64"
      ]
     },
     "execution_count": 6,
     "metadata": {},
     "output_type": "execute_result"
    }
   ],
   "source": [
    "heights = pokemon_table [\"height\"]\n",
    "heights"
   ]
  },
  {
   "cell_type": "markdown",
   "metadata": {},
   "source": [
    "💡 The DataFrame behaves similarly to a dictionary (`dict`), among other things - when you put a key in square brackets, you get a column named this way. In fact, square brackets allow you to select from tables based on various other criteria, but we'll get to that.\n",
    "Our autopsy goes on to find out what the `heights` variable is."
   ]
  },
  {
   "cell_type": "code",
   "execution_count": 7,
   "metadata": {},
   "outputs": [
    {
     "data": {
      "text/plain": [
       "pandas.core.series.Series"
      ]
     },
     "execution_count": 7,
     "metadata": {},
     "output_type": "execute_result"
    }
   ],
   "source": [
    "type(heights)"
   ]
  },
  {
   "cell_type": "markdown",
   "metadata": {},
   "source": [
    "### Series"
   ]
  },
  {
   "cell_type": "markdown",
   "metadata": {},
   "source": [
    "The columns are of the `Series` type. This type looks like a list (`list`). We will check if it behaves this way:"
   ]
  },
  {
   "cell_type": "code",
   "execution_count": 8,
   "metadata": {},
   "outputs": [
    {
     "data": {
      "text/plain": [
       "0.7"
      ]
     },
     "execution_count": 8,
     "metadata": {},
     "output_type": "execute_result"
    }
   ],
   "source": [
    "heights[0] # First height? ✓"
   ]
  },
  {
   "cell_type": "code",
   "execution_count": 9,
   "metadata": {},
   "outputs": [
    {
     "data": {
      "text/plain": [
       "802    0.6\n",
       "803    3.6\n",
       "804    5.5\n",
       "805    1.8\n",
       "806    1.5\n",
       "Name: height, dtype: float64"
      ]
     },
     "execution_count": 9,
     "metadata": {},
     "output_type": "execute_result"
    }
   ],
   "source": [
    "heights[-5:] # Last five heights? ✓"
   ]
  },
  {
   "cell_type": "markdown",
   "metadata": {},
   "source": [
    "**Task**: Try to apply some other list operations that you already know to `heights`. Sometimes it works, sometimes it doesn't."
   ]
  },
  {
   "cell_type": "code",
   "execution_count": 12,
   "metadata": {},
   "outputs": [
    {
     "data": {
      "text/plain": [
       "807"
      ]
     },
     "execution_count": 12,
     "metadata": {},
     "output_type": "execute_result"
    }
   ],
   "source": [
    "heights.count()"
   ]
  },
  {
   "cell_type": "code",
   "execution_count": 13,
   "metadata": {},
   "outputs": [
    {
     "data": {
      "text/plain": [
       "0.1"
      ]
     },
     "execution_count": 13,
     "metadata": {},
     "output_type": "execute_result"
    }
   ],
   "source": [
    "heights.min()"
   ]
  },
  {
   "cell_type": "code",
   "execution_count": 14,
   "metadata": {},
   "outputs": [
    {
     "data": {
      "text/plain": [
       "14.5"
      ]
     },
     "execution_count": 14,
     "metadata": {},
     "output_type": "execute_result"
    }
   ],
   "source": [
    "heights.max()"
   ]
  },
  {
   "cell_type": "code",
   "execution_count": 18,
   "metadata": {},
   "outputs": [
    {
     "data": {
      "text/plain": [
       "array([ 0.7,  1. ,  2. ,  0.6,  1.1,  1.7,  0.5,  1.6,  0.3,  1.5,  1.2,\n",
       "        3.5,  0.4,  0.8,  1.3,  0.9,  1.4,  0.2,  1.9,  1.8,  8.8,  2.2,\n",
       "        6.5,  2.5,  2.1,  4. ,  2.3,  9.2,  5.2,  3.8, 14.5,  2.7,  6.2,\n",
       "        4.5,  7. ,  2.4,  5.4,  4.2,  3.7,  3.2,  3.3,  0.1,  2.6,  2.8,\n",
       "        2.9,  3. ,  5.8,  5. ,  3.9,  3.4,  5.5,  3.6])"
      ]
     },
     "execution_count": 18,
     "metadata": {},
     "output_type": "execute_result"
    }
   ],
   "source": [
    "heights.unique()"
   ]
  },
  {
   "cell_type": "markdown",
   "metadata": {},
   "source": [
    "There is also no problem between converting lists and `Series`. The easiest way you can create your own Series (notice that this is outside the table context) is to create an instance of this class with some `list` as an argument:"
   ]
  },
  {
   "cell_type": "code",
   "execution_count": 19,
   "metadata": {},
   "outputs": [
    {
     "data": {
      "text/plain": [
       "0    1\n",
       "1    2\n",
       "2    3\n",
       "dtype: int64"
      ]
     },
     "execution_count": 19,
     "metadata": {},
     "output_type": "execute_result"
    }
   ],
   "source": [
    "numbers = pd.Series([1, 2, 3])\n",
    "numbers"
   ]
  },
  {
   "cell_type": "code",
   "execution_count": 22,
   "metadata": {},
   "outputs": [
    {
     "data": {
      "text/plain": [
       "pandas.core.series.Series"
      ]
     },
     "execution_count": 22,
     "metadata": {},
     "output_type": "execute_result"
    }
   ],
   "source": [
    "type(numbers)"
   ]
  },
  {
   "cell_type": "markdown",
   "metadata": {},
   "source": [
    "And vice versa:"
   ]
  },
  {
   "cell_type": "code",
   "execution_count": 26,
   "metadata": {},
   "outputs": [
    {
     "data": {
      "text/plain": [
       "list"
      ]
     },
     "execution_count": 26,
     "metadata": {},
     "output_type": "execute_result"
    }
   ],
   "source": [
    "type(numbers.tolist()) # Variant 1 (preferred, faster) \n",
    "#list(numbers) # Option 2"
   ]
  },
  {
   "cell_type": "markdown",
   "metadata": {},
   "source": [
    "So how does the `Series` differ from the `list`, and what is its advantage?\n",
    "\n",
    "\n",
    "In particular, each column has the following five basic properties:"
   ]
  },
  {
   "cell_type": "markdown",
   "metadata": {},
   "source": [
    "<img src=\"static/series.svg\" style=\"max-height: 20em;\">"
   ]
  },
  {
   "cell_type": "markdown",
   "metadata": {},
   "source": [
    "#### 1) values"
   ]
  },
  {
   "cell_type": "code",
   "execution_count": 27,
   "metadata": {},
   "outputs": [
    {
     "data": {
      "text/plain": [
       "array([0.7, 1. , 2. , 0.6, 1.1, 1.7, 0.5, 1. , 1.6, 0.3, 0.7, 1.1, 0.3,\n",
       "       0.6, 1. , 0.3, 1.1, 1.5, 0.3, 0.7, 0.3, 1.2, 2. , 3.5, 0.4, 0.8,\n",
       "       0.6, 1. , 0.4, 0.8, 1.3, 0.5, 0.9, 1.4, 0.6, 1.3, 0.6, 1.1, 0.5,\n",
       "       1. , 0.8, 1.6, 0.5, 0.8, 1.2, 0.3, 1. , 1. , 1.5, 0.2])"
      ]
     },
     "execution_count": 27,
     "metadata": {},
     "output_type": "execute_result"
    }
   ],
   "source": [
    "heights[:50].values # For aesthetic reasons, we will shorten the column a bit"
   ]
  },
  {
   "cell_type": "code",
   "execution_count": 29,
   "metadata": {},
   "outputs": [
    {
     "data": {
      "text/plain": [
       "numpy.ndarray"
      ]
     },
     "execution_count": 29,
     "metadata": {},
     "output_type": "execute_result"
    }
   ],
   "source": [
    "type(heights.values)"
   ]
  },
  {
   "cell_type": "markdown",
   "metadata": {},
   "source": [
    "💡 The values in `Series` are stored in a special format based on the `ndarray` type from the `numpy` library.\n",
    "We will not pay attention to this now, but especially in the case of numerical values it saves memory space and speeds up mathematical operations\n",
    "(for example, adding up all values in a Series is significantly faster than in a list)."
   ]
  },
  {
   "cell_type": "markdown",
   "metadata": {},
   "source": [
    "#### 2) type of values"
   ]
  },
  {
   "cell_type": "code",
   "execution_count": 30,
   "metadata": {},
   "outputs": [
    {
     "data": {
      "text/plain": [
       "dtype('float64')"
      ]
     },
     "execution_count": 30,
     "metadata": {},
     "output_type": "execute_result"
    }
   ],
   "source": [
    "heights.dtype"
   ]
  },
  {
   "cell_type": "markdown",
   "metadata": {},
   "source": [
    "💡 Unlike lists, all `Series` elements should be of the same type (if they are not, the next common supertype is selected). `pandas` has its own set of types, called **dtypes**, which partially copies the default data types in Python, but (especially for numeric types) is closer to how the processor works with them. And don't look for inheritance (good news?). We'll introduce the most common types next time - along with the operations that can be done with columns."
   ]
  },
  {
   "cell_type": "markdown",
   "metadata": {},
   "source": [
    "#### 3) index"
   ]
  },
  {
   "cell_type": "code",
   "execution_count": 31,
   "metadata": {},
   "outputs": [
    {
     "data": {
      "text/plain": [
       "RangeIndex(start=0, stop=807, step=1)"
      ]
     },
     "execution_count": 31,
     "metadata": {},
     "output_type": "execute_result"
    }
   ],
   "source": [
    "heights.index"
   ]
  },
  {
   "cell_type": "markdown",
   "metadata": {},
   "source": [
    "💡 You access the elements of the list in numerical order (0 - first element, 1 - second, ...).\n",
    "\n",
    "From the dictionary you select according to the key.\n",
    "\n",
    "Pandas introduces a generalized **index**, which can be numeric, string, but even built on date/time. We will talk later about different indices."
   ]
  },
  {
   "cell_type": "markdown",
   "metadata": {},
   "source": [
    "#### 4) name"
   ]
  },
  {
   "cell_type": "code",
   "execution_count": 32,
   "metadata": {},
   "outputs": [
    {
     "data": {
      "text/plain": [
       "'height'"
      ]
     },
     "execution_count": 32,
     "metadata": {},
     "output_type": "execute_result"
    }
   ],
   "source": [
    "heights.name"
   ]
  },
  {
   "cell_type": "markdown",
   "metadata": {},
   "source": [
    "💡 `Series` may or may not have a name. Note that this is a value stored inside the object itself, it has nothing to do with the name of the variable in which you store it (but it will be used to access it for the column in the table)."
   ]
  },
  {
   "cell_type": "markdown",
   "metadata": {},
   "source": [
    "#### 5) size"
   ]
  },
  {
   "cell_type": "code",
   "execution_count": 33,
   "metadata": {},
   "outputs": [
    {
     "data": {
      "text/plain": [
       "807"
      ]
     },
     "execution_count": 33,
     "metadata": {},
     "output_type": "execute_result"
    }
   ],
   "source": [
    "heights.size"
   ]
  },
  {
   "cell_type": "markdown",
   "metadata": {},
   "source": [
    "💡 This property tells you how many elements there are in the `Series`. It is not magical, it behaves like `len` next to the list (and after all,`len` can also be used on `Series`). For completeness, we state that, unlike other properties, this one is read-only."
   ]
  },
  {
   "cell_type": "markdown",
   "metadata": {},
   "source": [
    "**Task:** Find the values of the `name`, `index`, `dtype`, `values` and `size` attributes for the `numbers` object. Do you notice anything interesting?\n",
    "\n",
    "Alternatively, look at the same for some of the other columns in `pokemon_table`."
   ]
  },
  {
   "cell_type": "code",
   "execution_count": 36,
   "metadata": {},
   "outputs": [
    {
     "data": {
      "text/plain": [
       "pandas.core.series.Series"
      ]
     },
     "execution_count": 36,
     "metadata": {},
     "output_type": "execute_result"
    }
   ],
   "source": [
    "type(numbers)"
   ]
  },
  {
   "cell_type": "code",
   "execution_count": 38,
   "metadata": {},
   "outputs": [
    {
     "ename": "NameError",
     "evalue": "name 'name' is not defined",
     "output_type": "error",
     "traceback": [
      "\u001b[0;31m---------------------------------------------------------------------------\u001b[0m",
      "\u001b[0;31mNameError\u001b[0m                                 Traceback (most recent call last)",
      "\u001b[0;32m/tmp/ipykernel_97326/2976502726.py\u001b[0m in \u001b[0;36m<module>\u001b[0;34m\u001b[0m\n\u001b[0;32m----> 1\u001b[0;31m \u001b[0mname\u001b[0m\u001b[0;34m(\u001b[0m\u001b[0mnumbers\u001b[0m\u001b[0;34m)\u001b[0m\u001b[0;34m\u001b[0m\u001b[0;34m\u001b[0m\u001b[0m\n\u001b[0m",
      "\u001b[0;31mNameError\u001b[0m: name 'name' is not defined"
     ]
    }
   ],
   "source": [
    "name(numbers)"
   ]
  },
  {
   "cell_type": "code",
   "execution_count": null,
   "metadata": {},
   "outputs": [],
   "source": []
  },
  {
   "cell_type": "markdown",
   "metadata": {},
   "source": [
    "When creating `Series` objects, these attributes (except`size` and to a limited extent `dtype`) can be explicitly specified:"
   ]
  },
  {
   "cell_type": "code",
   "execution_count": 47,
   "metadata": {},
   "outputs": [
    {
     "data": {
      "text/plain": [
       "Karla      27.0\n",
       "Martina    65.0\n",
       "Tyna       14.0\n",
       "Name: Age, dtype: float64"
      ]
     },
     "execution_count": 47,
     "metadata": {},
     "output_type": "execute_result"
    }
   ],
   "source": [
    "age = pd.Series(\n",
    "    [27, 65, 14],\n",
    "    name = \"Age\",\n",
    "    index = [\"Karla\", \"Martina\", \"Tyna\"],\n",
    "    dtype=float,\n",
    ")\n",
    "age"
   ]
  },
  {
   "cell_type": "markdown",
   "metadata": {},
   "source": [
    "**Task:** Create a Series object that will contain a list of colors, animals, numbers, or some other category of things you like."
   ]
  },
  {
   "cell_type": "code",
   "execution_count": 48,
   "metadata": {},
   "outputs": [
    {
     "data": {
      "text/plain": [
       "Ligth coral    #F08080\n",
       "Red            #FF0000\n",
       "Green          #00FF00\n",
       "Blue           #0000FF\n",
       "Name: color, dtype: object"
      ]
     },
     "execution_count": 48,
     "metadata": {},
     "output_type": "execute_result"
    }
   ],
   "source": [
    "colors = pd.Series(\n",
    "    [\"#F08080\", \"#FF0000\", \"#00FF00\", \"#0000FF\"],\n",
    "    name = \"color\",\n",
    "    index = [\"Ligth coral\", \"Red\", \"Green\", \"Blue\"],\n",
    "    dtype= str,\n",
    ")\n",
    "colors"
   ]
  },
  {
   "cell_type": "markdown",
   "metadata": {},
   "source": [
    "## Index"
   ]
  },
  {
   "cell_type": "markdown",
   "metadata": {},
   "source": [
    "By default, columns and tables use an unnamed numeric index, which sorts the elements one after the other from zero upwards:"
   ]
  },
  {
   "cell_type": "code",
   "execution_count": 49,
   "metadata": {},
   "outputs": [
    {
     "data": {
      "text/plain": [
       "RangeIndex(start=0, stop=807, step=1)"
      ]
     },
     "execution_count": 49,
     "metadata": {},
     "output_type": "execute_result"
    }
   ],
   "source": [
    "heights.index"
   ]
  },
  {
   "cell_type": "markdown",
   "metadata": {},
   "source": [
    "However, there are other types of indices:"
   ]
  },
  {
   "cell_type": "code",
   "execution_count": 50,
   "metadata": {},
   "outputs": [
    {
     "data": {
      "text/plain": [
       "Index(['Karla', 'Martina', 'Tyna'], dtype='object')"
      ]
     },
     "execution_count": 50,
     "metadata": {},
     "output_type": "execute_result"
    }
   ],
   "source": [
    "age.index"
   ]
  },
  {
   "cell_type": "code",
   "execution_count": 51,
   "metadata": {},
   "outputs": [
    {
     "data": {
      "text/plain": [
       "Index(['Ligth coral', 'Red', 'Green', 'Blue'], dtype='object')"
      ]
     },
     "execution_count": 51,
     "metadata": {},
     "output_type": "execute_result"
    }
   ],
   "source": [
    "colors.index"
   ]
  },
  {
   "cell_type": "code",
   "execution_count": 52,
   "metadata": {},
   "outputs": [
    {
     "data": {
      "text/plain": [
       "1918    Independence of Czechoslovakia\n",
       "1945               End of World War II\n",
       "1989                 Velvet Revolution\n",
       "Name: year, dtype: object"
      ]
     },
     "execution_count": 52,
     "metadata": {},
     "output_type": "execute_result"
    }
   ],
   "source": [
    "events = pd.Series([\"Independence of Czechoslovakia\", \"End of World War II\", \"Velvet Revolution\"],\n",
    "                   index = pd.Index([1918, 1945, 1989]), name = \"year\") # Index can also have a name)\n",
    "events"
   ]
  },
  {
   "cell_type": "code",
   "execution_count": 54,
   "metadata": {},
   "outputs": [
    {
     "data": {
      "text/plain": [
       "Int64Index([1918, 1945, 1989], dtype='int64')"
      ]
     },
     "execution_count": 54,
     "metadata": {},
     "output_type": "execute_result"
    }
   ],
   "source": [
    "events.index #This is not ideal, since its not sequential, so i wont work as index"
   ]
  },
  {
   "cell_type": "markdown",
   "metadata": {},
   "source": [
    "This index is numerical, but the values are not (or are, but could not be) sorted and are \"leaky\"."
   ]
  },
  {
   "cell_type": "code",
   "execution_count": 55,
   "metadata": {},
   "outputs": [
    {
     "data": {
      "text/plain": [
       "DatetimeIndex(['1918-10-28', '1945-05-08', '1989-11-17'], dtype='datetime64[ns]', freq=None)"
      ]
     },
     "execution_count": 55,
     "metadata": {},
     "output_type": "execute_result"
    }
   ],
   "source": [
    "events_precise = pd.Series(\n",
    "    [\"Independence of Czechoslovakia\", \"End of World War II\", \"Velvet Revolution\"],\n",
    "    index = pd.DatetimeIndex(['1918-10-28', '1945-05-08', '1989-11-17'])\n",
    ")\n",
    "events_precise.index"
   ]
  },
  {
   "cell_type": "markdown",
   "metadata": {},
   "source": [
    "By using datime it's ordering automatically"
   ]
  },
  {
   "cell_type": "markdown",
   "metadata": {},
   "source": [
    "The index values can then be used in square brackets to access `Series` elements, similar to a dictionary. But the possibilities are much wider, we will show them in a short time in the context of `DataFrame`."
   ]
  },
  {
   "cell_type": "code",
   "execution_count": 56,
   "metadata": {},
   "outputs": [
    {
     "data": {
      "text/plain": [
       "65.0"
      ]
     },
     "execution_count": 56,
     "metadata": {},
     "output_type": "execute_result"
    }
   ],
   "source": [
    "age[\"Martina\"]"
   ]
  },
  {
   "cell_type": "code",
   "execution_count": 57,
   "metadata": {},
   "outputs": [
    {
     "data": {
      "text/plain": [
       "RangeIndex(start=0, stop=807, step=1)"
      ]
     },
     "execution_count": 57,
     "metadata": {},
     "output_type": "execute_result"
    }
   ],
   "source": [
    "pokemon_table.index"
   ]
  },
  {
   "cell_type": "code",
   "execution_count": 58,
   "metadata": {},
   "outputs": [
    {
     "data": {
      "text/html": [
       "<div>\n",
       "<style scoped>\n",
       "    .dataframe tbody tr th:only-of-type {\n",
       "        vertical-align: middle;\n",
       "    }\n",
       "\n",
       "    .dataframe tbody tr th {\n",
       "        vertical-align: top;\n",
       "    }\n",
       "\n",
       "    .dataframe thead th {\n",
       "        text-align: right;\n",
       "    }\n",
       "</style>\n",
       "<table border=\"1\" class=\"dataframe\">\n",
       "  <thead>\n",
       "    <tr style=\"text-align: right;\">\n",
       "      <th></th>\n",
       "      <th>id</th>\n",
       "      <th>name</th>\n",
       "      <th>height</th>\n",
       "      <th>weight</th>\n",
       "      <th>color</th>\n",
       "      <th>shape</th>\n",
       "      <th>is baby</th>\n",
       "      <th>type 1</th>\n",
       "      <th>type 2</th>\n",
       "      <th>hp</th>\n",
       "      <th>attack</th>\n",
       "      <th>defense</th>\n",
       "      <th>speed</th>\n",
       "    </tr>\n",
       "  </thead>\n",
       "  <tbody>\n",
       "    <tr>\n",
       "      <th>0</th>\n",
       "      <td>1</td>\n",
       "      <td>bulbasaur</td>\n",
       "      <td>0.7</td>\n",
       "      <td>6.9</td>\n",
       "      <td>green</td>\n",
       "      <td>quadruped</td>\n",
       "      <td>False</td>\n",
       "      <td>Grass</td>\n",
       "      <td>Poison</td>\n",
       "      <td>45</td>\n",
       "      <td>49</td>\n",
       "      <td>49</td>\n",
       "      <td>45</td>\n",
       "    </tr>\n",
       "    <tr>\n",
       "      <th>1</th>\n",
       "      <td>2</td>\n",
       "      <td>ivysaur</td>\n",
       "      <td>1.0</td>\n",
       "      <td>13.0</td>\n",
       "      <td>green</td>\n",
       "      <td>quadruped</td>\n",
       "      <td>False</td>\n",
       "      <td>Grass</td>\n",
       "      <td>Poison</td>\n",
       "      <td>60</td>\n",
       "      <td>62</td>\n",
       "      <td>63</td>\n",
       "      <td>60</td>\n",
       "    </tr>\n",
       "    <tr>\n",
       "      <th>2</th>\n",
       "      <td>3</td>\n",
       "      <td>venusaur</td>\n",
       "      <td>2.0</td>\n",
       "      <td>100.0</td>\n",
       "      <td>green</td>\n",
       "      <td>quadruped</td>\n",
       "      <td>False</td>\n",
       "      <td>Grass</td>\n",
       "      <td>Poison</td>\n",
       "      <td>80</td>\n",
       "      <td>82</td>\n",
       "      <td>83</td>\n",
       "      <td>80</td>\n",
       "    </tr>\n",
       "    <tr>\n",
       "      <th>3</th>\n",
       "      <td>4</td>\n",
       "      <td>charmander</td>\n",
       "      <td>0.6</td>\n",
       "      <td>8.5</td>\n",
       "      <td>red</td>\n",
       "      <td>upright</td>\n",
       "      <td>False</td>\n",
       "      <td>Fire</td>\n",
       "      <td>NaN</td>\n",
       "      <td>39</td>\n",
       "      <td>52</td>\n",
       "      <td>43</td>\n",
       "      <td>65</td>\n",
       "    </tr>\n",
       "    <tr>\n",
       "      <th>4</th>\n",
       "      <td>5</td>\n",
       "      <td>charmeleon</td>\n",
       "      <td>1.1</td>\n",
       "      <td>19.0</td>\n",
       "      <td>red</td>\n",
       "      <td>upright</td>\n",
       "      <td>False</td>\n",
       "      <td>Fire</td>\n",
       "      <td>NaN</td>\n",
       "      <td>58</td>\n",
       "      <td>64</td>\n",
       "      <td>58</td>\n",
       "      <td>80</td>\n",
       "    </tr>\n",
       "  </tbody>\n",
       "</table>\n",
       "</div>"
      ],
      "text/plain": [
       "   id        name  height  weight  color      shape  is baby type 1  type 2  \\\n",
       "0   1   bulbasaur     0.7     6.9  green  quadruped    False  Grass  Poison   \n",
       "1   2     ivysaur     1.0    13.0  green  quadruped    False  Grass  Poison   \n",
       "2   3    venusaur     2.0   100.0  green  quadruped    False  Grass  Poison   \n",
       "3   4  charmander     0.6     8.5    red    upright    False   Fire     NaN   \n",
       "4   5  charmeleon     1.1    19.0    red    upright    False   Fire     NaN   \n",
       "\n",
       "   hp  attack  defense  speed  \n",
       "0  45      49       49     45  \n",
       "1  60      62       63     60  \n",
       "2  80      82       83     80  \n",
       "3  39      52       43     65  \n",
       "4  58      64       58     80  "
      ]
     },
     "execution_count": 58,
     "metadata": {},
     "output_type": "execute_result"
    }
   ],
   "source": [
    "pokemon_table.head()"
   ]
  },
  {
   "cell_type": "markdown",
   "metadata": {},
   "source": [
    "**Task:** Whatheaddex does the Pokémon table have?"
   ]
  },
  {
   "cell_type": "markdown",
   "metadata": {},
   "source": [
    "## DataFrame"
   ]
  },
  {
   "cell_type": "markdown",
   "metadata": {},
   "source": [
    "<img src=\"static/df.svg\" style=\"max-height: 25em;\"/>"
   ]
  },
  {
   "cell_type": "markdown",
   "metadata": {},
   "source": [
    "Once we are familiar with the columns and indexes, we can return to the table, respectively `DataFrame`.\n",
    "\n",
    "Just like the `Series` is a container of values associated with an index, the `DataFrame` is a two-dimensional container that, in addition to values (`.values`), contains two indexes - one for rows and one for columns:"
   ]
  },
  {
   "cell_type": "code",
   "execution_count": 59,
   "metadata": {},
   "outputs": [
    {
     "data": {
      "text/plain": [
       "Index(['id', 'name', 'height', 'weight', 'color', 'shape', 'is baby', 'type 1',\n",
       "       'type 2', 'hp', 'attack', 'defense', 'speed'],\n",
       "      dtype='object')"
      ]
     },
     "execution_count": 59,
     "metadata": {},
     "output_type": "execute_result"
    }
   ],
   "source": [
    "pokemon_table.columns # Column list"
   ]
  },
  {
   "cell_type": "code",
   "execution_count": 60,
   "metadata": {},
   "outputs": [
    {
     "data": {
      "text/plain": [
       "RangeIndex(start=0, stop=807, step=1)"
      ]
     },
     "execution_count": 60,
     "metadata": {},
     "output_type": "execute_result"
    }
   ],
   "source": [
    "pokemon_table.index #Index (list of rows)"
   ]
  },
  {
   "cell_type": "code",
   "execution_count": 61,
   "metadata": {},
   "outputs": [
    {
     "data": {
      "text/plain": [
       "array([[1, 'bulbasaur', 0.7, ..., 49, 49, 45],\n",
       "       [2, 'ivysaur', 1.0, ..., 62, 63, 60],\n",
       "       [3, 'venusaur', 2.0, ..., 82, 83, 80],\n",
       "       ...,\n",
       "       [805, 'stakataka', 5.5, ..., 131, 211, 13],\n",
       "       [806, 'blacephalon', 1.8, ..., 127, 53, 107],\n",
       "       [807, 'zeraora', 1.5, ..., 112, 75, 143]], dtype=object)"
      ]
     },
     "execution_count": 61,
     "metadata": {},
     "output_type": "execute_result"
    }
   ],
   "source": [
    "pokemon_table.values"
   ]
  },
  {
   "cell_type": "code",
   "execution_count": 62,
   "metadata": {},
   "outputs": [
    {
     "data": {
      "text/plain": [
       "(807, 13)"
      ]
     },
     "execution_count": 62,
     "metadata": {},
     "output_type": "execute_result"
    }
   ],
   "source": [
    "pokemon_table.shape # Size (number of rows x number of columns)"
   ]
  },
  {
   "cell_type": "markdown",
   "metadata": {},
   "source": [
    "There are several ways to construct a new table (in addition to retrieving data from an external file), the most common of which are probably from a list of dictionaries or a dictionary of lists. As with `Series`, some attributes can be supplied as additional arguments."
   ]
  },
  {
   "cell_type": "code",
   "execution_count": 65,
   "metadata": {},
   "outputs": [
    {
     "data": {
      "text/html": [
       "<div>\n",
       "<style scoped>\n",
       "    .dataframe tbody tr th:only-of-type {\n",
       "        vertical-align: middle;\n",
       "    }\n",
       "\n",
       "    .dataframe tbody tr th {\n",
       "        vertical-align: top;\n",
       "    }\n",
       "\n",
       "    .dataframe thead th {\n",
       "        text-align: right;\n",
       "    }\n",
       "</style>\n",
       "<table border=\"1\" class=\"dataframe\">\n",
       "  <thead>\n",
       "    <tr style=\"text-align: right;\">\n",
       "      <th></th>\n",
       "      <th>number</th>\n",
       "      <th>letter</th>\n",
       "    </tr>\n",
       "  </thead>\n",
       "  <tbody>\n",
       "    <tr>\n",
       "      <th>0</th>\n",
       "      <td>1</td>\n",
       "      <td>a</td>\n",
       "    </tr>\n",
       "    <tr>\n",
       "      <th>1</th>\n",
       "      <td>2</td>\n",
       "      <td>b</td>\n",
       "    </tr>\n",
       "    <tr>\n",
       "      <th>2</th>\n",
       "      <td>3</td>\n",
       "      <td>c</td>\n",
       "    </tr>\n",
       "    <tr>\n",
       "      <th>3</th>\n",
       "      <td>4</td>\n",
       "      <td>NA</td>\n",
       "    </tr>\n",
       "  </tbody>\n",
       "</table>\n",
       "</div>"
      ],
      "text/plain": [
       "   number letter\n",
       "0       1      a\n",
       "1       2      b\n",
       "2       3      c\n",
       "3       4     NA"
      ]
     },
     "execution_count": 65,
     "metadata": {},
     "output_type": "execute_result"
    }
   ],
   "source": [
    "pd.DataFrame({\n",
    "    \"number\": [1, 2, 3, 4],\n",
    "    \"letter\": [\"a\", \"b\", \"c\", \"NA\"]\n",
    "})"
   ]
  },
  {
   "cell_type": "code",
   "execution_count": 66,
   "metadata": {},
   "outputs": [
    {
     "data": {
      "text/html": [
       "<div>\n",
       "<style scoped>\n",
       "    .dataframe tbody tr th:only-of-type {\n",
       "        vertical-align: middle;\n",
       "    }\n",
       "\n",
       "    .dataframe tbody tr th {\n",
       "        vertical-align: top;\n",
       "    }\n",
       "\n",
       "    .dataframe thead th {\n",
       "        text-align: right;\n",
       "    }\n",
       "</style>\n",
       "<table border=\"1\" class=\"dataframe\">\n",
       "  <thead>\n",
       "    <tr style=\"text-align: right;\">\n",
       "      <th></th>\n",
       "      <th>name</th>\n",
       "      <th>price</th>\n",
       "    </tr>\n",
       "  </thead>\n",
       "  <tbody>\n",
       "    <tr>\n",
       "      <th>item1</th>\n",
       "      <td>butter</td>\n",
       "      <td>42.9</td>\n",
       "    </tr>\n",
       "    <tr>\n",
       "      <th>item2</th>\n",
       "      <td>cheese</td>\n",
       "      <td>31.9</td>\n",
       "    </tr>\n",
       "    <tr>\n",
       "      <th>item3</th>\n",
       "      <td>ketchup</td>\n",
       "      <td>49.9</td>\n",
       "    </tr>\n",
       "  </tbody>\n",
       "</table>\n",
       "</div>"
      ],
      "text/plain": [
       "          name  price\n",
       "item1   butter   42.9\n",
       "item2   cheese   31.9\n",
       "item3  ketchup   49.9"
      ]
     },
     "execution_count": 66,
     "metadata": {},
     "output_type": "execute_result"
    }
   ],
   "source": [
    "pd.DataFrame([\n",
    "        {\"name\": \"butter\", \"price\": 42.90},\n",
    "        {\"name\": \"cheese\", \"price\": 31.90},\n",
    "        {\"name\": \"ketchup\", \"price\": 49.90 },   \n",
    "    ],\n",
    "    index=[\"item1\", \"item2\", \"item3\"]\n",
    ") #List of dictionaries"
   ]
  },
  {
   "cell_type": "markdown",
   "metadata": {},
   "source": [
    "**Task:** Create a table (`DataFrame`) that will contain \"first name\", \"last name\" and \"age\" columns for characters from one of your favorite novels or movies. You can, but you don't have to use an index on it."
   ]
  },
  {
   "cell_type": "markdown",
   "metadata": {},
   "source": [
    "## Indexing\n",
    "Rows, columns, numerical order, keys, ranges ... Pandas sometimes behave like lists, sometimes like dictionaries. So how do you get value from them? There is a lot to do, so accessing parts of the table  with simple square brackets `[]` is not enough.\n",
    "\n",
    "For starters, let's adjust our pokemon table to have an interesting and easy-to-grasp index. We will use two methods of the `DataFrame` class (both return a new `DataFrame` instance, derived from the instance we are calling them to):\n",
    "* `set_index` returns a table in which one of the columns is used as an index\n",
    "* `sort_index` returns a table that contains the same index but sorted"
   ]
  },
  {
   "cell_type": "code",
   "execution_count": 69,
   "metadata": {},
   "outputs": [
    {
     "data": {
      "text/html": [
       "<div>\n",
       "<style scoped>\n",
       "    .dataframe tbody tr th:only-of-type {\n",
       "        vertical-align: middle;\n",
       "    }\n",
       "\n",
       "    .dataframe tbody tr th {\n",
       "        vertical-align: top;\n",
       "    }\n",
       "\n",
       "    .dataframe thead th {\n",
       "        text-align: right;\n",
       "    }\n",
       "</style>\n",
       "<table border=\"1\" class=\"dataframe\">\n",
       "  <thead>\n",
       "    <tr style=\"text-align: right;\">\n",
       "      <th></th>\n",
       "      <th>id</th>\n",
       "      <th>height</th>\n",
       "      <th>weight</th>\n",
       "      <th>color</th>\n",
       "      <th>shape</th>\n",
       "      <th>is baby</th>\n",
       "      <th>type 1</th>\n",
       "      <th>type 2</th>\n",
       "      <th>hp</th>\n",
       "      <th>attack</th>\n",
       "      <th>defense</th>\n",
       "      <th>speed</th>\n",
       "    </tr>\n",
       "    <tr>\n",
       "      <th>name</th>\n",
       "      <th></th>\n",
       "      <th></th>\n",
       "      <th></th>\n",
       "      <th></th>\n",
       "      <th></th>\n",
       "      <th></th>\n",
       "      <th></th>\n",
       "      <th></th>\n",
       "      <th></th>\n",
       "      <th></th>\n",
       "      <th></th>\n",
       "      <th></th>\n",
       "    </tr>\n",
       "  </thead>\n",
       "  <tbody>\n",
       "    <tr>\n",
       "      <th>abomasnow</th>\n",
       "      <td>460</td>\n",
       "      <td>2.2</td>\n",
       "      <td>135.5</td>\n",
       "      <td>white</td>\n",
       "      <td>upright</td>\n",
       "      <td>False</td>\n",
       "      <td>Grass</td>\n",
       "      <td>Ice</td>\n",
       "      <td>90</td>\n",
       "      <td>92</td>\n",
       "      <td>75</td>\n",
       "      <td>60</td>\n",
       "    </tr>\n",
       "    <tr>\n",
       "      <th>abra</th>\n",
       "      <td>63</td>\n",
       "      <td>0.9</td>\n",
       "      <td>19.5</td>\n",
       "      <td>brown</td>\n",
       "      <td>upright</td>\n",
       "      <td>False</td>\n",
       "      <td>Psychic</td>\n",
       "      <td>NaN</td>\n",
       "      <td>25</td>\n",
       "      <td>20</td>\n",
       "      <td>15</td>\n",
       "      <td>90</td>\n",
       "    </tr>\n",
       "    <tr>\n",
       "      <th>absol</th>\n",
       "      <td>359</td>\n",
       "      <td>1.2</td>\n",
       "      <td>47.0</td>\n",
       "      <td>white</td>\n",
       "      <td>quadruped</td>\n",
       "      <td>False</td>\n",
       "      <td>Dark</td>\n",
       "      <td>NaN</td>\n",
       "      <td>65</td>\n",
       "      <td>130</td>\n",
       "      <td>60</td>\n",
       "      <td>75</td>\n",
       "    </tr>\n",
       "    <tr>\n",
       "      <th>accelgor</th>\n",
       "      <td>617</td>\n",
       "      <td>0.8</td>\n",
       "      <td>25.3</td>\n",
       "      <td>red</td>\n",
       "      <td>arms</td>\n",
       "      <td>False</td>\n",
       "      <td>Bug</td>\n",
       "      <td>NaN</td>\n",
       "      <td>80</td>\n",
       "      <td>70</td>\n",
       "      <td>40</td>\n",
       "      <td>145</td>\n",
       "    </tr>\n",
       "    <tr>\n",
       "      <th>aegislash</th>\n",
       "      <td>681</td>\n",
       "      <td>1.7</td>\n",
       "      <td>53.0</td>\n",
       "      <td>brown</td>\n",
       "      <td>blob</td>\n",
       "      <td>False</td>\n",
       "      <td>Steel</td>\n",
       "      <td>Ghost</td>\n",
       "      <td>60</td>\n",
       "      <td>50</td>\n",
       "      <td>150</td>\n",
       "      <td>60</td>\n",
       "    </tr>\n",
       "    <tr>\n",
       "      <th>...</th>\n",
       "      <td>...</td>\n",
       "      <td>...</td>\n",
       "      <td>...</td>\n",
       "      <td>...</td>\n",
       "      <td>...</td>\n",
       "      <td>...</td>\n",
       "      <td>...</td>\n",
       "      <td>...</td>\n",
       "      <td>...</td>\n",
       "      <td>...</td>\n",
       "      <td>...</td>\n",
       "      <td>...</td>\n",
       "    </tr>\n",
       "    <tr>\n",
       "      <th>zoroark</th>\n",
       "      <td>571</td>\n",
       "      <td>1.6</td>\n",
       "      <td>81.1</td>\n",
       "      <td>gray</td>\n",
       "      <td>upright</td>\n",
       "      <td>False</td>\n",
       "      <td>Dark</td>\n",
       "      <td>NaN</td>\n",
       "      <td>60</td>\n",
       "      <td>105</td>\n",
       "      <td>60</td>\n",
       "      <td>105</td>\n",
       "    </tr>\n",
       "    <tr>\n",
       "      <th>zorua</th>\n",
       "      <td>570</td>\n",
       "      <td>0.7</td>\n",
       "      <td>12.5</td>\n",
       "      <td>gray</td>\n",
       "      <td>quadruped</td>\n",
       "      <td>False</td>\n",
       "      <td>Dark</td>\n",
       "      <td>NaN</td>\n",
       "      <td>40</td>\n",
       "      <td>65</td>\n",
       "      <td>40</td>\n",
       "      <td>65</td>\n",
       "    </tr>\n",
       "    <tr>\n",
       "      <th>zubat</th>\n",
       "      <td>41</td>\n",
       "      <td>0.8</td>\n",
       "      <td>7.5</td>\n",
       "      <td>purple</td>\n",
       "      <td>wings</td>\n",
       "      <td>False</td>\n",
       "      <td>Poison</td>\n",
       "      <td>Flying</td>\n",
       "      <td>40</td>\n",
       "      <td>45</td>\n",
       "      <td>35</td>\n",
       "      <td>55</td>\n",
       "    </tr>\n",
       "    <tr>\n",
       "      <th>zweilous</th>\n",
       "      <td>634</td>\n",
       "      <td>1.4</td>\n",
       "      <td>50.0</td>\n",
       "      <td>blue</td>\n",
       "      <td>quadruped</td>\n",
       "      <td>False</td>\n",
       "      <td>Dark</td>\n",
       "      <td>Dragon</td>\n",
       "      <td>72</td>\n",
       "      <td>85</td>\n",
       "      <td>70</td>\n",
       "      <td>58</td>\n",
       "    </tr>\n",
       "    <tr>\n",
       "      <th>zygarde</th>\n",
       "      <td>718</td>\n",
       "      <td>5.0</td>\n",
       "      <td>305.0</td>\n",
       "      <td>green</td>\n",
       "      <td>squiggle</td>\n",
       "      <td>False</td>\n",
       "      <td>Dragon</td>\n",
       "      <td>Ground</td>\n",
       "      <td>108</td>\n",
       "      <td>100</td>\n",
       "      <td>121</td>\n",
       "      <td>95</td>\n",
       "    </tr>\n",
       "  </tbody>\n",
       "</table>\n",
       "<p>807 rows × 12 columns</p>\n",
       "</div>"
      ],
      "text/plain": [
       "            id  height  weight   color      shape  is baby   type 1  type 2  \\\n",
       "name                                                                          \n",
       "abomasnow  460     2.2   135.5   white    upright    False    Grass     Ice   \n",
       "abra        63     0.9    19.5   brown    upright    False  Psychic     NaN   \n",
       "absol      359     1.2    47.0   white  quadruped    False     Dark     NaN   \n",
       "accelgor   617     0.8    25.3     red       arms    False      Bug     NaN   \n",
       "aegislash  681     1.7    53.0   brown       blob    False    Steel   Ghost   \n",
       "...        ...     ...     ...     ...        ...      ...      ...     ...   \n",
       "zoroark    571     1.6    81.1    gray    upright    False     Dark     NaN   \n",
       "zorua      570     0.7    12.5    gray  quadruped    False     Dark     NaN   \n",
       "zubat       41     0.8     7.5  purple      wings    False   Poison  Flying   \n",
       "zweilous   634     1.4    50.0    blue  quadruped    False     Dark  Dragon   \n",
       "zygarde    718     5.0   305.0   green   squiggle    False   Dragon  Ground   \n",
       "\n",
       "            hp  attack  defense  speed  \n",
       "name                                    \n",
       "abomasnow   90      92       75     60  \n",
       "abra        25      20       15     90  \n",
       "absol       65     130       60     75  \n",
       "accelgor    80      70       40    145  \n",
       "aegislash   60      50      150     60  \n",
       "...        ...     ...      ...    ...  \n",
       "zoroark     60     105       60    105  \n",
       "zorua       40      65       40     65  \n",
       "zubat       40      45       35     55  \n",
       "zweilous    72      85       70     58  \n",
       "zygarde    108     100      121     95  \n",
       "\n",
       "[807 rows x 12 columns]"
      ]
     },
     "execution_count": 69,
     "metadata": {},
     "output_type": "execute_result"
    }
   ],
   "source": [
    "pokemons = pokemon_table.set_index(\"name\").sort_index()\n",
    "pokemons"
   ]
  },
  {
   "cell_type": "code",
   "execution_count": 70,
   "metadata": {},
   "outputs": [
    {
     "data": {
      "text/plain": [
       "Index(['abomasnow', 'abra', 'absol', 'accelgor', 'aegislash', 'aerodactyl',\n",
       "       'aggron', 'aipom', 'alakazam', 'alomomola',\n",
       "       ...\n",
       "       'zapdos', 'zebstrika', 'zekrom', 'zeraora', 'zigzagoon', 'zoroark',\n",
       "       'zorua', 'zubat', 'zweilous', 'zygarde'],\n",
       "      dtype='object', name='name', length=807)"
      ]
     },
     "execution_count": 70,
     "metadata": {},
     "output_type": "execute_result"
    }
   ],
   "source": [
    "pokemons.index"
   ]
  },
  {
   "cell_type": "markdown",
   "metadata": {},
   "source": [
    "### `[]`\n",
    "\n",
    "Let&#39;s start with square brackets:\n",
    "* For `Series`, it returns the value to which the corresponding key belongs in the index (we showed this above).\n",
    "* For `DataFrame` returns a column with the appropriate name"
   ]
  },
  {
   "cell_type": "code",
   "execution_count": 71,
   "metadata": {},
   "outputs": [
    {
     "data": {
      "text/plain": [
       "name\n",
       "abomasnow    2.2\n",
       "abra         0.9\n",
       "absol        1.2\n",
       "accelgor     0.8\n",
       "aegislash    1.7\n",
       "            ... \n",
       "zoroark      1.6\n",
       "zorua        0.7\n",
       "zubat        0.8\n",
       "zweilous     1.4\n",
       "zygarde      5.0\n",
       "Name: height, Length: 807, dtype: float64"
      ]
     },
     "execution_count": 71,
     "metadata": {},
     "output_type": "execute_result"
    }
   ],
   "source": [
    "pokemons[\"height\"]"
   ]
  },
  {
   "cell_type": "markdown",
   "metadata": {},
   "source": [
    "If you put several values in the list in parentheses next to `DataFrame`, you will get more columns (and therefore `DataFrame` back!):"
   ]
  },
  {
   "cell_type": "code",
   "execution_count": 72,
   "metadata": {},
   "outputs": [
    {
     "data": {
      "text/html": [
       "<div>\n",
       "<style scoped>\n",
       "    .dataframe tbody tr th:only-of-type {\n",
       "        vertical-align: middle;\n",
       "    }\n",
       "\n",
       "    .dataframe tbody tr th {\n",
       "        vertical-align: top;\n",
       "    }\n",
       "\n",
       "    .dataframe thead th {\n",
       "        text-align: right;\n",
       "    }\n",
       "</style>\n",
       "<table border=\"1\" class=\"dataframe\">\n",
       "  <thead>\n",
       "    <tr style=\"text-align: right;\">\n",
       "      <th></th>\n",
       "      <th>height</th>\n",
       "      <th>weight</th>\n",
       "    </tr>\n",
       "    <tr>\n",
       "      <th>name</th>\n",
       "      <th></th>\n",
       "      <th></th>\n",
       "    </tr>\n",
       "  </thead>\n",
       "  <tbody>\n",
       "    <tr>\n",
       "      <th>abomasnow</th>\n",
       "      <td>2.2</td>\n",
       "      <td>135.5</td>\n",
       "    </tr>\n",
       "    <tr>\n",
       "      <th>abra</th>\n",
       "      <td>0.9</td>\n",
       "      <td>19.5</td>\n",
       "    </tr>\n",
       "    <tr>\n",
       "      <th>absol</th>\n",
       "      <td>1.2</td>\n",
       "      <td>47.0</td>\n",
       "    </tr>\n",
       "    <tr>\n",
       "      <th>accelgor</th>\n",
       "      <td>0.8</td>\n",
       "      <td>25.3</td>\n",
       "    </tr>\n",
       "    <tr>\n",
       "      <th>aegislash</th>\n",
       "      <td>1.7</td>\n",
       "      <td>53.0</td>\n",
       "    </tr>\n",
       "    <tr>\n",
       "      <th>...</th>\n",
       "      <td>...</td>\n",
       "      <td>...</td>\n",
       "    </tr>\n",
       "    <tr>\n",
       "      <th>zoroark</th>\n",
       "      <td>1.6</td>\n",
       "      <td>81.1</td>\n",
       "    </tr>\n",
       "    <tr>\n",
       "      <th>zorua</th>\n",
       "      <td>0.7</td>\n",
       "      <td>12.5</td>\n",
       "    </tr>\n",
       "    <tr>\n",
       "      <th>zubat</th>\n",
       "      <td>0.8</td>\n",
       "      <td>7.5</td>\n",
       "    </tr>\n",
       "    <tr>\n",
       "      <th>zweilous</th>\n",
       "      <td>1.4</td>\n",
       "      <td>50.0</td>\n",
       "    </tr>\n",
       "    <tr>\n",
       "      <th>zygarde</th>\n",
       "      <td>5.0</td>\n",
       "      <td>305.0</td>\n",
       "    </tr>\n",
       "  </tbody>\n",
       "</table>\n",
       "<p>807 rows × 2 columns</p>\n",
       "</div>"
      ],
      "text/plain": [
       "           height  weight\n",
       "name                     \n",
       "abomasnow     2.2   135.5\n",
       "abra          0.9    19.5\n",
       "absol         1.2    47.0\n",
       "accelgor      0.8    25.3\n",
       "aegislash     1.7    53.0\n",
       "...           ...     ...\n",
       "zoroark       1.6    81.1\n",
       "zorua         0.7    12.5\n",
       "zubat         0.8     7.5\n",
       "zweilous      1.4    50.0\n",
       "zygarde       5.0   305.0\n",
       "\n",
       "[807 rows x 2 columns]"
      ]
     },
     "execution_count": 72,
     "metadata": {},
     "output_type": "execute_result"
    }
   ],
   "source": [
    "pokemons[[\"height\", \"weight\"]]"
   ]
  },
  {
   "cell_type": "markdown",
   "metadata": {},
   "source": [
    "**Task:** What happens when you do the same with the `Series`?"
   ]
  },
  {
   "cell_type": "code",
   "execution_count": null,
   "metadata": {},
   "outputs": [],
   "source": []
  },
  {
   "cell_type": "markdown",
   "metadata": {},
   "source": [
    "**Task:** Which of the last 5 pokemons (in alphabetical order) is the fastest?"
   ]
  },
  {
   "cell_type": "code",
   "execution_count": 76,
   "metadata": {},
   "outputs": [
    {
     "data": {
      "text/plain": [
       "name\n",
       "zoroark     105\n",
       "zorua        65\n",
       "zubat        55\n",
       "zweilous     58\n",
       "zygarde      95\n",
       "Name: speed, dtype: int64"
      ]
     },
     "execution_count": 76,
     "metadata": {},
     "output_type": "execute_result"
    }
   ],
   "source": [
    "#pokemons.set_index(\"speed\").sort_index()[-5:]\n",
    "\n",
    "pokemons[\"speed\"][-5:] "
   ]
  },
  {
   "cell_type": "markdown",
   "metadata": {},
   "source": [
    "### `.loc []`\n",
    "When we want to get a row, we use the `loc` attribute, the so-called indexer. Be careful, this is not a method and round brackets are not used, but square ones are. (There are reasons for this - this is the only way we can elegantly use abbreviated colon notation for ranges)."
   ]
  },
  {
   "cell_type": "code",
   "execution_count": 78,
   "metadata": {},
   "outputs": [
    {
     "data": {
      "text/plain": [
       "id              63\n",
       "height         0.9\n",
       "weight        19.5\n",
       "color        brown\n",
       "shape      upright\n",
       "is baby      False\n",
       "type 1     Psychic\n",
       "type 2         NaN\n",
       "hp              25\n",
       "attack          20\n",
       "defense         15\n",
       "speed           90\n",
       "Name: abra, dtype: object"
      ]
     },
     "execution_count": 78,
     "metadata": {},
     "output_type": "execute_result"
    }
   ],
   "source": [
    "pokemons.loc[\"abra\"] #We got a series with all its propierties"
   ]
  },
  {
   "cell_type": "markdown",
   "metadata": {},
   "source": [
    "We were interested in the row with the index &quot;abra&quot; and we got the expected result - `Series`, where each value is indexed by the name of the column.\n",
    "However, the situation becomes interesting when we start using ranges in the index (remember that dictionaries can&#39;t do that):"
   ]
  },
  {
   "cell_type": "code",
   "execution_count": 79,
   "metadata": {},
   "outputs": [
    {
     "data": {
      "text/html": [
       "<div>\n",
       "<style scoped>\n",
       "    .dataframe tbody tr th:only-of-type {\n",
       "        vertical-align: middle;\n",
       "    }\n",
       "\n",
       "    .dataframe tbody tr th {\n",
       "        vertical-align: top;\n",
       "    }\n",
       "\n",
       "    .dataframe thead th {\n",
       "        text-align: right;\n",
       "    }\n",
       "</style>\n",
       "<table border=\"1\" class=\"dataframe\">\n",
       "  <thead>\n",
       "    <tr style=\"text-align: right;\">\n",
       "      <th></th>\n",
       "      <th>id</th>\n",
       "      <th>height</th>\n",
       "      <th>weight</th>\n",
       "      <th>color</th>\n",
       "      <th>shape</th>\n",
       "      <th>is baby</th>\n",
       "      <th>type 1</th>\n",
       "      <th>type 2</th>\n",
       "      <th>hp</th>\n",
       "      <th>attack</th>\n",
       "      <th>defense</th>\n",
       "      <th>speed</th>\n",
       "    </tr>\n",
       "    <tr>\n",
       "      <th>name</th>\n",
       "      <th></th>\n",
       "      <th></th>\n",
       "      <th></th>\n",
       "      <th></th>\n",
       "      <th></th>\n",
       "      <th></th>\n",
       "      <th></th>\n",
       "      <th></th>\n",
       "      <th></th>\n",
       "      <th></th>\n",
       "      <th></th>\n",
       "      <th></th>\n",
       "    </tr>\n",
       "  </thead>\n",
       "  <tbody>\n",
       "    <tr>\n",
       "      <th>zangoose</th>\n",
       "      <td>335</td>\n",
       "      <td>1.3</td>\n",
       "      <td>40.3</td>\n",
       "      <td>white</td>\n",
       "      <td>upright</td>\n",
       "      <td>False</td>\n",
       "      <td>Normal</td>\n",
       "      <td>NaN</td>\n",
       "      <td>73</td>\n",
       "      <td>115</td>\n",
       "      <td>60</td>\n",
       "      <td>90</td>\n",
       "    </tr>\n",
       "    <tr>\n",
       "      <th>zapdos</th>\n",
       "      <td>145</td>\n",
       "      <td>1.6</td>\n",
       "      <td>52.6</td>\n",
       "      <td>yellow</td>\n",
       "      <td>wings</td>\n",
       "      <td>False</td>\n",
       "      <td>Electric</td>\n",
       "      <td>Flying</td>\n",
       "      <td>90</td>\n",
       "      <td>90</td>\n",
       "      <td>85</td>\n",
       "      <td>100</td>\n",
       "    </tr>\n",
       "    <tr>\n",
       "      <th>zebstrika</th>\n",
       "      <td>523</td>\n",
       "      <td>1.6</td>\n",
       "      <td>79.5</td>\n",
       "      <td>black</td>\n",
       "      <td>quadruped</td>\n",
       "      <td>False</td>\n",
       "      <td>Electric</td>\n",
       "      <td>NaN</td>\n",
       "      <td>75</td>\n",
       "      <td>100</td>\n",
       "      <td>63</td>\n",
       "      <td>116</td>\n",
       "    </tr>\n",
       "    <tr>\n",
       "      <th>zekrom</th>\n",
       "      <td>644</td>\n",
       "      <td>2.9</td>\n",
       "      <td>345.0</td>\n",
       "      <td>black</td>\n",
       "      <td>upright</td>\n",
       "      <td>False</td>\n",
       "      <td>Dragon</td>\n",
       "      <td>Electric</td>\n",
       "      <td>100</td>\n",
       "      <td>150</td>\n",
       "      <td>120</td>\n",
       "      <td>90</td>\n",
       "    </tr>\n",
       "    <tr>\n",
       "      <th>zeraora</th>\n",
       "      <td>807</td>\n",
       "      <td>1.5</td>\n",
       "      <td>44.5</td>\n",
       "      <td>yellow</td>\n",
       "      <td>humanoid</td>\n",
       "      <td>False</td>\n",
       "      <td>Electric</td>\n",
       "      <td>NaN</td>\n",
       "      <td>88</td>\n",
       "      <td>112</td>\n",
       "      <td>75</td>\n",
       "      <td>143</td>\n",
       "    </tr>\n",
       "    <tr>\n",
       "      <th>zigzagoon</th>\n",
       "      <td>263</td>\n",
       "      <td>0.4</td>\n",
       "      <td>17.5</td>\n",
       "      <td>brown</td>\n",
       "      <td>quadruped</td>\n",
       "      <td>False</td>\n",
       "      <td>Normal</td>\n",
       "      <td>NaN</td>\n",
       "      <td>38</td>\n",
       "      <td>30</td>\n",
       "      <td>41</td>\n",
       "      <td>60</td>\n",
       "    </tr>\n",
       "    <tr>\n",
       "      <th>zoroark</th>\n",
       "      <td>571</td>\n",
       "      <td>1.6</td>\n",
       "      <td>81.1</td>\n",
       "      <td>gray</td>\n",
       "      <td>upright</td>\n",
       "      <td>False</td>\n",
       "      <td>Dark</td>\n",
       "      <td>NaN</td>\n",
       "      <td>60</td>\n",
       "      <td>105</td>\n",
       "      <td>60</td>\n",
       "      <td>105</td>\n",
       "    </tr>\n",
       "    <tr>\n",
       "      <th>zorua</th>\n",
       "      <td>570</td>\n",
       "      <td>0.7</td>\n",
       "      <td>12.5</td>\n",
       "      <td>gray</td>\n",
       "      <td>quadruped</td>\n",
       "      <td>False</td>\n",
       "      <td>Dark</td>\n",
       "      <td>NaN</td>\n",
       "      <td>40</td>\n",
       "      <td>65</td>\n",
       "      <td>40</td>\n",
       "      <td>65</td>\n",
       "    </tr>\n",
       "    <tr>\n",
       "      <th>zubat</th>\n",
       "      <td>41</td>\n",
       "      <td>0.8</td>\n",
       "      <td>7.5</td>\n",
       "      <td>purple</td>\n",
       "      <td>wings</td>\n",
       "      <td>False</td>\n",
       "      <td>Poison</td>\n",
       "      <td>Flying</td>\n",
       "      <td>40</td>\n",
       "      <td>45</td>\n",
       "      <td>35</td>\n",
       "      <td>55</td>\n",
       "    </tr>\n",
       "    <tr>\n",
       "      <th>zweilous</th>\n",
       "      <td>634</td>\n",
       "      <td>1.4</td>\n",
       "      <td>50.0</td>\n",
       "      <td>blue</td>\n",
       "      <td>quadruped</td>\n",
       "      <td>False</td>\n",
       "      <td>Dark</td>\n",
       "      <td>Dragon</td>\n",
       "      <td>72</td>\n",
       "      <td>85</td>\n",
       "      <td>70</td>\n",
       "      <td>58</td>\n",
       "    </tr>\n",
       "    <tr>\n",
       "      <th>zygarde</th>\n",
       "      <td>718</td>\n",
       "      <td>5.0</td>\n",
       "      <td>305.0</td>\n",
       "      <td>green</td>\n",
       "      <td>squiggle</td>\n",
       "      <td>False</td>\n",
       "      <td>Dragon</td>\n",
       "      <td>Ground</td>\n",
       "      <td>108</td>\n",
       "      <td>100</td>\n",
       "      <td>121</td>\n",
       "      <td>95</td>\n",
       "    </tr>\n",
       "  </tbody>\n",
       "</table>\n",
       "</div>"
      ],
      "text/plain": [
       "            id  height  weight   color      shape  is baby    type 1  \\\n",
       "name                                                                   \n",
       "zangoose   335     1.3    40.3   white    upright    False    Normal   \n",
       "zapdos     145     1.6    52.6  yellow      wings    False  Electric   \n",
       "zebstrika  523     1.6    79.5   black  quadruped    False  Electric   \n",
       "zekrom     644     2.9   345.0   black    upright    False    Dragon   \n",
       "zeraora    807     1.5    44.5  yellow   humanoid    False  Electric   \n",
       "zigzagoon  263     0.4    17.5   brown  quadruped    False    Normal   \n",
       "zoroark    571     1.6    81.1    gray    upright    False      Dark   \n",
       "zorua      570     0.7    12.5    gray  quadruped    False      Dark   \n",
       "zubat       41     0.8     7.5  purple      wings    False    Poison   \n",
       "zweilous   634     1.4    50.0    blue  quadruped    False      Dark   \n",
       "zygarde    718     5.0   305.0   green   squiggle    False    Dragon   \n",
       "\n",
       "             type 2   hp  attack  defense  speed  \n",
       "name                                              \n",
       "zangoose        NaN   73     115       60     90  \n",
       "zapdos       Flying   90      90       85    100  \n",
       "zebstrika       NaN   75     100       63    116  \n",
       "zekrom     Electric  100     150      120     90  \n",
       "zeraora         NaN   88     112       75    143  \n",
       "zigzagoon       NaN   38      30       41     60  \n",
       "zoroark         NaN   60     105       60    105  \n",
       "zorua           NaN   40      65       40     65  \n",
       "zubat        Flying   40      45       35     55  \n",
       "zweilous     Dragon   72      85       70     58  \n",
       "zygarde      Ground  108     100      121     95  "
      ]
     },
     "execution_count": 79,
     "metadata": {},
     "output_type": "execute_result"
    }
   ],
   "source": [
    "pokemons.loc[\"z\":]"
   ]
  },
  {
   "cell_type": "markdown",
   "metadata": {},
   "source": [
    "Pandas intelligently understood that we wanted all the keys in some range, even without them being present in the index.    \n",
    "⚠️ However, this can only be done with a sorted index. If the index is not sorted, the range of existing keys is selected in order, including both extremes, as follows:"
   ]
  },
  {
   "cell_type": "code",
   "execution_count": 80,
   "metadata": {},
   "outputs": [
    {
     "data": {
      "text/html": [
       "<div>\n",
       "<style scoped>\n",
       "    .dataframe tbody tr th:only-of-type {\n",
       "        vertical-align: middle;\n",
       "    }\n",
       "\n",
       "    .dataframe tbody tr th {\n",
       "        vertical-align: top;\n",
       "    }\n",
       "\n",
       "    .dataframe thead th {\n",
       "        text-align: right;\n",
       "    }\n",
       "</style>\n",
       "<table border=\"1\" class=\"dataframe\">\n",
       "  <thead>\n",
       "    <tr style=\"text-align: right;\">\n",
       "      <th></th>\n",
       "      <th>id</th>\n",
       "      <th>height</th>\n",
       "      <th>weight</th>\n",
       "      <th>color</th>\n",
       "      <th>shape</th>\n",
       "      <th>is baby</th>\n",
       "      <th>type 1</th>\n",
       "      <th>type 2</th>\n",
       "      <th>hp</th>\n",
       "      <th>attack</th>\n",
       "      <th>defense</th>\n",
       "      <th>speed</th>\n",
       "    </tr>\n",
       "    <tr>\n",
       "      <th>name</th>\n",
       "      <th></th>\n",
       "      <th></th>\n",
       "      <th></th>\n",
       "      <th></th>\n",
       "      <th></th>\n",
       "      <th></th>\n",
       "      <th></th>\n",
       "      <th></th>\n",
       "      <th></th>\n",
       "      <th></th>\n",
       "      <th></th>\n",
       "      <th></th>\n",
       "    </tr>\n",
       "  </thead>\n",
       "  <tbody>\n",
       "    <tr>\n",
       "      <th>zangoose</th>\n",
       "      <td>335</td>\n",
       "      <td>1.3</td>\n",
       "      <td>40.3</td>\n",
       "      <td>white</td>\n",
       "      <td>upright</td>\n",
       "      <td>False</td>\n",
       "      <td>Normal</td>\n",
       "      <td>NaN</td>\n",
       "      <td>73</td>\n",
       "      <td>115</td>\n",
       "      <td>60</td>\n",
       "      <td>90</td>\n",
       "    </tr>\n",
       "    <tr>\n",
       "      <th>zapdos</th>\n",
       "      <td>145</td>\n",
       "      <td>1.6</td>\n",
       "      <td>52.6</td>\n",
       "      <td>yellow</td>\n",
       "      <td>wings</td>\n",
       "      <td>False</td>\n",
       "      <td>Electric</td>\n",
       "      <td>Flying</td>\n",
       "      <td>90</td>\n",
       "      <td>90</td>\n",
       "      <td>85</td>\n",
       "      <td>100</td>\n",
       "    </tr>\n",
       "    <tr>\n",
       "      <th>zebstrika</th>\n",
       "      <td>523</td>\n",
       "      <td>1.6</td>\n",
       "      <td>79.5</td>\n",
       "      <td>black</td>\n",
       "      <td>quadruped</td>\n",
       "      <td>False</td>\n",
       "      <td>Electric</td>\n",
       "      <td>NaN</td>\n",
       "      <td>75</td>\n",
       "      <td>100</td>\n",
       "      <td>63</td>\n",
       "      <td>116</td>\n",
       "    </tr>\n",
       "    <tr>\n",
       "      <th>zekrom</th>\n",
       "      <td>644</td>\n",
       "      <td>2.9</td>\n",
       "      <td>345.0</td>\n",
       "      <td>black</td>\n",
       "      <td>upright</td>\n",
       "      <td>False</td>\n",
       "      <td>Dragon</td>\n",
       "      <td>Electric</td>\n",
       "      <td>100</td>\n",
       "      <td>150</td>\n",
       "      <td>120</td>\n",
       "      <td>90</td>\n",
       "    </tr>\n",
       "    <tr>\n",
       "      <th>zeraora</th>\n",
       "      <td>807</td>\n",
       "      <td>1.5</td>\n",
       "      <td>44.5</td>\n",
       "      <td>yellow</td>\n",
       "      <td>humanoid</td>\n",
       "      <td>False</td>\n",
       "      <td>Electric</td>\n",
       "      <td>NaN</td>\n",
       "      <td>88</td>\n",
       "      <td>112</td>\n",
       "      <td>75</td>\n",
       "      <td>143</td>\n",
       "    </tr>\n",
       "    <tr>\n",
       "      <th>zigzagoon</th>\n",
       "      <td>263</td>\n",
       "      <td>0.4</td>\n",
       "      <td>17.5</td>\n",
       "      <td>brown</td>\n",
       "      <td>quadruped</td>\n",
       "      <td>False</td>\n",
       "      <td>Normal</td>\n",
       "      <td>NaN</td>\n",
       "      <td>38</td>\n",
       "      <td>30</td>\n",
       "      <td>41</td>\n",
       "      <td>60</td>\n",
       "    </tr>\n",
       "    <tr>\n",
       "      <th>zoroark</th>\n",
       "      <td>571</td>\n",
       "      <td>1.6</td>\n",
       "      <td>81.1</td>\n",
       "      <td>gray</td>\n",
       "      <td>upright</td>\n",
       "      <td>False</td>\n",
       "      <td>Dark</td>\n",
       "      <td>NaN</td>\n",
       "      <td>60</td>\n",
       "      <td>105</td>\n",
       "      <td>60</td>\n",
       "      <td>105</td>\n",
       "    </tr>\n",
       "    <tr>\n",
       "      <th>zorua</th>\n",
       "      <td>570</td>\n",
       "      <td>0.7</td>\n",
       "      <td>12.5</td>\n",
       "      <td>gray</td>\n",
       "      <td>quadruped</td>\n",
       "      <td>False</td>\n",
       "      <td>Dark</td>\n",
       "      <td>NaN</td>\n",
       "      <td>40</td>\n",
       "      <td>65</td>\n",
       "      <td>40</td>\n",
       "      <td>65</td>\n",
       "    </tr>\n",
       "    <tr>\n",
       "      <th>zubat</th>\n",
       "      <td>41</td>\n",
       "      <td>0.8</td>\n",
       "      <td>7.5</td>\n",
       "      <td>purple</td>\n",
       "      <td>wings</td>\n",
       "      <td>False</td>\n",
       "      <td>Poison</td>\n",
       "      <td>Flying</td>\n",
       "      <td>40</td>\n",
       "      <td>45</td>\n",
       "      <td>35</td>\n",
       "      <td>55</td>\n",
       "    </tr>\n",
       "    <tr>\n",
       "      <th>zweilous</th>\n",
       "      <td>634</td>\n",
       "      <td>1.4</td>\n",
       "      <td>50.0</td>\n",
       "      <td>blue</td>\n",
       "      <td>quadruped</td>\n",
       "      <td>False</td>\n",
       "      <td>Dark</td>\n",
       "      <td>Dragon</td>\n",
       "      <td>72</td>\n",
       "      <td>85</td>\n",
       "      <td>70</td>\n",
       "      <td>58</td>\n",
       "    </tr>\n",
       "    <tr>\n",
       "      <th>zygarde</th>\n",
       "      <td>718</td>\n",
       "      <td>5.0</td>\n",
       "      <td>305.0</td>\n",
       "      <td>green</td>\n",
       "      <td>squiggle</td>\n",
       "      <td>False</td>\n",
       "      <td>Dragon</td>\n",
       "      <td>Ground</td>\n",
       "      <td>108</td>\n",
       "      <td>100</td>\n",
       "      <td>121</td>\n",
       "      <td>95</td>\n",
       "    </tr>\n",
       "  </tbody>\n",
       "</table>\n",
       "</div>"
      ],
      "text/plain": [
       "            id  height  weight   color      shape  is baby    type 1  \\\n",
       "name                                                                   \n",
       "zangoose   335     1.3    40.3   white    upright    False    Normal   \n",
       "zapdos     145     1.6    52.6  yellow      wings    False  Electric   \n",
       "zebstrika  523     1.6    79.5   black  quadruped    False  Electric   \n",
       "zekrom     644     2.9   345.0   black    upright    False    Dragon   \n",
       "zeraora    807     1.5    44.5  yellow   humanoid    False  Electric   \n",
       "zigzagoon  263     0.4    17.5   brown  quadruped    False    Normal   \n",
       "zoroark    571     1.6    81.1    gray    upright    False      Dark   \n",
       "zorua      570     0.7    12.5    gray  quadruped    False      Dark   \n",
       "zubat       41     0.8     7.5  purple      wings    False    Poison   \n",
       "zweilous   634     1.4    50.0    blue  quadruped    False      Dark   \n",
       "zygarde    718     5.0   305.0   green   squiggle    False    Dragon   \n",
       "\n",
       "             type 2   hp  attack  defense  speed  \n",
       "name                                              \n",
       "zangoose        NaN   73     115       60     90  \n",
       "zapdos       Flying   90      90       85    100  \n",
       "zebstrika       NaN   75     100       63    116  \n",
       "zekrom     Electric  100     150      120     90  \n",
       "zeraora         NaN   88     112       75    143  \n",
       "zigzagoon       NaN   38      30       41     60  \n",
       "zoroark         NaN   60     105       60    105  \n",
       "zorua           NaN   40      65       40     65  \n",
       "zubat        Flying   40      45       35     55  \n",
       "zweilous     Dragon   72      85       70     58  \n",
       "zygarde      Ground  108     100      121     95  "
      ]
     },
     "execution_count": 80,
     "metadata": {},
     "output_type": "execute_result"
    }
   ],
   "source": [
    "pokemons.loc[\"zangoose\":\"zygarde\"]"
   ]
  },
  {
   "cell_type": "markdown",
   "metadata": {},
   "source": [
    "If you want to get to a specific value, you use two keys in square brackets in the order *row*, *column*."
   ]
  },
  {
   "cell_type": "code",
   "execution_count": 82,
   "metadata": {},
   "outputs": [
    {
     "data": {
      "text/plain": [
       "'gray'"
      ]
     },
     "execution_count": 82,
     "metadata": {},
     "output_type": "execute_result"
    }
   ],
   "source": [
    "pokemons.loc[\"zorua\", \"color\"]#FIRST ROWS ALWAYS, THEN COLUMNS ALWAYS."
   ]
  },
  {
   "cell_type": "markdown",
   "metadata": {},
   "source": [
    "But pay attention to the number of parentheses. If a list of keys appears in parentheses, all matching rows or values are selected in that dimension:"
   ]
  },
  {
   "cell_type": "code",
   "execution_count": 83,
   "metadata": {
    "scrolled": true
   },
   "outputs": [
    {
     "data": {
      "text/html": [
       "<div>\n",
       "<style scoped>\n",
       "    .dataframe tbody tr th:only-of-type {\n",
       "        vertical-align: middle;\n",
       "    }\n",
       "\n",
       "    .dataframe tbody tr th {\n",
       "        vertical-align: top;\n",
       "    }\n",
       "\n",
       "    .dataframe thead th {\n",
       "        text-align: right;\n",
       "    }\n",
       "</style>\n",
       "<table border=\"1\" class=\"dataframe\">\n",
       "  <thead>\n",
       "    <tr style=\"text-align: right;\">\n",
       "      <th></th>\n",
       "      <th>id</th>\n",
       "      <th>height</th>\n",
       "      <th>weight</th>\n",
       "      <th>color</th>\n",
       "      <th>shape</th>\n",
       "      <th>is baby</th>\n",
       "      <th>type 1</th>\n",
       "      <th>type 2</th>\n",
       "      <th>hp</th>\n",
       "      <th>attack</th>\n",
       "      <th>defense</th>\n",
       "      <th>speed</th>\n",
       "    </tr>\n",
       "    <tr>\n",
       "      <th>name</th>\n",
       "      <th></th>\n",
       "      <th></th>\n",
       "      <th></th>\n",
       "      <th></th>\n",
       "      <th></th>\n",
       "      <th></th>\n",
       "      <th></th>\n",
       "      <th></th>\n",
       "      <th></th>\n",
       "      <th></th>\n",
       "      <th></th>\n",
       "      <th></th>\n",
       "    </tr>\n",
       "  </thead>\n",
       "  <tbody>\n",
       "    <tr>\n",
       "      <th>zorua</th>\n",
       "      <td>570</td>\n",
       "      <td>0.7</td>\n",
       "      <td>12.5</td>\n",
       "      <td>gray</td>\n",
       "      <td>quadruped</td>\n",
       "      <td>False</td>\n",
       "      <td>Dark</td>\n",
       "      <td>NaN</td>\n",
       "      <td>40</td>\n",
       "      <td>65</td>\n",
       "      <td>40</td>\n",
       "      <td>65</td>\n",
       "    </tr>\n",
       "    <tr>\n",
       "      <th>zubat</th>\n",
       "      <td>41</td>\n",
       "      <td>0.8</td>\n",
       "      <td>7.5</td>\n",
       "      <td>purple</td>\n",
       "      <td>wings</td>\n",
       "      <td>False</td>\n",
       "      <td>Poison</td>\n",
       "      <td>Flying</td>\n",
       "      <td>40</td>\n",
       "      <td>45</td>\n",
       "      <td>35</td>\n",
       "      <td>55</td>\n",
       "    </tr>\n",
       "  </tbody>\n",
       "</table>\n",
       "</div>"
      ],
      "text/plain": [
       "        id  height  weight   color      shape  is baby  type 1  type 2  hp  \\\n",
       "name                                                                         \n",
       "zorua  570     0.7    12.5    gray  quadruped    False    Dark     NaN  40   \n",
       "zubat   41     0.8     7.5  purple      wings    False  Poison  Flying  40   \n",
       "\n",
       "       attack  defense  speed  \n",
       "name                           \n",
       "zorua      65       40     65  \n",
       "zubat      45       35     55  "
      ]
     },
     "execution_count": 83,
     "metadata": {},
     "output_type": "execute_result"
    }
   ],
   "source": [
    "pokemons.loc[[\"zorua\", \"zubat\"]]"
   ]
  },
  {
   "cell_type": "markdown",
   "metadata": {},
   "source": [
    "Of course, approaches can (or not?) be combined, so you can select ranges and lists in rows and columns independently:"
   ]
  },
  {
   "cell_type": "code",
   "execution_count": 84,
   "metadata": {},
   "outputs": [
    {
     "data": {
      "text/html": [
       "<div>\n",
       "<style scoped>\n",
       "    .dataframe tbody tr th:only-of-type {\n",
       "        vertical-align: middle;\n",
       "    }\n",
       "\n",
       "    .dataframe tbody tr th {\n",
       "        vertical-align: top;\n",
       "    }\n",
       "\n",
       "    .dataframe thead th {\n",
       "        text-align: right;\n",
       "    }\n",
       "</style>\n",
       "<table border=\"1\" class=\"dataframe\">\n",
       "  <thead>\n",
       "    <tr style=\"text-align: right;\">\n",
       "      <th></th>\n",
       "      <th>color</th>\n",
       "      <th>attack</th>\n",
       "    </tr>\n",
       "    <tr>\n",
       "      <th>name</th>\n",
       "      <th></th>\n",
       "      <th></th>\n",
       "    </tr>\n",
       "  </thead>\n",
       "  <tbody>\n",
       "    <tr>\n",
       "      <th>jangmo-o</th>\n",
       "      <td>gray</td>\n",
       "      <td>55</td>\n",
       "    </tr>\n",
       "    <tr>\n",
       "      <th>jellicent</th>\n",
       "      <td>white</td>\n",
       "      <td>60</td>\n",
       "    </tr>\n",
       "    <tr>\n",
       "      <th>jigglypuff</th>\n",
       "      <td>pink</td>\n",
       "      <td>45</td>\n",
       "    </tr>\n",
       "    <tr>\n",
       "      <th>jirachi</th>\n",
       "      <td>yellow</td>\n",
       "      <td>100</td>\n",
       "    </tr>\n",
       "    <tr>\n",
       "      <th>jolteon</th>\n",
       "      <td>yellow</td>\n",
       "      <td>65</td>\n",
       "    </tr>\n",
       "    <tr>\n",
       "      <th>joltik</th>\n",
       "      <td>yellow</td>\n",
       "      <td>47</td>\n",
       "    </tr>\n",
       "    <tr>\n",
       "      <th>jumpluff</th>\n",
       "      <td>blue</td>\n",
       "      <td>55</td>\n",
       "    </tr>\n",
       "    <tr>\n",
       "      <th>jynx</th>\n",
       "      <td>red</td>\n",
       "      <td>50</td>\n",
       "    </tr>\n",
       "  </tbody>\n",
       "</table>\n",
       "</div>"
      ],
      "text/plain": [
       "             color  attack\n",
       "name                      \n",
       "jangmo-o      gray      55\n",
       "jellicent    white      60\n",
       "jigglypuff    pink      45\n",
       "jirachi     yellow     100\n",
       "jolteon     yellow      65\n",
       "joltik      yellow      47\n",
       "jumpluff      blue      55\n",
       "jynx           red      50"
      ]
     },
     "execution_count": 84,
     "metadata": {},
     "output_type": "execute_result"
    }
   ],
   "source": [
    "pokemons.loc[\"j\":\"k\", [\"color\", \"attack\"]] #The last minus one, for that reason no K names... "
   ]
  },
  {
   "cell_type": "markdown",
   "metadata": {},
   "source": [
    "**Task:** What color are (all) Pokemon whose name starts with \"z\"?"
   ]
  },
  {
   "cell_type": "code",
   "execution_count": 87,
   "metadata": {},
   "outputs": [
    {
     "data": {
      "text/plain": [
       "array(['white', 'yellow', 'black', 'brown', 'gray', 'purple', 'blue',\n",
       "       'green'], dtype=object)"
      ]
     },
     "execution_count": 87,
     "metadata": {},
     "output_type": "execute_result"
    }
   ],
   "source": [
    "pokemons.loc[\"z\":, \"color\"].unique()"
   ]
  },
  {
   "cell_type": "markdown",
   "metadata": {},
   "source": [
    "**Task:** How many pokemons exist with a name between the letters \"d\" a \"f\"?"
   ]
  },
  {
   "cell_type": "code",
   "execution_count": null,
   "metadata": {},
   "outputs": [],
   "source": []
  },
  {
   "cell_type": "markdown",
   "metadata": {},
   "source": [
    "**Task:** From the list of all pokemons, you select 5 with a name you like (avoid the first and last five). What type are they? Which is the highest and which is the heaviest?"
   ]
  },
  {
   "cell_type": "code",
   "execution_count": null,
   "metadata": {},
   "outputs": [],
   "source": []
  },
  {
   "cell_type": "markdown",
   "metadata": {},
   "source": [
    "### `.iloc []`\n",
    "If we want to forget for a moment what index is used for a table or column, we can access the elements directly through their order (row or column numbers). This is intuitive and corresponds to the indexing you are used to working with lists."
   ]
  },
  {
   "cell_type": "code",
   "execution_count": 88,
   "metadata": {},
   "outputs": [
    {
     "data": {
      "text/plain": [
       "id                15\n",
       "height           1.0\n",
       "weight          29.5\n",
       "color         yellow\n",
       "shape      bug-wings\n",
       "is baby        False\n",
       "type 1           Bug\n",
       "type 2        Poison\n",
       "hp                65\n",
       "attack            90\n",
       "defense           40\n",
       "speed             75\n",
       "Name: beedrill, dtype: object"
      ]
     },
     "execution_count": 88,
     "metadata": {},
     "output_type": "execute_result"
    }
   ],
   "source": [
    "pokemons.iloc[44]"
   ]
  },
  {
   "cell_type": "code",
   "execution_count": 89,
   "metadata": {},
   "outputs": [
    {
     "data": {
      "text/html": [
       "<div>\n",
       "<style scoped>\n",
       "    .dataframe tbody tr th:only-of-type {\n",
       "        vertical-align: middle;\n",
       "    }\n",
       "\n",
       "    .dataframe tbody tr th {\n",
       "        vertical-align: top;\n",
       "    }\n",
       "\n",
       "    .dataframe thead th {\n",
       "        text-align: right;\n",
       "    }\n",
       "</style>\n",
       "<table border=\"1\" class=\"dataframe\">\n",
       "  <thead>\n",
       "    <tr style=\"text-align: right;\">\n",
       "      <th></th>\n",
       "      <th>id</th>\n",
       "      <th>height</th>\n",
       "      <th>weight</th>\n",
       "      <th>color</th>\n",
       "      <th>shape</th>\n",
       "      <th>is baby</th>\n",
       "      <th>type 1</th>\n",
       "      <th>type 2</th>\n",
       "      <th>hp</th>\n",
       "      <th>attack</th>\n",
       "      <th>defense</th>\n",
       "      <th>speed</th>\n",
       "    </tr>\n",
       "    <tr>\n",
       "      <th>name</th>\n",
       "      <th></th>\n",
       "      <th></th>\n",
       "      <th></th>\n",
       "      <th></th>\n",
       "      <th></th>\n",
       "      <th></th>\n",
       "      <th></th>\n",
       "      <th></th>\n",
       "      <th></th>\n",
       "      <th></th>\n",
       "      <th></th>\n",
       "      <th></th>\n",
       "    </tr>\n",
       "  </thead>\n",
       "  <tbody>\n",
       "    <tr>\n",
       "      <th>zapdos</th>\n",
       "      <td>145</td>\n",
       "      <td>1.6</td>\n",
       "      <td>52.6</td>\n",
       "      <td>yellow</td>\n",
       "      <td>wings</td>\n",
       "      <td>False</td>\n",
       "      <td>Electric</td>\n",
       "      <td>Flying</td>\n",
       "      <td>90</td>\n",
       "      <td>90</td>\n",
       "      <td>85</td>\n",
       "      <td>100</td>\n",
       "    </tr>\n",
       "    <tr>\n",
       "      <th>zebstrika</th>\n",
       "      <td>523</td>\n",
       "      <td>1.6</td>\n",
       "      <td>79.5</td>\n",
       "      <td>black</td>\n",
       "      <td>quadruped</td>\n",
       "      <td>False</td>\n",
       "      <td>Electric</td>\n",
       "      <td>NaN</td>\n",
       "      <td>75</td>\n",
       "      <td>100</td>\n",
       "      <td>63</td>\n",
       "      <td>116</td>\n",
       "    </tr>\n",
       "    <tr>\n",
       "      <th>zekrom</th>\n",
       "      <td>644</td>\n",
       "      <td>2.9</td>\n",
       "      <td>345.0</td>\n",
       "      <td>black</td>\n",
       "      <td>upright</td>\n",
       "      <td>False</td>\n",
       "      <td>Dragon</td>\n",
       "      <td>Electric</td>\n",
       "      <td>100</td>\n",
       "      <td>150</td>\n",
       "      <td>120</td>\n",
       "      <td>90</td>\n",
       "    </tr>\n",
       "    <tr>\n",
       "      <th>zeraora</th>\n",
       "      <td>807</td>\n",
       "      <td>1.5</td>\n",
       "      <td>44.5</td>\n",
       "      <td>yellow</td>\n",
       "      <td>humanoid</td>\n",
       "      <td>False</td>\n",
       "      <td>Electric</td>\n",
       "      <td>NaN</td>\n",
       "      <td>88</td>\n",
       "      <td>112</td>\n",
       "      <td>75</td>\n",
       "      <td>143</td>\n",
       "    </tr>\n",
       "    <tr>\n",
       "      <th>zigzagoon</th>\n",
       "      <td>263</td>\n",
       "      <td>0.4</td>\n",
       "      <td>17.5</td>\n",
       "      <td>brown</td>\n",
       "      <td>quadruped</td>\n",
       "      <td>False</td>\n",
       "      <td>Normal</td>\n",
       "      <td>NaN</td>\n",
       "      <td>38</td>\n",
       "      <td>30</td>\n",
       "      <td>41</td>\n",
       "      <td>60</td>\n",
       "    </tr>\n",
       "    <tr>\n",
       "      <th>zoroark</th>\n",
       "      <td>571</td>\n",
       "      <td>1.6</td>\n",
       "      <td>81.1</td>\n",
       "      <td>gray</td>\n",
       "      <td>upright</td>\n",
       "      <td>False</td>\n",
       "      <td>Dark</td>\n",
       "      <td>NaN</td>\n",
       "      <td>60</td>\n",
       "      <td>105</td>\n",
       "      <td>60</td>\n",
       "      <td>105</td>\n",
       "    </tr>\n",
       "    <tr>\n",
       "      <th>zorua</th>\n",
       "      <td>570</td>\n",
       "      <td>0.7</td>\n",
       "      <td>12.5</td>\n",
       "      <td>gray</td>\n",
       "      <td>quadruped</td>\n",
       "      <td>False</td>\n",
       "      <td>Dark</td>\n",
       "      <td>NaN</td>\n",
       "      <td>40</td>\n",
       "      <td>65</td>\n",
       "      <td>40</td>\n",
       "      <td>65</td>\n",
       "    </tr>\n",
       "    <tr>\n",
       "      <th>zubat</th>\n",
       "      <td>41</td>\n",
       "      <td>0.8</td>\n",
       "      <td>7.5</td>\n",
       "      <td>purple</td>\n",
       "      <td>wings</td>\n",
       "      <td>False</td>\n",
       "      <td>Poison</td>\n",
       "      <td>Flying</td>\n",
       "      <td>40</td>\n",
       "      <td>45</td>\n",
       "      <td>35</td>\n",
       "      <td>55</td>\n",
       "    </tr>\n",
       "    <tr>\n",
       "      <th>zweilous</th>\n",
       "      <td>634</td>\n",
       "      <td>1.4</td>\n",
       "      <td>50.0</td>\n",
       "      <td>blue</td>\n",
       "      <td>quadruped</td>\n",
       "      <td>False</td>\n",
       "      <td>Dark</td>\n",
       "      <td>Dragon</td>\n",
       "      <td>72</td>\n",
       "      <td>85</td>\n",
       "      <td>70</td>\n",
       "      <td>58</td>\n",
       "    </tr>\n",
       "    <tr>\n",
       "      <th>zygarde</th>\n",
       "      <td>718</td>\n",
       "      <td>5.0</td>\n",
       "      <td>305.0</td>\n",
       "      <td>green</td>\n",
       "      <td>squiggle</td>\n",
       "      <td>False</td>\n",
       "      <td>Dragon</td>\n",
       "      <td>Ground</td>\n",
       "      <td>108</td>\n",
       "      <td>100</td>\n",
       "      <td>121</td>\n",
       "      <td>95</td>\n",
       "    </tr>\n",
       "  </tbody>\n",
       "</table>\n",
       "</div>"
      ],
      "text/plain": [
       "            id  height  weight   color      shape  is baby    type 1  \\\n",
       "name                                                                   \n",
       "zapdos     145     1.6    52.6  yellow      wings    False  Electric   \n",
       "zebstrika  523     1.6    79.5   black  quadruped    False  Electric   \n",
       "zekrom     644     2.9   345.0   black    upright    False    Dragon   \n",
       "zeraora    807     1.5    44.5  yellow   humanoid    False  Electric   \n",
       "zigzagoon  263     0.4    17.5   brown  quadruped    False    Normal   \n",
       "zoroark    571     1.6    81.1    gray    upright    False      Dark   \n",
       "zorua      570     0.7    12.5    gray  quadruped    False      Dark   \n",
       "zubat       41     0.8     7.5  purple      wings    False    Poison   \n",
       "zweilous   634     1.4    50.0    blue  quadruped    False      Dark   \n",
       "zygarde    718     5.0   305.0   green   squiggle    False    Dragon   \n",
       "\n",
       "             type 2   hp  attack  defense  speed  \n",
       "name                                              \n",
       "zapdos       Flying   90      90       85    100  \n",
       "zebstrika       NaN   75     100       63    116  \n",
       "zekrom     Electric  100     150      120     90  \n",
       "zeraora         NaN   88     112       75    143  \n",
       "zigzagoon       NaN   38      30       41     60  \n",
       "zoroark         NaN   60     105       60    105  \n",
       "zorua           NaN   40      65       40     65  \n",
       "zubat        Flying   40      45       35     55  \n",
       "zweilous     Dragon   72      85       70     58  \n",
       "zygarde      Ground  108     100      121     95  "
      ]
     },
     "execution_count": 89,
     "metadata": {},
     "output_type": "execute_result"
    }
   ],
   "source": [
    "pokemons.iloc[-10:]"
   ]
  },
  {
   "cell_type": "markdown",
   "metadata": {},
   "source": [
    "Here, too, it is possible to combine. So when someone asks you for a value that is &quot;bottom left&quot;, you can try:"
   ]
  },
  {
   "cell_type": "code",
   "execution_count": 94,
   "metadata": {},
   "outputs": [
    {
     "data": {
      "text/plain": [
       "718"
      ]
     },
     "execution_count": 94,
     "metadata": {},
     "output_type": "execute_result"
    }
   ],
   "source": [
    "pokemons.iloc[-1, 0]"
   ]
  },
  {
   "cell_type": "markdown",
   "metadata": {},
   "source": [
    "Finally, just for completeness, let's introduce three convenient functions that select the first, last or random rows from the table (all three have an optional parameter specifying the number of rows wanted):"
   ]
  },
  {
   "cell_type": "code",
   "execution_count": 95,
   "metadata": {},
   "outputs": [
    {
     "data": {
      "text/html": [
       "<div>\n",
       "<style scoped>\n",
       "    .dataframe tbody tr th:only-of-type {\n",
       "        vertical-align: middle;\n",
       "    }\n",
       "\n",
       "    .dataframe tbody tr th {\n",
       "        vertical-align: top;\n",
       "    }\n",
       "\n",
       "    .dataframe thead th {\n",
       "        text-align: right;\n",
       "    }\n",
       "</style>\n",
       "<table border=\"1\" class=\"dataframe\">\n",
       "  <thead>\n",
       "    <tr style=\"text-align: right;\">\n",
       "      <th></th>\n",
       "      <th>id</th>\n",
       "      <th>height</th>\n",
       "      <th>weight</th>\n",
       "      <th>color</th>\n",
       "      <th>shape</th>\n",
       "      <th>is baby</th>\n",
       "      <th>type 1</th>\n",
       "      <th>type 2</th>\n",
       "      <th>hp</th>\n",
       "      <th>attack</th>\n",
       "      <th>defense</th>\n",
       "      <th>speed</th>\n",
       "    </tr>\n",
       "    <tr>\n",
       "      <th>name</th>\n",
       "      <th></th>\n",
       "      <th></th>\n",
       "      <th></th>\n",
       "      <th></th>\n",
       "      <th></th>\n",
       "      <th></th>\n",
       "      <th></th>\n",
       "      <th></th>\n",
       "      <th></th>\n",
       "      <th></th>\n",
       "      <th></th>\n",
       "      <th></th>\n",
       "    </tr>\n",
       "  </thead>\n",
       "  <tbody>\n",
       "    <tr>\n",
       "      <th>abomasnow</th>\n",
       "      <td>460</td>\n",
       "      <td>2.2</td>\n",
       "      <td>135.5</td>\n",
       "      <td>white</td>\n",
       "      <td>upright</td>\n",
       "      <td>False</td>\n",
       "      <td>Grass</td>\n",
       "      <td>Ice</td>\n",
       "      <td>90</td>\n",
       "      <td>92</td>\n",
       "      <td>75</td>\n",
       "      <td>60</td>\n",
       "    </tr>\n",
       "    <tr>\n",
       "      <th>abra</th>\n",
       "      <td>63</td>\n",
       "      <td>0.9</td>\n",
       "      <td>19.5</td>\n",
       "      <td>brown</td>\n",
       "      <td>upright</td>\n",
       "      <td>False</td>\n",
       "      <td>Psychic</td>\n",
       "      <td>NaN</td>\n",
       "      <td>25</td>\n",
       "      <td>20</td>\n",
       "      <td>15</td>\n",
       "      <td>90</td>\n",
       "    </tr>\n",
       "    <tr>\n",
       "      <th>absol</th>\n",
       "      <td>359</td>\n",
       "      <td>1.2</td>\n",
       "      <td>47.0</td>\n",
       "      <td>white</td>\n",
       "      <td>quadruped</td>\n",
       "      <td>False</td>\n",
       "      <td>Dark</td>\n",
       "      <td>NaN</td>\n",
       "      <td>65</td>\n",
       "      <td>130</td>\n",
       "      <td>60</td>\n",
       "      <td>75</td>\n",
       "    </tr>\n",
       "    <tr>\n",
       "      <th>accelgor</th>\n",
       "      <td>617</td>\n",
       "      <td>0.8</td>\n",
       "      <td>25.3</td>\n",
       "      <td>red</td>\n",
       "      <td>arms</td>\n",
       "      <td>False</td>\n",
       "      <td>Bug</td>\n",
       "      <td>NaN</td>\n",
       "      <td>80</td>\n",
       "      <td>70</td>\n",
       "      <td>40</td>\n",
       "      <td>145</td>\n",
       "    </tr>\n",
       "    <tr>\n",
       "      <th>aegislash</th>\n",
       "      <td>681</td>\n",
       "      <td>1.7</td>\n",
       "      <td>53.0</td>\n",
       "      <td>brown</td>\n",
       "      <td>blob</td>\n",
       "      <td>False</td>\n",
       "      <td>Steel</td>\n",
       "      <td>Ghost</td>\n",
       "      <td>60</td>\n",
       "      <td>50</td>\n",
       "      <td>150</td>\n",
       "      <td>60</td>\n",
       "    </tr>\n",
       "  </tbody>\n",
       "</table>\n",
       "</div>"
      ],
      "text/plain": [
       "            id  height  weight  color      shape  is baby   type 1 type 2  hp  \\\n",
       "name                                                                            \n",
       "abomasnow  460     2.2   135.5  white    upright    False    Grass    Ice  90   \n",
       "abra        63     0.9    19.5  brown    upright    False  Psychic    NaN  25   \n",
       "absol      359     1.2    47.0  white  quadruped    False     Dark    NaN  65   \n",
       "accelgor   617     0.8    25.3    red       arms    False      Bug    NaN  80   \n",
       "aegislash  681     1.7    53.0  brown       blob    False    Steel  Ghost  60   \n",
       "\n",
       "           attack  defense  speed  \n",
       "name                               \n",
       "abomasnow      92       75     60  \n",
       "abra           20       15     90  \n",
       "absol         130       60     75  \n",
       "accelgor       70       40    145  \n",
       "aegislash      50      150     60  "
      ]
     },
     "execution_count": 95,
     "metadata": {},
     "output_type": "execute_result"
    }
   ],
   "source": [
    "pokemons.head() # The first few lines"
   ]
  },
  {
   "cell_type": "code",
   "execution_count": 96,
   "metadata": {},
   "outputs": [
    {
     "data": {
      "text/html": [
       "<div>\n",
       "<style scoped>\n",
       "    .dataframe tbody tr th:only-of-type {\n",
       "        vertical-align: middle;\n",
       "    }\n",
       "\n",
       "    .dataframe tbody tr th {\n",
       "        vertical-align: top;\n",
       "    }\n",
       "\n",
       "    .dataframe thead th {\n",
       "        text-align: right;\n",
       "    }\n",
       "</style>\n",
       "<table border=\"1\" class=\"dataframe\">\n",
       "  <thead>\n",
       "    <tr style=\"text-align: right;\">\n",
       "      <th></th>\n",
       "      <th>id</th>\n",
       "      <th>height</th>\n",
       "      <th>weight</th>\n",
       "      <th>color</th>\n",
       "      <th>shape</th>\n",
       "      <th>is baby</th>\n",
       "      <th>type 1</th>\n",
       "      <th>type 2</th>\n",
       "      <th>hp</th>\n",
       "      <th>attack</th>\n",
       "      <th>defense</th>\n",
       "      <th>speed</th>\n",
       "    </tr>\n",
       "    <tr>\n",
       "      <th>name</th>\n",
       "      <th></th>\n",
       "      <th></th>\n",
       "      <th></th>\n",
       "      <th></th>\n",
       "      <th></th>\n",
       "      <th></th>\n",
       "      <th></th>\n",
       "      <th></th>\n",
       "      <th></th>\n",
       "      <th></th>\n",
       "      <th></th>\n",
       "      <th></th>\n",
       "    </tr>\n",
       "  </thead>\n",
       "  <tbody>\n",
       "    <tr>\n",
       "      <th>zoroark</th>\n",
       "      <td>571</td>\n",
       "      <td>1.6</td>\n",
       "      <td>81.1</td>\n",
       "      <td>gray</td>\n",
       "      <td>upright</td>\n",
       "      <td>False</td>\n",
       "      <td>Dark</td>\n",
       "      <td>NaN</td>\n",
       "      <td>60</td>\n",
       "      <td>105</td>\n",
       "      <td>60</td>\n",
       "      <td>105</td>\n",
       "    </tr>\n",
       "    <tr>\n",
       "      <th>zorua</th>\n",
       "      <td>570</td>\n",
       "      <td>0.7</td>\n",
       "      <td>12.5</td>\n",
       "      <td>gray</td>\n",
       "      <td>quadruped</td>\n",
       "      <td>False</td>\n",
       "      <td>Dark</td>\n",
       "      <td>NaN</td>\n",
       "      <td>40</td>\n",
       "      <td>65</td>\n",
       "      <td>40</td>\n",
       "      <td>65</td>\n",
       "    </tr>\n",
       "    <tr>\n",
       "      <th>zubat</th>\n",
       "      <td>41</td>\n",
       "      <td>0.8</td>\n",
       "      <td>7.5</td>\n",
       "      <td>purple</td>\n",
       "      <td>wings</td>\n",
       "      <td>False</td>\n",
       "      <td>Poison</td>\n",
       "      <td>Flying</td>\n",
       "      <td>40</td>\n",
       "      <td>45</td>\n",
       "      <td>35</td>\n",
       "      <td>55</td>\n",
       "    </tr>\n",
       "    <tr>\n",
       "      <th>zweilous</th>\n",
       "      <td>634</td>\n",
       "      <td>1.4</td>\n",
       "      <td>50.0</td>\n",
       "      <td>blue</td>\n",
       "      <td>quadruped</td>\n",
       "      <td>False</td>\n",
       "      <td>Dark</td>\n",
       "      <td>Dragon</td>\n",
       "      <td>72</td>\n",
       "      <td>85</td>\n",
       "      <td>70</td>\n",
       "      <td>58</td>\n",
       "    </tr>\n",
       "    <tr>\n",
       "      <th>zygarde</th>\n",
       "      <td>718</td>\n",
       "      <td>5.0</td>\n",
       "      <td>305.0</td>\n",
       "      <td>green</td>\n",
       "      <td>squiggle</td>\n",
       "      <td>False</td>\n",
       "      <td>Dragon</td>\n",
       "      <td>Ground</td>\n",
       "      <td>108</td>\n",
       "      <td>100</td>\n",
       "      <td>121</td>\n",
       "      <td>95</td>\n",
       "    </tr>\n",
       "  </tbody>\n",
       "</table>\n",
       "</div>"
      ],
      "text/plain": [
       "           id  height  weight   color      shape  is baby  type 1  type 2  \\\n",
       "name                                                                        \n",
       "zoroark   571     1.6    81.1    gray    upright    False    Dark     NaN   \n",
       "zorua     570     0.7    12.5    gray  quadruped    False    Dark     NaN   \n",
       "zubat      41     0.8     7.5  purple      wings    False  Poison  Flying   \n",
       "zweilous  634     1.4    50.0    blue  quadruped    False    Dark  Dragon   \n",
       "zygarde   718     5.0   305.0   green   squiggle    False  Dragon  Ground   \n",
       "\n",
       "           hp  attack  defense  speed  \n",
       "name                                   \n",
       "zoroark    60     105       60    105  \n",
       "zorua      40      65       40     65  \n",
       "zubat      40      45       35     55  \n",
       "zweilous   72      85       70     58  \n",
       "zygarde   108     100      121     95  "
      ]
     },
     "execution_count": 96,
     "metadata": {},
     "output_type": "execute_result"
    }
   ],
   "source": [
    "pokemons.tail () # Last few lines"
   ]
  },
  {
   "cell_type": "code",
   "execution_count": null,
   "metadata": {},
   "outputs": [],
   "source": []
  },
  {
   "cell_type": "markdown",
   "metadata": {},
   "source": [
    "**Task:** Can you write an equivalent of the `.tail()` function using indexing?"
   ]
  },
  {
   "cell_type": "code",
   "execution_count": 98,
   "metadata": {},
   "outputs": [
    {
     "data": {
      "text/html": [
       "<div>\n",
       "<style scoped>\n",
       "    .dataframe tbody tr th:only-of-type {\n",
       "        vertical-align: middle;\n",
       "    }\n",
       "\n",
       "    .dataframe tbody tr th {\n",
       "        vertical-align: top;\n",
       "    }\n",
       "\n",
       "    .dataframe thead th {\n",
       "        text-align: right;\n",
       "    }\n",
       "</style>\n",
       "<table border=\"1\" class=\"dataframe\">\n",
       "  <thead>\n",
       "    <tr style=\"text-align: right;\">\n",
       "      <th></th>\n",
       "      <th>id</th>\n",
       "      <th>height</th>\n",
       "      <th>weight</th>\n",
       "      <th>color</th>\n",
       "      <th>shape</th>\n",
       "      <th>is baby</th>\n",
       "      <th>type 1</th>\n",
       "      <th>type 2</th>\n",
       "      <th>hp</th>\n",
       "      <th>attack</th>\n",
       "      <th>defense</th>\n",
       "      <th>speed</th>\n",
       "    </tr>\n",
       "    <tr>\n",
       "      <th>name</th>\n",
       "      <th></th>\n",
       "      <th></th>\n",
       "      <th></th>\n",
       "      <th></th>\n",
       "      <th></th>\n",
       "      <th></th>\n",
       "      <th></th>\n",
       "      <th></th>\n",
       "      <th></th>\n",
       "      <th></th>\n",
       "      <th></th>\n",
       "      <th></th>\n",
       "    </tr>\n",
       "  </thead>\n",
       "  <tbody>\n",
       "    <tr>\n",
       "      <th>zoroark</th>\n",
       "      <td>571</td>\n",
       "      <td>1.6</td>\n",
       "      <td>81.1</td>\n",
       "      <td>gray</td>\n",
       "      <td>upright</td>\n",
       "      <td>False</td>\n",
       "      <td>Dark</td>\n",
       "      <td>NaN</td>\n",
       "      <td>60</td>\n",
       "      <td>105</td>\n",
       "      <td>60</td>\n",
       "      <td>105</td>\n",
       "    </tr>\n",
       "    <tr>\n",
       "      <th>zorua</th>\n",
       "      <td>570</td>\n",
       "      <td>0.7</td>\n",
       "      <td>12.5</td>\n",
       "      <td>gray</td>\n",
       "      <td>quadruped</td>\n",
       "      <td>False</td>\n",
       "      <td>Dark</td>\n",
       "      <td>NaN</td>\n",
       "      <td>40</td>\n",
       "      <td>65</td>\n",
       "      <td>40</td>\n",
       "      <td>65</td>\n",
       "    </tr>\n",
       "    <tr>\n",
       "      <th>zubat</th>\n",
       "      <td>41</td>\n",
       "      <td>0.8</td>\n",
       "      <td>7.5</td>\n",
       "      <td>purple</td>\n",
       "      <td>wings</td>\n",
       "      <td>False</td>\n",
       "      <td>Poison</td>\n",
       "      <td>Flying</td>\n",
       "      <td>40</td>\n",
       "      <td>45</td>\n",
       "      <td>35</td>\n",
       "      <td>55</td>\n",
       "    </tr>\n",
       "    <tr>\n",
       "      <th>zweilous</th>\n",
       "      <td>634</td>\n",
       "      <td>1.4</td>\n",
       "      <td>50.0</td>\n",
       "      <td>blue</td>\n",
       "      <td>quadruped</td>\n",
       "      <td>False</td>\n",
       "      <td>Dark</td>\n",
       "      <td>Dragon</td>\n",
       "      <td>72</td>\n",
       "      <td>85</td>\n",
       "      <td>70</td>\n",
       "      <td>58</td>\n",
       "    </tr>\n",
       "    <tr>\n",
       "      <th>zygarde</th>\n",
       "      <td>718</td>\n",
       "      <td>5.0</td>\n",
       "      <td>305.0</td>\n",
       "      <td>green</td>\n",
       "      <td>squiggle</td>\n",
       "      <td>False</td>\n",
       "      <td>Dragon</td>\n",
       "      <td>Ground</td>\n",
       "      <td>108</td>\n",
       "      <td>100</td>\n",
       "      <td>121</td>\n",
       "      <td>95</td>\n",
       "    </tr>\n",
       "  </tbody>\n",
       "</table>\n",
       "</div>"
      ],
      "text/plain": [
       "           id  height  weight   color      shape  is baby  type 1  type 2  \\\n",
       "name                                                                        \n",
       "zoroark   571     1.6    81.1    gray    upright    False    Dark     NaN   \n",
       "zorua     570     0.7    12.5    gray  quadruped    False    Dark     NaN   \n",
       "zubat      41     0.8     7.5  purple      wings    False  Poison  Flying   \n",
       "zweilous  634     1.4    50.0    blue  quadruped    False    Dark  Dragon   \n",
       "zygarde   718     5.0   305.0   green   squiggle    False  Dragon  Ground   \n",
       "\n",
       "           hp  attack  defense  speed  \n",
       "name                                   \n",
       "zoroark    60     105       60    105  \n",
       "zorua      40      65       40     65  \n",
       "zubat      40      45       35     55  \n",
       "zweilous   72      85       70     58  \n",
       "zygarde   108     100      121     95  "
      ]
     },
     "execution_count": 98,
     "metadata": {},
     "output_type": "execute_result"
    }
   ],
   "source": [
    "pokemons.iloc[-5:]"
   ]
  },
  {
   "cell_type": "code",
   "execution_count": 100,
   "metadata": {},
   "outputs": [
    {
     "data": {
      "text/html": [
       "<div>\n",
       "<style scoped>\n",
       "    .dataframe tbody tr th:only-of-type {\n",
       "        vertical-align: middle;\n",
       "    }\n",
       "\n",
       "    .dataframe tbody tr th {\n",
       "        vertical-align: top;\n",
       "    }\n",
       "\n",
       "    .dataframe thead th {\n",
       "        text-align: right;\n",
       "    }\n",
       "</style>\n",
       "<table border=\"1\" class=\"dataframe\">\n",
       "  <thead>\n",
       "    <tr style=\"text-align: right;\">\n",
       "      <th></th>\n",
       "      <th>id</th>\n",
       "      <th>height</th>\n",
       "      <th>weight</th>\n",
       "      <th>color</th>\n",
       "      <th>shape</th>\n",
       "      <th>is baby</th>\n",
       "      <th>type 1</th>\n",
       "      <th>type 2</th>\n",
       "      <th>hp</th>\n",
       "      <th>attack</th>\n",
       "      <th>defense</th>\n",
       "      <th>speed</th>\n",
       "    </tr>\n",
       "    <tr>\n",
       "      <th>name</th>\n",
       "      <th></th>\n",
       "      <th></th>\n",
       "      <th></th>\n",
       "      <th></th>\n",
       "      <th></th>\n",
       "      <th></th>\n",
       "      <th></th>\n",
       "      <th></th>\n",
       "      <th></th>\n",
       "      <th></th>\n",
       "      <th></th>\n",
       "      <th></th>\n",
       "    </tr>\n",
       "  </thead>\n",
       "  <tbody>\n",
       "    <tr>\n",
       "      <th>drapion</th>\n",
       "      <td>452</td>\n",
       "      <td>1.3</td>\n",
       "      <td>61.5</td>\n",
       "      <td>purple</td>\n",
       "      <td>armor</td>\n",
       "      <td>False</td>\n",
       "      <td>Poison</td>\n",
       "      <td>Dark</td>\n",
       "      <td>70</td>\n",
       "      <td>90</td>\n",
       "      <td>110</td>\n",
       "      <td>95</td>\n",
       "    </tr>\n",
       "    <tr>\n",
       "      <th>type-null</th>\n",
       "      <td>772</td>\n",
       "      <td>1.9</td>\n",
       "      <td>120.5</td>\n",
       "      <td>gray</td>\n",
       "      <td>quadruped</td>\n",
       "      <td>False</td>\n",
       "      <td>Normal</td>\n",
       "      <td>NaN</td>\n",
       "      <td>95</td>\n",
       "      <td>95</td>\n",
       "      <td>95</td>\n",
       "      <td>59</td>\n",
       "    </tr>\n",
       "    <tr>\n",
       "      <th>scraggy</th>\n",
       "      <td>559</td>\n",
       "      <td>0.6</td>\n",
       "      <td>11.8</td>\n",
       "      <td>yellow</td>\n",
       "      <td>upright</td>\n",
       "      <td>False</td>\n",
       "      <td>Dark</td>\n",
       "      <td>Fighting</td>\n",
       "      <td>50</td>\n",
       "      <td>75</td>\n",
       "      <td>70</td>\n",
       "      <td>48</td>\n",
       "    </tr>\n",
       "    <tr>\n",
       "      <th>magmortar</th>\n",
       "      <td>467</td>\n",
       "      <td>1.6</td>\n",
       "      <td>68.0</td>\n",
       "      <td>red</td>\n",
       "      <td>upright</td>\n",
       "      <td>False</td>\n",
       "      <td>Fire</td>\n",
       "      <td>NaN</td>\n",
       "      <td>75</td>\n",
       "      <td>95</td>\n",
       "      <td>67</td>\n",
       "      <td>83</td>\n",
       "    </tr>\n",
       "    <tr>\n",
       "      <th>machop</th>\n",
       "      <td>66</td>\n",
       "      <td>0.8</td>\n",
       "      <td>19.5</td>\n",
       "      <td>gray</td>\n",
       "      <td>upright</td>\n",
       "      <td>False</td>\n",
       "      <td>Fighting</td>\n",
       "      <td>NaN</td>\n",
       "      <td>70</td>\n",
       "      <td>80</td>\n",
       "      <td>50</td>\n",
       "      <td>35</td>\n",
       "    </tr>\n",
       "  </tbody>\n",
       "</table>\n",
       "</div>"
      ],
      "text/plain": [
       "            id  height  weight   color      shape  is baby    type 1  \\\n",
       "name                                                                   \n",
       "drapion    452     1.3    61.5  purple      armor    False    Poison   \n",
       "type-null  772     1.9   120.5    gray  quadruped    False    Normal   \n",
       "scraggy    559     0.6    11.8  yellow    upright    False      Dark   \n",
       "magmortar  467     1.6    68.0     red    upright    False      Fire   \n",
       "machop      66     0.8    19.5    gray    upright    False  Fighting   \n",
       "\n",
       "             type 2  hp  attack  defense  speed  \n",
       "name                                             \n",
       "drapion        Dark  70      90      110     95  \n",
       "type-null       NaN  95      95       95     59  \n",
       "scraggy    Fighting  50      75       70     48  \n",
       "magmortar       NaN  75      95       67     83  \n",
       "machop          NaN  70      80       50     35  "
      ]
     },
     "execution_count": 100,
     "metadata": {},
     "output_type": "execute_result"
    }
   ],
   "source": [
    "pokemons.sample(5) # Random line"
   ]
  },
  {
   "cell_type": "markdown",
   "metadata": {},
   "source": [
    "**Task (bonus):** Can you write an equivalent to the `sample()` function using indexing (and the `random` module)?"
   ]
  },
  {
   "cell_type": "code",
   "execution_count": null,
   "metadata": {},
   "outputs": [],
   "source": []
  },
  {
   "cell_type": "markdown",
   "metadata": {},
   "source": [
    "## Summary\n",
    "In this lesson, we have shown three basic datatypes from `pandas` library:    \n",
    "* `Series` as a one-dimensional object containing values of the same type\n",
    "* `DataFrame` as a two-dimensional table composed of several `Series`\n",
    "* `Index` as a generalized description of how to access `Series` or `DataFrame` elements\n",
    "\n",
    "In addition, we learned to select columns, rows, and individual values from tables.\n",
    "In the next lesson we will show what data types (more precisely `dtypes`) can be used in `pandas`, we will start counting and imitating the functions of spreadsheets."
   ]
  },
  {
   "cell_type": "markdown",
   "metadata": {},
   "source": [
    "## Exercises\n",
    "\n",
    "The local zoo is considering investing in a new pavilion dedicated to Pokemons. \n",
    "But the zoo's director, Mr. Felix, is not sure if this investment would pay off and what it would all mean for the zoo. Someone advised him to invite you to help (we are not to blame, we swear - authors of the course). The director has compiled a list of questions he would like to know the answer to.\n",
    "\n",
    "0. (reload data from `pokemon.csv` file)\n",
    "1. For how many new animals would the zoo need food? The director would like one male and one female of each species (name).\n",
    "2. The marketing department is going to create new leaflets about Pokemons for zoo visitors. All Pokemons would need information about their height, weight, length, color and type. Is all the information available?\n",
    "3. The zoo considers it ideal for Pokemon to be delivered gradually, in groups of eight, as listed in the `pokemon.csv` table. Which Pokemon would be in the first, second, and last group?\n",
    "4. The operation of the zoo also drew attention to the special conditions necessary for the 3 highest Pokemons. In the table `pokemon.csv` they are in positions 207, 320 and 796, but no one remembers which Pokemons it was. What are their names?\n",
    "5. The director loves Onix. He would like to build a special enclosure for him - for the Rock Pokemons at speeds above 50. Would Onix like it there?\n",
    "6. The Director would also like to create a section for all Pokemons starting with \"i\". But dark Pokemon cannot be with normal, fiery with water or grass, and electric with psychic. Will it be possible to create this section? (tip: to display all Pokemons on \"i\" you will need to have the index sorted alphabetically)"
   ]
  },
  {
   "cell_type": "code",
   "execution_count": null,
   "metadata": {},
   "outputs": [],
   "source": []
  }
 ],
 "metadata": {
  "kernel_info": {
   "name": "python3"
  },
  "kernelspec": {
   "display_name": "Python 3 (ipykernel)",
   "language": "python",
   "name": "python3"
  },
  "language_info": {
   "codemirror_mode": {
    "name": "ipython",
    "version": 3
   },
   "file_extension": ".py",
   "mimetype": "text/x-python",
   "name": "python",
   "nbconvert_exporter": "python",
   "pygments_lexer": "ipython3",
   "version": "3.7.12"
  },
  "nteract": {
   "version": "0.15.0"
  }
 },
 "nbformat": 4,
 "nbformat_minor": 4
}
