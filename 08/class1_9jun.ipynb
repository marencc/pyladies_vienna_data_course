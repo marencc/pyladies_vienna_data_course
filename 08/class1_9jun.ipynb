{
 "cells": [
  {
   "cell_type": "markdown",
   "metadata": {},
   "source": [
    "# Classification\n",
    "\n",
    "So far, we have only dealt with regression problems. However, supervised learning involves two main groups of tasks - regression tasks and classification tasks.\n",
    "\n",
    "While for regression problems the output of the model is a continuous value (float or integer), in classification tasks, the output of the model is a class indicator/group in which the object belongs.\n",
    "\n",
    "We will start with a small dataset with fish to not spend much time on data cleaning and preprocessing.\n",
    "\n",
    "If we want to predict the species of fish (Perch - *perch*, Roach - *roach*, Pike - *pike*, ...), it is a prediction of a categorical value, ie. a classification.\n",
    "\n",
    "Classification problems have slightly different properties and logic than regression problems, so there are models directly designed for such problems. They are called classifiers.\n",
    "But first we will try to look at the task of classification from the perspective of data."
   ]
  },
  {
   "cell_type": "markdown",
   "metadata": {},
   "source": [
    "![data](static\\ryby.png)"
   ]
  },
  {
   "cell_type": "code",
   "execution_count": 1,
   "metadata": {},
   "outputs": [
    {
     "data": {
      "text/html": [
       "<div>\n",
       "<style scoped>\n",
       "    .dataframe tbody tr th:only-of-type {\n",
       "        vertical-align: middle;\n",
       "    }\n",
       "\n",
       "    .dataframe tbody tr th {\n",
       "        vertical-align: top;\n",
       "    }\n",
       "\n",
       "    .dataframe thead th {\n",
       "        text-align: right;\n",
       "    }\n",
       "</style>\n",
       "<table border=\"1\" class=\"dataframe\">\n",
       "  <thead>\n",
       "    <tr style=\"text-align: right;\">\n",
       "      <th></th>\n",
       "      <th>Species</th>\n",
       "      <th>Weight</th>\n",
       "      <th>Length1</th>\n",
       "      <th>Length2</th>\n",
       "      <th>Length3</th>\n",
       "      <th>Height</th>\n",
       "      <th>Width</th>\n",
       "      <th>ID</th>\n",
       "    </tr>\n",
       "  </thead>\n",
       "  <tbody>\n",
       "    <tr>\n",
       "      <th>0</th>\n",
       "      <td>Bream</td>\n",
       "      <td>242.0</td>\n",
       "      <td>23.2</td>\n",
       "      <td>25.4</td>\n",
       "      <td>30.0</td>\n",
       "      <td>11.5200</td>\n",
       "      <td>4.0200</td>\n",
       "      <td>0</td>\n",
       "    </tr>\n",
       "    <tr>\n",
       "      <th>1</th>\n",
       "      <td>Bream</td>\n",
       "      <td>290.0</td>\n",
       "      <td>24.0</td>\n",
       "      <td>26.3</td>\n",
       "      <td>31.2</td>\n",
       "      <td>12.4800</td>\n",
       "      <td>4.3056</td>\n",
       "      <td>1</td>\n",
       "    </tr>\n",
       "    <tr>\n",
       "      <th>2</th>\n",
       "      <td>Bream</td>\n",
       "      <td>340.0</td>\n",
       "      <td>23.9</td>\n",
       "      <td>26.5</td>\n",
       "      <td>31.1</td>\n",
       "      <td>12.3778</td>\n",
       "      <td>4.6961</td>\n",
       "      <td>2</td>\n",
       "    </tr>\n",
       "    <tr>\n",
       "      <th>3</th>\n",
       "      <td>Bream</td>\n",
       "      <td>363.0</td>\n",
       "      <td>26.3</td>\n",
       "      <td>29.0</td>\n",
       "      <td>33.5</td>\n",
       "      <td>12.7300</td>\n",
       "      <td>4.4555</td>\n",
       "      <td>3</td>\n",
       "    </tr>\n",
       "    <tr>\n",
       "      <th>4</th>\n",
       "      <td>Bream</td>\n",
       "      <td>430.0</td>\n",
       "      <td>26.5</td>\n",
       "      <td>29.0</td>\n",
       "      <td>34.0</td>\n",
       "      <td>12.4440</td>\n",
       "      <td>5.1340</td>\n",
       "      <td>4</td>\n",
       "    </tr>\n",
       "    <tr>\n",
       "      <th>...</th>\n",
       "      <td>...</td>\n",
       "      <td>...</td>\n",
       "      <td>...</td>\n",
       "      <td>...</td>\n",
       "      <td>...</td>\n",
       "      <td>...</td>\n",
       "      <td>...</td>\n",
       "      <td>...</td>\n",
       "    </tr>\n",
       "    <tr>\n",
       "      <th>153</th>\n",
       "      <td>Smelt</td>\n",
       "      <td>9.8</td>\n",
       "      <td>11.4</td>\n",
       "      <td>12.0</td>\n",
       "      <td>13.2</td>\n",
       "      <td>2.2044</td>\n",
       "      <td>1.1484</td>\n",
       "      <td>153</td>\n",
       "    </tr>\n",
       "    <tr>\n",
       "      <th>154</th>\n",
       "      <td>Smelt</td>\n",
       "      <td>12.2</td>\n",
       "      <td>11.5</td>\n",
       "      <td>12.2</td>\n",
       "      <td>13.4</td>\n",
       "      <td>2.0904</td>\n",
       "      <td>1.3936</td>\n",
       "      <td>154</td>\n",
       "    </tr>\n",
       "    <tr>\n",
       "      <th>155</th>\n",
       "      <td>Smelt</td>\n",
       "      <td>13.4</td>\n",
       "      <td>11.7</td>\n",
       "      <td>12.4</td>\n",
       "      <td>13.5</td>\n",
       "      <td>2.4300</td>\n",
       "      <td>1.2690</td>\n",
       "      <td>155</td>\n",
       "    </tr>\n",
       "    <tr>\n",
       "      <th>156</th>\n",
       "      <td>Smelt</td>\n",
       "      <td>12.2</td>\n",
       "      <td>12.1</td>\n",
       "      <td>13.0</td>\n",
       "      <td>13.8</td>\n",
       "      <td>2.2770</td>\n",
       "      <td>1.2558</td>\n",
       "      <td>156</td>\n",
       "    </tr>\n",
       "    <tr>\n",
       "      <th>158</th>\n",
       "      <td>Smelt</td>\n",
       "      <td>19.9</td>\n",
       "      <td>13.8</td>\n",
       "      <td>15.0</td>\n",
       "      <td>16.2</td>\n",
       "      <td>2.9322</td>\n",
       "      <td>1.8792</td>\n",
       "      <td>158</td>\n",
       "    </tr>\n",
       "  </tbody>\n",
       "</table>\n",
       "<p>123 rows × 8 columns</p>\n",
       "</div>"
      ],
      "text/plain": [
       "    Species  Weight  Length1  Length2  Length3   Height   Width   ID\n",
       "0     Bream   242.0     23.2     25.4     30.0  11.5200  4.0200    0\n",
       "1     Bream   290.0     24.0     26.3     31.2  12.4800  4.3056    1\n",
       "2     Bream   340.0     23.9     26.5     31.1  12.3778  4.6961    2\n",
       "3     Bream   363.0     26.3     29.0     33.5  12.7300  4.4555    3\n",
       "4     Bream   430.0     26.5     29.0     34.0  12.4440  5.1340    4\n",
       "..      ...     ...      ...      ...      ...      ...     ...  ...\n",
       "153   Smelt     9.8     11.4     12.0     13.2   2.2044  1.1484  153\n",
       "154   Smelt    12.2     11.5     12.2     13.4   2.0904  1.3936  154\n",
       "155   Smelt    13.4     11.7     12.4     13.5   2.4300  1.2690  155\n",
       "156   Smelt    12.2     12.1     13.0     13.8   2.2770  1.2558  156\n",
       "158   Smelt    19.9     13.8     15.0     16.2   2.9322  1.8792  158\n",
       "\n",
       "[123 rows x 8 columns]"
      ]
     },
     "execution_count": 1,
     "metadata": {},
     "output_type": "execute_result"
    }
   ],
   "source": [
    "# load the data\n",
    "import pandas as pd \n",
    "import numpy as np \n",
    "np.random.seed(2020) # random classifier settings\n",
    "data = pd.read_csv(\"static/fish_data.csv\", index_col=0)\n",
    "data"
   ]
  },
  {
   "cell_type": "markdown",
   "metadata": {},
   "source": [
    "### Approach 1:   \n",
    "The most common species of fish is *Perch*. Our goal is to create a classifier that returns information for specified measures (weight, different lengths and widths), whether it is a perch or another species. \n",
    "\n",
    "So for simplicity, we only have two classes, **Perch** and **other**.\n",
    "\n",
    "This is called binary classification problem - usually dealing with problems is something is `True` or `False`"
   ]
  },
  {
   "cell_type": "markdown",
   "metadata": {},
   "source": [
    "## Classification models"
   ]
  },
  {
   "cell_type": "markdown",
   "metadata": {},
   "source": [
    "There are lots of classification models, approaching the problem from different perspective. You can check them out more on youtube, documentation or discuss with us after the lesson. \n",
    "\n",
    "Today we will speak about two of them - logistic regression and K-Neighbors Classifier:\n",
    "+ [LogisticRegression](https://scikit-learn.org/stable/modules/generated/sklearn.linear_model.LogisticRegression.html#sklearn.linear_model.LogisticRegression)  \n",
    "\n",
    "+ [KNeighborsClassifier](https://scikit-learn.org/stable/modules/generated/sklearn.neighbors.KNeighborsClassifier.html#sklearn.neighbors.KNeighborsClassifier)\n",
    "\n",
    "+ [DecisionTreeClassifier](https://scikit-learn.org/stable/modules/generated/sklearn.tree.DecisionTreeClassifier.html#sklearn.tree.DecisionTreeClassifier)\n",
    "    \n",
    "+ [RandomForestClassifier](https://scikit-learn.org/stable/modules/generated/sklearn.ensemble.RandomForestClassifier.html#sklearn.ensemble.RandomForestClassifier)\n",
    "   - n_estimators, integer, optional (default=100)\n",
    "   \n",
    "+ [SVC](https://scikit-learn.org/stable/modules/generated/sklearn.svm.SVC.html#sklearn.svm.SVC)\n",
    "     - C, float, optional (default=1.0)\n",
    "     - kernelstring, optional (default=’rbf’)\n",
    "     \n",
    "\n"
   ]
  },
  {
   "cell_type": "markdown",
   "metadata": {},
   "source": [
    "### Logistic regression"
   ]
  },
  {
   "cell_type": "markdown",
   "metadata": {},
   "source": [
    "used for separation between two categories and it is coming from family of regression functions (like the name suggest)\n",
    "--> `binary classifier`\n"
   ]
  },
  {
   "cell_type": "markdown",
   "metadata": {},
   "source": [
    "#### Maximum likelihood Estimation"
   ]
  },
  {
   "cell_type": "markdown",
   "metadata": {},
   "source": [
    "     \n",
    "The MLE is a \"likelihood\" maximization method, while OLS is a distance-minimizing approximation method. Maximizing the likelihood function determines the parameters that are most likely to produce the observed data. From a statistical point of view, MLE sets the mean and variance as parameters in determining the specific parametric values for a given model. This set of parameters can be used for predicting the data needed in a normal distribution.\n",
    "\n",
    "Ordinary Least squares estimates are computed by fitting a regression line on given data points that has the minimum sum of the squared deviations (least square error). Both are used to estimate the parameters of a linear regression model. MLE assumes a joint probability mass function, while OLS doesn't require any stochastic assumptions for minimizing distance.\n",
    "          \n",
    "\n",
    "Datacamp website - https://www.datacamp.com/tutorial/understanding-logistic-regression-python"
   ]
  },
  {
   "cell_type": "markdown",
   "metadata": {},
   "source": [
    "Sigmoid function\n",
    "\n",
    "Sigmoid is a mathematical function that takes any real number and maps it to a probability between 1 and 0.\n",
    "![data](static/sigmoid.png)\n",
    "\n",
    "![data](static/sigmoid2.png)\n",
    "\n",
    "Suppose we have two possible outcomes, true and false, and have set the threshold as `0.5`. A probability less than 0.5 would be mapped to the outcome `false`, and a probability greater than or equal to 0.5 would be mapped to the outcome `true`."
   ]
  },
  {
   "cell_type": "markdown",
   "metadata": {},
   "source": [
    "### K nearest neighbours\n",
    "\n",
    "- non-parametric algorithm (non-parametric means without specific distribution or without specified parameters of distribution being known)\n",
    "\n",
    "- if k is 1, new object is simply assign to nearest class\n",
    "- if k is bigger than 1, new object is assigned to class by majority vote\n",
    "\n",
    "![data](static/knn.png)"
   ]
  },
  {
   "cell_type": "markdown",
   "metadata": {},
   "source": [
    "### Decision tree"
   ]
  },
  {
   "cell_type": "markdown",
   "metadata": {},
   "source": [
    "![data](static/Decision-tree-for-the-Weather-dataset.png)"
   ]
  },
  {
   "cell_type": "markdown",
   "metadata": {},
   "source": [
    "- root node\n",
    "- decision node\n",
    "- terminal node\n",
    "\n",
    "goal is to find best structure (in simplest case) using entropy and information gain\n",
    "\n",
    "Entropy is a measure of the randomness in the information being processed. The higher the entropy, the harder it is to draw any conclusions from that information.\n",
    "\n",
    "Information gain can be defined as the amount of information gained about a random variable or signal from observing another random variable. It can be considered as the difference between the entropy of parent node and weighted average entropy of child nodes.\n",
    "\n",
    "recommended reading: https://medium.datadriveninvestor.com/decision-tree-algorithm-with-hands-on-example-e6c2afb40d38"
   ]
  },
  {
   "cell_type": "markdown",
   "metadata": {},
   "source": [
    "### How to fit a model:\n",
    "#### Choose one model and try to train it for fish data."
   ]
  },
  {
   "cell_type": "code",
   "execution_count": 2,
   "metadata": {},
   "outputs": [],
   "source": [
    "# let's prepare the data\n",
    "y = data[\"Species\"] == \"Perch\"\n",
    "y = y.astype(int)\n",
    "X = data.drop(columns=[\"ID\", \"Species\"])"
   ]
  },
  {
   "cell_type": "code",
   "execution_count": 3,
   "metadata": {},
   "outputs": [],
   "source": [
    "# let's take a classifier# you can change\n",
    "from sklearn.linear_model import LogisticRegression\n",
    "modelLR = LogisticRegression(max_iter=500)"
   ]
  },
  {
   "cell_type": "code",
   "execution_count": 4,
   "metadata": {},
   "outputs": [],
   "source": [
    "# let's divide into a training and validation set\n",
    "from sklearn.model_selection import train_test_split \n",
    "X_train, X_test, y_train, y_test = train_test_split(X, y, stratify=y)"
   ]
  },
  {
   "cell_type": "code",
   "execution_count": 5,
   "metadata": {},
   "outputs": [
    {
     "data": {
      "text/plain": [
       "LogisticRegression(max_iter=500)"
      ]
     },
     "execution_count": 5,
     "metadata": {},
     "output_type": "execute_result"
    }
   ],
   "source": [
    "# train\n",
    "modelLR.fit(X_train, y_train)"
   ]
  },
  {
   "cell_type": "code",
   "execution_count": 6,
   "metadata": {},
   "outputs": [],
   "source": [
    "# Evaluate the validation set\n",
    "pred = modelLR.predict(X_test) "
   ]
  },
  {
   "cell_type": "code",
   "execution_count": 7,
   "metadata": {},
   "outputs": [
    {
     "name": "stdout",
     "output_type": "stream",
     "text": [
      "Real class: Prediction:\n",
      "0                0          OK\n",
      "0                0          OK\n",
      "0                0          OK\n",
      "0                0          OK\n",
      "0                0          OK\n",
      "0                0          OK\n",
      "1                1          OK\n",
      "0                0          OK\n",
      "1                1          OK\n",
      "0                0          OK\n",
      "0                0          OK\n",
      "1                1          OK\n",
      "0                0          OK\n",
      "1                1          OK\n",
      "0                0          OK\n",
      "1                1          OK\n",
      "0                0          OK\n",
      "0                0          OK\n",
      "0                0          OK\n",
      "1                1          OK\n",
      "0                0          OK\n",
      "0                0          OK\n",
      "0                0          OK\n",
      "0                0          OK\n",
      "0                0          OK\n",
      "1                1          OK\n",
      "1                1          OK\n",
      "1                1          OK\n",
      "1                1          OK\n",
      "1                1          OK\n",
      "0                0          OK\n",
      "Number of errors: 0\n"
     ]
    }
   ],
   "source": [
    "print (\"Real class: Prediction:\")\n",
    "for true, predicted in zip(y_test, pred):\n",
    "    print(f\"{true:<15}  {predicted:<10} {'OK' if true == predicted else 'X'}\")\n",
    "\n",
    "print(f\"Number of errors: {sum(y_test != pred)}\")    "
   ]
  },
  {
   "cell_type": "markdown",
   "metadata": {},
   "source": [
    "### Metrics"
   ]
  },
  {
   "cell_type": "markdown",
   "metadata": {},
   "source": [
    "\n",
    "It is probably clear that regression metrics are not very suitable for classification problems. What would you use as a metric for the classification task?"
   ]
  },
  {
   "cell_type": "markdown",
   "metadata": {},
   "source": [
    "### Naive approach:\n",
    "- One option is to compare the percentage of successfully classified patterns. In our case, it will be:"
   ]
  },
  {
   "cell_type": "code",
   "execution_count": 8,
   "metadata": {},
   "outputs": [
    {
     "name": "stdout",
     "output_type": "stream",
     "text": [
      "Success: 100.00 %\n"
     ]
    }
   ],
   "source": [
    "print (f\"Success: {100*sum(y_test == pred)/len(y_test):.2f} %\")"
   ]
  },
  {
   "cell_type": "markdown",
   "metadata": {},
   "source": [
    "### Another model, same procedure"
   ]
  },
  {
   "cell_type": "code",
   "execution_count": 9,
   "metadata": {},
   "outputs": [
    {
     "name": "stdout",
     "output_type": "stream",
     "text": [
      "Success: 70.97 %\n"
     ]
    }
   ],
   "source": [
    "from sklearn.tree import DecisionTreeClassifier\n",
    "modelDT = DecisionTreeClassifier()\n",
    "\n",
    "from sklearn.model_selection import train_test_split \n",
    "X_train, X_test, y_train, y_test = train_test_split(X, y, stratify=y)\n",
    "\n",
    "\n",
    "modelDT.fit(X_train, y_train)\n",
    "\n",
    "predDT = modelDT.predict(X_test) \n",
    "\n",
    "\n",
    "print (f\"Success: {100*sum(y_test == predDT)/len(y_test):.2f} %\")"
   ]
  },
  {
   "cell_type": "markdown",
   "metadata": {},
   "source": [
    "Success is not entirely bad, knowing the type of fish by size is not an easy task.\n",
    "But imagine that we have a data set with 100 fish, 95 of which will be perch (Perch type). Will a classifier with this success rate (the same as we came out) feel good or not? Why?"
   ]
  },
  {
   "cell_type": "markdown",
   "metadata": {},
   "source": [
    "#### So it is time to dive into metrics"
   ]
  },
  {
   "cell_type": "markdown",
   "metadata": {},
   "source": [
    "To illustrate the metrics directly with an example, let's leave fish for a moment and let's have a look at well-known Iris dataset.This is a classification of (American) iris flowers. The dataset was compiled in the 1930s by statistician and biologist Ronald Fisher (see [wiki](https://en.wikipedia.org/wiki/Iris_flower_data_set)).The set contains three classes: setosa, versicolor and virginica.\n",
    "![iris_data](static/iris_data.png)\n",
    "\n",
    "In the figure, you see a pairplot showing the dependencies between the flag pairs (input variables) and the resulting class. The color of the dot corresponds to the class to which the iris belongs. You can see, for example, that the red class *setosa* can be determined by the size of the petal.\n",
    "![iris_pairplot](static\\iris_pairplot.jpg)\n",
    "\n",
    "The aim of the task is to create a model - classifier, which for the given values of sepal and petal leaves will return the correct classification of the sample in the class. As a classifier, let's choose a decision tree, ie *DecisionTreeClassifier*. (It is one of the most well-known classifiers, popular mainly due to its speed and ease of interpretation. You can read more about it at [wiki](https://en.wikipedia.org/wiki/Decision_tree)). So we will be interested how we can measure the success of our classifier.\n",
    "\n",
    "(This time we do not read the data from the file, but use the pre-prepared data from the datasets module of the scikit-learn library)."
   ]
  },
  {
   "cell_type": "code",
   "execution_count": null,
   "metadata": {},
   "outputs": [],
   "source": []
  },
  {
   "cell_type": "code",
   "execution_count": 12,
   "metadata": {},
   "outputs": [],
   "source": [
    "# We only have this here so that all calculations are the same# random generator settings\n",
    "import numpy as np\n",
    "np.random.seed(42)"
   ]
  },
  {
   "cell_type": "code",
   "execution_count": 13,
   "metadata": {},
   "outputs": [],
   "source": [
    "from sklearn import datasets\n",
    "from sklearn.model_selection import train_test_split\n",
    "from sklearn.tree import DecisionTreeClassifier\n",
    "\n",
    "iris = datasets.load_iris () # load data, Iris data is \"built-in\"\n",
    "X = iris.data # flags\n",
    "y = iris.target # classes (labels)\n",
    "\n",
    "# Lets divide the data into training and testing\n",
    "# random_state determines the initialization of the random number generator (we want it to always work the same way for us)\n",
    "X_train, X_test, y_train, y_test = train_test_split(X, y, test_size=.2, random_state=314)\n",
    "\n",
    "# lets create a classifier\n",
    "classifier = DecisionTreeClassifier(random_state=314)\n",
    "# we train and evaluate the test set\n",
    "classifier.fit(X_train, y_train)\n",
    "y_pred = classifier.predict(X_test)"
   ]
  },
  {
   "cell_type": "markdown",
   "metadata": {},
   "source": [
    "Lets see what the predictions look like."
   ]
  },
  {
   "cell_type": "code",
   "execution_count": 14,
   "metadata": {},
   "outputs": [
    {
     "name": "stdout",
     "output_type": "stream",
     "text": [
      "         Flags:               Predicted class:             Real class:       \n",
      "____________________________________________________________________________________________\n",
      "    [5.2 4.1 1.5 0.1]                 0                         0                        OK            \n",
      "    [5.8 2.7 5.1 1.9]                 2                         2                        OK            \n",
      "    [4.8 3.  1.4 0.1]                 0                         0                        OK            \n",
      "    [4.7 3.2 1.3 0.2]                 0                         0                        OK            \n",
      "    [6.3 2.3 4.4 1.3]                 1                         1                        OK            \n",
      "    [5.7 2.8 4.5 1.3]                 1                         1                        OK            \n",
      "    [5.8 2.8 5.1 2.4]                 2                         2                        OK            \n",
      "    [5.1 3.3 1.7 0.5]                 0                         0                        OK            \n",
      "    [6.  2.7 5.1 1.6]                 2                         1                        :(            \n",
      "    [5.6 2.9 3.6 1.3]                 1                         1                        OK            \n",
      "    [6.3 2.9 5.6 1.8]                 2                         2                        OK            \n",
      "    [6.3 3.3 6.  2.5]                 2                         2                        OK            \n",
      "    [6.  2.9 4.5 1.5]                 1                         1                        OK            \n",
      "    [5.6 2.7 4.2 1.3]                 1                         1                        OK            \n",
      "    [7.1 3.  5.9 2.1]                 2                         2                        OK            \n",
      "    [7.2 3.  5.8 1.6]                 1                         2                        :(            \n",
      "    [6.1 2.8 4.7 1.2]                 1                         1                        OK            \n",
      "    [5.5 2.3 4.  1.3]                 1                         1                        OK            \n",
      "    [6.  2.2 4.  1. ]                 1                         1                        OK            \n",
      "    [5.7 2.9 4.2 1.3]                 1                         1                        OK            \n",
      "    [5.9 3.2 4.8 1.8]                 2                         1                        :(            \n",
      "    [4.8 3.1 1.6 0.2]                 0                         0                        OK            \n",
      "    [7.7 2.8 6.7 2. ]                 2                         2                        OK            \n",
      "    [5.6 2.8 4.9 2. ]                 2                         2                        OK            \n",
      "    [5.7 4.4 1.5 0.4]                 0                         0                        OK            \n",
      "    [7.7 3.8 6.7 2.2]                 2                         2                        OK            \n",
      "    [5.8 2.6 4.  1.2]                 1                         1                        OK            \n",
      "    [6.2 2.9 4.3 1.3]                 1                         1                        OK            \n",
      "    [6.4 2.8 5.6 2.1]                 2                         2                        OK            \n",
      "    [4.6 3.2 1.4 0.2]                 0                         0                        OK            \n"
     ]
    }
   ],
   "source": [
    "\n",
    "print(f\"{'Flags:':^25} {'Predicted class:':^25} {'Real class:':^25}\")\n",
    "print(\"_\" * 92)\n",
    "for flags, class_pred, class_real in zip(X_test, y_pred, y_test):\n",
    "    result_str = \"OK\" if class_pred == class_real else \":(\" \n",
    "    print(f\"{str(flags):^25} {class_pred:^25} {class_real:^25} {result_str:^25}\")"
   ]
  },
  {
   "cell_type": "markdown",
   "metadata": {},
   "source": [
    "The simplest thing we can measure is the percentage of correct answers. This is called **accuracy**."
   ]
  },
  {
   "cell_type": "code",
   "execution_count": 15,
   "metadata": {},
   "outputs": [
    {
     "data": {
      "text/plain": [
       "90.0"
      ]
     },
     "execution_count": 15,
     "metadata": {},
     "output_type": "execute_result"
    }
   ],
   "source": [
    "100*((y_pred == y_test).sum()/len(y_test))"
   ]
  },
  {
   "cell_type": "code",
   "execution_count": 16,
   "metadata": {},
   "outputs": [
    {
     "data": {
      "text/plain": [
       "0.9"
      ]
     },
     "execution_count": 16,
     "metadata": {},
     "output_type": "execute_result"
    }
   ],
   "source": [
    "from sklearn.metrics import accuracy_score\n",
    "\n",
    "accuracy_score(y_test, y_pred)"
   ]
  },
  {
   "cell_type": "markdown",
   "metadata": {},
   "source": [
    "#### Task:\n",
    "Imagine you have to classify apples and pears. You have a dataset containing 100 pieces of fruit. The classifier on this set achieves a success rate of 90% (90 pieces are classified correctly). \n",
    "Do you think that the classifier is good?"
   ]
  },
  {
   "cell_type": "markdown",
   "metadata": {},
   "source": [
    "**Accuracy** gives us very little information. Lets reveal now that there were 90 pieces of apples and 10 pieces of pears. A classifier which classifies everything as an apple, would mean it has a 90% success rate on this set - accuracy. But it is useless to us."
   ]
  },
  {
   "cell_type": "code",
   "execution_count": 17,
   "metadata": {},
   "outputs": [
    {
     "name": "stderr",
     "output_type": "stream",
     "text": [
      "/home/bioinfo/pyladies_vienna_data_course/myvenv/lib/python3.7/site-packages/sklearn/utils/deprecation.py:87: FutureWarning: Function plot_confusion_matrix is deprecated; Function `plot_confusion_matrix` is deprecated in 1.0 and will be removed in 1.2. Use one of the class methods: ConfusionMatrixDisplay.from_predictions or ConfusionMatrixDisplay.from_estimator.\n",
      "  warnings.warn(msg, category=FutureWarning)\n"
     ]
    },
    {
     "data": {
      "text/plain": [
       "<sklearn.metrics._plot.confusion_matrix.ConfusionMatrixDisplay at 0x7f6c4b083390>"
      ]
     },
     "execution_count": 17,
     "metadata": {},
     "output_type": "execute_result"
    },
    {
     "data": {
      "image/png": "[encoded data removed]",
      "text/plain": [
       "<Figure size 432x288 with 2 Axes>"
      ]
     },
     "metadata": {
      "needs_background": "light"
     },
     "output_type": "display_data"
    }
   ],
   "source": [
    "from sklearn.metrics import plot_confusion_matrix\n",
    "import matplotlib.pyplot as plt\n",
    "%matplotlib inline\n",
    "\n",
    "plot_confusion_matrix(classifier, # learned classifier\n",
    "                       X_test, y_test,   # data \n",
    "                       display_labels = iris.target_names, # class names [can be omitted]\n",
    "                       cmap = plt.cm.Blues # color palette [can be omitted]\n",
    ")\n"
   ]
  },
  {
   "cell_type": "markdown",
   "metadata": {},
   "source": [
    "The **confusion matrix** gives us much more information. On the picture above, we can see, how many samples from the class given by the row were classified into the class given by the column.\n",
    "\n",
    "So in our case: One case of the Virginica type was incorrectly classified as Versicolor, two cases of the Versicolor type were incorrectly classified as Virginica."
   ]
  },
  {
   "cell_type": "markdown",
   "metadata": {},
   "source": [
    "We will now look at binary classification (classification into two classes). Consider the *breast_cancer* dataset that contains positive and negative cancer findings.\n",
    "\n",
    "In order to compare different solutions (models), we take two different classifiers, firstly SVC (*Support Vector Machine* classifier - for more information, see [wiki](https://en.wikipedia.org/wiki/Support_vector_machines)) and secondly the so-called *Dummy* classifier, which serves only as a baseline and implements a trivial solution."
   ]
  },
  {
   "cell_type": "code",
   "execution_count": 18,
   "metadata": {},
   "outputs": [
    {
     "name": "stdout",
     "output_type": "stream",
     "text": [
      "SVC accuracy  0.9370629370629371\n",
      "dummy accuracy  0.6293706293706294\n"
     ]
    }
   ],
   "source": [
    "from sklearn.svm import SVC\n",
    "from sklearn.dummy import DummyClassifier\n",
    "\n",
    "# we load the data and divide it into training and testing\n",
    "X, y = datasets.load_breast_cancer(return_X_y=True)\n",
    "X_train, X_test, y_train, y_test = train_test_split(X, y, random_state=0)\n",
    "\n",
    "# we create and train classifier\n",
    "sclassifier = SVC (random_state = 0, probability = True)\n",
    "sclassifier.fit (X_train, y_train)\n",
    "dummy = DummyClassifier()\n",
    "dummy.fit(X_train, y_train)\n",
    "\n",
    "# we will classify test samples\n",
    "y_pred = sclassifier.predict(X_test)\n",
    "y_dummy = dummy.predict(X_test)\n",
    "\n",
    "# print accuracy\n",
    "print(\"SVC accuracy \", accuracy_score(y_test, y_pred))\n",
    "print(\"dummy accuracy \", accuracy_score(y_test, y_dummy))"
   ]
  },
  {
   "cell_type": "code",
   "execution_count": 19,
   "metadata": {},
   "outputs": [
    {
     "name": "stderr",
     "output_type": "stream",
     "text": [
      "/home/bioinfo/pyladies_vienna_data_course/myvenv/lib/python3.7/site-packages/sklearn/utils/deprecation.py:87: FutureWarning: Function plot_confusion_matrix is deprecated; Function `plot_confusion_matrix` is deprecated in 1.0 and will be removed in 1.2. Use one of the class methods: ConfusionMatrixDisplay.from_predictions or ConfusionMatrixDisplay.from_estimator.\n",
      "  warnings.warn(msg, category=FutureWarning)\n"
     ]
    },
    {
     "data": {
      "image/png": "[encoded data removed]",
      "text/plain": [
       "<Figure size 432x288 with 2 Axes>"
      ]
     },
     "metadata": {
      "needs_background": "light"
     },
     "output_type": "display_data"
    }
   ],
   "source": [
    "plot_confusion_matrix(sclassifier, X_test, y_test, cmap=plt.cm.Blues);"
   ]
  },
  {
   "cell_type": "markdown",
   "metadata": {},
   "source": [
    "We can call class 0 negative, class 1 positive. \n",
    "One positive sample was marked negative, such cases are called **false negative**. Eight negative samples were marked as positive, these are the so-called **false positive** cases.\n",
    "\n",
    "The numbers of false positive and false negative cases are crucial for evaluating the success of a binary classification. We classify correctly classified samples as **true positive** and **true negative**.\n"
   ]
  },
  {
   "cell_type": "markdown",
   "metadata": {},
   "source": [
    "## Precision, recall, F1 score"
   ]
  },
  {
   "cell_type": "markdown",
   "metadata": {},
   "source": [
    "The classification metric known as **precision** tells you how many samples marked as positive are really positive.\n",
    "![precision](static/precision.png)\n",
    "\n",
    "TP indicates the number of correctly marked positive samples (**true positives**)<br>FP indicates the number of **false positives**\n",
    "\n",
    "\n",
    "The **recall** metric tells you how many positive samples were captured by the classifier (classified as positive).\n",
    "![recall](static/recall.png)\n",
    "\n",
    "FN is the number of **false negatives**\n",
    "\n",
    "Think about what these formulas tell us. The image above and the following example from [Wikipedia](https://en.wikipedia.org/wiki/Precision_and_recall) will help you with this.\n",
    "\n",
    "\n",
    "Imagine you have a computer program for recognizing dogs in photos. You have a picture of 12 dogs and several cats. The program will find 8 dogs in the photo. Five of these 8 dogs are really dogs (**true positive**), but the other two are actually cats (**false positive**).\n",
    "\n",
    "**Precision** of the program is 5/8 (0.625), while **recall** is 5/12 (approx. 0.417). **Precision** can be interpreted as a measure of the usefulness of the result, **recall** says how complete the result is (how many dogs we wanted to find and we really found)."
   ]
  },
  {
   "cell_type": "code",
   "execution_count": 20,
   "metadata": {},
   "outputs": [
    {
     "name": "stdout",
     "output_type": "stream",
     "text": [
      "Precision:  0.9175257731958762\n",
      "Recall:     0.9888888888888889\n"
     ]
    }
   ],
   "source": [
    "from sklearn.metrics import precision_score, recall_score\n",
    "\n",
    "print(\"Precision: \", precision_score(y_test, y_pred))\n",
    "print(\"Recall:    \", recall_score(y_test, y_pred))"
   ]
  },
  {
   "cell_type": "code",
   "execution_count": 21,
   "metadata": {},
   "outputs": [
    {
     "name": "stdout",
     "output_type": "stream",
     "text": [
      "Precision:  0.6293706293706294\n",
      "Recall:     1.0\n"
     ]
    }
   ],
   "source": [
    "print(\"Precision: \", precision_score(y_test, y_dummy))\n",
    "print(\"Recall:    \", recall_score(y_test, y_dummy))"
   ]
  },
  {
   "cell_type": "markdown",
   "metadata": {},
   "source": [
    "Whether precision or recall is more important to us depends on the specific task. Sometimes there are more false positives (too many relevant emails marked as spam), in other cases an undetected positive case (undetected occurrence of the disease) will be more pressing matter."
   ]
  },
  {
   "cell_type": "markdown",
   "metadata": {},
   "source": [
    "Another frequently used metric is the so-called F1 score. It combines precision and recall, so that both of these metrics have the same weight (they contribute equally to the result). The higher the value, the better the result. The maximum value is one, the minimum is 0.\n",
    "\n",
    "![F1](static/f1.png)"
   ]
  },
  {
   "cell_type": "code",
   "execution_count": 22,
   "metadata": {},
   "outputs": [
    {
     "name": "stdout",
     "output_type": "stream",
     "text": [
      "F1 score SVC: 0.9518716577540107\n",
      "F1 score Dummy:  0.7725321888412017\n"
     ]
    }
   ],
   "source": [
    "from sklearn.metrics import f1_score\n",
    "\n",
    "print (\"F1 score SVC:\", f1_score (y_test, y_pred))\n",
    "print(\"F1 score Dummy: \", f1_score(y_test, y_dummy))"
   ]
  },
  {
   "cell_type": "markdown",
   "metadata": {},
   "source": [
    "## ROC curve"
   ]
  },
  {
   "cell_type": "markdown",
   "metadata": {},
   "source": [
    "Another useful characteristic is the so-called ROC curve ([wiki](https://en.wikipedia.org/wiki/Receiver_operating_characteristic)). The curve expresses the quality of the binary classifier depending one the classification threshold.\n",
    "\n",
    "What is a classification threshold? \n",
    "Imagine that in a `breast cancer` task, the learned model will not return the values 0/1 (negative, positive finding), but a `float` number indicating the probability (or some degree) of belonging to the positive class.\n",
    "\n",
    "In the simplest case, you will classify samples with a probability greater than 0.5 as positive, others as negative. However, you may want to be careful and examine patients who have a worse finding, although not so bad that the model gives a response greater than 0.5. Then this threshold will not be 0.5, but eg. 0.4.\n",
    "\n",
    "You can be a supporter of the \"do not scare them\" approach, and you decide to examine only patients with a really bad finding. The threshold would be moved to 0.7, for example. What approach should be taken depends on the specific situation.\n",
    "\n",
    "The ROC curve shows the relationship between the probability of detection (**true positive rate** or sensitivity, recall) TPR and the probability of false alarm (**false positive rate**) FPR.\n",
    "![roc](static/roc.png)\n",
    "\n",
    "P, N ... are the numbers of all positive / negative samples\n",
    "\n",
    "The ROC curve shows the probability of a false alarm on the x-axis and the probability of detection on the y-axis. This for all classification thresholds. The higher the classification threshold, the lower the probability of a false alarm and the lower the sensitivity. The lower the classification threshold, the greater the probability of detection (sensitivity) and the greater the risk of false alarms."
   ]
  },
  {
   "cell_type": "code",
   "execution_count": 23,
   "metadata": {},
   "outputs": [
    {
     "name": "stderr",
     "output_type": "stream",
     "text": [
      "/home/bioinfo/pyladies_vienna_data_course/myvenv/lib/python3.7/site-packages/sklearn/utils/deprecation.py:87: FutureWarning: Function plot_roc_curve is deprecated; Function :func:`plot_roc_curve` is deprecated in 1.0 and will be removed in 1.2. Use one of the class methods: :meth:`sklearn.metric.RocCurveDisplay.from_predictions` or :meth:`sklearn.metric.RocCurveDisplay.from_estimator`.\n",
      "  warnings.warn(msg, category=FutureWarning)\n",
      "/home/bioinfo/pyladies_vienna_data_course/myvenv/lib/python3.7/site-packages/sklearn/utils/deprecation.py:87: FutureWarning: Function plot_roc_curve is deprecated; Function :func:`plot_roc_curve` is deprecated in 1.0 and will be removed in 1.2. Use one of the class methods: :meth:`sklearn.metric.RocCurveDisplay.from_predictions` or :meth:`sklearn.metric.RocCurveDisplay.from_estimator`.\n",
      "  warnings.warn(msg, category=FutureWarning)\n"
     ]
    },
    {
     "data": {
      "text/plain": [
       "<sklearn.metrics._plot.roc_curve.RocCurveDisplay at 0x7f6c48a46b50>"
      ]
     },
     "execution_count": 23,
     "metadata": {},
     "output_type": "execute_result"
    },
    {
     "data": {
      "image/png": "[encoded data removed]",
      "text/plain": [
       "<Figure size 432x288 with 1 Axes>"
      ]
     },
     "metadata": {
      "needs_background": "light"
     },
     "output_type": "display_data"
    },
    {
     "data": {
      "image/png": "[encoded data removed]",
      "text/plain": [
       "<Figure size 432x288 with 1 Axes>"
      ]
     },
     "metadata": {
      "needs_background": "light"
     },
     "output_type": "display_data"
    }
   ],
   "source": [
    "from sklearn.metrics import plot_roc_curve\n",
    "\n",
    "plot_roc_curve(sclassifier, X_test, y_test)\n",
    "plot_roc_curve(dummy, X_test, y_test)"
   ]
  },
  {
   "cell_type": "markdown",
   "metadata": {},
   "source": [
    "The AUC (Area Under the Curve) value indicates the area under the ROC curve. \n",
    "#### The larger the area, the better the classifier!"
   ]
  },
  {
   "cell_type": "code",
   "execution_count": null,
   "metadata": {},
   "outputs": [],
   "source": []
  },
  {
   "cell_type": "code",
   "execution_count": null,
   "metadata": {},
   "outputs": [],
   "source": []
  },
  {
   "cell_type": "markdown",
   "metadata": {},
   "source": [
    "### So final example to wrap it up:\n",
    "\n",
    "Choose a metric for our task and try to find the best classifier possible. Then load the test set and see what your classifier gives the results."
   ]
  },
  {
   "cell_type": "code",
   "execution_count": 31,
   "metadata": {},
   "outputs": [],
   "source": [
    "# load test data\n",
    "test_data = pd.read_csv(\"static/fish_data_test.csv\", index_col=0)\n",
    "y_real_test = test_data[\"Species\"] == \"Perch\"\n",
    "y_real_test = y_real_test.astype(int)\n",
    "X_real_test = test_data.drop(columns=[\"ID\", \"Species\"])"
   ]
  },
  {
   "cell_type": "code",
   "execution_count": 25,
   "metadata": {},
   "outputs": [
    {
     "data": {
      "text/plain": [
       "Ellipsis"
      ]
     },
     "execution_count": 25,
     "metadata": {},
     "output_type": "execute_result"
    }
   ],
   "source": [
    "# try to learn different models and choose the best one\n",
    "from sklearn.neighbors import KNeighborsClassifier\n",
    "from sklearn.tree import DecisionTreeClassifier\n",
    "from sklearn.ensemble import RandomForestClassifier \n",
    "from sklearn.svm import SVC\n",
    "from sklearn.metrics import confusion_matrix\n",
    "\n",
    "# try to learn different models and choose the best one\n",
    "models = {\n",
    "    \"nearest neighbors\": KNeighborsClassifier(),\n",
    "    \"tree\": DecisionTreeClassifier(),\n",
    "    \"forest\": RandomForestClassifier(),\n",
    "    \"svc\": SVC()\n",
    "}\n",
    "..."
   ]
  },
  {
   "cell_type": "code",
   "execution_count": 26,
   "metadata": {},
   "outputs": [
    {
     "ename": "NameError",
     "evalue": "name 'model' is not defined",
     "output_type": "error",
     "traceback": [
      "\u001b[0;31m---------------------------------------------------------------------------\u001b[0m",
      "\u001b[0;31mNameError\u001b[0m                                 Traceback (most recent call last)",
      "\u001b[0;32m/tmp/ipykernel_118047/2339619783.py\u001b[0m in \u001b[0;36m<module>\u001b[0;34m\u001b[0m\n\u001b[1;32m      1\u001b[0m \u001b[0;31m# prediction\u001b[0m\u001b[0;34m\u001b[0m\u001b[0;34m\u001b[0m\u001b[0;34m\u001b[0m\u001b[0m\n\u001b[1;32m      2\u001b[0m \u001b[0;31m# model = models[...]\u001b[0m\u001b[0;34m\u001b[0m\u001b[0;34m\u001b[0m\u001b[0;34m\u001b[0m\u001b[0m\n\u001b[0;32m----> 3\u001b[0;31m \u001b[0mtest_pred\u001b[0m \u001b[0;34m=\u001b[0m \u001b[0mmodel\u001b[0m\u001b[0;34m.\u001b[0m\u001b[0mpredict\u001b[0m\u001b[0;34m(\u001b[0m\u001b[0mX_real_test\u001b[0m\u001b[0;34m)\u001b[0m\u001b[0;34m\u001b[0m\u001b[0;34m\u001b[0m\u001b[0m\n\u001b[0m",
      "\u001b[0;31mNameError\u001b[0m: name 'model' is not defined"
     ]
    }
   ],
   "source": [
    "# prediction\n",
    "# model = models[...]\n",
    "test_pred = model.predict(X_real_test)"
   ]
  },
  {
   "cell_type": "code",
   "execution_count": null,
   "metadata": {},
   "outputs": [],
   "source": [
    "# try adding the selected metric\n",
    "print(f\"Real class: Prediction:\")\n",
    "for true, predicted in zip(y_real_test, test_pred):\n",
    "    print(f\"{true:<15}  {predicted:<10} {'OK' if true == predicted else 'X'}\")\n",
    "\n",
    "print(f\"Number of errors: {sum(y_real_test != test_pred)}\")\n",
    "print(f\"Success: {100*sum(y_real_test == test_pred)/len(y_real_test):.2f} %\")\n"
   ]
  },
  {
   "cell_type": "code",
   "execution_count": null,
   "metadata": {},
   "outputs": [],
   "source": []
  }
 ],
 "metadata": {
  "kernelspec": {
   "display_name": "Python 3 (ipykernel)",
   "language": "python",
   "name": "python3"
  },
  "language_info": {
   "codemirror_mode": {
    "name": "ipython",
    "version": 3
   },
   "file_extension": ".py",
   "mimetype": "text/x-python",
   "name": "python",
   "nbconvert_exporter": "python",
   "pygments_lexer": "ipython3",
   "version": "3.7.12"
  }
 },
 "nbformat": 4,
 "nbformat_minor": 4
}
