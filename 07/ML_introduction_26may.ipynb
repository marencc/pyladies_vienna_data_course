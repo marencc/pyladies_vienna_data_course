{
 "cells": [
  {
   "cell_type": "markdown",
   "id": "232965cd-35aa-4efe-9c39-2d70ecb6a13d",
   "metadata": {},
   "source": [
    "# Machine Learning - introduction"
   ]
  },
  {
   "cell_type": "markdown",
   "id": "f44ca2e9-a63c-4d9d-b11c-16981c6b26d7",
   "metadata": {},
   "source": [
    "Before diving into core concepts of `Machine Learning`, we would like to give you a brief introduction into `Statistics` and explore differences between `statistical modelling` and `machine learning`.\n",
    "\n",
    "#### In this lesson you will:\n",
    "\n",
    "- Understand the difference between `Machine Learning` and `Statistical Modelling`\n",
    "\n",
    "**Statistical Modelling:**\n",
    "\n",
    "- Distinguish between **Independent variables** and **Dependent variable**\n",
    "- Understand two main goals of running Linear Regression - **practical & scientific goal**\n",
    "- Learn how to fit **Line of Best Fit** using **Ordinary Least Squares** method with `statsmodels`\n",
    "- Interpret **Regression Coefficients**\n",
    "- Interpret **Regression Evaulation Metrics** (*p-value* & *R-squared*)\n",
    "\n",
    "**Machine Learning:**\n",
    "\n",
    "- Distinguish between **Machine Learning** `algorithm`, **Machine Learning** `model` and **Machine Learning** `task`\n",
    "- Distinguish between **Supervised** and **Unsupervised** Machine Learning algorithms\n",
    "- Apply **Linear Regression** algorithm on your dataset with `scikit-learn`\n",
    "- Split your data into `test` and `training` set\n",
    "- Evaluate your model on test set using 3 different **evaluation metrics** - MAE, MSE and RMSE\n",
    "- Train your model on whole dataset and save it"
   ]
  },
  {
   "cell_type": "markdown",
   "id": "c36b6844-efea-49f6-9617-bb3cfeae4d45",
   "metadata": {},
   "source": [
    "## Machine Learning ≠ sophisticated Statistics "
   ]
  },
  {
   "cell_type": "markdown",
   "id": "cf0e9f78-7cb6-4ed6-9611-758078b6e346",
   "metadata": {},
   "source": [
    "You may have heard the debate or opinion that `Machine Learning` is simply a more elaborate `Statistics`, that it's basically equal to `Statistics` and that maybe it is just a new fancy name for a thousand-year old concept. Let's agree once and for all: `Machine Learning` is not `Statistics` and let's explore it in detail:"
   ]
  },
  {
   "cell_type": "markdown",
   "id": "f8c3617d-8b08-41ad-9a01-b8e8a0f585fd",
   "metadata": {},
   "source": [
    "#### 💡 `Statistics` is a **mathematical study of data**"
   ]
  },
  {
   "cell_type": "markdown",
   "id": "b9b155c2-2f51-432e-a5ec-560fb94d28ad",
   "metadata": {},
   "source": [
    "Let's define another important terminology: `Statistics` and `statistical models` are two different things. While `Statistics` is defined as **mathemathical study of data** , `statistical model` is a model for the data that is used either to **infer something about the relationships within the data** or to create a model that is able to **predict future values**. "
   ]
  },
  {
   "cell_type": "markdown",
   "id": "9a4e96ae-9e1c-414a-814e-6235d50e51e1",
   "metadata": {},
   "source": [
    "#### 💡 `Statistical model` is a model for data that is used to describe **relationships between data**"
   ]
  },
  {
   "cell_type": "markdown",
   "id": "d55e77bf-ad22-4463-9915-626010436362",
   "metadata": {},
   "source": [
    "#### 💡 `Statistical model` can also **predict future values**"
   ]
  },
  {
   "cell_type": "markdown",
   "id": "64273655-5d7a-4386-be32-394dfe46f288",
   "metadata": {},
   "source": [
    "To be more explicit, there are lots of `statistical models` that can make predictions (predict future values), but predictive accuracy is **not their core strength**. `Statistical models` are designed for **inference about the relationships between variables** and most often are not focused on predicting future values.\n",
    "\n"
   ]
  },
  {
   "cell_type": "markdown",
   "id": "3e534ed4-772f-48d7-8394-ffba1c6dcec0",
   "metadata": {},
   "source": [
    "> *The major difference between machine learning and statistics is their purpose. Machine learning models are designed to make **the most accurate predictions possible**. Statistical models are designed for **inference about the relationships between variables**.”*\n",
    "\n"
   ]
  },
  {
   "cell_type": "markdown",
   "id": "604c1407-664b-44fd-879a-8339fa9d9f74",
   "metadata": {},
   "source": [
    "#### 💡 `Machine Learning model` is designed to make the **most accurate predictions possible**"
   ]
  },
  {
   "cell_type": "markdown",
   "id": "74117229-0b92-4eaf-afe8-19b724ec8587",
   "metadata": {},
   "source": [
    "This is the most common distinction between `Machine Learning` and `Statistical models`, but still not completely satisfactory - **since statistical models and machine learning both can do prediction why do we consider them different from each other?** Let's look at the example of `Linear Regression` in Statistics and `Linear Regresson` in Machine Learning, refresh your knowledge about statistics and get to the core difference between the two concepts."
   ]
  },
  {
   "cell_type": "markdown",
   "id": "1536817d-725b-4341-8197-e31783033cda",
   "metadata": {},
   "source": [
    "# Statistical modelling\n",
    "- ## and the example of Linear Regression approach"
   ]
  },
  {
   "cell_type": "markdown",
   "id": "a5ebfdd4-d818-4dba-9c6a-0abf11d44f6b",
   "metadata": {},
   "source": [
    "There are many different statistical modelling techniques that aim to describe relationships in the data. In this class, we will take a closer look at one of the most popular approach - **Linear Regression**\n",
    "\n",
    "> **Linear regression** provides a function for modeling the relationship between two (**simple linear regression**) or more variables (**multiple linear regression**)."
   ]
  },
  {
   "cell_type": "markdown",
   "id": "aa2883c8-808b-4242-af86-38b98315acd8",
   "metadata": {},
   "source": [
    "> **Simple linear regression** models the relationship between one **independent variable** (X or predictor) and one **dependent variable** (Y or outcome) using a **straight line**."
   ]
  },
  {
   "cell_type": "markdown",
   "id": "c482b32e-a58c-42bb-aca1-5f2a3b747927",
   "metadata": {},
   "source": [
    "**Linear relationship** exists when the independent variable **increases** (or decreases), the dependent variable **increases** (or decreases) too\n",
    "\n",
    "\n",
    "#### Language used when describing relationships in linear regression:\n",
    "\n",
    "- **positive linear relationship** is when X goes up and Y goes up\n",
    "- **negative linear relationship** is when X goes up and Y goes down\n",
    "\n",
    "- **X variable** is described as **independent** variable, **predictor**, **input** variable, **explanatory** variable AND **feature** (in ML)\n",
    "- **Y variable** is described as **dependent** variable, **outcome**, **response** variable AND **label** (in ML)"
   ]
  },
  {
   "cell_type": "markdown",
   "id": "87a6d53a-d6c8-44d9-818a-6accdd634cd9",
   "metadata": {},
   "source": [
    "![im`Age`](static/positive_negative.png)"
   ]
  },
  {
   "cell_type": "markdown",
   "id": "1ba0a11e-fc6c-4a76-a055-1c1ef5e19db5",
   "metadata": {},
   "source": [
    "Let’s first look at our data and check whether the relationship between two variables are good candidate for modelling it with linear regression. "
   ]
  },
  {
   "cell_type": "code",
   "execution_count": 1,
   "id": "9fd9fffb-af05-403c-9a8c-e70580d6a54f",
   "metadata": {},
   "outputs": [
    {
     "data": {
      "text/html": [
       "<div>\n",
       "<style scoped>\n",
       "    .dataframe tbody tr th:only-of-type {\n",
       "        vertical-align: middle;\n",
       "    }\n",
       "\n",
       "    .dataframe tbody tr th {\n",
       "        vertical-align: top;\n",
       "    }\n",
       "\n",
       "    .dataframe thead th {\n",
       "        text-align: right;\n",
       "    }\n",
       "</style>\n",
       "<table border=\"1\" class=\"dataframe\">\n",
       "  <thead>\n",
       "    <tr style=\"text-align: right;\">\n",
       "      <th></th>\n",
       "      <th>YearsExperience</th>\n",
       "      <th>Age</th>\n",
       "      <th>Salary</th>\n",
       "    </tr>\n",
       "  </thead>\n",
       "  <tbody>\n",
       "    <tr>\n",
       "      <th>0</th>\n",
       "      <td>1.1</td>\n",
       "      <td>21.0</td>\n",
       "      <td>39343</td>\n",
       "    </tr>\n",
       "    <tr>\n",
       "      <th>1</th>\n",
       "      <td>1.3</td>\n",
       "      <td>21.5</td>\n",
       "      <td>46205</td>\n",
       "    </tr>\n",
       "    <tr>\n",
       "      <th>2</th>\n",
       "      <td>1.5</td>\n",
       "      <td>21.7</td>\n",
       "      <td>37731</td>\n",
       "    </tr>\n",
       "    <tr>\n",
       "      <th>3</th>\n",
       "      <td>2.0</td>\n",
       "      <td>22.0</td>\n",
       "      <td>43525</td>\n",
       "    </tr>\n",
       "    <tr>\n",
       "      <th>4</th>\n",
       "      <td>2.2</td>\n",
       "      <td>22.2</td>\n",
       "      <td>39891</td>\n",
       "    </tr>\n",
       "  </tbody>\n",
       "</table>\n",
       "</div>"
      ],
      "text/plain": [
       "   YearsExperience   Age  Salary\n",
       "0              1.1  21.0   39343\n",
       "1              1.3  21.5   46205\n",
       "2              1.5  21.7   37731\n",
       "3              2.0  22.0   43525\n",
       "4              2.2  22.2   39891"
      ]
     },
     "execution_count": 1,
     "metadata": {},
     "output_type": "execute_result"
    }
   ],
   "source": [
    "#Import libraries & Load dataset with Years of Experience, `Age` and `Salary`\n",
    "import pandas as pd\n",
    "import numpy as np\n",
    "import statsmodels.api as sm\n",
    "from sklearn import metrics\n",
    "from sklearn.linear_model import LinearRegression\n",
    "import matplotlib.pyplot as plt\n",
    "plt.style.use(\"seaborn-whitegrid\")\n",
    "\n",
    "df = pd.read_csv(\"salary.csv\")\n",
    "df.head()"
   ]
  },
  {
   "cell_type": "markdown",
   "id": "f1dc5d56-8f00-4b01-99b5-dde2602f34be",
   "metadata": {},
   "source": [
    "- Let's visualise relationship between candidate **independent** (`YearsExperience`) and **dependent** (`Salary`) variable:\n",
    "- Alternatively, let's visualise relationship between **explanatory variable X** (`YearsExperience`) and **response variable Y** (`Salary`):"
   ]
  },
  {
   "cell_type": "code",
   "execution_count": 2,
   "id": "5d696cd8-8023-4ef6-a091-1217c04584e1",
   "metadata": {},
   "outputs": [
    {
     "data": {
      "text/plain": [
       "(30, 3)"
      ]
     },
     "execution_count": 2,
     "metadata": {},
     "output_type": "execute_result"
    }
   ],
   "source": [
    "df.shape"
   ]
  },
  {
   "cell_type": "code",
   "execution_count": 3,
   "id": "21aa2015-83f4-44a3-a5e0-aafbf5dbae79",
   "metadata": {},
   "outputs": [
    {
     "data": {
      "image/png": "[encoded data removed]",
      "text/plain": [
       "<Figure size 432x288 with 1 Axes>"
      ]
     },
     "metadata": {},
     "output_type": "display_data"
    }
   ],
   "source": [
    "df.plot.scatter(x = \"YearsExperience\",y = \"Salary\");"
   ]
  },
  {
   "cell_type": "markdown",
   "id": "bdc0a75f-d118-4b24-984c-a0dd2d6d09f2",
   "metadata": {},
   "source": [
    "- Let's visualise relationship between the other candidate **independent** (`Age`) and **dependent** (`Salary`) variable:"
   ]
  },
  {
   "cell_type": "code",
   "execution_count": 4,
   "id": "fad348fe-292c-4c79-b19a-c8ffdf8565b1",
   "metadata": {},
   "outputs": [
    {
     "data": {
      "image/png": "[encoded data removed]",
      "text/plain": [
       "<Figure size 432x288 with 1 Axes>"
      ]
     },
     "metadata": {},
     "output_type": "display_data"
    }
   ],
   "source": [
    "df.plot.scatter(x = \"Age\",y = \"Salary\");"
   ]
  },
  {
   "cell_type": "markdown",
   "id": "d9052d0c-341d-4134-baa1-c9d2856c85c4",
   "metadata": {},
   "source": [
    "We can clearly observe a **positive** (possibly linear) relationship between both `YearsExperience` & `Salary` and `Age` & `Salary`:\n",
    "\n",
    "- **higher values** for `YearsExperience` correspond to **higher values** for `Salary` - the more experience a person has, the higher the `Salary` is\n",
    "\n",
    "- **higher values** for `Age` correspond to **higher values** for `Salary` - the older a person is, the higher the `Salary` is\n",
    "\n",
    "Observing this kind of relationship makes it justifiable to try to implement **Linear Regression**."
   ]
  },
  {
   "cell_type": "markdown",
   "id": "fa02fe73-5141-4be7-89f8-4b9cc1fc0d60",
   "metadata": {},
   "source": [
    "### What are the goals of modelling the data with Linear Regression?\n",
    "\n",
    "Let's start with simple linear regression and take only one **independent variable** (`YearsExperience`) and one **dependent variable** (`Salary`).\n",
    "\n",
    "We have 2 main goals that we can possibly accomplish:\n",
    "\n",
    "1. **Practical Goal** - We could be able to **predict** a `Salary` of an **out-of-sample person** based on his/her number of `Years of Experience` (with a certain level of confidence)\n",
    "2. **Scientifc Goal** - We could generalise to the whole population and claim scientifically that there is a statistically significant correlation (not causation!) between **Years of Experience** and `Salary` and that this relationship is **positive**."
   ]
  },
  {
   "cell_type": "markdown",
   "id": "7dac0830-e4fb-41e2-9d9d-c4d34da5497a",
   "metadata": {},
   "source": [
    "### How to accomplish those Goals?\n",
    "\n",
    "We want to define the relationship between `YearsExperience` and `Salary` and be able to measure it **mathematically**.\n",
    "\n",
    "For this we need to find a **line of best fit** - we need to find a straight line on XY axis which is best at describing the relationship between those two variables.\n",
    "\n",
    "In other words, we want to know what **straight line** best predicts the trend in mean values of Y over values of X?\n",
    "\n",
    "We will find this best line using a method: **Ordinary Least Squares** - fitting the line in which sum of squared distances from our observation to the line are the smallest.\n",
    "\n",
    "Since it's linear regression, our function (line with best fit) will have the following formula:"
   ]
  },
  {
   "cell_type": "markdown",
   "id": "964aa94c-3ae6-4c75-b852-5769643a8a9c",
   "metadata": {},
   "source": [
    "![equation](static/equation.png)"
   ]
  },
  {
   "cell_type": "markdown",
   "id": "ad7e7dc4-3a9a-4c41-a91d-eafff55ba145",
   "metadata": {},
   "source": [
    "where:\n",
    "- **C** is an intercept of a function (value for Y when X is zero)\n",
    "- **B** is a slope that defines how much does Y change in response to one unit change in X"
   ]
  },
  {
   "cell_type": "markdown",
   "id": "216628e7-fba9-4db4-a182-ec2cc7ddaa1b",
   "metadata": {},
   "source": [
    "With the help of the above regression function, knowing the **Constant** and **B coefficient** we will be able to predict `Salary` given `YearsExperience`\n",
    "\n",
    "What exact values should **C** and **B** take in order to model the relationship between `YearsExperience` and `Salary` that will produce best outcomes?"
   ]
  },
  {
   "cell_type": "markdown",
   "id": "fd0eef30-8816-4c3d-b392-e9954fdc30a6",
   "metadata": {},
   "source": [
    "![im`Age`](static/best_fit.png)"
   ]
  },
  {
   "cell_type": "markdown",
   "id": "ed74378f-721e-4eaa-bee2-80fe0fe7dc2c",
   "metadata": {},
   "source": [
    "Let's use **Ordinary Least Squares** method to find optimal values for those coefficients:\n",
    "\n",
    "Observe how changing the slope of the line changes the Average of Squared Errors (squared distances from observations to fitted line)"
   ]
  },
  {
   "cell_type": "markdown",
   "id": "aa0f0e99-0a4a-4919-8322-b675cc4319ce",
   "metadata": {},
   "source": [
    "<div>\n",
    "<img src=\"static/ols.gif\" width=\"500\"/>\n",
    "</div>"
   ]
  },
  {
   "cell_type": "markdown",
   "id": "fbc440ac-e078-49d8-be67-1ab855de85a6",
   "metadata": {},
   "source": [
    "We do not need to program this procedure ourselves - python package `statsmodels` will do it for us. The method for finding the line is called *Least Squares*. \n",
    "\n",
    "Let's go through all steps of statistical modelling:\n",
    "\n",
    "## Statistical Modelling with `statsmodels`\n",
    "\n",
    "### 1. Define your independent (X) variable and dependent (Y) variable"
   ]
  },
  {
   "cell_type": "code",
   "execution_count": 7,
   "id": "e50e2b3e-38b6-4913-946f-5ee99d57c201",
   "metadata": {},
   "outputs": [
    {
     "data": {
      "text/plain": [
       "0    1.1\n",
       "1    1.3\n",
       "2    1.5\n",
       "3    2.0\n",
       "4    2.2\n",
       "Name: YearsExperience, dtype: float64"
      ]
     },
     "execution_count": 7,
     "metadata": {},
     "output_type": "execute_result"
    }
   ],
   "source": [
    "X = df['YearsExperience']\n",
    "Y = df['Salary']\n",
    "X.head()"
   ]
  },
  {
   "cell_type": "markdown",
   "id": "ec268527-39df-4b46-b4a5-4575eaa21791",
   "metadata": {},
   "source": [
    "Add a constant to your functionhead"
   ]
  },
  {
   "cell_type": "code",
   "execution_count": 8,
   "id": "3f906749-d9e1-48eb-8628-2aacadda09bd",
   "metadata": {},
   "outputs": [
    {
     "data": {
      "text/html": [
       "<div>\n",
       "<style scoped>\n",
       "    .dataframe tbody tr th:only-of-type {\n",
       "        vertical-align: middle;\n",
       "    }\n",
       "\n",
       "    .dataframe tbody tr th {\n",
       "        vertical-align: top;\n",
       "    }\n",
       "\n",
       "    .dataframe thead th {\n",
       "        text-align: right;\n",
       "    }\n",
       "</style>\n",
       "<table border=\"1\" class=\"dataframe\">\n",
       "  <thead>\n",
       "    <tr style=\"text-align: right;\">\n",
       "      <th></th>\n",
       "      <th>const</th>\n",
       "      <th>YearsExperience</th>\n",
       "    </tr>\n",
       "  </thead>\n",
       "  <tbody>\n",
       "    <tr>\n",
       "      <th>0</th>\n",
       "      <td>1.0</td>\n",
       "      <td>1.1</td>\n",
       "    </tr>\n",
       "    <tr>\n",
       "      <th>1</th>\n",
       "      <td>1.0</td>\n",
       "      <td>1.3</td>\n",
       "    </tr>\n",
       "    <tr>\n",
       "      <th>2</th>\n",
       "      <td>1.0</td>\n",
       "      <td>1.5</td>\n",
       "    </tr>\n",
       "    <tr>\n",
       "      <th>3</th>\n",
       "      <td>1.0</td>\n",
       "      <td>2.0</td>\n",
       "    </tr>\n",
       "    <tr>\n",
       "      <th>4</th>\n",
       "      <td>1.0</td>\n",
       "      <td>2.2</td>\n",
       "    </tr>\n",
       "  </tbody>\n",
       "</table>\n",
       "</div>"
      ],
      "text/plain": [
       "   const  YearsExperience\n",
       "0    1.0              1.1\n",
       "1    1.0              1.3\n",
       "2    1.0              1.5\n",
       "3    1.0              2.0\n",
       "4    1.0              2.2"
      ]
     },
     "execution_count": 8,
     "metadata": {},
     "output_type": "execute_result"
    }
   ],
   "source": [
    "X = sm.add_constant(X) # this function just defines that we would like to include a Constant in our function.\n",
    "X.head()"
   ]
  },
  {
   "cell_type": "markdown",
   "id": "af164f05-f720-4528-81d1-bbd404afa9a8",
   "metadata": {},
   "source": [
    "### 2. Model the relationship between `YearsExperience` and `Salary`\n",
    " - this is where line of the best fit is found"
   ]
  },
  {
   "cell_type": "code",
   "execution_count": 11,
   "id": "c71e165f-4f62-4987-acf6-6e89edc6e795",
   "metadata": {},
   "outputs": [],
   "source": [
    "model = sm.OLS(Y,X)"
   ]
  },
  {
   "cell_type": "markdown",
   "id": "b0f4cf82-853f-489a-a28e-2b1b7d93d41e",
   "metadata": {},
   "source": [
    "Save results (covariance matrix) in a new variable - results"
   ]
  },
  {
   "cell_type": "code",
   "execution_count": 12,
   "id": "78b369f0-4361-4891-88e6-91efe448e207",
   "metadata": {},
   "outputs": [],
   "source": [
    "results = model.fit()"
   ]
  },
  {
   "cell_type": "markdown",
   "id": "7c6a75c0-a3ce-47f4-916e-411030beb0f2",
   "metadata": {},
   "source": [
    "### 3. Interpret model coefficients (function's parameters)"
   ]
  },
  {
   "cell_type": "code",
   "execution_count": 13,
   "id": "46f50dea-829b-47ea-aa99-59bbf7d748af",
   "metadata": {},
   "outputs": [
    {
     "data": {
      "text/plain": [
       "const              25792.200199\n",
       "YearsExperience     9449.962321\n",
       "dtype: float64"
      ]
     },
     "execution_count": 13,
     "metadata": {},
     "output_type": "execute_result"
    }
   ],
   "source": [
    "results.params"
   ]
  },
  {
   "cell_type": "markdown",
   "id": "ff046484-9da1-48ed-9c20-2971aa545d86",
   "metadata": {},
   "source": [
    "**C** equals 25792 and **B** coefficient equals 9450. Therefore, our function looks like this:"
   ]
  },
  {
   "cell_type": "markdown",
   "id": "6cdbef15-2ae1-4f2e-b7fa-df9e902ee87d",
   "metadata": {},
   "source": [
    "![equation2](static/equation2.png)"
   ]
  },
  {
   "cell_type": "markdown",
   "id": "09ec5b80-c57c-4c95-9a9c-2879d7949be6",
   "metadata": {},
   "source": [
    "How to interpret regression coefficients?\n",
    "\n",
    "- Y equals 25792 if X equals zero.\n",
    "- In other words, a person with **0** Years of Experience earns (on average) **25.8k** per year.\n",
    "\n",
    "- For a person with **1 year experience**, salary equals 25792 + 9450 * 1 = **35.2k** (on average)\n",
    "- For a person with **2 years experience**, salary equals 25792 + 9450 * 2 = **44.7k** (on average)\n",
    "- For a person with **3 years experience**, salary equals 25792 + 9450 * 3 = **54.1k** (on average)\n",
    "\n",
    "- In other words, **every additional year of Experience** means *on average* **9450 higher yearly salary** assuming that *all other factors remain constant*.\n"
   ]
  },
  {
   "cell_type": "markdown",
   "id": "718bd9df-5877-4753-9db2-f7f083bd586b",
   "metadata": {},
   "source": [
    "### 4. Evaluate your results\n",
    "\n",
    "Before being fully happy to accomplish our 2 goals, we first need to check:\n",
    "`\n",
    "- how confident are we that the coefficients are greater than zero = that `YearsExperience` have non-zero influence on `Salary`? (with the help of *p-value*)\n",
    "- how well does my model fit the data? (with the help of *R-squared*)\n",
    "\n",
    "#### **What is p-value?**\n",
    "\n",
    "I order to understand **p-value** in relation to `linear regression`, it would be good to refresh our knowledge about `Hypothesis Testing`. Let's define our so-called `Null Hypothesis`:\n",
    "\n",
    "**H0:** *YearsExperience have ZERO effect on Salary.* (in mathematical terms: B coefficient equals zero)\n",
    "\n",
    "Assuming that the above is true in REALITY, and there is NO effect of YearsExperience on Salary - what is the probability that a randomly created dataset will display a similarly strong or stronger relationship compared to our dataset?\n",
    "\n",
    "Since we have seen on scatterplot that the data is clearly displaying linear relationship, it is highly unlikely that we will get to similar results due to randomness. But still there is always a chance that our data could form in this way due to randomness and thanks to p-value we can get to this probability, mainly:"
   ]
  },
  {
   "cell_type": "code",
   "execution_count": 14,
   "id": "caa33922-4924-4d96-aee0-8018fce921d0",
   "metadata": {},
   "outputs": [
    {
     "data": {
      "text/plain": [
       "const              5.511950e-12\n",
       "YearsExperience    1.143068e-20\n",
       "dtype: float64"
      ]
     },
     "execution_count": 14,
     "metadata": {},
     "output_type": "execute_result"
    }
   ],
   "source": [
    "results.pvalues"
   ]
  },
  {
   "cell_type": "code",
   "execution_count": 15,
   "id": "2643c5a7-075e-448d-8492-818d758701d0",
   "metadata": {},
   "outputs": [
    {
     "name": "stdout",
     "output_type": "stream",
     "text": [
      "p-value for C equals 0.00000000000551195027\n"
     ]
    }
   ],
   "source": [
    "print(\"p-value for C equals\" , '{:.20f}'.format(results.pvalues[0]))"
   ]
  },
  {
   "cell_type": "code",
   "execution_count": 16,
   "id": "f5f57d03-b195-49a6-ab64-2fb30c346bd6",
   "metadata": {},
   "outputs": [
    {
     "name": "stdout",
     "output_type": "stream",
     "text": [
      "p-value for B equals 0.00000000000000000001\n"
     ]
    }
   ],
   "source": [
    "print(\"p-value for B equals\" , '{:.20f}'.format(results.pvalues[1]))"
   ]
  },
  {
   "cell_type": "markdown",
   "id": "8fa90f73-1d56-4a5c-ae94-f4f851815031",
   "metadata": {},
   "source": [
    "> NOTE: In some cases, interpreting the constant (or p-value for constant) is not meaningful especially when X doesn't start at zero or when C turns out to be negative."
   ]
  },
  {
   "cell_type": "markdown",
   "id": "0db5cf99-b023-4854-b534-888000a31ed9",
   "metadata": {},
   "source": [
    "**p-value is extremely low** and we can definietly conclude that we can **reject the Null Hypothesis that YearsExperience have no influence on Salary** - in other words : the chance that if Null Hypothesis was true, our data will display similarly strong or stronger relationship is extremely low.\n",
    "\n",
    "Setting up a treshold on p-value depends on the nature of the problem and your data - usual agreed upon treshholds in statistics are:\n",
    "- p-value < 0.05\n",
    "- p-value < 0.01\n",
    "- p-value < 0.001\n",
    "\n",
    "The **lower** the treshold, the **more confidence** we get in our results."
   ]
  },
  {
   "cell_type": "code",
   "execution_count": 17,
   "id": "6bee8ff0-a93e-4f43-9aba-a32d910b1f26",
   "metadata": {},
   "outputs": [],
   "source": [
    "#If you are interested in t-test statistics results, you can also look them up and learn about t-test and p-value here: https://www.omnicalculator.com/statistics/t-test:\n",
    "\n",
    "#results.tvalues"
   ]
  },
  {
   "cell_type": "markdown",
   "id": "0d5b3114-eb99-4d5e-b7fe-d961f875ae1b",
   "metadata": {},
   "source": [
    "#### **What is R-squared?**\n",
    "\n",
    "**R-squared** measures the proportion of the variance in the response variable (`Salary`) that can be explained by the predictor variable (`YearsExperience`) in a regression model.\n",
    "\n",
    "**How does it differ from Correlation?**\n",
    "\n",
    "**Correlation** explains the strength of the relationship between an **independent** and **dependent variable**, **R-squared** explains to what extent the variance of one variable explains the variance of the second variable.\n",
    "\n",
    "> NOTE: **R-Squared** only works as intended in a simple linear regression model with one explanatory variable. With a multiple regression made up of several independent variables, the R-Squared must be *adjusted*. (We use a formula: *adjusted R-squared*)\n",
    "\n",
    "> NOTE: **R-squared** will give you an estimate of the relationship between movements of a dependent variable based on an independent variable's movements. It doesn't tell you whether your chosen model is good or bad, nor will it tell you whether the data and predictions are biased.\n",
    "\n",
    "**R-squared** takes values from **0-1**, so R-squared of 0.5 would mean that half (50%) of variance in response variable is explained by the input variable.\n",
    "\n",
    "Generally, you want your R-squared to be **as high as possible** - Depending on the field of study, good R-squared could be 0.9, 0.8, but in some fields 0.4 is considered a good R-squared."
   ]
  },
  {
   "cell_type": "code",
   "execution_count": 18,
   "id": "d73113b5-1508-4100-a96d-aa550d35e681",
   "metadata": {},
   "outputs": [
    {
     "data": {
      "text/plain": [
       "0.9569566641435086"
      ]
     },
     "execution_count": 18,
     "metadata": {},
     "output_type": "execute_result"
    }
   ],
   "source": [
    "results.rsquared"
   ]
  },
  {
   "cell_type": "markdown",
   "id": "74a8c08f-b1e6-4765-9e65-3591c6045658",
   "metadata": {},
   "source": [
    "**R-squared** of our model is 0.957 - meaning that **95.7%** of the variation in `Salary`can be explained by `YearsExeprience`.\n",
    "\n",
    "Since both **p-value** and **R-squared** have desirable values (p-value below 0.01 and R-squared above 90%) we can safely accomplish our TWO goals:\n",
    "\n",
    "1. **Practical Goal** - We could be able to **predict** a `Salary` of an **out-of-sample person** based on his/her number of `Years of Experience`. For example a person with 2 YearsExperience will on average have 44.7k Salary.\n",
    "\n",
    "2. **Scientifc Goal** - We could generalise to the whole population and claim scientifically that there is a statistically significant correlation (not causation!) between `Years of Experience` and `Salary` (provided that our data is a representative sample to general population - for example if those 30 people (sample) were a randomly chosen members of one department in a corporation (general population))\n",
    "\n",
    "You can also use a summary() method and display all features of our regression model:"
   ]
  },
  {
   "cell_type": "code",
   "execution_count": 19,
   "id": "07f7a682-02a0-4ae1-b14f-2b3cb16cc7a9",
   "metadata": {},
   "outputs": [
    {
     "name": "stdout",
     "output_type": "stream",
     "text": [
      "                            OLS Regression Results                            \n",
      "==============================================================================\n",
      "Dep. Variable:                 Salary   R-squared:                       0.957\n",
      "Model:                            OLS   Adj. R-squared:                  0.955\n",
      "Method:                 Least Squares   F-statistic:                     622.5\n",
      "Date:                Thu, 26 May 2022   Prob (F-statistic):           1.14e-20\n",
      "Time:                        18:58:34   Log-Likelihood:                -301.44\n",
      "No. Observations:                  30   AIC:                             606.9\n",
      "Df Residuals:                      28   BIC:                             609.7\n",
      "Df Model:                           1                                         \n",
      "Covariance Type:            nonrobust                                         \n",
      "===================================================================================\n",
      "                      coef    std err          t      P>|t|      [0.025      0.975]\n",
      "-----------------------------------------------------------------------------------\n",
      "const            2.579e+04   2273.053     11.347      0.000    2.11e+04    3.04e+04\n",
      "YearsExperience  9449.9623    378.755     24.950      0.000    8674.119    1.02e+04\n",
      "==============================================================================\n",
      "Omnibus:                        2.140   Durbin-Watson:                   1.648\n",
      "Prob(Omnibus):                  0.343   Jarque-Bera (JB):                1.569\n",
      "Skew:                           0.363   Prob(JB):                        0.456\n",
      "Kurtosis:                       2.147   Cond. No.                         13.2\n",
      "==============================================================================\n",
      "\n",
      "Notes:\n",
      "[1] Standard Errors assume that the covariance matrix of the errors is correctly specified.\n"
     ]
    }
   ],
   "source": [
    "print_model = results.summary()\n",
    "print(print_model)"
   ]
  },
  {
   "cell_type": "markdown",
   "id": "c5bfcda4-2878-441d-9317-fbaf5797e893",
   "metadata": {},
   "source": [
    "> NOTE: Before jumping to results, we also need to satisfy 4 core assumptions about our data. (check them here: https://mickteaching.wordpress.com/2016/04/19/data-need-to-be-normally-distributed-and-other-myths-of-linear-regression/). We will not go through those steps here and just assume that our data adheres to those assumptions."
   ]
  },
  {
   "cell_type": "markdown",
   "id": "3d4da815-9456-4c69-9665-e035d4ac23b5",
   "metadata": {},
   "source": [
    "# Machine Learning\n",
    "- ## and the example of Regression `task`"
   ]
  },
  {
   "cell_type": "markdown",
   "id": "043c6e43-886a-4696-b810-97a93e74f79b",
   "metadata": {},
   "source": [
    "#### What is Machine Learning:\n",
    "\n",
    "Machine learning is a branch of artificial intelligence (AI) and computer science which uses data and algorithms to predict future values or imitate the way that humans learn, with the goal of gradually improving the accuracy of predictions.\n",
    "\n",
    "#### Why do I want to do Machine Learning modelling?\n",
    "\n",
    "- Main objective of Supervised Machine Learning modelling is to help us predict (with the highest possibly accuracy) the values of the Y variable for a given set of X variables (future values).\n",
    " \n",
    "- Main objective of unsupervised Machine Learning modelling is to get insights (knowledge) from data. In the case of unsupervised models - the machine actually *learns* itself and determines what is different or interesting from the dataset.\n",
    "\n",
    "#### What is the difference between **Machine Learning** `algorithm` and **Machine Learning** `model` and **Machine Learning** `task`?\n",
    "\n",
    "- An `algorithm` in machine learning is a procedure that is run on data to create a machine learning `model`.\n",
    "\n",
    "- Machine learning `algorithms` perform **pattern recognition**. Algorithms **learn** from data, or are **fit** on a dataset.\n",
    "\n",
    "We use different `algorithms`, for different kinds of Machine Learning `tasks`. \n",
    "\n",
    "- We use **Linear Regression** `algorithm` for **Regression** `task` - Regression is a *task of predicting a continuous quantity*.\n",
    "- We use **K-nearest neighbours** `algorithm` for **Classification** `task` - Classification is a *task of predicting a discrete class label*.\n",
    "- We use **K-means** `algorithm` for **Clustering** `task`- Clustering is a *task* of dividing data points into groups\n",
    "\n",
    "\n",
    "\n",
    "\n",
    "Other example of Machine Learning algorithms: Logistic Regression, Decision Tree, Artificial Neural Network, Naive Bayes, SVM, Random Forest.\n",
    "\n",
    "What is a **Machine Learning** `model`?\n",
    "\n",
    "- A `model` is the **object** that is saved after running a machine learning algorithm on training dataset and represents the **rules**, **numbers**, and other **algorithm-specific information** that facilitate creating predictions.\n",
    "\n",
    " - A `model` represents what was learned by a machine learning algorithm - it is the **output** of ML algorithm.\n",
    " \n",
    " To illustrate an example:\n",
    " \n",
    "In a **Regression** `task`, the linear regression `algorithm` results in a `model` that provides us with specific coefficients of the regression line that enable us to make predictions."
   ]
  },
  {
   "cell_type": "markdown",
   "id": "5f9aa607-2686-45b5-999e-ec5cd12615f0",
   "metadata": {},
   "source": [
    "![algorithm](static/algorithm.png)"
   ]
  },
  {
   "cell_type": "markdown",
   "id": "18bc6465-bde4-4226-9477-55b2f173797e",
   "metadata": {},
   "source": [
    "source: https://blogs.bmj.com/technology/files/2017/05/data-algorithm-model.png"
   ]
  },
  {
   "cell_type": "markdown",
   "id": "be342bf8-ab10-4443-8dff-912b8318619c",
   "metadata": {},
   "source": [
    "#### Should I use `supervised` or `unsupervised` Machine Learning `algorithm`?\n",
    "\n",
    "- **Supervised ML** is when we have prior knowledge of what the output values for our samples should be. Therefore, the goal of supervised learning is to learn a function that, given a sample of data and desired outputs, best approximates the relationship between input and output observable in the data.\n",
    "\n",
    "Most common `tasks`in supervised learning are **Regression** and **Classification** with corresponding `algorithms`: logistic regression, SVMs, artificial neural networks, naive bayes, and random forests.\n",
    "\n",
    "- **Unsupervised ML** is when we want to learn the inherent structure of our data without using explicitly-provided labels (we do not have Y)\n",
    "\n",
    "Among most common `tasks` within unsupervised learning are **clustering**, **representation learning**, and **density estimation**. \n",
    "\n",
    "\n",
    "#### Which Machine Learning `algorithm` should I use?\n",
    "\n",
    "Since we already examined that our data follows a linear relationship, let's take up on **Regression** `task` and run a **Linear Regression** `algorithm`.\n",
    "\n",
    "**Linear Regression** `algorithm` will run on the data with the objective to optimize - adjust the **slope** and **constant**, to achieve maximum efficiency by minimizing the amount of error, measured by the sum of squared errors.\n",
    "\n",
    "**Linear Regression** seeks to find the line that best fits the observed data. It defines the best line as the one that minimises the Sum of Squared Errors (Sum of squared distances from observations to fitted line).\n",
    "\n",
    "<div>\n",
    "<img src=\"static/ols.gif\" width=\"500\"/>\n",
    "</div>"
   ]
  },
  {
   "cell_type": "markdown",
   "id": "8bf21cdb-9c20-4d1e-a029-74bd5fcca3c2",
   "metadata": {},
   "source": [
    "Linear Regression algorithm, as other ones have its advantages and disadvantages:\n",
    "\n",
    "- **Advantages**: very fast, no model tuning required, easily interpretable and understood by anybody with a little bit of statistical background\n",
    "- **Disadvantages**: rather unlikely to produce the most accurate predictions for many real-life scenarios since often there is no linear relationship between features and response variable\n",
    "\n",
    "#### How do I fit the best line with Linear Regression?"
   ]
  },
  {
   "cell_type": "markdown",
   "id": "7c6f8c24-59ff-46b6-af4b-92be26524026",
   "metadata": {},
   "source": [
    "Linear regression function for our case will look as follows. We will use this time Multiple Linear Regression and include both variables, `YearsExperience` and `Age`:"
   ]
  },
  {
   "cell_type": "markdown",
   "id": "ba1d0aca-f8db-472c-b8fc-b0005e97cc28",
   "metadata": {},
   "source": [
    "![equation](static/equation_multiple.png)"
   ]
  },
  {
   "cell_type": "markdown",
   "id": "87f434dc-ab57-4b71-9bfd-372115161b7d",
   "metadata": {},
   "source": [
    "**C** is a constant, **B1** and **B2** are model coefficients. Their values will be *learned* during the model fitting step using \"least squares\" criterion. The fitted values will be then used to make predictions (same as in the previous statistical modelling example)\n",
    "\n",
    "In the previous statistical modelling example we used OLS method (Ordinary Least Squares) to find the minimum sum least squares. In machine learning, we often use a method called **Gradient Descent** to find the minimum average of error. In a case of Linear Regression, both methods will yield the same (or similar) results. If you are interested in how Gradient Descent is calculated in Linear Regression, read this article: https://medium.com/@minions.k/gradient-descent-algo-d7b180605d7c#:~:text=Gradient%20descent%20is%20an%20optimization,the%20parameters%20of%20our%20model.\n",
    "\n",
    "For the purposes of this course, we will trust the the optimisation algorithm finds the smallest sum fo squared distances. Let's get to coding:\n"
   ]
  },
  {
   "cell_type": "markdown",
   "id": "775fe456-b5e3-492e-a4ff-fa757e1193e7",
   "metadata": {},
   "source": [
    "## Machine Learning with scikit-learn"
   ]
  },
  {
   "cell_type": "code",
   "execution_count": 20,
   "id": "989389ea-0da7-4d4d-bcef-127dc5f78710",
   "metadata": {},
   "outputs": [],
   "source": [
    "from sklearn.linear_model import LinearRegression #import Linear Regression module"
   ]
  },
  {
   "cell_type": "markdown",
   "id": "b996db0b-d4d7-4cb7-b0d7-13f16abf7fbb",
   "metadata": {},
   "source": [
    "In Machine Learning we tend to call independent variables - `features` and dependent variable -`outcome` or `label` (in classification tasks).\n",
    "\n",
    "Let's recall how our dataset looks like:"
   ]
  },
  {
   "cell_type": "code",
   "execution_count": 21,
   "id": "2807b836-5d3c-4083-83c0-7e88189ebac0",
   "metadata": {},
   "outputs": [
    {
     "data": {
      "text/html": [
       "<div>\n",
       "<style scoped>\n",
       "    .dataframe tbody tr th:only-of-type {\n",
       "        vertical-align: middle;\n",
       "    }\n",
       "\n",
       "    .dataframe tbody tr th {\n",
       "        vertical-align: top;\n",
       "    }\n",
       "\n",
       "    .dataframe thead th {\n",
       "        text-align: right;\n",
       "    }\n",
       "</style>\n",
       "<table border=\"1\" class=\"dataframe\">\n",
       "  <thead>\n",
       "    <tr style=\"text-align: right;\">\n",
       "      <th></th>\n",
       "      <th>YearsExperience</th>\n",
       "      <th>Age</th>\n",
       "      <th>Salary</th>\n",
       "    </tr>\n",
       "  </thead>\n",
       "  <tbody>\n",
       "    <tr>\n",
       "      <th>0</th>\n",
       "      <td>1.1</td>\n",
       "      <td>21.0</td>\n",
       "      <td>39343</td>\n",
       "    </tr>\n",
       "    <tr>\n",
       "      <th>1</th>\n",
       "      <td>1.3</td>\n",
       "      <td>21.5</td>\n",
       "      <td>46205</td>\n",
       "    </tr>\n",
       "    <tr>\n",
       "      <th>2</th>\n",
       "      <td>1.5</td>\n",
       "      <td>21.7</td>\n",
       "      <td>37731</td>\n",
       "    </tr>\n",
       "    <tr>\n",
       "      <th>3</th>\n",
       "      <td>2.0</td>\n",
       "      <td>22.0</td>\n",
       "      <td>43525</td>\n",
       "    </tr>\n",
       "    <tr>\n",
       "      <th>4</th>\n",
       "      <td>2.2</td>\n",
       "      <td>22.2</td>\n",
       "      <td>39891</td>\n",
       "    </tr>\n",
       "  </tbody>\n",
       "</table>\n",
       "</div>"
      ],
      "text/plain": [
       "   YearsExperience   Age  Salary\n",
       "0              1.1  21.0   39343\n",
       "1              1.3  21.5   46205\n",
       "2              1.5  21.7   37731\n",
       "3              2.0  22.0   43525\n",
       "4              2.2  22.2   39891"
      ]
     },
     "execution_count": 21,
     "metadata": {},
     "output_type": "execute_result"
    }
   ],
   "source": [
    "df.head()"
   ]
  },
  {
   "cell_type": "markdown",
   "id": "0a1bcaf1-29ad-41ab-9ab6-de8ebba3e156",
   "metadata": {},
   "source": [
    "> *Can you tell which variables would be called features and which an outcome?*"
   ]
  },
  {
   "cell_type": "markdown",
   "id": "ffcbbcb5-72cc-4ec1-b0d5-9535238995c2",
   "metadata": {},
   "source": [
    "### 1. Define features\n",
    "\n",
    "Let's define features of our model. This time we make it just a little bit more advanced and add both variables - `YearsExperience` and `Age`:"
   ]
  },
  {
   "cell_type": "code",
   "execution_count": 23,
   "id": "9c9dd70d-1f46-4aa5-bdcd-8316a2204a7e",
   "metadata": {},
   "outputs": [
    {
     "data": {
      "text/html": [
       "<div>\n",
       "<style scoped>\n",
       "    .dataframe tbody tr th:only-of-type {\n",
       "        vertical-align: middle;\n",
       "    }\n",
       "\n",
       "    .dataframe tbody tr th {\n",
       "        vertical-align: top;\n",
       "    }\n",
       "\n",
       "    .dataframe thead th {\n",
       "        text-align: right;\n",
       "    }\n",
       "</style>\n",
       "<table border=\"1\" class=\"dataframe\">\n",
       "  <thead>\n",
       "    <tr style=\"text-align: right;\">\n",
       "      <th></th>\n",
       "      <th>YearsExperience</th>\n",
       "      <th>Age</th>\n",
       "    </tr>\n",
       "  </thead>\n",
       "  <tbody>\n",
       "    <tr>\n",
       "      <th>0</th>\n",
       "      <td>1.1</td>\n",
       "      <td>21.0</td>\n",
       "    </tr>\n",
       "    <tr>\n",
       "      <th>1</th>\n",
       "      <td>1.3</td>\n",
       "      <td>21.5</td>\n",
       "    </tr>\n",
       "    <tr>\n",
       "      <th>2</th>\n",
       "      <td>1.5</td>\n",
       "      <td>21.7</td>\n",
       "    </tr>\n",
       "    <tr>\n",
       "      <th>3</th>\n",
       "      <td>2.0</td>\n",
       "      <td>22.0</td>\n",
       "    </tr>\n",
       "    <tr>\n",
       "      <th>4</th>\n",
       "      <td>2.2</td>\n",
       "      <td>22.2</td>\n",
       "    </tr>\n",
       "  </tbody>\n",
       "</table>\n",
       "</div>"
      ],
      "text/plain": [
       "   YearsExperience   Age\n",
       "0              1.1  21.0\n",
       "1              1.3  21.5\n",
       "2              1.5  21.7\n",
       "3              2.0  22.0\n",
       "4              2.2  22.2"
      ]
     },
     "execution_count": 23,
     "metadata": {},
     "output_type": "execute_result"
    }
   ],
   "source": [
    "#Define feture columns\n",
    "\n",
    "features_cols = [\"YearsExperience\", \"Age\"]\n",
    "\n",
    "#Select a subset of our dataframe:\n",
    "\n",
    "X = df[features_cols]\n",
    "\n",
    "X.head()"
   ]
  },
  {
   "cell_type": "code",
   "execution_count": 25,
   "id": "9255a28f-3520-40b8-a1e9-fe58abffcf9a",
   "metadata": {},
   "outputs": [
    {
     "name": "stdout",
     "output_type": "stream",
     "text": [
      "<class 'pandas.core.frame.DataFrame'>\n",
      "Shape of features dataframe: (30, 2)\n"
     ]
    }
   ],
   "source": [
    "#Examine type and shape\n",
    "print(type(X))\n",
    "print(\"Shape of features dataframe:\", X.shape)"
   ]
  },
  {
   "cell_type": "markdown",
   "id": "b8c0e91b-2749-4c8b-b113-6c236bce809d",
   "metadata": {},
   "source": [
    "### 2. Define outcome variable"
   ]
  },
  {
   "cell_type": "code",
   "execution_count": 26,
   "id": "28268695-720c-4be8-a8a5-6ff783fae69e",
   "metadata": {},
   "outputs": [
    {
     "data": {
      "text/plain": [
       "0    39343\n",
       "1    46205\n",
       "2    37731\n",
       "3    43525\n",
       "4    39891\n",
       "Name: Salary, dtype: int64"
      ]
     },
     "execution_count": 26,
     "metadata": {},
     "output_type": "execute_result"
    }
   ],
   "source": [
    "#Select a subset of dataframe\n",
    "y = df[\"Salary\"]\n",
    "y.head()"
   ]
  },
  {
   "cell_type": "code",
   "execution_count": 27,
   "id": "1aa9bc66-a8de-4f0e-b0e2-ab08eaf74769",
   "metadata": {},
   "outputs": [
    {
     "name": "stdout",
     "output_type": "stream",
     "text": [
      "<class 'pandas.core.series.Series'>\n",
      "Shape of outcome variable Series: (30,)\n"
     ]
    }
   ],
   "source": [
    "#Examine type and shape\n",
    "print(type(Y))\n",
    "print(\"Shape of outcome variable Series:\", Y.shape)"
   ]
  },
  {
   "cell_type": "markdown",
   "id": "54358f11-5892-4a46-bed7-cd6cf1beebc4",
   "metadata": {},
   "source": [
    "Note: `scikit-learn`works best with `numpy` arrays and matrices - for now we will stick with `pandas`data frame and Series for simplicity, but usually you will convert your data into numpy arrays and matrices."
   ]
  },
  {
   "cell_type": "markdown",
   "id": "c928970f-04c2-4ffd-b74e-df97613b5d3c",
   "metadata": {},
   "source": [
    "### 3. Split X and y into training and test set"
   ]
  },
  {
   "cell_type": "markdown",
   "id": "6de1d4ab-a67c-428f-8447-71c11f519851",
   "metadata": {},
   "source": [
    "We need to devide our dataset into **training** and **test** set in order to be able to **evaluate model performance** on unseen dataset. Luckily, we have a handy `train_test_split`function that comes with `scikit-learn``"
   ]
  },
  {
   "cell_type": "code",
   "execution_count": 30,
   "id": "9b42c933-f196-4473-83e4-a2308153d59f",
   "metadata": {},
   "outputs": [],
   "source": [
    "from sklearn.model_selection import train_test_split"
   ]
  },
  {
   "cell_type": "code",
   "execution_count": 32,
   "id": "0e56628a-7518-4a92-91f9-5f8ff57c5915",
   "metadata": {},
   "outputs": [],
   "source": [
    "X_train, X_test, y_train, y_test = train_test_split(X, y, random_state=1, test_size = 0.25)"
   ]
  },
  {
   "cell_type": "code",
   "execution_count": 33,
   "id": "383f6b29-b412-4769-baf2-ae616ebe184d",
   "metadata": {},
   "outputs": [
    {
     "name": "stdout",
     "output_type": "stream",
     "text": [
      "(22, 2)\n",
      "(8, 2)\n",
      "(22,)\n",
      "(8,)\n"
     ]
    }
   ],
   "source": [
    "print(X_train.shape)\n",
    "print(X_test.shape)\n",
    "print(y_train.shape)\n",
    "print(y_test.shape)"
   ]
  },
  {
   "cell_type": "markdown",
   "id": "c59f2ee8-a3ac-4e57-906b-7ee81444478d",
   "metadata": {},
   "source": [
    "### 4. Fit Linear Regression"
   ]
  },
  {
   "cell_type": "markdown",
   "id": "6d1e9983-78a0-499b-96ca-e5274c2161df",
   "metadata": {},
   "source": [
    "Let's import Linear Regression module, instatiate the algorithm and fit the model with our data. Notice that we only use training set - X_train and y_train"
   ]
  },
  {
   "cell_type": "code",
   "execution_count": 34,
   "id": "3c428d26-a75b-4d0a-b8d4-aa34693af3d3",
   "metadata": {},
   "outputs": [],
   "source": [
    "from sklearn.linear_model import LinearRegression #import Linear Regression module\n",
    "\n",
    "algorithm = LinearRegression() #instantiate the algorithm\n",
    "\n",
    "model = algorithm.fit(X_train, y_train) #train machine learning model - learn the coefficients"
   ]
  },
  {
   "cell_type": "markdown",
   "id": "40bfc3b5-fe8e-40c0-b256-d18d0de5c5de",
   "metadata": {},
   "source": [
    "Every ML `algorithm` differs in terms of what occurs in the fitting step. In `Linear Regression`, the `model` is **learning the intercept** (constant) **and coefficient** for the **line of best fit** that will be later used to make predictions."
   ]
  },
  {
   "cell_type": "markdown",
   "id": "a0d0eee5-657f-4054-b475-0faa15ebf55d",
   "metadata": {},
   "source": [
    "### 5. Interpret model coefficients"
   ]
  },
  {
   "cell_type": "markdown",
   "id": "08cc4099-4493-46c3-bd9e-fbe8cf3f64e4",
   "metadata": {},
   "source": [
    "After training the model we can access two objects from the resulting Linear Regression Model - intercept_ and coef_. This is all we need to be able to write a formula of our regression function"
   ]
  },
  {
   "cell_type": "code",
   "execution_count": 35,
   "id": "f2f892b4-42dc-4296-8b55-ac19ba6b600a",
   "metadata": {},
   "outputs": [
    {
     "name": "stdout",
     "output_type": "stream",
     "text": [
      "-3880.928430353859\n",
      "[6242.8739009  1681.88351597]\n"
     ]
    }
   ],
   "source": [
    "#Examine intercept and coefficient\n",
    "print(model.intercept_)\n",
    "print(model.coef_)"
   ]
  },
  {
   "cell_type": "code",
   "execution_count": 36,
   "id": "296aa5a5-87c0-469a-8af0-14e5d3d16990",
   "metadata": {},
   "outputs": [
    {
     "data": {
      "text/plain": [
       "[('YearsExperience', 6242.873900895831), ('Age', 1681.8835159693765)]"
      ]
     },
     "execution_count": 36,
     "metadata": {},
     "output_type": "execute_result"
    }
   ],
   "source": [
    "list(zip(features_cols, model.coef_)) # More readable output"
   ]
  },
  {
   "cell_type": "markdown",
   "id": "3fba6524-81b3-4b25-a20a-b973225816a2",
   "metadata": {},
   "source": [
    "> `intercept_` and `coef_` attributes of the model object have underscore - it's a `scikit-learn`convention to add _ to any attributes that have been estimated by the model."
   ]
  },
  {
   "cell_type": "markdown",
   "id": "3fbd2c78-19fb-47f4-8c42-7838a1f5419f",
   "metadata": {},
   "source": [
    "![equation](static/equation_ml.png)"
   ]
  },
  {
   "cell_type": "markdown",
   "id": "e9d277f3-3e28-4144-a2b2-4d35a0534eef",
   "metadata": {},
   "source": [
    "How to interpret regression coefficients in Multiple Linear Regression?\n",
    "\n",
    "- Constant(intercept) is not interpretable in this case: Y cannot be negative when X equals zero - a person with **0** Years of Experience cannot earn a negative Salary\n",
    "\n",
    "\n",
    "For example:\n",
    "\n",
    "- A person with **1 year experience** and **35 years old** will have a salary of -3881 + 6243 * 1 + 1682 * 35 = **61.2k** (on average)\n",
    "\n",
    "In more general terms:\n",
    "\n",
    "- a unit increase in `YearsExperience` will on average cause 6.2k increase in `Salary` provided that `Age` stays constant.\n",
    "\n",
    "- For a person of a given `Age`, one additional `Year of Experience` will on average be associated with **6.2k increase** in `Salary`. (*Age stays the same, Years of Experience changes*)\n",
    "\n",
    "- a unit increase in `Age` will on average cause **1.7k increase** in `Salary` provided that `Years of Experience` stays constant."
   ]
  },
  {
   "cell_type": "code",
   "execution_count": 39,
   "id": "371fe3d0-9e52-4a99-804f-fe412f2ce5df",
   "metadata": {},
   "outputs": [
    {
     "data": {
      "text/plain": [
       "17     83088\n",
       "21     98273\n",
       "10     63218\n",
       "19     93940\n",
       "14     61111\n",
       "20     91738\n",
       "26    116969\n",
       "3      43525\n",
       "Name: Salary, dtype: int64"
      ]
     },
     "execution_count": 39,
     "metadata": {},
     "output_type": "execute_result"
    }
   ],
   "source": [
    "y_test"
   ]
  },
  {
   "cell_type": "markdown",
   "id": "182691b6-5e40-450d-b6a4-9caa792d09a8",
   "metadata": {},
   "source": [
    "### 6. Make predictions on test set"
   ]
  },
  {
   "cell_type": "markdown",
   "id": "103ef469-263f-4ae8-8914-53b00e981c1f",
   "metadata": {},
   "source": [
    "Once we have our regression line, it is time to use the model and predict the Y values based on the input from the test set:\n",
    "- X values from test set are known - we input them into the model\n",
    "- We predict Y values (y_pred) according to the model's regression function"
   ]
  },
  {
   "cell_type": "code",
   "execution_count": 37,
   "id": "a6418f0f-304f-48d9-8317-6cd1191db4de",
   "metadata": {},
   "outputs": [],
   "source": [
    "y_pred = model.predict(X_test)"
   ]
  },
  {
   "cell_type": "markdown",
   "id": "d456d0bf-bfd7-4103-bd02-897035b5f080",
   "metadata": {},
   "source": [
    "Let's visualise how far are our predictions to actual values from the test set"
   ]
  },
  {
   "cell_type": "code",
   "execution_count": 38,
   "id": "444aa715-0e31-44ca-9d9d-47b9b79f7abe",
   "metadata": {},
   "outputs": [
    {
     "data": {
      "image/png": "[encoded data removed]",
      "text/plain": [
       "<Figure size 360x360 with 1 Axes>"
      ]
     },
     "metadata": {},
     "output_type": "display_data"
    }
   ],
   "source": [
    "plt.figure(figsize=(5,5))\n",
    "plt.scatter(y_test, y_pred, c='crimson')\n",
    "\n",
    "p1 = max(max(y_pred), max(y_test))\n",
    "p2 = min(min(y_pred), min(y_test))\n",
    "plt.plot([p1, p2], [p1, p2], 'b-')\n",
    "plt.xlabel('True Values from y_test', fontsize=15)\n",
    "plt.ylabel('Predictions from y_pred', fontsize=15)\n",
    "plt.axis('equal')\n",
    "plt.show()"
   ]
  },
  {
   "cell_type": "markdown",
   "id": "4713a301-ef95-44d9-ada7-94446fae1385",
   "metadata": {},
   "source": [
    "### 7. Evaluate predictions\n",
    "\n",
    "This is the moment when `Machine Learning` actually differs from `Statistical modelling`. In `Machine Learning`, we are not scientific, hence not interested in finding out *p-value* or *R-squared* that are needed to prove statistical significance.\n",
    "\n",
    "In Machine Learning, we are interested in **how well our model performs on unseen data**.\n",
    "\n",
    "- We are **training** the model using only the subset of our data - **training set**. (*Only 22 out of 30 examples in our case*)\n",
    "\n",
    "- Then we examine how close are the **predictions** of the model to **actual data** from the **test set**\n",
    "\n",
    "We cannot evaluate the performance of the model until we **test** it on additional data that was not present durint training.\n",
    "\n",
    "The purpose of machine learning, in this case, is to **obtain the best performance on the test set**.\n",
    "\n",
    "In classification problems, you will use **Accuracy** as a core ML evaluation metric. For regression problem, we need an evaluation metric designed for comparing **continous values**.\n",
    "\n",
    "#### I. Mean Absolute Error (MAE)\n",
    "\n",
    "- mean of the absolute values of the errors"
   ]
  },
  {
   "cell_type": "code",
   "execution_count": 40,
   "id": "64167488-4a4f-4560-bf26-d4917cb86c1c",
   "metadata": {},
   "outputs": [
    {
     "name": "stdout",
     "output_type": "stream",
     "text": [
      "4.5\n"
     ]
    }
   ],
   "source": [
    "#Example for calculating MAE\n",
    "\n",
    "true_values = [10, 20, 30, 40 ]\n",
    "prediction  = [8, 24, 28, 30 ]\n",
    "\n",
    "#Calculate MAE by hand:\n",
    "\n",
    "MAE = (2 + 4 + 2 + 10) / 4\n",
    "print(MAE)"
   ]
  },
  {
   "cell_type": "code",
   "execution_count": 41,
   "id": "b0fe59fb-88fa-4611-881e-87da534bf865",
   "metadata": {},
   "outputs": [
    {
     "data": {
      "text/plain": [
       "4.5"
      ]
     },
     "execution_count": 41,
     "metadata": {},
     "output_type": "execute_result"
    }
   ],
   "source": [
    "metrics.mean_absolute_error(true_values, prediction) #Call a function to calculate MAE"
   ]
  },
  {
   "cell_type": "markdown",
   "id": "70073251-6666-4c4e-bee0-f95c56d033f6",
   "metadata": {},
   "source": [
    "- Let's calculate **MAE** of our predictions:"
   ]
  },
  {
   "cell_type": "code",
   "execution_count": 42,
   "id": "98bc0ae9-4369-4a56-b643-eda1fada9334",
   "metadata": {},
   "outputs": [
    {
     "data": {
      "text/plain": [
       "5325.569976272"
      ]
     },
     "execution_count": 42,
     "metadata": {},
     "output_type": "execute_result"
    }
   ],
   "source": [
    "metrics.mean_absolute_error(y_test,y_pred)"
   ]
  },
  {
   "cell_type": "markdown",
   "id": "4a39b80e-7734-46d9-9074-93dc979cb151",
   "metadata": {},
   "source": [
    "#### II. Mean Squared Error (MSE)\n",
    "\n",
    "- mean of the squared values of the errors"
   ]
  },
  {
   "cell_type": "code",
   "execution_count": 43,
   "id": "2a7f9c41-746c-458a-bdc1-20f0eb4dad3b",
   "metadata": {},
   "outputs": [
    {
     "name": "stdout",
     "output_type": "stream",
     "text": [
      "31.0\n"
     ]
    }
   ],
   "source": [
    "#Calculate MSE by hand:\n",
    "MSE = (2**2 + 4**2 + 2**2 + 10**2)/4\n",
    "print(MSE)"
   ]
  },
  {
   "cell_type": "code",
   "execution_count": 44,
   "id": "475627a2-7e42-4b25-a0c4-30584eb38e17",
   "metadata": {},
   "outputs": [
    {
     "data": {
      "text/plain": [
       "31.0"
      ]
     },
     "execution_count": 44,
     "metadata": {},
     "output_type": "execute_result"
    }
   ],
   "source": [
    "metrics.mean_squared_error(true_values, prediction) #Call a function to calculate MSE"
   ]
  },
  {
   "cell_type": "markdown",
   "id": "10f90031-6fb6-4e31-a083-9085e5467355",
   "metadata": {},
   "source": [
    "- Let's calculate **MSE** of our predictions:"
   ]
  },
  {
   "cell_type": "code",
   "execution_count": 45,
   "id": "c64e9f76-9f9c-4d1a-9d7a-fd0f47964099",
   "metadata": {},
   "outputs": [
    {
     "data": {
      "text/plain": [
       "39037193.731876746"
      ]
     },
     "execution_count": 45,
     "metadata": {},
     "output_type": "execute_result"
    }
   ],
   "source": [
    "metrics.mean_squared_error(y_test, y_pred)"
   ]
  },
  {
   "cell_type": "markdown",
   "id": "8a332d6d-83fb-4d3d-a414-963d00ff86c8",
   "metadata": {},
   "source": [
    "#### III. Rooted Mean Squared Error (RMSE)\n",
    "\n",
    "- mean of the square root of the mean of squared values of the errors"
   ]
  },
  {
   "cell_type": "code",
   "execution_count": 46,
   "id": "cf8df9cc-7122-4807-a56d-b7c1803d7f96",
   "metadata": {},
   "outputs": [
    {
     "name": "stdout",
     "output_type": "stream",
     "text": [
      "5.5677643628300215\n"
     ]
    }
   ],
   "source": [
    "#Calculate MSE by hand:\n",
    "RMSE = np.sqrt((2**2 + 4**2 + 2**2 + 10**2)/4)\n",
    "print(RMSE)"
   ]
  },
  {
   "cell_type": "code",
   "execution_count": 47,
   "id": "833960da-f458-49a6-941f-14c4691cd79f",
   "metadata": {},
   "outputs": [
    {
     "data": {
      "text/plain": [
       "5.5677643628300215"
      ]
     },
     "execution_count": 47,
     "metadata": {},
     "output_type": "execute_result"
    }
   ],
   "source": [
    "np.sqrt(metrics.mean_squared_error(true_values, prediction)) #Call a function to calculate RMSE"
   ]
  },
  {
   "cell_type": "markdown",
   "id": "ae022705-2c77-4441-9b75-86eb90d6740b",
   "metadata": {},
   "source": [
    "- Let's calculate **RMSE** of our predictions:"
   ]
  },
  {
   "cell_type": "code",
   "execution_count": 48,
   "id": "09667b77-7006-4722-8041-097a11a4e70d",
   "metadata": {},
   "outputs": [
    {
     "data": {
      "text/plain": [
       "6247.975170555397"
      ]
     },
     "execution_count": 48,
     "metadata": {},
     "output_type": "execute_result"
    }
   ],
   "source": [
    "np.sqrt(metrics.mean_squared_error(y_test, y_pred))"
   ]
  },
  {
   "cell_type": "markdown",
   "id": "d873a8d3-75e5-4ea4-b581-fddfa4fbf880",
   "metadata": {},
   "source": [
    "Which evaluation metric is the best?\n",
    "\n",
    "- **MAE** is the **easiest to understand** since it is an average error\n",
    "- **MSE** is used more often, because it *punishes* large errors by squaring the results\n",
    "- **RMSE** is the **most popular**, because it is **interpretable in Y units**.\n",
    "\n",
    "In other words, **RMSE** means that our predictions of Salary **differ from reality** by **6.2k** on average."
   ]
  },
  {
   "cell_type": "markdown",
   "id": "8109b745-fff6-4c57-b5ae-4478c9b6ed74",
   "metadata": {},
   "source": [
    "#### 8.Train your final model on whole dataset\n",
    "\n",
    "If you are happy with the results of your model and would like to use it in *production*, it's important to retrain the model on the whole dataset to get even more accurate predictions of future, unknown values"
   ]
  },
  {
   "cell_type": "code",
   "execution_count": 49,
   "id": "23f1364f-165c-4fee-9b06-0a4ffd575de2",
   "metadata": {},
   "outputs": [],
   "source": [
    "algorithm = LinearRegression() #instantiate the algorithm\n",
    "\n",
    "model_final = algorithm.fit(X, y) \n",
    "\n",
    "y_final_pred = model.predict(X)"
   ]
  },
  {
   "cell_type": "code",
   "execution_count": 50,
   "id": "0941a260-635b-4333-a654-b6ed869d54f5",
   "metadata": {},
   "outputs": [
    {
     "data": {
      "text/plain": [
       "array([ 38305.78669599,  40395.30323415,  41980.25471753,  45606.25672276,\n",
       "        47191.20820614,  52906.72674954,  53531.01413963,  55284.1539746 ,\n",
       "        55284.1539746 ,  58910.15597984,  60663.29581481,  61455.77155649,\n",
       "        61455.77155649,  62080.05894658,  66259.09202291,  68756.24158327,\n",
       "        71686.69987942,  74617.15817557,  80044.76603207,  82350.93693813,\n",
       "        89027.11957482,  90899.98174509,  97576.16438177, 101130.91006801,\n",
       "       105934.23053443, 109488.97622067, 114292.29668708, 116598.46759314,\n",
       "       122650.36283974, 125580.82113589])"
      ]
     },
     "execution_count": 50,
     "metadata": {},
     "output_type": "execute_result"
    }
   ],
   "source": [
    "y_final_pred"
   ]
  },
  {
   "cell_type": "markdown",
   "id": "9fcc2b2f-1125-4a9a-ae9b-88a714fdba7f",
   "metadata": {
    "tags": []
   },
   "source": [
    "## Machine Learning compact version\n",
    "\n",
    "We can fit all the machine learning steps in only couple of lines of code:"
   ]
  },
  {
   "cell_type": "code",
   "execution_count": 39,
   "id": "9acd3d02-2d4e-49db-9eec-2d8578d71919",
   "metadata": {},
   "outputs": [],
   "source": [
    "df = pd.read_csv(\"Salary.csv\") #Read dataframe\n",
    "\n",
    "X = df[[\"YearsExperience\", \"Age\"]] #Define features\n",
    "y = df[\"Salary\"] #Define outcome variable\n",
    "\n",
    "X_train, X_test, y_train, y_test = train_test_split(X, y, random_state=1) #Split data into train and test\n",
    "\n",
    "algorithm = LinearRegression() #instantiate the algorithm\n",
    "model = algorithm.fit(X_train, y_train) #train machine learning model - learn the coefficients\n",
    "\n",
    "y_pred = model.predict(X_test) #Make predictions using data from X_test\n",
    "RMSE = np.sqrt(metrics.mean_squared_error(y_test, y_pred)) #Evaluate the model\n",
    "\n",
    "model_final = algorithm.fit(X, y) #train the model on whole dataset"
   ]
  },
  {
   "cell_type": "markdown",
   "id": "75706678-dc71-4a94-a1a5-57f68680bed9",
   "metadata": {},
   "source": [
    "### TASK\n",
    "> Is `YearsExperience` alone, `Age` alone or `YearsExperience` and `Age` taken together best at predicting Salary?\n",
    "1. Run two ML Linear Regression models - one for `YearsExperience` and `Salary` and the other for `Age` and `Salary`.\n",
    "2. In which model (Simple or Multiple Linear Regression) `YearsExperience` has stronger influence on `Salary`?\n",
    "3. Evaluate performance of all 3 models - Which model has the lowest RMSE?\n",
    "4. Would you expect RMSE to decrease or increase when you reduce the size of test set?\n",
    "5. What is overfitting in ML? Read about the concept in online sources and think what could cause your model to overfit the data?"
   ]
  },
  {
   "cell_type": "markdown",
   "id": "0e8d7479-5c1f-42c2-8fbb-266946dfc8b6",
   "metadata": {},
   "source": [
    "## Difference between Statistical Modelling and Machine Learning revisited"
   ]
  },
  {
   "cell_type": "markdown",
   "id": "25e7f12a-7dad-4ae2-b73d-0e228d955e92",
   "metadata": {},
   "source": [
    "Machine learning is built upon a statistical framework."
   ]
  },
  {
   "cell_type": "markdown",
   "id": "0cc71ecc-06a0-4a54-9ac8-dd8c58b37d1d",
   "metadata": {},
   "source": [
    "- The purpose of (supervised) machine learning is obtaining a model that can make repeatable predictions. In ML you typically do not care if the model is interpretable (p-value, R-squared)\n",
    "- Machine learning is all about results - likely applied in result-orientated work environments.\n",
    "- Statistical modeling is about finding relationships between variables and the significance of those relationships, whilst also catering for prediction - likely used in research centers and universities\n",
    "\n",
    "- In traditional statistical approaches, there is no concept of a training and test set and calculating performance of the model on unseen data -  there are different metrics to help us examine how our model performs\n",
    "\n",
    "- Evaluation procedure in Statistical Modelling and  different but both methods are able to give us results that are statistically robust."
   ]
  }
 ],
 "metadata": {
  "kernelspec": {
   "display_name": "Python 3 (ipykernel)",
   "language": "python",
   "name": "python3"
  },
  "language_info": {
   "codemirror_mode": {
    "name": "ipython",
    "version": 3
   },
   "file_extension": ".py",
   "mimetype": "text/x-python",
   "name": "python",
   "nbconvert_exporter": "python",
   "pygments_lexer": "ipython3",
   "version": "3.7.12"
  }
 },
 "nbformat": 4,
 "nbformat_minor": 5
}
